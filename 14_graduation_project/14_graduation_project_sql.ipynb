{
 "cells": [
  {
   "cell_type": "markdown",
   "metadata": {},
   "source": [
    "# Проект по SQL\n",
    "\n",
    "**Описание проекта**: Коронавирус застал мир врасплох, изменив привычный порядок вещей. На какое-то время жители городов перестали выходить на улицу, посещать кафе и торговые центры. Зато стало больше времени для книг. Это заметили стартаперы — и бросились создавать приложения для тех, кто любит читать.\n",
    "\n",
    "**Задачи**: \n",
    "1. Посчитайте, сколько книг вышло после 1 января 2000 года;\n",
    "2. Для каждой книги посчитайте количество обзоров и среднюю оценку;\n",
    "3. Определите издательство, которое выпустило наибольшее число книг толще 50 страниц — так вы исключите из анализа брошюры;\n",
    "4. Определите автора с самой высокой средней оценкой книг — учитывайте только книги с 50 и более оценками;\n",
    "5. Посчитайте среднее количество обзоров от пользователей, которые поставили больше 48 оценок.\n",
    " \n",
    "**Цель исследования**: Ваша компания решила быть на волне и купила крупный сервис для чтения книг по подписке. Ваша первая задача как аналитика — проанализировать базу данных.\n",
    "В ней — информация о книгах, издательствах, авторах, а также пользовательские обзоры книг. Эти данные помогут сформулировать ценностное предложение для нового продукта.\n",
    "\n",
    "## Описание данных\n",
    "\n",
    "**Таблица** `books`\n",
    "\n",
    "Содержит данные о книгах:\n",
    "\n",
    " - `book_id` — идентификатор книги;\n",
    " - `author_id` — идентификатор автора;\n",
    " - `title` — название книги;\n",
    " - `num_pages` — количество страниц;\n",
    " - `publication_date` — дата публикации книги;\n",
    " - `publisher_id` — идентификатор издателя.\n",
    " \n",
    "**Таблица** `authors`\n",
    " \n",
    "Содержит данные об авторах:\n",
    "\n",
    " - `author_id` — идентификатор автора;\n",
    " - `author` — имя автора.\n",
    "\n",
    "**Таблица** `publishers`\n",
    "\n",
    "Содержит данные об издательствах:\n",
    "\n",
    " - `publisher_id` — идентификатор издательства;\n",
    " - `publisher` — название издательства;\n",
    "\n",
    "**Таблица** `ratings`\n",
    "\n",
    "Содержит данные о пользовательских оценках книг:\n",
    "\n",
    " - `rating_id` — идентификатор оценки;\n",
    " - `book_id` — идентификатор книги;\n",
    " - `username` — имя пользователя, оставившего оценку;\n",
    " - `rating` — оценка книги.\n",
    "\n",
    "**Таблица** `reviews`\n",
    "\n",
    "Содержит данные о пользовательских обзорах:\n",
    "\n",
    " - `review_id` — идентификатор обзора;\n",
    " - `book_id` — идентификатор книги;\n",
    " - `username` — имя автора обзора;\n",
    " - `text` — текст обзора.\n",
    " \n",
    "## Схема данных\n",
    "\n",
    "\n",
    "![подпись](https://pictures.s3.yandex.net/resources/scheme_1589269096.png)"
   ]
  },
  {
   "cell_type": "code",
   "execution_count": 1,
   "metadata": {},
   "outputs": [],
   "source": [
    "# импортируем библиотеки\n",
    "import pandas as pd\n",
    "from sqlalchemy import text, create_engine"
   ]
  },
  {
   "cell_type": "code",
   "execution_count": 2,
   "metadata": {},
   "outputs": [],
   "source": [
    "# устанавливаем параметры\n",
    "db_config = {'user': 'praktikum_student', # имя пользователя\n",
    "'pwd': 'Sdf4$2;d-d30pp', # пароль\n",
    "'host': 'rc1b-wcoijxj3yxfsf3fs.mdb.yandexcloud.net',\n",
    "'port': 6432, # порт подключения\n",
    "'db': 'data-analyst-final-project-db'} # название базы данных\n",
    "connection_string = 'postgresql://{user}:{pwd}@{host}:{port}/{db}'.format(**db_config)"
   ]
  },
  {
   "cell_type": "code",
   "execution_count": 3,
   "metadata": {},
   "outputs": [],
   "source": [
    "# сохраняем коннектор\n",
    "engine = create_engine(connection_string, connect_args={'sslmode':'require'})"
   ]
  },
  {
   "cell_type": "code",
   "execution_count": 4,
   "metadata": {},
   "outputs": [
    {
     "data": {
      "text/html": [
       "<div>\n",
       "<style scoped>\n",
       "    .dataframe tbody tr th:only-of-type {\n",
       "        vertical-align: middle;\n",
       "    }\n",
       "\n",
       "    .dataframe tbody tr th {\n",
       "        vertical-align: top;\n",
       "    }\n",
       "\n",
       "    .dataframe thead th {\n",
       "        text-align: right;\n",
       "    }\n",
       "</style>\n",
       "<table border=\"1\" class=\"dataframe\">\n",
       "  <thead>\n",
       "    <tr style=\"text-align: right;\">\n",
       "      <th></th>\n",
       "      <th>book_id</th>\n",
       "      <th>author_id</th>\n",
       "      <th>title</th>\n",
       "      <th>num_pages</th>\n",
       "      <th>publication_date</th>\n",
       "      <th>publisher_id</th>\n",
       "    </tr>\n",
       "  </thead>\n",
       "  <tbody>\n",
       "    <tr>\n",
       "      <th>0</th>\n",
       "      <td>1</td>\n",
       "      <td>546</td>\n",
       "      <td>'Salem's Lot</td>\n",
       "      <td>594</td>\n",
       "      <td>2005-11-01</td>\n",
       "      <td>93</td>\n",
       "    </tr>\n",
       "    <tr>\n",
       "      <th>1</th>\n",
       "      <td>2</td>\n",
       "      <td>465</td>\n",
       "      <td>1 000 Places to See Before You Die</td>\n",
       "      <td>992</td>\n",
       "      <td>2003-05-22</td>\n",
       "      <td>336</td>\n",
       "    </tr>\n",
       "    <tr>\n",
       "      <th>2</th>\n",
       "      <td>3</td>\n",
       "      <td>407</td>\n",
       "      <td>13 Little Blue Envelopes (Little Blue Envelope...</td>\n",
       "      <td>322</td>\n",
       "      <td>2010-12-21</td>\n",
       "      <td>135</td>\n",
       "    </tr>\n",
       "    <tr>\n",
       "      <th>3</th>\n",
       "      <td>4</td>\n",
       "      <td>82</td>\n",
       "      <td>1491: New Revelations of the Americas Before C...</td>\n",
       "      <td>541</td>\n",
       "      <td>2006-10-10</td>\n",
       "      <td>309</td>\n",
       "    </tr>\n",
       "    <tr>\n",
       "      <th>4</th>\n",
       "      <td>5</td>\n",
       "      <td>125</td>\n",
       "      <td>1776</td>\n",
       "      <td>386</td>\n",
       "      <td>2006-07-04</td>\n",
       "      <td>268</td>\n",
       "    </tr>\n",
       "  </tbody>\n",
       "</table>\n",
       "</div>"
      ],
      "text/plain": [
       "   book_id  author_id                                              title  \\\n",
       "0        1        546                                       'Salem's Lot   \n",
       "1        2        465                 1 000 Places to See Before You Die   \n",
       "2        3        407  13 Little Blue Envelopes (Little Blue Envelope...   \n",
       "3        4         82  1491: New Revelations of the Americas Before C...   \n",
       "4        5        125                                               1776   \n",
       "\n",
       "   num_pages publication_date  publisher_id  \n",
       "0        594       2005-11-01            93  \n",
       "1        992       2003-05-22           336  \n",
       "2        322       2010-12-21           135  \n",
       "3        541       2006-10-10           309  \n",
       "4        386       2006-07-04           268  "
      ]
     },
     "execution_count": 4,
     "metadata": {},
     "output_type": "execute_result"
    }
   ],
   "source": [
    "# чтобы выполнить SQL-запрос, используем Pandas\n",
    "query = '''SELECT * \n",
    "           FROM books \n",
    "           LIMIT 5'''\n",
    "\n",
    "con=engine.connect()\n",
    "\n",
    "pd.io.sql.read_sql(sql=text(query), con = con)"
   ]
  },
  {
   "cell_type": "code",
   "execution_count": 5,
   "metadata": {},
   "outputs": [
    {
     "data": {
      "text/html": [
       "<div>\n",
       "<style scoped>\n",
       "    .dataframe tbody tr th:only-of-type {\n",
       "        vertical-align: middle;\n",
       "    }\n",
       "\n",
       "    .dataframe tbody tr th {\n",
       "        vertical-align: top;\n",
       "    }\n",
       "\n",
       "    .dataframe thead th {\n",
       "        text-align: right;\n",
       "    }\n",
       "</style>\n",
       "<table border=\"1\" class=\"dataframe\">\n",
       "  <thead>\n",
       "    <tr style=\"text-align: right;\">\n",
       "      <th></th>\n",
       "      <th>author_id</th>\n",
       "      <th>author</th>\n",
       "    </tr>\n",
       "  </thead>\n",
       "  <tbody>\n",
       "    <tr>\n",
       "      <th>0</th>\n",
       "      <td>1</td>\n",
       "      <td>A.S. Byatt</td>\n",
       "    </tr>\n",
       "    <tr>\n",
       "      <th>1</th>\n",
       "      <td>2</td>\n",
       "      <td>Aesop/Laura Harris/Laura Gibbs</td>\n",
       "    </tr>\n",
       "    <tr>\n",
       "      <th>2</th>\n",
       "      <td>3</td>\n",
       "      <td>Agatha Christie</td>\n",
       "    </tr>\n",
       "    <tr>\n",
       "      <th>3</th>\n",
       "      <td>4</td>\n",
       "      <td>Alan Brennert</td>\n",
       "    </tr>\n",
       "    <tr>\n",
       "      <th>4</th>\n",
       "      <td>5</td>\n",
       "      <td>Alan Moore/David   Lloyd</td>\n",
       "    </tr>\n",
       "  </tbody>\n",
       "</table>\n",
       "</div>"
      ],
      "text/plain": [
       "   author_id                          author\n",
       "0          1                      A.S. Byatt\n",
       "1          2  Aesop/Laura Harris/Laura Gibbs\n",
       "2          3                 Agatha Christie\n",
       "3          4                   Alan Brennert\n",
       "4          5        Alan Moore/David   Lloyd"
      ]
     },
     "execution_count": 5,
     "metadata": {},
     "output_type": "execute_result"
    }
   ],
   "source": [
    "query = '''SELECT * \n",
    "           FROM authors \n",
    "           LIMIT 5'''\n",
    "\n",
    "pd.io.sql.read_sql(sql=text(query), con = con)"
   ]
  },
  {
   "cell_type": "code",
   "execution_count": 6,
   "metadata": {},
   "outputs": [
    {
     "data": {
      "text/html": [
       "<div>\n",
       "<style scoped>\n",
       "    .dataframe tbody tr th:only-of-type {\n",
       "        vertical-align: middle;\n",
       "    }\n",
       "\n",
       "    .dataframe tbody tr th {\n",
       "        vertical-align: top;\n",
       "    }\n",
       "\n",
       "    .dataframe thead th {\n",
       "        text-align: right;\n",
       "    }\n",
       "</style>\n",
       "<table border=\"1\" class=\"dataframe\">\n",
       "  <thead>\n",
       "    <tr style=\"text-align: right;\">\n",
       "      <th></th>\n",
       "      <th>publisher_id</th>\n",
       "      <th>publisher</th>\n",
       "    </tr>\n",
       "  </thead>\n",
       "  <tbody>\n",
       "    <tr>\n",
       "      <th>0</th>\n",
       "      <td>1</td>\n",
       "      <td>Ace</td>\n",
       "    </tr>\n",
       "    <tr>\n",
       "      <th>1</th>\n",
       "      <td>2</td>\n",
       "      <td>Ace Book</td>\n",
       "    </tr>\n",
       "    <tr>\n",
       "      <th>2</th>\n",
       "      <td>3</td>\n",
       "      <td>Ace Books</td>\n",
       "    </tr>\n",
       "    <tr>\n",
       "      <th>3</th>\n",
       "      <td>4</td>\n",
       "      <td>Ace Hardcover</td>\n",
       "    </tr>\n",
       "    <tr>\n",
       "      <th>4</th>\n",
       "      <td>5</td>\n",
       "      <td>Addison Wesley Publishing Company</td>\n",
       "    </tr>\n",
       "  </tbody>\n",
       "</table>\n",
       "</div>"
      ],
      "text/plain": [
       "   publisher_id                          publisher\n",
       "0             1                                Ace\n",
       "1             2                           Ace Book\n",
       "2             3                          Ace Books\n",
       "3             4                      Ace Hardcover\n",
       "4             5  Addison Wesley Publishing Company"
      ]
     },
     "execution_count": 6,
     "metadata": {},
     "output_type": "execute_result"
    }
   ],
   "source": [
    "query = '''SELECT * \n",
    "           FROM publishers \n",
    "           LIMIT 5'''\n",
    "\n",
    "pd.io.sql.read_sql(sql=text(query), con = con)"
   ]
  },
  {
   "cell_type": "code",
   "execution_count": 7,
   "metadata": {},
   "outputs": [
    {
     "data": {
      "text/html": [
       "<div>\n",
       "<style scoped>\n",
       "    .dataframe tbody tr th:only-of-type {\n",
       "        vertical-align: middle;\n",
       "    }\n",
       "\n",
       "    .dataframe tbody tr th {\n",
       "        vertical-align: top;\n",
       "    }\n",
       "\n",
       "    .dataframe thead th {\n",
       "        text-align: right;\n",
       "    }\n",
       "</style>\n",
       "<table border=\"1\" class=\"dataframe\">\n",
       "  <thead>\n",
       "    <tr style=\"text-align: right;\">\n",
       "      <th></th>\n",
       "      <th>rating_id</th>\n",
       "      <th>book_id</th>\n",
       "      <th>username</th>\n",
       "      <th>rating</th>\n",
       "    </tr>\n",
       "  </thead>\n",
       "  <tbody>\n",
       "    <tr>\n",
       "      <th>0</th>\n",
       "      <td>1</td>\n",
       "      <td>1</td>\n",
       "      <td>ryanfranco</td>\n",
       "      <td>4</td>\n",
       "    </tr>\n",
       "    <tr>\n",
       "      <th>1</th>\n",
       "      <td>2</td>\n",
       "      <td>1</td>\n",
       "      <td>grantpatricia</td>\n",
       "      <td>2</td>\n",
       "    </tr>\n",
       "    <tr>\n",
       "      <th>2</th>\n",
       "      <td>3</td>\n",
       "      <td>1</td>\n",
       "      <td>brandtandrea</td>\n",
       "      <td>5</td>\n",
       "    </tr>\n",
       "    <tr>\n",
       "      <th>3</th>\n",
       "      <td>4</td>\n",
       "      <td>2</td>\n",
       "      <td>lorichen</td>\n",
       "      <td>3</td>\n",
       "    </tr>\n",
       "    <tr>\n",
       "      <th>4</th>\n",
       "      <td>5</td>\n",
       "      <td>2</td>\n",
       "      <td>mariokeller</td>\n",
       "      <td>2</td>\n",
       "    </tr>\n",
       "  </tbody>\n",
       "</table>\n",
       "</div>"
      ],
      "text/plain": [
       "   rating_id  book_id       username  rating\n",
       "0          1        1     ryanfranco       4\n",
       "1          2        1  grantpatricia       2\n",
       "2          3        1   brandtandrea       5\n",
       "3          4        2       lorichen       3\n",
       "4          5        2    mariokeller       2"
      ]
     },
     "execution_count": 7,
     "metadata": {},
     "output_type": "execute_result"
    }
   ],
   "source": [
    "query = '''SELECT * \n",
    "           FROM ratings \n",
    "           LIMIT 5'''\n",
    "\n",
    "pd.io.sql.read_sql(sql=text(query), con = con)"
   ]
  },
  {
   "cell_type": "code",
   "execution_count": 8,
   "metadata": {},
   "outputs": [
    {
     "data": {
      "text/html": [
       "<div>\n",
       "<style scoped>\n",
       "    .dataframe tbody tr th:only-of-type {\n",
       "        vertical-align: middle;\n",
       "    }\n",
       "\n",
       "    .dataframe tbody tr th {\n",
       "        vertical-align: top;\n",
       "    }\n",
       "\n",
       "    .dataframe thead th {\n",
       "        text-align: right;\n",
       "    }\n",
       "</style>\n",
       "<table border=\"1\" class=\"dataframe\">\n",
       "  <thead>\n",
       "    <tr style=\"text-align: right;\">\n",
       "      <th></th>\n",
       "      <th>review_id</th>\n",
       "      <th>book_id</th>\n",
       "      <th>username</th>\n",
       "      <th>text</th>\n",
       "    </tr>\n",
       "  </thead>\n",
       "  <tbody>\n",
       "    <tr>\n",
       "      <th>0</th>\n",
       "      <td>1</td>\n",
       "      <td>1</td>\n",
       "      <td>brandtandrea</td>\n",
       "      <td>Mention society tell send professor analysis. ...</td>\n",
       "    </tr>\n",
       "    <tr>\n",
       "      <th>1</th>\n",
       "      <td>2</td>\n",
       "      <td>1</td>\n",
       "      <td>ryanfranco</td>\n",
       "      <td>Foot glass pretty audience hit themselves. Amo...</td>\n",
       "    </tr>\n",
       "    <tr>\n",
       "      <th>2</th>\n",
       "      <td>3</td>\n",
       "      <td>2</td>\n",
       "      <td>lorichen</td>\n",
       "      <td>Listen treat keep worry. Miss husband tax but ...</td>\n",
       "    </tr>\n",
       "    <tr>\n",
       "      <th>3</th>\n",
       "      <td>4</td>\n",
       "      <td>3</td>\n",
       "      <td>johnsonamanda</td>\n",
       "      <td>Finally month interesting blue could nature cu...</td>\n",
       "    </tr>\n",
       "    <tr>\n",
       "      <th>4</th>\n",
       "      <td>5</td>\n",
       "      <td>3</td>\n",
       "      <td>scotttamara</td>\n",
       "      <td>Nation purpose heavy give wait song will. List...</td>\n",
       "    </tr>\n",
       "  </tbody>\n",
       "</table>\n",
       "</div>"
      ],
      "text/plain": [
       "   review_id  book_id       username  \\\n",
       "0          1        1   brandtandrea   \n",
       "1          2        1     ryanfranco   \n",
       "2          3        2       lorichen   \n",
       "3          4        3  johnsonamanda   \n",
       "4          5        3    scotttamara   \n",
       "\n",
       "                                                text  \n",
       "0  Mention society tell send professor analysis. ...  \n",
       "1  Foot glass pretty audience hit themselves. Amo...  \n",
       "2  Listen treat keep worry. Miss husband tax but ...  \n",
       "3  Finally month interesting blue could nature cu...  \n",
       "4  Nation purpose heavy give wait song will. List...  "
      ]
     },
     "execution_count": 8,
     "metadata": {},
     "output_type": "execute_result"
    }
   ],
   "source": [
    "query = '''SELECT * \n",
    "           FROM reviews \n",
    "           LIMIT 5'''\n",
    "\n",
    "pd.io.sql.read_sql(sql=text(query), con = con)"
   ]
  },
  {
   "cell_type": "markdown",
   "metadata": {},
   "source": [
    "Данные из таблиц, соответствуют описанию и обозначенной структуре."
   ]
  },
  {
   "cell_type": "markdown",
   "metadata": {},
   "source": [
    "**Посчитайте, сколько книг вышло после 1 января 2000 года**"
   ]
  },
  {
   "cell_type": "code",
   "execution_count": 9,
   "metadata": {},
   "outputs": [
    {
     "data": {
      "text/html": [
       "<div>\n",
       "<style scoped>\n",
       "    .dataframe tbody tr th:only-of-type {\n",
       "        vertical-align: middle;\n",
       "    }\n",
       "\n",
       "    .dataframe tbody tr th {\n",
       "        vertical-align: top;\n",
       "    }\n",
       "\n",
       "    .dataframe thead th {\n",
       "        text-align: right;\n",
       "    }\n",
       "</style>\n",
       "<table border=\"1\" class=\"dataframe\">\n",
       "  <thead>\n",
       "    <tr style=\"text-align: right;\">\n",
       "      <th></th>\n",
       "      <th>count</th>\n",
       "    </tr>\n",
       "  </thead>\n",
       "  <tbody>\n",
       "    <tr>\n",
       "      <th>0</th>\n",
       "      <td>819</td>\n",
       "    </tr>\n",
       "  </tbody>\n",
       "</table>\n",
       "</div>"
      ],
      "text/plain": [
       "   count\n",
       "0    819"
      ]
     },
     "execution_count": 9,
     "metadata": {},
     "output_type": "execute_result"
    }
   ],
   "source": [
    "query = '''SELECT COUNT(book_id) \n",
    "           FROM books\n",
    "           WHERE publication_date > '2000-01-01' '''\n",
    "\n",
    "pd.io.sql.read_sql(sql=text(query), con = con)"
   ]
  },
  {
   "cell_type": "markdown",
   "metadata": {},
   "source": [
    "После 1 января 2000 года вышло 819 книг."
   ]
  },
  {
   "cell_type": "markdown",
   "metadata": {},
   "source": [
    "**Для каждой книги посчитайте количество обзоров и среднюю оценку**"
   ]
  },
  {
   "cell_type": "code",
   "execution_count": 10,
   "metadata": {},
   "outputs": [
    {
     "data": {
      "text/html": [
       "<div>\n",
       "<style scoped>\n",
       "    .dataframe tbody tr th:only-of-type {\n",
       "        vertical-align: middle;\n",
       "    }\n",
       "\n",
       "    .dataframe tbody tr th {\n",
       "        vertical-align: top;\n",
       "    }\n",
       "\n",
       "    .dataframe thead th {\n",
       "        text-align: right;\n",
       "    }\n",
       "</style>\n",
       "<table border=\"1\" class=\"dataframe\">\n",
       "  <thead>\n",
       "    <tr style=\"text-align: right;\">\n",
       "      <th></th>\n",
       "      <th>book_id</th>\n",
       "      <th>title</th>\n",
       "      <th>num_reviews</th>\n",
       "      <th>avg_rating</th>\n",
       "    </tr>\n",
       "  </thead>\n",
       "  <tbody>\n",
       "    <tr>\n",
       "      <th>0</th>\n",
       "      <td>1</td>\n",
       "      <td>'Salem's Lot</td>\n",
       "      <td>2</td>\n",
       "      <td>3.666667</td>\n",
       "    </tr>\n",
       "    <tr>\n",
       "      <th>1</th>\n",
       "      <td>2</td>\n",
       "      <td>1 000 Places to See Before You Die</td>\n",
       "      <td>1</td>\n",
       "      <td>2.500000</td>\n",
       "    </tr>\n",
       "    <tr>\n",
       "      <th>2</th>\n",
       "      <td>3</td>\n",
       "      <td>13 Little Blue Envelopes (Little Blue Envelope...</td>\n",
       "      <td>3</td>\n",
       "      <td>4.666667</td>\n",
       "    </tr>\n",
       "    <tr>\n",
       "      <th>3</th>\n",
       "      <td>4</td>\n",
       "      <td>1491: New Revelations of the Americas Before C...</td>\n",
       "      <td>2</td>\n",
       "      <td>4.500000</td>\n",
       "    </tr>\n",
       "    <tr>\n",
       "      <th>4</th>\n",
       "      <td>5</td>\n",
       "      <td>1776</td>\n",
       "      <td>4</td>\n",
       "      <td>4.000000</td>\n",
       "    </tr>\n",
       "    <tr>\n",
       "      <th>...</th>\n",
       "      <td>...</td>\n",
       "      <td>...</td>\n",
       "      <td>...</td>\n",
       "      <td>...</td>\n",
       "    </tr>\n",
       "    <tr>\n",
       "      <th>995</th>\n",
       "      <td>996</td>\n",
       "      <td>Wyrd Sisters (Discworld  #6; Witches #2)</td>\n",
       "      <td>3</td>\n",
       "      <td>3.666667</td>\n",
       "    </tr>\n",
       "    <tr>\n",
       "      <th>996</th>\n",
       "      <td>997</td>\n",
       "      <td>Xenocide (Ender's Saga  #3)</td>\n",
       "      <td>3</td>\n",
       "      <td>3.400000</td>\n",
       "    </tr>\n",
       "    <tr>\n",
       "      <th>997</th>\n",
       "      <td>998</td>\n",
       "      <td>Year of Wonders</td>\n",
       "      <td>4</td>\n",
       "      <td>3.200000</td>\n",
       "    </tr>\n",
       "    <tr>\n",
       "      <th>998</th>\n",
       "      <td>999</td>\n",
       "      <td>You Suck (A Love Story  #2)</td>\n",
       "      <td>2</td>\n",
       "      <td>4.500000</td>\n",
       "    </tr>\n",
       "    <tr>\n",
       "      <th>999</th>\n",
       "      <td>1000</td>\n",
       "      <td>Zen and the Art of Motorcycle Maintenance: An ...</td>\n",
       "      <td>4</td>\n",
       "      <td>3.833333</td>\n",
       "    </tr>\n",
       "  </tbody>\n",
       "</table>\n",
       "<p>1000 rows × 4 columns</p>\n",
       "</div>"
      ],
      "text/plain": [
       "     book_id                                              title  num_reviews  \\\n",
       "0          1                                       'Salem's Lot            2   \n",
       "1          2                 1 000 Places to See Before You Die            1   \n",
       "2          3  13 Little Blue Envelopes (Little Blue Envelope...            3   \n",
       "3          4  1491: New Revelations of the Americas Before C...            2   \n",
       "4          5                                               1776            4   \n",
       "..       ...                                                ...          ...   \n",
       "995      996           Wyrd Sisters (Discworld  #6; Witches #2)            3   \n",
       "996      997                        Xenocide (Ender's Saga  #3)            3   \n",
       "997      998                                    Year of Wonders            4   \n",
       "998      999                        You Suck (A Love Story  #2)            2   \n",
       "999     1000  Zen and the Art of Motorcycle Maintenance: An ...            4   \n",
       "\n",
       "     avg_rating  \n",
       "0      3.666667  \n",
       "1      2.500000  \n",
       "2      4.666667  \n",
       "3      4.500000  \n",
       "4      4.000000  \n",
       "..          ...  \n",
       "995    3.666667  \n",
       "996    3.400000  \n",
       "997    3.200000  \n",
       "998    4.500000  \n",
       "999    3.833333  \n",
       "\n",
       "[1000 rows x 4 columns]"
      ]
     },
     "execution_count": 10,
     "metadata": {},
     "output_type": "execute_result"
    }
   ],
   "source": [
    "query = '''SELECT b.book_id,\n",
    "                  b.title,\n",
    "                  COUNT(DISTINCT re.review_id) AS num_reviews,\n",
    "                  AVG(ra.rating) AS avg_rating\n",
    "           FROM books AS b\n",
    "           LEFT JOIN reviews AS re ON b.book_id = re.book_id\n",
    "           JOIN ratings AS ra ON b.book_id = ra.book_id\n",
    "           GROUP BY b.book_id'''\n",
    "\n",
    "pd.io.sql.read_sql(sql=text(query), con = con)"
   ]
  },
  {
   "cell_type": "markdown",
   "metadata": {},
   "source": [
    "Посчитано количество обзоров и средняя оценка по каждой из книг."
   ]
  },
  {
   "cell_type": "markdown",
   "metadata": {},
   "source": [
    "**Определите издательство, которое выпустило наибольшее число книг толще 50 страниц — так вы исключите из анализа брошюры**"
   ]
  },
  {
   "cell_type": "code",
   "execution_count": 11,
   "metadata": {},
   "outputs": [
    {
     "data": {
      "text/html": [
       "<div>\n",
       "<style scoped>\n",
       "    .dataframe tbody tr th:only-of-type {\n",
       "        vertical-align: middle;\n",
       "    }\n",
       "\n",
       "    .dataframe tbody tr th {\n",
       "        vertical-align: top;\n",
       "    }\n",
       "\n",
       "    .dataframe thead th {\n",
       "        text-align: right;\n",
       "    }\n",
       "</style>\n",
       "<table border=\"1\" class=\"dataframe\">\n",
       "  <thead>\n",
       "    <tr style=\"text-align: right;\">\n",
       "      <th></th>\n",
       "      <th>publisher</th>\n",
       "      <th>count</th>\n",
       "    </tr>\n",
       "  </thead>\n",
       "  <tbody>\n",
       "    <tr>\n",
       "      <th>0</th>\n",
       "      <td>Penguin Books</td>\n",
       "      <td>42</td>\n",
       "    </tr>\n",
       "  </tbody>\n",
       "</table>\n",
       "</div>"
      ],
      "text/plain": [
       "       publisher  count\n",
       "0  Penguin Books     42"
      ]
     },
     "execution_count": 11,
     "metadata": {},
     "output_type": "execute_result"
    }
   ],
   "source": [
    "query = '''SELECT p.publisher,\n",
    "                  COUNT(b.book_id)\n",
    "           FROM publishers AS p\n",
    "           JOIN books AS b ON b.publisher_id = p.publisher_id\n",
    "           WHERE b.num_pages > 50\n",
    "           GROUP BY p.publisher\n",
    "           ORDER BY COUNT(b.book_id) DESC\n",
    "           LIMIT 1'''\n",
    "\n",
    "pd.io.sql.read_sql(sql=text(query), con = con)"
   ]
  },
  {
   "cell_type": "markdown",
   "metadata": {},
   "source": [
    "Penguin Books является издательством, выпустившее наибольшее число книг толще 50 страниц."
   ]
  },
  {
   "cell_type": "markdown",
   "metadata": {},
   "source": [
    "**Определите автора с самой высокой средней оценкой книг — учитывайте только книги с 50 и более оценками**"
   ]
  },
  {
   "cell_type": "code",
   "execution_count": 12,
   "metadata": {},
   "outputs": [
    {
     "data": {
      "text/html": [
       "<div>\n",
       "<style scoped>\n",
       "    .dataframe tbody tr th:only-of-type {\n",
       "        vertical-align: middle;\n",
       "    }\n",
       "\n",
       "    .dataframe tbody tr th {\n",
       "        vertical-align: top;\n",
       "    }\n",
       "\n",
       "    .dataframe thead th {\n",
       "        text-align: right;\n",
       "    }\n",
       "</style>\n",
       "<table border=\"1\" class=\"dataframe\">\n",
       "  <thead>\n",
       "    <tr style=\"text-align: right;\">\n",
       "      <th></th>\n",
       "      <th>author</th>\n",
       "      <th>avg</th>\n",
       "    </tr>\n",
       "  </thead>\n",
       "  <tbody>\n",
       "    <tr>\n",
       "      <th>0</th>\n",
       "      <td>J.K. Rowling/Mary GrandPré</td>\n",
       "      <td>4.287097</td>\n",
       "    </tr>\n",
       "  </tbody>\n",
       "</table>\n",
       "</div>"
      ],
      "text/plain": [
       "                       author       avg\n",
       "0  J.K. Rowling/Mary GrandPré  4.287097"
      ]
     },
     "execution_count": 12,
     "metadata": {},
     "output_type": "execute_result"
    }
   ],
   "source": [
    "query = '''SELECT a.author,\n",
    "                  AVG(r.rating)\n",
    "           FROM authors AS a\n",
    "           JOIN (SELECT b.author_id, b.book_id\n",
    "                 FROM books AS b\n",
    "                 JOIN ratings AS r ON b.book_id = r.book_id\n",
    "                 GROUP BY b.book_id\n",
    "                 HAVING COUNT(r.rating_id) >= 50) AS filtered_books ON a.author_id = filtered_books.author_id\n",
    "           JOIN ratings AS r ON filtered_books.book_id = r.book_id\n",
    "           GROUP BY a.author\n",
    "           HAVING COUNT(r.rating_id) >= 50\n",
    "           ORDER BY AVG(r.rating) DESC\n",
    "           LIMIT 1'''\n",
    "\n",
    "pd.io.sql.read_sql(sql=text(query), con = con)"
   ]
  },
  {
   "cell_type": "markdown",
   "metadata": {},
   "source": [
    "J.K. Rowling/Mary GrandPré является автором с самой высокой средней оценкой книг — учитывайте только книги с 50 и более оценками."
   ]
  },
  {
   "cell_type": "markdown",
   "metadata": {},
   "source": [
    "**Посчитайте среднее количество обзоров от пользователей, которые поставили больше 48 оценок**"
   ]
  },
  {
   "cell_type": "code",
   "execution_count": 13,
   "metadata": {},
   "outputs": [
    {
     "data": {
      "text/html": [
       "<div>\n",
       "<style scoped>\n",
       "    .dataframe tbody tr th:only-of-type {\n",
       "        vertical-align: middle;\n",
       "    }\n",
       "\n",
       "    .dataframe tbody tr th {\n",
       "        vertical-align: top;\n",
       "    }\n",
       "\n",
       "    .dataframe thead th {\n",
       "        text-align: right;\n",
       "    }\n",
       "</style>\n",
       "<table border=\"1\" class=\"dataframe\">\n",
       "  <thead>\n",
       "    <tr style=\"text-align: right;\">\n",
       "      <th></th>\n",
       "      <th>avg</th>\n",
       "    </tr>\n",
       "  </thead>\n",
       "  <tbody>\n",
       "    <tr>\n",
       "      <th>0</th>\n",
       "      <td>24.0</td>\n",
       "    </tr>\n",
       "  </tbody>\n",
       "</table>\n",
       "</div>"
      ],
      "text/plain": [
       "    avg\n",
       "0  24.0"
      ]
     },
     "execution_count": 13,
     "metadata": {},
     "output_type": "execute_result"
    }
   ],
   "source": [
    "query = '''SELECT AVG(total_reviews)\n",
    "           FROM (SELECT username,\n",
    "                        COUNT(rating_id) AS total_ratings\n",
    "                 FROM ratings\n",
    "                 GROUP BY username\n",
    "                 HAVING COUNT(rating_id) > 48) AS rated_users\n",
    "           JOIN (SELECT username,\n",
    "                        COUNT(review_id) AS total_reviews\n",
    "                 FROM reviews\n",
    "                 GROUP BY username) AS reviewed_users ON rated_users.username = reviewed_users.username'''\n",
    "\n",
    "pd.io.sql.read_sql(sql=text(query), con = con)"
   ]
  },
  {
   "cell_type": "markdown",
   "metadata": {},
   "source": [
    "Среди пользователей, которые поставили больше 48 оценок, среднее количество обзоров составляет 24."
   ]
  },
  {
   "cell_type": "markdown",
   "metadata": {},
   "source": [
    "## Общий вывод\n",
    "\n",
    "1. Данные из таблиц, соответствуют описанию и обозначенной структуре.\n",
    "2. После 1 января 2000 года вышло 819 книг.\n",
    "3. Посчитано количество обзоров и средняя оценка по каждой из книг.\n",
    "4. Penguin Books является издательством, выпустившее наибольшее число книг толще 50 страниц.\n",
    "5. J.K. Rowling/Mary GrandPré является автором с самой высокой средней оценкой книг — учитывайте только книги с 50 и более оценками.\n",
    "6. Среди пользователей, которые поставили больше 48 оценок, среднее количество обзоров составляет 24.\n",
    "\n",
    "**Рекомендации**: Заказчику рекомендуется сосредоточить внимание на книгах, изданным Penguin Books. Также рекомендуется рассмотреть сотрудничество с автором J.K. Rowling/Mary GrandPré, чьи книги получили высокие оценки читателей."
   ]
  }
 ],
 "metadata": {
  "ExecuteTimeLog": [
   {
    "duration": 549,
    "start_time": "2024-03-11T05:58:06.804Z"
   },
   {
    "duration": 4,
    "start_time": "2024-03-11T05:58:11.329Z"
   },
   {
    "duration": 10641,
    "start_time": "2024-03-11T05:58:15.609Z"
   },
   {
    "duration": 99,
    "start_time": "2024-03-11T05:58:26.252Z"
   },
   {
    "duration": 9,
    "start_time": "2024-03-11T05:58:26.353Z"
   },
   {
    "duration": 14,
    "start_time": "2024-03-11T05:58:34.304Z"
   },
   {
    "duration": 12,
    "start_time": "2024-03-11T05:58:40.511Z"
   },
   {
    "duration": 12,
    "start_time": "2024-03-11T05:58:46.327Z"
   },
   {
    "duration": 12,
    "start_time": "2024-03-11T05:58:52.050Z"
   },
   {
    "duration": 134,
    "start_time": "2024-03-11T05:59:14.741Z"
   },
   {
    "duration": 28,
    "start_time": "2024-03-11T05:59:24.349Z"
   },
   {
    "duration": 10,
    "start_time": "2024-03-11T06:19:32.690Z"
   },
   {
    "duration": 10,
    "start_time": "2024-03-11T06:23:36.080Z"
   },
   {
    "duration": 14,
    "start_time": "2024-03-11T06:24:05.230Z"
   },
   {
    "duration": 115,
    "start_time": "2024-03-11T06:25:48.768Z"
   },
   {
    "duration": 13,
    "start_time": "2024-03-11T06:28:43.036Z"
   },
   {
    "duration": 22,
    "start_time": "2024-03-11T06:29:16.906Z"
   },
   {
    "duration": 20,
    "start_time": "2024-03-11T06:30:37.390Z"
   },
   {
    "duration": 21,
    "start_time": "2024-03-11T06:31:14.938Z"
   },
   {
    "duration": 21,
    "start_time": "2024-03-11T06:36:04.019Z"
   },
   {
    "duration": 20,
    "start_time": "2024-03-11T06:36:28.317Z"
   },
   {
    "duration": 20,
    "start_time": "2024-03-11T06:38:15.494Z"
   },
   {
    "duration": 21,
    "start_time": "2024-03-11T06:39:09.442Z"
   },
   {
    "duration": 14,
    "start_time": "2024-03-11T06:39:11.386Z"
   },
   {
    "duration": 14,
    "start_time": "2024-03-11T06:40:07.245Z"
   },
   {
    "duration": 97,
    "start_time": "2024-03-11T06:40:19.707Z"
   },
   {
    "duration": 95,
    "start_time": "2024-03-11T06:40:47.827Z"
   },
   {
    "duration": 16,
    "start_time": "2024-03-11T06:40:59.289Z"
   },
   {
    "duration": 14,
    "start_time": "2024-03-11T06:41:45.287Z"
   },
   {
    "duration": 11,
    "start_time": "2024-03-11T06:42:02.805Z"
   },
   {
    "duration": 11,
    "start_time": "2024-03-11T06:42:22.148Z"
   },
   {
    "duration": 11,
    "start_time": "2024-03-11T06:43:48.685Z"
   },
   {
    "duration": 595,
    "start_time": "2024-03-11T06:44:33.081Z"
   },
   {
    "duration": 4,
    "start_time": "2024-03-11T06:44:33.679Z"
   },
   {
    "duration": 11229,
    "start_time": "2024-03-11T06:44:33.685Z"
   },
   {
    "duration": 50,
    "start_time": "2024-03-11T06:44:44.916Z"
   },
   {
    "duration": 9,
    "start_time": "2024-03-11T06:44:44.968Z"
   },
   {
    "duration": 9,
    "start_time": "2024-03-11T06:44:44.978Z"
   },
   {
    "duration": 17,
    "start_time": "2024-03-11T06:44:44.989Z"
   },
   {
    "duration": 12,
    "start_time": "2024-03-11T06:44:45.009Z"
   },
   {
    "duration": 112,
    "start_time": "2024-03-11T06:44:45.023Z"
   },
   {
    "duration": 0,
    "start_time": "2024-03-11T06:44:45.137Z"
   },
   {
    "duration": 0,
    "start_time": "2024-03-11T06:44:45.138Z"
   },
   {
    "duration": 10,
    "start_time": "2024-03-11T06:44:54.968Z"
   },
   {
    "duration": 9,
    "start_time": "2024-03-11T06:45:07.640Z"
   },
   {
    "duration": 580,
    "start_time": "2024-03-11T06:45:15.101Z"
   },
   {
    "duration": 9,
    "start_time": "2024-03-11T06:45:15.687Z"
   },
   {
    "duration": 11206,
    "start_time": "2024-03-11T06:45:15.703Z"
   },
   {
    "duration": 54,
    "start_time": "2024-03-11T06:45:26.912Z"
   },
   {
    "duration": 10,
    "start_time": "2024-03-11T06:45:26.968Z"
   },
   {
    "duration": 40,
    "start_time": "2024-03-11T06:45:26.979Z"
   },
   {
    "duration": 19,
    "start_time": "2024-03-11T06:45:27.021Z"
   },
   {
    "duration": 31,
    "start_time": "2024-03-11T06:45:27.042Z"
   },
   {
    "duration": 15,
    "start_time": "2024-03-11T06:45:27.074Z"
   },
   {
    "duration": 38,
    "start_time": "2024-03-11T06:45:27.091Z"
   },
   {
    "duration": 10,
    "start_time": "2024-03-11T06:45:27.131Z"
   },
   {
    "duration": 29,
    "start_time": "2024-03-11T06:46:10.756Z"
   },
   {
    "duration": 99,
    "start_time": "2024-03-11T06:52:06.828Z"
   },
   {
    "duration": 21,
    "start_time": "2024-03-11T06:54:27.579Z"
   },
   {
    "duration": 25,
    "start_time": "2024-03-11T06:57:05.815Z"
   },
   {
    "duration": 23,
    "start_time": "2024-03-11T06:57:22.807Z"
   },
   {
    "duration": 21,
    "start_time": "2024-03-11T06:58:09.451Z"
   },
   {
    "duration": 21,
    "start_time": "2024-03-11T06:59:41.957Z"
   },
   {
    "duration": 22,
    "start_time": "2024-03-11T06:59:49.764Z"
   },
   {
    "duration": 23,
    "start_time": "2024-03-11T07:00:15.707Z"
   },
   {
    "duration": 24,
    "start_time": "2024-03-11T07:00:32.369Z"
   },
   {
    "duration": 16,
    "start_time": "2024-03-11T07:00:43.864Z"
   },
   {
    "duration": 21,
    "start_time": "2024-03-11T07:03:04.305Z"
   },
   {
    "duration": 17,
    "start_time": "2024-03-11T07:03:13.552Z"
   },
   {
    "duration": 21,
    "start_time": "2024-03-11T07:04:10.706Z"
   },
   {
    "duration": 21,
    "start_time": "2024-03-11T07:10:05.901Z"
   },
   {
    "duration": 21,
    "start_time": "2024-03-11T07:10:26.546Z"
   },
   {
    "duration": 18,
    "start_time": "2024-03-11T07:10:39.361Z"
   },
   {
    "duration": 20,
    "start_time": "2024-03-11T07:12:57.424Z"
   },
   {
    "duration": 20,
    "start_time": "2024-03-11T07:13:28.518Z"
   },
   {
    "duration": 12,
    "start_time": "2024-03-11T07:14:45.169Z"
   },
   {
    "duration": 17,
    "start_time": "2024-03-11T07:16:19.921Z"
   },
   {
    "duration": 565,
    "start_time": "2024-03-11T07:16:52.127Z"
   },
   {
    "duration": 13,
    "start_time": "2024-03-11T07:16:52.695Z"
   },
   {
    "duration": 11031,
    "start_time": "2024-03-11T07:16:52.710Z"
   },
   {
    "duration": 57,
    "start_time": "2024-03-11T07:17:03.743Z"
   },
   {
    "duration": 10,
    "start_time": "2024-03-11T07:17:03.802Z"
   },
   {
    "duration": 35,
    "start_time": "2024-03-11T07:17:03.814Z"
   },
   {
    "duration": 13,
    "start_time": "2024-03-11T07:17:03.851Z"
   },
   {
    "duration": 29,
    "start_time": "2024-03-11T07:17:03.866Z"
   },
   {
    "duration": 15,
    "start_time": "2024-03-11T07:17:03.896Z"
   },
   {
    "duration": 45,
    "start_time": "2024-03-11T07:17:03.914Z"
   },
   {
    "duration": 12,
    "start_time": "2024-03-11T07:17:03.961Z"
   },
   {
    "duration": 25,
    "start_time": "2024-03-11T07:17:03.974Z"
   },
   {
    "duration": 10,
    "start_time": "2024-03-11T07:19:45.716Z"
   },
   {
    "duration": 15,
    "start_time": "2024-03-11T07:24:28.696Z"
   },
   {
    "duration": 88,
    "start_time": "2024-03-11T07:24:40.287Z"
   },
   {
    "duration": 15,
    "start_time": "2024-03-11T07:27:21.630Z"
   },
   {
    "duration": 35,
    "start_time": "2024-03-11T07:30:39.319Z"
   },
   {
    "duration": 33,
    "start_time": "2024-03-11T07:31:23.827Z"
   },
   {
    "duration": 16,
    "start_time": "2024-03-11T07:34:31.782Z"
   },
   {
    "duration": 15,
    "start_time": "2024-03-11T07:34:37.677Z"
   },
   {
    "duration": 14,
    "start_time": "2024-03-11T07:34:41.477Z"
   },
   {
    "duration": 18,
    "start_time": "2024-03-11T07:37:36.905Z"
   },
   {
    "duration": 537,
    "start_time": "2024-03-11T07:38:26.416Z"
   },
   {
    "duration": 4,
    "start_time": "2024-03-11T07:38:26.955Z"
   },
   {
    "duration": 11333,
    "start_time": "2024-03-11T07:38:26.961Z"
   },
   {
    "duration": 50,
    "start_time": "2024-03-11T07:38:38.296Z"
   },
   {
    "duration": 10,
    "start_time": "2024-03-11T07:38:38.347Z"
   },
   {
    "duration": 32,
    "start_time": "2024-03-11T07:38:38.358Z"
   },
   {
    "duration": 20,
    "start_time": "2024-03-11T07:38:38.392Z"
   },
   {
    "duration": 10,
    "start_time": "2024-03-11T07:38:38.414Z"
   },
   {
    "duration": 19,
    "start_time": "2024-03-11T07:38:38.426Z"
   },
   {
    "duration": 34,
    "start_time": "2024-03-11T07:38:38.447Z"
   },
   {
    "duration": 10,
    "start_time": "2024-03-11T07:38:38.483Z"
   },
   {
    "duration": 38,
    "start_time": "2024-03-11T07:38:38.495Z"
   },
   {
    "duration": 28,
    "start_time": "2024-03-11T07:38:38.534Z"
   },
   {
    "duration": 103,
    "start_time": "2024-03-11T07:40:55.132Z"
   },
   {
    "duration": 481,
    "start_time": "2024-03-11T21:54:26.017Z"
   },
   {
    "duration": 3,
    "start_time": "2024-03-11T21:54:26.500Z"
   },
   {
    "duration": 10806,
    "start_time": "2024-03-11T21:54:26.504Z"
   },
   {
    "duration": 57,
    "start_time": "2024-03-11T21:54:37.311Z"
   },
   {
    "duration": 10,
    "start_time": "2024-03-11T21:54:37.370Z"
   },
   {
    "duration": 9,
    "start_time": "2024-03-11T21:54:37.381Z"
   },
   {
    "duration": 10,
    "start_time": "2024-03-11T21:54:37.392Z"
   },
   {
    "duration": 10,
    "start_time": "2024-03-11T21:54:37.403Z"
   },
   {
    "duration": 8,
    "start_time": "2024-03-11T21:54:37.415Z"
   },
   {
    "duration": 33,
    "start_time": "2024-03-11T21:54:37.424Z"
   },
   {
    "duration": 21,
    "start_time": "2024-03-11T21:54:37.458Z"
   },
   {
    "duration": 14,
    "start_time": "2024-03-11T21:54:37.481Z"
   },
   {
    "duration": 17,
    "start_time": "2024-03-11T21:54:37.496Z"
   },
   {
    "duration": 56,
    "start_time": "2024-03-12T05:49:38.601Z"
   },
   {
    "duration": 555,
    "start_time": "2024-03-12T05:49:45.241Z"
   },
   {
    "duration": 4,
    "start_time": "2024-03-12T05:49:45.798Z"
   },
   {
    "duration": 13209,
    "start_time": "2024-03-12T05:49:45.803Z"
   },
   {
    "duration": 229,
    "start_time": "2024-03-12T05:49:59.014Z"
   },
   {
    "duration": 30,
    "start_time": "2024-03-12T05:49:59.245Z"
   },
   {
    "duration": 29,
    "start_time": "2024-03-12T05:49:59.277Z"
   },
   {
    "duration": 31,
    "start_time": "2024-03-12T05:49:59.308Z"
   },
   {
    "duration": 31,
    "start_time": "2024-03-12T05:49:59.341Z"
   },
   {
    "duration": 29,
    "start_time": "2024-03-12T05:49:59.374Z"
   },
   {
    "duration": 69,
    "start_time": "2024-03-12T05:49:59.405Z"
   },
   {
    "duration": 31,
    "start_time": "2024-03-12T05:49:59.476Z"
   },
   {
    "duration": 34,
    "start_time": "2024-03-12T05:49:59.508Z"
   },
   {
    "duration": 36,
    "start_time": "2024-03-12T05:49:59.544Z"
   },
   {
    "duration": 133,
    "start_time": "2024-03-12T05:50:58.789Z"
   },
   {
    "duration": 62,
    "start_time": "2024-03-12T05:51:25.187Z"
   },
   {
    "duration": 53,
    "start_time": "2024-03-12T05:53:00.404Z"
   },
   {
    "duration": 59,
    "start_time": "2024-03-12T05:53:07.891Z"
   },
   {
    "duration": 51,
    "start_time": "2024-03-12T06:10:18.315Z"
   },
   {
    "duration": 48,
    "start_time": "2024-03-12T06:10:53.817Z"
   },
   {
    "duration": 535,
    "start_time": "2024-03-12T06:15:42.044Z"
   },
   {
    "duration": 3,
    "start_time": "2024-03-12T06:15:42.581Z"
   },
   {
    "duration": 8157,
    "start_time": "2024-03-12T06:15:42.585Z"
   },
   {
    "duration": 221,
    "start_time": "2024-03-12T06:15:50.744Z"
   },
   {
    "duration": 29,
    "start_time": "2024-03-12T06:15:50.967Z"
   },
   {
    "duration": 28,
    "start_time": "2024-03-12T06:15:50.997Z"
   },
   {
    "duration": 30,
    "start_time": "2024-03-12T06:15:51.027Z"
   },
   {
    "duration": 30,
    "start_time": "2024-03-12T06:15:51.058Z"
   },
   {
    "duration": 27,
    "start_time": "2024-03-12T06:15:51.089Z"
   },
   {
    "duration": 50,
    "start_time": "2024-03-12T06:15:51.119Z"
   },
   {
    "duration": 29,
    "start_time": "2024-03-12T06:15:51.171Z"
   },
   {
    "duration": 34,
    "start_time": "2024-03-12T06:15:51.201Z"
   },
   {
    "duration": 37,
    "start_time": "2024-03-12T06:15:51.236Z"
   },
   {
    "duration": 49,
    "start_time": "2024-03-12T06:16:32.609Z"
   },
   {
    "duration": 48,
    "start_time": "2024-03-12T06:16:37.265Z"
   },
   {
    "duration": 49,
    "start_time": "2024-03-12T06:20:57.743Z"
   },
   {
    "duration": 85,
    "start_time": "2024-03-12T06:21:54.627Z"
   },
   {
    "duration": 32,
    "start_time": "2024-03-12T06:34:27.232Z"
   },
   {
    "duration": 31,
    "start_time": "2024-03-12T06:35:11.493Z"
   },
   {
    "duration": 34,
    "start_time": "2024-03-12T06:39:08.765Z"
   },
   {
    "duration": 109,
    "start_time": "2024-03-12T06:39:30.435Z"
   },
   {
    "duration": 45,
    "start_time": "2024-03-12T06:39:34.987Z"
   },
   {
    "duration": 34,
    "start_time": "2024-03-12T06:40:02.401Z"
   },
   {
    "duration": 507,
    "start_time": "2024-03-12T06:43:10.833Z"
   },
   {
    "duration": 3,
    "start_time": "2024-03-12T06:43:11.342Z"
   },
   {
    "duration": 8126,
    "start_time": "2024-03-12T06:43:11.347Z"
   },
   {
    "duration": 223,
    "start_time": "2024-03-12T06:43:19.475Z"
   },
   {
    "duration": 31,
    "start_time": "2024-03-12T06:43:19.700Z"
   },
   {
    "duration": 45,
    "start_time": "2024-03-12T06:43:19.734Z"
   },
   {
    "duration": 32,
    "start_time": "2024-03-12T06:43:19.781Z"
   },
   {
    "duration": 41,
    "start_time": "2024-03-12T06:43:19.815Z"
   },
   {
    "duration": 28,
    "start_time": "2024-03-12T06:43:19.858Z"
   },
   {
    "duration": 50,
    "start_time": "2024-03-12T06:43:19.888Z"
   },
   {
    "duration": 31,
    "start_time": "2024-03-12T06:43:19.940Z"
   },
   {
    "duration": 33,
    "start_time": "2024-03-12T06:43:19.972Z"
   },
   {
    "duration": 36,
    "start_time": "2024-03-12T06:43:20.007Z"
   },
   {
    "duration": 91,
    "start_time": "2024-03-12T06:58:44.981Z"
   },
   {
    "duration": 112,
    "start_time": "2024-03-12T06:58:50.979Z"
   },
   {
    "duration": 69,
    "start_time": "2024-03-12T06:59:07.827Z"
   },
   {
    "duration": 42,
    "start_time": "2024-03-12T06:59:13.971Z"
   },
   {
    "duration": 32,
    "start_time": "2024-03-12T06:59:38.824Z"
   },
   {
    "duration": 48,
    "start_time": "2024-03-12T07:00:11.182Z"
   },
   {
    "duration": 42,
    "start_time": "2024-03-12T07:00:22.822Z"
   },
   {
    "duration": 58,
    "start_time": "2024-03-12T07:07:56.454Z"
   },
   {
    "duration": 61,
    "start_time": "2024-03-12T07:08:57.212Z"
   },
   {
    "duration": 59,
    "start_time": "2024-03-12T07:09:22.904Z"
   },
   {
    "duration": 58,
    "start_time": "2024-03-12T07:09:33.120Z"
   },
   {
    "duration": 60,
    "start_time": "2024-03-12T07:10:13.925Z"
   },
   {
    "duration": 62,
    "start_time": "2024-03-12T07:10:43.868Z"
   },
   {
    "duration": 31,
    "start_time": "2024-03-12T07:11:13.569Z"
   },
   {
    "duration": 31,
    "start_time": "2024-03-12T07:12:49.596Z"
   },
   {
    "duration": 62,
    "start_time": "2024-03-12T07:13:01.458Z"
   },
   {
    "duration": 60,
    "start_time": "2024-03-12T07:13:43.710Z"
   },
   {
    "duration": 59,
    "start_time": "2024-03-12T07:13:50.752Z"
   },
   {
    "duration": 62,
    "start_time": "2024-03-12T07:13:58.486Z"
   },
   {
    "duration": 59,
    "start_time": "2024-03-12T07:16:18.428Z"
   },
   {
    "duration": 62,
    "start_time": "2024-03-12T07:16:25.947Z"
   },
   {
    "duration": 52,
    "start_time": "2024-03-12T07:16:45.699Z"
   },
   {
    "duration": 70,
    "start_time": "2024-03-12T07:16:48.986Z"
   },
   {
    "duration": 60,
    "start_time": "2024-03-12T07:17:12.433Z"
   },
   {
    "duration": 33,
    "start_time": "2024-03-12T07:18:46.276Z"
   },
   {
    "duration": 270,
    "start_time": "2024-03-12T07:21:59.549Z"
   },
   {
    "duration": 59,
    "start_time": "2024-03-12T07:26:23.715Z"
   },
   {
    "duration": 51,
    "start_time": "2024-03-12T07:28:27.508Z"
   },
   {
    "duration": 58,
    "start_time": "2024-03-12T07:28:56.744Z"
   },
   {
    "duration": 59,
    "start_time": "2024-03-12T07:29:00.192Z"
   },
   {
    "duration": 42,
    "start_time": "2024-03-12T07:31:16.879Z"
   },
   {
    "duration": 33,
    "start_time": "2024-03-12T07:33:05.942Z"
   },
   {
    "duration": 32,
    "start_time": "2024-03-12T07:34:36.448Z"
   },
   {
    "duration": 32,
    "start_time": "2024-03-12T07:36:11.465Z"
   },
   {
    "duration": 49,
    "start_time": "2024-03-12T07:36:45.847Z"
   },
   {
    "duration": 44,
    "start_time": "2024-03-12T07:36:51.583Z"
   },
   {
    "duration": 31,
    "start_time": "2024-03-12T07:38:31.920Z"
   },
   {
    "duration": 31,
    "start_time": "2024-03-12T07:39:38.644Z"
   },
   {
    "duration": 606,
    "start_time": "2024-03-12T15:18:20.813Z"
   },
   {
    "duration": 3,
    "start_time": "2024-03-12T15:18:21.420Z"
   },
   {
    "duration": 10694,
    "start_time": "2024-03-12T15:18:21.425Z"
   },
   {
    "duration": 51,
    "start_time": "2024-03-12T15:18:32.121Z"
   },
   {
    "duration": 16,
    "start_time": "2024-03-12T15:18:32.174Z"
   },
   {
    "duration": 22,
    "start_time": "2024-03-12T15:18:32.192Z"
   },
   {
    "duration": 23,
    "start_time": "2024-03-12T15:18:32.216Z"
   },
   {
    "duration": 20,
    "start_time": "2024-03-12T15:18:32.241Z"
   },
   {
    "duration": 16,
    "start_time": "2024-03-12T15:18:32.262Z"
   },
   {
    "duration": 39,
    "start_time": "2024-03-12T15:18:32.279Z"
   },
   {
    "duration": 11,
    "start_time": "2024-03-12T15:18:32.319Z"
   },
   {
    "duration": 24,
    "start_time": "2024-03-12T15:18:32.331Z"
   },
   {
    "duration": 19,
    "start_time": "2024-03-12T15:18:32.357Z"
   },
   {
    "duration": 18,
    "start_time": "2024-03-12T15:19:47.298Z"
   },
   {
    "duration": 15,
    "start_time": "2024-03-12T15:19:49.367Z"
   },
   {
    "duration": 470,
    "start_time": "2024-03-12T15:25:08.366Z"
   },
   {
    "duration": 4,
    "start_time": "2024-03-12T15:25:08.838Z"
   },
   {
    "duration": 8082,
    "start_time": "2024-03-12T15:25:08.846Z"
   },
   {
    "duration": 225,
    "start_time": "2024-03-12T15:25:16.930Z"
   },
   {
    "duration": 30,
    "start_time": "2024-03-12T15:25:17.156Z"
   },
   {
    "duration": 28,
    "start_time": "2024-03-12T15:25:17.187Z"
   },
   {
    "duration": 30,
    "start_time": "2024-03-12T15:25:17.217Z"
   },
   {
    "duration": 30,
    "start_time": "2024-03-12T15:25:17.248Z"
   },
   {
    "duration": 28,
    "start_time": "2024-03-12T15:25:17.280Z"
   },
   {
    "duration": 145,
    "start_time": "2024-03-12T15:25:17.310Z"
   },
   {
    "duration": 0,
    "start_time": "2024-03-12T15:25:17.456Z"
   },
   {
    "duration": 0,
    "start_time": "2024-03-12T15:25:17.457Z"
   },
   {
    "duration": 0,
    "start_time": "2024-03-12T15:25:17.458Z"
   },
   {
    "duration": 60,
    "start_time": "2024-03-12T15:25:25.555Z"
   },
   {
    "duration": 72,
    "start_time": "2024-03-12T15:25:59.090Z"
   },
   {
    "duration": 455,
    "start_time": "2024-03-12T15:26:08.973Z"
   },
   {
    "duration": 4,
    "start_time": "2024-03-12T15:26:09.429Z"
   },
   {
    "duration": 8066,
    "start_time": "2024-03-12T15:26:09.434Z"
   },
   {
    "duration": 220,
    "start_time": "2024-03-12T15:26:17.502Z"
   },
   {
    "duration": 29,
    "start_time": "2024-03-12T15:26:17.724Z"
   },
   {
    "duration": 29,
    "start_time": "2024-03-12T15:26:17.755Z"
   },
   {
    "duration": 30,
    "start_time": "2024-03-12T15:26:17.785Z"
   },
   {
    "duration": 47,
    "start_time": "2024-03-12T15:26:17.818Z"
   },
   {
    "duration": 35,
    "start_time": "2024-03-12T15:26:17.867Z"
   },
   {
    "duration": 60,
    "start_time": "2024-03-12T15:26:17.904Z"
   },
   {
    "duration": 29,
    "start_time": "2024-03-12T15:26:17.965Z"
   },
   {
    "duration": 49,
    "start_time": "2024-03-12T15:26:17.995Z"
   },
   {
    "duration": 31,
    "start_time": "2024-03-12T15:26:18.045Z"
   },
   {
    "duration": 501,
    "start_time": "2024-03-12T15:27:23.624Z"
   },
   {
    "duration": 3,
    "start_time": "2024-03-12T15:27:24.127Z"
   },
   {
    "duration": 7622,
    "start_time": "2024-03-12T15:27:24.131Z"
   },
   {
    "duration": 224,
    "start_time": "2024-03-12T15:27:31.754Z"
   },
   {
    "duration": 28,
    "start_time": "2024-03-12T15:27:31.980Z"
   },
   {
    "duration": 37,
    "start_time": "2024-03-12T15:27:32.010Z"
   },
   {
    "duration": 37,
    "start_time": "2024-03-12T15:27:32.048Z"
   },
   {
    "duration": 35,
    "start_time": "2024-03-12T15:27:32.087Z"
   },
   {
    "duration": 39,
    "start_time": "2024-03-12T15:27:32.124Z"
   },
   {
    "duration": 88,
    "start_time": "2024-03-12T15:27:32.166Z"
   },
   {
    "duration": 30,
    "start_time": "2024-03-12T15:27:32.255Z"
   },
   {
    "duration": 34,
    "start_time": "2024-03-12T15:27:32.286Z"
   },
   {
    "duration": 30,
    "start_time": "2024-03-12T15:27:32.321Z"
   },
   {
    "duration": 573,
    "start_time": "2024-03-13T05:57:58.571Z"
   },
   {
    "duration": 3,
    "start_time": "2024-03-13T05:57:59.146Z"
   },
   {
    "duration": 10951,
    "start_time": "2024-03-13T05:57:59.151Z"
   },
   {
    "duration": 49,
    "start_time": "2024-03-13T05:58:10.105Z"
   },
   {
    "duration": 10,
    "start_time": "2024-03-13T05:58:10.155Z"
   },
   {
    "duration": 23,
    "start_time": "2024-03-13T05:58:10.167Z"
   },
   {
    "duration": 35,
    "start_time": "2024-03-13T05:58:10.192Z"
   },
   {
    "duration": 11,
    "start_time": "2024-03-13T05:58:10.229Z"
   },
   {
    "duration": 10,
    "start_time": "2024-03-13T05:58:10.241Z"
   },
   {
    "duration": 29,
    "start_time": "2024-03-13T05:58:10.253Z"
   },
   {
    "duration": 12,
    "start_time": "2024-03-13T05:58:10.284Z"
   },
   {
    "duration": 15,
    "start_time": "2024-03-13T05:58:10.298Z"
   },
   {
    "duration": 12,
    "start_time": "2024-03-13T05:58:10.314Z"
   }
  ],
  "kernelspec": {
   "display_name": "Python 3 (ipykernel)",
   "language": "python",
   "name": "python3"
  },
  "language_info": {
   "codemirror_mode": {
    "name": "ipython",
    "version": 3
   },
   "file_extension": ".py",
   "mimetype": "text/x-python",
   "name": "python",
   "nbconvert_exporter": "python",
   "pygments_lexer": "ipython3",
   "version": "3.11.4"
  },
  "toc": {
   "base_numbering": 1,
   "nav_menu": {},
   "number_sections": true,
   "sideBar": true,
   "skip_h1_title": true,
   "title_cell": "Table of Contents",
   "title_sidebar": "Contents",
   "toc_cell": false,
   "toc_position": {},
   "toc_section_display": true,
   "toc_window_display": false
  }
 },
 "nbformat": 4,
 "nbformat_minor": 2
}
