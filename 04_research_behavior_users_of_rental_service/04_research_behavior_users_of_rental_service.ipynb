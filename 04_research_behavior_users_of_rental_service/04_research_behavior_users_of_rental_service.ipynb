{
 "cells": [
  {
   "cell_type": "markdown",
   "id": "793bf685",
   "metadata": {},
   "source": [
    "# Исследование данных сервиса аренды самокатов GoFast\n",
    "Вы аналитик популярного сервиса аренды самокатов GoFast. Вам передали данные о некоторых пользователях из нескольких городов, а также об их поездках. Проанализируйте данные и проверьте некоторые гипотезы, которые могут помочь бизнесу вырасти.\n",
    "\n",
    "Чтобы совершать поездки по городу, пользователи сервиса GoFast пользуются мобильным приложением. Сервисом можно пользоваться:\n",
    "\n",
    "1. без подписки:\n",
    "   - абонентская плата отсутствует\n",
    "   - стоимость одной минуты поездки — 8 рублей\n",
    "   - стоимость старта (начала поездки) — 50 рублей\n",
    "   \n",
    "2. с подпиской Ultra:\n",
    "   - абонентская плата — 199 рублей в месяц\n",
    "   - стоимость одной минуты поездки — 6 рублей\n",
    "   - стоимость старта — бесплатно\n",
    "\n",
    "## Описание данных\n",
    "\n",
    "В основных данных есть информация о пользователях, их поездках и подписках.\n",
    "\n",
    "**Пользователи** — users_go.csv\n",
    "\n",
    "| Название столбца  | Описание |\n",
    "|:------------- |:------------- |\n",
    "| user_id  | уникальный идентификатор пользователя  |\n",
    "| name  | имя пользователя  |\n",
    "| age  | возраст  |\n",
    "| city  | город  |\n",
    "| subscription_type  | тип подписки (free, ultra)  |\n",
    "\n",
    "**Поездки** — rides_go.csv\n",
    "\n",
    "| Название столбца  | Описание |\n",
    "|:------------- |:------------- |\n",
    "| user_id  | уникальный идентификатор пользователя  |\n",
    "| distance  | расстояние, которое пользователь проехал в текущей сессии (в метрах)  |\n",
    "| duration  | продолжительность сессии (в минутах)  |\n",
    "| date  | дата совершения поездки  |\n",
    "\n",
    "**Подписки** — subscriptions_go.csv\n",
    "\t\n",
    "| Название столбца  | Описание |\n",
    "|:------------- |:------------- |\n",
    "| subscription_type  | тип подписки  |\n",
    "| minute_price  | стоимость одной минуты поездки по данной подписке  |\n",
    "| start_ride_price  | стоимость начала поездки  |\n",
    "| subscription_fee  | стоимость ежемесячного платежа  |\n",
    "\n",
    "**Шаг 1. Загрузка данных**\n",
    "* 1.1 Считайте CSV-файлы с данными с помощью библиотеки pandas и сохраните их в датафреймы. Пути к файлам:\n",
    "\n",
    " - /datasets/users_go.csv\n",
    " - /datasets/rides_go.csv\n",
    " - /datasets/subscriptions_go.csv\n",
    " \n",
    "* 1.2 Выведите первые строки каждого набора данных. Изучите общую информацию о каждом датафрейме.\n",
    "\n",
    "**Шаг 2. Предобработка данных**\n",
    " - 2.1 Приведите столбец date к типу даты pandas.\n",
    " - 2.2 Создайте новый столбец с номером месяца на основе столбца date.\n",
    " - 2.3 Проверьте наличие пропущенных значений и дубликатов в датафреймах. Обработайте их, если такие значения присутствуют.\n",
    " \n",
    "**Шаг 3. Исследовательский анализ данных**\n",
    "\n",
    "Опишите и визуализируйте общую информацию о пользователях и поездках:\n",
    "\n",
    " - 3.1 частота встречаемости городов;\n",
    " - 3.2 соотношение пользователей с подпиской и без подписки;\n",
    " - 3.3 возраст пользователей;\n",
    " - 3.4 расстояние, которое пользователь преодолел за одну поездку;\n",
    " - 3.5 продолжительность поездок.\n",
    " \n",
    "**Шаг 4. Объединение данных**\n",
    "\n",
    " - 4.1 Объедините данные о пользователях, поездках и подписках в один датафрейм. Для этого воспользуйтесь методом merge().\n",
    " - 4.2 Создайте ещё два датафрейма из датафрейма, созданного на этапе 4.1:\n",
    "   * c данными о пользователях без подписки;\n",
    "   * с данными о пользователях с подпиской.\n",
    " - 4.3 Визуализируйте информацию о расстоянии и времени поездок для пользователей обеих категорий.\n",
    " \n",
    "**Шаг 5. Подсчёт выручки**\n",
    " - 5.1 Создайте датафрейм с агрегированными данными о поездках на основе датафрейма с объединёнными данными из шага 4: найдите суммарное расстояние, количество поездок и суммарное время для каждого пользователя за каждый месяц.\n",
    " - 5.2 В этот же датафрейм добавьте столбец с помесячной выручкой, которую принёс каждый пользователь. Для этого обратитесь к информации об условиях оплаты для подписчиков и тех, у кого нет подписки. Продолжительность каждой поездки в каждой строке исходного датафрейма для подсчёта стоимости округляется до следующего целого числа: например, значения 25.3, 25.5 и 26.0 должны быть преобразованы к 26.\n",
    " \n",
    "**Шаг 6. Проверка гипотез**\n",
    "\n",
    "Продакт-менеджеры сервиса хотят увеличить количество пользователей с подпиской. Для этого они будут проводить различные акции, но сначала нужно выяснить несколько важных моментов.\n",
    "\n",
    " - 6.1 Важно понять, тратят ли пользователи с подпиской больше времени на поездки? Если да, то пользователи с подпиской могут быть «выгоднее» для компании. Проверьте гипотезу. Используйте исходные данные о продолжительности каждой сессии — отдельно для подписчиков и тех, у кого нет подписки.\n",
    " - 6.2 Расстояние одной поездки в 3130 метров — оптимальное с точки зрения износа самоката. Можно ли сказать, что среднее расстояние, которое проезжают пользователи с подпиской за одну поездку, не превышает 3130 метров? Проверьте гипотезу и сделайте выводы.\n",
    " - 6.3 Проверьте гипотезу о том, будет ли помесячная выручка от пользователей с подпиской по месяцам выше, чем выручка от пользователей без подписки. Сделайте вывод.\n",
    " - 6.4 Представьте такую ситуацию: техническая команда сервиса обновила сервера, с которыми взаимодействует мобильное приложение. Она надеется, что из-за этого количество обращений в техподдержку значимо снизилось. Некоторый файл содержит для каждого пользователя данные о количестве обращений до обновления и после него. Какой тест вам понадобился бы для проверки этой гипотезы?\n",
    " \n",
    "**Шаг 7 (необязательное задание). Распределения**\n",
    " - 7.1 Отделу маркетинга GoFast поставили задачу: нужно провести акцию с раздачей промокодов на один бесплатный месяц подписки, в рамках которой как минимум 100 существующих клиентов должны продлить эту подписку. То есть по завершении периода действия подписки пользователь может либо отказаться от неё, либо продлить, совершив соответствующий платёж. \n",
    "\n",
    "Эта акция уже проводилась ранее и по итогу выяснилось, что после бесплатного пробного периода подписку продлевают 10 % пользователей. Выясните, какое минимальное количество промокодов нужно разослать, чтобы вероятность не выполнить план была примерно 5 %. Подберите параметры распределения, описывающего эту ситуацию, постройте график распределения и сформулируйте ответ на вопрос о количестве промокодов.\n",
    "\n",
    " - 7.2 Отдел маркетинга рассылает клиентам push-уведомления в мобильном приложении. Клиенты могут открыть его или не открывать. Известно, что уведомления открывают около 40 % получивших клиентов. Отдел планирует разослать 1 млн уведомлений. С помощью аппроксимации постройте примерный график распределения и оцените вероятность того, что уведомление откроют не более 399,5 тыс. пользователей."
   ]
  },
  {
   "cell_type": "markdown",
   "id": "c42cbe00",
   "metadata": {},
   "source": [
    "#### Шаг 1. Загрузка данных"
   ]
  },
  {
   "cell_type": "code",
   "execution_count": 1,
   "id": "72576667",
   "metadata": {},
   "outputs": [],
   "source": [
    "import pandas as pd\n",
    "import matplotlib.pyplot as plt\n",
    "import numpy as np\n",
    "from scipy import stats as st\n",
    "from math import factorial\n",
    "from math import sqrt"
   ]
  },
  {
   "cell_type": "code",
   "execution_count": 2,
   "id": "eff9f206",
   "metadata": {},
   "outputs": [
    {
     "data": {
      "text/html": [
       "<div>\n",
       "<style scoped>\n",
       "    .dataframe tbody tr th:only-of-type {\n",
       "        vertical-align: middle;\n",
       "    }\n",
       "\n",
       "    .dataframe tbody tr th {\n",
       "        vertical-align: top;\n",
       "    }\n",
       "\n",
       "    .dataframe thead th {\n",
       "        text-align: right;\n",
       "    }\n",
       "</style>\n",
       "<table border=\"1\" class=\"dataframe\">\n",
       "  <thead>\n",
       "    <tr style=\"text-align: right;\">\n",
       "      <th></th>\n",
       "      <th>user_id</th>\n",
       "      <th>name</th>\n",
       "      <th>age</th>\n",
       "      <th>city</th>\n",
       "      <th>subscription_type</th>\n",
       "    </tr>\n",
       "  </thead>\n",
       "  <tbody>\n",
       "    <tr>\n",
       "      <th>0</th>\n",
       "      <td>1</td>\n",
       "      <td>Кира</td>\n",
       "      <td>22</td>\n",
       "      <td>Тюмень</td>\n",
       "      <td>ultra</td>\n",
       "    </tr>\n",
       "    <tr>\n",
       "      <th>1</th>\n",
       "      <td>2</td>\n",
       "      <td>Станислав</td>\n",
       "      <td>31</td>\n",
       "      <td>Омск</td>\n",
       "      <td>ultra</td>\n",
       "    </tr>\n",
       "    <tr>\n",
       "      <th>2</th>\n",
       "      <td>3</td>\n",
       "      <td>Алексей</td>\n",
       "      <td>20</td>\n",
       "      <td>Москва</td>\n",
       "      <td>ultra</td>\n",
       "    </tr>\n",
       "    <tr>\n",
       "      <th>3</th>\n",
       "      <td>4</td>\n",
       "      <td>Константин</td>\n",
       "      <td>26</td>\n",
       "      <td>Ростов-на-Дону</td>\n",
       "      <td>ultra</td>\n",
       "    </tr>\n",
       "    <tr>\n",
       "      <th>4</th>\n",
       "      <td>5</td>\n",
       "      <td>Адель</td>\n",
       "      <td>28</td>\n",
       "      <td>Омск</td>\n",
       "      <td>ultra</td>\n",
       "    </tr>\n",
       "  </tbody>\n",
       "</table>\n",
       "</div>"
      ],
      "text/plain": [
       "   user_id        name  age            city subscription_type\n",
       "0        1        Кира   22          Тюмень             ultra\n",
       "1        2   Станислав   31            Омск             ultra\n",
       "2        3     Алексей   20          Москва             ultra\n",
       "3        4  Константин   26  Ростов-на-Дону             ultra\n",
       "4        5       Адель   28            Омск             ultra"
      ]
     },
     "metadata": {},
     "output_type": "display_data"
    }
   ],
   "source": [
    "users_go = pd.read_csv('/datasets/users_go.csv')\n",
    "display(users_go.head())"
   ]
  },
  {
   "cell_type": "code",
   "execution_count": 3,
   "id": "8b495086",
   "metadata": {},
   "outputs": [
    {
     "data": {
      "text/html": [
       "<div>\n",
       "<style scoped>\n",
       "    .dataframe tbody tr th:only-of-type {\n",
       "        vertical-align: middle;\n",
       "    }\n",
       "\n",
       "    .dataframe tbody tr th {\n",
       "        vertical-align: top;\n",
       "    }\n",
       "\n",
       "    .dataframe thead th {\n",
       "        text-align: right;\n",
       "    }\n",
       "</style>\n",
       "<table border=\"1\" class=\"dataframe\">\n",
       "  <thead>\n",
       "    <tr style=\"text-align: right;\">\n",
       "      <th></th>\n",
       "      <th>user_id</th>\n",
       "      <th>distance</th>\n",
       "      <th>duration</th>\n",
       "      <th>date</th>\n",
       "    </tr>\n",
       "  </thead>\n",
       "  <tbody>\n",
       "    <tr>\n",
       "      <th>0</th>\n",
       "      <td>1</td>\n",
       "      <td>4409.919140</td>\n",
       "      <td>25.599769</td>\n",
       "      <td>2021-01-01</td>\n",
       "    </tr>\n",
       "    <tr>\n",
       "      <th>1</th>\n",
       "      <td>1</td>\n",
       "      <td>2617.592153</td>\n",
       "      <td>15.816871</td>\n",
       "      <td>2021-01-18</td>\n",
       "    </tr>\n",
       "    <tr>\n",
       "      <th>2</th>\n",
       "      <td>1</td>\n",
       "      <td>754.159807</td>\n",
       "      <td>6.232113</td>\n",
       "      <td>2021-04-20</td>\n",
       "    </tr>\n",
       "    <tr>\n",
       "      <th>3</th>\n",
       "      <td>1</td>\n",
       "      <td>2694.783254</td>\n",
       "      <td>18.511000</td>\n",
       "      <td>2021-08-11</td>\n",
       "    </tr>\n",
       "    <tr>\n",
       "      <th>4</th>\n",
       "      <td>1</td>\n",
       "      <td>4028.687306</td>\n",
       "      <td>26.265803</td>\n",
       "      <td>2021-08-28</td>\n",
       "    </tr>\n",
       "  </tbody>\n",
       "</table>\n",
       "</div>"
      ],
      "text/plain": [
       "   user_id     distance   duration       date\n",
       "0        1  4409.919140  25.599769 2021-01-01\n",
       "1        1  2617.592153  15.816871 2021-01-18\n",
       "2        1   754.159807   6.232113 2021-04-20\n",
       "3        1  2694.783254  18.511000 2021-08-11\n",
       "4        1  4028.687306  26.265803 2021-08-28"
      ]
     },
     "metadata": {},
     "output_type": "display_data"
    }
   ],
   "source": [
    "rides_go = pd.read_csv('/datasets/rides_go.csv', parse_dates=['date'])\n",
    "display(rides_go.head())"
   ]
  },
  {
   "cell_type": "code",
   "execution_count": 4,
   "id": "c76d9c39",
   "metadata": {},
   "outputs": [
    {
     "data": {
      "text/html": [
       "<div>\n",
       "<style scoped>\n",
       "    .dataframe tbody tr th:only-of-type {\n",
       "        vertical-align: middle;\n",
       "    }\n",
       "\n",
       "    .dataframe tbody tr th {\n",
       "        vertical-align: top;\n",
       "    }\n",
       "\n",
       "    .dataframe thead th {\n",
       "        text-align: right;\n",
       "    }\n",
       "</style>\n",
       "<table border=\"1\" class=\"dataframe\">\n",
       "  <thead>\n",
       "    <tr style=\"text-align: right;\">\n",
       "      <th></th>\n",
       "      <th>subscription_type</th>\n",
       "      <th>minute_price</th>\n",
       "      <th>start_ride_price</th>\n",
       "      <th>subscription_fee</th>\n",
       "    </tr>\n",
       "  </thead>\n",
       "  <tbody>\n",
       "    <tr>\n",
       "      <th>0</th>\n",
       "      <td>free</td>\n",
       "      <td>8</td>\n",
       "      <td>50</td>\n",
       "      <td>0</td>\n",
       "    </tr>\n",
       "    <tr>\n",
       "      <th>1</th>\n",
       "      <td>ultra</td>\n",
       "      <td>6</td>\n",
       "      <td>0</td>\n",
       "      <td>199</td>\n",
       "    </tr>\n",
       "  </tbody>\n",
       "</table>\n",
       "</div>"
      ],
      "text/plain": [
       "  subscription_type  minute_price  start_ride_price  subscription_fee\n",
       "0              free             8                50                 0\n",
       "1             ultra             6                 0               199"
      ]
     },
     "metadata": {},
     "output_type": "display_data"
    }
   ],
   "source": [
    "subscriptions_go = pd.read_csv('/datasets/subscriptions_go.csv')\n",
    "display(subscriptions_go.head())"
   ]
  },
  {
   "cell_type": "code",
   "execution_count": 5,
   "id": "8e283756",
   "metadata": {},
   "outputs": [
    {
     "name": "stdout",
     "output_type": "stream",
     "text": [
      "<class 'pandas.core.frame.DataFrame'>\n",
      "RangeIndex: 1565 entries, 0 to 1564\n",
      "Data columns (total 5 columns):\n",
      " #   Column             Non-Null Count  Dtype \n",
      "---  ------             --------------  ----- \n",
      " 0   user_id            1565 non-null   int64 \n",
      " 1   name               1565 non-null   object\n",
      " 2   age                1565 non-null   int64 \n",
      " 3   city               1565 non-null   object\n",
      " 4   subscription_type  1565 non-null   object\n",
      "dtypes: int64(2), object(3)\n",
      "memory usage: 61.3+ KB\n"
     ]
    }
   ],
   "source": [
    "users_go.info()"
   ]
  },
  {
   "cell_type": "code",
   "execution_count": 6,
   "id": "6aecc91a",
   "metadata": {},
   "outputs": [
    {
     "name": "stdout",
     "output_type": "stream",
     "text": [
      "<class 'pandas.core.frame.DataFrame'>\n",
      "RangeIndex: 18068 entries, 0 to 18067\n",
      "Data columns (total 4 columns):\n",
      " #   Column    Non-Null Count  Dtype         \n",
      "---  ------    --------------  -----         \n",
      " 0   user_id   18068 non-null  int64         \n",
      " 1   distance  18068 non-null  float64       \n",
      " 2   duration  18068 non-null  float64       \n",
      " 3   date      18068 non-null  datetime64[ns]\n",
      "dtypes: datetime64[ns](1), float64(2), int64(1)\n",
      "memory usage: 564.8 KB\n"
     ]
    }
   ],
   "source": [
    "rides_go.info()"
   ]
  },
  {
   "cell_type": "code",
   "execution_count": 7,
   "id": "86924821",
   "metadata": {},
   "outputs": [
    {
     "name": "stdout",
     "output_type": "stream",
     "text": [
      "<class 'pandas.core.frame.DataFrame'>\n",
      "RangeIndex: 2 entries, 0 to 1\n",
      "Data columns (total 4 columns):\n",
      " #   Column             Non-Null Count  Dtype \n",
      "---  ------             --------------  ----- \n",
      " 0   subscription_type  2 non-null      object\n",
      " 1   minute_price       2 non-null      int64 \n",
      " 2   start_ride_price   2 non-null      int64 \n",
      " 3   subscription_fee   2 non-null      int64 \n",
      "dtypes: int64(3), object(1)\n",
      "memory usage: 192.0+ bytes\n"
     ]
    }
   ],
   "source": [
    "subscriptions_go.info()"
   ]
  },
  {
   "cell_type": "markdown",
   "id": "35db7759",
   "metadata": {},
   "source": [
    "Мы имеем почти 20000 строк датасета. На первом же этапе, при открытии датасета, сразу же исправляем тип данных с датой."
   ]
  },
  {
   "cell_type": "markdown",
   "id": "e95ebca7",
   "metadata": {},
   "source": [
    "#### Шаг 2. Предобработка данных"
   ]
  },
  {
   "cell_type": "code",
   "execution_count": 8,
   "id": "deb48180",
   "metadata": {},
   "outputs": [
    {
     "data": {
      "text/html": [
       "<div>\n",
       "<style scoped>\n",
       "    .dataframe tbody tr th:only-of-type {\n",
       "        vertical-align: middle;\n",
       "    }\n",
       "\n",
       "    .dataframe tbody tr th {\n",
       "        vertical-align: top;\n",
       "    }\n",
       "\n",
       "    .dataframe thead th {\n",
       "        text-align: right;\n",
       "    }\n",
       "</style>\n",
       "<table border=\"1\" class=\"dataframe\">\n",
       "  <thead>\n",
       "    <tr style=\"text-align: right;\">\n",
       "      <th></th>\n",
       "      <th>user_id</th>\n",
       "      <th>distance</th>\n",
       "      <th>duration</th>\n",
       "      <th>date</th>\n",
       "      <th>month</th>\n",
       "    </tr>\n",
       "  </thead>\n",
       "  <tbody>\n",
       "    <tr>\n",
       "      <th>0</th>\n",
       "      <td>1</td>\n",
       "      <td>4409.919140</td>\n",
       "      <td>25.599769</td>\n",
       "      <td>2021-01-01</td>\n",
       "      <td>2021-01-01</td>\n",
       "    </tr>\n",
       "    <tr>\n",
       "      <th>1</th>\n",
       "      <td>1</td>\n",
       "      <td>2617.592153</td>\n",
       "      <td>15.816871</td>\n",
       "      <td>2021-01-18</td>\n",
       "      <td>2021-01-01</td>\n",
       "    </tr>\n",
       "    <tr>\n",
       "      <th>2</th>\n",
       "      <td>1</td>\n",
       "      <td>754.159807</td>\n",
       "      <td>6.232113</td>\n",
       "      <td>2021-04-20</td>\n",
       "      <td>2021-04-01</td>\n",
       "    </tr>\n",
       "    <tr>\n",
       "      <th>3</th>\n",
       "      <td>1</td>\n",
       "      <td>2694.783254</td>\n",
       "      <td>18.511000</td>\n",
       "      <td>2021-08-11</td>\n",
       "      <td>2021-08-01</td>\n",
       "    </tr>\n",
       "    <tr>\n",
       "      <th>4</th>\n",
       "      <td>1</td>\n",
       "      <td>4028.687306</td>\n",
       "      <td>26.265803</td>\n",
       "      <td>2021-08-28</td>\n",
       "      <td>2021-08-01</td>\n",
       "    </tr>\n",
       "  </tbody>\n",
       "</table>\n",
       "</div>"
      ],
      "text/plain": [
       "   user_id     distance   duration       date      month\n",
       "0        1  4409.919140  25.599769 2021-01-01 2021-01-01\n",
       "1        1  2617.592153  15.816871 2021-01-18 2021-01-01\n",
       "2        1   754.159807   6.232113 2021-04-20 2021-04-01\n",
       "3        1  2694.783254  18.511000 2021-08-11 2021-08-01\n",
       "4        1  4028.687306  26.265803 2021-08-28 2021-08-01"
      ]
     },
     "metadata": {},
     "output_type": "display_data"
    }
   ],
   "source": [
    "rides_go['month'] = rides_go['date'].astype('datetime64[M]')\n",
    "display(rides_go.head())"
   ]
  },
  {
   "cell_type": "code",
   "execution_count": 9,
   "id": "af6d202c",
   "metadata": {},
   "outputs": [
    {
     "data": {
      "text/plain": [
       "user_id              0\n",
       "name                 0\n",
       "age                  0\n",
       "city                 0\n",
       "subscription_type    0\n",
       "dtype: int64"
      ]
     },
     "execution_count": 9,
     "metadata": {},
     "output_type": "execute_result"
    }
   ],
   "source": [
    "users_go.isna().sum()"
   ]
  },
  {
   "cell_type": "code",
   "execution_count": 10,
   "id": "629dac6b",
   "metadata": {},
   "outputs": [
    {
     "data": {
      "text/plain": [
       "user_id     0\n",
       "distance    0\n",
       "duration    0\n",
       "date        0\n",
       "month       0\n",
       "dtype: int64"
      ]
     },
     "execution_count": 10,
     "metadata": {},
     "output_type": "execute_result"
    }
   ],
   "source": [
    "rides_go.isna().sum()"
   ]
  },
  {
   "cell_type": "code",
   "execution_count": 11,
   "id": "059a163f",
   "metadata": {},
   "outputs": [
    {
     "data": {
      "text/plain": [
       "subscription_type    0\n",
       "minute_price         0\n",
       "start_ride_price     0\n",
       "subscription_fee     0\n",
       "dtype: int64"
      ]
     },
     "execution_count": 11,
     "metadata": {},
     "output_type": "execute_result"
    }
   ],
   "source": [
    "subscriptions_go.isna().sum()"
   ]
  },
  {
   "cell_type": "code",
   "execution_count": 12,
   "id": "92fb2c6f",
   "metadata": {},
   "outputs": [
    {
     "data": {
      "text/plain": [
       "0"
      ]
     },
     "execution_count": 12,
     "metadata": {},
     "output_type": "execute_result"
    }
   ],
   "source": [
    "rides_go.duplicated().sum()"
   ]
  },
  {
   "cell_type": "code",
   "execution_count": 13,
   "id": "0842624b",
   "metadata": {},
   "outputs": [
    {
     "data": {
      "text/plain": [
       "31"
      ]
     },
     "execution_count": 13,
     "metadata": {},
     "output_type": "execute_result"
    }
   ],
   "source": [
    "users_go.duplicated().sum()"
   ]
  },
  {
   "cell_type": "code",
   "execution_count": 14,
   "id": "e75c05c6",
   "metadata": {},
   "outputs": [
    {
     "data": {
      "text/plain": [
       "0"
      ]
     },
     "execution_count": 14,
     "metadata": {},
     "output_type": "execute_result"
    }
   ],
   "source": [
    "subscriptions_go.duplicated().sum()"
   ]
  },
  {
   "cell_type": "code",
   "execution_count": 15,
   "id": "89d2322c",
   "metadata": {},
   "outputs": [],
   "source": [
    "users_go = users_go.drop_duplicates()"
   ]
  },
  {
   "cell_type": "code",
   "execution_count": 16,
   "id": "0d33708c",
   "metadata": {},
   "outputs": [
    {
     "data": {
      "text/plain": [
       "0"
      ]
     },
     "execution_count": 16,
     "metadata": {},
     "output_type": "execute_result"
    }
   ],
   "source": [
    "users_go.duplicated().sum()"
   ]
  },
  {
   "cell_type": "markdown",
   "id": "d9daae79",
   "metadata": {},
   "source": [
    "В процессе предобработке данных:\n",
    "\n",
    "1. Создан новый столбец с номером месяца на основе столбца date.\n",
    "2. Пропусков в датасетах не было обнаружено.\n",
    "3. Дубликаты были удалены."
   ]
  },
  {
   "cell_type": "markdown",
   "id": "212593c7",
   "metadata": {},
   "source": [
    "#### Шаг 3. Исследовательский анализ данных"
   ]
  },
  {
   "cell_type": "code",
   "execution_count": 17,
   "id": "e3a4274c",
   "metadata": {},
   "outputs": [
    {
     "data": {
      "text/plain": [
       "Пятигорск         219\n",
       "Екатеринбург      204\n",
       "Ростов-на-Дону    198\n",
       "Краснодар         193\n",
       "Сочи              189\n",
       "Омск              183\n",
       "Тюмень            180\n",
       "Москва            168\n",
       "Name: city, dtype: int64"
      ]
     },
     "execution_count": 17,
     "metadata": {},
     "output_type": "execute_result"
    }
   ],
   "source": [
    "users_go['city'].value_counts().head(20)"
   ]
  },
  {
   "cell_type": "markdown",
   "id": "3f3c2fe3",
   "metadata": {},
   "source": [
    "Всего имеется 8 уникальных значений по городам."
   ]
  },
  {
   "cell_type": "code",
   "execution_count": 18,
   "id": "b2ef284f",
   "metadata": {},
   "outputs": [
    {
     "data": {
      "image/png": "[encoded data removed]",
      "text/plain": [
       "<Figure size 864x288 with 1 Axes>"
      ]
     },
     "metadata": {
      "needs_background": "light"
     },
     "output_type": "display_data"
    }
   ],
   "source": [
    "users_go['city'].sort_values().hist(bins=20, figsize=(12, 4));\n",
    "plt.title('Частота встречаемости городов');\n",
    "plt.xlabel('Города')\n",
    "plt.ylabel('Частота встречаемости')\n",
    "plt.show()"
   ]
  },
  {
   "cell_type": "markdown",
   "id": "41b559b7",
   "metadata": {},
   "source": [
    "Чаще всего встречается Пятигорск, а реже всего Москва."
   ]
  },
  {
   "cell_type": "code",
   "execution_count": 19,
   "id": "75a542ae",
   "metadata": {},
   "outputs": [
    {
     "data": {
      "image/png": "[encoded data removed]",
      "text/plain": [
       "<Figure size 288x288 with 1 Axes>"
      ]
     },
     "metadata": {},
     "output_type": "display_data"
    }
   ],
   "source": [
    "users_go['subscription_type'].value_counts().plot.pie(figsize=(4, 4), autopct='%1.1f%%')\n",
    "plt.title('Соотношение пользователей с подпиской и без подписки')\n",
    "plt.ylabel('')\n",
    "plt.show()"
   ]
  },
  {
   "cell_type": "markdown",
   "id": "d65029f6",
   "metadata": {},
   "source": [
    "Пользователей без подписки больше, чем пользователей с подпиской."
   ]
  },
  {
   "cell_type": "code",
   "execution_count": 20,
   "id": "ad58881f",
   "metadata": {},
   "outputs": [
    {
     "data": {
      "image/png": "[encoded data removed]",
      "text/plain": [
       "<Figure size 720x288 with 1 Axes>"
      ]
     },
     "metadata": {
      "needs_background": "light"
     },
     "output_type": "display_data"
    }
   ],
   "source": [
    "users_go['age'].hist(bins=30, figsize=(10, 4));\n",
    "plt.title('Возраст пользователей');\n",
    "plt.xlabel('Возраст пользователей')\n",
    "plt.ylabel('Количество пользователей')\n",
    "plt.show()"
   ]
  },
  {
   "cell_type": "markdown",
   "id": "126793a4",
   "metadata": {},
   "source": [
    "Чаще всего пользуются пользователи, в возрасте 25 лет."
   ]
  },
  {
   "cell_type": "code",
   "execution_count": 21,
   "id": "2fd26c03",
   "metadata": {},
   "outputs": [
    {
     "data": {
      "image/png": "[encoded data removed]",
      "text/plain": [
       "<Figure size 936x288 with 1 Axes>"
      ]
     },
     "metadata": {
      "needs_background": "light"
     },
     "output_type": "display_data"
    }
   ],
   "source": [
    "rides_go['distance'].hist(bins=80, range=(1500, 6000), figsize=(13, 4));\n",
    "plt.title('Расстояние, которое пользователь преодолел за одну поездку');\n",
    "plt.xlabel('Расстояние')\n",
    "plt.ylabel('Количество поездок')\n",
    "plt.show()"
   ]
  },
  {
   "cell_type": "code",
   "execution_count": 22,
   "id": "d9f7c48d",
   "metadata": {},
   "outputs": [
    {
     "data": {
      "image/png": "[encoded data removed]",
      "text/plain": [
       "<Figure size 936x288 with 1 Axes>"
      ]
     },
     "metadata": {
      "needs_background": "light"
     },
     "output_type": "display_data"
    }
   ],
   "source": [
    "rides_go['distance'].hist(bins=70, range=(0, 1800), figsize=(13, 4));\n",
    "plt.title('Расстояние, которое пользователь преодолел за одну поездку');\n",
    "plt.xlabel('Расстояние')\n",
    "plt.ylabel('Количество поездок')\n",
    "plt.show()"
   ]
  },
  {
   "cell_type": "markdown",
   "id": "0b35a12a",
   "metadata": {},
   "source": [
    "Пик коротких поездок находиться около 700 м. Пик длинных поездок находиться около 3000 м."
   ]
  },
  {
   "cell_type": "code",
   "execution_count": 23,
   "id": "8a28d4a9",
   "metadata": {},
   "outputs": [
    {
     "data": {
      "image/png": "[encoded data removed]",
      "text/plain": [
       "<Figure size 720x288 with 1 Axes>"
      ]
     },
     "metadata": {
      "needs_background": "light"
     },
     "output_type": "display_data"
    }
   ],
   "source": [
    "rides_go['duration'].hist(bins=25, figsize=(10, 4));\n",
    "plt.title('Продолжительность поездок');\n",
    "plt.xlabel('Продолжительность поездок')\n",
    "plt.ylabel('Количество поездок')\n",
    "plt.show()"
   ]
  },
  {
   "cell_type": "markdown",
   "id": "ec119d18",
   "metadata": {},
   "source": [
    "Чаще всего продолжительность поездки составляет около 17 минут."
   ]
  },
  {
   "cell_type": "markdown",
   "id": "1a2d1de4",
   "metadata": {},
   "source": [
    "**Вывод**\n",
    "\n",
    "Всего имеется 8 уникальных значений по городам. Чаще всего встречается Пятигорск, а реже всего Москва. Пользователей без подписки больше, чем пользователей с подпиской. Чаще всего пользуются пользователи, в возрасте 25 лет. Пик коротких поездок находиться около 700 м. Пик длинных поездок находиться около 3000 м. Чаще всего продолжительность поездки составляет около 17 минут."
   ]
  },
  {
   "cell_type": "markdown",
   "id": "4ef51331",
   "metadata": {},
   "source": [
    "#### Шаг 4. Объединение данных"
   ]
  },
  {
   "cell_type": "code",
   "execution_count": 24,
   "id": "171c30ba",
   "metadata": {},
   "outputs": [],
   "source": [
    "merged_df = users_go.merge(rides_go, on='user_id').merge(subscriptions_go, on='subscription_type')"
   ]
  },
  {
   "cell_type": "code",
   "execution_count": 25,
   "id": "eb3fb9fe",
   "metadata": {},
   "outputs": [
    {
     "name": "stdout",
     "output_type": "stream",
     "text": [
      "<class 'pandas.core.frame.DataFrame'>\n",
      "Int64Index: 18068 entries, 0 to 18067\n",
      "Data columns (total 12 columns):\n",
      " #   Column             Non-Null Count  Dtype         \n",
      "---  ------             --------------  -----         \n",
      " 0   user_id            18068 non-null  int64         \n",
      " 1   name               18068 non-null  object        \n",
      " 2   age                18068 non-null  int64         \n",
      " 3   city               18068 non-null  object        \n",
      " 4   subscription_type  18068 non-null  object        \n",
      " 5   distance           18068 non-null  float64       \n",
      " 6   duration           18068 non-null  float64       \n",
      " 7   date               18068 non-null  datetime64[ns]\n",
      " 8   month              18068 non-null  datetime64[ns]\n",
      " 9   minute_price       18068 non-null  int64         \n",
      " 10  start_ride_price   18068 non-null  int64         \n",
      " 11  subscription_fee   18068 non-null  int64         \n",
      "dtypes: datetime64[ns](2), float64(2), int64(5), object(3)\n",
      "memory usage: 1.8+ MB\n"
     ]
    }
   ],
   "source": [
    "merged_df.info()"
   ]
  },
  {
   "cell_type": "code",
   "execution_count": 26,
   "id": "aa2f6ec3",
   "metadata": {},
   "outputs": [
    {
     "data": {
      "text/plain": [
       "0"
      ]
     },
     "execution_count": 26,
     "metadata": {},
     "output_type": "execute_result"
    }
   ],
   "source": [
    "merged_df.duplicated().sum()"
   ]
  },
  {
   "cell_type": "code",
   "execution_count": 27,
   "id": "eff62323",
   "metadata": {},
   "outputs": [
    {
     "data": {
      "text/plain": [
       "user_id              0\n",
       "name                 0\n",
       "age                  0\n",
       "city                 0\n",
       "subscription_type    0\n",
       "distance             0\n",
       "duration             0\n",
       "date                 0\n",
       "month                0\n",
       "minute_price         0\n",
       "start_ride_price     0\n",
       "subscription_fee     0\n",
       "dtype: int64"
      ]
     },
     "execution_count": 27,
     "metadata": {},
     "output_type": "execute_result"
    }
   ],
   "source": [
    "merged_df.isna().sum()"
   ]
  },
  {
   "cell_type": "code",
   "execution_count": 28,
   "id": "8fef42b5",
   "metadata": {},
   "outputs": [
    {
     "name": "stdout",
     "output_type": "stream",
     "text": [
      "Размерность датасета users_go: (1534, 5)\n",
      "Размерность датасета rides_go: (18068, 5)\n",
      "Размерность датасета subscriptions_go: (2, 4)\n",
      "Размерность датасета rides_go после добавления столбца с месяцем: (18068, 5)\n",
      "Размерность объединенного датасета: (18068, 12)\n"
     ]
    }
   ],
   "source": [
    "print(\"Размерность датасета users_go:\", users_go.shape)\n",
    "\n",
    "print(\"Размерность датасета rides_go:\", rides_go.shape)\n",
    "\n",
    "print(\"Размерность датасета subscriptions_go:\", subscriptions_go.shape)\n",
    "\n",
    "print(\"Размерность датасета rides_go после добавления столбца с месяцем:\", rides_go.shape)\n",
    "\n",
    "print(\"Размерность объединенного датасета:\", merged_df.shape)"
   ]
  },
  {
   "cell_type": "code",
   "execution_count": 29,
   "id": "b269034e",
   "metadata": {},
   "outputs": [],
   "source": [
    "free = merged_df[merged_df['subscription_fee'] == 0]\n",
    "ultra = merged_df[merged_df['subscription_fee'] == 199]"
   ]
  },
  {
   "cell_type": "code",
   "execution_count": 30,
   "id": "4f03b4be",
   "metadata": {},
   "outputs": [
    {
     "data": {
      "image/png": "[encoded data removed]",
      "text/plain": [
       "<Figure size 1008x360 with 1 Axes>"
      ]
     },
     "metadata": {
      "needs_background": "light"
     },
     "output_type": "display_data"
    }
   ],
   "source": [
    "ax = free['distance'].plot(\n",
    "    kind='hist',\n",
    "    histtype='step',\n",
    "    bins=30,\n",
    "    linewidth=5,\n",
    "    alpha=0.7,\n",
    "    label='Без подписки',\n",
    ")\n",
    "ultra['distance'].plot(\n",
    "    kind='hist',\n",
    "    histtype='step',\n",
    "    bins=30,\n",
    "    linewidth=5,\n",
    "    alpha=0.7,\n",
    "    label='С подпиской',\n",
    "    ax=ax,\n",
    "    grid=True,\n",
    "    legend=True,\n",
    "    figsize=(14, 5)\n",
    ") \n",
    "plt.title('Расстояние пользователей с подпиской и без');\n",
    "plt.xlabel('Расстояние'),\n",
    "plt.ylabel('Количество')\n",
    "plt.show()"
   ]
  },
  {
   "cell_type": "markdown",
   "id": "eb394ab0",
   "metadata": {},
   "source": [
    "Пользователи без подписки, чаще всего проезжают около 2500 м., а c подпиской, около 3000 м."
   ]
  },
  {
   "cell_type": "code",
   "execution_count": 31,
   "id": "14a7c7c1",
   "metadata": {},
   "outputs": [
    {
     "data": {
      "image/png": "[encoded data removed]",
      "text/plain": [
       "<Figure size 1224x360 with 1 Axes>"
      ]
     },
     "metadata": {
      "needs_background": "light"
     },
     "output_type": "display_data"
    }
   ],
   "source": [
    "ax = free['duration'].plot(\n",
    "    kind='hist',\n",
    "    histtype='step',\n",
    "    bins=50,\n",
    "    linewidth=5,\n",
    "    alpha=0.7,\n",
    "    label='Без подписки',\n",
    ")\n",
    "ultra['duration'].plot(\n",
    "    kind='hist',\n",
    "    histtype='step',\n",
    "    bins=50,\n",
    "    linewidth=5,\n",
    "    alpha=0.7,\n",
    "    label='С подпиской',\n",
    "    ax=ax,\n",
    "    grid=True,\n",
    "    legend=True,\n",
    "    figsize=(17, 5)\n",
    ") \n",
    "plt.title('Продолжительность поездки пользователей с подпиской');\n",
    "plt.xlabel('Минуты'),\n",
    "plt.ylabel('Количество')\n",
    "plt.show()"
   ]
  },
  {
   "cell_type": "markdown",
   "id": "e1926f05",
   "metadata": {},
   "source": [
    "Пользователи без подписки, чаще всего едут около 18 минут. С подпиской, так же, чаще всего едут около 18 минут."
   ]
  },
  {
   "cell_type": "markdown",
   "id": "8de050a2",
   "metadata": {},
   "source": [
    "1. Объединили 3 датафрейма в один. \n",
    "2. Создали ещё два датафрейма из общего датафрейма:\n",
    "   - c данными о пользователях без подписки;\n",
    "   - с данными о пользователях с подпиской.\n",
    "3. Визуализировали информацию о расстоянии и времени поездок для пользователей обеих категорий."
   ]
  },
  {
   "cell_type": "markdown",
   "id": "402d620f",
   "metadata": {},
   "source": [
    "#### Шаг 5. Подсчёт выручки"
   ]
  },
  {
   "cell_type": "code",
   "execution_count": 32,
   "id": "6b46ebda",
   "metadata": {},
   "outputs": [],
   "source": [
    "merged_df['duration'] = np.ceil(merged_df['duration'])\n",
    "agg_df = merged_df.groupby(['user_id', merged_df['date'].dt.month]).agg({'distance':'sum', 'duration':['sum', 'count'],\n",
    "                                  'subscription_type':'first',\n",
    "                                  'minute_price':'first',\n",
    "                                  'start_ride_price':'first',\n",
    "                                  'subscription_fee':'first'}).reset_index()"
   ]
  },
  {
   "cell_type": "code",
   "execution_count": 33,
   "id": "f457fd24",
   "metadata": {},
   "outputs": [
    {
     "data": {
      "text/html": [
       "<div>\n",
       "<style scoped>\n",
       "    .dataframe tbody tr th:only-of-type {\n",
       "        vertical-align: middle;\n",
       "    }\n",
       "\n",
       "    .dataframe tbody tr th {\n",
       "        vertical-align: top;\n",
       "    }\n",
       "\n",
       "    .dataframe thead th {\n",
       "        text-align: right;\n",
       "    }\n",
       "</style>\n",
       "<table border=\"1\" class=\"dataframe\">\n",
       "  <thead>\n",
       "    <tr style=\"text-align: right;\">\n",
       "      <th></th>\n",
       "      <th>index</th>\n",
       "      <th>user_id</th>\n",
       "      <th>date</th>\n",
       "      <th>sum_distance</th>\n",
       "      <th>sum_duration</th>\n",
       "      <th>count_rides</th>\n",
       "      <th>subscription_type</th>\n",
       "      <th>minute_price</th>\n",
       "      <th>start_ride_price</th>\n",
       "      <th>subscription_fee</th>\n",
       "    </tr>\n",
       "  </thead>\n",
       "  <tbody>\n",
       "    <tr>\n",
       "      <th>0</th>\n",
       "      <td>0</td>\n",
       "      <td>1</td>\n",
       "      <td>1</td>\n",
       "      <td>7027.511294</td>\n",
       "      <td>42.0</td>\n",
       "      <td>2</td>\n",
       "      <td>ultra</td>\n",
       "      <td>6</td>\n",
       "      <td>0</td>\n",
       "      <td>199</td>\n",
       "    </tr>\n",
       "    <tr>\n",
       "      <th>1</th>\n",
       "      <td>1</td>\n",
       "      <td>1</td>\n",
       "      <td>4</td>\n",
       "      <td>754.159807</td>\n",
       "      <td>7.0</td>\n",
       "      <td>1</td>\n",
       "      <td>ultra</td>\n",
       "      <td>6</td>\n",
       "      <td>0</td>\n",
       "      <td>199</td>\n",
       "    </tr>\n",
       "    <tr>\n",
       "      <th>2</th>\n",
       "      <td>2</td>\n",
       "      <td>1</td>\n",
       "      <td>8</td>\n",
       "      <td>6723.470560</td>\n",
       "      <td>46.0</td>\n",
       "      <td>2</td>\n",
       "      <td>ultra</td>\n",
       "      <td>6</td>\n",
       "      <td>0</td>\n",
       "      <td>199</td>\n",
       "    </tr>\n",
       "    <tr>\n",
       "      <th>3</th>\n",
       "      <td>3</td>\n",
       "      <td>1</td>\n",
       "      <td>10</td>\n",
       "      <td>5809.911100</td>\n",
       "      <td>32.0</td>\n",
       "      <td>2</td>\n",
       "      <td>ultra</td>\n",
       "      <td>6</td>\n",
       "      <td>0</td>\n",
       "      <td>199</td>\n",
       "    </tr>\n",
       "    <tr>\n",
       "      <th>4</th>\n",
       "      <td>4</td>\n",
       "      <td>1</td>\n",
       "      <td>11</td>\n",
       "      <td>7003.499363</td>\n",
       "      <td>56.0</td>\n",
       "      <td>3</td>\n",
       "      <td>ultra</td>\n",
       "      <td>6</td>\n",
       "      <td>0</td>\n",
       "      <td>199</td>\n",
       "    </tr>\n",
       "    <tr>\n",
       "      <th>...</th>\n",
       "      <td>...</td>\n",
       "      <td>...</td>\n",
       "      <td>...</td>\n",
       "      <td>...</td>\n",
       "      <td>...</td>\n",
       "      <td>...</td>\n",
       "      <td>...</td>\n",
       "      <td>...</td>\n",
       "      <td>...</td>\n",
       "      <td>...</td>\n",
       "    </tr>\n",
       "    <tr>\n",
       "      <th>11326</th>\n",
       "      <td>11326</td>\n",
       "      <td>1534</td>\n",
       "      <td>6</td>\n",
       "      <td>3409.468534</td>\n",
       "      <td>26.0</td>\n",
       "      <td>2</td>\n",
       "      <td>free</td>\n",
       "      <td>8</td>\n",
       "      <td>50</td>\n",
       "      <td>0</td>\n",
       "    </tr>\n",
       "    <tr>\n",
       "      <th>11327</th>\n",
       "      <td>11327</td>\n",
       "      <td>1534</td>\n",
       "      <td>8</td>\n",
       "      <td>7622.453034</td>\n",
       "      <td>48.0</td>\n",
       "      <td>2</td>\n",
       "      <td>free</td>\n",
       "      <td>8</td>\n",
       "      <td>50</td>\n",
       "      <td>0</td>\n",
       "    </tr>\n",
       "    <tr>\n",
       "      <th>11328</th>\n",
       "      <td>11328</td>\n",
       "      <td>1534</td>\n",
       "      <td>9</td>\n",
       "      <td>4928.173852</td>\n",
       "      <td>23.0</td>\n",
       "      <td>1</td>\n",
       "      <td>free</td>\n",
       "      <td>8</td>\n",
       "      <td>50</td>\n",
       "      <td>0</td>\n",
       "    </tr>\n",
       "    <tr>\n",
       "      <th>11329</th>\n",
       "      <td>11329</td>\n",
       "      <td>1534</td>\n",
       "      <td>11</td>\n",
       "      <td>13350.015305</td>\n",
       "      <td>78.0</td>\n",
       "      <td>4</td>\n",
       "      <td>free</td>\n",
       "      <td>8</td>\n",
       "      <td>50</td>\n",
       "      <td>0</td>\n",
       "    </tr>\n",
       "    <tr>\n",
       "      <th>11330</th>\n",
       "      <td>11330</td>\n",
       "      <td>1534</td>\n",
       "      <td>12</td>\n",
       "      <td>2371.711192</td>\n",
       "      <td>16.0</td>\n",
       "      <td>1</td>\n",
       "      <td>free</td>\n",
       "      <td>8</td>\n",
       "      <td>50</td>\n",
       "      <td>0</td>\n",
       "    </tr>\n",
       "  </tbody>\n",
       "</table>\n",
       "<p>11331 rows × 10 columns</p>\n",
       "</div>"
      ],
      "text/plain": [
       "       index  user_id  date  sum_distance  sum_duration  count_rides  \\\n",
       "0          0        1     1   7027.511294          42.0            2   \n",
       "1          1        1     4    754.159807           7.0            1   \n",
       "2          2        1     8   6723.470560          46.0            2   \n",
       "3          3        1    10   5809.911100          32.0            2   \n",
       "4          4        1    11   7003.499363          56.0            3   \n",
       "...      ...      ...   ...           ...           ...          ...   \n",
       "11326  11326     1534     6   3409.468534          26.0            2   \n",
       "11327  11327     1534     8   7622.453034          48.0            2   \n",
       "11328  11328     1534     9   4928.173852          23.0            1   \n",
       "11329  11329     1534    11  13350.015305          78.0            4   \n",
       "11330  11330     1534    12   2371.711192          16.0            1   \n",
       "\n",
       "      subscription_type  minute_price  start_ride_price  subscription_fee  \n",
       "0                 ultra             6                 0               199  \n",
       "1                 ultra             6                 0               199  \n",
       "2                 ultra             6                 0               199  \n",
       "3                 ultra             6                 0               199  \n",
       "4                 ultra             6                 0               199  \n",
       "...                 ...           ...               ...               ...  \n",
       "11326              free             8                50                 0  \n",
       "11327              free             8                50                 0  \n",
       "11328              free             8                50                 0  \n",
       "11329              free             8                50                 0  \n",
       "11330              free             8                50                 0  \n",
       "\n",
       "[11331 rows x 10 columns]"
      ]
     },
     "execution_count": 33,
     "metadata": {},
     "output_type": "execute_result"
    }
   ],
   "source": [
    "agg_df.columns = ['user_id', 'date', 'sum_distance', 'sum_duration', 'count_rides',\n",
    "                         'subscription_type', 'minute_price',\n",
    "                         'start_ride_price', 'subscription_fee']\n",
    "agg_df.reset_index(inplace=True)\n",
    "agg_df"
   ]
  },
  {
   "cell_type": "markdown",
   "id": "4fe0aba6",
   "metadata": {},
   "source": [
    "Помесячная выручка считается по формуле: стоимость старта поездки ×  количество поездок + стоимость одной минуты поездки × общая продолжительность всех поездок в минутах + стоимость подписки."
   ]
  },
  {
   "cell_type": "code",
   "execution_count": 34,
   "id": "63220f36",
   "metadata": {},
   "outputs": [
    {
     "data": {
      "text/html": [
       "<div>\n",
       "<style scoped>\n",
       "    .dataframe tbody tr th:only-of-type {\n",
       "        vertical-align: middle;\n",
       "    }\n",
       "\n",
       "    .dataframe tbody tr th {\n",
       "        vertical-align: top;\n",
       "    }\n",
       "\n",
       "    .dataframe thead th {\n",
       "        text-align: right;\n",
       "    }\n",
       "</style>\n",
       "<table border=\"1\" class=\"dataframe\">\n",
       "  <thead>\n",
       "    <tr style=\"text-align: right;\">\n",
       "      <th></th>\n",
       "      <th>index</th>\n",
       "      <th>user_id</th>\n",
       "      <th>date</th>\n",
       "      <th>sum_distance</th>\n",
       "      <th>sum_duration</th>\n",
       "      <th>count_rides</th>\n",
       "      <th>subscription_type</th>\n",
       "      <th>minute_price</th>\n",
       "      <th>start_ride_price</th>\n",
       "      <th>subscription_fee</th>\n",
       "      <th>monthly_revenue</th>\n",
       "    </tr>\n",
       "  </thead>\n",
       "  <tbody>\n",
       "    <tr>\n",
       "      <th>0</th>\n",
       "      <td>0</td>\n",
       "      <td>1</td>\n",
       "      <td>1</td>\n",
       "      <td>7027.511294</td>\n",
       "      <td>42.0</td>\n",
       "      <td>2</td>\n",
       "      <td>ultra</td>\n",
       "      <td>6</td>\n",
       "      <td>0</td>\n",
       "      <td>199</td>\n",
       "      <td>451.0</td>\n",
       "    </tr>\n",
       "    <tr>\n",
       "      <th>1</th>\n",
       "      <td>1</td>\n",
       "      <td>1</td>\n",
       "      <td>4</td>\n",
       "      <td>754.159807</td>\n",
       "      <td>7.0</td>\n",
       "      <td>1</td>\n",
       "      <td>ultra</td>\n",
       "      <td>6</td>\n",
       "      <td>0</td>\n",
       "      <td>199</td>\n",
       "      <td>241.0</td>\n",
       "    </tr>\n",
       "    <tr>\n",
       "      <th>2</th>\n",
       "      <td>2</td>\n",
       "      <td>1</td>\n",
       "      <td>8</td>\n",
       "      <td>6723.470560</td>\n",
       "      <td>46.0</td>\n",
       "      <td>2</td>\n",
       "      <td>ultra</td>\n",
       "      <td>6</td>\n",
       "      <td>0</td>\n",
       "      <td>199</td>\n",
       "      <td>475.0</td>\n",
       "    </tr>\n",
       "    <tr>\n",
       "      <th>3</th>\n",
       "      <td>3</td>\n",
       "      <td>1</td>\n",
       "      <td>10</td>\n",
       "      <td>5809.911100</td>\n",
       "      <td>32.0</td>\n",
       "      <td>2</td>\n",
       "      <td>ultra</td>\n",
       "      <td>6</td>\n",
       "      <td>0</td>\n",
       "      <td>199</td>\n",
       "      <td>391.0</td>\n",
       "    </tr>\n",
       "    <tr>\n",
       "      <th>4</th>\n",
       "      <td>4</td>\n",
       "      <td>1</td>\n",
       "      <td>11</td>\n",
       "      <td>7003.499363</td>\n",
       "      <td>56.0</td>\n",
       "      <td>3</td>\n",
       "      <td>ultra</td>\n",
       "      <td>6</td>\n",
       "      <td>0</td>\n",
       "      <td>199</td>\n",
       "      <td>535.0</td>\n",
       "    </tr>\n",
       "    <tr>\n",
       "      <th>...</th>\n",
       "      <td>...</td>\n",
       "      <td>...</td>\n",
       "      <td>...</td>\n",
       "      <td>...</td>\n",
       "      <td>...</td>\n",
       "      <td>...</td>\n",
       "      <td>...</td>\n",
       "      <td>...</td>\n",
       "      <td>...</td>\n",
       "      <td>...</td>\n",
       "      <td>...</td>\n",
       "    </tr>\n",
       "    <tr>\n",
       "      <th>11326</th>\n",
       "      <td>11326</td>\n",
       "      <td>1534</td>\n",
       "      <td>6</td>\n",
       "      <td>3409.468534</td>\n",
       "      <td>26.0</td>\n",
       "      <td>2</td>\n",
       "      <td>free</td>\n",
       "      <td>8</td>\n",
       "      <td>50</td>\n",
       "      <td>0</td>\n",
       "      <td>308.0</td>\n",
       "    </tr>\n",
       "    <tr>\n",
       "      <th>11327</th>\n",
       "      <td>11327</td>\n",
       "      <td>1534</td>\n",
       "      <td>8</td>\n",
       "      <td>7622.453034</td>\n",
       "      <td>48.0</td>\n",
       "      <td>2</td>\n",
       "      <td>free</td>\n",
       "      <td>8</td>\n",
       "      <td>50</td>\n",
       "      <td>0</td>\n",
       "      <td>484.0</td>\n",
       "    </tr>\n",
       "    <tr>\n",
       "      <th>11328</th>\n",
       "      <td>11328</td>\n",
       "      <td>1534</td>\n",
       "      <td>9</td>\n",
       "      <td>4928.173852</td>\n",
       "      <td>23.0</td>\n",
       "      <td>1</td>\n",
       "      <td>free</td>\n",
       "      <td>8</td>\n",
       "      <td>50</td>\n",
       "      <td>0</td>\n",
       "      <td>234.0</td>\n",
       "    </tr>\n",
       "    <tr>\n",
       "      <th>11329</th>\n",
       "      <td>11329</td>\n",
       "      <td>1534</td>\n",
       "      <td>11</td>\n",
       "      <td>13350.015305</td>\n",
       "      <td>78.0</td>\n",
       "      <td>4</td>\n",
       "      <td>free</td>\n",
       "      <td>8</td>\n",
       "      <td>50</td>\n",
       "      <td>0</td>\n",
       "      <td>824.0</td>\n",
       "    </tr>\n",
       "    <tr>\n",
       "      <th>11330</th>\n",
       "      <td>11330</td>\n",
       "      <td>1534</td>\n",
       "      <td>12</td>\n",
       "      <td>2371.711192</td>\n",
       "      <td>16.0</td>\n",
       "      <td>1</td>\n",
       "      <td>free</td>\n",
       "      <td>8</td>\n",
       "      <td>50</td>\n",
       "      <td>0</td>\n",
       "      <td>178.0</td>\n",
       "    </tr>\n",
       "  </tbody>\n",
       "</table>\n",
       "<p>11331 rows × 11 columns</p>\n",
       "</div>"
      ],
      "text/plain": [
       "       index  user_id  date  sum_distance  sum_duration  count_rides  \\\n",
       "0          0        1     1   7027.511294          42.0            2   \n",
       "1          1        1     4    754.159807           7.0            1   \n",
       "2          2        1     8   6723.470560          46.0            2   \n",
       "3          3        1    10   5809.911100          32.0            2   \n",
       "4          4        1    11   7003.499363          56.0            3   \n",
       "...      ...      ...   ...           ...           ...          ...   \n",
       "11326  11326     1534     6   3409.468534          26.0            2   \n",
       "11327  11327     1534     8   7622.453034          48.0            2   \n",
       "11328  11328     1534     9   4928.173852          23.0            1   \n",
       "11329  11329     1534    11  13350.015305          78.0            4   \n",
       "11330  11330     1534    12   2371.711192          16.0            1   \n",
       "\n",
       "      subscription_type  minute_price  start_ride_price  subscription_fee  \\\n",
       "0                 ultra             6                 0               199   \n",
       "1                 ultra             6                 0               199   \n",
       "2                 ultra             6                 0               199   \n",
       "3                 ultra             6                 0               199   \n",
       "4                 ultra             6                 0               199   \n",
       "...                 ...           ...               ...               ...   \n",
       "11326              free             8                50                 0   \n",
       "11327              free             8                50                 0   \n",
       "11328              free             8                50                 0   \n",
       "11329              free             8                50                 0   \n",
       "11330              free             8                50                 0   \n",
       "\n",
       "       monthly_revenue  \n",
       "0                451.0  \n",
       "1                241.0  \n",
       "2                475.0  \n",
       "3                391.0  \n",
       "4                535.0  \n",
       "...                ...  \n",
       "11326            308.0  \n",
       "11327            484.0  \n",
       "11328            234.0  \n",
       "11329            824.0  \n",
       "11330            178.0  \n",
       "\n",
       "[11331 rows x 11 columns]"
      ]
     },
     "execution_count": 34,
     "metadata": {},
     "output_type": "execute_result"
    }
   ],
   "source": [
    "agg_df['monthly_revenue'] = (agg_df['start_ride_price'] * agg_df['count_rides'] +\n",
    "                             agg_df['minute_price'] * agg_df['sum_duration'] +\n",
    "                             agg_df['subscription_fee'])\n",
    "agg_df"
   ]
  },
  {
   "cell_type": "markdown",
   "id": "a9640a58",
   "metadata": {},
   "source": [
    "Создали датафрейм с агрегированными данными о поездках на основе датафрейма с объединёнными данными из шага 4. Нашли суммарное расстояние, количество поездок и суммарное время для каждого пользователя за каждый месяц.\n",
    "\n",
    "Рассчитали помесячную выручку."
   ]
  },
  {
   "cell_type": "markdown",
   "id": "41545ac0",
   "metadata": {},
   "source": [
    "#### Шаг 6. Проверка гипотез"
   ]
  },
  {
   "cell_type": "markdown",
   "id": "af5420e9",
   "metadata": {},
   "source": [
    "Продакт-менеджеры сервиса хотят увеличить количество пользователей с подпиской. Для этого они будут проводить различные акции, но сначала нужно выяснить несколько важных моментов."
   ]
  },
  {
   "cell_type": "markdown",
   "id": "0bedc180",
   "metadata": {},
   "source": [
    "6.1 Важно понять, тратят ли пользователи с подпиской больше времени на поездки? Если да, то пользователи с подпиской могут быть «выгоднее» для компании. Проверьте гипотезу. Используйте исходные данные о продолжительности каждой сессии — отдельно для подписчиков и тех, у кого нет подписки.\n",
    "\n",
    " - Нулевая гипотеза (Н0): Среднее время поездки у пользователей с подпиской и без подписки одинаковое.\n",
    " - Альтернативная гипотеза (Н1): Среднее время поездки у пользователей с подпиской больше чем у пользователей без подписки."
   ]
  },
  {
   "cell_type": "code",
   "execution_count": 35,
   "id": "1d8753cd",
   "metadata": {},
   "outputs": [
    {
     "name": "stdout",
     "output_type": "stream",
     "text": [
      "p-значение: 1.2804098316645618e-34\n",
      "Отвергаем нулевую гипотезу\n"
     ]
    }
   ],
   "source": [
    "free_duration = free['duration']\n",
    "ultra_duration = ultra['duration']\n",
    "\n",
    "alpha = 0.05\n",
    "\n",
    "results = st.ttest_ind(ultra_duration, free_duration, alternative='greater')\n",
    "print('p-значение:', results.pvalue)\n",
    "\n",
    "if results.pvalue < alpha:\n",
    "    print('Отвергаем нулевую гипотезу')\n",
    "else:\n",
    "    print('Не получилось отвергнуть нулевую гипотезу')"
   ]
  },
  {
   "cell_type": "code",
   "execution_count": 36,
   "id": "fa965e0f",
   "metadata": {},
   "outputs": [
    {
     "name": "stdout",
     "output_type": "stream",
     "text": [
      "17.39090929866399\n",
      "18.54198516280583\n"
     ]
    }
   ],
   "source": [
    "print(free['duration'].mean())\n",
    "print(ultra['duration'].mean())"
   ]
  },
  {
   "cell_type": "markdown",
   "id": "6260549d",
   "metadata": {},
   "source": [
    "6.2 Расстояние одной поездки в 3130 метров — оптимальное с точки зрения износа самоката. Можно ли сказать, что среднее расстояние, которое проезжают пользователи с подпиской за одну поездку, не превышает 3130 метров? Проверьте гипотезу и сделайте выводы."
   ]
  },
  {
   "cell_type": "markdown",
   "id": "4093acb9",
   "metadata": {},
   "source": [
    " - Нулевая гипотеза (Н0): Расстояние одной поездки в 3130 метров — оптимальное с точки зрения износа самоката.\n",
    " - Альтернативная гипотеза (Н1): Среднее расстояние, которое проезжают пользователи с подпиской за одну поездку, не превышает 3130 метров."
   ]
  },
  {
   "cell_type": "code",
   "execution_count": 37,
   "id": "75a504a8",
   "metadata": {},
   "outputs": [
    {
     "name": "stdout",
     "output_type": "stream",
     "text": [
      "p-значение: 0.9195368847849785\n",
      "Не получилось отвергнуть нулевую гипотезу\n"
     ]
    }
   ],
   "source": [
    "one_trip = 3130\n",
    "ultra_dist = ultra['distance']\n",
    "\n",
    "alpha = 0.05\n",
    "\n",
    "results = st.ttest_1samp(ultra_dist, one_trip, alternative='greater')\n",
    "print('p-значение:', results.pvalue)\n",
    "\n",
    "if results.pvalue < alpha:\n",
    "    print('Отвергаем нулевую гипотезу')\n",
    "else:\n",
    "    print('Не получилось отвергнуть нулевую гипотезу')"
   ]
  },
  {
   "cell_type": "code",
   "execution_count": 38,
   "id": "6e12ed40",
   "metadata": {},
   "outputs": [
    {
     "data": {
      "text/plain": [
       "3115.4453880370247"
      ]
     },
     "execution_count": 38,
     "metadata": {},
     "output_type": "execute_result"
    }
   ],
   "source": [
    "ultra['distance'].mean()"
   ]
  },
  {
   "cell_type": "markdown",
   "id": "8a6a9ac1",
   "metadata": {},
   "source": [
    "6.3 Проверьте гипотезу о том, будет ли помесячная выручка от пользователей с подпиской по месяцам выше, чем выручка от пользователей без подписки. Сделайте вывод.\n",
    "\n",
    " - Нулевая гипотеза (Н0): Месячная выручка от пользователей с подпиской такая же как у пользователей без подписки.\n",
    " - Альтернативная гипотеза (Н1): Месячная выручка от пользователей с подпиской не равна месячной выручке у пользователей без подписки."
   ]
  },
  {
   "cell_type": "code",
   "execution_count": 39,
   "id": "0646de28",
   "metadata": {},
   "outputs": [
    {
     "name": "stdout",
     "output_type": "stream",
     "text": [
      "p-значение: 1.8850394384715216e-31\n",
      "Отвергаем нулевую гипотезу\n"
     ]
    }
   ],
   "source": [
    "mrevenue_ult = agg_df[agg_df['subscription_fee'] == 199]['monthly_revenue']\n",
    "mrevenue_free = agg_df[agg_df['subscription_fee'] == 0]['monthly_revenue']\n",
    "\n",
    "alpha = 0.05\n",
    "\n",
    "results = st.ttest_ind(mrevenue_ult, mrevenue_free, alternative= 'greater')\n",
    "print('p-значение:', results.pvalue)\n",
    "\n",
    "if results.pvalue < alpha:\n",
    "    print('Отвергаем нулевую гипотезу')\n",
    "else:\n",
    "    print('Не получилось отвергнуть нулевую гипотезу')"
   ]
  },
  {
   "cell_type": "code",
   "execution_count": 40,
   "id": "20f48581",
   "metadata": {},
   "outputs": [
    {
     "name": "stdout",
     "output_type": "stream",
     "text": [
      "362.7921906022502\n",
      "328.6413651073845\n"
     ]
    }
   ],
   "source": [
    "print(mrevenue_ult.mean())\n",
    "print(mrevenue_free.mean())"
   ]
  },
  {
   "cell_type": "markdown",
   "id": "9a720077",
   "metadata": {},
   "source": [
    "6.4 Представьте такую ситуацию: техническая команда сервиса обновила сервера, с которыми взаимодействует мобильное приложение. Она надеется, что из-за этого количество обращений в техподдержку значимо снизилось. Некоторый файл содержит для каждого пользователя данные о количестве обращений до обновления и после него. Какой тест вам понадобился бы для проверки этой гипотезы?"
   ]
  },
  {
   "cell_type": "markdown",
   "id": "afb10ddf",
   "metadata": {},
   "source": [
    "Для проверки гипотезы о том, что обновление серверов привело к уменьшению количества обращений в техподдержку, необходимо использовать односторонний тест для зависимых (парных) выборок. Так как нас интересует только уменьшение количества обращений после обновления, то альтернативная гипотеза будет утверждать, что количество обращений после обновления меньше, чем до обновления. Основная (нулевая) гипотеза же может утверждать, что различия между количеством обращений до и после обновления отсутствуют или что количество обращений после обновления больше или равно, чем до. Для этого мы можем использовать односторонний тест scipy.stats.ttest_rel, указав альтернативу 'less'."
   ]
  },
  {
   "cell_type": "markdown",
   "id": "61213c5e",
   "metadata": {},
   "source": [
    "#### Шаг 7. Распределения"
   ]
  },
  {
   "cell_type": "markdown",
   "id": "99762b41",
   "metadata": {},
   "source": [
    "7.1 Отделу маркетинга GoFast поставили задачу: нужно провести акцию с раздачей промокодов на один бесплатный месяц подписки, в рамках которой как минимум 100 существующих клиентов должны продлить эту подписку. То есть по завершении периода действия подписки пользователь может либо отказаться от неё, либо продлить, совершив соответствующий платёж.\n",
    " \n",
    "Эта акция уже проводилась ранее и по итогу выяснилось, что после бесплатного пробного периода подписку продлевают 10 % пользователей. Выясните, какое минимальное количество промокодов нужно разослать, чтобы вероятность не выполнить план была примерно 5 %. Подберите параметры распределения, описывающего эту ситуацию, постройте график распределения и сформулируйте ответ на вопрос о количестве промокодов.\n",
    "\n",
    "Подсказка\n",
    "Нужно использовать биномиальное распределение, которое описывает указанную ситуацию. Затем подобрать подходящее значение параметра N для заданного параметра p=0.1 с помощью графиков и метода cdf() , сформулировать вывод и ответ."
   ]
  },
  {
   "cell_type": "code",
   "execution_count": 41,
   "id": "46aadd97",
   "metadata": {},
   "outputs": [
    {
     "data": {
      "image/png": "[encoded data removed]",
      "text/plain": [
       "<Figure size 432x288 with 1 Axes>"
      ]
     },
     "metadata": {
      "needs_background": "light"
     },
     "output_type": "display_data"
    },
    {
     "name": "stdout",
     "output_type": "stream",
     "text": [
      "Минимальное количество промокодов (N): 1161\n"
     ]
    }
   ],
   "source": [
    "p = 0.1  # Вероятность успеха\n",
    "target_prob = 0.05  # Целевая вероятность не выполнить план\n",
    "\n",
    "N = 100  # Начальное значение N\n",
    "step = 1  # Шаг изменения N\n",
    "prob_less_than_target = []\n",
    "\n",
    "while True:\n",
    "    binom_dist = st.binom(N, p)\n",
    "    prob = binom_dist.cdf(99)  # Вероятность получить 99 или меньше успехов\n",
    "    prob_less_than_target.append(prob)\n",
    "\n",
    "    if prob <= target_prob:\n",
    "        break\n",
    "\n",
    "    N += step\n",
    "\n",
    "# Построение графика распределения\n",
    "N_values = range(100, N+1, step)\n",
    "plt.plot(N_values, prob_less_than_target)\n",
    "plt.xlabel('Количество промокодов (N)')\n",
    "plt.ylabel('Вероятность')\n",
    "plt.title('Вероятность получить менее 100 продлений подписки')\n",
    "plt.grid(True)\n",
    "plt.show()\n",
    "\n",
    "print('Минимальное количество промокодов (N):', N)"
   ]
  },
  {
   "cell_type": "markdown",
   "id": "bc6c9de1",
   "metadata": {},
   "source": [
    "Нужно разослать минимум 1161 промокодов, чтобы вероятность не выполнить план была примерно 5 %."
   ]
  },
  {
   "cell_type": "markdown",
   "id": "c4628e1c",
   "metadata": {},
   "source": [
    "7.2 Отдел маркетинга рассылает клиентам push-уведомления в мобильном приложении. Клиенты могут открыть его или не открывать. Известно, что уведомления открывают около 40 % получивших клиентов. Отдел планирует разослать 1 млн уведомлений. С помощью аппроксимации постройте примерный график распределения и оцените вероятность того, что уведомление откроют не более 399,5 тыс. пользователей.\n",
    "\n",
    "Эта ситуация тоже описывается биномиальным распределением. Но считать каждое отдельное значение достаточно долго. Вы можете воспользоваться нормальной аппроксимацией биномиального распределения и cdf() для быстрой оценки."
   ]
  },
  {
   "cell_type": "code",
   "execution_count": 42,
   "id": "81d13764",
   "metadata": {},
   "outputs": [
    {
     "name": "stdout",
     "output_type": "stream",
     "text": [
      "0.15371708296369768\n"
     ]
    },
    {
     "data": {
      "image/png": "[encoded data removed]",
      "text/plain": [
       "<Figure size 432x288 with 1 Axes>"
      ]
     },
     "metadata": {
      "needs_background": "light"
     },
     "output_type": "display_data"
    }
   ],
   "source": [
    "n = 1000000\n",
    "p = 0.4\n",
    "\n",
    "mu = n * p\n",
    "sigma = np.sqrt(n * p * (1 - p))\n",
    "\n",
    "distr = st.norm(mu, sigma)\n",
    "\n",
    "result = distr.cdf(399500)\n",
    "print(result)\n",
    "\n",
    "x = np.arange(0, 500000)\n",
    "y = st.norm.cdf(x, mu, sigma)\n",
    "\n",
    "plt.plot(x, y)\n",
    "plt.xlabel('Количество пользователей')\n",
    "plt.ylabel('Вероятность')\n",
    "plt.title('Аппроксимация биномиального распределения нормальным')\n",
    "plt.show()"
   ]
  },
  {
   "cell_type": "markdown",
   "id": "5269e915",
   "metadata": {},
   "source": [
    "Вероятность того, что уведомление откроют не более 399,5 тыс. пользователей, составляет чуть больше 15%."
   ]
  },
  {
   "cell_type": "markdown",
   "id": "009d362d",
   "metadata": {},
   "source": [
    "## Общий вывод\n",
    "\n",
    "На начальном этапе, я работал с данными, которые составляли почти 20000 строк датасета. На первом же этапе, при открытии датасета, сразу же исправляем тип данных с датой.\n",
    "\n",
    "В процессе предобработке данных:\n",
    "\n",
    "1. Создан новый столбец с номером месяца на основе столбца date.\n",
    "2. Пропусков в датасетах не было обнаружено.\n",
    "3. Дубликаты были удалены.\n",
    "\n",
    "На этапе исследовательского анализа данных было выяснено, что:\n",
    "\n",
    "1. Всего имеется 8 уникальных значений по городам.\n",
    "2. Чаще всего встречается Пятигорск, а реже всего Москва.\n",
    "3. Пользователей без подписки больше, чем пользователей с подпиской.\n",
    "4. Чаще всего пользуются пользователи, в возрасте 25 лет.\n",
    "5. Пик коротких поездок находиться около 700 м. Пик длинных поездок находиться около 3000 м.\n",
    "6. Чаще всего продолжительность поездки составляет около 17 минут.\n",
    "\n",
    "На этапе объеденения данных, было выяснено, что:\n",
    "\n",
    "1. Пользователи без подписки, чаще всего проезжают около 2500 м., а c подпиской, около 3000 м.\n",
    "2. Пользователи без подписки, чаще всего едут около 18 минут. С подпиской, так же, чаще всего едут около 18 минут.\n",
    "\n",
    "Также, на этапе объединения данных:\n",
    "\n",
    "1. Объединили 3 датафрейма в один. \n",
    "2. Создали ещё два датафрейма из общего датафрейма:\n",
    "   - c данными о пользователях без подписки;\n",
    "   - с данными о пользователях с подпиской.\n",
    "3. Визуализировали информацию о расстоянии и времени поездок для пользователей обеих категорий.\n",
    "\n",
    "На этапе подсчёта выручки:\n",
    "\n",
    "1. Создали датафрейм с агрегированными данными о поездках на основе датафрейма с объединёнными данными из шага 4. Нашли суммарное расстояние, количество поездок и суммарное время для каждого пользователя за каждый месяц.\n",
    "2. Рассчитали помесячную выручку.\n",
    "\n",
    "На этапе проверки гипотез, было выяснено, что:\n",
    "\n",
    "1. Среднее время поездки у пользователей с подпиской больше, чем у пользователей без подписки.\n",
    "2. Расстояние одной поездки в 3130 метров — оптимальное с точки зрения износа самоката.\n",
    "3. Месячная выручка от пользователей с подпиской не равна месячной выручке у пользователей без подписки.\n",
    "\n",
    "На этапе распределения, было выяснено, что:\n",
    "\n",
    "1. Нужно разослать минимум 1161 промокодов, чтобы вероятность не выполнить план была примерно 5 %.\n",
    "2. Вероятность того, что уведомление откроют не более 399,5 тыс. пользователей, составляет чуть больше 15%.\n",
    "\n",
    "Исходя из проверки гипотез, можно сказать, что пользователи с подпиской более выгоды для компании."
   ]
  }
 ],
 "metadata": {
  "ExecuteTimeLog": [
   {
    "duration": 60,
    "start_time": "2023-10-24T12:41:03.913Z"
   },
   {
    "duration": 428,
    "start_time": "2023-10-24T12:42:04.549Z"
   },
   {
    "duration": 113,
    "start_time": "2023-10-24T12:42:04.980Z"
   },
   {
    "duration": 420,
    "start_time": "2023-10-24T12:43:11.839Z"
   },
   {
    "duration": 71,
    "start_time": "2023-10-24T12:43:49.851Z"
   },
   {
    "duration": 11,
    "start_time": "2023-10-24T12:45:23.597Z"
   },
   {
    "duration": 11,
    "start_time": "2023-10-24T12:45:25.116Z"
   },
   {
    "duration": 9,
    "start_time": "2023-10-24T12:45:25.701Z"
   },
   {
    "duration": 6,
    "start_time": "2023-10-24T12:46:48.903Z"
   },
   {
    "duration": 6,
    "start_time": "2023-10-24T12:46:49.575Z"
   },
   {
    "duration": 7,
    "start_time": "2023-10-24T12:46:49.934Z"
   },
   {
    "duration": 367,
    "start_time": "2023-10-24T12:51:50.200Z"
   },
   {
    "duration": 40,
    "start_time": "2023-10-24T12:51:50.569Z"
   },
   {
    "duration": 39,
    "start_time": "2023-10-24T12:51:50.611Z"
   },
   {
    "duration": 26,
    "start_time": "2023-10-24T12:51:50.653Z"
   },
   {
    "duration": 11,
    "start_time": "2023-10-24T12:51:50.681Z"
   },
   {
    "duration": 68,
    "start_time": "2023-10-24T12:51:50.694Z"
   },
   {
    "duration": 24,
    "start_time": "2023-10-24T12:51:50.764Z"
   },
   {
    "duration": 33,
    "start_time": "2023-10-24T12:51:50.789Z"
   },
   {
    "duration": 60,
    "start_time": "2023-10-24T12:51:50.824Z"
   },
   {
    "duration": 56,
    "start_time": "2023-10-24T12:51:50.886Z"
   },
   {
    "duration": 5,
    "start_time": "2023-10-24T12:54:18.858Z"
   },
   {
    "duration": 8,
    "start_time": "2023-10-24T12:54:37.896Z"
   },
   {
    "duration": 11,
    "start_time": "2023-10-24T12:54:48.207Z"
   },
   {
    "duration": 435,
    "start_time": "2023-10-24T12:55:36.047Z"
   },
   {
    "duration": 40,
    "start_time": "2023-10-24T12:55:36.484Z"
   },
   {
    "duration": 47,
    "start_time": "2023-10-24T12:55:36.526Z"
   },
   {
    "duration": 19,
    "start_time": "2023-10-24T12:55:36.575Z"
   },
   {
    "duration": 13,
    "start_time": "2023-10-24T12:55:36.596Z"
   },
   {
    "duration": 25,
    "start_time": "2023-10-24T12:55:36.610Z"
   },
   {
    "duration": 11,
    "start_time": "2023-10-24T12:55:36.637Z"
   },
   {
    "duration": 21,
    "start_time": "2023-10-24T12:55:36.650Z"
   },
   {
    "duration": 9,
    "start_time": "2023-10-24T12:55:36.673Z"
   },
   {
    "duration": 11,
    "start_time": "2023-10-24T12:55:36.683Z"
   },
   {
    "duration": 17,
    "start_time": "2023-10-24T12:55:36.696Z"
   },
   {
    "duration": 5,
    "start_time": "2023-10-24T12:59:46.707Z"
   },
   {
    "duration": 6,
    "start_time": "2023-10-24T12:59:58.777Z"
   },
   {
    "duration": 6,
    "start_time": "2023-10-24T13:00:12.392Z"
   },
   {
    "duration": 5,
    "start_time": "2023-10-24T13:01:16.922Z"
   },
   {
    "duration": 672,
    "start_time": "2023-10-24T13:01:36.220Z"
   },
   {
    "duration": 110,
    "start_time": "2023-10-24T13:01:42.557Z"
   },
   {
    "duration": 143,
    "start_time": "2023-10-24T13:01:49.834Z"
   },
   {
    "duration": 133,
    "start_time": "2023-10-24T13:01:55.802Z"
   },
   {
    "duration": 224,
    "start_time": "2023-10-24T13:02:00.778Z"
   },
   {
    "duration": 173,
    "start_time": "2023-10-24T13:02:05.433Z"
   },
   {
    "duration": 159,
    "start_time": "2023-10-24T13:02:09.793Z"
   },
   {
    "duration": 146,
    "start_time": "2023-10-24T13:02:39.552Z"
   },
   {
    "duration": 154,
    "start_time": "2023-10-24T13:02:48.449Z"
   },
   {
    "duration": 182,
    "start_time": "2023-10-24T13:02:54.390Z"
   },
   {
    "duration": 211,
    "start_time": "2023-10-24T13:04:10.850Z"
   },
   {
    "duration": 424,
    "start_time": "2023-10-24T13:04:55.928Z"
   },
   {
    "duration": 45,
    "start_time": "2023-10-24T13:04:56.354Z"
   },
   {
    "duration": 37,
    "start_time": "2023-10-24T13:04:56.400Z"
   },
   {
    "duration": 21,
    "start_time": "2023-10-24T13:04:56.439Z"
   },
   {
    "duration": 11,
    "start_time": "2023-10-24T13:04:56.462Z"
   },
   {
    "duration": 25,
    "start_time": "2023-10-24T13:04:56.475Z"
   },
   {
    "duration": 13,
    "start_time": "2023-10-24T13:04:56.502Z"
   },
   {
    "duration": 15,
    "start_time": "2023-10-24T13:04:56.517Z"
   },
   {
    "duration": 22,
    "start_time": "2023-10-24T13:04:56.534Z"
   },
   {
    "duration": 9,
    "start_time": "2023-10-24T13:04:56.558Z"
   },
   {
    "duration": 20,
    "start_time": "2023-10-24T13:04:56.568Z"
   },
   {
    "duration": 19,
    "start_time": "2023-10-24T13:04:56.590Z"
   },
   {
    "duration": 566,
    "start_time": "2023-10-24T13:04:56.610Z"
   },
   {
    "duration": 145,
    "start_time": "2023-10-24T13:05:06.582Z"
   },
   {
    "duration": 165,
    "start_time": "2023-10-24T13:05:16.925Z"
   },
   {
    "duration": 3,
    "start_time": "2023-10-24T13:05:35.747Z"
   },
   {
    "duration": 182,
    "start_time": "2023-10-24T13:05:39.882Z"
   },
   {
    "duration": 193,
    "start_time": "2023-10-24T13:05:46.273Z"
   },
   {
    "duration": 243,
    "start_time": "2023-10-24T13:05:57.610Z"
   },
   {
    "duration": 182,
    "start_time": "2023-10-24T13:06:01.730Z"
   },
   {
    "duration": 7,
    "start_time": "2023-10-24T13:07:06.558Z"
   },
   {
    "duration": 6,
    "start_time": "2023-10-24T13:07:11.868Z"
   },
   {
    "duration": 152,
    "start_time": "2023-10-24T13:07:30.507Z"
   },
   {
    "duration": 138,
    "start_time": "2023-10-24T13:07:37.035Z"
   },
   {
    "duration": 122,
    "start_time": "2023-10-24T13:07:46.082Z"
   },
   {
    "duration": 120,
    "start_time": "2023-10-24T13:08:21.073Z"
   },
   {
    "duration": 141,
    "start_time": "2023-10-24T13:08:47.742Z"
   },
   {
    "duration": 6,
    "start_time": "2023-10-24T13:09:19.263Z"
   },
   {
    "duration": 6,
    "start_time": "2023-10-24T13:09:23.764Z"
   },
   {
    "duration": 6,
    "start_time": "2023-10-24T13:09:34.580Z"
   },
   {
    "duration": 161,
    "start_time": "2023-10-24T13:09:59.802Z"
   },
   {
    "duration": 147,
    "start_time": "2023-10-24T13:10:36.887Z"
   },
   {
    "duration": 10,
    "start_time": "2023-10-24T13:12:37.542Z"
   },
   {
    "duration": 133,
    "start_time": "2023-10-24T13:13:01.365Z"
   },
   {
    "duration": 152,
    "start_time": "2023-10-24T13:13:57.183Z"
   },
   {
    "duration": 203,
    "start_time": "2023-10-24T13:14:22.302Z"
   },
   {
    "duration": 140,
    "start_time": "2023-10-24T13:14:26.916Z"
   },
   {
    "duration": 133,
    "start_time": "2023-10-24T13:14:31.291Z"
   },
   {
    "duration": 119,
    "start_time": "2023-10-24T13:14:35.610Z"
   },
   {
    "duration": 143,
    "start_time": "2023-10-24T13:14:41.427Z"
   },
   {
    "duration": 153,
    "start_time": "2023-10-24T13:14:48.035Z"
   },
   {
    "duration": 156,
    "start_time": "2023-10-24T13:14:55.330Z"
   },
   {
    "duration": 154,
    "start_time": "2023-10-24T13:15:33.182Z"
   },
   {
    "duration": 155,
    "start_time": "2023-10-24T13:15:59.868Z"
   },
   {
    "duration": 24,
    "start_time": "2023-10-24T13:36:11.770Z"
   },
   {
    "duration": 11,
    "start_time": "2023-10-24T13:36:46.033Z"
   },
   {
    "duration": 9,
    "start_time": "2023-10-24T13:36:55.278Z"
   },
   {
    "duration": 10,
    "start_time": "2023-10-24T13:37:59.185Z"
   },
   {
    "duration": 11,
    "start_time": "2023-10-24T13:38:09.425Z"
   },
   {
    "duration": 8,
    "start_time": "2023-10-24T13:38:29.728Z"
   },
   {
    "duration": 10,
    "start_time": "2023-10-24T13:38:44.263Z"
   },
   {
    "duration": 7,
    "start_time": "2023-10-24T13:39:08.477Z"
   },
   {
    "duration": 9,
    "start_time": "2023-10-24T13:40:09.881Z"
   },
   {
    "duration": 22,
    "start_time": "2023-10-24T13:40:22.944Z"
   },
   {
    "duration": 13,
    "start_time": "2023-10-24T13:48:30.887Z"
   },
   {
    "duration": 1465,
    "start_time": "2023-10-24T13:56:40.371Z"
   },
   {
    "duration": 0,
    "start_time": "2023-10-24T13:56:41.838Z"
   },
   {
    "duration": 9,
    "start_time": "2023-10-24T14:07:36.272Z"
   },
   {
    "duration": 10,
    "start_time": "2023-10-24T14:07:38.727Z"
   },
   {
    "duration": 12,
    "start_time": "2023-10-24T14:08:13.956Z"
   },
   {
    "duration": 12,
    "start_time": "2023-10-24T14:08:41.119Z"
   },
   {
    "duration": 10,
    "start_time": "2023-10-24T14:18:03.141Z"
   },
   {
    "duration": 6,
    "start_time": "2023-10-24T14:18:18.576Z"
   },
   {
    "duration": 6,
    "start_time": "2023-10-24T14:24:16.765Z"
   },
   {
    "duration": 13,
    "start_time": "2023-10-24T14:24:35.311Z"
   },
   {
    "duration": 6,
    "start_time": "2023-10-24T14:26:06.353Z"
   },
   {
    "duration": 9,
    "start_time": "2023-10-24T14:27:04.853Z"
   },
   {
    "duration": 16,
    "start_time": "2023-10-24T14:27:44.169Z"
   },
   {
    "duration": 8,
    "start_time": "2023-10-24T14:27:53.895Z"
   },
   {
    "duration": 686,
    "start_time": "2023-10-24T14:28:12.927Z"
   },
   {
    "duration": 39,
    "start_time": "2023-10-24T14:28:13.615Z"
   },
   {
    "duration": 37,
    "start_time": "2023-10-24T14:28:13.656Z"
   },
   {
    "duration": 26,
    "start_time": "2023-10-24T14:28:13.695Z"
   },
   {
    "duration": 11,
    "start_time": "2023-10-24T14:28:13.722Z"
   },
   {
    "duration": 34,
    "start_time": "2023-10-24T14:28:13.735Z"
   },
   {
    "duration": 35,
    "start_time": "2023-10-24T14:28:13.770Z"
   },
   {
    "duration": 71,
    "start_time": "2023-10-24T14:28:13.807Z"
   },
   {
    "duration": 22,
    "start_time": "2023-10-24T14:28:13.880Z"
   },
   {
    "duration": 20,
    "start_time": "2023-10-24T14:28:13.904Z"
   },
   {
    "duration": 21,
    "start_time": "2023-10-24T14:28:13.926Z"
   },
   {
    "duration": 15,
    "start_time": "2023-10-24T14:28:13.949Z"
   },
   {
    "duration": 253,
    "start_time": "2023-10-24T14:28:13.966Z"
   },
   {
    "duration": 7,
    "start_time": "2023-10-24T14:28:14.221Z"
   },
   {
    "duration": 173,
    "start_time": "2023-10-24T14:28:14.230Z"
   },
   {
    "duration": 183,
    "start_time": "2023-10-24T14:28:14.405Z"
   },
   {
    "duration": 244,
    "start_time": "2023-10-24T14:28:14.590Z"
   },
   {
    "duration": 219,
    "start_time": "2023-10-24T14:28:14.843Z"
   },
   {
    "duration": 12,
    "start_time": "2023-10-24T14:28:15.065Z"
   },
   {
    "duration": 65,
    "start_time": "2023-10-24T14:28:15.078Z"
   },
   {
    "duration": 46,
    "start_time": "2023-10-24T14:28:15.145Z"
   },
   {
    "duration": 38,
    "start_time": "2023-10-24T14:28:15.193Z"
   },
   {
    "duration": 38,
    "start_time": "2023-10-24T14:28:15.233Z"
   },
   {
    "duration": 19,
    "start_time": "2023-10-24T14:28:15.272Z"
   },
   {
    "duration": 37,
    "start_time": "2023-10-24T14:28:15.293Z"
   },
   {
    "duration": 43,
    "start_time": "2023-10-24T14:28:15.332Z"
   },
   {
    "duration": 5,
    "start_time": "2023-10-24T14:28:47.527Z"
   },
   {
    "duration": 7,
    "start_time": "2023-10-24T14:28:55.589Z"
   },
   {
    "duration": 12,
    "start_time": "2023-10-24T14:29:46.153Z"
   },
   {
    "duration": 7,
    "start_time": "2023-10-24T14:29:50.439Z"
   },
   {
    "duration": 13,
    "start_time": "2023-10-24T14:33:11.074Z"
   },
   {
    "duration": 2527,
    "start_time": "2023-10-24T14:33:53.552Z"
   },
   {
    "duration": 127,
    "start_time": "2023-10-24T14:33:57.608Z"
   },
   {
    "duration": 152,
    "start_time": "2023-10-24T14:34:56.204Z"
   },
   {
    "duration": 141,
    "start_time": "2023-10-24T14:35:27.114Z"
   },
   {
    "duration": 147,
    "start_time": "2023-10-24T14:36:03.838Z"
   },
   {
    "duration": 136,
    "start_time": "2023-10-24T14:36:10.318Z"
   },
   {
    "duration": 151,
    "start_time": "2023-10-24T14:36:15.232Z"
   },
   {
    "duration": 141,
    "start_time": "2023-10-24T14:36:43.260Z"
   },
   {
    "duration": 148,
    "start_time": "2023-10-24T14:37:06.706Z"
   },
   {
    "duration": 12,
    "start_time": "2023-10-24T14:40:22.388Z"
   },
   {
    "duration": 8,
    "start_time": "2023-10-24T14:40:58.586Z"
   },
   {
    "duration": 42,
    "start_time": "2023-10-24T14:41:28.103Z"
   },
   {
    "duration": 36,
    "start_time": "2023-10-24T14:41:53.206Z"
   },
   {
    "duration": 38,
    "start_time": "2023-10-24T14:42:01.438Z"
   },
   {
    "duration": 7,
    "start_time": "2023-10-24T14:45:05.401Z"
   },
   {
    "duration": 7,
    "start_time": "2023-10-24T14:45:19.359Z"
   },
   {
    "duration": 7,
    "start_time": "2023-10-24T14:45:22.559Z"
   },
   {
    "duration": 8,
    "start_time": "2023-10-24T14:45:35.193Z"
   },
   {
    "duration": 5,
    "start_time": "2023-10-24T14:45:40.062Z"
   },
   {
    "duration": 16,
    "start_time": "2023-10-24T14:47:35.279Z"
   },
   {
    "duration": 24,
    "start_time": "2023-10-24T14:47:41.382Z"
   },
   {
    "duration": 14,
    "start_time": "2023-10-24T14:47:57.644Z"
   },
   {
    "duration": 120,
    "start_time": "2023-10-24T15:05:13.139Z"
   },
   {
    "duration": 753,
    "start_time": "2023-10-24T15:05:33.938Z"
   },
   {
    "duration": 38,
    "start_time": "2023-10-24T15:05:34.692Z"
   },
   {
    "duration": 49,
    "start_time": "2023-10-24T15:05:34.731Z"
   },
   {
    "duration": 19,
    "start_time": "2023-10-24T15:05:34.782Z"
   },
   {
    "duration": 21,
    "start_time": "2023-10-24T15:05:34.803Z"
   },
   {
    "duration": 28,
    "start_time": "2023-10-24T15:05:34.826Z"
   },
   {
    "duration": 15,
    "start_time": "2023-10-24T15:05:34.857Z"
   },
   {
    "duration": 55,
    "start_time": "2023-10-24T15:05:34.874Z"
   },
   {
    "duration": 23,
    "start_time": "2023-10-24T15:05:34.931Z"
   },
   {
    "duration": 33,
    "start_time": "2023-10-24T15:05:34.957Z"
   },
   {
    "duration": 29,
    "start_time": "2023-10-24T15:05:34.991Z"
   },
   {
    "duration": 21,
    "start_time": "2023-10-24T15:05:35.022Z"
   },
   {
    "duration": 226,
    "start_time": "2023-10-24T15:05:35.044Z"
   },
   {
    "duration": 6,
    "start_time": "2023-10-24T15:05:35.272Z"
   },
   {
    "duration": 142,
    "start_time": "2023-10-24T15:05:35.280Z"
   },
   {
    "duration": 171,
    "start_time": "2023-10-24T15:05:35.423Z"
   },
   {
    "duration": 174,
    "start_time": "2023-10-24T15:05:35.595Z"
   },
   {
    "duration": 229,
    "start_time": "2023-10-24T15:05:35.771Z"
   },
   {
    "duration": 10,
    "start_time": "2023-10-24T15:05:36.002Z"
   },
   {
    "duration": 10,
    "start_time": "2023-10-24T15:05:36.013Z"
   },
   {
    "duration": 22,
    "start_time": "2023-10-24T15:05:36.025Z"
   },
   {
    "duration": 188,
    "start_time": "2023-10-24T15:05:36.049Z"
   },
   {
    "duration": 196,
    "start_time": "2023-10-24T15:05:36.239Z"
   },
   {
    "duration": 146,
    "start_time": "2023-10-24T15:05:36.437Z"
   },
   {
    "duration": 155,
    "start_time": "2023-10-24T15:05:36.585Z"
   },
   {
    "duration": 13,
    "start_time": "2023-10-24T15:05:36.744Z"
   },
   {
    "duration": 131,
    "start_time": "2023-10-24T15:05:36.759Z"
   },
   {
    "duration": 0,
    "start_time": "2023-10-24T15:05:36.891Z"
   },
   {
    "duration": 0,
    "start_time": "2023-10-24T15:05:36.893Z"
   },
   {
    "duration": 102,
    "start_time": "2023-10-24T15:05:44.040Z"
   },
   {
    "duration": 7,
    "start_time": "2023-10-24T15:07:01.585Z"
   },
   {
    "duration": 3,
    "start_time": "2023-10-24T15:07:16.955Z"
   },
   {
    "duration": 5,
    "start_time": "2023-10-24T15:07:30.961Z"
   },
   {
    "duration": 6,
    "start_time": "2023-10-24T15:07:45.577Z"
   },
   {
    "duration": 4,
    "start_time": "2023-10-24T15:08:01.415Z"
   },
   {
    "duration": 3,
    "start_time": "2023-10-24T15:12:14.773Z"
   },
   {
    "duration": 4,
    "start_time": "2023-10-24T15:12:32.483Z"
   },
   {
    "duration": 112,
    "start_time": "2023-10-24T15:12:54.858Z"
   },
   {
    "duration": 11,
    "start_time": "2023-10-24T15:13:01.139Z"
   },
   {
    "duration": 3,
    "start_time": "2023-10-24T15:13:12.617Z"
   },
   {
    "duration": 4,
    "start_time": "2023-10-24T15:13:15.139Z"
   },
   {
    "duration": 23,
    "start_time": "2023-10-24T15:18:11.628Z"
   },
   {
    "duration": 31,
    "start_time": "2023-10-24T15:24:02.357Z"
   },
   {
    "duration": 8,
    "start_time": "2023-10-24T15:35:44.938Z"
   },
   {
    "duration": 674,
    "start_time": "2023-10-24T15:35:54.409Z"
   },
   {
    "duration": 38,
    "start_time": "2023-10-24T15:35:55.085Z"
   },
   {
    "duration": 40,
    "start_time": "2023-10-24T15:35:55.125Z"
   },
   {
    "duration": 22,
    "start_time": "2023-10-24T15:35:55.168Z"
   },
   {
    "duration": 15,
    "start_time": "2023-10-24T15:35:55.191Z"
   },
   {
    "duration": 23,
    "start_time": "2023-10-24T15:35:55.207Z"
   },
   {
    "duration": 24,
    "start_time": "2023-10-24T15:35:55.232Z"
   },
   {
    "duration": 23,
    "start_time": "2023-10-24T15:35:55.258Z"
   },
   {
    "duration": 6,
    "start_time": "2023-10-24T15:35:55.282Z"
   },
   {
    "duration": 11,
    "start_time": "2023-10-24T15:35:55.291Z"
   },
   {
    "duration": 6,
    "start_time": "2023-10-24T15:35:55.303Z"
   },
   {
    "duration": 17,
    "start_time": "2023-10-24T15:35:55.311Z"
   },
   {
    "duration": 194,
    "start_time": "2023-10-24T15:35:55.330Z"
   },
   {
    "duration": 6,
    "start_time": "2023-10-24T15:35:55.525Z"
   },
   {
    "duration": 136,
    "start_time": "2023-10-24T15:35:55.544Z"
   },
   {
    "duration": 165,
    "start_time": "2023-10-24T15:35:55.682Z"
   },
   {
    "duration": 176,
    "start_time": "2023-10-24T15:35:55.849Z"
   },
   {
    "duration": 220,
    "start_time": "2023-10-24T15:35:56.026Z"
   },
   {
    "duration": 11,
    "start_time": "2023-10-24T15:35:56.249Z"
   },
   {
    "duration": 11,
    "start_time": "2023-10-24T15:35:56.263Z"
   },
   {
    "duration": 10,
    "start_time": "2023-10-24T15:35:56.277Z"
   },
   {
    "duration": 194,
    "start_time": "2023-10-24T15:35:56.288Z"
   },
   {
    "duration": 161,
    "start_time": "2023-10-24T15:35:56.484Z"
   },
   {
    "duration": 142,
    "start_time": "2023-10-24T15:35:56.647Z"
   },
   {
    "duration": 182,
    "start_time": "2023-10-24T15:35:56.791Z"
   },
   {
    "duration": 11,
    "start_time": "2023-10-24T15:35:56.975Z"
   },
   {
    "duration": 14,
    "start_time": "2023-10-24T15:35:56.987Z"
   },
   {
    "duration": 84,
    "start_time": "2023-10-24T15:35:57.003Z"
   },
   {
    "duration": 7,
    "start_time": "2023-10-24T15:37:16.531Z"
   },
   {
    "duration": 9,
    "start_time": "2023-10-24T15:37:21.363Z"
   },
   {
    "duration": 8,
    "start_time": "2023-10-24T15:37:24.282Z"
   },
   {
    "duration": 4,
    "start_time": "2023-10-24T15:37:28.018Z"
   },
   {
    "duration": 83,
    "start_time": "2023-10-24T15:41:09.844Z"
   },
   {
    "duration": 21,
    "start_time": "2023-10-24T15:41:15.457Z"
   },
   {
    "duration": 15,
    "start_time": "2023-10-24T15:41:16.473Z"
   },
   {
    "duration": 158,
    "start_time": "2023-10-24T15:50:23.028Z"
   },
   {
    "duration": 25,
    "start_time": "2023-10-24T16:53:17.075Z"
   },
   {
    "duration": 20,
    "start_time": "2023-10-24T16:53:18.617Z"
   },
   {
    "duration": 142,
    "start_time": "2023-10-24T16:53:58.083Z"
   },
   {
    "duration": 1650,
    "start_time": "2023-10-24T17:53:17.592Z"
   },
   {
    "duration": 91,
    "start_time": "2023-10-24T17:56:28.297Z"
   },
   {
    "duration": 106,
    "start_time": "2023-10-24T17:56:40.581Z"
   },
   {
    "duration": 12,
    "start_time": "2023-10-24T18:00:00.431Z"
   },
   {
    "duration": 27,
    "start_time": "2023-10-24T18:00:19.858Z"
   },
   {
    "duration": 29,
    "start_time": "2023-10-24T18:15:00.513Z"
   },
   {
    "duration": 724,
    "start_time": "2023-10-24T18:16:18.323Z"
   },
   {
    "duration": 38,
    "start_time": "2023-10-24T18:16:19.049Z"
   },
   {
    "duration": 49,
    "start_time": "2023-10-24T18:16:19.089Z"
   },
   {
    "duration": 20,
    "start_time": "2023-10-24T18:16:19.141Z"
   },
   {
    "duration": 13,
    "start_time": "2023-10-24T18:16:19.163Z"
   },
   {
    "duration": 29,
    "start_time": "2023-10-24T18:16:19.177Z"
   },
   {
    "duration": 23,
    "start_time": "2023-10-24T18:16:19.208Z"
   },
   {
    "duration": 48,
    "start_time": "2023-10-24T18:16:19.233Z"
   },
   {
    "duration": 29,
    "start_time": "2023-10-24T18:16:19.283Z"
   },
   {
    "duration": 20,
    "start_time": "2023-10-24T18:16:19.315Z"
   },
   {
    "duration": 20,
    "start_time": "2023-10-24T18:16:19.336Z"
   },
   {
    "duration": 8,
    "start_time": "2023-10-24T18:16:19.358Z"
   },
   {
    "duration": 192,
    "start_time": "2023-10-24T18:16:19.368Z"
   },
   {
    "duration": 9,
    "start_time": "2023-10-24T18:16:19.562Z"
   },
   {
    "duration": 135,
    "start_time": "2023-10-24T18:16:19.573Z"
   },
   {
    "duration": 155,
    "start_time": "2023-10-24T18:16:19.710Z"
   },
   {
    "duration": 179,
    "start_time": "2023-10-24T18:16:19.867Z"
   },
   {
    "duration": 241,
    "start_time": "2023-10-24T18:16:20.048Z"
   },
   {
    "duration": 15,
    "start_time": "2023-10-24T18:16:20.290Z"
   },
   {
    "duration": 18,
    "start_time": "2023-10-24T18:16:20.307Z"
   },
   {
    "duration": 23,
    "start_time": "2023-10-24T18:16:20.327Z"
   },
   {
    "duration": 183,
    "start_time": "2023-10-24T18:16:20.352Z"
   },
   {
    "duration": 160,
    "start_time": "2023-10-24T18:16:20.536Z"
   },
   {
    "duration": 174,
    "start_time": "2023-10-24T18:16:20.697Z"
   },
   {
    "duration": 174,
    "start_time": "2023-10-24T18:16:20.873Z"
   },
   {
    "duration": 12,
    "start_time": "2023-10-24T18:16:21.049Z"
   },
   {
    "duration": 47,
    "start_time": "2023-10-24T18:16:21.064Z"
   },
   {
    "duration": 37,
    "start_time": "2023-10-24T18:16:21.116Z"
   },
   {
    "duration": 95,
    "start_time": "2023-10-24T18:16:21.155Z"
   },
   {
    "duration": 25,
    "start_time": "2023-10-24T18:18:04.179Z"
   },
   {
    "duration": 45,
    "start_time": "2023-10-25T06:30:44.585Z"
   },
   {
    "duration": 819,
    "start_time": "2023-10-25T06:30:56.241Z"
   },
   {
    "duration": 110,
    "start_time": "2023-10-25T06:30:57.062Z"
   },
   {
    "duration": 382,
    "start_time": "2023-10-25T06:30:57.174Z"
   },
   {
    "duration": 61,
    "start_time": "2023-10-25T06:30:57.558Z"
   },
   {
    "duration": 13,
    "start_time": "2023-10-25T06:30:57.621Z"
   },
   {
    "duration": 26,
    "start_time": "2023-10-25T06:30:57.636Z"
   },
   {
    "duration": 11,
    "start_time": "2023-10-25T06:30:57.664Z"
   },
   {
    "duration": 16,
    "start_time": "2023-10-25T06:30:57.677Z"
   },
   {
    "duration": 5,
    "start_time": "2023-10-25T06:30:57.695Z"
   },
   {
    "duration": 6,
    "start_time": "2023-10-25T06:30:57.702Z"
   },
   {
    "duration": 12,
    "start_time": "2023-10-25T06:30:57.709Z"
   },
   {
    "duration": 8,
    "start_time": "2023-10-25T06:30:57.722Z"
   },
   {
    "duration": 177,
    "start_time": "2023-10-25T06:30:57.731Z"
   },
   {
    "duration": 5,
    "start_time": "2023-10-25T06:30:57.910Z"
   },
   {
    "duration": 157,
    "start_time": "2023-10-25T06:30:57.917Z"
   },
   {
    "duration": 155,
    "start_time": "2023-10-25T06:30:58.076Z"
   },
   {
    "duration": 151,
    "start_time": "2023-10-25T06:30:58.232Z"
   },
   {
    "duration": 210,
    "start_time": "2023-10-25T06:30:58.384Z"
   },
   {
    "duration": 9,
    "start_time": "2023-10-25T06:30:58.596Z"
   },
   {
    "duration": 8,
    "start_time": "2023-10-25T06:30:58.607Z"
   },
   {
    "duration": 8,
    "start_time": "2023-10-25T06:30:58.617Z"
   },
   {
    "duration": 144,
    "start_time": "2023-10-25T06:30:58.644Z"
   },
   {
    "duration": 157,
    "start_time": "2023-10-25T06:30:58.789Z"
   },
   {
    "duration": 138,
    "start_time": "2023-10-25T06:30:58.947Z"
   },
   {
    "duration": 160,
    "start_time": "2023-10-25T06:30:59.086Z"
   },
   {
    "duration": 12,
    "start_time": "2023-10-25T06:30:59.247Z"
   },
   {
    "duration": 55,
    "start_time": "2023-10-25T06:30:59.260Z"
   },
   {
    "duration": 45,
    "start_time": "2023-10-25T06:30:59.318Z"
   },
   {
    "duration": 8238,
    "start_time": "2023-10-25T06:30:59.365Z"
   },
   {
    "duration": 9,
    "start_time": "2023-10-25T06:50:18.775Z"
   },
   {
    "duration": 7,
    "start_time": "2023-10-25T06:50:36.263Z"
   },
   {
    "duration": 5,
    "start_time": "2023-10-25T06:50:59.606Z"
   },
   {
    "duration": 14,
    "start_time": "2023-10-25T06:52:07.777Z"
   },
   {
    "duration": 6,
    "start_time": "2023-10-25T06:52:20.481Z"
   },
   {
    "duration": 626,
    "start_time": "2023-10-25T06:53:24.231Z"
   },
   {
    "duration": 36,
    "start_time": "2023-10-25T06:53:24.860Z"
   },
   {
    "duration": 36,
    "start_time": "2023-10-25T06:53:24.898Z"
   },
   {
    "duration": 20,
    "start_time": "2023-10-25T06:53:24.936Z"
   },
   {
    "duration": 14,
    "start_time": "2023-10-25T06:53:24.959Z"
   },
   {
    "duration": 11,
    "start_time": "2023-10-25T06:53:24.974Z"
   },
   {
    "duration": 9,
    "start_time": "2023-10-25T06:53:24.986Z"
   },
   {
    "duration": 13,
    "start_time": "2023-10-25T06:53:24.996Z"
   },
   {
    "duration": 6,
    "start_time": "2023-10-25T06:53:25.011Z"
   },
   {
    "duration": 30,
    "start_time": "2023-10-25T06:53:25.019Z"
   },
   {
    "duration": 6,
    "start_time": "2023-10-25T06:53:25.050Z"
   },
   {
    "duration": 11,
    "start_time": "2023-10-25T06:53:25.057Z"
   },
   {
    "duration": 5,
    "start_time": "2023-10-25T06:53:25.069Z"
   },
   {
    "duration": 5,
    "start_time": "2023-10-25T06:53:25.076Z"
   },
   {
    "duration": 15,
    "start_time": "2023-10-25T06:53:25.082Z"
   },
   {
    "duration": 5,
    "start_time": "2023-10-25T06:53:25.098Z"
   },
   {
    "duration": 43,
    "start_time": "2023-10-25T06:53:25.105Z"
   },
   {
    "duration": 169,
    "start_time": "2023-10-25T06:53:25.149Z"
   },
   {
    "duration": 6,
    "start_time": "2023-10-25T06:53:25.320Z"
   },
   {
    "duration": 137,
    "start_time": "2023-10-25T06:53:25.328Z"
   },
   {
    "duration": 151,
    "start_time": "2023-10-25T06:53:25.466Z"
   },
   {
    "duration": 150,
    "start_time": "2023-10-25T06:53:25.619Z"
   },
   {
    "duration": 199,
    "start_time": "2023-10-25T06:53:25.770Z"
   },
   {
    "duration": 9,
    "start_time": "2023-10-25T06:53:25.971Z"
   },
   {
    "duration": 9,
    "start_time": "2023-10-25T06:53:25.981Z"
   },
   {
    "duration": 15,
    "start_time": "2023-10-25T06:53:25.991Z"
   },
   {
    "duration": 148,
    "start_time": "2023-10-25T06:53:26.008Z"
   },
   {
    "duration": 145,
    "start_time": "2023-10-25T06:53:26.159Z"
   },
   {
    "duration": 143,
    "start_time": "2023-10-25T06:53:26.305Z"
   },
   {
    "duration": 151,
    "start_time": "2023-10-25T06:53:26.449Z"
   },
   {
    "duration": 12,
    "start_time": "2023-10-25T06:53:26.601Z"
   },
   {
    "duration": 43,
    "start_time": "2023-10-25T06:53:26.614Z"
   },
   {
    "duration": 17,
    "start_time": "2023-10-25T06:53:26.659Z"
   },
   {
    "duration": 7751,
    "start_time": "2023-10-25T06:53:26.677Z"
   },
   {
    "duration": 6,
    "start_time": "2023-10-25T06:55:23.682Z"
   },
   {
    "duration": 7,
    "start_time": "2023-10-25T06:55:26.413Z"
   },
   {
    "duration": 651,
    "start_time": "2023-10-25T06:55:35.316Z"
   },
   {
    "duration": 37,
    "start_time": "2023-10-25T06:55:35.969Z"
   },
   {
    "duration": 36,
    "start_time": "2023-10-25T06:55:36.007Z"
   },
   {
    "duration": 19,
    "start_time": "2023-10-25T06:55:36.044Z"
   },
   {
    "duration": 12,
    "start_time": "2023-10-25T06:55:36.065Z"
   },
   {
    "duration": 28,
    "start_time": "2023-10-25T06:55:36.078Z"
   },
   {
    "duration": 10,
    "start_time": "2023-10-25T06:55:36.108Z"
   },
   {
    "duration": 13,
    "start_time": "2023-10-25T06:55:36.120Z"
   },
   {
    "duration": 12,
    "start_time": "2023-10-25T06:55:36.135Z"
   },
   {
    "duration": 31,
    "start_time": "2023-10-25T06:55:36.149Z"
   },
   {
    "duration": 10,
    "start_time": "2023-10-25T06:55:36.182Z"
   },
   {
    "duration": 24,
    "start_time": "2023-10-25T06:55:36.194Z"
   },
   {
    "duration": 9,
    "start_time": "2023-10-25T06:55:36.220Z"
   },
   {
    "duration": 6,
    "start_time": "2023-10-25T06:55:36.232Z"
   },
   {
    "duration": 20,
    "start_time": "2023-10-25T06:55:36.240Z"
   },
   {
    "duration": 31,
    "start_time": "2023-10-25T06:55:36.262Z"
   },
   {
    "duration": 27,
    "start_time": "2023-10-25T06:55:36.295Z"
   },
   {
    "duration": 178,
    "start_time": "2023-10-25T06:55:36.324Z"
   },
   {
    "duration": 7,
    "start_time": "2023-10-25T06:55:36.503Z"
   },
   {
    "duration": 142,
    "start_time": "2023-10-25T06:55:36.511Z"
   },
   {
    "duration": 149,
    "start_time": "2023-10-25T06:55:36.655Z"
   },
   {
    "duration": 157,
    "start_time": "2023-10-25T06:55:36.805Z"
   },
   {
    "duration": 197,
    "start_time": "2023-10-25T06:55:36.964Z"
   },
   {
    "duration": 9,
    "start_time": "2023-10-25T06:55:37.162Z"
   },
   {
    "duration": 29,
    "start_time": "2023-10-25T06:55:37.173Z"
   },
   {
    "duration": 28,
    "start_time": "2023-10-25T06:55:37.204Z"
   },
   {
    "duration": 150,
    "start_time": "2023-10-25T06:55:37.233Z"
   },
   {
    "duration": 141,
    "start_time": "2023-10-25T06:55:37.384Z"
   },
   {
    "duration": 131,
    "start_time": "2023-10-25T06:55:37.527Z"
   },
   {
    "duration": 164,
    "start_time": "2023-10-25T06:55:37.659Z"
   },
   {
    "duration": 19,
    "start_time": "2023-10-25T06:55:37.825Z"
   },
   {
    "duration": 61,
    "start_time": "2023-10-25T06:55:37.845Z"
   },
   {
    "duration": 18,
    "start_time": "2023-10-25T06:55:37.908Z"
   },
   {
    "duration": 8074,
    "start_time": "2023-10-25T06:55:37.927Z"
   },
   {
    "duration": 152,
    "start_time": "2023-10-25T07:04:04.803Z"
   },
   {
    "duration": 141,
    "start_time": "2023-10-25T07:04:09.810Z"
   },
   {
    "duration": 157,
    "start_time": "2023-10-25T07:04:21.137Z"
   },
   {
    "duration": 186,
    "start_time": "2023-10-25T07:04:31.432Z"
   },
   {
    "duration": 176,
    "start_time": "2023-10-25T07:04:54.470Z"
   },
   {
    "duration": 178,
    "start_time": "2023-10-25T07:06:22.040Z"
   },
   {
    "duration": 257,
    "start_time": "2023-10-25T07:06:27.730Z"
   },
   {
    "duration": 178,
    "start_time": "2023-10-25T07:06:34.199Z"
   },
   {
    "duration": 169,
    "start_time": "2023-10-25T07:07:44.274Z"
   },
   {
    "duration": 173,
    "start_time": "2023-10-25T07:07:53.346Z"
   },
   {
    "duration": 178,
    "start_time": "2023-10-25T07:08:02.745Z"
   },
   {
    "duration": 112,
    "start_time": "2023-10-25T07:08:48.694Z"
   },
   {
    "duration": 156,
    "start_time": "2023-10-25T07:13:54.624Z"
   },
   {
    "duration": 158,
    "start_time": "2023-10-25T07:13:59.568Z"
   },
   {
    "duration": 155,
    "start_time": "2023-10-25T07:14:06.560Z"
   },
   {
    "duration": 202,
    "start_time": "2023-10-25T07:15:11.867Z"
   },
   {
    "duration": 178,
    "start_time": "2023-10-25T07:15:18.786Z"
   },
   {
    "duration": 150,
    "start_time": "2023-10-25T07:16:20.086Z"
   },
   {
    "duration": 231,
    "start_time": "2023-10-25T07:17:35.787Z"
   },
   {
    "duration": 148,
    "start_time": "2023-10-25T07:17:50.745Z"
   },
   {
    "duration": 144,
    "start_time": "2023-10-25T07:18:11.351Z"
   },
   {
    "duration": 166,
    "start_time": "2023-10-25T07:23:05.561Z"
   },
   {
    "duration": 695,
    "start_time": "2023-10-25T07:30:36.926Z"
   },
   {
    "duration": 102,
    "start_time": "2023-10-25T07:30:37.623Z"
   },
   {
    "duration": 244,
    "start_time": "2023-10-25T07:30:37.727Z"
   },
   {
    "duration": 59,
    "start_time": "2023-10-25T07:30:37.974Z"
   },
   {
    "duration": 14,
    "start_time": "2023-10-25T07:30:38.035Z"
   },
   {
    "duration": 33,
    "start_time": "2023-10-25T07:30:38.051Z"
   },
   {
    "duration": 23,
    "start_time": "2023-10-25T07:30:38.086Z"
   },
   {
    "duration": 46,
    "start_time": "2023-10-25T07:30:38.110Z"
   },
   {
    "duration": 17,
    "start_time": "2023-10-25T07:30:38.158Z"
   },
   {
    "duration": 24,
    "start_time": "2023-10-25T07:30:38.177Z"
   },
   {
    "duration": 40,
    "start_time": "2023-10-25T07:30:38.202Z"
   },
   {
    "duration": 24,
    "start_time": "2023-10-25T07:30:38.244Z"
   },
   {
    "duration": 20,
    "start_time": "2023-10-25T07:30:38.270Z"
   },
   {
    "duration": 30,
    "start_time": "2023-10-25T07:30:38.291Z"
   },
   {
    "duration": 39,
    "start_time": "2023-10-25T07:30:38.323Z"
   },
   {
    "duration": 22,
    "start_time": "2023-10-25T07:30:38.365Z"
   },
   {
    "duration": 32,
    "start_time": "2023-10-25T07:30:38.388Z"
   },
   {
    "duration": 213,
    "start_time": "2023-10-25T07:30:38.422Z"
   },
   {
    "duration": 9,
    "start_time": "2023-10-25T07:30:38.636Z"
   },
   {
    "duration": 191,
    "start_time": "2023-10-25T07:30:38.648Z"
   },
   {
    "duration": 207,
    "start_time": "2023-10-25T07:30:38.841Z"
   },
   {
    "duration": 191,
    "start_time": "2023-10-25T07:30:39.051Z"
   },
   {
    "duration": 267,
    "start_time": "2023-10-25T07:30:39.244Z"
   },
   {
    "duration": 9,
    "start_time": "2023-10-25T07:30:39.513Z"
   },
   {
    "duration": 21,
    "start_time": "2023-10-25T07:30:39.523Z"
   },
   {
    "duration": 15,
    "start_time": "2023-10-25T07:30:39.547Z"
   },
   {
    "duration": 205,
    "start_time": "2023-10-25T07:30:39.565Z"
   },
   {
    "duration": 210,
    "start_time": "2023-10-25T07:30:39.774Z"
   },
   {
    "duration": 194,
    "start_time": "2023-10-25T07:30:39.986Z"
   },
   {
    "duration": 200,
    "start_time": "2023-10-25T07:30:40.182Z"
   },
   {
    "duration": 12,
    "start_time": "2023-10-25T07:30:40.383Z"
   },
   {
    "duration": 37,
    "start_time": "2023-10-25T07:30:40.396Z"
   },
   {
    "duration": 25,
    "start_time": "2023-10-25T07:30:40.435Z"
   },
   {
    "duration": 8766,
    "start_time": "2023-10-25T07:30:40.462Z"
   },
   {
    "duration": 1095,
    "start_time": "2023-10-25T07:40:48.210Z"
   },
   {
    "duration": 45,
    "start_time": "2023-10-25T07:40:49.307Z"
   },
   {
    "duration": 59,
    "start_time": "2023-10-25T07:40:49.354Z"
   },
   {
    "duration": 19,
    "start_time": "2023-10-25T07:40:49.415Z"
   },
   {
    "duration": 27,
    "start_time": "2023-10-25T07:40:49.435Z"
   },
   {
    "duration": 38,
    "start_time": "2023-10-25T07:40:49.464Z"
   },
   {
    "duration": 43,
    "start_time": "2023-10-25T07:40:49.504Z"
   },
   {
    "duration": 39,
    "start_time": "2023-10-25T07:40:49.550Z"
   },
   {
    "duration": 30,
    "start_time": "2023-10-25T07:40:49.590Z"
   },
   {
    "duration": 55,
    "start_time": "2023-10-25T07:40:49.623Z"
   },
   {
    "duration": 29,
    "start_time": "2023-10-25T07:40:49.680Z"
   },
   {
    "duration": 48,
    "start_time": "2023-10-25T07:40:49.711Z"
   },
   {
    "duration": 26,
    "start_time": "2023-10-25T07:40:49.761Z"
   },
   {
    "duration": 39,
    "start_time": "2023-10-25T07:40:49.789Z"
   },
   {
    "duration": 16,
    "start_time": "2023-10-25T07:40:49.830Z"
   },
   {
    "duration": 37,
    "start_time": "2023-10-25T07:40:49.849Z"
   },
   {
    "duration": 49,
    "start_time": "2023-10-25T07:40:49.888Z"
   },
   {
    "duration": 222,
    "start_time": "2023-10-25T07:40:49.939Z"
   },
   {
    "duration": 7,
    "start_time": "2023-10-25T07:40:50.166Z"
   },
   {
    "duration": 208,
    "start_time": "2023-10-25T07:40:50.174Z"
   },
   {
    "duration": 200,
    "start_time": "2023-10-25T07:40:50.383Z"
   },
   {
    "duration": 201,
    "start_time": "2023-10-25T07:40:50.585Z"
   },
   {
    "duration": 274,
    "start_time": "2023-10-25T07:40:50.788Z"
   },
   {
    "duration": 17,
    "start_time": "2023-10-25T07:40:51.065Z"
   },
   {
    "duration": 31,
    "start_time": "2023-10-25T07:40:51.084Z"
   },
   {
    "duration": 233,
    "start_time": "2023-10-25T07:40:51.117Z"
   },
   {
    "duration": 221,
    "start_time": "2023-10-25T07:40:51.352Z"
   },
   {
    "duration": 177,
    "start_time": "2023-10-25T07:40:51.577Z"
   },
   {
    "duration": 184,
    "start_time": "2023-10-25T07:40:51.757Z"
   },
   {
    "duration": 70,
    "start_time": "2023-10-25T07:40:51.944Z"
   },
   {
    "duration": 0,
    "start_time": "2023-10-25T07:40:52.016Z"
   },
   {
    "duration": 0,
    "start_time": "2023-10-25T07:40:52.017Z"
   },
   {
    "duration": 0,
    "start_time": "2023-10-25T07:40:52.018Z"
   },
   {
    "duration": 11,
    "start_time": "2023-10-25T07:41:27.500Z"
   },
   {
    "duration": 42,
    "start_time": "2023-10-25T07:41:47.840Z"
   },
   {
    "duration": 20,
    "start_time": "2023-10-25T07:41:48.963Z"
   },
   {
    "duration": 12029,
    "start_time": "2023-10-25T07:41:54.878Z"
   },
   {
    "duration": 2018,
    "start_time": "2023-10-25T07:47:41.568Z"
   },
   {
    "duration": 0,
    "start_time": "2023-10-25T07:47:43.588Z"
   },
   {
    "duration": 3248,
    "start_time": "2023-10-25T07:48:08.454Z"
   },
   {
    "duration": 0,
    "start_time": "2023-10-25T07:48:11.704Z"
   },
   {
    "duration": 28,
    "start_time": "2023-10-25T07:51:07.867Z"
   },
   {
    "duration": 21,
    "start_time": "2023-10-25T07:51:10.296Z"
   },
   {
    "duration": 14,
    "start_time": "2023-10-25T07:51:54.599Z"
   },
   {
    "duration": 1884,
    "start_time": "2023-10-25T07:52:31.372Z"
   },
   {
    "duration": 27,
    "start_time": "2023-10-25T07:52:40.258Z"
   },
   {
    "duration": 19,
    "start_time": "2023-10-25T07:52:41.531Z"
   },
   {
    "duration": 15,
    "start_time": "2023-10-25T07:52:43.835Z"
   },
   {
    "duration": 5,
    "start_time": "2023-10-25T08:34:15.091Z"
   },
   {
    "duration": 5,
    "start_time": "2023-10-25T08:34:30.233Z"
   },
   {
    "duration": 5,
    "start_time": "2023-10-25T08:35:00.349Z"
   },
   {
    "duration": 4,
    "start_time": "2023-10-25T08:35:29.829Z"
   },
   {
    "duration": 6,
    "start_time": "2023-10-25T08:35:44.973Z"
   },
   {
    "duration": 526,
    "start_time": "2023-10-25T08:40:00.036Z"
   },
   {
    "duration": 32,
    "start_time": "2023-10-25T08:40:12.722Z"
   },
   {
    "duration": 931,
    "start_time": "2023-10-25T08:40:22.918Z"
   },
   {
    "duration": 581,
    "start_time": "2023-10-25T08:41:33.445Z"
   },
   {
    "duration": 22,
    "start_time": "2023-10-25T08:41:47.276Z"
   },
   {
    "duration": 5,
    "start_time": "2023-10-25T08:47:30.974Z"
   },
   {
    "duration": 610,
    "start_time": "2023-10-25T08:47:42.811Z"
   },
   {
    "duration": 596,
    "start_time": "2023-10-25T08:47:59.998Z"
   },
   {
    "duration": 38,
    "start_time": "2023-10-25T08:48:00.597Z"
   },
   {
    "duration": 61,
    "start_time": "2023-10-25T08:48:00.636Z"
   },
   {
    "duration": 40,
    "start_time": "2023-10-25T08:48:00.698Z"
   },
   {
    "duration": 44,
    "start_time": "2023-10-25T08:48:00.739Z"
   },
   {
    "duration": 53,
    "start_time": "2023-10-25T08:48:00.785Z"
   },
   {
    "duration": 37,
    "start_time": "2023-10-25T08:48:00.839Z"
   },
   {
    "duration": 55,
    "start_time": "2023-10-25T08:48:00.878Z"
   },
   {
    "duration": 50,
    "start_time": "2023-10-25T08:48:00.934Z"
   },
   {
    "duration": 42,
    "start_time": "2023-10-25T08:48:00.987Z"
   },
   {
    "duration": 59,
    "start_time": "2023-10-25T08:48:01.031Z"
   },
   {
    "duration": 51,
    "start_time": "2023-10-25T08:48:01.091Z"
   },
   {
    "duration": 51,
    "start_time": "2023-10-25T08:48:01.144Z"
   },
   {
    "duration": 53,
    "start_time": "2023-10-25T08:48:01.197Z"
   },
   {
    "duration": 75,
    "start_time": "2023-10-25T08:48:01.252Z"
   },
   {
    "duration": 56,
    "start_time": "2023-10-25T08:48:01.328Z"
   },
   {
    "duration": 104,
    "start_time": "2023-10-25T08:48:01.386Z"
   },
   {
    "duration": 326,
    "start_time": "2023-10-25T08:48:01.492Z"
   },
   {
    "duration": 5,
    "start_time": "2023-10-25T08:48:01.820Z"
   },
   {
    "duration": 221,
    "start_time": "2023-10-25T08:48:01.826Z"
   },
   {
    "duration": 180,
    "start_time": "2023-10-25T08:48:02.048Z"
   },
   {
    "duration": 178,
    "start_time": "2023-10-25T08:48:02.230Z"
   },
   {
    "duration": 240,
    "start_time": "2023-10-25T08:48:02.410Z"
   },
   {
    "duration": 15,
    "start_time": "2023-10-25T08:48:02.652Z"
   },
   {
    "duration": 40,
    "start_time": "2023-10-25T08:48:02.669Z"
   },
   {
    "duration": 195,
    "start_time": "2023-10-25T08:48:02.710Z"
   },
   {
    "duration": 201,
    "start_time": "2023-10-25T08:48:02.906Z"
   },
   {
    "duration": 173,
    "start_time": "2023-10-25T08:48:03.110Z"
   },
   {
    "duration": 219,
    "start_time": "2023-10-25T08:48:03.285Z"
   },
   {
    "duration": 28,
    "start_time": "2023-10-25T08:48:03.506Z"
   },
   {
    "duration": 40,
    "start_time": "2023-10-25T08:48:03.536Z"
   },
   {
    "duration": 84,
    "start_time": "2023-10-25T08:48:03.578Z"
   },
   {
    "duration": 2143,
    "start_time": "2023-10-25T08:48:03.664Z"
   },
   {
    "duration": 0,
    "start_time": "2023-10-25T08:48:05.809Z"
   },
   {
    "duration": 384,
    "start_time": "2023-10-25T08:48:39.152Z"
   },
   {
    "duration": 655,
    "start_time": "2023-10-25T08:48:49.346Z"
   },
   {
    "duration": 39,
    "start_time": "2023-10-25T08:48:50.002Z"
   },
   {
    "duration": 38,
    "start_time": "2023-10-25T08:48:50.042Z"
   },
   {
    "duration": 19,
    "start_time": "2023-10-25T08:48:50.082Z"
   },
   {
    "duration": 19,
    "start_time": "2023-10-25T08:48:50.103Z"
   },
   {
    "duration": 34,
    "start_time": "2023-10-25T08:48:50.124Z"
   },
   {
    "duration": 11,
    "start_time": "2023-10-25T08:48:50.159Z"
   },
   {
    "duration": 13,
    "start_time": "2023-10-25T08:48:50.173Z"
   },
   {
    "duration": 7,
    "start_time": "2023-10-25T08:48:50.188Z"
   },
   {
    "duration": 14,
    "start_time": "2023-10-25T08:48:50.198Z"
   },
   {
    "duration": 32,
    "start_time": "2023-10-25T08:48:50.214Z"
   },
   {
    "duration": 9,
    "start_time": "2023-10-25T08:48:50.248Z"
   },
   {
    "duration": 6,
    "start_time": "2023-10-25T08:48:50.259Z"
   },
   {
    "duration": 7,
    "start_time": "2023-10-25T08:48:50.267Z"
   },
   {
    "duration": 16,
    "start_time": "2023-10-25T08:48:50.275Z"
   },
   {
    "duration": 9,
    "start_time": "2023-10-25T08:48:50.292Z"
   },
   {
    "duration": 10,
    "start_time": "2023-10-25T08:48:50.302Z"
   },
   {
    "duration": 199,
    "start_time": "2023-10-25T08:48:50.314Z"
   },
   {
    "duration": 7,
    "start_time": "2023-10-25T08:48:50.514Z"
   },
   {
    "duration": 144,
    "start_time": "2023-10-25T08:48:50.523Z"
   },
   {
    "duration": 190,
    "start_time": "2023-10-25T08:48:50.668Z"
   },
   {
    "duration": 188,
    "start_time": "2023-10-25T08:48:50.859Z"
   },
   {
    "duration": 239,
    "start_time": "2023-10-25T08:48:51.049Z"
   },
   {
    "duration": 16,
    "start_time": "2023-10-25T08:48:51.290Z"
   },
   {
    "duration": 11,
    "start_time": "2023-10-25T08:48:51.307Z"
   },
   {
    "duration": 173,
    "start_time": "2023-10-25T08:48:51.320Z"
   },
   {
    "duration": 187,
    "start_time": "2023-10-25T08:48:51.495Z"
   },
   {
    "duration": 159,
    "start_time": "2023-10-25T08:48:51.685Z"
   },
   {
    "duration": 176,
    "start_time": "2023-10-25T08:48:51.846Z"
   },
   {
    "duration": 30,
    "start_time": "2023-10-25T08:48:52.024Z"
   },
   {
    "duration": 22,
    "start_time": "2023-10-25T08:48:52.056Z"
   },
   {
    "duration": 5176,
    "start_time": "2023-10-25T08:48:52.079Z"
   },
   {
    "duration": 0,
    "start_time": "2023-10-25T08:48:57.257Z"
   },
   {
    "duration": 1542,
    "start_time": "2023-10-25T08:49:20.022Z"
   },
   {
    "duration": 5,
    "start_time": "2023-10-25T08:51:45.437Z"
   },
   {
    "duration": 24,
    "start_time": "2023-10-25T08:51:55.403Z"
   },
   {
    "duration": 3,
    "start_time": "2023-10-25T08:52:45.517Z"
   },
   {
    "duration": 1108,
    "start_time": "2023-10-25T08:55:44.922Z"
   },
   {
    "duration": 38,
    "start_time": "2023-10-25T08:55:46.032Z"
   },
   {
    "duration": 39,
    "start_time": "2023-10-25T08:55:46.072Z"
   },
   {
    "duration": 19,
    "start_time": "2023-10-25T08:55:46.113Z"
   },
   {
    "duration": 49,
    "start_time": "2023-10-25T08:55:46.133Z"
   },
   {
    "duration": 59,
    "start_time": "2023-10-25T08:55:46.184Z"
   },
   {
    "duration": 22,
    "start_time": "2023-10-25T08:55:46.244Z"
   },
   {
    "duration": 56,
    "start_time": "2023-10-25T08:55:46.268Z"
   },
   {
    "duration": 34,
    "start_time": "2023-10-25T08:55:46.326Z"
   },
   {
    "duration": 33,
    "start_time": "2023-10-25T08:55:46.363Z"
   },
   {
    "duration": 32,
    "start_time": "2023-10-25T08:55:46.397Z"
   },
   {
    "duration": 46,
    "start_time": "2023-10-25T08:55:46.431Z"
   },
   {
    "duration": 30,
    "start_time": "2023-10-25T08:55:46.479Z"
   },
   {
    "duration": 29,
    "start_time": "2023-10-25T08:55:46.510Z"
   },
   {
    "duration": 17,
    "start_time": "2023-10-25T08:55:46.540Z"
   },
   {
    "duration": 21,
    "start_time": "2023-10-25T08:55:46.559Z"
   },
   {
    "duration": 7,
    "start_time": "2023-10-25T08:55:46.582Z"
   },
   {
    "duration": 176,
    "start_time": "2023-10-25T08:55:46.590Z"
   },
   {
    "duration": 6,
    "start_time": "2023-10-25T08:55:46.768Z"
   },
   {
    "duration": 144,
    "start_time": "2023-10-25T08:55:46.776Z"
   },
   {
    "duration": 192,
    "start_time": "2023-10-25T08:55:46.922Z"
   },
   {
    "duration": 184,
    "start_time": "2023-10-25T08:55:47.116Z"
   },
   {
    "duration": 192,
    "start_time": "2023-10-25T08:55:47.301Z"
   },
   {
    "duration": 16,
    "start_time": "2023-10-25T08:55:47.495Z"
   },
   {
    "duration": 8,
    "start_time": "2023-10-25T08:55:47.513Z"
   },
   {
    "duration": 190,
    "start_time": "2023-10-25T08:55:47.522Z"
   },
   {
    "duration": 192,
    "start_time": "2023-10-25T08:55:47.714Z"
   },
   {
    "duration": 166,
    "start_time": "2023-10-25T08:55:47.910Z"
   },
   {
    "duration": 178,
    "start_time": "2023-10-25T08:55:48.078Z"
   },
   {
    "duration": 128,
    "start_time": "2023-10-25T08:55:48.258Z"
   },
   {
    "duration": 17,
    "start_time": "2023-10-25T08:55:48.389Z"
   },
   {
    "duration": 19,
    "start_time": "2023-10-25T08:55:48.408Z"
   },
   {
    "duration": 16,
    "start_time": "2023-10-25T08:55:48.429Z"
   },
   {
    "duration": 112,
    "start_time": "2023-10-25T09:00:15.986Z"
   },
   {
    "duration": 18,
    "start_time": "2023-10-25T10:21:10.967Z"
   },
   {
    "duration": 1601,
    "start_time": "2023-10-25T10:21:56.302Z"
   },
   {
    "duration": 1793,
    "start_time": "2023-10-25T10:22:14.881Z"
   },
   {
    "duration": 15,
    "start_time": "2023-10-25T10:23:04.981Z"
   },
   {
    "duration": 8,
    "start_time": "2023-10-25T10:58:14.539Z"
   },
   {
    "duration": 6,
    "start_time": "2023-10-25T11:00:55.189Z"
   },
   {
    "duration": 5,
    "start_time": "2023-10-25T11:21:04.211Z"
   },
   {
    "duration": 6,
    "start_time": "2023-10-25T11:22:27.126Z"
   },
   {
    "duration": 5,
    "start_time": "2023-10-25T11:25:49.359Z"
   },
   {
    "duration": 59,
    "start_time": "2023-10-26T06:30:14.613Z"
   },
   {
    "duration": 1327,
    "start_time": "2023-10-26T06:30:30.058Z"
   },
   {
    "duration": 86,
    "start_time": "2023-10-26T06:30:31.387Z"
   },
   {
    "duration": 84,
    "start_time": "2023-10-26T06:30:31.474Z"
   },
   {
    "duration": 58,
    "start_time": "2023-10-26T06:30:31.560Z"
   },
   {
    "duration": 14,
    "start_time": "2023-10-26T06:30:31.620Z"
   },
   {
    "duration": 87,
    "start_time": "2023-10-26T06:30:31.636Z"
   },
   {
    "duration": 69,
    "start_time": "2023-10-26T06:30:31.725Z"
   },
   {
    "duration": 136,
    "start_time": "2023-10-26T06:30:31.795Z"
   },
   {
    "duration": 41,
    "start_time": "2023-10-26T06:30:31.933Z"
   },
   {
    "duration": 39,
    "start_time": "2023-10-26T06:30:31.977Z"
   },
   {
    "duration": 40,
    "start_time": "2023-10-26T06:30:32.018Z"
   },
   {
    "duration": 85,
    "start_time": "2023-10-26T06:30:32.060Z"
   },
   {
    "duration": 16,
    "start_time": "2023-10-26T06:30:32.146Z"
   },
   {
    "duration": 45,
    "start_time": "2023-10-26T06:30:32.164Z"
   },
   {
    "duration": 24,
    "start_time": "2023-10-26T06:30:32.211Z"
   },
   {
    "duration": 40,
    "start_time": "2023-10-26T06:30:32.237Z"
   },
   {
    "duration": 17,
    "start_time": "2023-10-26T06:30:32.279Z"
   },
   {
    "duration": 228,
    "start_time": "2023-10-26T06:30:32.298Z"
   },
   {
    "duration": 6,
    "start_time": "2023-10-26T06:30:32.528Z"
   },
   {
    "duration": 167,
    "start_time": "2023-10-26T06:30:32.536Z"
   },
   {
    "duration": 185,
    "start_time": "2023-10-26T06:30:32.704Z"
   },
   {
    "duration": 182,
    "start_time": "2023-10-26T06:30:32.891Z"
   },
   {
    "duration": 198,
    "start_time": "2023-10-26T06:30:33.075Z"
   },
   {
    "duration": 32,
    "start_time": "2023-10-26T06:30:33.274Z"
   },
   {
    "duration": 82,
    "start_time": "2023-10-26T06:30:33.308Z"
   },
   {
    "duration": 217,
    "start_time": "2023-10-26T06:30:33.392Z"
   },
   {
    "duration": 195,
    "start_time": "2023-10-26T06:30:33.610Z"
   },
   {
    "duration": 167,
    "start_time": "2023-10-26T06:30:33.810Z"
   },
   {
    "duration": 187,
    "start_time": "2023-10-26T06:30:33.979Z"
   },
   {
    "duration": 132,
    "start_time": "2023-10-26T06:30:34.169Z"
   },
   {
    "duration": 21,
    "start_time": "2023-10-26T06:30:34.303Z"
   },
   {
    "duration": 20,
    "start_time": "2023-10-26T06:30:34.326Z"
   },
   {
    "duration": 6,
    "start_time": "2023-10-26T06:30:34.348Z"
   },
   {
    "duration": 22,
    "start_time": "2023-10-26T06:30:34.355Z"
   },
   {
    "duration": 26,
    "start_time": "2023-10-26T06:30:34.379Z"
   },
   {
    "duration": 2175,
    "start_time": "2023-10-26T06:36:46.925Z"
   },
   {
    "duration": 1485,
    "start_time": "2023-10-26T06:37:24.363Z"
   },
   {
    "duration": 18,
    "start_time": "2023-10-26T06:41:33.236Z"
   },
   {
    "duration": 19,
    "start_time": "2023-10-26T06:41:50.294Z"
   },
   {
    "duration": 21,
    "start_time": "2023-10-26T06:44:58.795Z"
   },
   {
    "duration": 9,
    "start_time": "2023-10-26T06:55:25.609Z"
   },
   {
    "duration": 1193,
    "start_time": "2023-10-26T07:21:50.009Z"
   },
   {
    "duration": 40,
    "start_time": "2023-10-26T07:21:51.204Z"
   },
   {
    "duration": 40,
    "start_time": "2023-10-26T07:21:51.246Z"
   },
   {
    "duration": 19,
    "start_time": "2023-10-26T07:21:51.289Z"
   },
   {
    "duration": 14,
    "start_time": "2023-10-26T07:21:51.310Z"
   },
   {
    "duration": 25,
    "start_time": "2023-10-26T07:21:51.326Z"
   },
   {
    "duration": 10,
    "start_time": "2023-10-26T07:21:51.353Z"
   },
   {
    "duration": 27,
    "start_time": "2023-10-26T07:21:51.365Z"
   },
   {
    "duration": 18,
    "start_time": "2023-10-26T07:21:51.394Z"
   },
   {
    "duration": 8,
    "start_time": "2023-10-26T07:21:51.415Z"
   },
   {
    "duration": 26,
    "start_time": "2023-10-26T07:21:51.424Z"
   },
   {
    "duration": 31,
    "start_time": "2023-10-26T07:21:51.451Z"
   },
   {
    "duration": 11,
    "start_time": "2023-10-26T07:21:51.484Z"
   },
   {
    "duration": 6,
    "start_time": "2023-10-26T07:21:51.496Z"
   },
   {
    "duration": 9,
    "start_time": "2023-10-26T07:21:51.504Z"
   },
   {
    "duration": 13,
    "start_time": "2023-10-26T07:21:51.515Z"
   },
   {
    "duration": 23,
    "start_time": "2023-10-26T07:21:51.530Z"
   },
   {
    "duration": 231,
    "start_time": "2023-10-26T07:21:51.555Z"
   },
   {
    "duration": 16,
    "start_time": "2023-10-26T07:21:51.788Z"
   },
   {
    "duration": 161,
    "start_time": "2023-10-26T07:21:51.806Z"
   },
   {
    "duration": 203,
    "start_time": "2023-10-26T07:21:51.970Z"
   },
   {
    "duration": 194,
    "start_time": "2023-10-26T07:21:52.175Z"
   },
   {
    "duration": 213,
    "start_time": "2023-10-26T07:21:52.371Z"
   },
   {
    "duration": 25,
    "start_time": "2023-10-26T07:21:52.586Z"
   },
   {
    "duration": 19,
    "start_time": "2023-10-26T07:21:52.613Z"
   },
   {
    "duration": 194,
    "start_time": "2023-10-26T07:21:52.634Z"
   },
   {
    "duration": 208,
    "start_time": "2023-10-26T07:21:52.830Z"
   },
   {
    "duration": 169,
    "start_time": "2023-10-26T07:21:53.042Z"
   },
   {
    "duration": 191,
    "start_time": "2023-10-26T07:21:53.213Z"
   },
   {
    "duration": 140,
    "start_time": "2023-10-26T07:21:53.407Z"
   },
   {
    "duration": 18,
    "start_time": "2023-10-26T07:21:53.549Z"
   },
   {
    "duration": 49,
    "start_time": "2023-10-26T07:21:53.569Z"
   },
   {
    "duration": 5,
    "start_time": "2023-10-26T07:21:53.620Z"
   },
   {
    "duration": 13,
    "start_time": "2023-10-26T07:21:53.627Z"
   },
   {
    "duration": 25,
    "start_time": "2023-10-26T07:21:53.642Z"
   },
   {
    "duration": 109,
    "start_time": "2023-10-26T08:14:18.368Z"
   },
   {
    "duration": 247,
    "start_time": "2023-10-26T08:14:31.708Z"
   },
   {
    "duration": 160,
    "start_time": "2023-10-26T08:15:00.362Z"
   },
   {
    "duration": 172,
    "start_time": "2023-10-26T08:15:42.435Z"
   },
   {
    "duration": 272,
    "start_time": "2023-10-26T08:16:45.572Z"
   },
   {
    "duration": 154,
    "start_time": "2023-10-26T08:18:32.168Z"
   },
   {
    "duration": 354,
    "start_time": "2023-10-26T08:18:39.685Z"
   },
   {
    "duration": 300,
    "start_time": "2023-10-26T08:18:50.876Z"
   },
   {
    "duration": 277,
    "start_time": "2023-10-26T08:18:59.197Z"
   },
   {
    "duration": 387,
    "start_time": "2023-10-26T08:19:04.263Z"
   },
   {
    "duration": 201,
    "start_time": "2023-10-26T08:19:12.962Z"
   },
   {
    "duration": 281,
    "start_time": "2023-10-26T08:19:19.795Z"
   },
   {
    "duration": 182,
    "start_time": "2023-10-26T08:19:29.327Z"
   },
   {
    "duration": 134,
    "start_time": "2023-10-26T08:19:34.814Z"
   },
   {
    "duration": 130,
    "start_time": "2023-10-26T08:20:50.837Z"
   },
   {
    "duration": 140,
    "start_time": "2023-10-26T08:20:56.381Z"
   },
   {
    "duration": 146,
    "start_time": "2023-10-26T08:21:03.409Z"
   },
   {
    "duration": 125,
    "start_time": "2023-10-26T08:21:10.244Z"
   },
   {
    "duration": 164,
    "start_time": "2023-10-26T08:21:16.132Z"
   },
   {
    "duration": 148,
    "start_time": "2023-10-26T08:21:22.625Z"
   },
   {
    "duration": 256,
    "start_time": "2023-10-26T08:21:28.499Z"
   },
   {
    "duration": 257,
    "start_time": "2023-10-26T08:21:36.834Z"
   },
   {
    "duration": 290,
    "start_time": "2023-10-26T08:22:46.388Z"
   },
   {
    "duration": 313,
    "start_time": "2023-10-26T08:23:06.319Z"
   },
   {
    "duration": 10,
    "start_time": "2023-10-26T08:51:40.672Z"
   },
   {
    "duration": 4,
    "start_time": "2023-10-26T08:52:09.365Z"
   },
   {
    "duration": 6,
    "start_time": "2023-10-26T08:52:12.366Z"
   },
   {
    "duration": 323,
    "start_time": "2023-10-26T08:57:02.510Z"
   },
   {
    "duration": 275,
    "start_time": "2023-10-26T08:57:46.862Z"
   },
   {
    "duration": 283,
    "start_time": "2023-10-26T08:59:51.461Z"
   },
   {
    "duration": 292,
    "start_time": "2023-10-26T09:01:13.561Z"
   },
   {
    "duration": 1173,
    "start_time": "2023-10-26T11:20:23.425Z"
   },
   {
    "duration": 37,
    "start_time": "2023-10-26T11:20:24.600Z"
   },
   {
    "duration": 36,
    "start_time": "2023-10-26T11:20:24.639Z"
   },
   {
    "duration": 18,
    "start_time": "2023-10-26T11:20:24.677Z"
   },
   {
    "duration": 11,
    "start_time": "2023-10-26T11:20:24.697Z"
   },
   {
    "duration": 14,
    "start_time": "2023-10-26T11:20:24.710Z"
   },
   {
    "duration": 22,
    "start_time": "2023-10-26T11:20:24.726Z"
   },
   {
    "duration": 29,
    "start_time": "2023-10-26T11:20:24.749Z"
   },
   {
    "duration": 23,
    "start_time": "2023-10-26T11:20:24.780Z"
   },
   {
    "duration": 15,
    "start_time": "2023-10-26T11:20:24.805Z"
   },
   {
    "duration": 19,
    "start_time": "2023-10-26T11:20:24.821Z"
   },
   {
    "duration": 11,
    "start_time": "2023-10-26T11:20:24.842Z"
   },
   {
    "duration": 5,
    "start_time": "2023-10-26T11:20:24.854Z"
   },
   {
    "duration": 16,
    "start_time": "2023-10-26T11:20:24.860Z"
   },
   {
    "duration": 12,
    "start_time": "2023-10-26T11:20:24.878Z"
   },
   {
    "duration": 10,
    "start_time": "2023-10-26T11:20:24.892Z"
   },
   {
    "duration": 19,
    "start_time": "2023-10-26T11:20:24.903Z"
   },
   {
    "duration": 178,
    "start_time": "2023-10-26T11:20:24.924Z"
   },
   {
    "duration": 6,
    "start_time": "2023-10-26T11:20:25.104Z"
   },
   {
    "duration": 143,
    "start_time": "2023-10-26T11:20:25.111Z"
   },
   {
    "duration": 175,
    "start_time": "2023-10-26T11:20:25.256Z"
   },
   {
    "duration": 177,
    "start_time": "2023-10-26T11:20:25.433Z"
   },
   {
    "duration": 183,
    "start_time": "2023-10-26T11:20:25.611Z"
   },
   {
    "duration": 15,
    "start_time": "2023-10-26T11:20:25.796Z"
   },
   {
    "duration": 19,
    "start_time": "2023-10-26T11:20:25.812Z"
   },
   {
    "duration": 174,
    "start_time": "2023-10-26T11:20:25.832Z"
   },
   {
    "duration": 192,
    "start_time": "2023-10-26T11:20:26.007Z"
   },
   {
    "duration": 173,
    "start_time": "2023-10-26T11:20:26.202Z"
   },
   {
    "duration": 186,
    "start_time": "2023-10-26T11:20:26.376Z"
   },
   {
    "duration": 123,
    "start_time": "2023-10-26T11:20:26.564Z"
   },
   {
    "duration": 16,
    "start_time": "2023-10-26T11:20:26.689Z"
   },
   {
    "duration": 37,
    "start_time": "2023-10-26T11:20:26.707Z"
   },
   {
    "duration": 6,
    "start_time": "2023-10-26T11:20:26.746Z"
   },
   {
    "duration": 30,
    "start_time": "2023-10-26T11:20:26.754Z"
   },
   {
    "duration": 11,
    "start_time": "2023-10-26T11:20:26.786Z"
   },
   {
    "duration": 383,
    "start_time": "2023-10-26T11:20:26.798Z"
   },
   {
    "duration": 577,
    "start_time": "2023-10-26T11:20:27.182Z"
   },
   {
    "duration": 252,
    "start_time": "2023-10-26T11:20:56.829Z"
   },
   {
    "duration": 295,
    "start_time": "2023-10-26T11:22:26.553Z"
   },
   {
    "duration": 221,
    "start_time": "2023-10-26T11:22:30.166Z"
   },
   {
    "duration": 891,
    "start_time": "2023-10-26T11:22:43.085Z"
   },
   {
    "duration": 1768,
    "start_time": "2023-10-26T11:24:15.014Z"
   },
   {
    "duration": 73,
    "start_time": "2023-10-26T11:24:16.784Z"
   },
   {
    "duration": 39,
    "start_time": "2023-10-26T11:24:16.859Z"
   },
   {
    "duration": 18,
    "start_time": "2023-10-26T11:24:16.945Z"
   },
   {
    "duration": 36,
    "start_time": "2023-10-26T11:24:16.965Z"
   },
   {
    "duration": 67,
    "start_time": "2023-10-26T11:24:17.002Z"
   },
   {
    "duration": 32,
    "start_time": "2023-10-26T11:24:17.071Z"
   },
   {
    "duration": 39,
    "start_time": "2023-10-26T11:24:17.105Z"
   },
   {
    "duration": 14,
    "start_time": "2023-10-26T11:24:17.145Z"
   },
   {
    "duration": 45,
    "start_time": "2023-10-26T11:24:17.160Z"
   },
   {
    "duration": 39,
    "start_time": "2023-10-26T11:24:17.207Z"
   },
   {
    "duration": 46,
    "start_time": "2023-10-26T11:24:17.248Z"
   },
   {
    "duration": 23,
    "start_time": "2023-10-26T11:24:17.296Z"
   },
   {
    "duration": 31,
    "start_time": "2023-10-26T11:24:17.322Z"
   },
   {
    "duration": 30,
    "start_time": "2023-10-26T11:24:17.354Z"
   },
   {
    "duration": 64,
    "start_time": "2023-10-26T11:24:17.386Z"
   },
   {
    "duration": 28,
    "start_time": "2023-10-26T11:24:17.451Z"
   },
   {
    "duration": 209,
    "start_time": "2023-10-26T11:24:17.481Z"
   },
   {
    "duration": 5,
    "start_time": "2023-10-26T11:24:17.692Z"
   },
   {
    "duration": 140,
    "start_time": "2023-10-26T11:24:17.699Z"
   },
   {
    "duration": 182,
    "start_time": "2023-10-26T11:24:17.843Z"
   },
   {
    "duration": 187,
    "start_time": "2023-10-26T11:24:18.027Z"
   },
   {
    "duration": 196,
    "start_time": "2023-10-26T11:24:18.216Z"
   },
   {
    "duration": 16,
    "start_time": "2023-10-26T11:24:18.414Z"
   },
   {
    "duration": 9,
    "start_time": "2023-10-26T11:24:18.444Z"
   },
   {
    "duration": 169,
    "start_time": "2023-10-26T11:24:18.454Z"
   },
   {
    "duration": 184,
    "start_time": "2023-10-26T11:24:18.624Z"
   },
   {
    "duration": 162,
    "start_time": "2023-10-26T11:24:18.810Z"
   },
   {
    "duration": 184,
    "start_time": "2023-10-26T11:24:18.973Z"
   },
   {
    "duration": 125,
    "start_time": "2023-10-26T11:24:19.158Z"
   },
   {
    "duration": 17,
    "start_time": "2023-10-26T11:24:19.285Z"
   },
   {
    "duration": 18,
    "start_time": "2023-10-26T11:24:19.304Z"
   },
   {
    "duration": 25,
    "start_time": "2023-10-26T11:24:19.324Z"
   },
   {
    "duration": 5,
    "start_time": "2023-10-26T11:24:19.351Z"
   },
   {
    "duration": 11,
    "start_time": "2023-10-26T11:24:19.358Z"
   },
   {
    "duration": 240,
    "start_time": "2023-10-26T11:24:19.370Z"
   },
   {
    "duration": 266,
    "start_time": "2023-10-26T11:24:19.612Z"
   },
   {
    "duration": 48,
    "start_time": "2023-10-26T12:29:55.596Z"
   },
   {
    "duration": 1372,
    "start_time": "2023-10-26T12:30:06.379Z"
   },
   {
    "duration": 100,
    "start_time": "2023-10-26T12:30:07.753Z"
   },
   {
    "duration": 80,
    "start_time": "2023-10-26T12:30:07.854Z"
   },
   {
    "duration": 58,
    "start_time": "2023-10-26T12:30:07.936Z"
   },
   {
    "duration": 11,
    "start_time": "2023-10-26T12:30:07.995Z"
   },
   {
    "duration": 15,
    "start_time": "2023-10-26T12:30:08.008Z"
   },
   {
    "duration": 18,
    "start_time": "2023-10-26T12:30:08.025Z"
   },
   {
    "duration": 10,
    "start_time": "2023-10-26T12:30:08.045Z"
   },
   {
    "duration": 23,
    "start_time": "2023-10-26T12:30:08.057Z"
   },
   {
    "duration": 8,
    "start_time": "2023-10-26T12:30:08.084Z"
   },
   {
    "duration": 17,
    "start_time": "2023-10-26T12:30:08.094Z"
   },
   {
    "duration": 30,
    "start_time": "2023-10-26T12:30:08.113Z"
   },
   {
    "duration": 35,
    "start_time": "2023-10-26T12:30:08.145Z"
   },
   {
    "duration": 6,
    "start_time": "2023-10-26T12:30:08.181Z"
   },
   {
    "duration": 5,
    "start_time": "2023-10-26T12:30:08.189Z"
   },
   {
    "duration": 21,
    "start_time": "2023-10-26T12:30:08.196Z"
   },
   {
    "duration": 19,
    "start_time": "2023-10-26T12:30:08.219Z"
   },
   {
    "duration": 13,
    "start_time": "2023-10-26T12:30:08.240Z"
   },
   {
    "duration": 200,
    "start_time": "2023-10-26T12:30:08.254Z"
   },
   {
    "duration": 6,
    "start_time": "2023-10-26T12:30:08.456Z"
   },
   {
    "duration": 147,
    "start_time": "2023-10-26T12:30:08.464Z"
   },
   {
    "duration": 190,
    "start_time": "2023-10-26T12:30:08.613Z"
   },
   {
    "duration": 179,
    "start_time": "2023-10-26T12:30:08.804Z"
   },
   {
    "duration": 192,
    "start_time": "2023-10-26T12:30:08.985Z"
   },
   {
    "duration": 15,
    "start_time": "2023-10-26T12:30:09.178Z"
   },
   {
    "duration": 11,
    "start_time": "2023-10-26T12:30:09.195Z"
   },
   {
    "duration": 202,
    "start_time": "2023-10-26T12:30:09.208Z"
   },
   {
    "duration": 196,
    "start_time": "2023-10-26T12:30:09.413Z"
   },
   {
    "duration": 165,
    "start_time": "2023-10-26T12:30:09.611Z"
   },
   {
    "duration": 184,
    "start_time": "2023-10-26T12:30:09.778Z"
   },
   {
    "duration": 126,
    "start_time": "2023-10-26T12:30:09.964Z"
   },
   {
    "duration": 18,
    "start_time": "2023-10-26T12:30:10.092Z"
   },
   {
    "duration": 38,
    "start_time": "2023-10-26T12:30:10.111Z"
   },
   {
    "duration": 7,
    "start_time": "2023-10-26T12:30:10.151Z"
   },
   {
    "duration": 16,
    "start_time": "2023-10-26T12:30:10.159Z"
   },
   {
    "duration": 9,
    "start_time": "2023-10-26T12:30:10.176Z"
   },
   {
    "duration": 259,
    "start_time": "2023-10-26T12:30:10.187Z"
   },
   {
    "duration": 298,
    "start_time": "2023-10-26T12:30:10.448Z"
   },
   {
    "duration": 9,
    "start_time": "2023-10-26T12:41:39.712Z"
   },
   {
    "duration": 10,
    "start_time": "2023-10-26T12:42:58.211Z"
   },
   {
    "duration": 11,
    "start_time": "2023-10-26T12:43:03.590Z"
   },
   {
    "duration": 13,
    "start_time": "2023-10-26T12:43:17.986Z"
   },
   {
    "duration": 1077,
    "start_time": "2023-10-26T12:43:39.030Z"
   },
   {
    "duration": 39,
    "start_time": "2023-10-26T12:43:40.109Z"
   },
   {
    "duration": 39,
    "start_time": "2023-10-26T12:43:40.150Z"
   },
   {
    "duration": 19,
    "start_time": "2023-10-26T12:43:40.192Z"
   },
   {
    "duration": 12,
    "start_time": "2023-10-26T12:43:40.213Z"
   },
   {
    "duration": 18,
    "start_time": "2023-10-26T12:43:40.227Z"
   },
   {
    "duration": 11,
    "start_time": "2023-10-26T12:43:40.247Z"
   },
   {
    "duration": 14,
    "start_time": "2023-10-26T12:43:40.260Z"
   },
   {
    "duration": 5,
    "start_time": "2023-10-26T12:43:40.276Z"
   },
   {
    "duration": 12,
    "start_time": "2023-10-26T12:43:40.284Z"
   },
   {
    "duration": 6,
    "start_time": "2023-10-26T12:43:40.297Z"
   },
   {
    "duration": 48,
    "start_time": "2023-10-26T12:43:40.305Z"
   },
   {
    "duration": 7,
    "start_time": "2023-10-26T12:43:40.355Z"
   },
   {
    "duration": 18,
    "start_time": "2023-10-26T12:43:40.364Z"
   },
   {
    "duration": 19,
    "start_time": "2023-10-26T12:43:40.383Z"
   },
   {
    "duration": 16,
    "start_time": "2023-10-26T12:43:40.404Z"
   },
   {
    "duration": 16,
    "start_time": "2023-10-26T12:43:40.421Z"
   },
   {
    "duration": 198,
    "start_time": "2023-10-26T12:43:40.439Z"
   },
   {
    "duration": 8,
    "start_time": "2023-10-26T12:43:40.639Z"
   },
   {
    "duration": 168,
    "start_time": "2023-10-26T12:43:40.649Z"
   },
   {
    "duration": 179,
    "start_time": "2023-10-26T12:43:40.819Z"
   },
   {
    "duration": 184,
    "start_time": "2023-10-26T12:43:41.000Z"
   },
   {
    "duration": 179,
    "start_time": "2023-10-26T12:43:41.186Z"
   },
   {
    "duration": 13,
    "start_time": "2023-10-26T12:43:41.367Z"
   },
   {
    "duration": 35,
    "start_time": "2023-10-26T12:43:41.382Z"
   },
   {
    "duration": 229,
    "start_time": "2023-10-26T12:43:41.418Z"
   },
   {
    "duration": 191,
    "start_time": "2023-10-26T12:43:41.648Z"
   },
   {
    "duration": 164,
    "start_time": "2023-10-26T12:43:41.843Z"
   },
   {
    "duration": 194,
    "start_time": "2023-10-26T12:43:42.009Z"
   },
   {
    "duration": 122,
    "start_time": "2023-10-26T12:43:42.205Z"
   },
   {
    "duration": 23,
    "start_time": "2023-10-26T12:43:42.329Z"
   },
   {
    "duration": 24,
    "start_time": "2023-10-26T12:43:42.353Z"
   },
   {
    "duration": 5,
    "start_time": "2023-10-26T12:43:42.379Z"
   },
   {
    "duration": 27,
    "start_time": "2023-10-26T12:43:42.386Z"
   },
   {
    "duration": 15,
    "start_time": "2023-10-26T12:43:42.415Z"
   },
   {
    "duration": 267,
    "start_time": "2023-10-26T12:43:42.431Z"
   },
   {
    "duration": 308,
    "start_time": "2023-10-26T12:43:42.700Z"
   },
   {
    "duration": 97,
    "start_time": "2023-10-26T12:51:38.298Z"
   },
   {
    "duration": 153,
    "start_time": "2023-10-26T12:52:05.502Z"
   },
   {
    "duration": 164,
    "start_time": "2023-10-26T12:52:13.879Z"
   },
   {
    "duration": 9,
    "start_time": "2023-10-26T12:52:31.183Z"
   },
   {
    "duration": 174,
    "start_time": "2023-10-26T12:55:57.890Z"
   },
   {
    "duration": 169,
    "start_time": "2023-10-26T12:56:31.063Z"
   },
   {
    "duration": 151,
    "start_time": "2023-10-26T12:56:47.116Z"
   },
   {
    "duration": 1118,
    "start_time": "2023-10-26T12:56:57.082Z"
   },
   {
    "duration": 39,
    "start_time": "2023-10-26T12:56:58.202Z"
   },
   {
    "duration": 40,
    "start_time": "2023-10-26T12:56:58.243Z"
   },
   {
    "duration": 20,
    "start_time": "2023-10-26T12:56:58.284Z"
   },
   {
    "duration": 17,
    "start_time": "2023-10-26T12:56:58.306Z"
   },
   {
    "duration": 28,
    "start_time": "2023-10-26T12:56:58.325Z"
   },
   {
    "duration": 17,
    "start_time": "2023-10-26T12:56:58.355Z"
   },
   {
    "duration": 14,
    "start_time": "2023-10-26T12:56:58.373Z"
   },
   {
    "duration": 5,
    "start_time": "2023-10-26T12:56:58.389Z"
   },
   {
    "duration": 11,
    "start_time": "2023-10-26T12:56:58.396Z"
   },
   {
    "duration": 9,
    "start_time": "2023-10-26T12:56:58.409Z"
   },
   {
    "duration": 43,
    "start_time": "2023-10-26T12:56:58.420Z"
   },
   {
    "duration": 6,
    "start_time": "2023-10-26T12:56:58.465Z"
   },
   {
    "duration": 10,
    "start_time": "2023-10-26T12:56:58.472Z"
   },
   {
    "duration": 7,
    "start_time": "2023-10-26T12:56:58.484Z"
   },
   {
    "duration": 15,
    "start_time": "2023-10-26T12:56:58.493Z"
   },
   {
    "duration": 6,
    "start_time": "2023-10-26T12:56:58.510Z"
   },
   {
    "duration": 193,
    "start_time": "2023-10-26T12:56:58.518Z"
   },
   {
    "duration": 6,
    "start_time": "2023-10-26T12:56:58.713Z"
   },
   {
    "duration": 171,
    "start_time": "2023-10-26T12:56:58.721Z"
   },
   {
    "duration": 200,
    "start_time": "2023-10-26T12:56:58.894Z"
   },
   {
    "duration": 181,
    "start_time": "2023-10-26T12:56:59.095Z"
   },
   {
    "duration": 188,
    "start_time": "2023-10-26T12:56:59.277Z"
   },
   {
    "duration": 15,
    "start_time": "2023-10-26T12:56:59.466Z"
   },
   {
    "duration": 14,
    "start_time": "2023-10-26T12:56:59.483Z"
   },
   {
    "duration": 176,
    "start_time": "2023-10-26T12:56:59.498Z"
   },
   {
    "duration": 196,
    "start_time": "2023-10-26T12:56:59.676Z"
   },
   {
    "duration": 166,
    "start_time": "2023-10-26T12:56:59.875Z"
   },
   {
    "duration": 181,
    "start_time": "2023-10-26T12:57:00.044Z"
   },
   {
    "duration": 130,
    "start_time": "2023-10-26T12:57:00.227Z"
   },
   {
    "duration": 28,
    "start_time": "2023-10-26T12:57:00.359Z"
   },
   {
    "duration": 217,
    "start_time": "2023-10-26T12:57:00.388Z"
   },
   {
    "duration": 193,
    "start_time": "2023-10-26T12:57:00.607Z"
   },
   {
    "duration": 108,
    "start_time": "2023-10-26T12:57:00.803Z"
   },
   {
    "duration": 64,
    "start_time": "2023-10-26T12:57:00.912Z"
   },
   {
    "duration": 243,
    "start_time": "2023-10-26T12:57:00.978Z"
   },
   {
    "duration": 292,
    "start_time": "2023-10-26T12:57:01.223Z"
   },
   {
    "duration": 86,
    "start_time": "2023-10-26T12:58:35.252Z"
   },
   {
    "duration": 50,
    "start_time": "2023-10-26T18:30:37.922Z"
   },
   {
    "duration": 1612,
    "start_time": "2023-10-26T18:30:49.459Z"
   },
   {
    "duration": 99,
    "start_time": "2023-10-26T18:30:51.074Z"
   },
   {
    "duration": 172,
    "start_time": "2023-10-26T18:30:51.175Z"
   },
   {
    "duration": 63,
    "start_time": "2023-10-26T18:30:51.350Z"
   },
   {
    "duration": 12,
    "start_time": "2023-10-26T18:30:51.415Z"
   },
   {
    "duration": 24,
    "start_time": "2023-10-26T18:30:51.429Z"
   },
   {
    "duration": 14,
    "start_time": "2023-10-26T18:30:51.455Z"
   },
   {
    "duration": 31,
    "start_time": "2023-10-26T18:30:51.470Z"
   },
   {
    "duration": 23,
    "start_time": "2023-10-26T18:30:51.502Z"
   },
   {
    "duration": 29,
    "start_time": "2023-10-26T18:30:51.527Z"
   },
   {
    "duration": 26,
    "start_time": "2023-10-26T18:30:51.558Z"
   },
   {
    "duration": 47,
    "start_time": "2023-10-26T18:30:51.586Z"
   },
   {
    "duration": 7,
    "start_time": "2023-10-26T18:30:51.635Z"
   },
   {
    "duration": 41,
    "start_time": "2023-10-26T18:30:51.644Z"
   },
   {
    "duration": 23,
    "start_time": "2023-10-26T18:30:51.686Z"
   },
   {
    "duration": 16,
    "start_time": "2023-10-26T18:30:51.711Z"
   },
   {
    "duration": 22,
    "start_time": "2023-10-26T18:30:51.729Z"
   },
   {
    "duration": 191,
    "start_time": "2023-10-26T18:30:51.753Z"
   },
   {
    "duration": 6,
    "start_time": "2023-10-26T18:30:51.946Z"
   },
   {
    "duration": 92,
    "start_time": "2023-10-26T18:30:51.954Z"
   },
   {
    "duration": 133,
    "start_time": "2023-10-26T18:30:52.047Z"
   },
   {
    "duration": 230,
    "start_time": "2023-10-26T18:30:52.182Z"
   },
   {
    "duration": 218,
    "start_time": "2023-10-26T18:30:52.415Z"
   },
   {
    "duration": 209,
    "start_time": "2023-10-26T18:30:52.636Z"
   },
   {
    "duration": 29,
    "start_time": "2023-10-26T18:30:52.847Z"
   },
   {
    "duration": 11,
    "start_time": "2023-10-26T18:30:52.877Z"
   },
   {
    "duration": 199,
    "start_time": "2023-10-26T18:30:52.890Z"
   },
   {
    "duration": 212,
    "start_time": "2023-10-26T18:30:53.092Z"
   },
   {
    "duration": 174,
    "start_time": "2023-10-26T18:30:53.306Z"
   },
   {
    "duration": 412,
    "start_time": "2023-10-26T18:30:53.482Z"
   },
   {
    "duration": 93,
    "start_time": "2023-10-26T18:30:53.896Z"
   },
   {
    "duration": 75,
    "start_time": "2023-10-26T18:30:53.992Z"
   },
   {
    "duration": 22,
    "start_time": "2023-10-26T18:30:54.069Z"
   },
   {
    "duration": 12,
    "start_time": "2023-10-26T18:30:54.092Z"
   },
   {
    "duration": 62,
    "start_time": "2023-10-26T18:30:54.106Z"
   },
   {
    "duration": 33,
    "start_time": "2023-10-26T18:30:54.170Z"
   },
   {
    "duration": 476,
    "start_time": "2023-10-26T18:30:54.204Z"
   },
   {
    "duration": 629,
    "start_time": "2023-10-26T18:30:54.682Z"
   },
   {
    "duration": 207,
    "start_time": "2023-10-26T18:31:10.883Z"
   },
   {
    "duration": 1838,
    "start_time": "2023-10-26T18:34:19.125Z"
   },
   {
    "duration": 84,
    "start_time": "2023-10-26T18:34:59.050Z"
   },
   {
    "duration": 1065,
    "start_time": "2023-10-26T18:35:58.654Z"
   },
   {
    "duration": 80,
    "start_time": "2023-10-26T18:36:09.863Z"
   },
   {
    "duration": 197,
    "start_time": "2023-10-26T18:39:00.777Z"
   },
   {
    "duration": 208,
    "start_time": "2023-10-26T18:39:07.896Z"
   },
   {
    "duration": 220,
    "start_time": "2023-10-26T18:39:12.935Z"
   },
   {
    "duration": 225,
    "start_time": "2023-10-26T18:39:29.744Z"
   },
   {
    "duration": 316,
    "start_time": "2023-10-26T18:39:37.736Z"
   },
   {
    "duration": 251,
    "start_time": "2023-10-26T18:39:44.279Z"
   },
   {
    "duration": 256,
    "start_time": "2023-10-26T18:39:49.213Z"
   },
   {
    "duration": 276,
    "start_time": "2023-10-26T18:39:55.269Z"
   },
   {
    "duration": 299,
    "start_time": "2023-10-26T18:40:00.189Z"
   },
   {
    "duration": 456,
    "start_time": "2023-10-26T18:41:15.047Z"
   },
   {
    "duration": 435,
    "start_time": "2023-10-26T18:41:21.776Z"
   },
   {
    "duration": 457,
    "start_time": "2023-10-26T18:41:45.077Z"
   },
   {
    "duration": 406,
    "start_time": "2023-10-26T18:41:50.342Z"
   },
   {
    "duration": 518,
    "start_time": "2023-10-26T18:41:55.924Z"
   },
   {
    "duration": 411,
    "start_time": "2023-10-26T18:41:59.908Z"
   },
   {
    "duration": 501,
    "start_time": "2023-10-26T18:42:06.595Z"
   },
   {
    "duration": 742,
    "start_time": "2023-10-26T18:42:15.251Z"
   },
   {
    "duration": 864,
    "start_time": "2023-10-26T18:42:20.115Z"
   },
   {
    "duration": 1013,
    "start_time": "2023-10-26T18:42:58.856Z"
   },
   {
    "duration": 169,
    "start_time": "2023-10-26T18:43:07.233Z"
   },
   {
    "duration": 179,
    "start_time": "2023-10-26T18:43:11.743Z"
   },
   {
    "duration": 189,
    "start_time": "2023-10-26T18:43:20.334Z"
   },
   {
    "duration": 190,
    "start_time": "2023-10-26T18:43:22.422Z"
   },
   {
    "duration": 342,
    "start_time": "2023-10-26T18:43:38.589Z"
   },
   {
    "duration": 232,
    "start_time": "2023-10-26T18:43:44.468Z"
   },
   {
    "duration": 264,
    "start_time": "2023-10-26T18:43:51.092Z"
   },
   {
    "duration": 234,
    "start_time": "2023-10-26T18:43:58.716Z"
   },
   {
    "duration": 955,
    "start_time": "2023-10-26T18:44:41.313Z"
   },
   {
    "duration": 882,
    "start_time": "2023-10-26T18:44:49.122Z"
   },
   {
    "duration": 912,
    "start_time": "2023-10-26T18:44:59.064Z"
   },
   {
    "duration": 673,
    "start_time": "2023-10-26T18:45:02.599Z"
   },
   {
    "duration": 521,
    "start_time": "2023-10-26T18:45:05.728Z"
   },
   {
    "duration": 272,
    "start_time": "2023-10-26T18:45:11.071Z"
   },
   {
    "duration": 239,
    "start_time": "2023-10-26T18:45:18.287Z"
   },
   {
    "duration": 485,
    "start_time": "2023-10-26T18:47:18.559Z"
   },
   {
    "duration": 4,
    "start_time": "2023-10-26T18:49:12.806Z"
   },
   {
    "duration": 427,
    "start_time": "2023-10-26T18:50:36.737Z"
   },
   {
    "duration": 15,
    "start_time": "2023-10-26T18:51:22.005Z"
   },
   {
    "duration": 15,
    "start_time": "2023-10-26T18:52:16.267Z"
   },
   {
    "duration": 9,
    "start_time": "2023-10-26T18:52:31.825Z"
   },
   {
    "duration": 1442,
    "start_time": "2023-10-27T13:05:41.238Z"
   },
   {
    "duration": 111,
    "start_time": "2023-10-27T13:08:01.649Z"
   },
   {
    "duration": 1063,
    "start_time": "2023-10-27T13:08:14.332Z"
   },
   {
    "duration": 96,
    "start_time": "2023-10-27T13:08:15.397Z"
   },
   {
    "duration": 96,
    "start_time": "2023-10-27T13:08:15.494Z"
   },
   {
    "duration": 72,
    "start_time": "2023-10-27T13:08:15.592Z"
   },
   {
    "duration": 23,
    "start_time": "2023-10-27T13:08:15.666Z"
   },
   {
    "duration": 12,
    "start_time": "2023-10-27T13:08:15.691Z"
   },
   {
    "duration": 26,
    "start_time": "2023-10-27T13:08:15.704Z"
   },
   {
    "duration": 58,
    "start_time": "2023-10-27T13:08:15.732Z"
   },
   {
    "duration": 24,
    "start_time": "2023-10-27T13:08:15.792Z"
   },
   {
    "duration": 37,
    "start_time": "2023-10-27T13:08:15.819Z"
   },
   {
    "duration": 30,
    "start_time": "2023-10-27T13:08:15.857Z"
   },
   {
    "duration": 22,
    "start_time": "2023-10-27T13:08:15.889Z"
   },
   {
    "duration": 59,
    "start_time": "2023-10-27T13:08:15.913Z"
   },
   {
    "duration": 7,
    "start_time": "2023-10-27T13:08:15.983Z"
   },
   {
    "duration": 21,
    "start_time": "2023-10-27T13:08:15.992Z"
   },
   {
    "duration": 67,
    "start_time": "2023-10-27T13:08:16.014Z"
   },
   {
    "duration": 38,
    "start_time": "2023-10-27T13:08:16.083Z"
   },
   {
    "duration": 305,
    "start_time": "2023-10-27T13:08:16.122Z"
   },
   {
    "duration": 107,
    "start_time": "2023-10-27T13:08:16.429Z"
   },
   {
    "duration": 226,
    "start_time": "2023-10-27T13:08:16.538Z"
   },
   {
    "duration": 234,
    "start_time": "2023-10-27T13:08:16.777Z"
   },
   {
    "duration": 267,
    "start_time": "2023-10-27T13:08:17.017Z"
   },
   {
    "duration": 182,
    "start_time": "2023-10-27T13:08:17.286Z"
   },
   {
    "duration": 17,
    "start_time": "2023-10-27T13:08:17.469Z"
   },
   {
    "duration": 13,
    "start_time": "2023-10-27T13:08:17.487Z"
   },
   {
    "duration": 15,
    "start_time": "2023-10-27T13:08:17.502Z"
   },
   {
    "duration": 57,
    "start_time": "2023-10-27T13:08:17.518Z"
   },
   {
    "duration": 7,
    "start_time": "2023-10-27T13:08:17.586Z"
   },
   {
    "duration": 236,
    "start_time": "2023-10-27T13:08:17.594Z"
   },
   {
    "duration": 0,
    "start_time": "2023-10-27T13:08:17.831Z"
   },
   {
    "duration": 0,
    "start_time": "2023-10-27T13:08:17.832Z"
   },
   {
    "duration": 0,
    "start_time": "2023-10-27T13:08:17.833Z"
   },
   {
    "duration": 0,
    "start_time": "2023-10-27T13:08:17.835Z"
   },
   {
    "duration": 0,
    "start_time": "2023-10-27T13:08:17.835Z"
   },
   {
    "duration": 0,
    "start_time": "2023-10-27T13:08:17.836Z"
   },
   {
    "duration": 0,
    "start_time": "2023-10-27T13:08:17.837Z"
   },
   {
    "duration": 0,
    "start_time": "2023-10-27T13:08:17.838Z"
   },
   {
    "duration": 0,
    "start_time": "2023-10-27T13:08:17.839Z"
   },
   {
    "duration": 0,
    "start_time": "2023-10-27T13:08:17.840Z"
   },
   {
    "duration": 0,
    "start_time": "2023-10-27T13:08:17.841Z"
   },
   {
    "duration": 0,
    "start_time": "2023-10-27T13:08:17.842Z"
   },
   {
    "duration": 210,
    "start_time": "2023-10-27T13:08:45.916Z"
   },
   {
    "duration": 1096,
    "start_time": "2023-10-27T13:09:12.968Z"
   },
   {
    "duration": 39,
    "start_time": "2023-10-27T13:09:14.066Z"
   },
   {
    "duration": 49,
    "start_time": "2023-10-27T13:09:14.107Z"
   },
   {
    "duration": 29,
    "start_time": "2023-10-27T13:09:14.157Z"
   },
   {
    "duration": 11,
    "start_time": "2023-10-27T13:09:14.188Z"
   },
   {
    "duration": 10,
    "start_time": "2023-10-27T13:09:14.200Z"
   },
   {
    "duration": 14,
    "start_time": "2023-10-27T13:09:14.212Z"
   },
   {
    "duration": 10,
    "start_time": "2023-10-27T13:09:14.228Z"
   },
   {
    "duration": 25,
    "start_time": "2023-10-27T13:09:14.239Z"
   },
   {
    "duration": 11,
    "start_time": "2023-10-27T13:09:14.265Z"
   },
   {
    "duration": 6,
    "start_time": "2023-10-27T13:09:14.277Z"
   },
   {
    "duration": 7,
    "start_time": "2023-10-27T13:09:14.284Z"
   },
   {
    "duration": 5,
    "start_time": "2023-10-27T13:09:14.293Z"
   },
   {
    "duration": 4,
    "start_time": "2023-10-27T13:09:14.300Z"
   },
   {
    "duration": 4,
    "start_time": "2023-10-27T13:09:14.305Z"
   },
   {
    "duration": 5,
    "start_time": "2023-10-27T13:09:14.311Z"
   },
   {
    "duration": 5,
    "start_time": "2023-10-27T13:09:14.317Z"
   },
   {
    "duration": 203,
    "start_time": "2023-10-27T13:09:14.323Z"
   },
   {
    "duration": 144,
    "start_time": "2023-10-27T13:09:14.528Z"
   },
   {
    "duration": 202,
    "start_time": "2023-10-27T13:09:14.682Z"
   },
   {
    "duration": 228,
    "start_time": "2023-10-27T13:09:14.886Z"
   },
   {
    "duration": 265,
    "start_time": "2023-10-27T13:09:15.115Z"
   },
   {
    "duration": 178,
    "start_time": "2023-10-27T13:09:15.381Z"
   },
   {
    "duration": 17,
    "start_time": "2023-10-27T13:09:15.560Z"
   },
   {
    "duration": 18,
    "start_time": "2023-10-27T13:09:15.578Z"
   },
   {
    "duration": 13,
    "start_time": "2023-10-27T13:09:15.597Z"
   },
   {
    "duration": 30,
    "start_time": "2023-10-27T13:09:15.611Z"
   },
   {
    "duration": 13,
    "start_time": "2023-10-27T13:09:15.658Z"
   },
   {
    "duration": 148,
    "start_time": "2023-10-27T13:09:15.680Z"
   },
   {
    "duration": 252,
    "start_time": "2023-10-27T13:09:15.830Z"
   },
   {
    "duration": 206,
    "start_time": "2023-10-27T13:09:16.085Z"
   },
   {
    "duration": 200,
    "start_time": "2023-10-27T13:09:16.293Z"
   },
   {
    "duration": 190,
    "start_time": "2023-10-27T13:09:16.495Z"
   },
   {
    "duration": 25,
    "start_time": "2023-10-27T13:09:16.688Z"
   },
   {
    "duration": 17,
    "start_time": "2023-10-27T13:09:16.715Z"
   },
   {
    "duration": 57,
    "start_time": "2023-10-27T13:09:16.733Z"
   },
   {
    "duration": 27,
    "start_time": "2023-10-27T13:09:16.792Z"
   },
   {
    "duration": 32,
    "start_time": "2023-10-27T13:09:16.820Z"
   },
   {
    "duration": 30,
    "start_time": "2023-10-27T13:09:16.853Z"
   },
   {
    "duration": 225,
    "start_time": "2023-10-27T13:09:16.885Z"
   },
   {
    "duration": 329,
    "start_time": "2023-10-27T13:09:17.115Z"
   },
   {
    "duration": 178,
    "start_time": "2023-10-27T13:10:00.728Z"
   },
   {
    "duration": 164,
    "start_time": "2023-10-27T13:10:38.166Z"
   },
   {
    "duration": 152,
    "start_time": "2023-10-27T13:11:18.368Z"
   },
   {
    "duration": 191,
    "start_time": "2023-10-27T13:11:27.018Z"
   },
   {
    "duration": 170,
    "start_time": "2023-10-27T13:11:33.721Z"
   },
   {
    "duration": 231,
    "start_time": "2023-10-27T13:12:45.583Z"
   },
   {
    "duration": 353,
    "start_time": "2023-10-27T13:15:33.921Z"
   },
   {
    "duration": 117,
    "start_time": "2023-10-27T13:17:29.983Z"
   },
   {
    "duration": 242,
    "start_time": "2023-10-27T13:17:45.383Z"
   },
   {
    "duration": 192,
    "start_time": "2023-10-27T13:17:58.536Z"
   },
   {
    "duration": 206,
    "start_time": "2023-10-27T13:18:31.326Z"
   },
   {
    "duration": 190,
    "start_time": "2023-10-27T13:18:49.237Z"
   },
   {
    "duration": 212,
    "start_time": "2023-10-27T13:19:16.769Z"
   },
   {
    "duration": 253,
    "start_time": "2023-10-27T13:19:25.128Z"
   },
   {
    "duration": 418,
    "start_time": "2023-10-27T13:20:34.289Z"
   },
   {
    "duration": 310,
    "start_time": "2023-10-27T13:21:44.491Z"
   },
   {
    "duration": 218,
    "start_time": "2023-10-27T13:22:01.948Z"
   },
   {
    "duration": 232,
    "start_time": "2023-10-27T13:22:32.876Z"
   },
   {
    "duration": 6,
    "start_time": "2023-10-27T13:26:13.903Z"
   },
   {
    "duration": 5,
    "start_time": "2023-10-27T13:27:17.805Z"
   },
   {
    "duration": 25,
    "start_time": "2023-10-27T13:27:33.338Z"
   },
   {
    "duration": 3,
    "start_time": "2023-10-27T13:28:07.798Z"
   },
   {
    "duration": 4,
    "start_time": "2023-10-27T13:28:28.599Z"
   },
   {
    "duration": 5,
    "start_time": "2023-10-27T13:28:35.475Z"
   },
   {
    "duration": 11,
    "start_time": "2023-10-27T13:28:46.550Z"
   },
   {
    "duration": 139,
    "start_time": "2023-10-27T13:29:11.574Z"
   },
   {
    "duration": 151,
    "start_time": "2023-10-27T13:33:21.053Z"
   },
   {
    "duration": 6,
    "start_time": "2023-10-27T13:33:30.499Z"
   },
   {
    "duration": 17,
    "start_time": "2023-10-27T13:39:07.897Z"
   },
   {
    "duration": 46,
    "start_time": "2023-10-27T13:39:30.953Z"
   },
   {
    "duration": 16,
    "start_time": "2023-10-27T13:39:42.100Z"
   },
   {
    "duration": 11,
    "start_time": "2023-10-27T13:39:51.889Z"
   },
   {
    "duration": 1164,
    "start_time": "2023-10-27T13:40:05.267Z"
   },
   {
    "duration": 69,
    "start_time": "2023-10-27T13:40:06.434Z"
   },
   {
    "duration": 66,
    "start_time": "2023-10-27T13:40:06.505Z"
   },
   {
    "duration": 25,
    "start_time": "2023-10-27T13:40:06.574Z"
   },
   {
    "duration": 15,
    "start_time": "2023-10-27T13:40:06.600Z"
   },
   {
    "duration": 12,
    "start_time": "2023-10-27T13:40:06.616Z"
   },
   {
    "duration": 43,
    "start_time": "2023-10-27T13:40:06.629Z"
   },
   {
    "duration": 20,
    "start_time": "2023-10-27T13:40:06.685Z"
   },
   {
    "duration": 13,
    "start_time": "2023-10-27T13:40:06.707Z"
   },
   {
    "duration": 36,
    "start_time": "2023-10-27T13:40:06.724Z"
   },
   {
    "duration": 42,
    "start_time": "2023-10-27T13:40:06.762Z"
   },
   {
    "duration": 11,
    "start_time": "2023-10-27T13:40:06.806Z"
   },
   {
    "duration": 6,
    "start_time": "2023-10-27T13:40:06.818Z"
   },
   {
    "duration": 4,
    "start_time": "2023-10-27T13:40:06.826Z"
   },
   {
    "duration": 6,
    "start_time": "2023-10-27T13:40:06.831Z"
   },
   {
    "duration": 26,
    "start_time": "2023-10-27T13:40:06.839Z"
   },
   {
    "duration": 16,
    "start_time": "2023-10-27T13:40:06.867Z"
   },
   {
    "duration": 231,
    "start_time": "2023-10-27T13:40:06.885Z"
   },
   {
    "duration": 106,
    "start_time": "2023-10-27T13:40:07.118Z"
   },
   {
    "duration": 199,
    "start_time": "2023-10-27T13:40:07.225Z"
   },
   {
    "duration": 265,
    "start_time": "2023-10-27T13:40:07.426Z"
   },
   {
    "duration": 231,
    "start_time": "2023-10-27T13:40:07.692Z"
   },
   {
    "duration": 232,
    "start_time": "2023-10-27T13:40:07.924Z"
   },
   {
    "duration": 47,
    "start_time": "2023-10-27T13:40:08.157Z"
   },
   {
    "duration": 18,
    "start_time": "2023-10-27T13:40:08.211Z"
   },
   {
    "duration": 49,
    "start_time": "2023-10-27T13:40:08.231Z"
   },
   {
    "duration": 17,
    "start_time": "2023-10-27T13:40:08.282Z"
   },
   {
    "duration": 9,
    "start_time": "2023-10-27T13:40:08.303Z"
   },
   {
    "duration": 193,
    "start_time": "2023-10-27T13:40:08.314Z"
   },
   {
    "duration": 297,
    "start_time": "2023-10-27T13:40:08.508Z"
   },
   {
    "duration": 27,
    "start_time": "2023-10-27T13:40:08.807Z"
   },
   {
    "duration": 79,
    "start_time": "2023-10-27T13:40:08.836Z"
   },
   {
    "duration": 31,
    "start_time": "2023-10-27T13:40:08.920Z"
   },
   {
    "duration": 20,
    "start_time": "2023-10-27T13:40:08.960Z"
   },
   {
    "duration": 36,
    "start_time": "2023-10-27T13:40:08.985Z"
   },
   {
    "duration": 6,
    "start_time": "2023-10-27T13:40:09.023Z"
   },
   {
    "duration": 6,
    "start_time": "2023-10-27T13:40:09.030Z"
   },
   {
    "duration": 38,
    "start_time": "2023-10-27T13:40:09.038Z"
   },
   {
    "duration": 22,
    "start_time": "2023-10-27T13:40:09.078Z"
   },
   {
    "duration": 244,
    "start_time": "2023-10-27T13:40:09.101Z"
   },
   {
    "duration": 330,
    "start_time": "2023-10-27T13:40:09.346Z"
   },
   {
    "duration": 161,
    "start_time": "2023-10-27T13:40:33.349Z"
   },
   {
    "duration": 8,
    "start_time": "2023-10-27T13:40:36.326Z"
   },
   {
    "duration": 6,
    "start_time": "2023-10-27T13:45:41.794Z"
   },
   {
    "duration": 33,
    "start_time": "2023-10-27T13:49:45.269Z"
   },
   {
    "duration": 29,
    "start_time": "2023-10-27T13:50:01.949Z"
   },
   {
    "duration": 24,
    "start_time": "2023-10-27T13:50:12.278Z"
   },
   {
    "duration": 15,
    "start_time": "2023-10-27T13:52:27.237Z"
   },
   {
    "duration": 8,
    "start_time": "2023-10-27T13:52:34.780Z"
   },
   {
    "duration": 9,
    "start_time": "2023-10-27T13:52:38.591Z"
   },
   {
    "duration": 882,
    "start_time": "2023-10-27T13:56:00.485Z"
   },
   {
    "duration": 265,
    "start_time": "2023-10-27T13:57:53.751Z"
   },
   {
    "duration": 265,
    "start_time": "2023-10-27T14:02:58.018Z"
   },
   {
    "duration": 190,
    "start_time": "2023-10-27T14:08:53.018Z"
   },
   {
    "duration": 256,
    "start_time": "2023-10-27T14:24:32.670Z"
   },
   {
    "duration": 220,
    "start_time": "2023-10-27T14:24:36.304Z"
   },
   {
    "duration": 208,
    "start_time": "2023-10-27T14:24:39.608Z"
   },
   {
    "duration": 309,
    "start_time": "2023-10-27T14:24:51.381Z"
   },
   {
    "duration": 254,
    "start_time": "2023-10-27T14:24:59.030Z"
   },
   {
    "duration": 1054,
    "start_time": "2023-10-27T14:46:49.024Z"
   },
   {
    "duration": 39,
    "start_time": "2023-10-27T14:46:50.087Z"
   },
   {
    "duration": 55,
    "start_time": "2023-10-27T14:46:50.128Z"
   },
   {
    "duration": 19,
    "start_time": "2023-10-27T14:46:50.186Z"
   },
   {
    "duration": 10,
    "start_time": "2023-10-27T14:46:50.207Z"
   },
   {
    "duration": 50,
    "start_time": "2023-10-27T14:46:50.219Z"
   },
   {
    "duration": 13,
    "start_time": "2023-10-27T14:46:50.270Z"
   },
   {
    "duration": 46,
    "start_time": "2023-10-27T14:46:50.284Z"
   },
   {
    "duration": 39,
    "start_time": "2023-10-27T14:46:50.331Z"
   },
   {
    "duration": 25,
    "start_time": "2023-10-27T14:46:50.372Z"
   },
   {
    "duration": 54,
    "start_time": "2023-10-27T14:46:50.398Z"
   },
   {
    "duration": 20,
    "start_time": "2023-10-27T14:46:50.463Z"
   },
   {
    "duration": 41,
    "start_time": "2023-10-27T14:46:50.484Z"
   },
   {
    "duration": 49,
    "start_time": "2023-10-27T14:46:50.527Z"
   },
   {
    "duration": 32,
    "start_time": "2023-10-27T14:46:50.577Z"
   },
   {
    "duration": 27,
    "start_time": "2023-10-27T14:46:50.610Z"
   },
   {
    "duration": 39,
    "start_time": "2023-10-27T14:46:50.638Z"
   },
   {
    "duration": 203,
    "start_time": "2023-10-27T14:46:50.678Z"
   },
   {
    "duration": 92,
    "start_time": "2023-10-27T14:46:50.882Z"
   },
   {
    "duration": 194,
    "start_time": "2023-10-27T14:46:50.975Z"
   },
   {
    "duration": 227,
    "start_time": "2023-10-27T14:46:51.177Z"
   },
   {
    "duration": 266,
    "start_time": "2023-10-27T14:46:51.406Z"
   },
   {
    "duration": 182,
    "start_time": "2023-10-27T14:46:51.677Z"
   },
   {
    "duration": 20,
    "start_time": "2023-10-27T14:46:51.870Z"
   },
   {
    "duration": 11,
    "start_time": "2023-10-27T14:46:51.892Z"
   },
   {
    "duration": 12,
    "start_time": "2023-10-27T14:46:51.904Z"
   },
   {
    "duration": 8,
    "start_time": "2023-10-27T14:46:51.917Z"
   },
   {
    "duration": 7,
    "start_time": "2023-10-27T14:46:51.928Z"
   },
   {
    "duration": 196,
    "start_time": "2023-10-27T14:46:51.936Z"
   },
   {
    "duration": 259,
    "start_time": "2023-10-27T14:46:52.134Z"
   },
   {
    "duration": 28,
    "start_time": "2023-10-27T14:46:52.395Z"
   },
   {
    "duration": 37,
    "start_time": "2023-10-27T14:46:52.456Z"
   },
   {
    "duration": 20,
    "start_time": "2023-10-27T14:46:52.495Z"
   },
   {
    "duration": 6,
    "start_time": "2023-10-27T14:46:52.517Z"
   },
   {
    "duration": 4,
    "start_time": "2023-10-27T14:46:52.525Z"
   },
   {
    "duration": 5,
    "start_time": "2023-10-27T14:46:52.530Z"
   },
   {
    "duration": 35,
    "start_time": "2023-10-27T14:46:52.537Z"
   },
   {
    "duration": 13,
    "start_time": "2023-10-27T14:46:52.573Z"
   },
   {
    "duration": 4,
    "start_time": "2023-10-27T14:46:52.588Z"
   },
   {
    "duration": 874,
    "start_time": "2023-10-27T14:46:52.594Z"
   },
   {
    "duration": 216,
    "start_time": "2023-10-27T14:46:53.477Z"
   },
   {
    "duration": 1112,
    "start_time": "2023-10-27T22:06:55.868Z"
   },
   {
    "duration": 83,
    "start_time": "2023-10-27T22:06:56.983Z"
   },
   {
    "duration": 78,
    "start_time": "2023-10-27T22:06:57.068Z"
   },
   {
    "duration": 56,
    "start_time": "2023-10-27T22:06:57.148Z"
   },
   {
    "duration": 12,
    "start_time": "2023-10-27T22:06:57.206Z"
   },
   {
    "duration": 16,
    "start_time": "2023-10-27T22:06:57.220Z"
   },
   {
    "duration": 9,
    "start_time": "2023-10-27T22:06:57.238Z"
   },
   {
    "duration": 14,
    "start_time": "2023-10-27T22:06:57.249Z"
   },
   {
    "duration": 6,
    "start_time": "2023-10-27T22:06:57.265Z"
   },
   {
    "duration": 29,
    "start_time": "2023-10-27T22:06:57.272Z"
   },
   {
    "duration": 7,
    "start_time": "2023-10-27T22:06:57.303Z"
   },
   {
    "duration": 11,
    "start_time": "2023-10-27T22:06:57.312Z"
   },
   {
    "duration": 5,
    "start_time": "2023-10-27T22:06:57.325Z"
   },
   {
    "duration": 4,
    "start_time": "2023-10-27T22:06:57.334Z"
   },
   {
    "duration": 14,
    "start_time": "2023-10-27T22:06:57.340Z"
   },
   {
    "duration": 10,
    "start_time": "2023-10-27T22:06:57.355Z"
   },
   {
    "duration": 37,
    "start_time": "2023-10-27T22:06:57.366Z"
   },
   {
    "duration": 205,
    "start_time": "2023-10-27T22:06:57.405Z"
   },
   {
    "duration": 94,
    "start_time": "2023-10-27T22:06:57.611Z"
   },
   {
    "duration": 195,
    "start_time": "2023-10-27T22:06:57.708Z"
   },
   {
    "duration": 245,
    "start_time": "2023-10-27T22:06:57.905Z"
   },
   {
    "duration": 234,
    "start_time": "2023-10-27T22:06:58.152Z"
   },
   {
    "duration": 190,
    "start_time": "2023-10-27T22:06:58.387Z"
   },
   {
    "duration": 23,
    "start_time": "2023-10-27T22:06:58.579Z"
   },
   {
    "duration": 15,
    "start_time": "2023-10-27T22:06:58.603Z"
   },
   {
    "duration": 15,
    "start_time": "2023-10-27T22:06:58.620Z"
   },
   {
    "duration": 13,
    "start_time": "2023-10-27T22:06:58.637Z"
   },
   {
    "duration": 9,
    "start_time": "2023-10-27T22:06:58.651Z"
   },
   {
    "duration": 212,
    "start_time": "2023-10-27T22:06:58.662Z"
   },
   {
    "duration": 269,
    "start_time": "2023-10-27T22:06:58.876Z"
   },
   {
    "duration": 28,
    "start_time": "2023-10-27T22:06:59.147Z"
   },
   {
    "duration": 43,
    "start_time": "2023-10-27T22:06:59.177Z"
   },
   {
    "duration": 21,
    "start_time": "2023-10-27T22:06:59.221Z"
   },
   {
    "duration": 6,
    "start_time": "2023-10-27T22:06:59.244Z"
   },
   {
    "duration": 49,
    "start_time": "2023-10-27T22:06:59.251Z"
   },
   {
    "duration": 26,
    "start_time": "2023-10-27T22:06:59.302Z"
   },
   {
    "duration": 19,
    "start_time": "2023-10-27T22:06:59.330Z"
   },
   {
    "duration": 13,
    "start_time": "2023-10-27T22:06:59.350Z"
   },
   {
    "duration": 36,
    "start_time": "2023-10-27T22:06:59.365Z"
   },
   {
    "duration": 952,
    "start_time": "2023-10-27T22:06:59.403Z"
   },
   {
    "duration": 220,
    "start_time": "2023-10-27T22:07:00.358Z"
   },
   {
    "duration": 47,
    "start_time": "2023-11-01T07:37:22.661Z"
   },
   {
    "duration": 1146,
    "start_time": "2023-11-01T07:37:32.626Z"
   },
   {
    "duration": 86,
    "start_time": "2023-11-01T07:37:33.774Z"
   },
   {
    "duration": 80,
    "start_time": "2023-11-01T07:37:33.862Z"
   },
   {
    "duration": 58,
    "start_time": "2023-11-01T07:37:33.944Z"
   },
   {
    "duration": 59,
    "start_time": "2023-11-01T07:37:34.004Z"
   },
   {
    "duration": 37,
    "start_time": "2023-11-01T07:37:34.065Z"
   },
   {
    "duration": 44,
    "start_time": "2023-11-01T07:37:34.104Z"
   },
   {
    "duration": 130,
    "start_time": "2023-11-01T07:37:34.150Z"
   },
   {
    "duration": 12,
    "start_time": "2023-11-01T07:37:34.282Z"
   },
   {
    "duration": 17,
    "start_time": "2023-11-01T07:37:34.296Z"
   },
   {
    "duration": 10,
    "start_time": "2023-11-01T07:37:34.314Z"
   },
   {
    "duration": 17,
    "start_time": "2023-11-01T07:37:34.326Z"
   },
   {
    "duration": 9,
    "start_time": "2023-11-01T07:37:34.345Z"
   },
   {
    "duration": 20,
    "start_time": "2023-11-01T07:37:34.356Z"
   },
   {
    "duration": 18,
    "start_time": "2023-11-01T07:37:34.378Z"
   },
   {
    "duration": 44,
    "start_time": "2023-11-01T07:37:34.397Z"
   },
   {
    "duration": 32,
    "start_time": "2023-11-01T07:37:34.443Z"
   },
   {
    "duration": 113,
    "start_time": "2023-11-01T07:37:34.477Z"
   },
   {
    "duration": 0,
    "start_time": "2023-11-01T07:37:34.592Z"
   },
   {
    "duration": 0,
    "start_time": "2023-11-01T07:37:34.594Z"
   },
   {
    "duration": 0,
    "start_time": "2023-11-01T07:37:34.594Z"
   },
   {
    "duration": 0,
    "start_time": "2023-11-01T07:37:34.595Z"
   },
   {
    "duration": 0,
    "start_time": "2023-11-01T07:37:34.596Z"
   },
   {
    "duration": 0,
    "start_time": "2023-11-01T07:37:34.597Z"
   },
   {
    "duration": 0,
    "start_time": "2023-11-01T07:37:34.606Z"
   },
   {
    "duration": 0,
    "start_time": "2023-11-01T07:37:34.607Z"
   },
   {
    "duration": 0,
    "start_time": "2023-11-01T07:37:34.608Z"
   },
   {
    "duration": 0,
    "start_time": "2023-11-01T07:37:34.609Z"
   },
   {
    "duration": 0,
    "start_time": "2023-11-01T07:37:34.610Z"
   },
   {
    "duration": 0,
    "start_time": "2023-11-01T07:37:34.611Z"
   },
   {
    "duration": 0,
    "start_time": "2023-11-01T07:37:34.612Z"
   },
   {
    "duration": 0,
    "start_time": "2023-11-01T07:37:34.613Z"
   },
   {
    "duration": 0,
    "start_time": "2023-11-01T07:37:34.614Z"
   },
   {
    "duration": 0,
    "start_time": "2023-11-01T07:37:34.615Z"
   },
   {
    "duration": 0,
    "start_time": "2023-11-01T07:37:34.616Z"
   },
   {
    "duration": 0,
    "start_time": "2023-11-01T07:37:34.617Z"
   },
   {
    "duration": 0,
    "start_time": "2023-11-01T07:37:34.618Z"
   },
   {
    "duration": 0,
    "start_time": "2023-11-01T07:37:34.619Z"
   },
   {
    "duration": 0,
    "start_time": "2023-11-01T07:37:34.620Z"
   },
   {
    "duration": 0,
    "start_time": "2023-11-01T07:37:34.621Z"
   },
   {
    "duration": 0,
    "start_time": "2023-11-01T07:37:34.622Z"
   },
   {
    "duration": 164,
    "start_time": "2023-11-01T07:37:49.502Z"
   },
   {
    "duration": 1112,
    "start_time": "2023-11-01T07:37:59.566Z"
   },
   {
    "duration": 39,
    "start_time": "2023-11-01T07:38:00.680Z"
   },
   {
    "duration": 64,
    "start_time": "2023-11-01T07:38:00.721Z"
   },
   {
    "duration": 47,
    "start_time": "2023-11-01T07:38:00.787Z"
   },
   {
    "duration": 33,
    "start_time": "2023-11-01T07:38:00.836Z"
   },
   {
    "duration": 111,
    "start_time": "2023-11-01T07:38:00.871Z"
   },
   {
    "duration": 258,
    "start_time": "2023-11-01T07:38:00.984Z"
   },
   {
    "duration": 58,
    "start_time": "2023-11-01T07:38:01.243Z"
   },
   {
    "duration": 52,
    "start_time": "2023-11-01T07:38:01.303Z"
   },
   {
    "duration": 67,
    "start_time": "2023-11-01T07:38:01.358Z"
   },
   {
    "duration": 143,
    "start_time": "2023-11-01T07:38:01.427Z"
   },
   {
    "duration": 95,
    "start_time": "2023-11-01T07:38:01.572Z"
   },
   {
    "duration": 133,
    "start_time": "2023-11-01T07:38:01.669Z"
   },
   {
    "duration": 44,
    "start_time": "2023-11-01T07:38:01.804Z"
   },
   {
    "duration": 88,
    "start_time": "2023-11-01T07:38:01.850Z"
   },
   {
    "duration": 108,
    "start_time": "2023-11-01T07:38:01.939Z"
   },
   {
    "duration": 260,
    "start_time": "2023-11-01T07:38:02.049Z"
   },
   {
    "duration": 253,
    "start_time": "2023-11-01T07:38:02.311Z"
   },
   {
    "duration": 82,
    "start_time": "2023-11-01T07:38:02.566Z"
   },
   {
    "duration": 178,
    "start_time": "2023-11-01T07:38:02.650Z"
   },
   {
    "duration": 226,
    "start_time": "2023-11-01T07:38:02.830Z"
   },
   {
    "duration": 237,
    "start_time": "2023-11-01T07:38:03.058Z"
   },
   {
    "duration": 187,
    "start_time": "2023-11-01T07:38:03.297Z"
   },
   {
    "duration": 21,
    "start_time": "2023-11-01T07:38:03.486Z"
   },
   {
    "duration": 36,
    "start_time": "2023-11-01T07:38:03.508Z"
   },
   {
    "duration": 102,
    "start_time": "2023-11-01T07:38:03.545Z"
   },
   {
    "duration": 41,
    "start_time": "2023-11-01T07:38:03.649Z"
   },
   {
    "duration": 36,
    "start_time": "2023-11-01T07:38:03.693Z"
   },
   {
    "duration": 209,
    "start_time": "2023-11-01T07:38:03.731Z"
   },
   {
    "duration": 262,
    "start_time": "2023-11-01T07:38:03.942Z"
   },
   {
    "duration": 28,
    "start_time": "2023-11-01T07:38:04.206Z"
   },
   {
    "duration": 89,
    "start_time": "2023-11-01T07:38:04.236Z"
   },
   {
    "duration": 42,
    "start_time": "2023-11-01T07:38:04.326Z"
   },
   {
    "duration": 6,
    "start_time": "2023-11-01T07:38:04.369Z"
   },
   {
    "duration": 28,
    "start_time": "2023-11-01T07:38:04.377Z"
   },
   {
    "duration": 102,
    "start_time": "2023-11-01T07:38:04.407Z"
   },
   {
    "duration": 80,
    "start_time": "2023-11-01T07:38:04.510Z"
   },
   {
    "duration": 28,
    "start_time": "2023-11-01T07:38:04.592Z"
   },
   {
    "duration": 19,
    "start_time": "2023-11-01T07:38:04.621Z"
   },
   {
    "duration": 934,
    "start_time": "2023-11-01T07:38:04.642Z"
   },
   {
    "duration": 211,
    "start_time": "2023-11-01T07:38:05.577Z"
   },
   {
    "duration": 49,
    "start_time": "2024-06-01T15:45:55.621Z"
   },
   {
    "duration": 1117,
    "start_time": "2024-06-01T15:46:00.813Z"
   },
   {
    "duration": 86,
    "start_time": "2024-06-01T15:46:01.932Z"
   },
   {
    "duration": 92,
    "start_time": "2024-06-01T15:46:02.023Z"
   },
   {
    "duration": 60,
    "start_time": "2024-06-01T15:46:02.117Z"
   },
   {
    "duration": 26,
    "start_time": "2024-06-01T15:46:02.179Z"
   },
   {
    "duration": 50,
    "start_time": "2024-06-01T15:46:02.206Z"
   },
   {
    "duration": 21,
    "start_time": "2024-06-01T15:46:02.258Z"
   },
   {
    "duration": 22,
    "start_time": "2024-06-01T15:46:02.281Z"
   },
   {
    "duration": 5,
    "start_time": "2024-06-01T15:46:02.306Z"
   },
   {
    "duration": 8,
    "start_time": "2024-06-01T15:46:02.313Z"
   },
   {
    "duration": 5,
    "start_time": "2024-06-01T15:46:02.323Z"
   },
   {
    "duration": 10,
    "start_time": "2024-06-01T15:46:02.330Z"
   },
   {
    "duration": 27,
    "start_time": "2024-06-01T15:46:02.342Z"
   },
   {
    "duration": 10,
    "start_time": "2024-06-01T15:46:02.371Z"
   },
   {
    "duration": 12,
    "start_time": "2024-06-01T15:46:02.382Z"
   },
   {
    "duration": 9,
    "start_time": "2024-06-01T15:46:02.396Z"
   },
   {
    "duration": 6,
    "start_time": "2024-06-01T15:46:02.407Z"
   },
   {
    "duration": 212,
    "start_time": "2024-06-01T15:46:02.415Z"
   },
   {
    "duration": 86,
    "start_time": "2024-06-01T15:46:02.628Z"
   },
   {
    "duration": 177,
    "start_time": "2024-06-01T15:46:02.716Z"
   },
   {
    "duration": 229,
    "start_time": "2024-06-01T15:46:02.895Z"
   },
   {
    "duration": 225,
    "start_time": "2024-06-01T15:46:03.126Z"
   },
   {
    "duration": 265,
    "start_time": "2024-06-01T15:46:03.353Z"
   },
   {
    "duration": 20,
    "start_time": "2024-06-01T15:46:03.619Z"
   },
   {
    "duration": 33,
    "start_time": "2024-06-01T15:46:03.641Z"
   },
   {
    "duration": 34,
    "start_time": "2024-06-01T15:46:03.676Z"
   },
   {
    "duration": 12,
    "start_time": "2024-06-01T15:46:03.714Z"
   },
   {
    "duration": 5,
    "start_time": "2024-06-01T15:46:03.728Z"
   },
   {
    "duration": 7,
    "start_time": "2024-06-01T15:46:03.735Z"
   },
   {
    "duration": 220,
    "start_time": "2024-06-01T15:46:03.746Z"
   },
   {
    "duration": 253,
    "start_time": "2024-06-01T15:46:03.968Z"
   },
   {
    "duration": 26,
    "start_time": "2024-06-01T15:46:04.223Z"
   },
   {
    "duration": 28,
    "start_time": "2024-06-01T15:46:04.251Z"
   },
   {
    "duration": 20,
    "start_time": "2024-06-01T15:46:04.281Z"
   },
   {
    "duration": 7,
    "start_time": "2024-06-01T15:46:04.303Z"
   },
   {
    "duration": 5,
    "start_time": "2024-06-01T15:46:04.312Z"
   },
   {
    "duration": 5,
    "start_time": "2024-06-01T15:46:04.318Z"
   },
   {
    "duration": 5,
    "start_time": "2024-06-01T15:46:04.324Z"
   },
   {
    "duration": 40,
    "start_time": "2024-06-01T15:46:04.330Z"
   },
   {
    "duration": 4,
    "start_time": "2024-06-01T15:46:04.372Z"
   },
   {
    "duration": 918,
    "start_time": "2024-06-01T15:46:04.378Z"
   },
   {
    "duration": 268,
    "start_time": "2024-06-01T15:46:05.298Z"
   },
   {
    "duration": 1093,
    "start_time": "2024-06-01T15:51:24.921Z"
   },
   {
    "duration": 37,
    "start_time": "2024-06-01T15:51:26.016Z"
   },
   {
    "duration": 43,
    "start_time": "2024-06-01T15:51:26.055Z"
   },
   {
    "duration": 22,
    "start_time": "2024-06-01T15:51:26.100Z"
   },
   {
    "duration": 27,
    "start_time": "2024-06-01T15:51:26.124Z"
   },
   {
    "duration": 45,
    "start_time": "2024-06-01T15:51:26.153Z"
   },
   {
    "duration": 12,
    "start_time": "2024-06-01T15:51:26.199Z"
   },
   {
    "duration": 17,
    "start_time": "2024-06-01T15:51:26.213Z"
   },
   {
    "duration": 6,
    "start_time": "2024-06-01T15:51:26.231Z"
   },
   {
    "duration": 6,
    "start_time": "2024-06-01T15:51:26.239Z"
   },
   {
    "duration": 6,
    "start_time": "2024-06-01T15:51:26.247Z"
   },
   {
    "duration": 17,
    "start_time": "2024-06-01T15:51:26.254Z"
   },
   {
    "duration": 6,
    "start_time": "2024-06-01T15:51:26.273Z"
   },
   {
    "duration": 6,
    "start_time": "2024-06-01T15:51:26.280Z"
   },
   {
    "duration": 6,
    "start_time": "2024-06-01T15:51:26.288Z"
   },
   {
    "duration": 7,
    "start_time": "2024-06-01T15:51:26.296Z"
   },
   {
    "duration": 6,
    "start_time": "2024-06-01T15:51:26.304Z"
   },
   {
    "duration": 207,
    "start_time": "2024-06-01T15:51:26.312Z"
   },
   {
    "duration": 86,
    "start_time": "2024-06-01T15:51:26.520Z"
   },
   {
    "duration": 239,
    "start_time": "2024-06-01T15:51:26.607Z"
   },
   {
    "duration": 221,
    "start_time": "2024-06-01T15:51:26.848Z"
   },
   {
    "duration": 240,
    "start_time": "2024-06-01T15:51:27.071Z"
   },
   {
    "duration": 176,
    "start_time": "2024-06-01T15:51:27.312Z"
   },
   {
    "duration": 15,
    "start_time": "2024-06-01T15:51:27.490Z"
   },
   {
    "duration": 13,
    "start_time": "2024-06-01T15:51:27.507Z"
   },
   {
    "duration": 14,
    "start_time": "2024-06-01T15:51:27.522Z"
   },
   {
    "duration": 36,
    "start_time": "2024-06-01T15:51:27.537Z"
   },
   {
    "duration": 4,
    "start_time": "2024-06-01T15:51:27.576Z"
   },
   {
    "duration": 6,
    "start_time": "2024-06-01T15:51:27.582Z"
   },
   {
    "duration": 196,
    "start_time": "2024-06-01T15:51:27.589Z"
   },
   {
    "duration": 273,
    "start_time": "2024-06-01T15:51:27.787Z"
   },
   {
    "duration": 28,
    "start_time": "2024-06-01T15:51:28.062Z"
   },
   {
    "duration": 16,
    "start_time": "2024-06-01T15:51:28.092Z"
   },
   {
    "duration": 33,
    "start_time": "2024-06-01T15:51:28.110Z"
   },
   {
    "duration": 6,
    "start_time": "2024-06-01T15:51:28.144Z"
   },
   {
    "duration": 5,
    "start_time": "2024-06-01T15:51:28.166Z"
   },
   {
    "duration": 5,
    "start_time": "2024-06-01T15:51:28.172Z"
   },
   {
    "duration": 20,
    "start_time": "2024-06-01T15:51:28.178Z"
   },
   {
    "duration": 15,
    "start_time": "2024-06-01T15:51:28.200Z"
   },
   {
    "duration": 5,
    "start_time": "2024-06-01T15:51:28.216Z"
   },
   {
    "duration": 954,
    "start_time": "2024-06-01T15:51:28.222Z"
   },
   {
    "duration": 216,
    "start_time": "2024-06-01T15:51:29.178Z"
   }
  ],
  "kernelspec": {
   "display_name": "Python 3 (ipykernel)",
   "language": "python",
   "name": "python3"
  },
  "language_info": {
   "codemirror_mode": {
    "name": "ipython",
    "version": 3
   },
   "file_extension": ".py",
   "mimetype": "text/x-python",
   "name": "python",
   "nbconvert_exporter": "python",
   "pygments_lexer": "ipython3",
   "version": "3.11.4"
  },
  "toc": {
   "base_numbering": 1,
   "nav_menu": {},
   "number_sections": true,
   "sideBar": true,
   "skip_h1_title": true,
   "title_cell": "Table of Contents",
   "title_sidebar": "Contents",
   "toc_cell": false,
   "toc_position": {
    "height": "calc(100% - 180px)",
    "left": "10px",
    "top": "150px",
    "width": "371px"
   },
   "toc_section_display": true,
   "toc_window_display": true
  }
 },
 "nbformat": 4,
 "nbformat_minor": 5
}
