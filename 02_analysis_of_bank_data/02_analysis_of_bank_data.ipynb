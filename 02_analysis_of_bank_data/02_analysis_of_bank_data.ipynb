{
 "cells": [
  {
   "cell_type": "markdown",
   "id": "386f2ae7",
   "metadata": {
    "deletable": false,
    "editable": false,
    "id": "386f2ae7"
   },
   "source": [
    "# Исследование надежности заемщиков\n"
   ]
  },
  {
   "cell_type": "markdown",
   "id": "ffe86f65",
   "metadata": {
    "deletable": false,
    "editable": false,
    "id": "ffe86f65"
   },
   "source": [
    "Во второй части проекта вы выполните шаги 3 и 4. Их вручную проверит ревьюер.\n",
    "Чтобы вам не пришлось писать код заново для шагов 1 и 2, мы добавили авторские решения в ячейки с кодом. \n",
    "\n"
   ]
  },
  {
   "cell_type": "markdown",
   "id": "26613308",
   "metadata": {
    "deletable": false,
    "editable": false,
    "id": "26613308"
   },
   "source": [
    "## Откройте таблицу и изучите общую информацию о данных"
   ]
  },
  {
   "cell_type": "markdown",
   "id": "3c9f838e",
   "metadata": {
    "deletable": false,
    "editable": false,
    "id": "3c9f838e"
   },
   "source": [
    "**Задание 1. Импортируйте библиотеку pandas. Считайте данные из csv-файла в датафрейм и сохраните в переменную `data`. Путь к файлу:**\n",
    "\n",
    "`/datasets/data.csv`"
   ]
  },
  {
   "cell_type": "code",
   "execution_count": 1,
   "id": "77a68a90",
   "metadata": {
    "deletable": false,
    "id": "77a68a90"
   },
   "outputs": [],
   "source": [
    "import pandas as pd\n",
    "\n",
    "try:\n",
    "    data = pd.read_csv('/datasets/data.csv')\n",
    "except:\n",
    "    data = pd.read_csv('https://code.s3.yandex.net/datasets/data.csv')"
   ]
  },
  {
   "cell_type": "markdown",
   "id": "45365635",
   "metadata": {
    "deletable": false,
    "editable": false,
    "id": "45365635"
   },
   "source": [
    "**Задание 2. Выведите первые 20 строчек датафрейма `data` на экран.**"
   ]
  },
  {
   "cell_type": "code",
   "execution_count": 30,
   "id": "b0451a9a",
   "metadata": {
    "deletable": false,
    "id": "b0451a9a",
    "outputId": "1a8f3ef2-d323-4ec2-ddf7-89670b5944c4"
   },
   "outputs": [
    {
     "data": {
      "text/html": [
       "<div>\n",
       "<style scoped>\n",
       "    .dataframe tbody tr th:only-of-type {\n",
       "        vertical-align: middle;\n",
       "    }\n",
       "\n",
       "    .dataframe tbody tr th {\n",
       "        vertical-align: top;\n",
       "    }\n",
       "\n",
       "    .dataframe thead th {\n",
       "        text-align: right;\n",
       "    }\n",
       "</style>\n",
       "<table border=\"1\" class=\"dataframe\">\n",
       "  <thead>\n",
       "    <tr style=\"text-align: right;\">\n",
       "      <th></th>\n",
       "      <th>children</th>\n",
       "      <th>days_employed</th>\n",
       "      <th>dob_years</th>\n",
       "      <th>education</th>\n",
       "      <th>education_id</th>\n",
       "      <th>family_status</th>\n",
       "      <th>family_status_id</th>\n",
       "      <th>gender</th>\n",
       "      <th>income_type</th>\n",
       "      <th>debt</th>\n",
       "      <th>total_income</th>\n",
       "      <th>purpose</th>\n",
       "      <th>total_income_category</th>\n",
       "      <th>purpose_category</th>\n",
       "    </tr>\n",
       "  </thead>\n",
       "  <tbody>\n",
       "    <tr>\n",
       "      <th>0</th>\n",
       "      <td>1</td>\n",
       "      <td>8437.673028</td>\n",
       "      <td>42</td>\n",
       "      <td>высшее</td>\n",
       "      <td>0</td>\n",
       "      <td>женат / замужем</td>\n",
       "      <td>0</td>\n",
       "      <td>F</td>\n",
       "      <td>сотрудник</td>\n",
       "      <td>0</td>\n",
       "      <td>253875</td>\n",
       "      <td>покупка жилья</td>\n",
       "      <td>B</td>\n",
       "      <td>операции с недвижимостью</td>\n",
       "    </tr>\n",
       "    <tr>\n",
       "      <th>1</th>\n",
       "      <td>1</td>\n",
       "      <td>4024.803754</td>\n",
       "      <td>36</td>\n",
       "      <td>среднее</td>\n",
       "      <td>1</td>\n",
       "      <td>женат / замужем</td>\n",
       "      <td>0</td>\n",
       "      <td>F</td>\n",
       "      <td>сотрудник</td>\n",
       "      <td>0</td>\n",
       "      <td>112080</td>\n",
       "      <td>приобретение автомобиля</td>\n",
       "      <td>C</td>\n",
       "      <td>операции с автомобилем</td>\n",
       "    </tr>\n",
       "    <tr>\n",
       "      <th>2</th>\n",
       "      <td>0</td>\n",
       "      <td>5623.422610</td>\n",
       "      <td>33</td>\n",
       "      <td>среднее</td>\n",
       "      <td>1</td>\n",
       "      <td>женат / замужем</td>\n",
       "      <td>0</td>\n",
       "      <td>M</td>\n",
       "      <td>сотрудник</td>\n",
       "      <td>0</td>\n",
       "      <td>145885</td>\n",
       "      <td>покупка жилья</td>\n",
       "      <td>C</td>\n",
       "      <td>операции с недвижимостью</td>\n",
       "    </tr>\n",
       "    <tr>\n",
       "      <th>3</th>\n",
       "      <td>3</td>\n",
       "      <td>4124.747207</td>\n",
       "      <td>32</td>\n",
       "      <td>среднее</td>\n",
       "      <td>1</td>\n",
       "      <td>женат / замужем</td>\n",
       "      <td>0</td>\n",
       "      <td>M</td>\n",
       "      <td>сотрудник</td>\n",
       "      <td>0</td>\n",
       "      <td>267628</td>\n",
       "      <td>дополнительное образование</td>\n",
       "      <td>B</td>\n",
       "      <td>получение образования</td>\n",
       "    </tr>\n",
       "    <tr>\n",
       "      <th>4</th>\n",
       "      <td>0</td>\n",
       "      <td>340266.072047</td>\n",
       "      <td>53</td>\n",
       "      <td>среднее</td>\n",
       "      <td>1</td>\n",
       "      <td>гражданский брак</td>\n",
       "      <td>1</td>\n",
       "      <td>F</td>\n",
       "      <td>пенсионер</td>\n",
       "      <td>0</td>\n",
       "      <td>158616</td>\n",
       "      <td>сыграть свадьбу</td>\n",
       "      <td>C</td>\n",
       "      <td>проведение свадьбы</td>\n",
       "    </tr>\n",
       "    <tr>\n",
       "      <th>5</th>\n",
       "      <td>0</td>\n",
       "      <td>926.185831</td>\n",
       "      <td>27</td>\n",
       "      <td>высшее</td>\n",
       "      <td>0</td>\n",
       "      <td>гражданский брак</td>\n",
       "      <td>1</td>\n",
       "      <td>M</td>\n",
       "      <td>компаньон</td>\n",
       "      <td>0</td>\n",
       "      <td>255763</td>\n",
       "      <td>покупка жилья</td>\n",
       "      <td>B</td>\n",
       "      <td>операции с недвижимостью</td>\n",
       "    </tr>\n",
       "    <tr>\n",
       "      <th>6</th>\n",
       "      <td>0</td>\n",
       "      <td>2879.202052</td>\n",
       "      <td>43</td>\n",
       "      <td>высшее</td>\n",
       "      <td>0</td>\n",
       "      <td>женат / замужем</td>\n",
       "      <td>0</td>\n",
       "      <td>F</td>\n",
       "      <td>компаньон</td>\n",
       "      <td>0</td>\n",
       "      <td>240525</td>\n",
       "      <td>операции с жильем</td>\n",
       "      <td>B</td>\n",
       "      <td>операции с недвижимостью</td>\n",
       "    </tr>\n",
       "    <tr>\n",
       "      <th>7</th>\n",
       "      <td>0</td>\n",
       "      <td>152.779569</td>\n",
       "      <td>50</td>\n",
       "      <td>среднее</td>\n",
       "      <td>1</td>\n",
       "      <td>женат / замужем</td>\n",
       "      <td>0</td>\n",
       "      <td>M</td>\n",
       "      <td>сотрудник</td>\n",
       "      <td>0</td>\n",
       "      <td>135823</td>\n",
       "      <td>образование</td>\n",
       "      <td>C</td>\n",
       "      <td>получение образования</td>\n",
       "    </tr>\n",
       "    <tr>\n",
       "      <th>8</th>\n",
       "      <td>2</td>\n",
       "      <td>6929.865299</td>\n",
       "      <td>35</td>\n",
       "      <td>высшее</td>\n",
       "      <td>0</td>\n",
       "      <td>гражданский брак</td>\n",
       "      <td>1</td>\n",
       "      <td>F</td>\n",
       "      <td>сотрудник</td>\n",
       "      <td>0</td>\n",
       "      <td>95856</td>\n",
       "      <td>на проведение свадьбы</td>\n",
       "      <td>C</td>\n",
       "      <td>проведение свадьбы</td>\n",
       "    </tr>\n",
       "    <tr>\n",
       "      <th>9</th>\n",
       "      <td>0</td>\n",
       "      <td>2188.756445</td>\n",
       "      <td>41</td>\n",
       "      <td>среднее</td>\n",
       "      <td>1</td>\n",
       "      <td>женат / замужем</td>\n",
       "      <td>0</td>\n",
       "      <td>M</td>\n",
       "      <td>сотрудник</td>\n",
       "      <td>0</td>\n",
       "      <td>144425</td>\n",
       "      <td>покупка жилья для семьи</td>\n",
       "      <td>C</td>\n",
       "      <td>операции с недвижимостью</td>\n",
       "    </tr>\n",
       "    <tr>\n",
       "      <th>10</th>\n",
       "      <td>2</td>\n",
       "      <td>4171.483647</td>\n",
       "      <td>36</td>\n",
       "      <td>высшее</td>\n",
       "      <td>0</td>\n",
       "      <td>женат / замужем</td>\n",
       "      <td>0</td>\n",
       "      <td>M</td>\n",
       "      <td>компаньон</td>\n",
       "      <td>0</td>\n",
       "      <td>113943</td>\n",
       "      <td>покупка недвижимости</td>\n",
       "      <td>C</td>\n",
       "      <td>операции с недвижимостью</td>\n",
       "    </tr>\n",
       "    <tr>\n",
       "      <th>11</th>\n",
       "      <td>0</td>\n",
       "      <td>792.701887</td>\n",
       "      <td>40</td>\n",
       "      <td>среднее</td>\n",
       "      <td>1</td>\n",
       "      <td>женат / замужем</td>\n",
       "      <td>0</td>\n",
       "      <td>F</td>\n",
       "      <td>сотрудник</td>\n",
       "      <td>0</td>\n",
       "      <td>77069</td>\n",
       "      <td>покупка коммерческой недвижимости</td>\n",
       "      <td>C</td>\n",
       "      <td>операции с недвижимостью</td>\n",
       "    </tr>\n",
       "    <tr>\n",
       "      <th>12</th>\n",
       "      <td>0</td>\n",
       "      <td>365286.622650</td>\n",
       "      <td>65</td>\n",
       "      <td>среднее</td>\n",
       "      <td>1</td>\n",
       "      <td>гражданский брак</td>\n",
       "      <td>1</td>\n",
       "      <td>M</td>\n",
       "      <td>пенсионер</td>\n",
       "      <td>0</td>\n",
       "      <td>118514</td>\n",
       "      <td>сыграть свадьбу</td>\n",
       "      <td>C</td>\n",
       "      <td>проведение свадьбы</td>\n",
       "    </tr>\n",
       "    <tr>\n",
       "      <th>13</th>\n",
       "      <td>0</td>\n",
       "      <td>1846.641941</td>\n",
       "      <td>54</td>\n",
       "      <td>неоконченное высшее</td>\n",
       "      <td>2</td>\n",
       "      <td>женат / замужем</td>\n",
       "      <td>0</td>\n",
       "      <td>F</td>\n",
       "      <td>сотрудник</td>\n",
       "      <td>0</td>\n",
       "      <td>130458</td>\n",
       "      <td>приобретение автомобиля</td>\n",
       "      <td>C</td>\n",
       "      <td>операции с автомобилем</td>\n",
       "    </tr>\n",
       "    <tr>\n",
       "      <th>14</th>\n",
       "      <td>0</td>\n",
       "      <td>1844.956182</td>\n",
       "      <td>56</td>\n",
       "      <td>высшее</td>\n",
       "      <td>0</td>\n",
       "      <td>гражданский брак</td>\n",
       "      <td>1</td>\n",
       "      <td>F</td>\n",
       "      <td>компаньон</td>\n",
       "      <td>1</td>\n",
       "      <td>165127</td>\n",
       "      <td>покупка жилой недвижимости</td>\n",
       "      <td>C</td>\n",
       "      <td>операции с недвижимостью</td>\n",
       "    </tr>\n",
       "    <tr>\n",
       "      <th>15</th>\n",
       "      <td>1</td>\n",
       "      <td>972.364419</td>\n",
       "      <td>26</td>\n",
       "      <td>среднее</td>\n",
       "      <td>1</td>\n",
       "      <td>женат / замужем</td>\n",
       "      <td>0</td>\n",
       "      <td>F</td>\n",
       "      <td>сотрудник</td>\n",
       "      <td>0</td>\n",
       "      <td>116820</td>\n",
       "      <td>строительство собственной недвижимости</td>\n",
       "      <td>C</td>\n",
       "      <td>операции с недвижимостью</td>\n",
       "    </tr>\n",
       "    <tr>\n",
       "      <th>16</th>\n",
       "      <td>0</td>\n",
       "      <td>1719.934226</td>\n",
       "      <td>35</td>\n",
       "      <td>среднее</td>\n",
       "      <td>1</td>\n",
       "      <td>женат / замужем</td>\n",
       "      <td>0</td>\n",
       "      <td>F</td>\n",
       "      <td>сотрудник</td>\n",
       "      <td>0</td>\n",
       "      <td>289202</td>\n",
       "      <td>недвижимость</td>\n",
       "      <td>B</td>\n",
       "      <td>операции с недвижимостью</td>\n",
       "    </tr>\n",
       "    <tr>\n",
       "      <th>17</th>\n",
       "      <td>0</td>\n",
       "      <td>2369.999720</td>\n",
       "      <td>33</td>\n",
       "      <td>высшее</td>\n",
       "      <td>0</td>\n",
       "      <td>гражданский брак</td>\n",
       "      <td>1</td>\n",
       "      <td>M</td>\n",
       "      <td>сотрудник</td>\n",
       "      <td>0</td>\n",
       "      <td>90410</td>\n",
       "      <td>строительство недвижимости</td>\n",
       "      <td>C</td>\n",
       "      <td>операции с недвижимостью</td>\n",
       "    </tr>\n",
       "    <tr>\n",
       "      <th>18</th>\n",
       "      <td>0</td>\n",
       "      <td>400281.136913</td>\n",
       "      <td>53</td>\n",
       "      <td>среднее</td>\n",
       "      <td>1</td>\n",
       "      <td>вдовец / вдова</td>\n",
       "      <td>2</td>\n",
       "      <td>F</td>\n",
       "      <td>пенсионер</td>\n",
       "      <td>0</td>\n",
       "      <td>56823</td>\n",
       "      <td>на покупку подержанного автомобиля</td>\n",
       "      <td>C</td>\n",
       "      <td>операции с автомобилем</td>\n",
       "    </tr>\n",
       "    <tr>\n",
       "      <th>19</th>\n",
       "      <td>0</td>\n",
       "      <td>10038.818549</td>\n",
       "      <td>48</td>\n",
       "      <td>среднее</td>\n",
       "      <td>1</td>\n",
       "      <td>в разводе</td>\n",
       "      <td>3</td>\n",
       "      <td>F</td>\n",
       "      <td>сотрудник</td>\n",
       "      <td>0</td>\n",
       "      <td>242831</td>\n",
       "      <td>на покупку своего автомобиля</td>\n",
       "      <td>B</td>\n",
       "      <td>операции с автомобилем</td>\n",
       "    </tr>\n",
       "  </tbody>\n",
       "</table>\n",
       "</div>"
      ],
      "text/plain": [
       "    children  days_employed  dob_years            education  education_id  \\\n",
       "0          1    8437.673028         42               высшее             0   \n",
       "1          1    4024.803754         36              среднее             1   \n",
       "2          0    5623.422610         33              среднее             1   \n",
       "3          3    4124.747207         32              среднее             1   \n",
       "4          0  340266.072047         53              среднее             1   \n",
       "5          0     926.185831         27               высшее             0   \n",
       "6          0    2879.202052         43               высшее             0   \n",
       "7          0     152.779569         50              среднее             1   \n",
       "8          2    6929.865299         35               высшее             0   \n",
       "9          0    2188.756445         41              среднее             1   \n",
       "10         2    4171.483647         36               высшее             0   \n",
       "11         0     792.701887         40              среднее             1   \n",
       "12         0  365286.622650         65              среднее             1   \n",
       "13         0    1846.641941         54  неоконченное высшее             2   \n",
       "14         0    1844.956182         56               высшее             0   \n",
       "15         1     972.364419         26              среднее             1   \n",
       "16         0    1719.934226         35              среднее             1   \n",
       "17         0    2369.999720         33               высшее             0   \n",
       "18         0  400281.136913         53              среднее             1   \n",
       "19         0   10038.818549         48              среднее             1   \n",
       "\n",
       "       family_status  family_status_id gender income_type  debt  total_income  \\\n",
       "0    женат / замужем                 0      F   сотрудник     0        253875   \n",
       "1    женат / замужем                 0      F   сотрудник     0        112080   \n",
       "2    женат / замужем                 0      M   сотрудник     0        145885   \n",
       "3    женат / замужем                 0      M   сотрудник     0        267628   \n",
       "4   гражданский брак                 1      F   пенсионер     0        158616   \n",
       "5   гражданский брак                 1      M   компаньон     0        255763   \n",
       "6    женат / замужем                 0      F   компаньон     0        240525   \n",
       "7    женат / замужем                 0      M   сотрудник     0        135823   \n",
       "8   гражданский брак                 1      F   сотрудник     0         95856   \n",
       "9    женат / замужем                 0      M   сотрудник     0        144425   \n",
       "10   женат / замужем                 0      M   компаньон     0        113943   \n",
       "11   женат / замужем                 0      F   сотрудник     0         77069   \n",
       "12  гражданский брак                 1      M   пенсионер     0        118514   \n",
       "13   женат / замужем                 0      F   сотрудник     0        130458   \n",
       "14  гражданский брак                 1      F   компаньон     1        165127   \n",
       "15   женат / замужем                 0      F   сотрудник     0        116820   \n",
       "16   женат / замужем                 0      F   сотрудник     0        289202   \n",
       "17  гражданский брак                 1      M   сотрудник     0         90410   \n",
       "18    вдовец / вдова                 2      F   пенсионер     0         56823   \n",
       "19         в разводе                 3      F   сотрудник     0        242831   \n",
       "\n",
       "                                   purpose total_income_category  \\\n",
       "0                            покупка жилья                     B   \n",
       "1                  приобретение автомобиля                     C   \n",
       "2                            покупка жилья                     C   \n",
       "3               дополнительное образование                     B   \n",
       "4                          сыграть свадьбу                     C   \n",
       "5                            покупка жилья                     B   \n",
       "6                        операции с жильем                     B   \n",
       "7                              образование                     C   \n",
       "8                    на проведение свадьбы                     C   \n",
       "9                  покупка жилья для семьи                     C   \n",
       "10                    покупка недвижимости                     C   \n",
       "11       покупка коммерческой недвижимости                     C   \n",
       "12                         сыграть свадьбу                     C   \n",
       "13                 приобретение автомобиля                     C   \n",
       "14              покупка жилой недвижимости                     C   \n",
       "15  строительство собственной недвижимости                     C   \n",
       "16                            недвижимость                     B   \n",
       "17              строительство недвижимости                     C   \n",
       "18      на покупку подержанного автомобиля                     C   \n",
       "19            на покупку своего автомобиля                     B   \n",
       "\n",
       "            purpose_category  \n",
       "0   операции с недвижимостью  \n",
       "1     операции с автомобилем  \n",
       "2   операции с недвижимостью  \n",
       "3      получение образования  \n",
       "4         проведение свадьбы  \n",
       "5   операции с недвижимостью  \n",
       "6   операции с недвижимостью  \n",
       "7      получение образования  \n",
       "8         проведение свадьбы  \n",
       "9   операции с недвижимостью  \n",
       "10  операции с недвижимостью  \n",
       "11  операции с недвижимостью  \n",
       "12        проведение свадьбы  \n",
       "13    операции с автомобилем  \n",
       "14  операции с недвижимостью  \n",
       "15  операции с недвижимостью  \n",
       "16  операции с недвижимостью  \n",
       "17  операции с недвижимостью  \n",
       "18    операции с автомобилем  \n",
       "19    операции с автомобилем  "
      ]
     },
     "execution_count": 30,
     "metadata": {},
     "output_type": "execute_result"
    }
   ],
   "source": [
    "data.head(20)"
   ]
  },
  {
   "cell_type": "markdown",
   "id": "0ed8f27f",
   "metadata": {
    "deletable": false,
    "editable": false,
    "id": "0ed8f27f"
   },
   "source": [
    "**Задание 3. Выведите основную информацию о датафрейме с помощью метода `info()`.**"
   ]
  },
  {
   "cell_type": "code",
   "execution_count": 3,
   "id": "ab3f863b",
   "metadata": {
    "deletable": false,
    "id": "ab3f863b",
    "outputId": "15376089-8dad-46c9-b520-c05248d43158"
   },
   "outputs": [
    {
     "name": "stdout",
     "output_type": "stream",
     "text": [
      "<class 'pandas.core.frame.DataFrame'>\n",
      "RangeIndex: 21525 entries, 0 to 21524\n",
      "Data columns (total 12 columns):\n",
      " #   Column            Non-Null Count  Dtype  \n",
      "---  ------            --------------  -----  \n",
      " 0   children          21525 non-null  int64  \n",
      " 1   days_employed     19351 non-null  float64\n",
      " 2   dob_years         21525 non-null  int64  \n",
      " 3   education         21525 non-null  object \n",
      " 4   education_id      21525 non-null  int64  \n",
      " 5   family_status     21525 non-null  object \n",
      " 6   family_status_id  21525 non-null  int64  \n",
      " 7   gender            21525 non-null  object \n",
      " 8   income_type       21525 non-null  object \n",
      " 9   debt              21525 non-null  int64  \n",
      " 10  total_income      19351 non-null  float64\n",
      " 11  purpose           21525 non-null  object \n",
      "dtypes: float64(2), int64(5), object(5)\n",
      "memory usage: 2.0+ MB\n"
     ]
    }
   ],
   "source": [
    "data.info()"
   ]
  },
  {
   "cell_type": "markdown",
   "id": "60e3e22d",
   "metadata": {
    "deletable": false,
    "editable": false,
    "id": "60e3e22d"
   },
   "source": [
    "## Предобработка данных"
   ]
  },
  {
   "cell_type": "markdown",
   "id": "03dc170c",
   "metadata": {
    "deletable": false,
    "editable": false,
    "id": "03dc170c"
   },
   "source": [
    "### Удаление пропусков"
   ]
  },
  {
   "cell_type": "markdown",
   "id": "a4f54eef",
   "metadata": {
    "deletable": false,
    "editable": false,
    "id": "a4f54eef"
   },
   "source": [
    "**Задание 4. Выведите количество пропущенных значений для каждого столбца. Используйте комбинацию двух методов.**"
   ]
  },
  {
   "cell_type": "code",
   "execution_count": 4,
   "id": "2dc372b2",
   "metadata": {
    "deletable": false,
    "id": "2dc372b2",
    "outputId": "81f4d817-781c-465c-ed15-91ce4446810d"
   },
   "outputs": [
    {
     "data": {
      "text/plain": [
       "children               0\n",
       "days_employed       2174\n",
       "dob_years              0\n",
       "education              0\n",
       "education_id           0\n",
       "family_status          0\n",
       "family_status_id       0\n",
       "gender                 0\n",
       "income_type            0\n",
       "debt                   0\n",
       "total_income        2174\n",
       "purpose                0\n",
       "dtype: int64"
      ]
     },
     "execution_count": 4,
     "metadata": {},
     "output_type": "execute_result"
    }
   ],
   "source": [
    "data.isna().sum()"
   ]
  },
  {
   "cell_type": "markdown",
   "id": "14f011b1",
   "metadata": {
    "deletable": false,
    "editable": false,
    "id": "14f011b1"
   },
   "source": [
    "**Задание 5. В двух столбцах есть пропущенные значения. Один из них — `days_employed`. Пропуски в этом столбце вы обработаете на следующем этапе. Другой столбец с пропущенными значениями — `total_income` — хранит данные о доходах. На сумму дохода сильнее всего влияет тип занятости, поэтому заполнить пропуски в этом столбце нужно медианным значением по каждому типу из столбца `income_type`. Например, у человека с типом занятости `сотрудник` пропуск в столбце `total_income` должен быть заполнен медианным доходом среди всех записей с тем же типом.**"
   ]
  },
  {
   "cell_type": "code",
   "execution_count": 5,
   "id": "bdabfb6e",
   "metadata": {
    "deletable": false,
    "id": "bdabfb6e"
   },
   "outputs": [],
   "source": [
    "for t in data['income_type'].unique():\n",
    "    data.loc[(data['income_type'] == t) & (data['total_income'].isna()), 'total_income'] = \\\n",
    "    data.loc[(data['income_type'] == t), 'total_income'].median()"
   ]
  },
  {
   "cell_type": "markdown",
   "id": "5be34059",
   "metadata": {
    "deletable": false,
    "editable": false,
    "id": "5be34059"
   },
   "source": [
    "### Обработка аномальных значений"
   ]
  },
  {
   "cell_type": "markdown",
   "id": "a87606cb",
   "metadata": {
    "deletable": false,
    "editable": false,
    "id": "a87606cb"
   },
   "source": [
    "**Задание 6. В данных могут встречаться артефакты (аномалии) — значения, которые не отражают действительность и появились по какой-то ошибке. таким артефактом будет отрицательное количество дней трудового стажа в столбце `days_employed`. Для реальных данных это нормально. Обработайте значения в этом столбце: замените все отрицательные значения положительными с помощью метода `abs()`.**"
   ]
  },
  {
   "cell_type": "code",
   "execution_count": 6,
   "id": "020c46cc",
   "metadata": {
    "deletable": false,
    "id": "020c46cc"
   },
   "outputs": [],
   "source": [
    "data['days_employed'] = data['days_employed'].abs()"
   ]
  },
  {
   "cell_type": "markdown",
   "id": "45538a3a",
   "metadata": {
    "deletable": false,
    "editable": false,
    "id": "45538a3a"
   },
   "source": [
    "**Задание 7. Для каждого типа занятости выведите медианное значение трудового стажа `days_employed` в днях.**"
   ]
  },
  {
   "cell_type": "code",
   "execution_count": 27,
   "id": "cd3e6328",
   "metadata": {
    "deletable": false,
    "id": "cd3e6328",
    "outputId": "801ef80e-522b-4668-f34e-565af7432bcf"
   },
   "outputs": [
    {
     "data": {
      "text/plain": [
       "income_type\n",
       "безработный        366413.652744\n",
       "в декрете            3296.759962\n",
       "госслужащий          2689.137274\n",
       "компаньон            1555.947387\n",
       "пенсионер          365286.622650\n",
       "предприниматель       520.848083\n",
       "сотрудник            1572.328285\n",
       "студент               578.751554\n",
       "Name: days_employed, dtype: float64"
      ]
     },
     "execution_count": 27,
     "metadata": {},
     "output_type": "execute_result"
    }
   ],
   "source": [
    "data.groupby('income_type')['days_employed'].agg('median')"
   ]
  },
  {
   "cell_type": "markdown",
   "id": "90c5f058",
   "metadata": {
    "deletable": false,
    "editable": false,
    "id": "90c5f058"
   },
   "source": [
    "У двух типов (безработные и пенсионеры) получатся аномально большие значения. Исправить такие значения сложно, поэтому оставьте их как есть."
   ]
  },
  {
   "cell_type": "markdown",
   "id": "9652e50d",
   "metadata": {
    "deletable": false,
    "editable": false,
    "id": "9652e50d"
   },
   "source": [
    "**Задание 8. Выведите перечень уникальных значений столбца `children`.**"
   ]
  },
  {
   "cell_type": "code",
   "execution_count": 8,
   "id": "dbb37b8e",
   "metadata": {
    "deletable": false,
    "id": "dbb37b8e",
    "outputId": "6975b15c-7f95-4697-d16d-a0c79b657b03"
   },
   "outputs": [
    {
     "data": {
      "text/plain": [
       "array([ 1,  0,  3,  2, -1,  4, 20,  5], dtype=int64)"
      ]
     },
     "execution_count": 8,
     "metadata": {},
     "output_type": "execute_result"
    }
   ],
   "source": [
    "data['children'].unique()"
   ]
  },
  {
   "cell_type": "markdown",
   "id": "2b8b0715",
   "metadata": {
    "deletable": false,
    "editable": false,
    "id": "2b8b0715"
   },
   "source": [
    "**Задание 9. В столбце `children` есть два аномальных значения. Удалите строки, в которых встречаются такие аномальные значения из датафрейма `data`.**"
   ]
  },
  {
   "cell_type": "code",
   "execution_count": 9,
   "id": "20009df8",
   "metadata": {
    "deletable": false,
    "id": "20009df8"
   },
   "outputs": [],
   "source": [
    "data = data[(data['children'] != -1) & (data['children'] != 20)]"
   ]
  },
  {
   "cell_type": "markdown",
   "id": "8c6ac9f1",
   "metadata": {
    "deletable": false,
    "editable": false,
    "id": "8c6ac9f1"
   },
   "source": [
    "**Задание 10. Ещё раз выведите перечень уникальных значений столбца `children`, чтобы убедиться, что артефакты удалены.**"
   ]
  },
  {
   "cell_type": "code",
   "execution_count": 10,
   "id": "07337b81",
   "metadata": {
    "deletable": false,
    "id": "07337b81",
    "outputId": "b2097101-d49d-44d9-901b-32a65c9463d1"
   },
   "outputs": [
    {
     "data": {
      "text/plain": [
       "array([1, 0, 3, 2, 4, 5], dtype=int64)"
      ]
     },
     "execution_count": 10,
     "metadata": {},
     "output_type": "execute_result"
    }
   ],
   "source": [
    "data['children'].unique()"
   ]
  },
  {
   "cell_type": "markdown",
   "id": "ee3f52d4",
   "metadata": {
    "deletable": false,
    "editable": false,
    "id": "ee3f52d4"
   },
   "source": [
    "### Удаление пропусков (продолжение)"
   ]
  },
  {
   "cell_type": "markdown",
   "id": "a700b0e4",
   "metadata": {
    "deletable": false,
    "editable": false,
    "id": "a700b0e4"
   },
   "source": [
    "**Задание 11. Заполните пропуски в столбце `days_employed` медианными значениями по каждого типа занятости `income_type`.**"
   ]
  },
  {
   "cell_type": "code",
   "execution_count": 11,
   "id": "61946b83",
   "metadata": {
    "deletable": false,
    "id": "61946b83"
   },
   "outputs": [],
   "source": [
    "for t in data['income_type'].unique():\n",
    "    data.loc[(data['income_type'] == t) & (data['days_employed'].isna()), 'days_employed'] = \\\n",
    "    data.loc[(data['income_type'] == t), 'days_employed'].median()"
   ]
  },
  {
   "cell_type": "markdown",
   "id": "550dcd9b",
   "metadata": {
    "deletable": false,
    "editable": false,
    "id": "550dcd9b"
   },
   "source": [
    "**Задание 12. Убедитесь, что все пропуски заполнены. Проверьте себя и ещё раз выведите количество пропущенных значений для каждого столбца с помощью двух методов.**"
   ]
  },
  {
   "cell_type": "code",
   "execution_count": 12,
   "id": "937c7014",
   "metadata": {
    "deletable": false,
    "id": "937c7014",
    "outputId": "8da1e4e1-358e-4e87-98c9-f261bce0a7b2"
   },
   "outputs": [
    {
     "data": {
      "text/plain": [
       "children            0\n",
       "days_employed       0\n",
       "dob_years           0\n",
       "education           0\n",
       "education_id        0\n",
       "family_status       0\n",
       "family_status_id    0\n",
       "gender              0\n",
       "income_type         0\n",
       "debt                0\n",
       "total_income        0\n",
       "purpose             0\n",
       "dtype: int64"
      ]
     },
     "execution_count": 12,
     "metadata": {},
     "output_type": "execute_result"
    }
   ],
   "source": [
    "data.isna().sum()"
   ]
  },
  {
   "cell_type": "markdown",
   "id": "d522e295",
   "metadata": {
    "deletable": false,
    "editable": false,
    "id": "d522e295"
   },
   "source": [
    "### Изменение типов данных"
   ]
  },
  {
   "cell_type": "markdown",
   "id": "c229c581",
   "metadata": {
    "deletable": false,
    "editable": false,
    "id": "c229c581"
   },
   "source": [
    "**Задание 13. Замените вещественный тип данных в столбце `total_income` на целочисленный с помощью метода `astype()`.**"
   ]
  },
  {
   "cell_type": "code",
   "execution_count": 13,
   "id": "31036462",
   "metadata": {
    "deletable": false,
    "id": "31036462"
   },
   "outputs": [],
   "source": [
    "data['total_income'] = data['total_income'].astype(int)"
   ]
  },
  {
   "cell_type": "markdown",
   "id": "b8e3d1d9",
   "metadata": {
    "deletable": false,
    "editable": false,
    "id": "b8e3d1d9"
   },
   "source": [
    "### Обработка дубликатов"
   ]
  },
  {
   "cell_type": "markdown",
   "id": "9be53c49",
   "metadata": {
    "deletable": false,
    "editable": false,
    "id": "9be53c49"
   },
   "source": [
    "**Задание 14. Обработайте неявные дубликаты в столбце `education`. В этом столбце есть одни и те же значения, но записанные по-разному: с использованием заглавных и строчных букв. Приведите их к нижнему регистру.**"
   ]
  },
  {
   "cell_type": "code",
   "execution_count": 14,
   "id": "d89e73e1",
   "metadata": {
    "deletable": false,
    "id": "d89e73e1"
   },
   "outputs": [],
   "source": [
    "data['education'] = data['education'].str.lower()"
   ]
  },
  {
   "cell_type": "markdown",
   "id": "01d4500e",
   "metadata": {
    "deletable": false,
    "editable": false,
    "id": "01d4500e"
   },
   "source": [
    "**Задание 15. Выведите на экран количество строк-дубликатов в данных. Если такие строки присутствуют, удалите их.**"
   ]
  },
  {
   "cell_type": "code",
   "execution_count": 15,
   "id": "e10efb23",
   "metadata": {
    "deletable": false,
    "id": "e10efb23",
    "outputId": "9684deba-1934-42d1-99e1-cda61740f822"
   },
   "outputs": [
    {
     "data": {
      "text/plain": [
       "71"
      ]
     },
     "execution_count": 15,
     "metadata": {},
     "output_type": "execute_result"
    }
   ],
   "source": [
    "data.duplicated().sum()"
   ]
  },
  {
   "cell_type": "code",
   "execution_count": 16,
   "id": "df853f20",
   "metadata": {
    "deletable": false,
    "id": "df853f20"
   },
   "outputs": [],
   "source": [
    "data = data.drop_duplicates()"
   ]
  },
  {
   "cell_type": "markdown",
   "id": "627be38f",
   "metadata": {
    "deletable": false,
    "editable": false,
    "id": "627be38f"
   },
   "source": [
    "### Категоризация данных"
   ]
  },
  {
   "cell_type": "markdown",
   "id": "4684c3e0",
   "metadata": {
    "deletable": false,
    "editable": false,
    "id": "4684c3e0"
   },
   "source": [
    "**Задание 16. На основании диапазонов, указанных ниже, создайте в датафрейме `data` столбец `total_income_category` с категориями:**\n",
    "\n",
    "- 0–30000 — `'E'`;\n",
    "- 30001–50000 — `'D'`;\n",
    "- 50001–200000 — `'C'`;\n",
    "- 200001–1000000 — `'B'`;\n",
    "- 1000001 и выше — `'A'`.\n",
    "\n",
    "\n",
    "**Например, кредитополучателю с доходом 25000 нужно назначить категорию `'E'`, а клиенту, получающему 235000, — `'B'`. Используйте собственную функцию с именем `categorize_income()` и метод `apply()`.**"
   ]
  },
  {
   "cell_type": "code",
   "execution_count": 17,
   "id": "78965238",
   "metadata": {
    "deletable": false,
    "id": "78965238"
   },
   "outputs": [],
   "source": [
    "def categorize_income(income):\n",
    "    try:\n",
    "        if 0 <= income <= 30000:\n",
    "            return 'E'\n",
    "        elif 30001 <= income <= 50000:\n",
    "            return 'D'\n",
    "        elif 50001 <= income <= 200000:\n",
    "            return 'C'\n",
    "        elif 200001 <= income <= 1000000:\n",
    "            return 'B'\n",
    "        elif income >= 1000001:\n",
    "            return 'A'\n",
    "    except:\n",
    "        pass"
   ]
  },
  {
   "cell_type": "code",
   "execution_count": 18,
   "id": "0980ada1",
   "metadata": {
    "deletable": false,
    "id": "0980ada1"
   },
   "outputs": [],
   "source": [
    "data['total_income_category'] = data['total_income'].apply(categorize_income)"
   ]
  },
  {
   "cell_type": "markdown",
   "id": "9917bba0",
   "metadata": {
    "deletable": false,
    "editable": false,
    "id": "9917bba0"
   },
   "source": [
    "**Задание 17. Выведите на экран перечень уникальных целей взятия кредита из столбца `purpose`.**"
   ]
  },
  {
   "cell_type": "code",
   "execution_count": 19,
   "id": "ee07b65e",
   "metadata": {
    "deletable": false,
    "id": "ee07b65e",
    "outputId": "673c12d9-7d7e-4ae0-9812-c622c89dd244"
   },
   "outputs": [
    {
     "data": {
      "text/plain": [
       "array(['покупка жилья', 'приобретение автомобиля',\n",
       "       'дополнительное образование', 'сыграть свадьбу',\n",
       "       'операции с жильем', 'образование', 'на проведение свадьбы',\n",
       "       'покупка жилья для семьи', 'покупка недвижимости',\n",
       "       'покупка коммерческой недвижимости', 'покупка жилой недвижимости',\n",
       "       'строительство собственной недвижимости', 'недвижимость',\n",
       "       'строительство недвижимости', 'на покупку подержанного автомобиля',\n",
       "       'на покупку своего автомобиля',\n",
       "       'операции с коммерческой недвижимостью',\n",
       "       'строительство жилой недвижимости', 'жилье',\n",
       "       'операции со своей недвижимостью', 'автомобили',\n",
       "       'заняться образованием', 'сделка с подержанным автомобилем',\n",
       "       'получение образования', 'автомобиль', 'свадьба',\n",
       "       'получение дополнительного образования', 'покупка своего жилья',\n",
       "       'операции с недвижимостью', 'получение высшего образования',\n",
       "       'свой автомобиль', 'сделка с автомобилем',\n",
       "       'профильное образование', 'высшее образование',\n",
       "       'покупка жилья для сдачи', 'на покупку автомобиля', 'ремонт жилью',\n",
       "       'заняться высшим образованием'], dtype=object)"
      ]
     },
     "execution_count": 19,
     "metadata": {},
     "output_type": "execute_result"
    }
   ],
   "source": [
    "data['purpose'].unique()"
   ]
  },
  {
   "cell_type": "markdown",
   "id": "52b79d56",
   "metadata": {
    "deletable": false,
    "editable": false,
    "id": "52b79d56"
   },
   "source": [
    "**Задание 18. Создайте функцию, которая на основании данных из столбца `purpose` сформирует новый столбец `purpose_category`, в который войдут следующие категории:**\n",
    "\n",
    "- `'операции с автомобилем'`,\n",
    "- `'операции с недвижимостью'`,\n",
    "- `'проведение свадьбы'`,\n",
    "- `'получение образования'`.\n",
    "\n",
    "**Например, если в столбце `purpose` находится подстрока `'на покупку автомобиля'`, то в столбце `purpose_category` должна появиться строка `'операции с автомобилем'`.**\n",
    "\n",
    "**Используйте собственную функцию с именем `categorize_purpose()` и метод `apply()`. Изучите данные в столбце `purpose` и определите, какие подстроки помогут вам правильно определить категорию.**"
   ]
  },
  {
   "cell_type": "code",
   "execution_count": 20,
   "id": "be41da5d",
   "metadata": {
    "deletable": false,
    "id": "be41da5d"
   },
   "outputs": [],
   "source": [
    "def categorize_purpose(row):\n",
    "    try:\n",
    "        if 'автом' in row:\n",
    "            return 'операции с автомобилем'\n",
    "        elif 'жил' in row or 'недвиж' in row:\n",
    "            return 'операции с недвижимостью'\n",
    "        elif 'свад' in row:\n",
    "            return 'проведение свадьбы'\n",
    "        elif 'образов' in row:\n",
    "            return 'получение образования'\n",
    "    except:\n",
    "        return 'нет категории'"
   ]
  },
  {
   "cell_type": "code",
   "execution_count": 21,
   "id": "94c4a19a",
   "metadata": {
    "deletable": false,
    "id": "94c4a19a"
   },
   "outputs": [],
   "source": [
    "data['purpose_category'] = data['purpose'].apply(categorize_purpose)"
   ]
  },
  {
   "cell_type": "markdown",
   "id": "3d596c34",
   "metadata": {
    "deletable": false,
    "editable": false,
    "id": "3d596c34"
   },
   "source": [
    "### Шаг 3. Исследуйте данные и ответьте на вопросы"
   ]
  },
  {
   "cell_type": "markdown",
   "id": "648db036",
   "metadata": {
    "deletable": false,
    "editable": false,
    "id": "648db036"
   },
   "source": [
    "#### 3.1 Есть ли зависимость между количеством детей и возвратом кредита в срок?"
   ]
  },
  {
   "cell_type": "code",
   "execution_count": 22,
   "id": "7fcff25e",
   "metadata": {
    "deletable": false,
    "id": "7fcff25e",
    "scrolled": false
   },
   "outputs": [
    {
     "name": "stdout",
     "output_type": "stream",
     "text": [
      "          всего кредитополучателей  всего должников  доля должников\n",
      "children                                                           \n",
      "0                            14091             1063        0.075438\n",
      "1                             4808              444        0.092346\n",
      "2                             2052              194        0.094542\n",
      "3                              330               27        0.081818\n",
      "4                               41                4        0.097561\n",
      "5                                9                0        0.000000\n"
     ]
    }
   ],
   "source": [
    "pivot_table_children = data.pivot_table(index='children', values='debt', aggfunc=['count', 'sum'])\n",
    "pivot_table_children.columns = ['всего кредитополучателей', 'всего должников']\n",
    "pivot_table_children['доля должников'] = pivot_table_children['всего должников'] / pivot_table_children['всего кредитополучателей']\n",
    "display(pivot_table_children)"
   ]
  },
  {
   "cell_type": "markdown",
   "id": "2eb9088e",
   "metadata": {
    "deletable": false,
    "id": "2eb9088e"
   },
   "source": [
    "**Вывод:** Если сравнить самые многочисленные категории (семьи с 0, 1 и 2 детьми), то можно сделать вывод о том, что чем больше у клиента детей, тем выше вероятность того, имел ли он задолженность по возврату кредитов. Остальные 3 категории (семьи с 3, 4 и 5 детьми) не показательные, т.к. их выборка слишком мала. Особенно если учитывать, что чем больше детей, тем меньше выборка."
   ]
  },
  {
   "cell_type": "markdown",
   "id": "74c9b3a7",
   "metadata": {
    "deletable": false,
    "editable": false,
    "id": "74c9b3a7"
   },
   "source": [
    "#### 3.2 Есть ли зависимость между семейным положением и возвратом кредита в срок?"
   ]
  },
  {
   "cell_type": "code",
   "execution_count": 23,
   "id": "8098ab3b",
   "metadata": {
    "deletable": false,
    "id": "8098ab3b"
   },
   "outputs": [
    {
     "data": {
      "text/html": [
       "<div>\n",
       "<style scoped>\n",
       "    .dataframe tbody tr th:only-of-type {\n",
       "        vertical-align: middle;\n",
       "    }\n",
       "\n",
       "    .dataframe tbody tr th {\n",
       "        vertical-align: top;\n",
       "    }\n",
       "\n",
       "    .dataframe thead th {\n",
       "        text-align: right;\n",
       "    }\n",
       "</style>\n",
       "<table border=\"1\" class=\"dataframe\">\n",
       "  <thead>\n",
       "    <tr style=\"text-align: right;\">\n",
       "      <th></th>\n",
       "      <th>всего кредитополучателей</th>\n",
       "      <th>всего должников</th>\n",
       "      <th>доля должников</th>\n",
       "    </tr>\n",
       "    <tr>\n",
       "      <th>family_status</th>\n",
       "      <th></th>\n",
       "      <th></th>\n",
       "      <th></th>\n",
       "    </tr>\n",
       "  </thead>\n",
       "  <tbody>\n",
       "    <tr>\n",
       "      <th>Не женат / не замужем</th>\n",
       "      <td>2796</td>\n",
       "      <td>273</td>\n",
       "      <td>0.097639</td>\n",
       "    </tr>\n",
       "    <tr>\n",
       "      <th>в разводе</th>\n",
       "      <td>1189</td>\n",
       "      <td>84</td>\n",
       "      <td>0.070648</td>\n",
       "    </tr>\n",
       "    <tr>\n",
       "      <th>вдовец / вдова</th>\n",
       "      <td>951</td>\n",
       "      <td>63</td>\n",
       "      <td>0.066246</td>\n",
       "    </tr>\n",
       "    <tr>\n",
       "      <th>гражданский брак</th>\n",
       "      <td>4134</td>\n",
       "      <td>385</td>\n",
       "      <td>0.093130</td>\n",
       "    </tr>\n",
       "    <tr>\n",
       "      <th>женат / замужем</th>\n",
       "      <td>12261</td>\n",
       "      <td>927</td>\n",
       "      <td>0.075606</td>\n",
       "    </tr>\n",
       "  </tbody>\n",
       "</table>\n",
       "</div>"
      ],
      "text/plain": [
       "                       всего кредитополучателей  всего должников  \\\n",
       "family_status                                                      \n",
       "Не женат / не замужем                      2796              273   \n",
       "в разводе                                  1189               84   \n",
       "вдовец / вдова                              951               63   \n",
       "гражданский брак                           4134              385   \n",
       "женат / замужем                           12261              927   \n",
       "\n",
       "                       доля должников  \n",
       "family_status                          \n",
       "Не женат / не замужем        0.097639  \n",
       "в разводе                    0.070648  \n",
       "вдовец / вдова               0.066246  \n",
       "гражданский брак             0.093130  \n",
       "женат / замужем              0.075606  "
      ]
     },
     "metadata": {},
     "output_type": "display_data"
    }
   ],
   "source": [
    "pivot_table_family = data.pivot_table(index='family_status', values='debt', aggfunc=['count', 'sum'])\n",
    "pivot_table_family.columns = ['всего кредитополучателей', 'всего должников']\n",
    "pivot_table_family['доля должников'] = pivot_table_family['всего должников'] / pivot_table_family['всего кредитополучателей']\n",
    "display(pivot_table_family)"
   ]
  },
  {
   "cell_type": "markdown",
   "id": "c389ca63",
   "metadata": {
    "deletable": false,
    "id": "c389ca63"
   },
   "source": [
    "**Вывод:** Вдовцы/вдовы и люди, находящиеся в разводе, проявляют более высокую надежность, с меньшим процентом задолженностей по кредиту, в то время как неженатые/незамужние и клиенты в гражданском браке имеют более высокий риск задолженностей."
   ]
  },
  {
   "cell_type": "markdown",
   "id": "9529de68",
   "metadata": {
    "deletable": false,
    "editable": false,
    "id": "9529de68"
   },
   "source": [
    "#### 3.3 Есть ли зависимость между уровнем дохода и возвратом кредита в срок?"
   ]
  },
  {
   "cell_type": "code",
   "execution_count": 24,
   "id": "8787f44a",
   "metadata": {
    "deletable": false,
    "id": "8787f44a",
    "scrolled": true
   },
   "outputs": [
    {
     "data": {
      "text/html": [
       "<div>\n",
       "<style scoped>\n",
       "    .dataframe tbody tr th:only-of-type {\n",
       "        vertical-align: middle;\n",
       "    }\n",
       "\n",
       "    .dataframe tbody tr th {\n",
       "        vertical-align: top;\n",
       "    }\n",
       "\n",
       "    .dataframe thead th {\n",
       "        text-align: right;\n",
       "    }\n",
       "</style>\n",
       "<table border=\"1\" class=\"dataframe\">\n",
       "  <thead>\n",
       "    <tr style=\"text-align: right;\">\n",
       "      <th></th>\n",
       "      <th>всего кредитополучателей</th>\n",
       "      <th>всего должников</th>\n",
       "      <th>доля должников</th>\n",
       "    </tr>\n",
       "    <tr>\n",
       "      <th>total_income_category</th>\n",
       "      <th></th>\n",
       "      <th></th>\n",
       "      <th></th>\n",
       "    </tr>\n",
       "  </thead>\n",
       "  <tbody>\n",
       "    <tr>\n",
       "      <th>A</th>\n",
       "      <td>25</td>\n",
       "      <td>2</td>\n",
       "      <td>0.080000</td>\n",
       "    </tr>\n",
       "    <tr>\n",
       "      <th>B</th>\n",
       "      <td>5014</td>\n",
       "      <td>354</td>\n",
       "      <td>0.070602</td>\n",
       "    </tr>\n",
       "    <tr>\n",
       "      <th>C</th>\n",
       "      <td>15921</td>\n",
       "      <td>1353</td>\n",
       "      <td>0.084982</td>\n",
       "    </tr>\n",
       "    <tr>\n",
       "      <th>D</th>\n",
       "      <td>349</td>\n",
       "      <td>21</td>\n",
       "      <td>0.060172</td>\n",
       "    </tr>\n",
       "    <tr>\n",
       "      <th>E</th>\n",
       "      <td>22</td>\n",
       "      <td>2</td>\n",
       "      <td>0.090909</td>\n",
       "    </tr>\n",
       "  </tbody>\n",
       "</table>\n",
       "</div>"
      ],
      "text/plain": [
       "                       всего кредитополучателей  всего должников  \\\n",
       "total_income_category                                              \n",
       "A                                            25                2   \n",
       "B                                          5014              354   \n",
       "C                                         15921             1353   \n",
       "D                                           349               21   \n",
       "E                                            22                2   \n",
       "\n",
       "                       доля должников  \n",
       "total_income_category                  \n",
       "A                            0.080000  \n",
       "B                            0.070602  \n",
       "C                            0.084982  \n",
       "D                            0.060172  \n",
       "E                            0.090909  "
      ]
     },
     "metadata": {},
     "output_type": "display_data"
    }
   ],
   "source": [
    "pivot_table_inccat = data.pivot_table(index='total_income_category', values='debt', aggfunc=['count', 'sum'])\n",
    "pivot_table_inccat.columns = ['всего кредитополучателей', 'всего должников']\n",
    "pivot_table_inccat['доля должников'] = pivot_table_inccat['всего должников'] / pivot_table_inccat['всего кредитополучателей']\n",
    "display(pivot_table_inccat)"
   ]
  },
  {
   "cell_type": "markdown",
   "id": "6dd14b57",
   "metadata": {
    "deletable": false,
    "id": "6dd14b57"
   },
   "source": [
    "**Вывод:** В целом, зависимости нет между уровнем дохода и возвратом кредита в срок. Возможно, причина этого заключается в том, что выборки несбалансированные. Но если сравнить только самые многочисленные выборки (B и С), то можно сделать вывод, что чем меньше доход, тем выше вероятность допущения задолженности по кредиту."
   ]
  },
  {
   "cell_type": "markdown",
   "id": "1dcc9b12",
   "metadata": {
    "deletable": false,
    "editable": false,
    "id": "1dcc9b12"
   },
   "source": [
    "#### 3.4 Как разные цели кредита влияют на его возврат в срок?"
   ]
  },
  {
   "cell_type": "code",
   "execution_count": 25,
   "id": "c602bc8b",
   "metadata": {
    "deletable": false,
    "id": "c602bc8b"
   },
   "outputs": [
    {
     "data": {
      "text/plain": [
       "purpose_category\n",
       "операции с недвижимостью    0.072551\n",
       "проведение свадьбы          0.079118\n",
       "получение образования       0.092528\n",
       "операции с автомобилем      0.093480\n",
       "Name: debt, dtype: float64"
      ]
     },
     "execution_count": 25,
     "metadata": {},
     "output_type": "execute_result"
    }
   ],
   "source": [
    "data.groupby('purpose_category')['debt'].mean().sort_values()"
   ]
  },
  {
   "cell_type": "markdown",
   "id": "cf05ed63",
   "metadata": {
    "deletable": false,
    "id": "cf05ed63"
   },
   "source": [
    "**Вывод:** Самая высокая вероятность невозврата кредита в срок у клиентов, которые берут кредиты на авто и образование. Самая низкая вероятность невозврата кредита в срок у клиентов, которые берут кредиты на недвижимость и свадьбу."
   ]
  },
  {
   "cell_type": "markdown",
   "id": "46c1f10b",
   "metadata": {
    "deletable": false,
    "editable": false,
    "id": "46c1f10b"
   },
   "source": [
    "#### 3.5 Приведите возможные причины появления пропусков в исходных данных."
   ]
  },
  {
   "cell_type": "markdown",
   "id": "3697d2a9",
   "metadata": {
    "deletable": false,
    "id": "3697d2a9"
   },
   "source": [
    "*Ответ:* Возможные причины пропусков в данных о заёмщиках могут быть:\n",
    "1. Клиенты могли не предоставить информацию о своем ежемесячном доходе и трудовом стаже, возможно, по своему желанию или из-за приватности.\n",
    "2. Ошибки или проблемы в сборе или записи данных могли привести к пропускам информации.\n",
    "3. Некоторые клиенты могли не иметь официального трудового стажа или стабильного источника дохода, что могло привести к пропускам в соответствующих полях.\n",
    "4. Технические проблемы или сбои в системе записи данных могли вызвать пропуски.\n"
   ]
  },
  {
   "cell_type": "markdown",
   "id": "3137d257",
   "metadata": {
    "deletable": false,
    "editable": false,
    "id": "3137d257"
   },
   "source": [
    "#### 3.6 Объясните, почему заполнить пропуски медианным значением — лучшее решение для количественных переменных."
   ]
  },
  {
   "cell_type": "markdown",
   "id": "cf40012a",
   "metadata": {
    "deletable": false,
    "id": "cf40012a"
   },
   "source": [
    "*Ответ:* Во-первых, медиана является устойчивой мерой центральной тенденции и не подвержена выбросам, в отличие от среднего значения. Это делает медиану более надежной оценкой среднего значения переменной. Во-вторых, заполнение пропусков медианным значением сохраняет распределение и структуру данных, что помогает избежать искажения результатов анализа."
   ]
  },
  {
   "cell_type": "markdown",
   "id": "57bc304e",
   "metadata": {
    "deletable": false,
    "editable": false,
    "id": "57bc304e"
   },
   "source": [
    "### Шаг 4: общий вывод."
   ]
  },
  {
   "cell_type": "markdown",
   "id": "1ab75d1c",
   "metadata": {
    "deletable": false,
    "id": "1ab75d1c"
   },
   "source": [
    "На начальном этапе мы работали с данными, которые составляли чуть больше 21000 строк. \n",
    "\n",
    "Часть из них являлась дубликатами, которые были удалены. Так же в данных были пропущенные значения, которые впоследствии были заменены медианными значениями. Некоторые данные были представлены в отрицательном значении, что было впоследствии исправлено. Из выборки мы удалили клиентов с аномальным количеством детей (-1 и 20). Некоторые значения были записаны некорректно в виде вещественных типах данных. Они были исправлены на целочисленные. Так же были обработаны неявные дубликаты. Для этого мы привели их к нижнему регистру. Была проведены категоризация данных, в следствии которой были получены категории клиентов исходя из их дохода. Исходя из целей кредитов, были получены соответствующие категории.\n",
    "\n",
    "Были получены зависимости. Чем больше у клиента детей, тем выше вероятность того, имел ли он задолженность по возврату кредитов. Вдовцы/вдовы и люди, находящиеся в разводе, проявляют более высокую надежность, с меньшим процентом задолженностей по кредиту, в то время как неженатые/незамужние и клиенты в гражданском браке имеют более высокий риск задолженностей. В целом, зависимости нет между уровнем дохода и возвратом кредита в срок. Возможно, причина этого заключается в том, что выборки несбалансированные. Но если сравнить только самые многочисленные выборки (B и С), то можно сделать вывод, что чем меньше доход, тем выше вероятность допущения задолженности по кредиту. Самая высокая вероятность невозврата кредита в срок у клиентов, которые берут кредиты на авто и образование. Самая низкая вероятность невозврата кредита в срок у клиентов, которые берут кредиты на недвижимость и свадьбу. Некоторые категории были не показательными, потому что некоторые выборки оказались несбалансированными.\n",
    "\n",
    "Рекомендуется при сборе данных не допускать пропусков, аномальных значений, значений, которые представлены в некорректной форме, и по возможности, обеспечить балансировку выборок.\n",
    "\n",
    "По итогу исследования, можно построить модель кредитного скоринга, которая будет оценивать способность потенциального заёмщика вернуть кредит банку."
   ]
  }
 ],
 "metadata": {
  "ExecuteTimeLog": [
   {
    "duration": 727,
    "start_time": "2023-09-25T05:48:29.029Z"
   },
   {
    "duration": 23,
    "start_time": "2023-09-25T05:48:29.758Z"
   },
   {
    "duration": 17,
    "start_time": "2023-09-25T05:48:29.783Z"
   },
   {
    "duration": 11,
    "start_time": "2023-09-25T05:48:29.802Z"
   },
   {
    "duration": 56,
    "start_time": "2023-09-25T05:48:29.815Z"
   },
   {
    "duration": 4,
    "start_time": "2023-09-25T05:48:29.873Z"
   },
   {
    "duration": 10,
    "start_time": "2023-09-25T05:48:29.878Z"
   },
   {
    "duration": 4,
    "start_time": "2023-09-25T05:48:29.889Z"
   },
   {
    "duration": 7,
    "start_time": "2023-09-25T05:48:29.894Z"
   },
   {
    "duration": 5,
    "start_time": "2023-09-25T05:48:29.903Z"
   },
   {
    "duration": 56,
    "start_time": "2023-09-25T05:48:29.909Z"
   },
   {
    "duration": 9,
    "start_time": "2023-09-25T05:48:29.967Z"
   },
   {
    "duration": 8,
    "start_time": "2023-09-25T05:48:29.978Z"
   },
   {
    "duration": 21,
    "start_time": "2023-09-25T05:48:29.988Z"
   },
   {
    "duration": 18,
    "start_time": "2023-09-25T05:48:30.010Z"
   },
   {
    "duration": 27,
    "start_time": "2023-09-25T05:48:30.029Z"
   },
   {
    "duration": 14,
    "start_time": "2023-09-25T05:48:30.057Z"
   },
   {
    "duration": 39,
    "start_time": "2023-09-25T05:48:30.072Z"
   },
   {
    "duration": 41,
    "start_time": "2023-09-25T05:48:30.113Z"
   },
   {
    "duration": 16,
    "start_time": "2023-09-25T05:48:30.156Z"
   },
   {
    "duration": 49,
    "start_time": "2023-09-25T05:48:30.173Z"
   },
   {
    "duration": 25,
    "start_time": "2023-09-25T05:48:30.224Z"
   },
   {
    "duration": 26,
    "start_time": "2023-09-25T05:48:30.251Z"
   },
   {
    "duration": 25,
    "start_time": "2023-09-25T05:48:30.279Z"
   },
   {
    "duration": 41,
    "start_time": "2023-09-25T05:48:30.306Z"
   },
   {
    "duration": 414,
    "start_time": "2023-09-25T05:49:04.010Z"
   },
   {
    "duration": 21,
    "start_time": "2023-09-25T05:49:04.426Z"
   },
   {
    "duration": 24,
    "start_time": "2023-09-25T05:49:04.449Z"
   },
   {
    "duration": 18,
    "start_time": "2023-09-25T05:49:04.475Z"
   },
   {
    "duration": 50,
    "start_time": "2023-09-25T05:49:04.495Z"
   },
   {
    "duration": 4,
    "start_time": "2023-09-25T05:49:04.546Z"
   },
   {
    "duration": 33,
    "start_time": "2023-09-25T05:49:04.552Z"
   },
   {
    "duration": 26,
    "start_time": "2023-09-25T05:49:04.586Z"
   },
   {
    "duration": 15,
    "start_time": "2023-09-25T05:49:04.613Z"
   },
   {
    "duration": 19,
    "start_time": "2023-09-25T05:49:04.630Z"
   },
   {
    "duration": 47,
    "start_time": "2023-09-25T05:49:04.651Z"
   },
   {
    "duration": 19,
    "start_time": "2023-09-25T05:49:04.700Z"
   },
   {
    "duration": 21,
    "start_time": "2023-09-25T05:49:04.721Z"
   },
   {
    "duration": 31,
    "start_time": "2023-09-25T05:49:04.743Z"
   },
   {
    "duration": 43,
    "start_time": "2023-09-25T05:49:04.776Z"
   },
   {
    "duration": 20,
    "start_time": "2023-09-25T05:49:04.821Z"
   },
   {
    "duration": 23,
    "start_time": "2023-09-25T05:49:04.842Z"
   },
   {
    "duration": 46,
    "start_time": "2023-09-25T05:49:04.867Z"
   },
   {
    "duration": 16,
    "start_time": "2023-09-25T05:49:04.915Z"
   },
   {
    "duration": 20,
    "start_time": "2023-09-25T05:49:04.932Z"
   },
   {
    "duration": 34,
    "start_time": "2023-09-25T05:49:04.953Z"
   },
   {
    "duration": 20,
    "start_time": "2023-09-25T05:49:04.988Z"
   },
   {
    "duration": 13,
    "start_time": "2023-09-25T05:49:05.009Z"
   },
   {
    "duration": 19,
    "start_time": "2023-09-25T05:49:05.023Z"
   },
   {
    "duration": 26,
    "start_time": "2023-09-25T05:49:05.043Z"
   },
   {
    "duration": 412,
    "start_time": "2023-09-25T05:53:06.704Z"
   },
   {
    "duration": 20,
    "start_time": "2023-09-25T05:53:07.118Z"
   },
   {
    "duration": 13,
    "start_time": "2023-09-25T05:53:07.140Z"
   },
   {
    "duration": 16,
    "start_time": "2023-09-25T05:53:07.155Z"
   },
   {
    "duration": 32,
    "start_time": "2023-09-25T05:53:07.172Z"
   },
   {
    "duration": 3,
    "start_time": "2023-09-25T05:53:07.205Z"
   },
   {
    "duration": 10,
    "start_time": "2023-09-25T05:53:07.210Z"
   },
   {
    "duration": 4,
    "start_time": "2023-09-25T05:53:07.222Z"
   },
   {
    "duration": 25,
    "start_time": "2023-09-25T05:53:07.227Z"
   },
   {
    "duration": 4,
    "start_time": "2023-09-25T05:53:07.254Z"
   },
   {
    "duration": 37,
    "start_time": "2023-09-25T05:53:07.259Z"
   },
   {
    "duration": 9,
    "start_time": "2023-09-25T05:53:07.297Z"
   },
   {
    "duration": 8,
    "start_time": "2023-09-25T05:53:07.308Z"
   },
   {
    "duration": 32,
    "start_time": "2023-09-25T05:53:07.317Z"
   },
   {
    "duration": 16,
    "start_time": "2023-09-25T05:53:07.351Z"
   },
   {
    "duration": 14,
    "start_time": "2023-09-25T05:53:07.369Z"
   },
   {
    "duration": 3,
    "start_time": "2023-09-25T05:53:07.384Z"
   },
   {
    "duration": 18,
    "start_time": "2023-09-25T05:53:07.389Z"
   },
   {
    "duration": 8,
    "start_time": "2023-09-25T05:53:07.408Z"
   },
   {
    "duration": 22,
    "start_time": "2023-09-25T05:53:07.418Z"
   },
   {
    "duration": 14,
    "start_time": "2023-09-25T05:53:07.441Z"
   },
   {
    "duration": 11,
    "start_time": "2023-09-25T05:53:07.456Z"
   },
   {
    "duration": 14,
    "start_time": "2023-09-25T05:53:07.468Z"
   },
   {
    "duration": 23,
    "start_time": "2023-09-25T05:53:07.483Z"
   },
   {
    "duration": 23,
    "start_time": "2023-09-25T05:53:07.507Z"
   },
   {
    "duration": 507,
    "start_time": "2023-09-25T05:53:18.056Z"
   },
   {
    "duration": 24,
    "start_time": "2023-09-25T05:53:18.565Z"
   },
   {
    "duration": 16,
    "start_time": "2023-09-25T05:53:18.590Z"
   },
   {
    "duration": 9,
    "start_time": "2023-09-25T05:53:18.608Z"
   },
   {
    "duration": 56,
    "start_time": "2023-09-25T05:53:18.618Z"
   },
   {
    "duration": 3,
    "start_time": "2023-09-25T05:53:18.675Z"
   },
   {
    "duration": 8,
    "start_time": "2023-09-25T05:53:18.679Z"
   },
   {
    "duration": 8,
    "start_time": "2023-09-25T05:53:18.688Z"
   },
   {
    "duration": 22,
    "start_time": "2023-09-25T05:53:18.697Z"
   },
   {
    "duration": 6,
    "start_time": "2023-09-25T05:53:18.721Z"
   },
   {
    "duration": 44,
    "start_time": "2023-09-25T05:53:18.729Z"
   },
   {
    "duration": 10,
    "start_time": "2023-09-25T05:53:18.775Z"
   },
   {
    "duration": 10,
    "start_time": "2023-09-25T05:53:18.786Z"
   },
   {
    "duration": 17,
    "start_time": "2023-09-25T05:53:18.798Z"
   },
   {
    "duration": 26,
    "start_time": "2023-09-25T05:53:18.816Z"
   },
   {
    "duration": 16,
    "start_time": "2023-09-25T05:53:18.844Z"
   },
   {
    "duration": 6,
    "start_time": "2023-09-25T05:53:18.862Z"
   },
   {
    "duration": 25,
    "start_time": "2023-09-25T05:53:18.869Z"
   },
   {
    "duration": 25,
    "start_time": "2023-09-25T05:53:18.895Z"
   },
   {
    "duration": 9,
    "start_time": "2023-09-25T05:53:18.922Z"
   },
   {
    "duration": 37,
    "start_time": "2023-09-25T05:53:18.932Z"
   },
   {
    "duration": 24,
    "start_time": "2023-09-25T05:53:18.970Z"
   },
   {
    "duration": 16,
    "start_time": "2023-09-25T05:53:18.995Z"
   },
   {
    "duration": 15,
    "start_time": "2023-09-25T05:53:19.013Z"
   },
   {
    "duration": 21,
    "start_time": "2023-09-25T05:53:19.030Z"
   },
   {
    "duration": 463,
    "start_time": "2023-09-25T05:59:43.945Z"
   },
   {
    "duration": 20,
    "start_time": "2023-09-25T05:59:44.410Z"
   },
   {
    "duration": 16,
    "start_time": "2023-09-25T05:59:44.432Z"
   },
   {
    "duration": 20,
    "start_time": "2023-09-25T05:59:44.450Z"
   },
   {
    "duration": 39,
    "start_time": "2023-09-25T05:59:44.471Z"
   },
   {
    "duration": 4,
    "start_time": "2023-09-25T05:59:44.511Z"
   },
   {
    "duration": 21,
    "start_time": "2023-09-25T05:59:44.516Z"
   },
   {
    "duration": 12,
    "start_time": "2023-09-25T05:59:44.539Z"
   },
   {
    "duration": 17,
    "start_time": "2023-09-25T05:59:44.552Z"
   },
   {
    "duration": 6,
    "start_time": "2023-09-25T05:59:44.571Z"
   },
   {
    "duration": 33,
    "start_time": "2023-09-25T05:59:44.579Z"
   },
   {
    "duration": 10,
    "start_time": "2023-09-25T05:59:44.614Z"
   },
   {
    "duration": 16,
    "start_time": "2023-09-25T05:59:44.626Z"
   },
   {
    "duration": 14,
    "start_time": "2023-09-25T05:59:44.645Z"
   },
   {
    "duration": 28,
    "start_time": "2023-09-25T05:59:44.661Z"
   },
   {
    "duration": 14,
    "start_time": "2023-09-25T05:59:44.691Z"
   },
   {
    "duration": 8,
    "start_time": "2023-09-25T05:59:44.707Z"
   },
   {
    "duration": 14,
    "start_time": "2023-09-25T05:59:44.717Z"
   },
   {
    "duration": 5,
    "start_time": "2023-09-25T05:59:44.732Z"
   },
   {
    "duration": 11,
    "start_time": "2023-09-25T05:59:44.739Z"
   },
   {
    "duration": 10,
    "start_time": "2023-09-25T05:59:44.751Z"
   },
   {
    "duration": 8,
    "start_time": "2023-09-25T05:59:44.762Z"
   },
   {
    "duration": 8,
    "start_time": "2023-09-25T05:59:44.771Z"
   },
   {
    "duration": 4,
    "start_time": "2023-09-25T05:59:44.780Z"
   },
   {
    "duration": 8,
    "start_time": "2023-09-25T05:59:44.786Z"
   },
   {
    "duration": 453,
    "start_time": "2023-09-25T06:01:13.579Z"
   },
   {
    "duration": 20,
    "start_time": "2023-09-25T06:01:14.034Z"
   },
   {
    "duration": 32,
    "start_time": "2023-09-25T06:01:14.058Z"
   },
   {
    "duration": 17,
    "start_time": "2023-09-25T06:01:14.091Z"
   },
   {
    "duration": 56,
    "start_time": "2023-09-25T06:01:14.109Z"
   },
   {
    "duration": 4,
    "start_time": "2023-09-25T06:01:14.166Z"
   },
   {
    "duration": 23,
    "start_time": "2023-09-25T06:01:14.171Z"
   },
   {
    "duration": 22,
    "start_time": "2023-09-25T06:01:14.195Z"
   },
   {
    "duration": 39,
    "start_time": "2023-09-25T06:01:14.220Z"
   },
   {
    "duration": 32,
    "start_time": "2023-09-25T06:01:14.261Z"
   },
   {
    "duration": 44,
    "start_time": "2023-09-25T06:01:14.295Z"
   },
   {
    "duration": 16,
    "start_time": "2023-09-25T06:01:14.341Z"
   },
   {
    "duration": 8,
    "start_time": "2023-09-25T06:01:14.359Z"
   },
   {
    "duration": 20,
    "start_time": "2023-09-25T06:01:14.369Z"
   },
   {
    "duration": 37,
    "start_time": "2023-09-25T06:01:14.391Z"
   },
   {
    "duration": 17,
    "start_time": "2023-09-25T06:01:14.429Z"
   },
   {
    "duration": 3,
    "start_time": "2023-09-25T06:01:14.448Z"
   },
   {
    "duration": 31,
    "start_time": "2023-09-25T06:01:14.453Z"
   },
   {
    "duration": 8,
    "start_time": "2023-09-25T06:01:14.486Z"
   },
   {
    "duration": 20,
    "start_time": "2023-09-25T06:01:14.496Z"
   },
   {
    "duration": 26,
    "start_time": "2023-09-25T06:01:14.517Z"
   },
   {
    "duration": 40,
    "start_time": "2023-09-25T06:01:14.544Z"
   },
   {
    "duration": 26,
    "start_time": "2023-09-25T06:01:14.585Z"
   },
   {
    "duration": 10,
    "start_time": "2023-09-25T06:01:14.613Z"
   },
   {
    "duration": 9,
    "start_time": "2023-09-25T06:01:14.624Z"
   },
   {
    "duration": 458,
    "start_time": "2023-09-25T06:01:48.113Z"
   },
   {
    "duration": 21,
    "start_time": "2023-09-25T06:01:48.573Z"
   },
   {
    "duration": 16,
    "start_time": "2023-09-25T06:01:48.596Z"
   },
   {
    "duration": 10,
    "start_time": "2023-09-25T06:01:48.615Z"
   },
   {
    "duration": 53,
    "start_time": "2023-09-25T06:01:48.627Z"
   },
   {
    "duration": 3,
    "start_time": "2023-09-25T06:01:48.682Z"
   },
   {
    "duration": 18,
    "start_time": "2023-09-25T06:01:48.686Z"
   },
   {
    "duration": 9,
    "start_time": "2023-09-25T06:01:48.706Z"
   },
   {
    "duration": 18,
    "start_time": "2023-09-25T06:01:48.717Z"
   },
   {
    "duration": 4,
    "start_time": "2023-09-25T06:01:48.737Z"
   },
   {
    "duration": 39,
    "start_time": "2023-09-25T06:01:48.742Z"
   },
   {
    "duration": 11,
    "start_time": "2023-09-25T06:01:48.783Z"
   },
   {
    "duration": 3,
    "start_time": "2023-09-25T06:01:48.796Z"
   },
   {
    "duration": 40,
    "start_time": "2023-09-25T06:01:48.801Z"
   },
   {
    "duration": 36,
    "start_time": "2023-09-25T06:01:48.843Z"
   },
   {
    "duration": 21,
    "start_time": "2023-09-25T06:01:48.881Z"
   },
   {
    "duration": 3,
    "start_time": "2023-09-25T06:01:48.904Z"
   },
   {
    "duration": 28,
    "start_time": "2023-09-25T06:01:48.908Z"
   },
   {
    "duration": 16,
    "start_time": "2023-09-25T06:01:48.938Z"
   },
   {
    "duration": 16,
    "start_time": "2023-09-25T06:01:48.956Z"
   },
   {
    "duration": 39,
    "start_time": "2023-09-25T06:01:48.973Z"
   },
   {
    "duration": 12,
    "start_time": "2023-09-25T06:01:49.013Z"
   },
   {
    "duration": 10,
    "start_time": "2023-09-25T06:01:49.026Z"
   },
   {
    "duration": 4,
    "start_time": "2023-09-25T06:01:49.038Z"
   },
   {
    "duration": 7,
    "start_time": "2023-09-25T06:01:49.044Z"
   },
   {
    "duration": 431,
    "start_time": "2023-09-25T06:02:45.107Z"
   },
   {
    "duration": 21,
    "start_time": "2023-09-25T06:02:45.540Z"
   },
   {
    "duration": 55,
    "start_time": "2023-09-25T06:02:45.562Z"
   },
   {
    "duration": 26,
    "start_time": "2023-09-25T06:02:45.619Z"
   },
   {
    "duration": 50,
    "start_time": "2023-09-25T06:02:45.646Z"
   },
   {
    "duration": 4,
    "start_time": "2023-09-25T06:02:45.699Z"
   },
   {
    "duration": 17,
    "start_time": "2023-09-25T06:02:45.704Z"
   },
   {
    "duration": 26,
    "start_time": "2023-09-25T06:02:45.723Z"
   },
   {
    "duration": 11,
    "start_time": "2023-09-25T06:02:45.751Z"
   },
   {
    "duration": 21,
    "start_time": "2023-09-25T06:02:45.765Z"
   },
   {
    "duration": 61,
    "start_time": "2023-09-25T06:02:45.787Z"
   },
   {
    "duration": 10,
    "start_time": "2023-09-25T06:02:45.850Z"
   },
   {
    "duration": 6,
    "start_time": "2023-09-25T06:02:45.861Z"
   },
   {
    "duration": 14,
    "start_time": "2023-09-25T06:02:45.869Z"
   },
   {
    "duration": 27,
    "start_time": "2023-09-25T06:02:45.884Z"
   },
   {
    "duration": 33,
    "start_time": "2023-09-25T06:02:45.912Z"
   },
   {
    "duration": 7,
    "start_time": "2023-09-25T06:02:45.949Z"
   },
   {
    "duration": 31,
    "start_time": "2023-09-25T06:02:45.958Z"
   },
   {
    "duration": 31,
    "start_time": "2023-09-25T06:02:45.991Z"
   },
   {
    "duration": 6,
    "start_time": "2023-09-25T06:02:46.024Z"
   },
   {
    "duration": 30,
    "start_time": "2023-09-25T06:02:46.032Z"
   },
   {
    "duration": 7,
    "start_time": "2023-09-25T06:02:46.065Z"
   },
   {
    "duration": 25,
    "start_time": "2023-09-25T06:02:46.074Z"
   },
   {
    "duration": 5,
    "start_time": "2023-09-25T06:02:46.101Z"
   },
   {
    "duration": 21,
    "start_time": "2023-09-25T06:02:46.108Z"
   },
   {
    "duration": 443,
    "start_time": "2023-09-25T06:03:11.186Z"
   },
   {
    "duration": 22,
    "start_time": "2023-09-25T06:03:11.630Z"
   },
   {
    "duration": 39,
    "start_time": "2023-09-25T06:03:11.653Z"
   },
   {
    "duration": 23,
    "start_time": "2023-09-25T06:03:11.694Z"
   },
   {
    "duration": 59,
    "start_time": "2023-09-25T06:03:11.719Z"
   },
   {
    "duration": 14,
    "start_time": "2023-09-25T06:03:11.780Z"
   },
   {
    "duration": 28,
    "start_time": "2023-09-25T06:03:11.795Z"
   },
   {
    "duration": 30,
    "start_time": "2023-09-25T06:03:11.824Z"
   },
   {
    "duration": 28,
    "start_time": "2023-09-25T06:03:11.855Z"
   },
   {
    "duration": 29,
    "start_time": "2023-09-25T06:03:11.887Z"
   },
   {
    "duration": 62,
    "start_time": "2023-09-25T06:03:11.918Z"
   },
   {
    "duration": 12,
    "start_time": "2023-09-25T06:03:11.982Z"
   },
   {
    "duration": 47,
    "start_time": "2023-09-25T06:03:11.995Z"
   },
   {
    "duration": 38,
    "start_time": "2023-09-25T06:03:12.043Z"
   },
   {
    "duration": 55,
    "start_time": "2023-09-25T06:03:12.083Z"
   },
   {
    "duration": 38,
    "start_time": "2023-09-25T06:03:12.139Z"
   },
   {
    "duration": 22,
    "start_time": "2023-09-25T06:03:12.178Z"
   },
   {
    "duration": 31,
    "start_time": "2023-09-25T06:03:12.202Z"
   },
   {
    "duration": 44,
    "start_time": "2023-09-25T06:03:12.235Z"
   },
   {
    "duration": 12,
    "start_time": "2023-09-25T06:03:12.280Z"
   },
   {
    "duration": 21,
    "start_time": "2023-09-25T06:03:12.293Z"
   },
   {
    "duration": 20,
    "start_time": "2023-09-25T06:03:12.316Z"
   },
   {
    "duration": 16,
    "start_time": "2023-09-25T06:03:12.338Z"
   },
   {
    "duration": 167,
    "start_time": "2023-09-25T06:03:12.356Z"
   },
   {
    "duration": 54,
    "start_time": "2023-09-25T06:03:12.524Z"
   },
   {
    "duration": 472,
    "start_time": "2023-09-25T06:08:23.235Z"
   },
   {
    "duration": 21,
    "start_time": "2023-09-25T06:08:23.709Z"
   },
   {
    "duration": 21,
    "start_time": "2023-09-25T06:08:23.733Z"
   },
   {
    "duration": 21,
    "start_time": "2023-09-25T06:08:23.756Z"
   },
   {
    "duration": 46,
    "start_time": "2023-09-25T06:08:23.778Z"
   },
   {
    "duration": 3,
    "start_time": "2023-09-25T06:08:23.825Z"
   },
   {
    "duration": 22,
    "start_time": "2023-09-25T06:08:23.830Z"
   },
   {
    "duration": 15,
    "start_time": "2023-09-25T06:08:23.853Z"
   },
   {
    "duration": 38,
    "start_time": "2023-09-25T06:08:23.870Z"
   },
   {
    "duration": 23,
    "start_time": "2023-09-25T06:08:23.909Z"
   },
   {
    "duration": 44,
    "start_time": "2023-09-25T06:08:23.933Z"
   },
   {
    "duration": 11,
    "start_time": "2023-09-25T06:08:23.978Z"
   },
   {
    "duration": 16,
    "start_time": "2023-09-25T06:08:23.990Z"
   },
   {
    "duration": 18,
    "start_time": "2023-09-25T06:08:24.007Z"
   },
   {
    "duration": 20,
    "start_time": "2023-09-25T06:08:24.027Z"
   },
   {
    "duration": 17,
    "start_time": "2023-09-25T06:08:24.048Z"
   },
   {
    "duration": 3,
    "start_time": "2023-09-25T06:08:24.066Z"
   },
   {
    "duration": 30,
    "start_time": "2023-09-25T06:08:24.071Z"
   },
   {
    "duration": 12,
    "start_time": "2023-09-25T06:08:24.103Z"
   },
   {
    "duration": 14,
    "start_time": "2023-09-25T06:08:24.117Z"
   },
   {
    "duration": 12,
    "start_time": "2023-09-25T06:08:24.132Z"
   },
   {
    "duration": 6,
    "start_time": "2023-09-25T06:08:24.146Z"
   },
   {
    "duration": 12,
    "start_time": "2023-09-25T06:08:24.153Z"
   },
   {
    "duration": 10,
    "start_time": "2023-09-25T06:08:24.167Z"
   },
   {
    "duration": 12,
    "start_time": "2023-09-25T06:08:24.178Z"
   },
   {
    "duration": 459,
    "start_time": "2023-09-25T06:15:16.466Z"
   },
   {
    "duration": 21,
    "start_time": "2023-09-25T06:15:16.927Z"
   },
   {
    "duration": 19,
    "start_time": "2023-09-25T06:15:16.949Z"
   },
   {
    "duration": 9,
    "start_time": "2023-09-25T06:15:16.970Z"
   },
   {
    "duration": 35,
    "start_time": "2023-09-25T06:15:16.980Z"
   },
   {
    "duration": 3,
    "start_time": "2023-09-25T06:15:17.016Z"
   },
   {
    "duration": 10,
    "start_time": "2023-09-25T06:15:17.020Z"
   },
   {
    "duration": 5,
    "start_time": "2023-09-25T06:15:17.049Z"
   },
   {
    "duration": 13,
    "start_time": "2023-09-25T06:15:17.055Z"
   },
   {
    "duration": 7,
    "start_time": "2023-09-25T06:15:17.070Z"
   },
   {
    "duration": 31,
    "start_time": "2023-09-25T06:15:17.078Z"
   },
   {
    "duration": 9,
    "start_time": "2023-09-25T06:15:17.111Z"
   },
   {
    "duration": 20,
    "start_time": "2023-09-25T06:15:17.121Z"
   },
   {
    "duration": 16,
    "start_time": "2023-09-25T06:15:17.142Z"
   },
   {
    "duration": 17,
    "start_time": "2023-09-25T06:15:17.159Z"
   },
   {
    "duration": 17,
    "start_time": "2023-09-25T06:15:17.177Z"
   },
   {
    "duration": 3,
    "start_time": "2023-09-25T06:15:17.195Z"
   },
   {
    "duration": 20,
    "start_time": "2023-09-25T06:15:17.200Z"
   },
   {
    "duration": 8,
    "start_time": "2023-09-25T06:15:17.221Z"
   },
   {
    "duration": 4,
    "start_time": "2023-09-25T06:15:17.230Z"
   },
   {
    "duration": 7,
    "start_time": "2023-09-25T06:15:17.249Z"
   },
   {
    "duration": 13,
    "start_time": "2023-09-25T06:15:17.257Z"
   },
   {
    "duration": 2,
    "start_time": "2023-09-25T06:15:17.271Z"
   },
   {
    "duration": 4,
    "start_time": "2023-09-25T06:15:17.275Z"
   },
   {
    "duration": 24,
    "start_time": "2023-09-25T06:15:17.280Z"
   },
   {
    "duration": 461,
    "start_time": "2023-09-25T06:21:08.055Z"
   },
   {
    "duration": 20,
    "start_time": "2023-09-25T06:21:08.517Z"
   },
   {
    "duration": 23,
    "start_time": "2023-09-25T06:21:08.538Z"
   },
   {
    "duration": 14,
    "start_time": "2023-09-25T06:21:08.563Z"
   },
   {
    "duration": 39,
    "start_time": "2023-09-25T06:21:08.579Z"
   },
   {
    "duration": 3,
    "start_time": "2023-09-25T06:21:08.619Z"
   },
   {
    "duration": 27,
    "start_time": "2023-09-25T06:21:08.624Z"
   },
   {
    "duration": 19,
    "start_time": "2023-09-25T06:21:08.653Z"
   },
   {
    "duration": 22,
    "start_time": "2023-09-25T06:21:08.673Z"
   },
   {
    "duration": 28,
    "start_time": "2023-09-25T06:21:08.698Z"
   },
   {
    "duration": 44,
    "start_time": "2023-09-25T06:21:08.728Z"
   },
   {
    "duration": 10,
    "start_time": "2023-09-25T06:21:08.773Z"
   },
   {
    "duration": 26,
    "start_time": "2023-09-25T06:21:08.784Z"
   },
   {
    "duration": 35,
    "start_time": "2023-09-25T06:21:08.812Z"
   },
   {
    "duration": 17,
    "start_time": "2023-09-25T06:21:08.849Z"
   },
   {
    "duration": 15,
    "start_time": "2023-09-25T06:21:08.868Z"
   },
   {
    "duration": 3,
    "start_time": "2023-09-25T06:21:08.884Z"
   },
   {
    "duration": 11,
    "start_time": "2023-09-25T06:21:08.889Z"
   },
   {
    "duration": 5,
    "start_time": "2023-09-25T06:21:08.902Z"
   },
   {
    "duration": 6,
    "start_time": "2023-09-25T06:21:08.908Z"
   },
   {
    "duration": 34,
    "start_time": "2023-09-25T06:21:08.916Z"
   },
   {
    "duration": 8,
    "start_time": "2023-09-25T06:21:08.952Z"
   },
   {
    "duration": 6,
    "start_time": "2023-09-25T06:21:08.961Z"
   },
   {
    "duration": 14,
    "start_time": "2023-09-25T06:21:08.968Z"
   },
   {
    "duration": 9,
    "start_time": "2023-09-25T06:21:08.983Z"
   },
   {
    "duration": 473,
    "start_time": "2023-09-25T06:22:24.028Z"
   },
   {
    "duration": 22,
    "start_time": "2023-09-25T06:22:24.502Z"
   },
   {
    "duration": 23,
    "start_time": "2023-09-25T06:22:24.526Z"
   },
   {
    "duration": 19,
    "start_time": "2023-09-25T06:22:24.551Z"
   },
   {
    "duration": 54,
    "start_time": "2023-09-25T06:22:24.571Z"
   },
   {
    "duration": 4,
    "start_time": "2023-09-25T06:22:24.626Z"
   },
   {
    "duration": 28,
    "start_time": "2023-09-25T06:22:24.631Z"
   },
   {
    "duration": 27,
    "start_time": "2023-09-25T06:22:24.660Z"
   },
   {
    "duration": 36,
    "start_time": "2023-09-25T06:22:24.688Z"
   },
   {
    "duration": 25,
    "start_time": "2023-09-25T06:22:24.726Z"
   },
   {
    "duration": 44,
    "start_time": "2023-09-25T06:22:24.753Z"
   },
   {
    "duration": 9,
    "start_time": "2023-09-25T06:22:24.799Z"
   },
   {
    "duration": 4,
    "start_time": "2023-09-25T06:22:24.809Z"
   },
   {
    "duration": 15,
    "start_time": "2023-09-25T06:22:24.814Z"
   },
   {
    "duration": 36,
    "start_time": "2023-09-25T06:22:24.830Z"
   },
   {
    "duration": 15,
    "start_time": "2023-09-25T06:22:24.867Z"
   },
   {
    "duration": 3,
    "start_time": "2023-09-25T06:22:24.884Z"
   },
   {
    "duration": 22,
    "start_time": "2023-09-25T06:22:24.888Z"
   },
   {
    "duration": 10,
    "start_time": "2023-09-25T06:22:24.911Z"
   },
   {
    "duration": 24,
    "start_time": "2023-09-25T06:22:24.922Z"
   },
   {
    "duration": 21,
    "start_time": "2023-09-25T06:22:24.948Z"
   },
   {
    "duration": 10,
    "start_time": "2023-09-25T06:22:24.971Z"
   },
   {
    "duration": 19,
    "start_time": "2023-09-25T06:22:24.983Z"
   },
   {
    "duration": 4,
    "start_time": "2023-09-25T06:22:25.003Z"
   },
   {
    "duration": 14,
    "start_time": "2023-09-25T06:22:25.008Z"
   },
   {
    "duration": 473,
    "start_time": "2023-09-25T06:23:10.338Z"
   },
   {
    "duration": 20,
    "start_time": "2023-09-25T06:23:10.813Z"
   },
   {
    "duration": 30,
    "start_time": "2023-09-25T06:23:10.834Z"
   },
   {
    "duration": 34,
    "start_time": "2023-09-25T06:23:10.866Z"
   },
   {
    "duration": 32,
    "start_time": "2023-09-25T06:23:10.901Z"
   },
   {
    "duration": 3,
    "start_time": "2023-09-25T06:23:10.934Z"
   },
   {
    "duration": 37,
    "start_time": "2023-09-25T06:23:10.939Z"
   },
   {
    "duration": 16,
    "start_time": "2023-09-25T06:23:10.977Z"
   },
   {
    "duration": 19,
    "start_time": "2023-09-25T06:23:10.994Z"
   },
   {
    "duration": 26,
    "start_time": "2023-09-25T06:23:11.015Z"
   },
   {
    "duration": 39,
    "start_time": "2023-09-25T06:23:11.042Z"
   },
   {
    "duration": 9,
    "start_time": "2023-09-25T06:23:11.082Z"
   },
   {
    "duration": 3,
    "start_time": "2023-09-25T06:23:11.093Z"
   },
   {
    "duration": 15,
    "start_time": "2023-09-25T06:23:11.097Z"
   },
   {
    "duration": 36,
    "start_time": "2023-09-25T06:23:11.113Z"
   },
   {
    "duration": 14,
    "start_time": "2023-09-25T06:23:11.151Z"
   },
   {
    "duration": 6,
    "start_time": "2023-09-25T06:23:11.166Z"
   },
   {
    "duration": 19,
    "start_time": "2023-09-25T06:23:11.174Z"
   },
   {
    "duration": 8,
    "start_time": "2023-09-25T06:23:11.195Z"
   },
   {
    "duration": 8,
    "start_time": "2023-09-25T06:23:11.204Z"
   },
   {
    "duration": 16,
    "start_time": "2023-09-25T06:23:11.213Z"
   },
   {
    "duration": 32,
    "start_time": "2023-09-25T06:23:11.230Z"
   },
   {
    "duration": 33,
    "start_time": "2023-09-25T06:23:11.263Z"
   },
   {
    "duration": 13,
    "start_time": "2023-09-25T06:23:11.298Z"
   },
   {
    "duration": 30,
    "start_time": "2023-09-25T06:23:11.312Z"
   },
   {
    "duration": 488,
    "start_time": "2023-09-25T06:23:40.817Z"
   },
   {
    "duration": 20,
    "start_time": "2023-09-25T06:23:41.307Z"
   },
   {
    "duration": 14,
    "start_time": "2023-09-25T06:23:41.328Z"
   },
   {
    "duration": 12,
    "start_time": "2023-09-25T06:23:41.344Z"
   },
   {
    "duration": 32,
    "start_time": "2023-09-25T06:23:41.357Z"
   },
   {
    "duration": 3,
    "start_time": "2023-09-25T06:23:41.390Z"
   },
   {
    "duration": 11,
    "start_time": "2023-09-25T06:23:41.394Z"
   },
   {
    "duration": 3,
    "start_time": "2023-09-25T06:23:41.406Z"
   },
   {
    "duration": 9,
    "start_time": "2023-09-25T06:23:41.410Z"
   },
   {
    "duration": 4,
    "start_time": "2023-09-25T06:23:41.421Z"
   },
   {
    "duration": 42,
    "start_time": "2023-09-25T06:23:41.449Z"
   },
   {
    "duration": 9,
    "start_time": "2023-09-25T06:23:41.493Z"
   },
   {
    "duration": 4,
    "start_time": "2023-09-25T06:23:41.503Z"
   },
   {
    "duration": 44,
    "start_time": "2023-09-25T06:23:41.508Z"
   },
   {
    "duration": 41,
    "start_time": "2023-09-25T06:23:41.554Z"
   },
   {
    "duration": 26,
    "start_time": "2023-09-25T06:23:41.596Z"
   },
   {
    "duration": 3,
    "start_time": "2023-09-25T06:23:41.624Z"
   },
   {
    "duration": 17,
    "start_time": "2023-09-25T06:23:41.628Z"
   },
   {
    "duration": 6,
    "start_time": "2023-09-25T06:23:41.647Z"
   },
   {
    "duration": 6,
    "start_time": "2023-09-25T06:23:41.654Z"
   },
   {
    "duration": 9,
    "start_time": "2023-09-25T06:23:41.662Z"
   },
   {
    "duration": 11,
    "start_time": "2023-09-25T06:23:41.672Z"
   },
   {
    "duration": 12,
    "start_time": "2023-09-25T06:23:41.684Z"
   },
   {
    "duration": 24,
    "start_time": "2023-09-25T06:23:41.697Z"
   },
   {
    "duration": 16,
    "start_time": "2023-09-25T06:23:41.723Z"
   },
   {
    "duration": 461,
    "start_time": "2023-09-25T06:38:25.792Z"
   },
   {
    "duration": 23,
    "start_time": "2023-09-25T06:38:26.254Z"
   },
   {
    "duration": 16,
    "start_time": "2023-09-25T06:38:26.278Z"
   },
   {
    "duration": 17,
    "start_time": "2023-09-25T06:38:26.297Z"
   },
   {
    "duration": 47,
    "start_time": "2023-09-25T06:38:26.316Z"
   },
   {
    "duration": 6,
    "start_time": "2023-09-25T06:38:26.364Z"
   },
   {
    "duration": 25,
    "start_time": "2023-09-25T06:38:26.371Z"
   },
   {
    "duration": 38,
    "start_time": "2023-09-25T06:38:26.398Z"
   },
   {
    "duration": 34,
    "start_time": "2023-09-25T06:38:26.437Z"
   },
   {
    "duration": 19,
    "start_time": "2023-09-25T06:38:26.474Z"
   },
   {
    "duration": 53,
    "start_time": "2023-09-25T06:38:26.495Z"
   },
   {
    "duration": 10,
    "start_time": "2023-09-25T06:38:26.550Z"
   },
   {
    "duration": 36,
    "start_time": "2023-09-25T06:38:26.562Z"
   },
   {
    "duration": 29,
    "start_time": "2023-09-25T06:38:26.600Z"
   },
   {
    "duration": 52,
    "start_time": "2023-09-25T06:38:26.631Z"
   },
   {
    "duration": 17,
    "start_time": "2023-09-25T06:38:26.685Z"
   },
   {
    "duration": 4,
    "start_time": "2023-09-25T06:38:26.703Z"
   },
   {
    "duration": 25,
    "start_time": "2023-09-25T06:38:26.708Z"
   },
   {
    "duration": 9,
    "start_time": "2023-09-25T06:38:26.734Z"
   },
   {
    "duration": 17,
    "start_time": "2023-09-25T06:38:26.744Z"
   },
   {
    "duration": 21,
    "start_time": "2023-09-25T06:38:26.762Z"
   },
   {
    "duration": 10,
    "start_time": "2023-09-25T06:38:26.784Z"
   },
   {
    "duration": 20,
    "start_time": "2023-09-25T06:38:26.796Z"
   },
   {
    "duration": 20,
    "start_time": "2023-09-25T06:38:26.817Z"
   },
   {
    "duration": 23,
    "start_time": "2023-09-25T06:38:26.838Z"
   },
   {
    "duration": 437,
    "start_time": "2023-09-25T06:41:02.975Z"
   },
   {
    "duration": 19,
    "start_time": "2023-09-25T06:41:03.414Z"
   },
   {
    "duration": 13,
    "start_time": "2023-09-25T06:41:03.434Z"
   },
   {
    "duration": 18,
    "start_time": "2023-09-25T06:41:03.449Z"
   },
   {
    "duration": 33,
    "start_time": "2023-09-25T06:41:03.468Z"
   },
   {
    "duration": 2,
    "start_time": "2023-09-25T06:41:03.503Z"
   },
   {
    "duration": 15,
    "start_time": "2023-09-25T06:41:03.507Z"
   },
   {
    "duration": 9,
    "start_time": "2023-09-25T06:41:03.523Z"
   },
   {
    "duration": 12,
    "start_time": "2023-09-25T06:41:03.533Z"
   },
   {
    "duration": 4,
    "start_time": "2023-09-25T06:41:03.548Z"
   },
   {
    "duration": 32,
    "start_time": "2023-09-25T06:41:03.553Z"
   },
   {
    "duration": 9,
    "start_time": "2023-09-25T06:41:03.587Z"
   },
   {
    "duration": 19,
    "start_time": "2023-09-25T06:41:03.597Z"
   },
   {
    "duration": 25,
    "start_time": "2023-09-25T06:41:03.617Z"
   },
   {
    "duration": 22,
    "start_time": "2023-09-25T06:41:03.643Z"
   },
   {
    "duration": 15,
    "start_time": "2023-09-25T06:41:03.667Z"
   },
   {
    "duration": 3,
    "start_time": "2023-09-25T06:41:03.683Z"
   },
   {
    "duration": 11,
    "start_time": "2023-09-25T06:41:03.688Z"
   },
   {
    "duration": 5,
    "start_time": "2023-09-25T06:41:03.700Z"
   },
   {
    "duration": 8,
    "start_time": "2023-09-25T06:41:03.706Z"
   },
   {
    "duration": 12,
    "start_time": "2023-09-25T06:41:03.715Z"
   },
   {
    "duration": 24,
    "start_time": "2023-09-25T06:41:03.729Z"
   },
   {
    "duration": 14,
    "start_time": "2023-09-25T06:41:03.755Z"
   },
   {
    "duration": 65,
    "start_time": "2023-09-25T06:41:03.770Z"
   },
   {
    "duration": 0,
    "start_time": "2023-09-25T06:41:03.837Z"
   },
   {
    "duration": 459,
    "start_time": "2023-09-25T06:41:27.168Z"
   },
   {
    "duration": 21,
    "start_time": "2023-09-25T06:41:27.629Z"
   },
   {
    "duration": 17,
    "start_time": "2023-09-25T06:41:27.652Z"
   },
   {
    "duration": 24,
    "start_time": "2023-09-25T06:41:27.672Z"
   },
   {
    "duration": 39,
    "start_time": "2023-09-25T06:41:27.697Z"
   },
   {
    "duration": 4,
    "start_time": "2023-09-25T06:41:27.737Z"
   },
   {
    "duration": 42,
    "start_time": "2023-09-25T06:41:27.750Z"
   },
   {
    "duration": 20,
    "start_time": "2023-09-25T06:41:27.794Z"
   },
   {
    "duration": 20,
    "start_time": "2023-09-25T06:41:27.815Z"
   },
   {
    "duration": 17,
    "start_time": "2023-09-25T06:41:27.837Z"
   },
   {
    "duration": 47,
    "start_time": "2023-09-25T06:41:27.855Z"
   },
   {
    "duration": 24,
    "start_time": "2023-09-25T06:41:27.903Z"
   },
   {
    "duration": 23,
    "start_time": "2023-09-25T06:41:27.928Z"
   },
   {
    "duration": 34,
    "start_time": "2023-09-25T06:41:27.953Z"
   },
   {
    "duration": 30,
    "start_time": "2023-09-25T06:41:27.989Z"
   },
   {
    "duration": 30,
    "start_time": "2023-09-25T06:41:28.021Z"
   },
   {
    "duration": 4,
    "start_time": "2023-09-25T06:41:28.053Z"
   },
   {
    "duration": 38,
    "start_time": "2023-09-25T06:41:28.059Z"
   },
   {
    "duration": 14,
    "start_time": "2023-09-25T06:41:28.099Z"
   },
   {
    "duration": 9,
    "start_time": "2023-09-25T06:41:28.115Z"
   },
   {
    "duration": 18,
    "start_time": "2023-09-25T06:41:28.126Z"
   },
   {
    "duration": 14,
    "start_time": "2023-09-25T06:41:28.145Z"
   },
   {
    "duration": 18,
    "start_time": "2023-09-25T06:41:28.160Z"
   },
   {
    "duration": 72,
    "start_time": "2023-09-25T06:41:28.179Z"
   },
   {
    "duration": 0,
    "start_time": "2023-09-25T06:41:28.252Z"
   },
   {
    "duration": 490,
    "start_time": "2023-09-25T06:42:01.132Z"
   },
   {
    "duration": 21,
    "start_time": "2023-09-25T06:42:01.624Z"
   },
   {
    "duration": 40,
    "start_time": "2023-09-25T06:42:01.647Z"
   },
   {
    "duration": 42,
    "start_time": "2023-09-25T06:42:01.689Z"
   },
   {
    "duration": 89,
    "start_time": "2023-09-25T06:42:01.733Z"
   },
   {
    "duration": 7,
    "start_time": "2023-09-25T06:42:01.824Z"
   },
   {
    "duration": 53,
    "start_time": "2023-09-25T06:42:01.832Z"
   },
   {
    "duration": 78,
    "start_time": "2023-09-25T06:42:01.887Z"
   },
   {
    "duration": 73,
    "start_time": "2023-09-25T06:42:01.967Z"
   },
   {
    "duration": 79,
    "start_time": "2023-09-25T06:42:02.042Z"
   },
   {
    "duration": 121,
    "start_time": "2023-09-25T06:42:02.122Z"
   },
   {
    "duration": 41,
    "start_time": "2023-09-25T06:42:02.244Z"
   },
   {
    "duration": 48,
    "start_time": "2023-09-25T06:42:02.286Z"
   },
   {
    "duration": 60,
    "start_time": "2023-09-25T06:42:02.335Z"
   },
   {
    "duration": 158,
    "start_time": "2023-09-25T06:42:02.396Z"
   },
   {
    "duration": 21,
    "start_time": "2023-09-25T06:42:02.555Z"
   },
   {
    "duration": 57,
    "start_time": "2023-09-25T06:42:02.577Z"
   },
   {
    "duration": 44,
    "start_time": "2023-09-25T06:42:02.635Z"
   },
   {
    "duration": 21,
    "start_time": "2023-09-25T06:42:02.681Z"
   },
   {
    "duration": 57,
    "start_time": "2023-09-25T06:42:02.703Z"
   },
   {
    "duration": 19,
    "start_time": "2023-09-25T06:42:02.762Z"
   },
   {
    "duration": 21,
    "start_time": "2023-09-25T06:42:02.783Z"
   },
   {
    "duration": 27,
    "start_time": "2023-09-25T06:42:02.806Z"
   },
   {
    "duration": 64,
    "start_time": "2023-09-25T06:42:02.834Z"
   },
   {
    "duration": 0,
    "start_time": "2023-09-25T06:42:02.899Z"
   },
   {
    "duration": 469,
    "start_time": "2023-09-25T06:45:29.574Z"
   },
   {
    "duration": 22,
    "start_time": "2023-09-25T06:45:30.045Z"
   },
   {
    "duration": 28,
    "start_time": "2023-09-25T06:45:30.069Z"
   },
   {
    "duration": 35,
    "start_time": "2023-09-25T06:45:30.099Z"
   },
   {
    "duration": 59,
    "start_time": "2023-09-25T06:45:30.136Z"
   },
   {
    "duration": 10,
    "start_time": "2023-09-25T06:45:30.196Z"
   },
   {
    "duration": 34,
    "start_time": "2023-09-25T06:45:30.208Z"
   },
   {
    "duration": 42,
    "start_time": "2023-09-25T06:45:30.244Z"
   },
   {
    "duration": 43,
    "start_time": "2023-09-25T06:45:30.287Z"
   },
   {
    "duration": 44,
    "start_time": "2023-09-25T06:45:30.332Z"
   },
   {
    "duration": 62,
    "start_time": "2023-09-25T06:45:30.378Z"
   },
   {
    "duration": 16,
    "start_time": "2023-09-25T06:45:30.442Z"
   },
   {
    "duration": 22,
    "start_time": "2023-09-25T06:45:30.460Z"
   },
   {
    "duration": 66,
    "start_time": "2023-09-25T06:45:30.484Z"
   },
   {
    "duration": 54,
    "start_time": "2023-09-25T06:45:30.552Z"
   },
   {
    "duration": 40,
    "start_time": "2023-09-25T06:45:30.608Z"
   },
   {
    "duration": 31,
    "start_time": "2023-09-25T06:45:30.650Z"
   },
   {
    "duration": 69,
    "start_time": "2023-09-25T06:45:30.683Z"
   },
   {
    "duration": 47,
    "start_time": "2023-09-25T06:45:30.753Z"
   },
   {
    "duration": 62,
    "start_time": "2023-09-25T06:45:30.801Z"
   },
   {
    "duration": 54,
    "start_time": "2023-09-25T06:45:30.865Z"
   },
   {
    "duration": 57,
    "start_time": "2023-09-25T06:45:30.921Z"
   },
   {
    "duration": 49,
    "start_time": "2023-09-25T06:45:30.980Z"
   },
   {
    "duration": 119,
    "start_time": "2023-09-25T06:45:31.031Z"
   },
   {
    "duration": 0,
    "start_time": "2023-09-25T06:45:31.152Z"
   },
   {
    "duration": 480,
    "start_time": "2023-09-25T06:46:03.650Z"
   },
   {
    "duration": 21,
    "start_time": "2023-09-25T06:46:04.132Z"
   },
   {
    "duration": 27,
    "start_time": "2023-09-25T06:46:04.154Z"
   },
   {
    "duration": 21,
    "start_time": "2023-09-25T06:46:04.183Z"
   },
   {
    "duration": 55,
    "start_time": "2023-09-25T06:46:04.205Z"
   },
   {
    "duration": 3,
    "start_time": "2023-09-25T06:46:04.261Z"
   },
   {
    "duration": 32,
    "start_time": "2023-09-25T06:46:04.265Z"
   },
   {
    "duration": 14,
    "start_time": "2023-09-25T06:46:04.299Z"
   },
   {
    "duration": 26,
    "start_time": "2023-09-25T06:46:04.315Z"
   },
   {
    "duration": 23,
    "start_time": "2023-09-25T06:46:04.344Z"
   },
   {
    "duration": 41,
    "start_time": "2023-09-25T06:46:04.368Z"
   },
   {
    "duration": 11,
    "start_time": "2023-09-25T06:46:04.410Z"
   },
   {
    "duration": 19,
    "start_time": "2023-09-25T06:46:04.423Z"
   },
   {
    "duration": 24,
    "start_time": "2023-09-25T06:46:04.444Z"
   },
   {
    "duration": 25,
    "start_time": "2023-09-25T06:46:04.470Z"
   },
   {
    "duration": 16,
    "start_time": "2023-09-25T06:46:04.497Z"
   },
   {
    "duration": 4,
    "start_time": "2023-09-25T06:46:04.515Z"
   },
   {
    "duration": 13,
    "start_time": "2023-09-25T06:46:04.521Z"
   },
   {
    "duration": 17,
    "start_time": "2023-09-25T06:46:04.535Z"
   },
   {
    "duration": 4,
    "start_time": "2023-09-25T06:46:04.554Z"
   },
   {
    "duration": 24,
    "start_time": "2023-09-25T06:46:04.560Z"
   },
   {
    "duration": 7,
    "start_time": "2023-09-25T06:46:04.586Z"
   },
   {
    "duration": 9,
    "start_time": "2023-09-25T06:46:04.595Z"
   },
   {
    "duration": 1753,
    "start_time": "2023-09-25T06:46:04.606Z"
   },
   {
    "duration": 0,
    "start_time": "2023-09-25T06:46:06.360Z"
   },
   {
    "duration": 490,
    "start_time": "2023-09-25T06:46:22.822Z"
   },
   {
    "duration": 19,
    "start_time": "2023-09-25T06:46:23.314Z"
   },
   {
    "duration": 40,
    "start_time": "2023-09-25T06:46:23.334Z"
   },
   {
    "duration": 10,
    "start_time": "2023-09-25T06:46:23.376Z"
   },
   {
    "duration": 46,
    "start_time": "2023-09-25T06:46:23.388Z"
   },
   {
    "duration": 4,
    "start_time": "2023-09-25T06:46:23.435Z"
   },
   {
    "duration": 15,
    "start_time": "2023-09-25T06:46:23.441Z"
   },
   {
    "duration": 13,
    "start_time": "2023-09-25T06:46:23.457Z"
   },
   {
    "duration": 22,
    "start_time": "2023-09-25T06:46:23.472Z"
   },
   {
    "duration": 16,
    "start_time": "2023-09-25T06:46:23.498Z"
   },
   {
    "duration": 41,
    "start_time": "2023-09-25T06:46:23.515Z"
   },
   {
    "duration": 9,
    "start_time": "2023-09-25T06:46:23.557Z"
   },
   {
    "duration": 16,
    "start_time": "2023-09-25T06:46:23.567Z"
   },
   {
    "duration": 23,
    "start_time": "2023-09-25T06:46:23.585Z"
   },
   {
    "duration": 35,
    "start_time": "2023-09-25T06:46:23.609Z"
   },
   {
    "duration": 16,
    "start_time": "2023-09-25T06:46:23.645Z"
   },
   {
    "duration": 7,
    "start_time": "2023-09-25T06:46:23.663Z"
   },
   {
    "duration": 49,
    "start_time": "2023-09-25T06:46:23.671Z"
   },
   {
    "duration": 22,
    "start_time": "2023-09-25T06:46:23.722Z"
   },
   {
    "duration": 31,
    "start_time": "2023-09-25T06:46:23.745Z"
   },
   {
    "duration": 11,
    "start_time": "2023-09-25T06:46:23.777Z"
   },
   {
    "duration": 17,
    "start_time": "2023-09-25T06:46:23.790Z"
   },
   {
    "duration": 18,
    "start_time": "2023-09-25T06:46:23.809Z"
   },
   {
    "duration": 10,
    "start_time": "2023-09-25T06:46:23.828Z"
   },
   {
    "duration": 7,
    "start_time": "2023-09-25T06:46:23.840Z"
   },
   {
    "duration": 483,
    "start_time": "2023-09-25T06:47:00.046Z"
   },
   {
    "duration": 21,
    "start_time": "2023-09-25T06:47:00.531Z"
   },
   {
    "duration": 45,
    "start_time": "2023-09-25T06:47:00.553Z"
   },
   {
    "duration": 37,
    "start_time": "2023-09-25T06:47:00.600Z"
   },
   {
    "duration": 74,
    "start_time": "2023-09-25T06:47:00.639Z"
   },
   {
    "duration": 21,
    "start_time": "2023-09-25T06:47:00.715Z"
   },
   {
    "duration": 42,
    "start_time": "2023-09-25T06:47:00.738Z"
   },
   {
    "duration": 43,
    "start_time": "2023-09-25T06:47:00.782Z"
   },
   {
    "duration": 48,
    "start_time": "2023-09-25T06:47:00.827Z"
   },
   {
    "duration": 41,
    "start_time": "2023-09-25T06:47:00.878Z"
   },
   {
    "duration": 71,
    "start_time": "2023-09-25T06:47:00.920Z"
   },
   {
    "duration": 33,
    "start_time": "2023-09-25T06:47:00.992Z"
   },
   {
    "duration": 46,
    "start_time": "2023-09-25T06:47:01.026Z"
   },
   {
    "duration": 62,
    "start_time": "2023-09-25T06:47:01.073Z"
   },
   {
    "duration": 59,
    "start_time": "2023-09-25T06:47:01.137Z"
   },
   {
    "duration": 38,
    "start_time": "2023-09-25T06:47:01.198Z"
   },
   {
    "duration": 29,
    "start_time": "2023-09-25T06:47:01.238Z"
   },
   {
    "duration": 93,
    "start_time": "2023-09-25T06:47:01.269Z"
   },
   {
    "duration": 58,
    "start_time": "2023-09-25T06:47:01.364Z"
   },
   {
    "duration": 54,
    "start_time": "2023-09-25T06:47:01.424Z"
   },
   {
    "duration": 60,
    "start_time": "2023-09-25T06:47:01.479Z"
   },
   {
    "duration": 90,
    "start_time": "2023-09-25T06:47:01.540Z"
   },
   {
    "duration": 101,
    "start_time": "2023-09-25T06:47:01.631Z"
   },
   {
    "duration": 51,
    "start_time": "2023-09-25T06:47:01.733Z"
   },
   {
    "duration": 39,
    "start_time": "2023-09-25T06:47:01.786Z"
   },
   {
    "duration": 487,
    "start_time": "2023-09-25T06:48:03.728Z"
   },
   {
    "duration": 24,
    "start_time": "2023-09-25T06:48:04.217Z"
   },
   {
    "duration": 17,
    "start_time": "2023-09-25T06:48:04.243Z"
   },
   {
    "duration": 23,
    "start_time": "2023-09-25T06:48:04.263Z"
   },
   {
    "duration": 36,
    "start_time": "2023-09-25T06:48:04.288Z"
   },
   {
    "duration": 3,
    "start_time": "2023-09-25T06:48:04.325Z"
   },
   {
    "duration": 17,
    "start_time": "2023-09-25T06:48:04.330Z"
   },
   {
    "duration": 4,
    "start_time": "2023-09-25T06:48:04.349Z"
   },
   {
    "duration": 20,
    "start_time": "2023-09-25T06:48:04.355Z"
   },
   {
    "duration": 11,
    "start_time": "2023-09-25T06:48:04.378Z"
   },
   {
    "duration": 47,
    "start_time": "2023-09-25T06:48:04.391Z"
   },
   {
    "duration": 12,
    "start_time": "2023-09-25T06:48:04.440Z"
   },
   {
    "duration": 46,
    "start_time": "2023-09-25T06:48:04.454Z"
   },
   {
    "duration": 35,
    "start_time": "2023-09-25T06:48:04.502Z"
   },
   {
    "duration": 44,
    "start_time": "2023-09-25T06:48:04.539Z"
   },
   {
    "duration": 25,
    "start_time": "2023-09-25T06:48:04.585Z"
   },
   {
    "duration": 26,
    "start_time": "2023-09-25T06:48:04.611Z"
   },
   {
    "duration": 54,
    "start_time": "2023-09-25T06:48:04.639Z"
   },
   {
    "duration": 41,
    "start_time": "2023-09-25T06:48:04.695Z"
   },
   {
    "duration": 16,
    "start_time": "2023-09-25T06:48:04.738Z"
   },
   {
    "duration": 42,
    "start_time": "2023-09-25T06:48:04.755Z"
   },
   {
    "duration": 13,
    "start_time": "2023-09-25T06:48:04.799Z"
   },
   {
    "duration": 18,
    "start_time": "2023-09-25T06:48:04.814Z"
   },
   {
    "duration": 53,
    "start_time": "2023-09-25T06:48:04.834Z"
   },
   {
    "duration": 37,
    "start_time": "2023-09-25T06:48:04.888Z"
   },
   {
    "duration": 530,
    "start_time": "2023-09-25T06:48:32.127Z"
   },
   {
    "duration": 22,
    "start_time": "2023-09-25T06:48:32.658Z"
   },
   {
    "duration": 23,
    "start_time": "2023-09-25T06:48:32.682Z"
   },
   {
    "duration": 13,
    "start_time": "2023-09-25T06:48:32.707Z"
   },
   {
    "duration": 65,
    "start_time": "2023-09-25T06:48:32.722Z"
   },
   {
    "duration": 3,
    "start_time": "2023-09-25T06:48:32.789Z"
   },
   {
    "duration": 30,
    "start_time": "2023-09-25T06:48:32.793Z"
   },
   {
    "duration": 38,
    "start_time": "2023-09-25T06:48:32.824Z"
   },
   {
    "duration": 22,
    "start_time": "2023-09-25T06:48:32.864Z"
   },
   {
    "duration": 31,
    "start_time": "2023-09-25T06:48:32.889Z"
   },
   {
    "duration": 46,
    "start_time": "2023-09-25T06:48:32.922Z"
   },
   {
    "duration": 12,
    "start_time": "2023-09-25T06:48:32.970Z"
   },
   {
    "duration": 29,
    "start_time": "2023-09-25T06:48:32.984Z"
   },
   {
    "duration": 20,
    "start_time": "2023-09-25T06:48:33.015Z"
   },
   {
    "duration": 37,
    "start_time": "2023-09-25T06:48:33.036Z"
   },
   {
    "duration": 27,
    "start_time": "2023-09-25T06:48:33.075Z"
   },
   {
    "duration": 3,
    "start_time": "2023-09-25T06:48:33.104Z"
   },
   {
    "duration": 27,
    "start_time": "2023-09-25T06:48:33.108Z"
   },
   {
    "duration": 22,
    "start_time": "2023-09-25T06:48:33.136Z"
   },
   {
    "duration": 3,
    "start_time": "2023-09-25T06:48:33.159Z"
   },
   {
    "duration": 32,
    "start_time": "2023-09-25T06:48:33.163Z"
   },
   {
    "duration": 22,
    "start_time": "2023-09-25T06:48:33.196Z"
   },
   {
    "duration": 13,
    "start_time": "2023-09-25T06:48:33.220Z"
   },
   {
    "duration": 70,
    "start_time": "2023-09-25T06:48:33.234Z"
   },
   {
    "duration": 0,
    "start_time": "2023-09-25T06:48:33.305Z"
   },
   {
    "duration": 418,
    "start_time": "2023-09-25T06:48:46.106Z"
   },
   {
    "duration": 20,
    "start_time": "2023-09-25T06:48:46.526Z"
   },
   {
    "duration": 14,
    "start_time": "2023-09-25T06:48:46.550Z"
   },
   {
    "duration": 24,
    "start_time": "2023-09-25T06:48:46.566Z"
   },
   {
    "duration": 41,
    "start_time": "2023-09-25T06:48:46.591Z"
   },
   {
    "duration": 4,
    "start_time": "2023-09-25T06:48:46.634Z"
   },
   {
    "duration": 22,
    "start_time": "2023-09-25T06:48:46.649Z"
   },
   {
    "duration": 9,
    "start_time": "2023-09-25T06:48:46.673Z"
   },
   {
    "duration": 8,
    "start_time": "2023-09-25T06:48:46.685Z"
   },
   {
    "duration": 15,
    "start_time": "2023-09-25T06:48:46.694Z"
   },
   {
    "duration": 47,
    "start_time": "2023-09-25T06:48:46.710Z"
   },
   {
    "duration": 13,
    "start_time": "2023-09-25T06:48:46.759Z"
   },
   {
    "duration": 6,
    "start_time": "2023-09-25T06:48:46.774Z"
   },
   {
    "duration": 20,
    "start_time": "2023-09-25T06:48:46.782Z"
   },
   {
    "duration": 34,
    "start_time": "2023-09-25T06:48:46.803Z"
   },
   {
    "duration": 25,
    "start_time": "2023-09-25T06:48:46.838Z"
   },
   {
    "duration": 3,
    "start_time": "2023-09-25T06:48:46.865Z"
   },
   {
    "duration": 46,
    "start_time": "2023-09-25T06:48:46.869Z"
   },
   {
    "duration": 6,
    "start_time": "2023-09-25T06:48:46.916Z"
   },
   {
    "duration": 5,
    "start_time": "2023-09-25T06:48:46.923Z"
   },
   {
    "duration": 34,
    "start_time": "2023-09-25T06:48:46.929Z"
   },
   {
    "duration": 22,
    "start_time": "2023-09-25T06:48:46.964Z"
   },
   {
    "duration": 36,
    "start_time": "2023-09-25T06:48:46.987Z"
   },
   {
    "duration": 15,
    "start_time": "2023-09-25T06:48:47.024Z"
   },
   {
    "duration": 11,
    "start_time": "2023-09-25T06:48:47.040Z"
   },
   {
    "duration": 477,
    "start_time": "2023-09-25T07:01:16.610Z"
   },
   {
    "duration": 21,
    "start_time": "2023-09-25T07:01:17.088Z"
   },
   {
    "duration": 15,
    "start_time": "2023-09-25T07:01:17.110Z"
   },
   {
    "duration": 23,
    "start_time": "2023-09-25T07:01:17.127Z"
   },
   {
    "duration": 38,
    "start_time": "2023-09-25T07:01:17.152Z"
   },
   {
    "duration": 4,
    "start_time": "2023-09-25T07:01:17.191Z"
   },
   {
    "duration": 11,
    "start_time": "2023-09-25T07:01:17.196Z"
   },
   {
    "duration": 14,
    "start_time": "2023-09-25T07:01:17.208Z"
   },
   {
    "duration": 8,
    "start_time": "2023-09-25T07:01:17.224Z"
   },
   {
    "duration": 16,
    "start_time": "2023-09-25T07:01:17.236Z"
   },
   {
    "duration": 56,
    "start_time": "2023-09-25T07:01:17.254Z"
   },
   {
    "duration": 9,
    "start_time": "2023-09-25T07:01:17.312Z"
   },
   {
    "duration": 21,
    "start_time": "2023-09-25T07:01:17.322Z"
   },
   {
    "duration": 18,
    "start_time": "2023-09-25T07:01:17.345Z"
   },
   {
    "duration": 23,
    "start_time": "2023-09-25T07:01:17.364Z"
   },
   {
    "duration": 17,
    "start_time": "2023-09-25T07:01:17.388Z"
   },
   {
    "duration": 4,
    "start_time": "2023-09-25T07:01:17.406Z"
   },
   {
    "duration": 20,
    "start_time": "2023-09-25T07:01:17.411Z"
   },
   {
    "duration": 27,
    "start_time": "2023-09-25T07:01:17.432Z"
   },
   {
    "duration": 20,
    "start_time": "2023-09-25T07:01:17.461Z"
   },
   {
    "duration": 21,
    "start_time": "2023-09-25T07:01:17.483Z"
   },
   {
    "duration": 16,
    "start_time": "2023-09-25T07:01:17.505Z"
   },
   {
    "duration": 9,
    "start_time": "2023-09-25T07:01:17.522Z"
   },
   {
    "duration": 11,
    "start_time": "2023-09-25T07:01:17.532Z"
   },
   {
    "duration": 12,
    "start_time": "2023-09-25T07:01:17.544Z"
   },
   {
    "duration": 501,
    "start_time": "2023-09-25T07:02:09.329Z"
   },
   {
    "duration": 21,
    "start_time": "2023-09-25T07:02:09.832Z"
   },
   {
    "duration": 14,
    "start_time": "2023-09-25T07:02:09.854Z"
   },
   {
    "duration": 28,
    "start_time": "2023-09-25T07:02:09.870Z"
   },
   {
    "duration": 42,
    "start_time": "2023-09-25T07:02:09.899Z"
   },
   {
    "duration": 4,
    "start_time": "2023-09-25T07:02:09.943Z"
   },
   {
    "duration": 18,
    "start_time": "2023-09-25T07:02:09.948Z"
   },
   {
    "duration": 5,
    "start_time": "2023-09-25T07:02:09.968Z"
   },
   {
    "duration": 19,
    "start_time": "2023-09-25T07:02:09.975Z"
   },
   {
    "duration": 4,
    "start_time": "2023-09-25T07:02:09.996Z"
   },
   {
    "duration": 36,
    "start_time": "2023-09-25T07:02:10.001Z"
   },
   {
    "duration": 11,
    "start_time": "2023-09-25T07:02:10.039Z"
   },
   {
    "duration": 48,
    "start_time": "2023-09-25T07:02:10.052Z"
   },
   {
    "duration": 30,
    "start_time": "2023-09-25T07:02:10.102Z"
   },
   {
    "duration": 33,
    "start_time": "2023-09-25T07:02:10.133Z"
   },
   {
    "duration": 16,
    "start_time": "2023-09-25T07:02:10.168Z"
   },
   {
    "duration": 4,
    "start_time": "2023-09-25T07:02:10.185Z"
   },
   {
    "duration": 16,
    "start_time": "2023-09-25T07:02:10.190Z"
   },
   {
    "duration": 21,
    "start_time": "2023-09-25T07:02:10.207Z"
   },
   {
    "duration": 18,
    "start_time": "2023-09-25T07:02:10.230Z"
   },
   {
    "duration": 18,
    "start_time": "2023-09-25T07:02:10.249Z"
   },
   {
    "duration": 21,
    "start_time": "2023-09-25T07:02:10.268Z"
   },
   {
    "duration": 31,
    "start_time": "2023-09-25T07:02:10.290Z"
   },
   {
    "duration": 38,
    "start_time": "2023-09-25T07:02:10.323Z"
   },
   {
    "duration": 41,
    "start_time": "2023-09-25T07:02:10.363Z"
   },
   {
    "duration": 488,
    "start_time": "2023-09-25T07:02:34.731Z"
   },
   {
    "duration": 21,
    "start_time": "2023-09-25T07:02:35.221Z"
   },
   {
    "duration": 27,
    "start_time": "2023-09-25T07:02:35.243Z"
   },
   {
    "duration": 37,
    "start_time": "2023-09-25T07:02:35.273Z"
   },
   {
    "duration": 36,
    "start_time": "2023-09-25T07:02:35.312Z"
   },
   {
    "duration": 3,
    "start_time": "2023-09-25T07:02:35.350Z"
   },
   {
    "duration": 24,
    "start_time": "2023-09-25T07:02:35.355Z"
   },
   {
    "duration": 14,
    "start_time": "2023-09-25T07:02:35.380Z"
   },
   {
    "duration": 43,
    "start_time": "2023-09-25T07:02:35.396Z"
   },
   {
    "duration": 27,
    "start_time": "2023-09-25T07:02:35.442Z"
   },
   {
    "duration": 57,
    "start_time": "2023-09-25T07:02:35.470Z"
   },
   {
    "duration": 10,
    "start_time": "2023-09-25T07:02:35.528Z"
   },
   {
    "duration": 44,
    "start_time": "2023-09-25T07:02:35.539Z"
   },
   {
    "duration": 23,
    "start_time": "2023-09-25T07:02:35.584Z"
   },
   {
    "duration": 35,
    "start_time": "2023-09-25T07:02:35.609Z"
   },
   {
    "duration": 15,
    "start_time": "2023-09-25T07:02:35.646Z"
   },
   {
    "duration": 3,
    "start_time": "2023-09-25T07:02:35.662Z"
   },
   {
    "duration": 18,
    "start_time": "2023-09-25T07:02:35.667Z"
   },
   {
    "duration": 10,
    "start_time": "2023-09-25T07:02:35.686Z"
   },
   {
    "duration": 16,
    "start_time": "2023-09-25T07:02:35.697Z"
   },
   {
    "duration": 14,
    "start_time": "2023-09-25T07:02:35.714Z"
   },
   {
    "duration": 18,
    "start_time": "2023-09-25T07:02:35.729Z"
   },
   {
    "duration": 31,
    "start_time": "2023-09-25T07:02:35.748Z"
   },
   {
    "duration": 16,
    "start_time": "2023-09-25T07:02:35.780Z"
   },
   {
    "duration": 22,
    "start_time": "2023-09-25T07:02:35.797Z"
   },
   {
    "duration": 449,
    "start_time": "2023-09-25T07:04:32.992Z"
   },
   {
    "duration": 22,
    "start_time": "2023-09-25T07:04:33.443Z"
   },
   {
    "duration": 16,
    "start_time": "2023-09-25T07:04:33.466Z"
   },
   {
    "duration": 12,
    "start_time": "2023-09-25T07:04:33.484Z"
   },
   {
    "duration": 62,
    "start_time": "2023-09-25T07:04:33.497Z"
   },
   {
    "duration": 4,
    "start_time": "2023-09-25T07:04:33.560Z"
   },
   {
    "duration": 20,
    "start_time": "2023-09-25T07:04:33.565Z"
   },
   {
    "duration": 48,
    "start_time": "2023-09-25T07:04:33.586Z"
   },
   {
    "duration": 16,
    "start_time": "2023-09-25T07:04:33.636Z"
   },
   {
    "duration": 13,
    "start_time": "2023-09-25T07:04:33.654Z"
   },
   {
    "duration": 58,
    "start_time": "2023-09-25T07:04:33.669Z"
   },
   {
    "duration": 9,
    "start_time": "2023-09-25T07:04:33.729Z"
   },
   {
    "duration": 13,
    "start_time": "2023-09-25T07:04:33.740Z"
   },
   {
    "duration": 23,
    "start_time": "2023-09-25T07:04:33.754Z"
   },
   {
    "duration": 23,
    "start_time": "2023-09-25T07:04:33.779Z"
   },
   {
    "duration": 17,
    "start_time": "2023-09-25T07:04:33.803Z"
   },
   {
    "duration": 6,
    "start_time": "2023-09-25T07:04:33.821Z"
   },
   {
    "duration": 16,
    "start_time": "2023-09-25T07:04:33.829Z"
   },
   {
    "duration": 7,
    "start_time": "2023-09-25T07:04:33.847Z"
   },
   {
    "duration": 9,
    "start_time": "2023-09-25T07:04:33.855Z"
   },
   {
    "duration": 20,
    "start_time": "2023-09-25T07:04:33.866Z"
   },
   {
    "duration": 16,
    "start_time": "2023-09-25T07:04:33.888Z"
   },
   {
    "duration": 13,
    "start_time": "2023-09-25T07:04:33.906Z"
   },
   {
    "duration": 20,
    "start_time": "2023-09-25T07:04:33.921Z"
   },
   {
    "duration": 20,
    "start_time": "2023-09-25T07:04:33.942Z"
   },
   {
    "duration": 492,
    "start_time": "2023-09-25T07:12:48.727Z"
   },
   {
    "duration": 21,
    "start_time": "2023-09-25T07:12:49.220Z"
   },
   {
    "duration": 72,
    "start_time": "2023-09-25T07:12:49.242Z"
   },
   {
    "duration": 74,
    "start_time": "2023-09-25T07:12:49.316Z"
   },
   {
    "duration": 43,
    "start_time": "2023-09-25T07:12:49.392Z"
   },
   {
    "duration": 3,
    "start_time": "2023-09-25T07:12:49.437Z"
   },
   {
    "duration": 25,
    "start_time": "2023-09-25T07:12:49.442Z"
   },
   {
    "duration": 7,
    "start_time": "2023-09-25T07:12:49.468Z"
   },
   {
    "duration": 9,
    "start_time": "2023-09-25T07:12:49.476Z"
   },
   {
    "duration": 4,
    "start_time": "2023-09-25T07:12:49.488Z"
   },
   {
    "duration": 34,
    "start_time": "2023-09-25T07:12:49.493Z"
   },
   {
    "duration": 10,
    "start_time": "2023-09-25T07:12:49.528Z"
   },
   {
    "duration": 4,
    "start_time": "2023-09-25T07:12:49.549Z"
   },
   {
    "duration": 19,
    "start_time": "2023-09-25T07:12:49.554Z"
   },
   {
    "duration": 17,
    "start_time": "2023-09-25T07:12:49.575Z"
   },
   {
    "duration": 15,
    "start_time": "2023-09-25T07:12:49.594Z"
   },
   {
    "duration": 13,
    "start_time": "2023-09-25T07:12:49.610Z"
   },
   {
    "duration": 24,
    "start_time": "2023-09-25T07:12:49.624Z"
   },
   {
    "duration": 6,
    "start_time": "2023-09-25T07:12:49.649Z"
   },
   {
    "duration": 7,
    "start_time": "2023-09-25T07:12:49.656Z"
   },
   {
    "duration": 26,
    "start_time": "2023-09-25T07:12:49.664Z"
   },
   {
    "duration": 7,
    "start_time": "2023-09-25T07:12:49.691Z"
   },
   {
    "duration": 7,
    "start_time": "2023-09-25T07:12:49.699Z"
   },
   {
    "duration": 7,
    "start_time": "2023-09-25T07:12:49.707Z"
   },
   {
    "duration": 16,
    "start_time": "2023-09-25T07:12:49.716Z"
   },
   {
    "duration": 471,
    "start_time": "2023-09-25T07:23:08.251Z"
   },
   {
    "duration": 20,
    "start_time": "2023-09-25T07:23:08.723Z"
   },
   {
    "duration": 18,
    "start_time": "2023-09-25T07:23:08.744Z"
   },
   {
    "duration": 9,
    "start_time": "2023-09-25T07:23:08.763Z"
   },
   {
    "duration": 33,
    "start_time": "2023-09-25T07:23:08.773Z"
   },
   {
    "duration": 3,
    "start_time": "2023-09-25T07:23:08.808Z"
   },
   {
    "duration": 42,
    "start_time": "2023-09-25T07:23:08.812Z"
   },
   {
    "duration": 13,
    "start_time": "2023-09-25T07:23:08.856Z"
   },
   {
    "duration": 14,
    "start_time": "2023-09-25T07:23:08.870Z"
   },
   {
    "duration": 16,
    "start_time": "2023-09-25T07:23:08.887Z"
   },
   {
    "duration": 39,
    "start_time": "2023-09-25T07:23:08.904Z"
   },
   {
    "duration": 11,
    "start_time": "2023-09-25T07:23:08.944Z"
   },
   {
    "duration": 4,
    "start_time": "2023-09-25T07:23:08.956Z"
   },
   {
    "duration": 18,
    "start_time": "2023-09-25T07:23:08.961Z"
   },
   {
    "duration": 17,
    "start_time": "2023-09-25T07:23:08.981Z"
   },
   {
    "duration": 15,
    "start_time": "2023-09-25T07:23:09.000Z"
   },
   {
    "duration": 3,
    "start_time": "2023-09-25T07:23:09.016Z"
   },
   {
    "duration": 30,
    "start_time": "2023-09-25T07:23:09.021Z"
   },
   {
    "duration": 5,
    "start_time": "2023-09-25T07:23:09.052Z"
   },
   {
    "duration": 11,
    "start_time": "2023-09-25T07:23:09.058Z"
   },
   {
    "duration": 18,
    "start_time": "2023-09-25T07:23:09.070Z"
   },
   {
    "duration": 9,
    "start_time": "2023-09-25T07:23:09.089Z"
   },
   {
    "duration": 11,
    "start_time": "2023-09-25T07:23:09.100Z"
   },
   {
    "duration": 6,
    "start_time": "2023-09-25T07:23:09.112Z"
   },
   {
    "duration": 7,
    "start_time": "2023-09-25T07:23:09.120Z"
   },
   {
    "duration": 422,
    "start_time": "2023-09-25T07:48:58.488Z"
   },
   {
    "duration": 22,
    "start_time": "2023-09-25T07:48:58.912Z"
   },
   {
    "duration": 20,
    "start_time": "2023-09-25T07:48:58.935Z"
   },
   {
    "duration": 11,
    "start_time": "2023-09-25T07:48:58.957Z"
   },
   {
    "duration": 56,
    "start_time": "2023-09-25T07:48:58.970Z"
   },
   {
    "duration": 3,
    "start_time": "2023-09-25T07:48:59.028Z"
   },
   {
    "duration": 35,
    "start_time": "2023-09-25T07:48:59.033Z"
   },
   {
    "duration": 28,
    "start_time": "2023-09-25T07:48:59.069Z"
   },
   {
    "duration": 34,
    "start_time": "2023-09-25T07:48:59.099Z"
   },
   {
    "duration": 26,
    "start_time": "2023-09-25T07:48:59.136Z"
   },
   {
    "duration": 62,
    "start_time": "2023-09-25T07:48:59.163Z"
   },
   {
    "duration": 10,
    "start_time": "2023-09-25T07:48:59.227Z"
   },
   {
    "duration": 5,
    "start_time": "2023-09-25T07:48:59.238Z"
   },
   {
    "duration": 13,
    "start_time": "2023-09-25T07:48:59.244Z"
   },
   {
    "duration": 28,
    "start_time": "2023-09-25T07:48:59.258Z"
   },
   {
    "duration": 14,
    "start_time": "2023-09-25T07:48:59.288Z"
   },
   {
    "duration": 3,
    "start_time": "2023-09-25T07:48:59.304Z"
   },
   {
    "duration": 13,
    "start_time": "2023-09-25T07:48:59.308Z"
   },
   {
    "duration": 10,
    "start_time": "2023-09-25T07:48:59.322Z"
   },
   {
    "duration": 30,
    "start_time": "2023-09-25T07:48:59.334Z"
   },
   {
    "duration": 25,
    "start_time": "2023-09-25T07:48:59.365Z"
   },
   {
    "duration": 9,
    "start_time": "2023-09-25T07:48:59.391Z"
   },
   {
    "duration": 8,
    "start_time": "2023-09-25T07:48:59.402Z"
   },
   {
    "duration": 12,
    "start_time": "2023-09-25T07:48:59.412Z"
   },
   {
    "duration": 19,
    "start_time": "2023-09-25T07:48:59.425Z"
   },
   {
    "duration": 485,
    "start_time": "2023-09-25T07:49:23.946Z"
   },
   {
    "duration": 24,
    "start_time": "2023-09-25T07:49:24.433Z"
   },
   {
    "duration": 18,
    "start_time": "2023-09-25T07:49:24.458Z"
   },
   {
    "duration": 12,
    "start_time": "2023-09-25T07:49:24.477Z"
   },
   {
    "duration": 45,
    "start_time": "2023-09-25T07:49:24.491Z"
   },
   {
    "duration": 13,
    "start_time": "2023-09-25T07:49:24.538Z"
   },
   {
    "duration": 15,
    "start_time": "2023-09-25T07:49:24.552Z"
   },
   {
    "duration": 9,
    "start_time": "2023-09-25T07:49:24.568Z"
   },
   {
    "duration": 11,
    "start_time": "2023-09-25T07:49:24.579Z"
   },
   {
    "duration": 19,
    "start_time": "2023-09-25T07:49:24.591Z"
   },
   {
    "duration": 50,
    "start_time": "2023-09-25T07:49:24.611Z"
   },
   {
    "duration": 9,
    "start_time": "2023-09-25T07:49:24.663Z"
   },
   {
    "duration": 3,
    "start_time": "2023-09-25T07:49:24.674Z"
   },
   {
    "duration": 12,
    "start_time": "2023-09-25T07:49:24.679Z"
   },
   {
    "duration": 21,
    "start_time": "2023-09-25T07:49:24.692Z"
   },
   {
    "duration": 28,
    "start_time": "2023-09-25T07:49:24.714Z"
   },
   {
    "duration": 8,
    "start_time": "2023-09-25T07:49:24.743Z"
   },
   {
    "duration": 59,
    "start_time": "2023-09-25T07:49:24.752Z"
   },
   {
    "duration": 45,
    "start_time": "2023-09-25T07:49:24.813Z"
   },
   {
    "duration": 75,
    "start_time": "2023-09-25T07:49:24.860Z"
   },
   {
    "duration": 31,
    "start_time": "2023-09-25T07:49:24.937Z"
   },
   {
    "duration": 54,
    "start_time": "2023-09-25T07:49:24.970Z"
   },
   {
    "duration": 26,
    "start_time": "2023-09-25T07:49:25.026Z"
   },
   {
    "duration": 46,
    "start_time": "2023-09-25T07:49:25.054Z"
   },
   {
    "duration": 42,
    "start_time": "2023-09-25T07:49:25.101Z"
   },
   {
    "duration": 510,
    "start_time": "2023-09-25T08:02:04.154Z"
   },
   {
    "duration": 25,
    "start_time": "2023-09-25T08:02:04.666Z"
   },
   {
    "duration": 263,
    "start_time": "2023-09-25T08:02:04.692Z"
   },
   {
    "duration": 32,
    "start_time": "2023-09-25T08:02:04.957Z"
   },
   {
    "duration": 67,
    "start_time": "2023-09-25T08:02:04.990Z"
   },
   {
    "duration": 59,
    "start_time": "2023-09-25T08:02:05.059Z"
   },
   {
    "duration": 34,
    "start_time": "2023-09-25T08:02:05.119Z"
   },
   {
    "duration": 16,
    "start_time": "2023-09-25T08:02:05.155Z"
   },
   {
    "duration": 34,
    "start_time": "2023-09-25T08:02:05.173Z"
   },
   {
    "duration": 23,
    "start_time": "2023-09-25T08:02:05.212Z"
   },
   {
    "duration": 42,
    "start_time": "2023-09-25T08:02:05.237Z"
   },
   {
    "duration": 10,
    "start_time": "2023-09-25T08:02:05.281Z"
   },
   {
    "duration": 8,
    "start_time": "2023-09-25T08:02:05.293Z"
   },
   {
    "duration": 22,
    "start_time": "2023-09-25T08:02:05.303Z"
   },
   {
    "duration": 32,
    "start_time": "2023-09-25T08:02:05.327Z"
   },
   {
    "duration": 24,
    "start_time": "2023-09-25T08:02:05.361Z"
   },
   {
    "duration": 10,
    "start_time": "2023-09-25T08:02:05.387Z"
   },
   {
    "duration": 40,
    "start_time": "2023-09-25T08:02:05.399Z"
   },
   {
    "duration": 21,
    "start_time": "2023-09-25T08:02:05.441Z"
   },
   {
    "duration": 14,
    "start_time": "2023-09-25T08:02:05.464Z"
   },
   {
    "duration": 30,
    "start_time": "2023-09-25T08:02:05.480Z"
   },
   {
    "duration": 21,
    "start_time": "2023-09-25T08:02:05.512Z"
   },
   {
    "duration": 30,
    "start_time": "2023-09-25T08:02:05.535Z"
   },
   {
    "duration": 10,
    "start_time": "2023-09-25T08:02:05.567Z"
   },
   {
    "duration": 20,
    "start_time": "2023-09-25T08:02:05.578Z"
   },
   {
    "duration": 470,
    "start_time": "2023-09-25T08:08:56.919Z"
   },
   {
    "duration": 19,
    "start_time": "2023-09-25T08:08:57.391Z"
   },
   {
    "duration": 23,
    "start_time": "2023-09-25T08:08:57.412Z"
   },
   {
    "duration": 13,
    "start_time": "2023-09-25T08:08:57.437Z"
   },
   {
    "duration": 34,
    "start_time": "2023-09-25T08:08:57.452Z"
   },
   {
    "duration": 3,
    "start_time": "2023-09-25T08:08:57.488Z"
   },
   {
    "duration": 17,
    "start_time": "2023-09-25T08:08:57.493Z"
   },
   {
    "duration": 16,
    "start_time": "2023-09-25T08:08:57.511Z"
   },
   {
    "duration": 11,
    "start_time": "2023-09-25T08:08:57.528Z"
   },
   {
    "duration": 4,
    "start_time": "2023-09-25T08:08:57.549Z"
   },
   {
    "duration": 37,
    "start_time": "2023-09-25T08:08:57.554Z"
   },
   {
    "duration": 10,
    "start_time": "2023-09-25T08:08:57.592Z"
   },
   {
    "duration": 10,
    "start_time": "2023-09-25T08:08:57.603Z"
   },
   {
    "duration": 13,
    "start_time": "2023-09-25T08:08:57.614Z"
   },
   {
    "duration": 33,
    "start_time": "2023-09-25T08:08:57.628Z"
   },
   {
    "duration": 15,
    "start_time": "2023-09-25T08:08:57.662Z"
   },
   {
    "duration": 3,
    "start_time": "2023-09-25T08:08:57.678Z"
   },
   {
    "duration": 27,
    "start_time": "2023-09-25T08:08:57.682Z"
   },
   {
    "duration": 17,
    "start_time": "2023-09-25T08:08:57.710Z"
   },
   {
    "duration": 10,
    "start_time": "2023-09-25T08:08:57.728Z"
   },
   {
    "duration": 10,
    "start_time": "2023-09-25T08:08:57.739Z"
   },
   {
    "duration": 6,
    "start_time": "2023-09-25T08:08:57.750Z"
   },
   {
    "duration": 7,
    "start_time": "2023-09-25T08:08:57.757Z"
   },
   {
    "duration": 10,
    "start_time": "2023-09-25T08:08:57.765Z"
   },
   {
    "duration": 7,
    "start_time": "2023-09-25T08:08:57.776Z"
   },
   {
    "duration": 708,
    "start_time": "2023-09-25T11:25:04.049Z"
   },
   {
    "duration": 22,
    "start_time": "2023-09-25T11:25:04.759Z"
   },
   {
    "duration": 19,
    "start_time": "2023-09-25T11:25:04.783Z"
   },
   {
    "duration": 27,
    "start_time": "2023-09-25T11:25:04.804Z"
   },
   {
    "duration": 39,
    "start_time": "2023-09-25T11:25:04.833Z"
   },
   {
    "duration": 2,
    "start_time": "2023-09-25T11:25:04.874Z"
   },
   {
    "duration": 25,
    "start_time": "2023-09-25T11:25:04.878Z"
   },
   {
    "duration": 14,
    "start_time": "2023-09-25T11:25:04.904Z"
   },
   {
    "duration": 21,
    "start_time": "2023-09-25T11:25:04.919Z"
   },
   {
    "duration": 23,
    "start_time": "2023-09-25T11:25:04.942Z"
   },
   {
    "duration": 43,
    "start_time": "2023-09-25T11:25:04.967Z"
   },
   {
    "duration": 11,
    "start_time": "2023-09-25T11:25:05.012Z"
   },
   {
    "duration": 12,
    "start_time": "2023-09-25T11:25:05.024Z"
   },
   {
    "duration": 15,
    "start_time": "2023-09-25T11:25:05.037Z"
   },
   {
    "duration": 31,
    "start_time": "2023-09-25T11:25:05.054Z"
   },
   {
    "duration": 17,
    "start_time": "2023-09-25T11:25:05.087Z"
   },
   {
    "duration": 3,
    "start_time": "2023-09-25T11:25:05.105Z"
   },
   {
    "duration": 13,
    "start_time": "2023-09-25T11:25:05.110Z"
   },
   {
    "duration": 23,
    "start_time": "2023-09-25T11:25:05.125Z"
   },
   {
    "duration": 13,
    "start_time": "2023-09-25T11:25:05.149Z"
   },
   {
    "duration": 34,
    "start_time": "2023-09-25T11:25:05.163Z"
   },
   {
    "duration": 74,
    "start_time": "2023-09-25T11:25:05.199Z"
   },
   {
    "duration": 35,
    "start_time": "2023-09-25T11:25:05.275Z"
   },
   {
    "duration": 23,
    "start_time": "2023-09-25T11:25:05.311Z"
   },
   {
    "duration": 43,
    "start_time": "2023-09-25T11:25:05.336Z"
   },
   {
    "duration": 502,
    "start_time": "2023-09-25T11:33:43.714Z"
   },
   {
    "duration": 23,
    "start_time": "2023-09-25T11:33:44.219Z"
   },
   {
    "duration": 15,
    "start_time": "2023-09-25T11:33:44.243Z"
   },
   {
    "duration": 13,
    "start_time": "2023-09-25T11:33:44.260Z"
   },
   {
    "duration": 40,
    "start_time": "2023-09-25T11:33:44.274Z"
   },
   {
    "duration": 3,
    "start_time": "2023-09-25T11:33:44.315Z"
   },
   {
    "duration": 25,
    "start_time": "2023-09-25T11:33:44.320Z"
   },
   {
    "duration": 10,
    "start_time": "2023-09-25T11:33:44.347Z"
   },
   {
    "duration": 26,
    "start_time": "2023-09-25T11:33:44.359Z"
   },
   {
    "duration": 16,
    "start_time": "2023-09-25T11:33:44.389Z"
   },
   {
    "duration": 63,
    "start_time": "2023-09-25T11:33:44.407Z"
   },
   {
    "duration": 13,
    "start_time": "2023-09-25T11:33:44.472Z"
   },
   {
    "duration": 19,
    "start_time": "2023-09-25T11:33:44.487Z"
   },
   {
    "duration": 53,
    "start_time": "2023-09-25T11:33:44.508Z"
   },
   {
    "duration": 30,
    "start_time": "2023-09-25T11:33:44.563Z"
   },
   {
    "duration": 21,
    "start_time": "2023-09-25T11:33:44.595Z"
   },
   {
    "duration": 15,
    "start_time": "2023-09-25T11:33:44.617Z"
   },
   {
    "duration": 43,
    "start_time": "2023-09-25T11:33:44.633Z"
   },
   {
    "duration": 5,
    "start_time": "2023-09-25T11:33:44.678Z"
   },
   {
    "duration": 13,
    "start_time": "2023-09-25T11:33:44.685Z"
   },
   {
    "duration": 25,
    "start_time": "2023-09-25T11:33:44.699Z"
   },
   {
    "duration": 17,
    "start_time": "2023-09-25T11:33:44.726Z"
   },
   {
    "duration": 20,
    "start_time": "2023-09-25T11:33:44.745Z"
   },
   {
    "duration": 7,
    "start_time": "2023-09-25T11:33:44.767Z"
   },
   {
    "duration": 8,
    "start_time": "2023-09-25T11:33:44.775Z"
   },
   {
    "duration": 452,
    "start_time": "2023-09-25T11:34:36.580Z"
   },
   {
    "duration": 25,
    "start_time": "2023-09-25T11:34:37.034Z"
   },
   {
    "duration": 36,
    "start_time": "2023-09-25T11:34:37.061Z"
   },
   {
    "duration": 11,
    "start_time": "2023-09-25T11:34:37.099Z"
   },
   {
    "duration": 63,
    "start_time": "2023-09-25T11:34:37.112Z"
   },
   {
    "duration": 3,
    "start_time": "2023-09-25T11:34:37.176Z"
   },
   {
    "duration": 26,
    "start_time": "2023-09-25T11:34:37.181Z"
   },
   {
    "duration": 16,
    "start_time": "2023-09-25T11:34:37.208Z"
   },
   {
    "duration": 20,
    "start_time": "2023-09-25T11:34:37.226Z"
   },
   {
    "duration": 21,
    "start_time": "2023-09-25T11:34:37.250Z"
   },
   {
    "duration": 51,
    "start_time": "2023-09-25T11:34:37.273Z"
   },
   {
    "duration": 29,
    "start_time": "2023-09-25T11:34:37.325Z"
   },
   {
    "duration": 40,
    "start_time": "2023-09-25T11:34:37.356Z"
   },
   {
    "duration": 25,
    "start_time": "2023-09-25T11:34:37.398Z"
   },
   {
    "duration": 47,
    "start_time": "2023-09-25T11:34:37.425Z"
   },
   {
    "duration": 20,
    "start_time": "2023-09-25T11:34:37.473Z"
   },
   {
    "duration": 8,
    "start_time": "2023-09-25T11:34:37.495Z"
   },
   {
    "duration": 24,
    "start_time": "2023-09-25T11:34:37.505Z"
   },
   {
    "duration": 7,
    "start_time": "2023-09-25T11:34:37.530Z"
   },
   {
    "duration": 13,
    "start_time": "2023-09-25T11:34:37.538Z"
   },
   {
    "duration": 18,
    "start_time": "2023-09-25T11:34:37.553Z"
   },
   {
    "duration": 14,
    "start_time": "2023-09-25T11:34:37.572Z"
   },
   {
    "duration": 22,
    "start_time": "2023-09-25T11:34:37.587Z"
   },
   {
    "duration": 18,
    "start_time": "2023-09-25T11:34:37.611Z"
   },
   {
    "duration": 22,
    "start_time": "2023-09-25T11:34:37.631Z"
   },
   {
    "duration": 471,
    "start_time": "2023-09-25T11:54:42.208Z"
   },
   {
    "duration": 22,
    "start_time": "2023-09-25T11:54:42.681Z"
   },
   {
    "duration": 33,
    "start_time": "2023-09-25T11:54:42.704Z"
   },
   {
    "duration": 29,
    "start_time": "2023-09-25T11:54:42.739Z"
   },
   {
    "duration": 48,
    "start_time": "2023-09-25T11:54:42.770Z"
   },
   {
    "duration": 4,
    "start_time": "2023-09-25T11:54:42.820Z"
   },
   {
    "duration": 15,
    "start_time": "2023-09-25T11:54:42.826Z"
   },
   {
    "duration": 24,
    "start_time": "2023-09-25T11:54:42.843Z"
   },
   {
    "duration": 17,
    "start_time": "2023-09-25T11:54:42.869Z"
   },
   {
    "duration": 18,
    "start_time": "2023-09-25T11:54:42.889Z"
   },
   {
    "duration": 51,
    "start_time": "2023-09-25T11:54:42.908Z"
   },
   {
    "duration": 10,
    "start_time": "2023-09-25T11:54:42.961Z"
   },
   {
    "duration": 15,
    "start_time": "2023-09-25T11:54:42.972Z"
   },
   {
    "duration": 28,
    "start_time": "2023-09-25T11:54:42.988Z"
   },
   {
    "duration": 55,
    "start_time": "2023-09-25T11:54:43.017Z"
   },
   {
    "duration": 18,
    "start_time": "2023-09-25T11:54:43.073Z"
   },
   {
    "duration": 12,
    "start_time": "2023-09-25T11:54:43.092Z"
   },
   {
    "duration": 30,
    "start_time": "2023-09-25T11:54:43.106Z"
   },
   {
    "duration": 16,
    "start_time": "2023-09-25T11:54:43.137Z"
   },
   {
    "duration": 13,
    "start_time": "2023-09-25T11:54:43.155Z"
   },
   {
    "duration": 27,
    "start_time": "2023-09-25T11:54:43.170Z"
   },
   {
    "duration": 68,
    "start_time": "2023-09-25T11:54:43.198Z"
   },
   {
    "duration": 0,
    "start_time": "2023-09-25T11:54:43.268Z"
   },
   {
    "duration": 0,
    "start_time": "2023-09-25T11:54:43.269Z"
   },
   {
    "duration": 0,
    "start_time": "2023-09-25T11:54:43.270Z"
   },
   {
    "duration": 459,
    "start_time": "2023-09-25T11:55:02.686Z"
   },
   {
    "duration": 21,
    "start_time": "2023-09-25T11:55:03.147Z"
   },
   {
    "duration": 52,
    "start_time": "2023-09-25T11:55:03.170Z"
   },
   {
    "duration": 25,
    "start_time": "2023-09-25T11:55:03.225Z"
   },
   {
    "duration": 90,
    "start_time": "2023-09-25T11:55:03.251Z"
   },
   {
    "duration": 31,
    "start_time": "2023-09-25T11:55:03.342Z"
   },
   {
    "duration": 9,
    "start_time": "2023-09-25T11:55:03.375Z"
   },
   {
    "duration": 23,
    "start_time": "2023-09-25T11:55:03.385Z"
   },
   {
    "duration": 8,
    "start_time": "2023-09-25T11:55:03.410Z"
   },
   {
    "duration": 7,
    "start_time": "2023-09-25T11:55:03.422Z"
   },
   {
    "duration": 47,
    "start_time": "2023-09-25T11:55:03.431Z"
   },
   {
    "duration": 11,
    "start_time": "2023-09-25T11:55:03.480Z"
   },
   {
    "duration": 28,
    "start_time": "2023-09-25T11:55:03.493Z"
   },
   {
    "duration": 45,
    "start_time": "2023-09-25T11:55:03.523Z"
   },
   {
    "duration": 26,
    "start_time": "2023-09-25T11:55:03.570Z"
   },
   {
    "duration": 17,
    "start_time": "2023-09-25T11:55:03.598Z"
   },
   {
    "duration": 44,
    "start_time": "2023-09-25T11:55:03.617Z"
   },
   {
    "duration": 17,
    "start_time": "2023-09-25T11:55:03.663Z"
   },
   {
    "duration": 24,
    "start_time": "2023-09-25T11:55:03.681Z"
   },
   {
    "duration": 62,
    "start_time": "2023-09-25T11:55:03.707Z"
   },
   {
    "duration": 71,
    "start_time": "2023-09-25T11:55:03.771Z"
   },
   {
    "duration": 89,
    "start_time": "2023-09-25T11:55:03.844Z"
   },
   {
    "duration": 0,
    "start_time": "2023-09-25T11:55:03.935Z"
   },
   {
    "duration": 0,
    "start_time": "2023-09-25T11:55:03.936Z"
   },
   {
    "duration": 0,
    "start_time": "2023-09-25T11:55:03.936Z"
   },
   {
    "duration": 479,
    "start_time": "2023-09-25T11:55:29.448Z"
   },
   {
    "duration": 22,
    "start_time": "2023-09-25T11:55:29.929Z"
   },
   {
    "duration": 25,
    "start_time": "2023-09-25T11:55:29.952Z"
   },
   {
    "duration": 10,
    "start_time": "2023-09-25T11:55:29.979Z"
   },
   {
    "duration": 45,
    "start_time": "2023-09-25T11:55:29.991Z"
   },
   {
    "duration": 39,
    "start_time": "2023-09-25T11:55:30.037Z"
   },
   {
    "duration": 76,
    "start_time": "2023-09-25T11:55:30.078Z"
   },
   {
    "duration": 54,
    "start_time": "2023-09-25T11:55:30.156Z"
   },
   {
    "duration": 49,
    "start_time": "2023-09-25T11:55:30.211Z"
   },
   {
    "duration": 23,
    "start_time": "2023-09-25T11:55:30.263Z"
   },
   {
    "duration": 59,
    "start_time": "2023-09-25T11:55:30.287Z"
   },
   {
    "duration": 9,
    "start_time": "2023-09-25T11:55:30.348Z"
   },
   {
    "duration": 41,
    "start_time": "2023-09-25T11:55:30.358Z"
   },
   {
    "duration": 48,
    "start_time": "2023-09-25T11:55:30.401Z"
   },
   {
    "duration": 59,
    "start_time": "2023-09-25T11:55:30.451Z"
   },
   {
    "duration": 52,
    "start_time": "2023-09-25T11:55:30.511Z"
   },
   {
    "duration": 61,
    "start_time": "2023-09-25T11:55:30.564Z"
   },
   {
    "duration": 68,
    "start_time": "2023-09-25T11:55:30.626Z"
   },
   {
    "duration": 39,
    "start_time": "2023-09-25T11:55:30.696Z"
   },
   {
    "duration": 57,
    "start_time": "2023-09-25T11:55:30.737Z"
   },
   {
    "duration": 58,
    "start_time": "2023-09-25T11:55:30.796Z"
   },
   {
    "duration": 62,
    "start_time": "2023-09-25T11:55:30.855Z"
   },
   {
    "duration": 39,
    "start_time": "2023-09-25T11:55:30.919Z"
   },
   {
    "duration": 47,
    "start_time": "2023-09-25T11:55:30.960Z"
   },
   {
    "duration": 57,
    "start_time": "2023-09-25T11:55:31.008Z"
   },
   {
    "duration": 495,
    "start_time": "2023-09-25T11:57:59.072Z"
   },
   {
    "duration": 22,
    "start_time": "2023-09-25T11:57:59.569Z"
   },
   {
    "duration": 62,
    "start_time": "2023-09-25T11:57:59.593Z"
   },
   {
    "duration": 10,
    "start_time": "2023-09-25T11:57:59.657Z"
   },
   {
    "duration": 48,
    "start_time": "2023-09-25T11:57:59.669Z"
   },
   {
    "duration": 3,
    "start_time": "2023-09-25T11:57:59.719Z"
   },
   {
    "duration": 20,
    "start_time": "2023-09-25T11:57:59.724Z"
   },
   {
    "duration": 16,
    "start_time": "2023-09-25T11:57:59.746Z"
   },
   {
    "duration": 25,
    "start_time": "2023-09-25T11:57:59.764Z"
   },
   {
    "duration": 79,
    "start_time": "2023-09-25T11:57:59.791Z"
   },
   {
    "duration": 102,
    "start_time": "2023-09-25T11:57:59.871Z"
   },
   {
    "duration": 11,
    "start_time": "2023-09-25T11:57:59.975Z"
   },
   {
    "duration": 11,
    "start_time": "2023-09-25T11:57:59.988Z"
   },
   {
    "duration": 108,
    "start_time": "2023-09-25T11:58:00.000Z"
   },
   {
    "duration": 44,
    "start_time": "2023-09-25T11:58:00.110Z"
   },
   {
    "duration": 33,
    "start_time": "2023-09-25T11:58:00.156Z"
   },
   {
    "duration": 10,
    "start_time": "2023-09-25T11:58:00.192Z"
   },
   {
    "duration": 57,
    "start_time": "2023-09-25T11:58:00.204Z"
   },
   {
    "duration": 26,
    "start_time": "2023-09-25T11:58:00.263Z"
   },
   {
    "duration": 12,
    "start_time": "2023-09-25T11:58:00.291Z"
   },
   {
    "duration": 30,
    "start_time": "2023-09-25T11:58:00.304Z"
   },
   {
    "duration": 93,
    "start_time": "2023-09-25T11:58:00.336Z"
   },
   {
    "duration": 0,
    "start_time": "2023-09-25T11:58:00.430Z"
   },
   {
    "duration": 0,
    "start_time": "2023-09-25T11:58:00.432Z"
   },
   {
    "duration": 0,
    "start_time": "2023-09-25T11:58:00.433Z"
   },
   {
    "duration": 496,
    "start_time": "2023-09-25T11:58:25.128Z"
   },
   {
    "duration": 23,
    "start_time": "2023-09-25T11:58:25.627Z"
   },
   {
    "duration": 31,
    "start_time": "2023-09-25T11:58:25.653Z"
   },
   {
    "duration": 18,
    "start_time": "2023-09-25T11:58:25.686Z"
   },
   {
    "duration": 52,
    "start_time": "2023-09-25T11:58:25.706Z"
   },
   {
    "duration": 8,
    "start_time": "2023-09-25T11:58:25.760Z"
   },
   {
    "duration": 38,
    "start_time": "2023-09-25T11:58:25.769Z"
   },
   {
    "duration": 6,
    "start_time": "2023-09-25T11:58:25.809Z"
   },
   {
    "duration": 27,
    "start_time": "2023-09-25T11:58:25.817Z"
   },
   {
    "duration": 12,
    "start_time": "2023-09-25T11:58:25.846Z"
   },
   {
    "duration": 65,
    "start_time": "2023-09-25T11:58:25.860Z"
   },
   {
    "duration": 12,
    "start_time": "2023-09-25T11:58:25.927Z"
   },
   {
    "duration": 43,
    "start_time": "2023-09-25T11:58:25.941Z"
   },
   {
    "duration": 27,
    "start_time": "2023-09-25T11:58:25.986Z"
   },
   {
    "duration": 56,
    "start_time": "2023-09-25T11:58:26.015Z"
   },
   {
    "duration": 26,
    "start_time": "2023-09-25T11:58:26.073Z"
   },
   {
    "duration": 5,
    "start_time": "2023-09-25T11:58:26.101Z"
   },
   {
    "duration": 38,
    "start_time": "2023-09-25T11:58:26.107Z"
   },
   {
    "duration": 22,
    "start_time": "2023-09-25T11:58:26.147Z"
   },
   {
    "duration": 12,
    "start_time": "2023-09-25T11:58:26.170Z"
   },
   {
    "duration": 28,
    "start_time": "2023-09-25T11:58:26.184Z"
   },
   {
    "duration": 8,
    "start_time": "2023-09-25T11:58:26.214Z"
   },
   {
    "duration": 22,
    "start_time": "2023-09-25T11:58:26.223Z"
   },
   {
    "duration": 8,
    "start_time": "2023-09-25T11:58:26.247Z"
   },
   {
    "duration": 24,
    "start_time": "2023-09-25T11:58:26.257Z"
   },
   {
    "duration": 560,
    "start_time": "2023-09-25T11:59:04.255Z"
   },
   {
    "duration": 23,
    "start_time": "2023-09-25T11:59:04.817Z"
   },
   {
    "duration": 15,
    "start_time": "2023-09-25T11:59:04.843Z"
   },
   {
    "duration": 10,
    "start_time": "2023-09-25T11:59:04.861Z"
   },
   {
    "duration": 46,
    "start_time": "2023-09-25T11:59:04.873Z"
   },
   {
    "duration": 3,
    "start_time": "2023-09-25T11:59:04.921Z"
   },
   {
    "duration": 8,
    "start_time": "2023-09-25T11:59:04.944Z"
   },
   {
    "duration": 8,
    "start_time": "2023-09-25T11:59:04.953Z"
   },
   {
    "duration": 21,
    "start_time": "2023-09-25T11:59:04.963Z"
   },
   {
    "duration": 7,
    "start_time": "2023-09-25T11:59:04.987Z"
   },
   {
    "duration": 65,
    "start_time": "2023-09-25T11:59:04.996Z"
   },
   {
    "duration": 11,
    "start_time": "2023-09-25T11:59:05.063Z"
   },
   {
    "duration": 23,
    "start_time": "2023-09-25T11:59:05.076Z"
   },
   {
    "duration": 51,
    "start_time": "2023-09-25T11:59:05.100Z"
   },
   {
    "duration": 26,
    "start_time": "2023-09-25T11:59:05.153Z"
   },
   {
    "duration": 18,
    "start_time": "2023-09-25T11:59:05.181Z"
   },
   {
    "duration": 17,
    "start_time": "2023-09-25T11:59:05.200Z"
   },
   {
    "duration": 51,
    "start_time": "2023-09-25T11:59:05.218Z"
   },
   {
    "duration": 38,
    "start_time": "2023-09-25T11:59:05.271Z"
   },
   {
    "duration": 20,
    "start_time": "2023-09-25T11:59:05.311Z"
   },
   {
    "duration": 26,
    "start_time": "2023-09-25T11:59:05.333Z"
   },
   {
    "duration": 119,
    "start_time": "2023-09-25T11:59:05.360Z"
   },
   {
    "duration": 0,
    "start_time": "2023-09-25T11:59:05.480Z"
   },
   {
    "duration": 0,
    "start_time": "2023-09-25T11:59:05.482Z"
   },
   {
    "duration": 0,
    "start_time": "2023-09-25T11:59:05.484Z"
   },
   {
    "duration": 490,
    "start_time": "2023-09-25T11:59:24.526Z"
   },
   {
    "duration": 26,
    "start_time": "2023-09-25T11:59:25.018Z"
   },
   {
    "duration": 25,
    "start_time": "2023-09-25T11:59:25.046Z"
   },
   {
    "duration": 19,
    "start_time": "2023-09-25T11:59:25.073Z"
   },
   {
    "duration": 36,
    "start_time": "2023-09-25T11:59:25.094Z"
   },
   {
    "duration": 12,
    "start_time": "2023-09-25T11:59:25.132Z"
   },
   {
    "duration": 14,
    "start_time": "2023-09-25T11:59:25.146Z"
   },
   {
    "duration": 7,
    "start_time": "2023-09-25T11:59:25.161Z"
   },
   {
    "duration": 20,
    "start_time": "2023-09-25T11:59:25.170Z"
   },
   {
    "duration": 6,
    "start_time": "2023-09-25T11:59:25.192Z"
   },
   {
    "duration": 44,
    "start_time": "2023-09-25T11:59:25.199Z"
   },
   {
    "duration": 10,
    "start_time": "2023-09-25T11:59:25.245Z"
   },
   {
    "duration": 14,
    "start_time": "2023-09-25T11:59:25.256Z"
   },
   {
    "duration": 22,
    "start_time": "2023-09-25T11:59:25.271Z"
   },
   {
    "duration": 27,
    "start_time": "2023-09-25T11:59:25.295Z"
   },
   {
    "duration": 21,
    "start_time": "2023-09-25T11:59:25.324Z"
   },
   {
    "duration": 3,
    "start_time": "2023-09-25T11:59:25.347Z"
   },
   {
    "duration": 28,
    "start_time": "2023-09-25T11:59:25.352Z"
   },
   {
    "duration": 9,
    "start_time": "2023-09-25T11:59:25.381Z"
   },
   {
    "duration": 7,
    "start_time": "2023-09-25T11:59:25.392Z"
   },
   {
    "duration": 13,
    "start_time": "2023-09-25T11:59:25.400Z"
   },
   {
    "duration": 20,
    "start_time": "2023-09-25T11:59:25.414Z"
   },
   {
    "duration": 9,
    "start_time": "2023-09-25T11:59:25.435Z"
   },
   {
    "duration": 10,
    "start_time": "2023-09-25T11:59:25.446Z"
   },
   {
    "duration": 8,
    "start_time": "2023-09-25T11:59:25.457Z"
   },
   {
    "duration": 452,
    "start_time": "2023-09-25T12:03:55.472Z"
   },
   {
    "duration": 23,
    "start_time": "2023-09-25T12:03:55.925Z"
   },
   {
    "duration": 16,
    "start_time": "2023-09-25T12:03:55.949Z"
   },
   {
    "duration": 15,
    "start_time": "2023-09-25T12:03:55.967Z"
   },
   {
    "duration": 45,
    "start_time": "2023-09-25T12:03:55.983Z"
   },
   {
    "duration": 3,
    "start_time": "2023-09-25T12:03:56.030Z"
   },
   {
    "duration": 8,
    "start_time": "2023-09-25T12:03:56.044Z"
   },
   {
    "duration": 5,
    "start_time": "2023-09-25T12:03:56.054Z"
   },
   {
    "duration": 16,
    "start_time": "2023-09-25T12:03:56.060Z"
   },
   {
    "duration": 5,
    "start_time": "2023-09-25T12:03:56.079Z"
   },
   {
    "duration": 81,
    "start_time": "2023-09-25T12:03:56.086Z"
   },
   {
    "duration": 12,
    "start_time": "2023-09-25T12:03:56.169Z"
   },
   {
    "duration": 4,
    "start_time": "2023-09-25T12:03:56.183Z"
   },
   {
    "duration": 12,
    "start_time": "2023-09-25T12:03:56.188Z"
   },
   {
    "duration": 25,
    "start_time": "2023-09-25T12:03:56.202Z"
   },
   {
    "duration": 17,
    "start_time": "2023-09-25T12:03:56.243Z"
   },
   {
    "duration": 3,
    "start_time": "2023-09-25T12:03:56.262Z"
   },
   {
    "duration": 36,
    "start_time": "2023-09-25T12:03:56.267Z"
   },
   {
    "duration": 7,
    "start_time": "2023-09-25T12:03:56.305Z"
   },
   {
    "duration": 4,
    "start_time": "2023-09-25T12:03:56.313Z"
   },
   {
    "duration": 29,
    "start_time": "2023-09-25T12:03:56.319Z"
   },
   {
    "duration": 81,
    "start_time": "2023-09-25T12:03:56.350Z"
   },
   {
    "duration": 0,
    "start_time": "2023-09-25T12:03:56.433Z"
   },
   {
    "duration": 0,
    "start_time": "2023-09-25T12:03:56.443Z"
   },
   {
    "duration": 0,
    "start_time": "2023-09-25T12:03:56.445Z"
   },
   {
    "duration": 492,
    "start_time": "2023-09-25T12:07:18.296Z"
   },
   {
    "duration": 23,
    "start_time": "2023-09-25T12:07:18.790Z"
   },
   {
    "duration": 23,
    "start_time": "2023-09-25T12:07:18.815Z"
   },
   {
    "duration": 14,
    "start_time": "2023-09-25T12:07:18.845Z"
   },
   {
    "duration": 44,
    "start_time": "2023-09-25T12:07:18.860Z"
   },
   {
    "duration": 4,
    "start_time": "2023-09-25T12:07:18.905Z"
   },
   {
    "duration": 21,
    "start_time": "2023-09-25T12:07:18.911Z"
   },
   {
    "duration": 10,
    "start_time": "2023-09-25T12:07:18.934Z"
   },
   {
    "duration": 21,
    "start_time": "2023-09-25T12:07:18.946Z"
   },
   {
    "duration": 14,
    "start_time": "2023-09-25T12:07:18.972Z"
   },
   {
    "duration": 34,
    "start_time": "2023-09-25T12:07:18.987Z"
   },
   {
    "duration": 12,
    "start_time": "2023-09-25T12:07:19.023Z"
   },
   {
    "duration": 5,
    "start_time": "2023-09-25T12:07:19.038Z"
   },
   {
    "duration": 35,
    "start_time": "2023-09-25T12:07:19.045Z"
   },
   {
    "duration": 27,
    "start_time": "2023-09-25T12:07:19.082Z"
   },
   {
    "duration": 17,
    "start_time": "2023-09-25T12:07:19.111Z"
   },
   {
    "duration": 20,
    "start_time": "2023-09-25T12:07:19.130Z"
   },
   {
    "duration": 28,
    "start_time": "2023-09-25T12:07:19.151Z"
   },
   {
    "duration": 28,
    "start_time": "2023-09-25T12:07:19.181Z"
   },
   {
    "duration": 16,
    "start_time": "2023-09-25T12:07:19.211Z"
   },
   {
    "duration": 16,
    "start_time": "2023-09-25T12:07:19.229Z"
   },
   {
    "duration": 75,
    "start_time": "2023-09-25T12:07:19.247Z"
   },
   {
    "duration": 0,
    "start_time": "2023-09-25T12:07:19.323Z"
   },
   {
    "duration": 0,
    "start_time": "2023-09-25T12:07:19.324Z"
   },
   {
    "duration": 1,
    "start_time": "2023-09-25T12:07:19.325Z"
   },
   {
    "duration": 494,
    "start_time": "2023-09-25T12:07:35.845Z"
   },
   {
    "duration": 24,
    "start_time": "2023-09-25T12:07:36.342Z"
   },
   {
    "duration": 34,
    "start_time": "2023-09-25T12:07:36.368Z"
   },
   {
    "duration": 47,
    "start_time": "2023-09-25T12:07:36.403Z"
   },
   {
    "duration": 58,
    "start_time": "2023-09-25T12:07:36.452Z"
   },
   {
    "duration": 10,
    "start_time": "2023-09-25T12:07:36.512Z"
   },
   {
    "duration": 29,
    "start_time": "2023-09-25T12:07:36.523Z"
   },
   {
    "duration": 12,
    "start_time": "2023-09-25T12:07:36.554Z"
   },
   {
    "duration": 13,
    "start_time": "2023-09-25T12:07:36.568Z"
   },
   {
    "duration": 28,
    "start_time": "2023-09-25T12:07:36.583Z"
   },
   {
    "duration": 70,
    "start_time": "2023-09-25T12:07:36.613Z"
   },
   {
    "duration": 10,
    "start_time": "2023-09-25T12:07:36.685Z"
   },
   {
    "duration": 29,
    "start_time": "2023-09-25T12:07:36.696Z"
   },
   {
    "duration": 18,
    "start_time": "2023-09-25T12:07:36.727Z"
   },
   {
    "duration": 40,
    "start_time": "2023-09-25T12:07:36.747Z"
   },
   {
    "duration": 25,
    "start_time": "2023-09-25T12:07:36.788Z"
   },
   {
    "duration": 4,
    "start_time": "2023-09-25T12:07:36.815Z"
   },
   {
    "duration": 17,
    "start_time": "2023-09-25T12:07:36.821Z"
   },
   {
    "duration": 24,
    "start_time": "2023-09-25T12:07:36.840Z"
   },
   {
    "duration": 7,
    "start_time": "2023-09-25T12:07:36.866Z"
   },
   {
    "duration": 17,
    "start_time": "2023-09-25T12:07:36.874Z"
   },
   {
    "duration": 37,
    "start_time": "2023-09-25T12:07:36.893Z"
   },
   {
    "duration": 17,
    "start_time": "2023-09-25T12:07:36.931Z"
   },
   {
    "duration": 19,
    "start_time": "2023-09-25T12:07:36.950Z"
   },
   {
    "duration": 10,
    "start_time": "2023-09-25T12:07:36.970Z"
   },
   {
    "duration": 454,
    "start_time": "2023-09-25T12:08:35.270Z"
   },
   {
    "duration": 22,
    "start_time": "2023-09-25T12:08:35.726Z"
   },
   {
    "duration": 62,
    "start_time": "2023-09-25T12:08:35.750Z"
   },
   {
    "duration": 29,
    "start_time": "2023-09-25T12:08:35.814Z"
   },
   {
    "duration": 80,
    "start_time": "2023-09-25T12:08:35.845Z"
   },
   {
    "duration": 4,
    "start_time": "2023-09-25T12:08:35.927Z"
   },
   {
    "duration": 37,
    "start_time": "2023-09-25T12:08:35.933Z"
   },
   {
    "duration": 35,
    "start_time": "2023-09-25T12:08:35.972Z"
   },
   {
    "duration": 40,
    "start_time": "2023-09-25T12:08:36.009Z"
   },
   {
    "duration": 22,
    "start_time": "2023-09-25T12:08:36.052Z"
   },
   {
    "duration": 53,
    "start_time": "2023-09-25T12:08:36.076Z"
   },
   {
    "duration": 29,
    "start_time": "2023-09-25T12:08:36.131Z"
   },
   {
    "duration": 18,
    "start_time": "2023-09-25T12:08:36.161Z"
   },
   {
    "duration": 27,
    "start_time": "2023-09-25T12:08:36.181Z"
   },
   {
    "duration": 37,
    "start_time": "2023-09-25T12:08:36.210Z"
   },
   {
    "duration": 17,
    "start_time": "2023-09-25T12:08:36.248Z"
   },
   {
    "duration": 6,
    "start_time": "2023-09-25T12:08:36.267Z"
   },
   {
    "duration": 46,
    "start_time": "2023-09-25T12:08:36.274Z"
   },
   {
    "duration": 31,
    "start_time": "2023-09-25T12:08:36.322Z"
   },
   {
    "duration": 7,
    "start_time": "2023-09-25T12:08:36.354Z"
   },
   {
    "duration": 18,
    "start_time": "2023-09-25T12:08:36.363Z"
   },
   {
    "duration": 30,
    "start_time": "2023-09-25T12:08:36.383Z"
   },
   {
    "duration": 18,
    "start_time": "2023-09-25T12:08:36.415Z"
   },
   {
    "duration": 38,
    "start_time": "2023-09-25T12:08:36.434Z"
   },
   {
    "duration": 32,
    "start_time": "2023-09-25T12:08:36.473Z"
   },
   {
    "duration": 490,
    "start_time": "2023-09-25T12:10:50.805Z"
   },
   {
    "duration": 22,
    "start_time": "2023-09-25T12:10:51.297Z"
   },
   {
    "duration": 25,
    "start_time": "2023-09-25T12:10:51.323Z"
   },
   {
    "duration": 17,
    "start_time": "2023-09-25T12:10:51.351Z"
   },
   {
    "duration": 41,
    "start_time": "2023-09-25T12:10:51.370Z"
   },
   {
    "duration": 3,
    "start_time": "2023-09-25T12:10:51.413Z"
   },
   {
    "duration": 33,
    "start_time": "2023-09-25T12:10:51.417Z"
   },
   {
    "duration": 4,
    "start_time": "2023-09-25T12:10:51.452Z"
   },
   {
    "duration": 18,
    "start_time": "2023-09-25T12:10:51.457Z"
   },
   {
    "duration": 4,
    "start_time": "2023-09-25T12:10:51.478Z"
   },
   {
    "duration": 37,
    "start_time": "2023-09-25T12:10:51.483Z"
   },
   {
    "duration": 30,
    "start_time": "2023-09-25T12:10:51.522Z"
   },
   {
    "duration": 10,
    "start_time": "2023-09-25T12:10:51.554Z"
   },
   {
    "duration": 15,
    "start_time": "2023-09-25T12:10:51.566Z"
   },
   {
    "duration": 30,
    "start_time": "2023-09-25T12:10:51.583Z"
   },
   {
    "duration": 16,
    "start_time": "2023-09-25T12:10:51.616Z"
   },
   {
    "duration": 4,
    "start_time": "2023-09-25T12:10:51.643Z"
   },
   {
    "duration": 17,
    "start_time": "2023-09-25T12:10:51.648Z"
   },
   {
    "duration": 22,
    "start_time": "2023-09-25T12:10:51.667Z"
   },
   {
    "duration": 27,
    "start_time": "2023-09-25T12:10:51.691Z"
   },
   {
    "duration": 22,
    "start_time": "2023-09-25T12:10:51.719Z"
   },
   {
    "duration": 15,
    "start_time": "2023-09-25T12:10:51.743Z"
   },
   {
    "duration": 8,
    "start_time": "2023-09-25T12:10:51.759Z"
   },
   {
    "duration": 10,
    "start_time": "2023-09-25T12:10:51.768Z"
   },
   {
    "duration": 16,
    "start_time": "2023-09-25T12:10:51.779Z"
   },
   {
    "duration": 494,
    "start_time": "2023-09-25T12:16:55.916Z"
   },
   {
    "duration": 24,
    "start_time": "2023-09-25T12:16:56.411Z"
   },
   {
    "duration": 15,
    "start_time": "2023-09-25T12:16:56.436Z"
   },
   {
    "duration": 20,
    "start_time": "2023-09-25T12:16:56.453Z"
   },
   {
    "duration": 35,
    "start_time": "2023-09-25T12:16:56.475Z"
   },
   {
    "duration": 3,
    "start_time": "2023-09-25T12:16:56.512Z"
   },
   {
    "duration": 11,
    "start_time": "2023-09-25T12:16:56.517Z"
   },
   {
    "duration": 14,
    "start_time": "2023-09-25T12:16:56.530Z"
   },
   {
    "duration": 7,
    "start_time": "2023-09-25T12:16:56.546Z"
   },
   {
    "duration": 6,
    "start_time": "2023-09-25T12:16:56.556Z"
   },
   {
    "duration": 36,
    "start_time": "2023-09-25T12:16:56.563Z"
   },
   {
    "duration": 11,
    "start_time": "2023-09-25T12:16:56.600Z"
   },
   {
    "duration": 32,
    "start_time": "2023-09-25T12:16:56.612Z"
   },
   {
    "duration": 12,
    "start_time": "2023-09-25T12:16:56.645Z"
   },
   {
    "duration": 32,
    "start_time": "2023-09-25T12:16:56.658Z"
   },
   {
    "duration": 16,
    "start_time": "2023-09-25T12:16:56.691Z"
   },
   {
    "duration": 3,
    "start_time": "2023-09-25T12:16:56.709Z"
   },
   {
    "duration": 20,
    "start_time": "2023-09-25T12:16:56.714Z"
   },
   {
    "duration": 12,
    "start_time": "2023-09-25T12:16:56.736Z"
   },
   {
    "duration": 3,
    "start_time": "2023-09-25T12:16:56.749Z"
   },
   {
    "duration": 12,
    "start_time": "2023-09-25T12:16:56.754Z"
   },
   {
    "duration": 95,
    "start_time": "2023-09-25T12:16:56.767Z"
   },
   {
    "duration": 0,
    "start_time": "2023-09-25T12:16:56.863Z"
   },
   {
    "duration": 0,
    "start_time": "2023-09-25T12:16:56.865Z"
   },
   {
    "duration": 0,
    "start_time": "2023-09-25T12:16:56.866Z"
   },
   {
    "duration": 492,
    "start_time": "2023-09-25T12:23:52.338Z"
   },
   {
    "duration": 23,
    "start_time": "2023-09-25T12:23:52.832Z"
   },
   {
    "duration": 32,
    "start_time": "2023-09-25T12:23:52.857Z"
   },
   {
    "duration": 29,
    "start_time": "2023-09-25T12:23:52.891Z"
   },
   {
    "duration": 36,
    "start_time": "2023-09-25T12:23:52.921Z"
   },
   {
    "duration": 4,
    "start_time": "2023-09-25T12:23:52.959Z"
   },
   {
    "duration": 32,
    "start_time": "2023-09-25T12:23:52.964Z"
   },
   {
    "duration": 12,
    "start_time": "2023-09-25T12:23:52.998Z"
   },
   {
    "duration": 10,
    "start_time": "2023-09-25T12:23:53.012Z"
   },
   {
    "duration": 29,
    "start_time": "2023-09-25T12:23:53.026Z"
   },
   {
    "duration": 55,
    "start_time": "2023-09-25T12:23:53.056Z"
   },
   {
    "duration": 10,
    "start_time": "2023-09-25T12:23:53.113Z"
   },
   {
    "duration": 26,
    "start_time": "2023-09-25T12:23:53.125Z"
   },
   {
    "duration": 26,
    "start_time": "2023-09-25T12:23:53.153Z"
   },
   {
    "duration": 37,
    "start_time": "2023-09-25T12:23:53.181Z"
   },
   {
    "duration": 18,
    "start_time": "2023-09-25T12:23:53.219Z"
   },
   {
    "duration": 9,
    "start_time": "2023-09-25T12:23:53.239Z"
   },
   {
    "duration": 26,
    "start_time": "2023-09-25T12:23:53.250Z"
   },
   {
    "duration": 11,
    "start_time": "2023-09-25T12:23:53.278Z"
   },
   {
    "duration": 16,
    "start_time": "2023-09-25T12:23:53.291Z"
   },
   {
    "duration": 23,
    "start_time": "2023-09-25T12:23:53.308Z"
   },
   {
    "duration": 19,
    "start_time": "2023-09-25T12:23:53.332Z"
   },
   {
    "duration": 8,
    "start_time": "2023-09-25T12:23:53.353Z"
   },
   {
    "duration": 23,
    "start_time": "2023-09-25T12:23:53.363Z"
   },
   {
    "duration": 24,
    "start_time": "2023-09-25T12:23:53.388Z"
   },
   {
    "duration": 86,
    "start_time": "2023-09-25T12:26:42.349Z"
   },
   {
    "duration": 14,
    "start_time": "2023-09-25T12:26:45.990Z"
   },
   {
    "duration": 13,
    "start_time": "2023-09-25T12:26:59.383Z"
   },
   {
    "duration": 11,
    "start_time": "2023-09-25T12:27:04.190Z"
   },
   {
    "duration": 14,
    "start_time": "2023-09-25T12:40:59.646Z"
   },
   {
    "duration": 541,
    "start_time": "2023-09-25T12:42:00.607Z"
   },
   {
    "duration": 24,
    "start_time": "2023-09-25T12:42:01.150Z"
   },
   {
    "duration": 125,
    "start_time": "2023-09-25T12:42:01.175Z"
   },
   {
    "duration": 120,
    "start_time": "2023-09-25T12:42:01.303Z"
   },
   {
    "duration": 122,
    "start_time": "2023-09-25T12:42:01.425Z"
   },
   {
    "duration": 43,
    "start_time": "2023-09-25T12:42:01.549Z"
   },
   {
    "duration": 81,
    "start_time": "2023-09-25T12:42:01.594Z"
   },
   {
    "duration": 79,
    "start_time": "2023-09-25T12:42:01.677Z"
   },
   {
    "duration": 68,
    "start_time": "2023-09-25T12:42:01.758Z"
   },
   {
    "duration": 100,
    "start_time": "2023-09-25T12:42:01.829Z"
   },
   {
    "duration": 88,
    "start_time": "2023-09-25T12:42:01.930Z"
   },
   {
    "duration": 73,
    "start_time": "2023-09-25T12:42:02.020Z"
   },
   {
    "duration": 45,
    "start_time": "2023-09-25T12:42:02.095Z"
   },
   {
    "duration": 59,
    "start_time": "2023-09-25T12:42:02.141Z"
   },
   {
    "duration": 66,
    "start_time": "2023-09-25T12:42:02.202Z"
   },
   {
    "duration": 135,
    "start_time": "2023-09-25T12:42:02.269Z"
   },
   {
    "duration": 17,
    "start_time": "2023-09-25T12:42:02.406Z"
   },
   {
    "duration": 43,
    "start_time": "2023-09-25T12:42:02.425Z"
   },
   {
    "duration": 42,
    "start_time": "2023-09-25T12:42:02.470Z"
   },
   {
    "duration": 20,
    "start_time": "2023-09-25T12:42:02.515Z"
   },
   {
    "duration": 40,
    "start_time": "2023-09-25T12:42:02.537Z"
   },
   {
    "duration": 94,
    "start_time": "2023-09-25T12:42:02.579Z"
   },
   {
    "duration": 0,
    "start_time": "2023-09-25T12:42:02.675Z"
   },
   {
    "duration": 0,
    "start_time": "2023-09-25T12:42:02.676Z"
   },
   {
    "duration": 0,
    "start_time": "2023-09-25T12:42:02.677Z"
   },
   {
    "duration": 11,
    "start_time": "2023-09-25T12:45:37.443Z"
   },
   {
    "duration": 10,
    "start_time": "2023-09-25T12:46:45.997Z"
   },
   {
    "duration": 20,
    "start_time": "2023-09-25T13:12:37.281Z"
   },
   {
    "duration": 12,
    "start_time": "2023-09-25T13:20:13.182Z"
   },
   {
    "duration": 46,
    "start_time": "2023-09-26T06:19:10.376Z"
   },
   {
    "duration": 8,
    "start_time": "2023-09-26T06:20:06.776Z"
   },
   {
    "duration": 8,
    "start_time": "2023-09-26T06:20:15.501Z"
   },
   {
    "duration": 7,
    "start_time": "2023-09-26T06:20:25.588Z"
   },
   {
    "duration": 6,
    "start_time": "2023-09-26T06:20:27.212Z"
   },
   {
    "duration": 711,
    "start_time": "2023-09-26T06:20:36.324Z"
   },
   {
    "duration": 20,
    "start_time": "2023-09-26T06:20:37.038Z"
   },
   {
    "duration": 15,
    "start_time": "2023-09-26T06:20:37.060Z"
   },
   {
    "duration": 13,
    "start_time": "2023-09-26T06:20:37.077Z"
   },
   {
    "duration": 46,
    "start_time": "2023-09-26T06:20:37.091Z"
   },
   {
    "duration": 3,
    "start_time": "2023-09-26T06:20:37.139Z"
   },
   {
    "duration": 22,
    "start_time": "2023-09-26T06:20:37.143Z"
   },
   {
    "duration": 19,
    "start_time": "2023-09-26T06:20:37.167Z"
   },
   {
    "duration": 25,
    "start_time": "2023-09-26T06:20:37.188Z"
   },
   {
    "duration": 19,
    "start_time": "2023-09-26T06:20:37.216Z"
   },
   {
    "duration": 42,
    "start_time": "2023-09-26T06:20:37.237Z"
   },
   {
    "duration": 9,
    "start_time": "2023-09-26T06:20:37.281Z"
   },
   {
    "duration": 22,
    "start_time": "2023-09-26T06:20:37.291Z"
   },
   {
    "duration": 16,
    "start_time": "2023-09-26T06:20:37.315Z"
   },
   {
    "duration": 27,
    "start_time": "2023-09-26T06:20:37.332Z"
   },
   {
    "duration": 16,
    "start_time": "2023-09-26T06:20:37.361Z"
   },
   {
    "duration": 4,
    "start_time": "2023-09-26T06:20:37.379Z"
   },
   {
    "duration": 13,
    "start_time": "2023-09-26T06:20:37.384Z"
   },
   {
    "duration": 28,
    "start_time": "2023-09-26T06:20:37.399Z"
   },
   {
    "duration": 11,
    "start_time": "2023-09-26T06:20:37.429Z"
   },
   {
    "duration": 35,
    "start_time": "2023-09-26T06:20:37.442Z"
   },
   {
    "duration": 18,
    "start_time": "2023-09-26T06:20:37.478Z"
   },
   {
    "duration": 18,
    "start_time": "2023-09-26T06:20:37.497Z"
   },
   {
    "duration": 20,
    "start_time": "2023-09-26T06:20:37.516Z"
   },
   {
    "duration": 29,
    "start_time": "2023-09-26T06:20:37.537Z"
   },
   {
    "duration": 496,
    "start_time": "2023-09-26T06:21:30.322Z"
   },
   {
    "duration": 20,
    "start_time": "2023-09-26T06:21:30.820Z"
   },
   {
    "duration": 49,
    "start_time": "2023-09-26T06:21:30.841Z"
   },
   {
    "duration": 76,
    "start_time": "2023-09-26T06:21:30.893Z"
   },
   {
    "duration": 64,
    "start_time": "2023-09-26T06:21:30.970Z"
   },
   {
    "duration": 14,
    "start_time": "2023-09-26T06:21:31.035Z"
   },
   {
    "duration": 54,
    "start_time": "2023-09-26T06:21:31.051Z"
   },
   {
    "duration": 50,
    "start_time": "2023-09-26T06:21:31.106Z"
   },
   {
    "duration": 43,
    "start_time": "2023-09-26T06:21:31.158Z"
   },
   {
    "duration": 36,
    "start_time": "2023-09-26T06:21:31.203Z"
   },
   {
    "duration": 71,
    "start_time": "2023-09-26T06:21:31.240Z"
   },
   {
    "duration": 10,
    "start_time": "2023-09-26T06:21:31.312Z"
   },
   {
    "duration": 36,
    "start_time": "2023-09-26T06:21:31.324Z"
   },
   {
    "duration": 55,
    "start_time": "2023-09-26T06:21:31.362Z"
   },
   {
    "duration": 62,
    "start_time": "2023-09-26T06:21:31.419Z"
   },
   {
    "duration": 44,
    "start_time": "2023-09-26T06:21:31.482Z"
   },
   {
    "duration": 49,
    "start_time": "2023-09-26T06:21:31.528Z"
   },
   {
    "duration": 57,
    "start_time": "2023-09-26T06:21:31.579Z"
   },
   {
    "duration": 91,
    "start_time": "2023-09-26T06:21:31.638Z"
   },
   {
    "duration": 38,
    "start_time": "2023-09-26T06:21:31.731Z"
   },
   {
    "duration": 59,
    "start_time": "2023-09-26T06:21:31.771Z"
   },
   {
    "duration": 94,
    "start_time": "2023-09-26T06:21:31.832Z"
   },
   {
    "duration": 0,
    "start_time": "2023-09-26T06:21:31.928Z"
   },
   {
    "duration": 0,
    "start_time": "2023-09-26T06:21:31.929Z"
   },
   {
    "duration": 0,
    "start_time": "2023-09-26T06:21:31.931Z"
   },
   {
    "duration": 13,
    "start_time": "2023-09-26T06:21:52.518Z"
   },
   {
    "duration": 482,
    "start_time": "2023-09-26T07:09:36.963Z"
   },
   {
    "duration": 20,
    "start_time": "2023-09-26T07:09:37.446Z"
   },
   {
    "duration": 14,
    "start_time": "2023-09-26T07:09:37.468Z"
   },
   {
    "duration": 23,
    "start_time": "2023-09-26T07:09:37.483Z"
   },
   {
    "duration": 34,
    "start_time": "2023-09-26T07:09:37.508Z"
   },
   {
    "duration": 4,
    "start_time": "2023-09-26T07:09:37.550Z"
   },
   {
    "duration": 13,
    "start_time": "2023-09-26T07:09:37.555Z"
   },
   {
    "duration": 23,
    "start_time": "2023-09-26T07:09:37.570Z"
   },
   {
    "duration": 12,
    "start_time": "2023-09-26T07:09:37.594Z"
   },
   {
    "duration": 5,
    "start_time": "2023-09-26T07:09:37.607Z"
   },
   {
    "duration": 54,
    "start_time": "2023-09-26T07:09:37.613Z"
   },
   {
    "duration": 9,
    "start_time": "2023-09-26T07:09:37.669Z"
   },
   {
    "duration": 6,
    "start_time": "2023-09-26T07:09:37.680Z"
   },
   {
    "duration": 17,
    "start_time": "2023-09-26T07:09:37.688Z"
   },
   {
    "duration": 29,
    "start_time": "2023-09-26T07:09:37.707Z"
   },
   {
    "duration": 24,
    "start_time": "2023-09-26T07:09:37.738Z"
   },
   {
    "duration": 4,
    "start_time": "2023-09-26T07:09:37.764Z"
   },
   {
    "duration": 11,
    "start_time": "2023-09-26T07:09:37.770Z"
   },
   {
    "duration": 7,
    "start_time": "2023-09-26T07:09:37.782Z"
   },
   {
    "duration": 4,
    "start_time": "2023-09-26T07:09:37.791Z"
   },
   {
    "duration": 13,
    "start_time": "2023-09-26T07:09:37.796Z"
   },
   {
    "duration": 40,
    "start_time": "2023-09-26T07:09:37.811Z"
   },
   {
    "duration": 11,
    "start_time": "2023-09-26T07:09:37.853Z"
   },
   {
    "duration": 13,
    "start_time": "2023-09-26T07:09:37.865Z"
   },
   {
    "duration": 18,
    "start_time": "2023-09-26T07:09:37.879Z"
   },
   {
    "duration": 435,
    "start_time": "2023-09-26T07:10:20.291Z"
   },
   {
    "duration": 19,
    "start_time": "2023-09-26T07:10:20.728Z"
   },
   {
    "duration": 45,
    "start_time": "2023-09-26T07:10:20.749Z"
   },
   {
    "duration": 21,
    "start_time": "2023-09-26T07:10:20.797Z"
   },
   {
    "duration": 67,
    "start_time": "2023-09-26T07:10:20.820Z"
   },
   {
    "duration": 4,
    "start_time": "2023-09-26T07:10:20.888Z"
   },
   {
    "duration": 26,
    "start_time": "2023-09-26T07:10:20.893Z"
   },
   {
    "duration": 17,
    "start_time": "2023-09-26T07:10:20.921Z"
   },
   {
    "duration": 32,
    "start_time": "2023-09-26T07:10:20.940Z"
   },
   {
    "duration": 57,
    "start_time": "2023-09-26T07:10:20.975Z"
   },
   {
    "duration": 53,
    "start_time": "2023-09-26T07:10:21.034Z"
   },
   {
    "duration": 11,
    "start_time": "2023-09-26T07:10:21.088Z"
   },
   {
    "duration": 34,
    "start_time": "2023-09-26T07:10:21.100Z"
   },
   {
    "duration": 24,
    "start_time": "2023-09-26T07:10:21.135Z"
   },
   {
    "duration": 30,
    "start_time": "2023-09-26T07:10:21.161Z"
   },
   {
    "duration": 22,
    "start_time": "2023-09-26T07:10:21.193Z"
   },
   {
    "duration": 8,
    "start_time": "2023-09-26T07:10:21.217Z"
   },
   {
    "duration": 23,
    "start_time": "2023-09-26T07:10:21.226Z"
   },
   {
    "duration": 28,
    "start_time": "2023-09-26T07:10:21.250Z"
   },
   {
    "duration": 15,
    "start_time": "2023-09-26T07:10:21.280Z"
   },
   {
    "duration": 42,
    "start_time": "2023-09-26T07:10:21.296Z"
   },
   {
    "duration": 24,
    "start_time": "2023-09-26T07:10:21.340Z"
   },
   {
    "duration": 8,
    "start_time": "2023-09-26T07:10:21.366Z"
   },
   {
    "duration": 19,
    "start_time": "2023-09-26T07:10:21.376Z"
   },
   {
    "duration": 29,
    "start_time": "2023-09-26T07:10:21.396Z"
   },
   {
    "duration": 471,
    "start_time": "2023-09-26T07:14:15.056Z"
   },
   {
    "duration": 21,
    "start_time": "2023-09-26T07:14:15.529Z"
   },
   {
    "duration": 26,
    "start_time": "2023-09-26T07:14:15.552Z"
   },
   {
    "duration": 21,
    "start_time": "2023-09-26T07:14:15.579Z"
   },
   {
    "duration": 70,
    "start_time": "2023-09-26T07:14:15.602Z"
   },
   {
    "duration": 4,
    "start_time": "2023-09-26T07:14:15.673Z"
   },
   {
    "duration": 28,
    "start_time": "2023-09-26T07:14:15.678Z"
   },
   {
    "duration": 37,
    "start_time": "2023-09-26T07:14:15.708Z"
   },
   {
    "duration": 29,
    "start_time": "2023-09-26T07:14:15.747Z"
   },
   {
    "duration": 41,
    "start_time": "2023-09-26T07:14:15.779Z"
   },
   {
    "duration": 63,
    "start_time": "2023-09-26T07:14:15.822Z"
   },
   {
    "duration": 27,
    "start_time": "2023-09-26T07:14:15.887Z"
   },
   {
    "duration": 25,
    "start_time": "2023-09-26T07:14:15.916Z"
   },
   {
    "duration": 57,
    "start_time": "2023-09-26T07:14:15.943Z"
   },
   {
    "duration": 40,
    "start_time": "2023-09-26T07:14:16.002Z"
   },
   {
    "duration": 22,
    "start_time": "2023-09-26T07:14:16.044Z"
   },
   {
    "duration": 4,
    "start_time": "2023-09-26T07:14:16.068Z"
   },
   {
    "duration": 42,
    "start_time": "2023-09-26T07:14:16.074Z"
   },
   {
    "duration": 24,
    "start_time": "2023-09-26T07:14:16.118Z"
   },
   {
    "duration": 18,
    "start_time": "2023-09-26T07:14:16.144Z"
   },
   {
    "duration": 22,
    "start_time": "2023-09-26T07:14:16.164Z"
   },
   {
    "duration": 43,
    "start_time": "2023-09-26T07:14:16.188Z"
   },
   {
    "duration": 19,
    "start_time": "2023-09-26T07:14:16.234Z"
   },
   {
    "duration": 18,
    "start_time": "2023-09-26T07:14:16.255Z"
   },
   {
    "duration": 11,
    "start_time": "2023-09-26T07:14:16.275Z"
   },
   {
    "duration": 487,
    "start_time": "2023-09-26T07:15:36.542Z"
   },
   {
    "duration": 27,
    "start_time": "2023-09-26T07:15:37.032Z"
   },
   {
    "duration": 118,
    "start_time": "2023-09-26T07:15:37.061Z"
   },
   {
    "duration": 51,
    "start_time": "2023-09-26T07:15:37.182Z"
   },
   {
    "duration": 57,
    "start_time": "2023-09-26T07:15:37.235Z"
   },
   {
    "duration": 9,
    "start_time": "2023-09-26T07:15:37.294Z"
   },
   {
    "duration": 28,
    "start_time": "2023-09-26T07:15:37.305Z"
   },
   {
    "duration": 64,
    "start_time": "2023-09-26T07:15:37.335Z"
   },
   {
    "duration": 20,
    "start_time": "2023-09-26T07:15:37.401Z"
   },
   {
    "duration": 33,
    "start_time": "2023-09-26T07:15:37.424Z"
   },
   {
    "duration": 38,
    "start_time": "2023-09-26T07:15:37.458Z"
   },
   {
    "duration": 11,
    "start_time": "2023-09-26T07:15:37.497Z"
   },
   {
    "duration": 5,
    "start_time": "2023-09-26T07:15:37.510Z"
   },
   {
    "duration": 24,
    "start_time": "2023-09-26T07:15:37.516Z"
   },
   {
    "duration": 24,
    "start_time": "2023-09-26T07:15:37.542Z"
   },
   {
    "duration": 16,
    "start_time": "2023-09-26T07:15:37.567Z"
   },
   {
    "duration": 9,
    "start_time": "2023-09-26T07:15:37.584Z"
   },
   {
    "duration": 30,
    "start_time": "2023-09-26T07:15:37.595Z"
   },
   {
    "duration": 27,
    "start_time": "2023-09-26T07:15:37.627Z"
   },
   {
    "duration": 8,
    "start_time": "2023-09-26T07:15:37.655Z"
   },
   {
    "duration": 31,
    "start_time": "2023-09-26T07:15:37.665Z"
   },
   {
    "duration": 31,
    "start_time": "2023-09-26T07:15:37.698Z"
   },
   {
    "duration": 27,
    "start_time": "2023-09-26T07:15:37.731Z"
   },
   {
    "duration": 11,
    "start_time": "2023-09-26T07:15:37.760Z"
   },
   {
    "duration": 9,
    "start_time": "2023-09-26T07:15:37.773Z"
   },
   {
    "duration": 439,
    "start_time": "2023-09-26T07:16:28.999Z"
   },
   {
    "duration": 22,
    "start_time": "2023-09-26T07:16:29.439Z"
   },
   {
    "duration": 30,
    "start_time": "2023-09-26T07:16:29.462Z"
   },
   {
    "duration": 26,
    "start_time": "2023-09-26T07:16:29.495Z"
   },
   {
    "duration": 46,
    "start_time": "2023-09-26T07:16:29.524Z"
   },
   {
    "duration": 3,
    "start_time": "2023-09-26T07:16:29.572Z"
   },
   {
    "duration": 19,
    "start_time": "2023-09-26T07:16:29.577Z"
   },
   {
    "duration": 16,
    "start_time": "2023-09-26T07:16:29.598Z"
   },
   {
    "duration": 20,
    "start_time": "2023-09-26T07:16:29.616Z"
   },
   {
    "duration": 8,
    "start_time": "2023-09-26T07:16:29.638Z"
   },
   {
    "duration": 41,
    "start_time": "2023-09-26T07:16:29.647Z"
   },
   {
    "duration": 10,
    "start_time": "2023-09-26T07:16:29.689Z"
   },
   {
    "duration": 9,
    "start_time": "2023-09-26T07:16:29.701Z"
   },
   {
    "duration": 22,
    "start_time": "2023-09-26T07:16:29.712Z"
   },
   {
    "duration": 21,
    "start_time": "2023-09-26T07:16:29.736Z"
   },
   {
    "duration": 26,
    "start_time": "2023-09-26T07:16:29.759Z"
   },
   {
    "duration": 4,
    "start_time": "2023-09-26T07:16:29.788Z"
   },
   {
    "duration": 17,
    "start_time": "2023-09-26T07:16:29.793Z"
   },
   {
    "duration": 15,
    "start_time": "2023-09-26T07:16:29.812Z"
   },
   {
    "duration": 18,
    "start_time": "2023-09-26T07:16:29.828Z"
   },
   {
    "duration": 15,
    "start_time": "2023-09-26T07:16:29.848Z"
   },
   {
    "duration": 26,
    "start_time": "2023-09-26T07:16:29.864Z"
   },
   {
    "duration": 82,
    "start_time": "2023-09-26T07:16:29.891Z"
   },
   {
    "duration": 0,
    "start_time": "2023-09-26T07:16:29.975Z"
   },
   {
    "duration": 0,
    "start_time": "2023-09-26T07:16:29.976Z"
   },
   {
    "duration": 475,
    "start_time": "2023-09-26T07:16:44.471Z"
   },
   {
    "duration": 28,
    "start_time": "2023-09-26T07:16:44.948Z"
   },
   {
    "duration": 23,
    "start_time": "2023-09-26T07:16:44.978Z"
   },
   {
    "duration": 77,
    "start_time": "2023-09-26T07:16:45.004Z"
   },
   {
    "duration": 61,
    "start_time": "2023-09-26T07:16:45.083Z"
   },
   {
    "duration": 3,
    "start_time": "2023-09-26T07:16:45.146Z"
   },
   {
    "duration": 23,
    "start_time": "2023-09-26T07:16:45.150Z"
   },
   {
    "duration": 41,
    "start_time": "2023-09-26T07:16:45.174Z"
   },
   {
    "duration": 14,
    "start_time": "2023-09-26T07:16:45.217Z"
   },
   {
    "duration": 22,
    "start_time": "2023-09-26T07:16:45.233Z"
   },
   {
    "duration": 39,
    "start_time": "2023-09-26T07:16:45.257Z"
   },
   {
    "duration": 10,
    "start_time": "2023-09-26T07:16:45.297Z"
   },
   {
    "duration": 12,
    "start_time": "2023-09-26T07:16:45.309Z"
   },
   {
    "duration": 21,
    "start_time": "2023-09-26T07:16:45.322Z"
   },
   {
    "duration": 33,
    "start_time": "2023-09-26T07:16:45.345Z"
   },
   {
    "duration": 16,
    "start_time": "2023-09-26T07:16:45.380Z"
   },
   {
    "duration": 4,
    "start_time": "2023-09-26T07:16:45.397Z"
   },
   {
    "duration": 21,
    "start_time": "2023-09-26T07:16:45.403Z"
   },
   {
    "duration": 9,
    "start_time": "2023-09-26T07:16:45.426Z"
   },
   {
    "duration": 29,
    "start_time": "2023-09-26T07:16:45.437Z"
   },
   {
    "duration": 30,
    "start_time": "2023-09-26T07:16:45.468Z"
   },
   {
    "duration": 39,
    "start_time": "2023-09-26T07:16:45.500Z"
   },
   {
    "duration": 21,
    "start_time": "2023-09-26T07:16:45.541Z"
   },
   {
    "duration": 7,
    "start_time": "2023-09-26T07:16:45.564Z"
   },
   {
    "duration": 15,
    "start_time": "2023-09-26T07:16:45.572Z"
   },
   {
    "duration": 488,
    "start_time": "2023-09-26T07:19:34.342Z"
   },
   {
    "duration": 22,
    "start_time": "2023-09-26T07:19:34.832Z"
   },
   {
    "duration": 33,
    "start_time": "2023-09-26T07:19:34.856Z"
   },
   {
    "duration": 12,
    "start_time": "2023-09-26T07:19:34.891Z"
   },
   {
    "duration": 44,
    "start_time": "2023-09-26T07:19:34.905Z"
   },
   {
    "duration": 4,
    "start_time": "2023-09-26T07:19:34.951Z"
   },
   {
    "duration": 30,
    "start_time": "2023-09-26T07:19:34.957Z"
   },
   {
    "duration": 20,
    "start_time": "2023-09-26T07:19:34.989Z"
   },
   {
    "duration": 13,
    "start_time": "2023-09-26T07:19:35.010Z"
   },
   {
    "duration": 6,
    "start_time": "2023-09-26T07:19:35.026Z"
   },
   {
    "duration": 43,
    "start_time": "2023-09-26T07:19:35.034Z"
   },
   {
    "duration": 17,
    "start_time": "2023-09-26T07:19:35.079Z"
   },
   {
    "duration": 13,
    "start_time": "2023-09-26T07:19:35.098Z"
   },
   {
    "duration": 23,
    "start_time": "2023-09-26T07:19:35.113Z"
   },
   {
    "duration": 38,
    "start_time": "2023-09-26T07:19:35.138Z"
   },
   {
    "duration": 18,
    "start_time": "2023-09-26T07:19:35.178Z"
   },
   {
    "duration": 3,
    "start_time": "2023-09-26T07:19:35.198Z"
   },
   {
    "duration": 24,
    "start_time": "2023-09-26T07:19:35.203Z"
   },
   {
    "duration": 22,
    "start_time": "2023-09-26T07:19:35.228Z"
   },
   {
    "duration": 4,
    "start_time": "2023-09-26T07:19:35.252Z"
   },
   {
    "duration": 19,
    "start_time": "2023-09-26T07:19:35.258Z"
   },
   {
    "duration": 22,
    "start_time": "2023-09-26T07:19:35.279Z"
   },
   {
    "duration": 22,
    "start_time": "2023-09-26T07:19:35.302Z"
   },
   {
    "duration": 32,
    "start_time": "2023-09-26T07:19:35.325Z"
   },
   {
    "duration": 8,
    "start_time": "2023-09-26T07:19:35.359Z"
   },
   {
    "duration": 457,
    "start_time": "2023-09-26T07:26:39.257Z"
   },
   {
    "duration": 20,
    "start_time": "2023-09-26T07:26:39.715Z"
   },
   {
    "duration": 15,
    "start_time": "2023-09-26T07:26:39.736Z"
   },
   {
    "duration": 9,
    "start_time": "2023-09-26T07:26:39.753Z"
   },
   {
    "duration": 34,
    "start_time": "2023-09-26T07:26:39.764Z"
   },
   {
    "duration": 4,
    "start_time": "2023-09-26T07:26:39.799Z"
   },
   {
    "duration": 29,
    "start_time": "2023-09-26T07:26:39.804Z"
   },
   {
    "duration": 12,
    "start_time": "2023-09-26T07:26:39.835Z"
   },
   {
    "duration": 9,
    "start_time": "2023-09-26T07:26:39.848Z"
   },
   {
    "duration": 19,
    "start_time": "2023-09-26T07:26:39.859Z"
   },
   {
    "duration": 45,
    "start_time": "2023-09-26T07:26:39.879Z"
   },
   {
    "duration": 10,
    "start_time": "2023-09-26T07:26:39.925Z"
   },
   {
    "duration": 10,
    "start_time": "2023-09-26T07:26:39.937Z"
   },
   {
    "duration": 23,
    "start_time": "2023-09-26T07:26:39.949Z"
   },
   {
    "duration": 35,
    "start_time": "2023-09-26T07:26:39.974Z"
   },
   {
    "duration": 22,
    "start_time": "2023-09-26T07:26:40.011Z"
   },
   {
    "duration": 4,
    "start_time": "2023-09-26T07:26:40.035Z"
   },
   {
    "duration": 15,
    "start_time": "2023-09-26T07:26:40.041Z"
   },
   {
    "duration": 20,
    "start_time": "2023-09-26T07:26:40.058Z"
   },
   {
    "duration": 20,
    "start_time": "2023-09-26T07:26:40.079Z"
   },
   {
    "duration": 30,
    "start_time": "2023-09-26T07:26:40.100Z"
   },
   {
    "duration": 28,
    "start_time": "2023-09-26T07:26:40.132Z"
   },
   {
    "duration": 18,
    "start_time": "2023-09-26T07:26:40.162Z"
   },
   {
    "duration": 18,
    "start_time": "2023-09-26T07:26:40.182Z"
   },
   {
    "duration": 16,
    "start_time": "2023-09-26T07:26:40.202Z"
   },
   {
    "duration": 461,
    "start_time": "2023-09-26T07:31:17.855Z"
   },
   {
    "duration": 21,
    "start_time": "2023-09-26T07:31:18.318Z"
   },
   {
    "duration": 14,
    "start_time": "2023-09-26T07:31:18.341Z"
   },
   {
    "duration": 10,
    "start_time": "2023-09-26T07:31:18.357Z"
   },
   {
    "duration": 35,
    "start_time": "2023-09-26T07:31:18.368Z"
   },
   {
    "duration": 4,
    "start_time": "2023-09-26T07:31:18.404Z"
   },
   {
    "duration": 10,
    "start_time": "2023-09-26T07:31:18.409Z"
   },
   {
    "duration": 37,
    "start_time": "2023-09-26T07:31:18.421Z"
   },
   {
    "duration": 9,
    "start_time": "2023-09-26T07:31:18.460Z"
   },
   {
    "duration": 5,
    "start_time": "2023-09-26T07:31:18.471Z"
   },
   {
    "duration": 80,
    "start_time": "2023-09-26T07:31:18.477Z"
   },
   {
    "duration": 9,
    "start_time": "2023-09-26T07:31:18.559Z"
   },
   {
    "duration": 10,
    "start_time": "2023-09-26T07:31:18.569Z"
   },
   {
    "duration": 16,
    "start_time": "2023-09-26T07:31:18.581Z"
   },
   {
    "duration": 40,
    "start_time": "2023-09-26T07:31:18.599Z"
   },
   {
    "duration": 23,
    "start_time": "2023-09-26T07:31:18.641Z"
   },
   {
    "duration": 12,
    "start_time": "2023-09-26T07:31:18.666Z"
   },
   {
    "duration": 43,
    "start_time": "2023-09-26T07:31:18.679Z"
   },
   {
    "duration": 8,
    "start_time": "2023-09-26T07:31:18.723Z"
   },
   {
    "duration": 4,
    "start_time": "2023-09-26T07:31:18.732Z"
   },
   {
    "duration": 22,
    "start_time": "2023-09-26T07:31:18.737Z"
   },
   {
    "duration": 23,
    "start_time": "2023-09-26T07:31:18.760Z"
   },
   {
    "duration": 18,
    "start_time": "2023-09-26T07:31:18.784Z"
   },
   {
    "duration": 29,
    "start_time": "2023-09-26T07:31:18.804Z"
   },
   {
    "duration": 20,
    "start_time": "2023-09-26T07:31:18.835Z"
   },
   {
    "duration": 768,
    "start_time": "2023-10-10T13:21:44.173Z"
   },
   {
    "duration": 35,
    "start_time": "2023-10-10T13:21:44.942Z"
   },
   {
    "duration": 18,
    "start_time": "2023-10-10T13:21:44.978Z"
   },
   {
    "duration": 16,
    "start_time": "2023-10-10T13:21:44.998Z"
   },
   {
    "duration": 85,
    "start_time": "2023-10-10T13:21:45.015Z"
   },
   {
    "duration": 47,
    "start_time": "2023-10-10T13:21:45.102Z"
   },
   {
    "duration": 33,
    "start_time": "2023-10-10T13:21:45.151Z"
   },
   {
    "duration": 13,
    "start_time": "2023-10-10T13:21:45.186Z"
   },
   {
    "duration": 29,
    "start_time": "2023-10-10T13:21:45.201Z"
   },
   {
    "duration": 29,
    "start_time": "2023-10-10T13:21:45.232Z"
   },
   {
    "duration": 55,
    "start_time": "2023-10-10T13:21:45.263Z"
   },
   {
    "duration": 10,
    "start_time": "2023-10-10T13:21:45.320Z"
   },
   {
    "duration": 41,
    "start_time": "2023-10-10T13:21:45.331Z"
   },
   {
    "duration": 35,
    "start_time": "2023-10-10T13:21:45.374Z"
   },
   {
    "duration": 68,
    "start_time": "2023-10-10T13:21:45.411Z"
   },
   {
    "duration": 15,
    "start_time": "2023-10-10T13:21:45.481Z"
   },
   {
    "duration": 11,
    "start_time": "2023-10-10T13:21:45.498Z"
   },
   {
    "duration": 64,
    "start_time": "2023-10-10T13:21:45.510Z"
   },
   {
    "duration": 6,
    "start_time": "2023-10-10T13:21:45.576Z"
   },
   {
    "duration": 20,
    "start_time": "2023-10-10T13:21:45.583Z"
   },
   {
    "duration": 26,
    "start_time": "2023-10-10T13:21:45.604Z"
   },
   {
    "duration": 50,
    "start_time": "2023-10-10T13:21:45.632Z"
   },
   {
    "duration": 18,
    "start_time": "2023-10-10T13:21:45.683Z"
   },
   {
    "duration": 21,
    "start_time": "2023-10-10T13:21:45.703Z"
   },
   {
    "duration": 39,
    "start_time": "2023-10-10T13:21:45.725Z"
   }
  ],
  "celltoolbar": "Необработанный формат ячейки",
  "colab": {
   "provenance": []
  },
  "kernelspec": {
   "display_name": "Python 3 (ipykernel)",
   "language": "python",
   "name": "python3"
  },
  "language_info": {
   "codemirror_mode": {
    "name": "ipython",
    "version": 3
   },
   "file_extension": ".py",
   "mimetype": "text/x-python",
   "name": "python",
   "nbconvert_exporter": "python",
   "pygments_lexer": "ipython3",
   "version": "3.11.4"
  },
  "toc": {
   "base_numbering": 1,
   "nav_menu": {},
   "number_sections": true,
   "sideBar": true,
   "skip_h1_title": true,
   "title_cell": "Table of Contents",
   "title_sidebar": "Contents",
   "toc_cell": false,
   "toc_position": {},
   "toc_section_display": true,
   "toc_window_display": false
  }
 },
 "nbformat": 4,
 "nbformat_minor": 5
}
