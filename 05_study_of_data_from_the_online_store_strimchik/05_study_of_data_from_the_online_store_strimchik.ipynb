{
 "cells": [
  {
   "cell_type": "markdown",
   "metadata": {},
   "source": [
    "# Исследование данных интернет-магазина «Стримчик»\n",
    "\n",
    "Вы работаете в интернет-магазине «Стримчик», который продаёт по всему миру компьютерные игры. Из открытых источников доступны исторические данные о продажах игр, оценки пользователей и экспертов, жанры и платформы (например, Xbox или PlayStation). Вам нужно выявить определяющие успешность игры закономерности. Это позволит сделать ставку на потенциально популярный продукт и спланировать рекламные кампании.\n",
    "\n",
    "Перед вами данные до 2016 года. Представим, что сейчас декабрь 2016 г., и вы планируете кампанию на 2017-й. Нужно отработать принцип работы с данными. Неважно, прогнозируете ли вы продажи на 2017 год по данным 2016-го или же 2027-й — по данным 2026 года.\n",
    "\n",
    "В наборе данных попадается аббревиатура ESRB (Entertainment Software Rating Board) — это ассоциация, определяющая возрастной рейтинг компьютерных игр. ESRB оценивает игровой контент и присваивает ему подходящую возрастную категорию, например, «Для взрослых», «Для детей младшего возраста» или «Для подростков».\n",
    "\n",
    "## Инструкция по выполнению проекта ##\n",
    "\n",
    "### Шаг 1. Откройте файл с данными и изучите общую информацию ###\n",
    "\n",
    "Путь к файлу: /datasets/games.csv.\n",
    "\n",
    "### Шаг 2. Подготовьте данные ###\n",
    "\n",
    " - Замените названия столбцов (приведите к нижнему регистру);\n",
    " - Преобразуйте данные в нужные типы. Опишите, в каких столбцах заменили тип данных и почему;\n",
    " - Обработайте пропуски при необходимости:\n",
    "   - Объясните, почему заполнили пропуски определённым образом или почему не стали это делать;\n",
    "   - Опишите причины, которые могли привести к пропускам;\n",
    "   - Обратите внимание на аббревиатуру 'tbd' в столбце с оценкой пользователей. Отдельно разберите это значение и опишите, как его обработать;\n",
    " - Посчитайте суммарные продажи во всех регионах и запишите их в отдельный столбец.\n",
    " \n",
    "### Шаг 3. Проведите исследовательский анализ данных ###\n",
    "\n",
    " - Посмотрите, сколько игр выпускалось в разные годы. Важны ли данные за все периоды?\n",
    " - Посмотрите, как менялись продажи по платформам. Выберите платформы с наибольшими суммарными продажами и постройте распределение по годам. За какой характерный срок появляются новые и исчезают старые платформы?\n",
    " - Возьмите данные за соответствующий **актуальный период**. Актуальный период определите самостоятельно в результате исследования предыдущих вопросов. Основной фактор — эти данные помогут построить прогноз на 2017 год.\n",
    " - Не учитывайте в работе данные за **предыдущие годы**.\n",
    " - Какие платформы лидируют по продажам, растут или падают? Выберите несколько потенциально прибыльных платформ.\n",
    " - Постройте график «ящик с усами» по глобальным продажам игр в разбивке по платформам. Опишите результат.\n",
    " - Посмотрите, как влияют на продажи внутри одной популярной платформы отзывы пользователей и критиков. Постройте диаграмму рассеяния и посчитайте корреляцию между отзывами и продажами. Сформулируйте выводы.\n",
    " - Соотнесите выводы с продажами игр на других платформах.\n",
    " - Посмотрите на общее распределение игр по жанрам. Что можно сказать о самых прибыльных жанрах? Выделяются ли жанры с высокими и низкими продажами?\n",
    " \n",
    "### Шаг 4. Составьте портрет пользователя каждого региона ###\n",
    "\n",
    "Определите для пользователя каждого региона (NA, EU, JP):\n",
    " - Самые популярные платформы (топ-5). Опишите различия в долях продаж.\n",
    " - Самые популярные жанры (топ-5). Поясните разницу.\n",
    " - Влияет ли рейтинг ESRB на продажи в отдельном регионе?\n",
    " \n",
    "### Шаг 5. Проверьте гипотезы ###\n",
    "\n",
    " - Средние пользовательские рейтинги платформ Xbox One и PC одинаковые;\n",
    " - Средние пользовательские рейтинги жанров Action (англ. «действие», экшен-игры) и Sports (англ. «спортивные соревнования») разные.\n",
    " \n",
    "Задайте самостоятельно пороговое значение alpha.\n",
    "\n",
    "Поясните:\n",
    "\n",
    " - Как вы сформулировали нулевую и альтернативную гипотезы;\n",
    " - Какой критерий применили для проверки гипотез и почему.\n",
    " \n",
    "### Шаг 6. Напишите общий вывод ###\n",
    "\n",
    "**Оформление**: Выполните задание в Jupyter Notebook. Заполните программный код в ячейках типа code, текстовые пояснения — в ячейках типа markdown. Примените форматирование и заголовки.\n",
    "\n",
    "## Описание данных ##\n",
    "\n",
    " - Name — название игры\n",
    " - Platform — платформа\n",
    " - Year_of_Release — год выпуска\n",
    " - Genre — жанр игры\n",
    " - NA_sales — продажи в Северной Америке (миллионы проданных копий)\n",
    " - EU_sales — продажи в Европе (миллионы проданных копий)\n",
    " - JP_sales — продажи в Японии (миллионы проданных копий)\n",
    " - Other_sales — продажи в других странах (миллионы проданных копий)\n",
    " - Critic_Score — оценка критиков (максимум 100)\n",
    " - User_Score — оценка пользователей (максимум 10)\n",
    " - Rating — рейтинг от организации ESRB (англ. Entertainment Software Rating Board). Эта ассоциация определяет рейтинг компьютерных игр и присваивает им подходящую возрастную категорию.\n",
    " \n",
    "Данные за 2016 год могут быть неполными."
   ]
  },
  {
   "cell_type": "markdown",
   "metadata": {},
   "source": [
    "#### Шаг 1. Загрузка данных"
   ]
  },
  {
   "cell_type": "code",
   "execution_count": 1,
   "metadata": {},
   "outputs": [],
   "source": [
    "import pandas as pd\n",
    "import matplotlib.pyplot as plt\n",
    "import numpy as np\n",
    "from scipy import stats as st"
   ]
  },
  {
   "cell_type": "code",
   "execution_count": 2,
   "metadata": {},
   "outputs": [
    {
     "data": {
      "text/html": [
       "<div>\n",
       "<style scoped>\n",
       "    .dataframe tbody tr th:only-of-type {\n",
       "        vertical-align: middle;\n",
       "    }\n",
       "\n",
       "    .dataframe tbody tr th {\n",
       "        vertical-align: top;\n",
       "    }\n",
       "\n",
       "    .dataframe thead th {\n",
       "        text-align: right;\n",
       "    }\n",
       "</style>\n",
       "<table border=\"1\" class=\"dataframe\">\n",
       "  <thead>\n",
       "    <tr style=\"text-align: right;\">\n",
       "      <th></th>\n",
       "      <th>Name</th>\n",
       "      <th>Platform</th>\n",
       "      <th>Year_of_Release</th>\n",
       "      <th>Genre</th>\n",
       "      <th>NA_sales</th>\n",
       "      <th>EU_sales</th>\n",
       "      <th>JP_sales</th>\n",
       "      <th>Other_sales</th>\n",
       "      <th>Critic_Score</th>\n",
       "      <th>User_Score</th>\n",
       "      <th>Rating</th>\n",
       "    </tr>\n",
       "  </thead>\n",
       "  <tbody>\n",
       "    <tr>\n",
       "      <th>0</th>\n",
       "      <td>Wii Sports</td>\n",
       "      <td>Wii</td>\n",
       "      <td>2006.0</td>\n",
       "      <td>Sports</td>\n",
       "      <td>41.36</td>\n",
       "      <td>28.96</td>\n",
       "      <td>3.77</td>\n",
       "      <td>8.45</td>\n",
       "      <td>76.0</td>\n",
       "      <td>8</td>\n",
       "      <td>E</td>\n",
       "    </tr>\n",
       "    <tr>\n",
       "      <th>1</th>\n",
       "      <td>Super Mario Bros.</td>\n",
       "      <td>NES</td>\n",
       "      <td>1985.0</td>\n",
       "      <td>Platform</td>\n",
       "      <td>29.08</td>\n",
       "      <td>3.58</td>\n",
       "      <td>6.81</td>\n",
       "      <td>0.77</td>\n",
       "      <td>NaN</td>\n",
       "      <td>NaN</td>\n",
       "      <td>NaN</td>\n",
       "    </tr>\n",
       "    <tr>\n",
       "      <th>2</th>\n",
       "      <td>Mario Kart Wii</td>\n",
       "      <td>Wii</td>\n",
       "      <td>2008.0</td>\n",
       "      <td>Racing</td>\n",
       "      <td>15.68</td>\n",
       "      <td>12.76</td>\n",
       "      <td>3.79</td>\n",
       "      <td>3.29</td>\n",
       "      <td>82.0</td>\n",
       "      <td>8.3</td>\n",
       "      <td>E</td>\n",
       "    </tr>\n",
       "    <tr>\n",
       "      <th>3</th>\n",
       "      <td>Wii Sports Resort</td>\n",
       "      <td>Wii</td>\n",
       "      <td>2009.0</td>\n",
       "      <td>Sports</td>\n",
       "      <td>15.61</td>\n",
       "      <td>10.93</td>\n",
       "      <td>3.28</td>\n",
       "      <td>2.95</td>\n",
       "      <td>80.0</td>\n",
       "      <td>8</td>\n",
       "      <td>E</td>\n",
       "    </tr>\n",
       "    <tr>\n",
       "      <th>4</th>\n",
       "      <td>Pokemon Red/Pokemon Blue</td>\n",
       "      <td>GB</td>\n",
       "      <td>1996.0</td>\n",
       "      <td>Role-Playing</td>\n",
       "      <td>11.27</td>\n",
       "      <td>8.89</td>\n",
       "      <td>10.22</td>\n",
       "      <td>1.00</td>\n",
       "      <td>NaN</td>\n",
       "      <td>NaN</td>\n",
       "      <td>NaN</td>\n",
       "    </tr>\n",
       "  </tbody>\n",
       "</table>\n",
       "</div>"
      ],
      "text/plain": [
       "                       Name Platform  Year_of_Release         Genre  NA_sales  \\\n",
       "0                Wii Sports      Wii           2006.0        Sports     41.36   \n",
       "1         Super Mario Bros.      NES           1985.0      Platform     29.08   \n",
       "2            Mario Kart Wii      Wii           2008.0        Racing     15.68   \n",
       "3         Wii Sports Resort      Wii           2009.0        Sports     15.61   \n",
       "4  Pokemon Red/Pokemon Blue       GB           1996.0  Role-Playing     11.27   \n",
       "\n",
       "   EU_sales  JP_sales  Other_sales  Critic_Score User_Score Rating  \n",
       "0     28.96      3.77         8.45          76.0          8      E  \n",
       "1      3.58      6.81         0.77           NaN        NaN    NaN  \n",
       "2     12.76      3.79         3.29          82.0        8.3      E  \n",
       "3     10.93      3.28         2.95          80.0          8      E  \n",
       "4      8.89     10.22         1.00           NaN        NaN    NaN  "
      ]
     },
     "metadata": {},
     "output_type": "display_data"
    }
   ],
   "source": [
    "df = pd.read_csv('/datasets/games.csv')\n",
    "display(df.head())"
   ]
  },
  {
   "cell_type": "code",
   "execution_count": 3,
   "metadata": {},
   "outputs": [
    {
     "name": "stdout",
     "output_type": "stream",
     "text": [
      "<class 'pandas.core.frame.DataFrame'>\n",
      "RangeIndex: 16715 entries, 0 to 16714\n",
      "Data columns (total 11 columns):\n",
      " #   Column           Non-Null Count  Dtype  \n",
      "---  ------           --------------  -----  \n",
      " 0   Name             16713 non-null  object \n",
      " 1   Platform         16715 non-null  object \n",
      " 2   Year_of_Release  16446 non-null  float64\n",
      " 3   Genre            16713 non-null  object \n",
      " 4   NA_sales         16715 non-null  float64\n",
      " 5   EU_sales         16715 non-null  float64\n",
      " 6   JP_sales         16715 non-null  float64\n",
      " 7   Other_sales      16715 non-null  float64\n",
      " 8   Critic_Score     8137 non-null   float64\n",
      " 9   User_Score       10014 non-null  object \n",
      " 10  Rating           9949 non-null   object \n",
      "dtypes: float64(6), object(5)\n",
      "memory usage: 1.4+ MB\n"
     ]
    }
   ],
   "source": [
    "df.info()"
   ]
  },
  {
   "cell_type": "markdown",
   "metadata": {},
   "source": [
    "**Вывод**: В датасете 16715 строк. В некоторых столбцах имеется неверный тип данных."
   ]
  },
  {
   "cell_type": "markdown",
   "metadata": {},
   "source": [
    "#### Шаг 2. Подготовка данных\n",
    "\n",
    " - Замените названия столбцов (приведите к нижнему регистру);\n",
    " - Преобразуйте данные в нужные типы. Опишите, в каких столбцах заменили тип данных и почему;\n",
    " - Обработайте пропуски при необходимости:\n",
    "   - Объясните, почему заполнили пропуски определённым образом или почему не стали это делать;\n",
    "   - Опишите причины, которые могли привести к пропускам;\n",
    "   - Обратите внимание на аббревиатуру 'tbd' в столбце с оценкой пользователей. Отдельно разберите это значение и опишите, как его обработать;\n",
    " - Посчитайте суммарные продажи во всех регионах и запишите их в отдельный столбец."
   ]
  },
  {
   "cell_type": "code",
   "execution_count": 4,
   "metadata": {},
   "outputs": [],
   "source": [
    "df.columns = df.columns.str.lower() # Приводим название столбцов к нижнему регистру"
   ]
  },
  {
   "cell_type": "code",
   "execution_count": 5,
   "metadata": {},
   "outputs": [
    {
     "data": {
      "text/plain": [
       "name                  2\n",
       "platform              0\n",
       "year_of_release     269\n",
       "genre                 2\n",
       "na_sales              0\n",
       "eu_sales              0\n",
       "jp_sales              0\n",
       "other_sales           0\n",
       "critic_score       8578\n",
       "user_score         6701\n",
       "rating             6766\n",
       "dtype: int64"
      ]
     },
     "execution_count": 5,
     "metadata": {},
     "output_type": "execute_result"
    }
   ],
   "source": [
    "df.isna().sum() # Проверяем наличие пропусков"
   ]
  },
  {
   "cell_type": "code",
   "execution_count": 6,
   "metadata": {},
   "outputs": [
    {
     "data": {
      "text/html": [
       "<style  type=\"text/css\" >\n",
       "#T_27094_row0_col0,#T_27094_row1_col0,#T_27094_row3_col0,#T_27094_row4_col0,#T_27094_row5_col0,#T_27094_row6_col0,#T_27094_row7_col0{\n",
       "            background-color:  #3b4cc0;\n",
       "            color:  #f1f1f1;\n",
       "        }#T_27094_row2_col0{\n",
       "            background-color:  #4358cb;\n",
       "            color:  #f1f1f1;\n",
       "        }#T_27094_row8_col0{\n",
       "            background-color:  #b40426;\n",
       "            color:  #f1f1f1;\n",
       "        }#T_27094_row9_col0{\n",
       "            background-color:  #f08b6e;\n",
       "            color:  #000000;\n",
       "        }#T_27094_row10_col0{\n",
       "            background-color:  #ef886b;\n",
       "            color:  #000000;\n",
       "        }</style><table id=\"T_27094_\" ><thead>    <tr>        <th class=\"blank level0\" ></th>        <th class=\"col_heading level0 col0\" >0</th>    </tr></thead><tbody>\n",
       "                <tr>\n",
       "                        <th id=\"T_27094_level0_row0\" class=\"row_heading level0 row0\" >name</th>\n",
       "                        <td id=\"T_27094_row0_col0\" class=\"data row0 col0\" >0.000000</td>\n",
       "            </tr>\n",
       "            <tr>\n",
       "                        <th id=\"T_27094_level0_row1\" class=\"row_heading level0 row1\" >platform</th>\n",
       "                        <td id=\"T_27094_row1_col0\" class=\"data row1 col0\" >0.000000</td>\n",
       "            </tr>\n",
       "            <tr>\n",
       "                        <th id=\"T_27094_level0_row2\" class=\"row_heading level0 row2\" >year_of_release</th>\n",
       "                        <td id=\"T_27094_row2_col0\" class=\"data row2 col0\" >1.600000</td>\n",
       "            </tr>\n",
       "            <tr>\n",
       "                        <th id=\"T_27094_level0_row3\" class=\"row_heading level0 row3\" >genre</th>\n",
       "                        <td id=\"T_27094_row3_col0\" class=\"data row3 col0\" >0.000000</td>\n",
       "            </tr>\n",
       "            <tr>\n",
       "                        <th id=\"T_27094_level0_row4\" class=\"row_heading level0 row4\" >na_sales</th>\n",
       "                        <td id=\"T_27094_row4_col0\" class=\"data row4 col0\" >0.000000</td>\n",
       "            </tr>\n",
       "            <tr>\n",
       "                        <th id=\"T_27094_level0_row5\" class=\"row_heading level0 row5\" >eu_sales</th>\n",
       "                        <td id=\"T_27094_row5_col0\" class=\"data row5 col0\" >0.000000</td>\n",
       "            </tr>\n",
       "            <tr>\n",
       "                        <th id=\"T_27094_level0_row6\" class=\"row_heading level0 row6\" >jp_sales</th>\n",
       "                        <td id=\"T_27094_row6_col0\" class=\"data row6 col0\" >0.000000</td>\n",
       "            </tr>\n",
       "            <tr>\n",
       "                        <th id=\"T_27094_level0_row7\" class=\"row_heading level0 row7\" >other_sales</th>\n",
       "                        <td id=\"T_27094_row7_col0\" class=\"data row7 col0\" >0.000000</td>\n",
       "            </tr>\n",
       "            <tr>\n",
       "                        <th id=\"T_27094_level0_row8\" class=\"row_heading level0 row8\" >critic_score</th>\n",
       "                        <td id=\"T_27094_row8_col0\" class=\"data row8 col0\" >51.300000</td>\n",
       "            </tr>\n",
       "            <tr>\n",
       "                        <th id=\"T_27094_level0_row9\" class=\"row_heading level0 row9\" >user_score</th>\n",
       "                        <td id=\"T_27094_row9_col0\" class=\"data row9 col0\" >40.100000</td>\n",
       "            </tr>\n",
       "            <tr>\n",
       "                        <th id=\"T_27094_level0_row10\" class=\"row_heading level0 row10\" >rating</th>\n",
       "                        <td id=\"T_27094_row10_col0\" class=\"data row10 col0\" >40.500000</td>\n",
       "            </tr>\n",
       "    </tbody></table>"
      ],
      "text/plain": [
       "<pandas.io.formats.style.Styler at 0x7fa22f0f70d0>"
      ]
     },
     "execution_count": 6,
     "metadata": {},
     "output_type": "execute_result"
    }
   ],
   "source": [
    "pd.DataFrame(round(df.isna().mean()*100,1)).style.background_gradient('coolwarm') # Уточняем % соотношение пропусков"
   ]
  },
  {
   "cell_type": "code",
   "execution_count": 7,
   "metadata": {},
   "outputs": [
    {
     "data": {
      "text/plain": [
       "0"
      ]
     },
     "execution_count": 7,
     "metadata": {},
     "output_type": "execute_result"
    }
   ],
   "source": [
    "df.duplicated().sum() # Проверяем наличие явных дубликатов"
   ]
  },
  {
   "cell_type": "code",
   "execution_count": 8,
   "metadata": {},
   "outputs": [
    {
     "data": {
      "text/plain": [
       "2"
      ]
     },
     "execution_count": 8,
     "metadata": {},
     "output_type": "execute_result"
    }
   ],
   "source": [
    "df[['name', 'platform', 'year_of_release']].duplicated().sum()"
   ]
  },
  {
   "cell_type": "code",
   "execution_count": 9,
   "metadata": {},
   "outputs": [
    {
     "data": {
      "text/html": [
       "<div>\n",
       "<style scoped>\n",
       "    .dataframe tbody tr th:only-of-type {\n",
       "        vertical-align: middle;\n",
       "    }\n",
       "\n",
       "    .dataframe tbody tr th {\n",
       "        vertical-align: top;\n",
       "    }\n",
       "\n",
       "    .dataframe thead th {\n",
       "        text-align: right;\n",
       "    }\n",
       "</style>\n",
       "<table border=\"1\" class=\"dataframe\">\n",
       "  <thead>\n",
       "    <tr style=\"text-align: right;\">\n",
       "      <th></th>\n",
       "      <th>name</th>\n",
       "      <th>platform</th>\n",
       "      <th>year_of_release</th>\n",
       "    </tr>\n",
       "  </thead>\n",
       "  <tbody>\n",
       "    <tr>\n",
       "      <th>0</th>\n",
       "      <td>Wii Sports</td>\n",
       "      <td>Wii</td>\n",
       "      <td>2006.0</td>\n",
       "    </tr>\n",
       "    <tr>\n",
       "      <th>1</th>\n",
       "      <td>Super Mario Bros.</td>\n",
       "      <td>NES</td>\n",
       "      <td>1985.0</td>\n",
       "    </tr>\n",
       "    <tr>\n",
       "      <th>2</th>\n",
       "      <td>Mario Kart Wii</td>\n",
       "      <td>Wii</td>\n",
       "      <td>2008.0</td>\n",
       "    </tr>\n",
       "    <tr>\n",
       "      <th>3</th>\n",
       "      <td>Wii Sports Resort</td>\n",
       "      <td>Wii</td>\n",
       "      <td>2009.0</td>\n",
       "    </tr>\n",
       "    <tr>\n",
       "      <th>4</th>\n",
       "      <td>Pokemon Red/Pokemon Blue</td>\n",
       "      <td>GB</td>\n",
       "      <td>1996.0</td>\n",
       "    </tr>\n",
       "    <tr>\n",
       "      <th>...</th>\n",
       "      <td>...</td>\n",
       "      <td>...</td>\n",
       "      <td>...</td>\n",
       "    </tr>\n",
       "    <tr>\n",
       "      <th>16710</th>\n",
       "      <td>Samurai Warriors: Sanada Maru</td>\n",
       "      <td>PS3</td>\n",
       "      <td>2016.0</td>\n",
       "    </tr>\n",
       "    <tr>\n",
       "      <th>16711</th>\n",
       "      <td>LMA Manager 2007</td>\n",
       "      <td>X360</td>\n",
       "      <td>2006.0</td>\n",
       "    </tr>\n",
       "    <tr>\n",
       "      <th>16712</th>\n",
       "      <td>Haitaka no Psychedelica</td>\n",
       "      <td>PSV</td>\n",
       "      <td>2016.0</td>\n",
       "    </tr>\n",
       "    <tr>\n",
       "      <th>16713</th>\n",
       "      <td>Spirits &amp; Spells</td>\n",
       "      <td>GBA</td>\n",
       "      <td>2003.0</td>\n",
       "    </tr>\n",
       "    <tr>\n",
       "      <th>16714</th>\n",
       "      <td>Winning Post 8 2016</td>\n",
       "      <td>PSV</td>\n",
       "      <td>2016.0</td>\n",
       "    </tr>\n",
       "  </tbody>\n",
       "</table>\n",
       "<p>16713 rows × 3 columns</p>\n",
       "</div>"
      ],
      "text/plain": [
       "                                name platform  year_of_release\n",
       "0                         Wii Sports      Wii           2006.0\n",
       "1                  Super Mario Bros.      NES           1985.0\n",
       "2                     Mario Kart Wii      Wii           2008.0\n",
       "3                  Wii Sports Resort      Wii           2009.0\n",
       "4           Pokemon Red/Pokemon Blue       GB           1996.0\n",
       "...                              ...      ...              ...\n",
       "16710  Samurai Warriors: Sanada Maru      PS3           2016.0\n",
       "16711               LMA Manager 2007     X360           2006.0\n",
       "16712        Haitaka no Psychedelica      PSV           2016.0\n",
       "16713               Spirits & Spells      GBA           2003.0\n",
       "16714            Winning Post 8 2016      PSV           2016.0\n",
       "\n",
       "[16713 rows x 3 columns]"
      ]
     },
     "execution_count": 9,
     "metadata": {},
     "output_type": "execute_result"
    }
   ],
   "source": [
    "df[['name', 'platform', 'year_of_release']].drop_duplicates()"
   ]
  },
  {
   "cell_type": "code",
   "execution_count": 10,
   "metadata": {},
   "outputs": [
    {
     "data": {
      "text/html": [
       "<div>\n",
       "<style scoped>\n",
       "    .dataframe tbody tr th:only-of-type {\n",
       "        vertical-align: middle;\n",
       "    }\n",
       "\n",
       "    .dataframe tbody tr th {\n",
       "        vertical-align: top;\n",
       "    }\n",
       "\n",
       "    .dataframe thead th {\n",
       "        text-align: right;\n",
       "    }\n",
       "</style>\n",
       "<table border=\"1\" class=\"dataframe\">\n",
       "  <thead>\n",
       "    <tr style=\"text-align: right;\">\n",
       "      <th></th>\n",
       "      <th>name</th>\n",
       "      <th>platform</th>\n",
       "      <th>year_of_release</th>\n",
       "      <th>genre</th>\n",
       "      <th>na_sales</th>\n",
       "      <th>eu_sales</th>\n",
       "      <th>jp_sales</th>\n",
       "      <th>other_sales</th>\n",
       "      <th>critic_score</th>\n",
       "      <th>user_score</th>\n",
       "      <th>rating</th>\n",
       "    </tr>\n",
       "  </thead>\n",
       "  <tbody>\n",
       "    <tr>\n",
       "      <th>14244</th>\n",
       "      <td>NaN</td>\n",
       "      <td>GEN</td>\n",
       "      <td>1993.0</td>\n",
       "      <td>NaN</td>\n",
       "      <td>0.0</td>\n",
       "      <td>0.00</td>\n",
       "      <td>0.03</td>\n",
       "      <td>0.0</td>\n",
       "      <td>NaN</td>\n",
       "      <td>NaN</td>\n",
       "      <td>NaN</td>\n",
       "    </tr>\n",
       "    <tr>\n",
       "      <th>16230</th>\n",
       "      <td>Madden NFL 13</td>\n",
       "      <td>PS3</td>\n",
       "      <td>2012.0</td>\n",
       "      <td>Sports</td>\n",
       "      <td>0.0</td>\n",
       "      <td>0.01</td>\n",
       "      <td>0.00</td>\n",
       "      <td>0.0</td>\n",
       "      <td>83.0</td>\n",
       "      <td>5.5</td>\n",
       "      <td>E</td>\n",
       "    </tr>\n",
       "  </tbody>\n",
       "</table>\n",
       "</div>"
      ],
      "text/plain": [
       "                name platform  year_of_release   genre  na_sales  eu_sales  \\\n",
       "14244            NaN      GEN           1993.0     NaN       0.0      0.00   \n",
       "16230  Madden NFL 13      PS3           2012.0  Sports       0.0      0.01   \n",
       "\n",
       "       jp_sales  other_sales  critic_score user_score rating  \n",
       "14244      0.03          0.0           NaN        NaN    NaN  \n",
       "16230      0.00          0.0          83.0        5.5      E  "
      ]
     },
     "execution_count": 10,
     "metadata": {},
     "output_type": "execute_result"
    }
   ],
   "source": [
    "df[df.duplicated(['name', 'platform', 'year_of_release'])]"
   ]
  },
  {
   "cell_type": "code",
   "execution_count": 11,
   "metadata": {},
   "outputs": [],
   "source": [
    "df.drop_duplicates(['name', 'platform', 'year_of_release'], inplace=True)"
   ]
  },
  {
   "cell_type": "code",
   "execution_count": 12,
   "metadata": {},
   "outputs": [],
   "source": [
    "df.dropna(subset=['year_of_release'], inplace=True) # Удаляем пропуски, т.к. их всего 1,6%"
   ]
  },
  {
   "cell_type": "code",
   "execution_count": 13,
   "metadata": {},
   "outputs": [],
   "source": [
    "df.replace('tbd', np.nan, inplace=True) # Заменяем значение 'tbd' на пропуски, для возможности дальнейшего анализа"
   ]
  },
  {
   "cell_type": "code",
   "execution_count": 14,
   "metadata": {},
   "outputs": [],
   "source": [
    "df['year_of_release'] = df['year_of_release'].astype(int) # Меняем тип данных на целочислительный\n",
    "df['user_score'] = df['user_score'].astype(float) # Меняем тип данных на вещественный"
   ]
  },
  {
   "cell_type": "code",
   "execution_count": 15,
   "metadata": {},
   "outputs": [],
   "source": [
    "# Считаем суммарные продажи во всех регионах и записываем их в отдельный столбец\n",
    "df['sum_sales'] = df['na_sales'] + df['eu_sales'] + df['jp_sales'] + df['other_sales']"
   ]
  },
  {
   "cell_type": "markdown",
   "metadata": {},
   "source": [
    "**Выводы**\n",
    "\n",
    "1. Приведены названия столбцов к нижнему регистру. \n",
    "2. Преобразованы данные в столбце year_of_release, в нужный тип, т.к. год не может выражаться в виде вещественного числа.\n",
    "3. Удалены те строки, в которых имелись пропущенные значения в столбце year_of_release. Это было допустимо, т.к. процентное соотношение пропущенных значений в этом столбце составляло всего 1,6%.\n",
    "4. В столбце user_score тип данных не был изменён, т.к. было бы неправильным удалить 40% пропущенных значений. Заполнения пропущенных значений не было, т.к. в этом не было необходимости.\n",
    "5. Посчитаны суммарные продажи во всех регионах и записаны в отдельный столбец.\n",
    "6. Заменяем значение 'tbd' на пропуски, для возможности дальнейшего анализа.\n",
    "\n",
    "Пропуски могли появиться, потому что:\n",
    "\n",
    "1. Некоторые данные могли быть просто не заполнены.\n",
    "2. Ошибки или проблемы в сборе или записи данных могли привести к пропускам информации."
   ]
  },
  {
   "cell_type": "markdown",
   "metadata": {},
   "source": [
    "#### Шаг 3. Исследовательский анализ данных\n",
    "\n",
    " - Посмотрите, сколько игр выпускалось в разные годы. Важны ли данные за все периоды?\n",
    " - Посмотрите, как менялись продажи по платформам. Выберите платформы с наибольшими суммарными продажами и постройте распределение по годам. За какой характерный срок появляются новые и исчезают старые платформы?\n",
    " - Возьмите данные за соответствующий **актуальный период**. Актуальный период определите самостоятельно в результате исследования предыдущих вопросов. Основной фактор — эти данные помогут построить прогноз на 2017 год.\n",
    " - Не учитывайте в работе данные за **предыдущие годы**.\n",
    " - Какие платформы лидируют по продажам, растут или падают? Выберите несколько потенциально прибыльных платформ.\n",
    " - Постройте график «ящик с усами» по глобальным продажам игр в разбивке по платформам. Опишите результат.\n",
    " - Посмотрите, как влияют на продажи внутри одной популярной платформы отзывы пользователей и критиков. Постройте диаграмму рассеяния и посчитайте корреляцию между отзывами и продажами. Сформулируйте выводы.\n",
    " - Соотнесите выводы с продажами игр на других платформах.\n",
    " - Посмотрите на общее распределение игр по жанрам. Что можно сказать о самых прибыльных жанрах? Выделяются ли жанры с высокими и низкими продажами?"
   ]
  },
  {
   "cell_type": "markdown",
   "metadata": {},
   "source": [
    "Посмотрите, сколько игр выпускалось в разные годы. Важны ли данные за все периоды?"
   ]
  },
  {
   "cell_type": "code",
   "execution_count": 17,
   "metadata": {},
   "outputs": [
    {
     "data": {
      "image/png": "[encoded data removed]",
      "text/plain": [
       "<Figure size 720x288 with 1 Axes>"
      ]
     },
     "metadata": {
      "needs_background": "light"
     },
     "output_type": "display_data"
    }
   ],
   "source": [
    "df['year_of_release'].value_counts().sort_index().plot.bar(figsize=(10, 4))\n",
    "plt.title('Cколько игр выпускалось в разные годы')\n",
    "plt.xlabel('Года')\n",
    "plt.ylabel('Количество')\n",
    "plt.show()"
   ]
  },
  {
   "cell_type": "markdown",
   "metadata": {},
   "source": [
    "Не все периоды важны, т.к. рост начался только с 1991 г."
   ]
  },
  {
   "cell_type": "markdown",
   "metadata": {},
   "source": [
    "Посмотрите, как менялись продажи по платформам. Выберите платформы с наибольшими суммарными продажами и постройте распределение по годам. За какой характерный срок появляются новые и исчезают старые платформы?"
   ]
  },
  {
   "cell_type": "code",
   "execution_count": 18,
   "metadata": {},
   "outputs": [
    {
     "data": {
      "text/plain": [
       "platform\n",
       "PCFX       0.03\n",
       "GG         0.04\n",
       "3DO        0.10\n",
       "TG16       0.16\n",
       "WS         1.42\n",
       "NG         1.44\n",
       "SCD        1.86\n",
       "DC        15.95\n",
       "GEN       30.74\n",
       "SAT       33.59\n",
       "PSV       53.81\n",
       "WiiU      82.19\n",
       "2600      86.48\n",
       "XOne     159.32\n",
       "GC       196.73\n",
       "SNES     200.04\n",
       "N64      218.01\n",
       "NES      251.05\n",
       "XB       251.57\n",
       "GB       254.43\n",
       "PC       255.76\n",
       "3DS      257.81\n",
       "PSP      289.53\n",
       "GBA      312.88\n",
       "PS4      314.14\n",
       "PS       727.58\n",
       "DS       802.78\n",
       "Wii      891.18\n",
       "PS3      931.33\n",
       "X360     961.24\n",
       "PS2     1233.56\n",
       "Name: sum_sales, dtype: float64"
      ]
     },
     "execution_count": 18,
     "metadata": {},
     "output_type": "execute_result"
    }
   ],
   "source": [
    "df.groupby('platform')['sum_sales'].sum().sort_values() # Выводим общую сумму продаж по каждой платформе"
   ]
  },
  {
   "cell_type": "code",
   "execution_count": 19,
   "metadata": {},
   "outputs": [
    {
     "data": {
      "image/png": "[encoded data removed]",
      "text/plain": [
       "<Figure size 1080x432 with 1 Axes>"
      ]
     },
     "metadata": {
      "needs_background": "light"
     },
     "output_type": "display_data"
    }
   ],
   "source": [
    "df.pivot_table(index='platform', values='sum_sales', aggfunc='sum').sort_values(by='sum_sales', ascending=False).plot.bar(grid=True, figsize=(15, 6))\n",
    "plt.title('Суммарные продажи по платформам')\n",
    "plt.xlabel('Платформы')\n",
    "plt.ylabel('Продажи')\n",
    "plt.show()"
   ]
  },
  {
   "cell_type": "code",
   "execution_count": 20,
   "metadata": {},
   "outputs": [
    {
     "data": {
      "text/html": [
       "<div>\n",
       "<style scoped>\n",
       "    .dataframe tbody tr th:only-of-type {\n",
       "        vertical-align: middle;\n",
       "    }\n",
       "\n",
       "    .dataframe tbody tr th {\n",
       "        vertical-align: top;\n",
       "    }\n",
       "\n",
       "    .dataframe thead th {\n",
       "        text-align: right;\n",
       "    }\n",
       "</style>\n",
       "<table border=\"1\" class=\"dataframe\">\n",
       "  <thead>\n",
       "    <tr style=\"text-align: right;\">\n",
       "      <th></th>\n",
       "      <th>name</th>\n",
       "      <th>platform</th>\n",
       "      <th>year_of_release</th>\n",
       "      <th>genre</th>\n",
       "      <th>na_sales</th>\n",
       "      <th>eu_sales</th>\n",
       "      <th>jp_sales</th>\n",
       "      <th>other_sales</th>\n",
       "      <th>critic_score</th>\n",
       "      <th>user_score</th>\n",
       "      <th>rating</th>\n",
       "      <th>sum_sales</th>\n",
       "    </tr>\n",
       "  </thead>\n",
       "  <tbody>\n",
       "    <tr>\n",
       "      <th>15957</th>\n",
       "      <td>Strongest Tokyo University Shogi DS</td>\n",
       "      <td>DS</td>\n",
       "      <td>1985</td>\n",
       "      <td>Action</td>\n",
       "      <td>0.0</td>\n",
       "      <td>0.0</td>\n",
       "      <td>0.02</td>\n",
       "      <td>0.0</td>\n",
       "      <td>NaN</td>\n",
       "      <td>NaN</td>\n",
       "      <td>NaN</td>\n",
       "      <td>0.02</td>\n",
       "    </tr>\n",
       "  </tbody>\n",
       "</table>\n",
       "</div>"
      ],
      "text/plain": [
       "                                      name platform  year_of_release   genre  \\\n",
       "15957  Strongest Tokyo University Shogi DS       DS             1985  Action   \n",
       "\n",
       "       na_sales  eu_sales  jp_sales  other_sales  critic_score  user_score  \\\n",
       "15957       0.0       0.0      0.02          0.0           NaN         NaN   \n",
       "\n",
       "      rating  sum_sales  \n",
       "15957    NaN       0.02  "
      ]
     },
     "execution_count": 20,
     "metadata": {},
     "output_type": "execute_result"
    }
   ],
   "source": [
    "df.loc[(df['year_of_release'] == 1985) & (df['platform'] == 'DS')]"
   ]
  },
  {
   "cell_type": "code",
   "execution_count": 21,
   "metadata": {},
   "outputs": [],
   "source": [
    "df.loc[15957, 'year_of_release'] = 2010"
   ]
  },
  {
   "cell_type": "code",
   "execution_count": 22,
   "metadata": {},
   "outputs": [
    {
     "data": {
      "image/png": "[encoded data removed]",
      "text/plain": [
       "<Figure size 1080x432 with 1 Axes>"
      ]
     },
     "metadata": {
      "needs_background": "light"
     },
     "output_type": "display_data"
    },
    {
     "data": {
      "image/png": "[encoded data removed]",
      "text/plain": [
       "<Figure size 1080x432 with 1 Axes>"
      ]
     },
     "metadata": {
      "needs_background": "light"
     },
     "output_type": "display_data"
    },
    {
     "data": {
      "image/png": "[encoded data removed]",
      "text/plain": [
       "<Figure size 1080x432 with 1 Axes>"
      ]
     },
     "metadata": {
      "needs_background": "light"
     },
     "output_type": "display_data"
    },
    {
     "data": {
      "image/png": "[encoded data removed]",
      "text/plain": [
       "<Figure size 1080x432 with 1 Axes>"
      ]
     },
     "metadata": {
      "needs_background": "light"
     },
     "output_type": "display_data"
    },
    {
     "data": {
      "image/png": "[encoded data removed]",
      "text/plain": [
       "<Figure size 1080x432 with 1 Axes>"
      ]
     },
     "metadata": {
      "needs_background": "light"
     },
     "output_type": "display_data"
    },
    {
     "data": {
      "image/png": "[encoded data removed]",
      "text/plain": [
       "<Figure size 1080x432 with 1 Axes>"
      ]
     },
     "metadata": {
      "needs_background": "light"
     },
     "output_type": "display_data"
    }
   ],
   "source": [
    "platforms = ['PS2', 'X360', 'PS3', 'Wii', 'DS', 'PS']\n",
    "\n",
    "for platform in platforms:\n",
    "    df.loc[df['platform'] == platform].pivot_table(index='year_of_release', values='sum_sales', aggfunc='sum').plot.bar(grid=True, figsize=(15, 6))\n",
    "    plt.title(f'Как менялись продажи по годам у {platform}')\n",
    "    plt.xlabel('Года')\n",
    "    plt.ylabel('Продажи')\n",
    "    plt.show()"
   ]
  },
  {
   "cell_type": "markdown",
   "metadata": {},
   "source": [
    "За 7 лет, появляются новые и исчезают старые платформы."
   ]
  },
  {
   "cell_type": "markdown",
   "metadata": {},
   "source": [
    "Возьмите данные за соответствующий актуальный период. Актуальный период определите самостоятельно в результате исследования предыдущих вопросов. Основной фактор — эти данные помогут построить прогноз на 2017 год."
   ]
  },
  {
   "cell_type": "markdown",
   "metadata": {},
   "source": [
    "Не учитывайте в работе данные за предыдущие годы."
   ]
  },
  {
   "cell_type": "markdown",
   "metadata": {},
   "source": [
    "Какие платформы лидируют по продажам, растут или падают? Выберите несколько потенциально прибыльных платформ."
   ]
  },
  {
   "cell_type": "markdown",
   "metadata": {},
   "source": [
    "В решении задачи использовать года с 2013 по 2016"
   ]
  },
  {
   "cell_type": "code",
   "execution_count": 24,
   "metadata": {},
   "outputs": [
    {
     "data": {
      "text/plain": [
       "platform\n",
       "DS        1.54\n",
       "PSP       3.50\n",
       "Wii      13.66\n",
       "PSV      32.99\n",
       "PC       39.43\n",
       "WiiU     64.63\n",
       "X360    136.80\n",
       "3DS     143.25\n",
       "XOne    159.32\n",
       "PS3     181.43\n",
       "PS4     314.14\n",
       "Name: sum_sales, dtype: float64"
      ]
     },
     "execution_count": 24,
     "metadata": {},
     "output_type": "execute_result"
    }
   ],
   "source": [
    "# Выводим общие суммы продаж по каждой платформе за года, которые шли после 2012 г.\n",
    "df.loc[df['year_of_release'] > 2012].groupby('platform')['sum_sales'].sum().sort_values()"
   ]
  },
  {
   "cell_type": "code",
   "execution_count": 25,
   "metadata": {},
   "outputs": [],
   "source": [
    "last_years = df.loc[df['year_of_release'] > 2012]"
   ]
  },
  {
   "cell_type": "code",
   "execution_count": 26,
   "metadata": {},
   "outputs": [
    {
     "data": {
      "image/png": "[encoded data removed]",
      "text/plain": [
       "<Figure size 1080x432 with 1 Axes>"
      ]
     },
     "metadata": {
      "needs_background": "light"
     },
     "output_type": "display_data"
    },
    {
     "data": {
      "image/png": "[encoded data removed]",
      "text/plain": [
       "<Figure size 1080x432 with 1 Axes>"
      ]
     },
     "metadata": {
      "needs_background": "light"
     },
     "output_type": "display_data"
    },
    {
     "data": {
      "image/png": "[encoded data removed]",
      "text/plain": [
       "<Figure size 1080x432 with 1 Axes>"
      ]
     },
     "metadata": {
      "needs_background": "light"
     },
     "output_type": "display_data"
    },
    {
     "data": {
      "image/png": "[encoded data removed]",
      "text/plain": [
       "<Figure size 1080x432 with 1 Axes>"
      ]
     },
     "metadata": {
      "needs_background": "light"
     },
     "output_type": "display_data"
    },
    {
     "data": {
      "image/png": "[encoded data removed]",
      "text/plain": [
       "<Figure size 1080x432 with 1 Axes>"
      ]
     },
     "metadata": {
      "needs_background": "light"
     },
     "output_type": "display_data"
    },
    {
     "data": {
      "image/png": "[encoded data removed]",
      "text/plain": [
       "<Figure size 1080x432 with 1 Axes>"
      ]
     },
     "metadata": {
      "needs_background": "light"
     },
     "output_type": "display_data"
    },
    {
     "data": {
      "image/png": "[encoded data removed]",
      "text/plain": [
       "<Figure size 1080x432 with 1 Axes>"
      ]
     },
     "metadata": {
      "needs_background": "light"
     },
     "output_type": "display_data"
    },
    {
     "data": {
      "image/png": "[encoded data removed]",
      "text/plain": [
       "<Figure size 1080x432 with 1 Axes>"
      ]
     },
     "metadata": {
      "needs_background": "light"
     },
     "output_type": "display_data"
    },
    {
     "data": {
      "image/png": "[encoded data removed]",
      "text/plain": [
       "<Figure size 1080x432 with 1 Axes>"
      ]
     },
     "metadata": {
      "needs_background": "light"
     },
     "output_type": "display_data"
    },
    {
     "data": {
      "image/png": "[encoded data removed]",
      "text/plain": [
       "<Figure size 1080x432 with 1 Axes>"
      ]
     },
     "metadata": {
      "needs_background": "light"
     },
     "output_type": "display_data"
    },
    {
     "data": {
      "image/png": "[encoded data removed]",
      "text/plain": [
       "<Figure size 1080x432 with 1 Axes>"
      ]
     },
     "metadata": {
      "needs_background": "light"
     },
     "output_type": "display_data"
    }
   ],
   "source": [
    "platforms_2 = ['PS4', 'PS3', 'XOne', '3DS', 'X360', 'WiiU', 'PC', 'PSV', 'Wii', 'PSP', 'DS']\n",
    "\n",
    "for platform in platforms_2:\n",
    "    last_years.loc[last_years['platform'] == platform].pivot_table(index='year_of_release', values='sum_sales', aggfunc='sum').plot.bar(grid=True, figsize=(15, 6))\n",
    "    plt.title(f'Как менялись продажи по годам у {platform}')\n",
    "    plt.xlabel('Года')\n",
    "    plt.ylabel('Продажи')\n",
    "    plt.show()"
   ]
  },
  {
   "cell_type": "markdown",
   "metadata": {},
   "source": [
    "По продажам лидируют:\n",
    "\n",
    "1. PS4\n",
    "2. PS3\n",
    "3. XOne\n",
    "4. 3DS\n",
    "5. X360\n",
    "\n",
    "У большинства платформ падают продажи. У остальных платформ, нет выраженного роста или падения продаж."
   ]
  },
  {
   "cell_type": "markdown",
   "metadata": {},
   "source": [
    "Постройте график «ящик с усами» по глобальным продажам игр в разбивке по платформам. Опишите результат."
   ]
  },
  {
   "cell_type": "code",
   "execution_count": 27,
   "metadata": {},
   "outputs": [
    {
     "data": {
      "image/png": "[encoded data removed]",
      "text/plain": [
       "<Figure size 1224x360 with 1 Axes>"
      ]
     },
     "metadata": {
      "needs_background": "light"
     },
     "output_type": "display_data"
    },
    {
     "data": {
      "image/png": "[encoded data removed]",
      "text/plain": [
       "<Figure size 1224x360 with 1 Axes>"
      ]
     },
     "metadata": {
      "needs_background": "light"
     },
     "output_type": "display_data"
    }
   ],
   "source": [
    "last_years.boxplot(column='sum_sales', by='platform', figsize=(17, 5))\n",
    "plt.title('Глобальные продажи игр по платформам')\n",
    "plt.xlabel('Платформы')\n",
    "plt.ylabel('Продажи')\n",
    "plt.ylim(0, 2)\n",
    "plt.suptitle('')\n",
    "plt.show()\n",
    "last_years.boxplot(column='sum_sales', by='platform', figsize=(17, 5))\n",
    "plt.title('Глобальные продажи игр по платформам')\n",
    "plt.xlabel('Платформы')\n",
    "plt.ylabel('Продажи')\n",
    "plt.suptitle('')\n",
    "plt.show()"
   ]
  },
  {
   "cell_type": "markdown",
   "metadata": {},
   "source": [
    "Самая высокая медиана по количеству продаж наблюдается у X360 и XOne, а самая низкая у PSP и PSV."
   ]
  },
  {
   "cell_type": "markdown",
   "metadata": {},
   "source": [
    "Посмотрите, как влияют на продажи внутри одной популярной платформы отзывы пользователей и критиков. Постройте диаграмму рассеяния и посчитайте корреляцию между отзывами и продажами. Сформулируйте выводы.\n",
    "\n",
    " - Critic_Score — оценка критиков (максимум 100)\n",
    " - User_Score — оценка пользователей (максимум 10)"
   ]
  },
  {
   "cell_type": "code",
   "execution_count": 28,
   "metadata": {},
   "outputs": [
    {
     "data": {
      "image/png": "[encoded data removed]",
      "text/plain": [
       "<Figure size 1224x288 with 1 Axes>"
      ]
     },
     "metadata": {
      "needs_background": "light"
     },
     "output_type": "display_data"
    },
    {
     "name": "stdout",
     "output_type": "stream",
     "text": [
      "Корреляция составляет: 0.407\n"
     ]
    },
    {
     "data": {
      "image/png": "[encoded data removed]",
      "text/plain": [
       "<Figure size 1224x288 with 1 Axes>"
      ]
     },
     "metadata": {
      "needs_background": "light"
     },
     "output_type": "display_data"
    },
    {
     "name": "stdout",
     "output_type": "stream",
     "text": [
      "Корреляция составляет: -0.032\n"
     ]
    }
   ],
   "source": [
    "last_years_ps4 = last_years.loc[last_years['platform'] == 'PS4']\n",
    "last_years_ps4.plot(x='sum_sales', y='critic_score', kind='scatter', grid=True, figsize=(17, 4))\n",
    "plt.title('Как влияют оценки критиков на продажи по PS4')\n",
    "plt.xlabel('Продажи')\n",
    "plt.ylabel('Оценки критиков')\n",
    "plt.xlim(0, 8)\n",
    "plt.ylim()\n",
    "plt.show()\n",
    "print('Корреляция составляет:', round(last_years_ps4['sum_sales'].corr(last_years_ps4['critic_score']),3))\n",
    "last_years_ps4.plot(x='sum_sales', y='user_score', kind='scatter', grid=True, figsize=(17, 4))\n",
    "plt.title('Как влияют оценки пользователей на продажи по PS4')\n",
    "plt.xlabel('Продажи')\n",
    "plt.ylabel('Оценки пользователей')\n",
    "plt.xlim(0, 8)\n",
    "plt.ylim()\n",
    "plt.show()\n",
    "print('Корреляция составляет:', round(last_years_ps4['sum_sales'].corr(last_years_ps4['user_score']),3))"
   ]
  },
  {
   "cell_type": "markdown",
   "metadata": {},
   "source": [
    "Оценки критиков слабо влияют на продажи по PS4, а оценки пользователей влияют очень слабо."
   ]
  },
  {
   "cell_type": "markdown",
   "metadata": {},
   "source": [
    "Соотнесите выводы с продажами игр на других платформах."
   ]
  },
  {
   "cell_type": "code",
   "execution_count": 29,
   "metadata": {},
   "outputs": [
    {
     "data": {
      "image/png": "[encoded data removed]",
      "text/plain": [
       "<Figure size 1224x288 with 1 Axes>"
      ]
     },
     "metadata": {
      "needs_background": "light"
     },
     "output_type": "display_data"
    },
    {
     "name": "stdout",
     "output_type": "stream",
     "text": [
      "Корреляция составляет: 0.334\n"
     ]
    },
    {
     "data": {
      "image/png": "[encoded data removed]",
      "text/plain": [
       "<Figure size 1224x288 with 1 Axes>"
      ]
     },
     "metadata": {
      "needs_background": "light"
     },
     "output_type": "display_data"
    },
    {
     "name": "stdout",
     "output_type": "stream",
     "text": [
      "Корреляция составляет: 0.002\n"
     ]
    },
    {
     "data": {
      "image/png": "[encoded data removed]",
      "text/plain": [
       "<Figure size 1224x288 with 1 Axes>"
      ]
     },
     "metadata": {
      "needs_background": "light"
     },
     "output_type": "display_data"
    },
    {
     "name": "stdout",
     "output_type": "stream",
     "text": [
      "Корреляция составляет: 0.417\n"
     ]
    },
    {
     "data": {
      "image/png": "[encoded data removed]",
      "text/plain": [
       "<Figure size 1224x288 with 1 Axes>"
      ]
     },
     "metadata": {
      "needs_background": "light"
     },
     "output_type": "display_data"
    },
    {
     "name": "stdout",
     "output_type": "stream",
     "text": [
      "Корреляция составляет: -0.069\n"
     ]
    },
    {
     "data": {
      "image/png": "[encoded data removed]",
      "text/plain": [
       "<Figure size 1224x288 with 1 Axes>"
      ]
     },
     "metadata": {
      "needs_background": "light"
     },
     "output_type": "display_data"
    },
    {
     "name": "stdout",
     "output_type": "stream",
     "text": [
      "Корреляция составляет: 0.357\n"
     ]
    },
    {
     "data": {
      "image/png": "[encoded data removed]",
      "text/plain": [
       "<Figure size 1224x288 with 1 Axes>"
      ]
     },
     "metadata": {
      "needs_background": "light"
     },
     "output_type": "display_data"
    },
    {
     "name": "stdout",
     "output_type": "stream",
     "text": [
      "Корреляция составляет: 0.242\n"
     ]
    },
    {
     "data": {
      "image/png": "[encoded data removed]",
      "text/plain": [
       "<Figure size 1224x288 with 1 Axes>"
      ]
     },
     "metadata": {
      "needs_background": "light"
     },
     "output_type": "display_data"
    },
    {
     "name": "stdout",
     "output_type": "stream",
     "text": [
      "Корреляция составляет: 0.35\n"
     ]
    },
    {
     "data": {
      "image/png": "[encoded data removed]",
      "text/plain": [
       "<Figure size 1224x288 with 1 Axes>"
      ]
     },
     "metadata": {
      "needs_background": "light"
     },
     "output_type": "display_data"
    },
    {
     "name": "stdout",
     "output_type": "stream",
     "text": [
      "Корреляция составляет: -0.012\n"
     ]
    }
   ],
   "source": [
    "platforms_3 = ['PS3', 'XOne', '3DS', 'X360']\n",
    "\n",
    "for platform in platforms_3:\n",
    "    platform_data = last_years.loc[last_years['platform'] == platform]\n",
    "    \n",
    "    platform_data.plot(x='sum_sales', y='critic_score', kind='scatter', grid=True, figsize=(17, 4))\n",
    "    plt.title(f'Как влияют оценки критиков на продажи по {platform}')\n",
    "    plt.xlabel('Продажи')\n",
    "    plt.ylabel('Оценки критиков')\n",
    "    plt.xlim(0, 8)\n",
    "    plt.ylim()\n",
    "    plt.show()\n",
    "    print('Корреляция составляет:', round(platform_data['sum_sales'].corr(platform_data['critic_score']), 3))\n",
    "    \n",
    "    platform_data.plot(x='sum_sales', y='user_score', kind='scatter', grid=True, figsize=(17, 4))\n",
    "    plt.title(f'Как влияют оценки пользователей на продажи по {platform}')\n",
    "    plt.xlabel('Продажи')\n",
    "    plt.ylabel('Оценки пользователей')\n",
    "    plt.xlim(0, 8)\n",
    "    plt.ylim()\n",
    "    plt.show()\n",
    "    print('Корреляция составляет:', round(platform_data['sum_sales'].corr(platform_data['user_score']), 3))"
   ]
  },
  {
   "cell_type": "markdown",
   "metadata": {},
   "source": [
    "По платформам PS3, XOne, 3DS, и X360, оценки критиков слабо влияют на продажи. Оценки пользователей влияют очень слабо."
   ]
  },
  {
   "cell_type": "markdown",
   "metadata": {},
   "source": [
    "Посмотрите на общее распределение игр по жанрам. Что можно сказать о самых прибыльных жанрах? Выделяются ли жанры с высокими и низкими продажами?"
   ]
  },
  {
   "cell_type": "code",
   "execution_count": 30,
   "metadata": {},
   "outputs": [
    {
     "data": {
      "image/png": "[encoded data removed]",
      "text/plain": [
       "<Figure size 1224x360 with 1 Axes>"
      ]
     },
     "metadata": {
      "needs_background": "light"
     },
     "output_type": "display_data"
    }
   ],
   "source": [
    "last_years.boxplot(column='sum_sales', by='genre', figsize=(17, 5))\n",
    "plt.title('Распределение игр по жанрам')\n",
    "plt.xlabel('Жанры')\n",
    "plt.ylabel('Продажи')\n",
    "plt.ylim(0, 0.5)\n",
    "plt.suptitle('')\n",
    "plt.show()"
   ]
  },
  {
   "cell_type": "code",
   "execution_count": 31,
   "metadata": {},
   "outputs": [
    {
     "data": {
      "text/html": [
       "<div>\n",
       "<style scoped>\n",
       "    .dataframe tbody tr th:only-of-type {\n",
       "        vertical-align: middle;\n",
       "    }\n",
       "\n",
       "    .dataframe tbody tr th {\n",
       "        vertical-align: top;\n",
       "    }\n",
       "\n",
       "    .dataframe thead th {\n",
       "        text-align: right;\n",
       "    }\n",
       "</style>\n",
       "<table border=\"1\" class=\"dataframe\">\n",
       "  <thead>\n",
       "    <tr style=\"text-align: right;\">\n",
       "      <th></th>\n",
       "      <th>sum_sales</th>\n",
       "    </tr>\n",
       "    <tr>\n",
       "      <th>genre</th>\n",
       "      <th></th>\n",
       "    </tr>\n",
       "  </thead>\n",
       "  <tbody>\n",
       "    <tr>\n",
       "      <th>Shooter</th>\n",
       "      <td>0.450</td>\n",
       "    </tr>\n",
       "    <tr>\n",
       "      <th>Sports</th>\n",
       "      <td>0.240</td>\n",
       "    </tr>\n",
       "    <tr>\n",
       "      <th>Platform</th>\n",
       "      <td>0.225</td>\n",
       "    </tr>\n",
       "    <tr>\n",
       "      <th>Role-Playing</th>\n",
       "      <td>0.125</td>\n",
       "    </tr>\n",
       "    <tr>\n",
       "      <th>Fighting</th>\n",
       "      <td>0.125</td>\n",
       "    </tr>\n",
       "    <tr>\n",
       "      <th>Racing</th>\n",
       "      <td>0.120</td>\n",
       "    </tr>\n",
       "    <tr>\n",
       "      <th>Action</th>\n",
       "      <td>0.110</td>\n",
       "    </tr>\n",
       "    <tr>\n",
       "      <th>Simulation</th>\n",
       "      <td>0.100</td>\n",
       "    </tr>\n",
       "    <tr>\n",
       "      <th>Misc</th>\n",
       "      <td>0.100</td>\n",
       "    </tr>\n",
       "    <tr>\n",
       "      <th>Strategy</th>\n",
       "      <td>0.080</td>\n",
       "    </tr>\n",
       "    <tr>\n",
       "      <th>Puzzle</th>\n",
       "      <td>0.060</td>\n",
       "    </tr>\n",
       "    <tr>\n",
       "      <th>Adventure</th>\n",
       "      <td>0.030</td>\n",
       "    </tr>\n",
       "  </tbody>\n",
       "</table>\n",
       "</div>"
      ],
      "text/plain": [
       "              sum_sales\n",
       "genre                  \n",
       "Shooter           0.450\n",
       "Sports            0.240\n",
       "Platform          0.225\n",
       "Role-Playing      0.125\n",
       "Fighting          0.125\n",
       "Racing            0.120\n",
       "Action            0.110\n",
       "Simulation        0.100\n",
       "Misc              0.100\n",
       "Strategy          0.080\n",
       "Puzzle            0.060\n",
       "Adventure         0.030"
      ]
     },
     "execution_count": 31,
     "metadata": {},
     "output_type": "execute_result"
    }
   ],
   "source": [
    "last_years.pivot_table(index='genre', values='sum_sales', aggfunc='median').sort_values(by='sum_sales', ascending=False)"
   ]
  },
  {
   "cell_type": "markdown",
   "metadata": {},
   "source": [
    "Самые прибыльные жанры, если смотреть по медиане, это:\n",
    "\n",
    "1. Shooter\n",
    "2. Sports\n",
    "3. Platform\n",
    "4. Role-Playing\n",
    "5. Fighting\n",
    "\n",
    "Жанры с высокими и низкими продажами выделяются"
   ]
  },
  {
   "cell_type": "markdown",
   "metadata": {},
   "source": [
    "**Выводы**\n",
    "\n",
    " - Массовый выпуск игр начался в 1991 г. До этого выпуск был незначительным.\n",
    " - За 7 лет, появляются новые и исчезают старые платформы.\n",
    " - У большинства платформ падают продажи. У остальных платформ, нет выраженного роста или падения продаж.\n",
    " - Самая высокая медиана по количеству продаж наблюдается у X360 и XOne, а самая низкая у PSP и PSV.\n",
    " - Оценки критиков слабо влияют на продажи по PS4, PS3, XOne, 3DS, и X360, а оценки пользователей влияют очень слабо.\n",
    "\n",
    "Самые прибыльные жанры, если смотреть по медиане, это:\n",
    "\n",
    "1. Shooter\n",
    "2. Sports\n",
    "3. Platform\n",
    "4. Role-Playing\n",
    "5. Fighting\n",
    "\n",
    "Жанры с высокими и низкими продажами выделяются\n",
    "\n",
    "По продажам лидируют:\n",
    "\n",
    "1. PS4\n",
    "2. PS3\n",
    "3. XOne\n",
    "4. 3DS\n",
    "5. X360"
   ]
  },
  {
   "cell_type": "markdown",
   "metadata": {},
   "source": [
    "#### Шаг 4. Составьте портрет пользователя каждого региона\n",
    "\n",
    "Определите для пользователя каждого региона (NA, EU, JP):\n",
    " - Самые популярные платформы (топ-5). Опишите различия в долях продаж.\n",
    " - Самые популярные жанры (топ-5). Поясните разницу.\n",
    " - Влияет ли рейтинг ESRB на продажи в отдельном регионе?"
   ]
  },
  {
   "cell_type": "code",
   "execution_count": 32,
   "metadata": {},
   "outputs": [
    {
     "data": {
      "image/png": "[encoded data removed]",
      "text/plain": [
       "<Figure size 864x288 with 3 Axes>"
      ]
     },
     "metadata": {},
     "output_type": "display_data"
    }
   ],
   "source": [
    "# Определим топ-5 платформ для каждого региона\n",
    "top_platforms_na = last_years.groupby('platform')['na_sales'].sum().nlargest(5)\n",
    "top_platforms_eu = last_years.groupby('platform')['eu_sales'].sum().nlargest(5)\n",
    "top_platforms_jp = last_years.groupby('platform')['jp_sales'].sum().nlargest(5)\n",
    "\n",
    "# Создадим категорию \"Другие\" для всех остальных платформ\n",
    "other_platforms_na = last_years.groupby('platform')['na_sales'].sum().drop(top_platforms_na.index).sum()\n",
    "other_platforms_eu = last_years.groupby('platform')['eu_sales'].sum().drop(top_platforms_eu.index).sum()\n",
    "other_platforms_jp = last_years.groupby('platform')['jp_sales'].sum().drop(top_platforms_jp.index).sum()\n",
    "\n",
    "# Объединим топ-5 платформ с категорией \"Другие\"\n",
    "top_platforms_na['Other'] = other_platforms_na\n",
    "top_platforms_eu['Other'] = other_platforms_eu\n",
    "top_platforms_jp['Other'] = other_platforms_jp\n",
    "\n",
    "# Построим круговые диаграммы для каждого региона\n",
    "fig, axes = plt.subplots(1, 3, figsize=(12, 4))\n",
    "\n",
    "top_platforms_na.plot(kind='pie', ax=axes[0], autopct='%1.1f%%')\n",
    "axes[0].set_title('NA')\n",
    "axes[0].set_ylabel('')\n",
    "\n",
    "top_platforms_eu.plot(kind='pie', ax=axes[1], autopct='%1.1f%%')\n",
    "axes[1].set_title('EU')\n",
    "axes[1].set_ylabel('')\n",
    "\n",
    "top_platforms_jp.plot(kind='pie', ax=axes[2], autopct='%1.1f%%')\n",
    "axes[2].set_title('JP')\n",
    "axes[2].set_ylabel('')\n",
    "\n",
    "fig.suptitle('Доли продаж платформ в различных регионах')\n",
    "plt.show()"
   ]
  },
  {
   "cell_type": "markdown",
   "metadata": {},
   "source": [
    "В Северной Америке по продажам, самые популярные платформы:\n",
    "\n",
    "1. PS4 (24.8%)\n",
    "2. XOne (21.3%)\n",
    "3. X360 (18.7%)\n",
    "4. PS3 (14.5%)\n",
    "5. DS (8.7%)\n",
    "\n",
    "В Европе по продажам, самые популярные платформы:\n",
    "\n",
    "1. PS4 (36.0%)\n",
    "2. PS3 (17.3%)\n",
    "3. XOne (13.2%)\n",
    "4. X360 (10.8%)\n",
    "5. 3DS (7.9%)\n",
    "\n",
    "В Японии по продажам, самые популярные платформы:\n",
    "\n",
    "1. 3DS (48.2%)\n",
    "2. PS3 (16.6%)\n",
    "3. PSV (13.2%)\n",
    "4. PS4 (11.3%)\n",
    "5. WiiU (7.7%)"
   ]
  },
  {
   "cell_type": "code",
   "execution_count": 33,
   "metadata": {},
   "outputs": [
    {
     "data": {
      "image/png": "[encoded data removed]",
      "text/plain": [
       "<Figure size 864x288 with 3 Axes>"
      ]
     },
     "metadata": {},
     "output_type": "display_data"
    }
   ],
   "source": [
    "fig, axes = plt.subplots(1, 3, figsize=(12, 4))\n",
    "\n",
    "last_years.groupby('genre')['na_sales'].sum().nlargest(5).plot.pie(ax=axes[0], autopct='%1.1f%%')\n",
    "axes[0].set_title('NA')\n",
    "axes[0].set_ylabel('')\n",
    "\n",
    "last_years.groupby('genre')['eu_sales'].sum().nlargest(5).plot.pie(ax=axes[1], autopct='%1.1f%%')\n",
    "axes[1].set_title('EU')\n",
    "axes[1].set_ylabel('')\n",
    "\n",
    "last_years.groupby('genre')['jp_sales'].sum().nlargest(5).plot.pie(ax=axes[2], autopct='%1.1f%%')\n",
    "axes[2].set_title('JP')\n",
    "axes[2].set_ylabel('')\n",
    "\n",
    "fig.suptitle('Топ-5 жанров')\n",
    "plt.show()"
   ]
  },
  {
   "cell_type": "markdown",
   "metadata": {},
   "source": [
    "В Северной Америке по продажам, самые популярные жанры:\n",
    "\n",
    "1. Action\n",
    "2. Shooter\n",
    "3. Sports\n",
    "4. Role-Playing\n",
    "5. Misc\n",
    "\n",
    "В Европе по продажам, самые популярные жанры:\n",
    "\n",
    "1. Action\n",
    "2. Shooter\n",
    "3. Sports\n",
    "4. Role-Playing\n",
    "5. Racing\n",
    "\n",
    "В Японии по продажам, самые популярные платформы:\n",
    "\n",
    "1. Role-Playing\n",
    "2. Action\n",
    "3. Misc\n",
    "4. Fighting\n",
    "5. Shooter"
   ]
  },
  {
   "cell_type": "code",
   "execution_count": 34,
   "metadata": {},
   "outputs": [
    {
     "data": {
      "image/png": "[encoded data removed]",
      "text/plain": [
       "<Figure size 1080x432 with 1 Axes>"
      ]
     },
     "metadata": {
      "needs_background": "light"
     },
     "output_type": "display_data"
    },
    {
     "data": {
      "image/png": "[encoded data removed]",
      "text/plain": [
       "<Figure size 1080x432 with 1 Axes>"
      ]
     },
     "metadata": {
      "needs_background": "light"
     },
     "output_type": "display_data"
    },
    {
     "data": {
      "image/png": "[encoded data removed]",
      "text/plain": [
       "<Figure size 1080x432 with 1 Axes>"
      ]
     },
     "metadata": {
      "needs_background": "light"
     },
     "output_type": "display_data"
    }
   ],
   "source": [
    "last_years.pivot_table(index='rating', values='na_sales', aggfunc='sum').sort_values(by='na_sales', ascending=False).plot.bar(grid=True, figsize=(15, 6))\n",
    "plt.title('Влияние рейтинга ESRB на продажи в NA')\n",
    "plt.xlabel('Рейтинг ESRB')\n",
    "plt.ylabel('Продажи')\n",
    "plt.show()\n",
    "last_years.pivot_table(index='rating', values='eu_sales', aggfunc='sum').sort_values(by='eu_sales', ascending=False).plot.bar(grid=True, figsize=(15, 6))\n",
    "plt.title('Влияние рейтинга ESRB на продажи в EU')\n",
    "plt.xlabel('Рейтинг ESRB')\n",
    "plt.ylabel('Продажи')\n",
    "plt.show()\n",
    "last_years.pivot_table(index='rating', values='jp_sales', aggfunc='sum').sort_values(by='jp_sales', ascending=False).plot.bar(grid=True, figsize=(15, 6))\n",
    "plt.title('Влияние рейтинга ESRB на продажи в JP')\n",
    "plt.xlabel('Рейтинг ESRB')\n",
    "plt.ylabel('Продажи')\n",
    "plt.show()"
   ]
  },
  {
   "cell_type": "markdown",
   "metadata": {},
   "source": [
    "Рейтинг ESRB влияет на продажи в отдельном регионе.\n",
    "\n",
    "В Северной Америке и Европе, по продажам, самые популярные игры (в порядке убывания) c рейтингом:\n",
    "\n",
    "1. M\n",
    "2. E\n",
    "3. E10+\n",
    "4. T\n",
    "\n",
    "В Японии по продажам, самые популярные игры (в порядке убывания) c рейтингом:\n",
    "\n",
    "1. T\n",
    "2. E\n",
    "3. M\n",
    "4. E10+"
   ]
  },
  {
   "cell_type": "markdown",
   "metadata": {},
   "source": [
    "**Выводы**\n",
    "\n",
    "В Северной Америке по продажам, самые популярные платформы:\n",
    "\n",
    "1. PS4 (24.8%)\n",
    "2. XOne (21.3%)\n",
    "3. X360 (18.7%)\n",
    "4. PS3 (14.5%)\n",
    "5. DS (8.7%)\n",
    "\n",
    "В Европе по продажам, самые популярные платформы:\n",
    "\n",
    "1. PS4 (36.0%)\n",
    "2. PS3 (17.3%)\n",
    "3. XOne (13.2%)\n",
    "4. X360 (10.8%)\n",
    "5. 3DS (7.9%)\n",
    "\n",
    "В Японии по продажам, самые популярные платформы:\n",
    "\n",
    "1. 3DS (48.2%)\n",
    "2. PS3 (16.6%)\n",
    "3. PSV (13.2%)\n",
    "4. PS4 (11.3%)\n",
    "5. WiiU (7.7%)\n",
    "\n",
    "В Северной Америке по продажам, самые популярные жанры:\n",
    "\n",
    "1. Action\n",
    "2. Shooter\n",
    "3. Sports\n",
    "4. Role-Playing\n",
    "5. Misc\n",
    "\n",
    "В Европе по продажам, самые популярные жанры:\n",
    "\n",
    "1. Action\n",
    "2. Shooter\n",
    "3. Sports\n",
    "4. Role-Playing\n",
    "5. Racing\n",
    "\n",
    "В Японии по продажам, самые популярные платформы:\n",
    "\n",
    "1. Role-Playing\n",
    "2. Action\n",
    "3. Misc\n",
    "4. Fighting\n",
    "5. Shooter\n",
    "\n",
    "Рейтинг ESRB влияет на продажи в отдельном регионе.\n",
    "\n",
    "В Северной Америке и Европе, по продажам, самые популярные игры (в порядке убывания) c рейтингом:\n",
    "\n",
    "1. M\n",
    "2. E\n",
    "3. E10+\n",
    "4. T\n",
    "\n",
    "В Японии по продажам, самые популярные игры (в порядке убывания) c рейтингом:\n",
    "\n",
    "1. T\n",
    "2. E\n",
    "3. M\n",
    "4. E10+"
   ]
  },
  {
   "cell_type": "markdown",
   "metadata": {},
   "source": [
    "#### Шаг 5. Проверьте гипотезы ###\n",
    "\n",
    " - Средние пользовательские рейтинги платформ Xbox One и PC одинаковые;\n",
    " - Средние пользовательские рейтинги жанров Action (англ. «действие», экшен-игры) и Sports (англ. «спортивные соревнования») разные.\n",
    " \n",
    "Задайте самостоятельно пороговое значение alpha.\n",
    "\n",
    "Поясните:\n",
    "\n",
    " - Как вы сформулировали нулевую и альтернативную гипотезы;\n",
    " - Какой критерий применили для проверки гипотез и почему."
   ]
  },
  {
   "cell_type": "markdown",
   "metadata": {},
   "source": [
    " - Нулевая гипотеза (Н0): Средние пользовательские рейтинги платформ Xbox One и PC одинаковые.\n",
    " - Альтернативная гипотеза (Н1): Средние пользовательские рейтинги платформ Xbox One и PC не равны."
   ]
  },
  {
   "cell_type": "markdown",
   "metadata": {},
   "source": [
    "Нулевая гипотеза (H0) формулируется как предположение о равенстве или отсутствии различий между двумя или более группами, явлениями или параметрами. В данном случае, нулевая гипотеза звучит так: \"Средние пользовательские рейтинги платформ Xbox One и PC одинаковые\". То есть, мы предполагаем, что нет значимых различий в средних пользовательских рейтингах между этими двумя платформами.\n",
    "\n",
    "Альтернативная гипотеза (H1) формулируется как предположение о наличии различий между группами, явлениями или параметрами. В данном случае, альтернативная гипотеза звучит так: \"Средние пользовательские рейтинги платформ Xbox One и PC не равны\". То есть, мы предполагаем, что существуют значимые различия в средних пользовательских рейтингах между этими двумя платформами."
   ]
  },
  {
   "cell_type": "code",
   "execution_count": 36,
   "metadata": {},
   "outputs": [],
   "source": [
    "# Удаляем строки с пропущенными значениями в колонке с отзывами пользователей\n",
    "last_years_test = last_years.dropna(subset=['user_score'])"
   ]
  },
  {
   "cell_type": "code",
   "execution_count": 38,
   "metadata": {},
   "outputs": [
    {
     "name": "stdout",
     "output_type": "stream",
     "text": [
      "p-значение: 0.14012658403611647\n",
      "Не получилось отвергнуть нулевую гипотезу\n"
     ]
    }
   ],
   "source": [
    "score_XOne = last_years_test.loc[last_years['platform'] == 'XOne']['user_score']\n",
    "score_PC = last_years_test.loc[last_years['platform'] == 'PC']['user_score']\n",
    "\n",
    "alpha = 0.05\n",
    "\n",
    "results = st.ttest_ind(score_XOne, score_PC, alternative='two-sided')\n",
    "print('p-значение:', results.pvalue)\n",
    "\n",
    "if results.pvalue < alpha:\n",
    "    print('Отвергаем нулевую гипотезу')\n",
    "else:\n",
    "    print('Не получилось отвергнуть нулевую гипотезу')"
   ]
  },
  {
   "cell_type": "code",
   "execution_count": 39,
   "metadata": {},
   "outputs": [
    {
     "name": "stdout",
     "output_type": "stream",
     "text": [
      "6.2696774193548395\n",
      "6.521428571428572\n"
     ]
    }
   ],
   "source": [
    "print(score_PC.mean())\n",
    "print(score_XOne.mean())"
   ]
  },
  {
   "cell_type": "markdown",
   "metadata": {},
   "source": [
    "На основе проведенного теста гипотезы не было обнаружено статистически значимого различия в средних пользовательских рейтингах платформ Xbox One и PC. Таким образом, нет оснований отвергать нулевую гипотезу о равенстве средних пользовательских рейтингов платформ Xbox One и PC."
   ]
  },
  {
   "cell_type": "markdown",
   "metadata": {},
   "source": [
    " - Нулевая гипотеза (Н0): Средние пользовательские рейтинги жанров Action и Sports одинаковые.\n",
    " - Альтернативная гипотеза (Н1): Средние пользовательские рейтинги жанров Action и Sports не равны."
   ]
  },
  {
   "cell_type": "markdown",
   "metadata": {},
   "source": [
    "Нулевая гипотеза (H0) формулируется как предположение о равенстве или отсутствии различий между двумя или более группами, явлениями или параметрами. В данном случае, нулевая гипотеза звучит так: \"Средние пользовательские рейтинги жанров Action и Sports одинаковые\". То есть, мы предполагаем, что нет значимых различий в средних пользовательских рейтингах между этими двумя жанрами.\n",
    "\n",
    "Альтернативная гипотеза (H1) формулируется как предположение о наличии различий между группами, явлениями или параметрами. В данном случае, альтернативная гипотеза звучит так: \"Средние пользовательские рейтинги жанров Action и Sports не равны\". То есть, мы предполагаем, что существуют значимые различия в средних пользовательских рейтингах между этими двумя жанрами."
   ]
  },
  {
   "cell_type": "code",
   "execution_count": 40,
   "metadata": {},
   "outputs": [
    {
     "name": "stdout",
     "output_type": "stream",
     "text": [
      "p-значение: 1.0517832389140023e-27\n",
      "Отвергаем нулевую гипотезу\n"
     ]
    }
   ],
   "source": [
    "score_Action = last_years_test.loc[last_years['genre'] == 'Action']['user_score']\n",
    "score_Sports = last_years_test.loc[last_years['genre'] == 'Sports']['user_score']\n",
    "\n",
    "alpha = 0.05\n",
    "\n",
    "results = st.ttest_ind(score_Action, score_Sports, alternative='two-sided')\n",
    "print('p-значение:', results.pvalue)\n",
    "\n",
    "if results.pvalue < alpha:\n",
    "    print('Отвергаем нулевую гипотезу')\n",
    "else:\n",
    "    print('Не получилось отвергнуть нулевую гипотезу')"
   ]
  },
  {
   "cell_type": "code",
   "execution_count": 41,
   "metadata": {},
   "outputs": [
    {
     "name": "stdout",
     "output_type": "stream",
     "text": [
      "6.837532133676092\n",
      "5.238124999999999\n"
     ]
    }
   ],
   "source": [
    "print(score_Action.mean())\n",
    "print(score_Sports.mean())"
   ]
  },
  {
   "cell_type": "markdown",
   "metadata": {},
   "source": [
    "На основе проведенного теста гипотезы было обнаружено статистически значимое различие в средних пользовательских рейтингах жанров Action и Sports. Таким образом, есть основание отвергать нулевую гипотезу о равенстве средних пользовательских рейтингах жанров Action и Sports."
   ]
  },
  {
   "cell_type": "markdown",
   "metadata": {},
   "source": [
    "t-критерий используется для сравнения средних двух групп данных, когда распределение выборок близко к нормальному или когда объем выборок достаточно большой. Я предполагаю, что распределение пользовательского рейтинга близко к нормальному, и поэтому t-критерий является подходящим выбором для данного теста."
   ]
  },
  {
   "cell_type": "markdown",
   "metadata": {},
   "source": [
    "## Общий вывод\n",
    "\n",
    "**Шаг 1. Загрузка данных**\n",
    "\n",
    "В датасете 16715 строк. В некоторых столбцах имеется неверный тип данных.\n",
    "\n",
    "**Шаг 2. Подготовка данных**\n",
    "\n",
    "1. Приведены названия столбцов к нижнему регистру. \n",
    "2. Преобразованы данные в столбце year_of_release, в нужный тип, т.к. год не может выражаться в виде вещественного числа.\n",
    "3. Удалены те строки, в которых имелись пропущенные значения в столбце year_of_release. Это было допустимо, т.к. процентное соотношение пропущенных значений в этом столбце составляло всего 1,6%.\n",
    "4. В столбце user_score тип данных не был изменён, т.к. было бы неправильным удалить 40% пропущенных значений. Заполнения пропущенных значений не было, т.к. в этом не было необходимости.\n",
    "5. Посчитаны суммарные продажи во всех регионах и записаны в отдельный столбец.\n",
    "6. Заменяем значение 'tbd' на пропуски, для возможности дальнейшего анализа.\n",
    "\n",
    "Пропуски могли появиться, потому что:\n",
    "\n",
    "1. Некоторые данные могли быть просто не заполнены.\n",
    "2. Ошибки или проблемы в сборе или записи данных могли привести к пропускам информации.\n",
    "\n",
    "**Шаг 3. Исследовательский анализ данных**\n",
    "\n",
    " - Массовый выпуск игр начался в 1991 г. До этого выпуск был незначительным.\n",
    " - За 7 лет, появляются новые и исчезают старые платформы.\n",
    " - У большинства платформ падают продажи. У остальных платформ, нет выраженного роста или падения продаж.\n",
    " - Самая высокая медиана по количеству продаж наблюдается у X360 и XOne, а самая низкая у PSP и PSV.\n",
    " - Оценки критиков слабо влияют на продажи по PS4, PS3, XOne, 3DS, и X360, а оценки пользователей влияют очень слабо.\n",
    "\n",
    "Самые прибыльные жанры, если смотреть по медиане, это:\n",
    "\n",
    "1. Shooter\n",
    "2. Sports\n",
    "3. Platform\n",
    "4. Role-Playing\n",
    "5. Fighting\n",
    "\n",
    "Жанры с высокими и низкими продажами выделяются\n",
    "\n",
    "По продажам лидируют:\n",
    "\n",
    "1. PS4\n",
    "2. PS3\n",
    "3. XOne\n",
    "4. 3DS\n",
    "5. X360\n",
    "\n",
    "**Шаг 4. Составьте портрет пользователя каждого региона**\n",
    "\n",
    "В Северной Америке по продажам, самые популярные платформы:\n",
    "\n",
    "1. PS4 (24.8%)\n",
    "2. XOne (21.3%)\n",
    "3. X360 (18.7%)\n",
    "4. PS3 (14.5%)\n",
    "5. DS (8.7%)\n",
    "\n",
    "В Европе по продажам, самые популярные платформы:\n",
    "\n",
    "1. PS4 (36.0%)\n",
    "2. PS3 (17.3%)\n",
    "3. XOne (13.2%)\n",
    "4. X360 (10.8%)\n",
    "5. 3DS (7.9%)\n",
    "\n",
    "В Японии по продажам, самые популярные платформы:\n",
    "\n",
    "1. 3DS (48.2%)\n",
    "2. PS3 (16.6%)\n",
    "3. PSV (13.2%)\n",
    "4. PS4 (11.3%)\n",
    "5. WiiU (7.7%)\n",
    "\n",
    "В Северной Америке по продажам, самые популярные жанры:\n",
    "\n",
    "1. Action\n",
    "2. Shooter\n",
    "3. Sports\n",
    "4. Role-Playing\n",
    "5. Misc\n",
    "\n",
    "В Европе по продажам, самые популярные жанры:\n",
    "\n",
    "1. Action\n",
    "2. Shooter\n",
    "3. Sports\n",
    "4. Role-Playing\n",
    "5. Racing\n",
    "\n",
    "В Японии по продажам, самые популярные платформы:\n",
    "\n",
    "1. Role-Playing\n",
    "2. Action\n",
    "3. Misc\n",
    "4. Fighting\n",
    "5. Shooter\n",
    "\n",
    "Рейтинг ESRB влияет на продажи в отдельном регионе.\n",
    "\n",
    "В Северной Америке и Европе, по продажам, самые популярные игры (в порядке убывания) c рейтингом:\n",
    "\n",
    "1. M\n",
    "2. E\n",
    "3. E10+\n",
    "4. T\n",
    "\n",
    "В Японии по продажам, самые популярные игры (в порядке убывания) c рейтингом:\n",
    "\n",
    "1. T\n",
    "2. E\n",
    "3. M\n",
    "4. E10+\n",
    "\n",
    "**Шаг 5. Проверьте гипотезы**\n",
    "\n",
    "В следствии проведенных тестов гипотез:\n",
    "\n",
    "1.\tНе было обнаружено статистически значимого различия в средних пользовательских рейтингах платформ Xbox One и PC. Таким образом, нет оснований отвергать нулевую гипотезу о равенстве средних пользовательских рейтингов платформ Xbox One и PC.\n",
    "2.\tБыло обнаружено статистически значимое различие в средних пользовательских рейтингах жанров Action и Sports. Таким образом, есть основание отвергать нулевую гипотезу о равенстве средних пользовательских рейтингах жанров Action и Sports.\n",
    "\n",
    "t-критерий используется для сравнения средних двух групп данных, когда распределение выборок близко к нормальному или когда объем выборок достаточно большой. Я предполагаю, что распределение пользовательского рейтинга близко к нормальному, и поэтому t-критерий является подходящим выбором для данного теста.\n",
    "\n",
    "**Итоговый вывод**\n",
    "\n",
    "В Северной Америке и Европе, бюджет стоит потратить на игры на платформе PS4 в жанре Action, с рейтингом M. В Японии, бюджет стоит потратить на игры на платформе 3DS в жанре Role-Playing, с рейтингом Т."
   ]
  }
 ],
 "metadata": {
  "ExecuteTimeLog": [
   {
    "duration": 3,
    "start_time": "2023-10-30T11:01:37.726Z"
   },
   {
    "duration": 391,
    "start_time": "2023-10-30T11:02:22.294Z"
   },
   {
    "duration": 114,
    "start_time": "2023-10-30T11:03:11.034Z"
   },
   {
    "duration": 18,
    "start_time": "2023-10-30T11:04:34.588Z"
   },
   {
    "duration": 2,
    "start_time": "2023-10-30T11:10:47.917Z"
   },
   {
    "duration": 65,
    "start_time": "2023-10-30T11:17:46.390Z"
   },
   {
    "duration": 11,
    "start_time": "2023-10-30T11:18:33.174Z"
   },
   {
    "duration": 3,
    "start_time": "2023-10-30T11:21:33.496Z"
   },
   {
    "duration": 14,
    "start_time": "2023-10-30T11:21:43.399Z"
   },
   {
    "duration": 15,
    "start_time": "2023-10-30T11:22:26.396Z"
   },
   {
    "duration": 439,
    "start_time": "2023-10-30T11:22:56.124Z"
   },
   {
    "duration": 112,
    "start_time": "2023-10-30T11:22:56.565Z"
   },
   {
    "duration": 0,
    "start_time": "2023-10-30T11:22:56.679Z"
   },
   {
    "duration": 0,
    "start_time": "2023-10-30T11:22:56.680Z"
   },
   {
    "duration": 0,
    "start_time": "2023-10-30T11:22:56.681Z"
   },
   {
    "duration": 383,
    "start_time": "2023-10-30T11:23:09.179Z"
   },
   {
    "duration": 70,
    "start_time": "2023-10-30T11:23:09.564Z"
   },
   {
    "duration": 16,
    "start_time": "2023-10-30T11:23:09.635Z"
   },
   {
    "duration": 27,
    "start_time": "2023-10-30T11:23:09.653Z"
   },
   {
    "duration": 30,
    "start_time": "2023-10-30T11:23:09.682Z"
   },
   {
    "duration": 80,
    "start_time": "2023-10-30T11:23:43.751Z"
   },
   {
    "duration": 11,
    "start_time": "2023-10-30T11:24:24.045Z"
   },
   {
    "duration": 5,
    "start_time": "2023-10-30T11:24:46.436Z"
   },
   {
    "duration": 10,
    "start_time": "2023-10-30T11:27:05.226Z"
   },
   {
    "duration": 7,
    "start_time": "2023-10-30T11:29:11.888Z"
   },
   {
    "duration": 473,
    "start_time": "2023-10-30T11:31:26.111Z"
   },
   {
    "duration": 17,
    "start_time": "2023-10-30T11:32:55.100Z"
   },
   {
    "duration": 7,
    "start_time": "2023-10-30T11:39:22.437Z"
   },
   {
    "duration": 7,
    "start_time": "2023-10-30T11:43:41.164Z"
   },
   {
    "duration": 17,
    "start_time": "2023-10-30T11:43:53.385Z"
   },
   {
    "duration": 9,
    "start_time": "2023-10-30T11:44:04.711Z"
   },
   {
    "duration": 14,
    "start_time": "2023-10-30T11:44:15.719Z"
   },
   {
    "duration": 4,
    "start_time": "2023-10-30T11:44:22.545Z"
   },
   {
    "duration": 13,
    "start_time": "2023-10-30T11:44:31.015Z"
   },
   {
    "duration": 14,
    "start_time": "2023-10-30T11:44:50.718Z"
   },
   {
    "duration": 13,
    "start_time": "2023-10-30T11:45:02.422Z"
   },
   {
    "duration": 6,
    "start_time": "2023-10-30T11:45:41.722Z"
   },
   {
    "duration": 5,
    "start_time": "2023-10-30T11:48:05.624Z"
   },
   {
    "duration": 11,
    "start_time": "2023-10-30T11:48:16.935Z"
   },
   {
    "duration": 24,
    "start_time": "2023-10-30T12:31:07.100Z"
   },
   {
    "duration": 11,
    "start_time": "2023-10-30T12:31:15.412Z"
   },
   {
    "duration": 17,
    "start_time": "2023-10-30T12:31:45.155Z"
   },
   {
    "duration": 14,
    "start_time": "2023-10-30T12:31:57.897Z"
   },
   {
    "duration": 7,
    "start_time": "2023-10-30T12:34:22.383Z"
   },
   {
    "duration": 6,
    "start_time": "2023-10-30T12:56:54.469Z"
   },
   {
    "duration": 4,
    "start_time": "2023-10-30T12:57:43.017Z"
   },
   {
    "duration": 5,
    "start_time": "2023-10-30T12:58:00.960Z"
   },
   {
    "duration": 3,
    "start_time": "2023-10-30T12:58:40.223Z"
   },
   {
    "duration": 15,
    "start_time": "2023-10-30T12:58:56.037Z"
   },
   {
    "duration": 5,
    "start_time": "2023-10-30T12:59:29.203Z"
   },
   {
    "duration": 14,
    "start_time": "2023-10-30T12:59:36.177Z"
   },
   {
    "duration": 5,
    "start_time": "2023-10-30T13:01:30.459Z"
   },
   {
    "duration": 17,
    "start_time": "2023-10-30T13:01:31.607Z"
   },
   {
    "duration": 379,
    "start_time": "2023-10-30T13:01:55.077Z"
   },
   {
    "duration": 70,
    "start_time": "2023-10-30T13:01:55.459Z"
   },
   {
    "duration": 4,
    "start_time": "2023-10-30T13:01:55.531Z"
   },
   {
    "duration": 22,
    "start_time": "2023-10-30T13:01:55.537Z"
   },
   {
    "duration": 15,
    "start_time": "2023-10-30T13:01:55.561Z"
   },
   {
    "duration": 27,
    "start_time": "2023-10-30T13:01:55.578Z"
   },
   {
    "duration": 302,
    "start_time": "2023-10-30T13:01:55.607Z"
   },
   {
    "duration": 6,
    "start_time": "2023-10-30T13:01:55.911Z"
   },
   {
    "duration": 27,
    "start_time": "2023-10-30T13:01:55.919Z"
   },
   {
    "duration": 17,
    "start_time": "2023-10-30T13:01:55.948Z"
   },
   {
    "duration": 33,
    "start_time": "2023-10-30T13:01:55.967Z"
   },
   {
    "duration": 47,
    "start_time": "2023-10-30T13:01:56.002Z"
   },
   {
    "duration": 5,
    "start_time": "2023-10-30T13:15:17.530Z"
   },
   {
    "duration": 14,
    "start_time": "2023-10-30T13:15:18.291Z"
   },
   {
    "duration": 6,
    "start_time": "2023-10-30T13:17:34.223Z"
   },
   {
    "duration": 15,
    "start_time": "2023-10-30T13:17:34.751Z"
   },
   {
    "duration": 4,
    "start_time": "2023-10-30T13:18:21.084Z"
   },
   {
    "duration": 14,
    "start_time": "2023-10-30T13:18:21.596Z"
   },
   {
    "duration": 12,
    "start_time": "2023-10-30T13:25:08.975Z"
   },
   {
    "duration": 15,
    "start_time": "2023-10-30T13:25:09.816Z"
   },
   {
    "duration": 408,
    "start_time": "2023-10-30T13:25:26.460Z"
   },
   {
    "duration": 69,
    "start_time": "2023-10-30T13:25:26.870Z"
   },
   {
    "duration": 3,
    "start_time": "2023-10-30T13:25:26.940Z"
   },
   {
    "duration": 38,
    "start_time": "2023-10-30T13:25:26.946Z"
   },
   {
    "duration": 28,
    "start_time": "2023-10-30T13:25:26.986Z"
   },
   {
    "duration": 49,
    "start_time": "2023-10-30T13:25:27.016Z"
   },
   {
    "duration": 325,
    "start_time": "2023-10-30T13:25:27.067Z"
   },
   {
    "duration": 6,
    "start_time": "2023-10-30T13:25:27.394Z"
   },
   {
    "duration": 77,
    "start_time": "2023-10-30T13:25:27.402Z"
   },
   {
    "duration": 94,
    "start_time": "2023-10-30T13:25:27.482Z"
   },
   {
    "duration": 169,
    "start_time": "2023-10-30T13:25:27.578Z"
   },
   {
    "duration": 60,
    "start_time": "2023-10-30T13:25:27.749Z"
   },
   {
    "duration": 15,
    "start_time": "2023-10-30T13:25:38.613Z"
   },
   {
    "duration": 14,
    "start_time": "2023-10-30T13:25:39.213Z"
   },
   {
    "duration": 19,
    "start_time": "2023-10-30T13:26:00.939Z"
   },
   {
    "duration": 14,
    "start_time": "2023-10-30T13:26:01.620Z"
   },
   {
    "duration": 4,
    "start_time": "2023-10-30T13:26:38.115Z"
   },
   {
    "duration": 17,
    "start_time": "2023-10-30T13:26:38.633Z"
   },
   {
    "duration": 4,
    "start_time": "2023-10-30T13:27:07.879Z"
   },
   {
    "duration": 16,
    "start_time": "2023-10-30T13:27:08.295Z"
   },
   {
    "duration": 226,
    "start_time": "2023-10-30T13:35:19.866Z"
   },
   {
    "duration": 3,
    "start_time": "2023-10-30T13:35:55.467Z"
   },
   {
    "duration": 148,
    "start_time": "2023-10-30T13:35:59.411Z"
   },
   {
    "duration": 147,
    "start_time": "2023-10-30T13:36:06.062Z"
   },
   {
    "duration": 228,
    "start_time": "2023-10-30T13:36:12.681Z"
   },
   {
    "duration": 190,
    "start_time": "2023-10-30T13:36:17.593Z"
   },
   {
    "duration": 172,
    "start_time": "2023-10-30T13:36:25.260Z"
   },
   {
    "duration": 224,
    "start_time": "2023-10-30T13:36:33.667Z"
   },
   {
    "duration": 185,
    "start_time": "2023-10-30T13:36:41.783Z"
   },
   {
    "duration": 191,
    "start_time": "2023-10-30T13:36:46.265Z"
   },
   {
    "duration": 207,
    "start_time": "2023-10-30T13:36:53.078Z"
   },
   {
    "duration": 200,
    "start_time": "2023-10-30T13:37:02.710Z"
   },
   {
    "duration": 184,
    "start_time": "2023-10-30T13:37:08.198Z"
   },
   {
    "duration": 180,
    "start_time": "2023-10-30T13:37:15.046Z"
   },
   {
    "duration": 163,
    "start_time": "2023-10-30T13:37:22.668Z"
   },
   {
    "duration": 247,
    "start_time": "2023-10-30T13:37:33.863Z"
   },
   {
    "duration": 179,
    "start_time": "2023-10-30T13:37:38.940Z"
   },
   {
    "duration": 151,
    "start_time": "2023-10-30T13:37:45.338Z"
   },
   {
    "duration": 151,
    "start_time": "2023-10-30T13:37:51.462Z"
   },
   {
    "duration": 151,
    "start_time": "2023-10-30T13:37:55.339Z"
   },
   {
    "duration": 167,
    "start_time": "2023-10-30T13:38:31.311Z"
   },
   {
    "duration": 238,
    "start_time": "2023-10-30T13:43:43.260Z"
   },
   {
    "duration": 272,
    "start_time": "2023-10-30T13:43:51.898Z"
   },
   {
    "duration": 5,
    "start_time": "2023-10-30T13:47:05.561Z"
   },
   {
    "duration": 4,
    "start_time": "2023-10-30T13:47:22.215Z"
   },
   {
    "duration": 4,
    "start_time": "2023-10-30T13:47:26.534Z"
   },
   {
    "duration": 337,
    "start_time": "2023-10-30T13:51:36.231Z"
   },
   {
    "duration": 411,
    "start_time": "2023-10-30T13:51:41.470Z"
   },
   {
    "duration": 340,
    "start_time": "2023-10-30T13:52:31.091Z"
   },
   {
    "duration": 334,
    "start_time": "2023-10-30T13:52:52.601Z"
   },
   {
    "duration": 339,
    "start_time": "2023-10-30T13:52:58.433Z"
   },
   {
    "duration": 339,
    "start_time": "2023-10-30T13:53:05.123Z"
   },
   {
    "duration": 359,
    "start_time": "2023-10-30T13:53:13.577Z"
   },
   {
    "duration": 413,
    "start_time": "2023-10-30T13:53:18.623Z"
   },
   {
    "duration": 348,
    "start_time": "2023-10-30T13:54:15.765Z"
   },
   {
    "duration": 337,
    "start_time": "2023-10-30T13:54:58.329Z"
   },
   {
    "duration": 319,
    "start_time": "2023-10-30T13:55:17.413Z"
   },
   {
    "duration": 16,
    "start_time": "2023-10-30T15:09:19.208Z"
   },
   {
    "duration": 6,
    "start_time": "2023-10-30T15:10:16.405Z"
   },
   {
    "duration": 5,
    "start_time": "2023-10-30T15:11:07.346Z"
   },
   {
    "duration": 18,
    "start_time": "2023-10-30T15:12:44.100Z"
   },
   {
    "duration": 16,
    "start_time": "2023-10-30T15:12:53.210Z"
   },
   {
    "duration": 17,
    "start_time": "2023-10-30T15:13:09.065Z"
   },
   {
    "duration": 16,
    "start_time": "2023-10-30T15:13:17.027Z"
   },
   {
    "duration": 5,
    "start_time": "2023-10-30T15:14:35.601Z"
   },
   {
    "duration": 8,
    "start_time": "2023-10-30T15:14:42.001Z"
   },
   {
    "duration": 8,
    "start_time": "2023-10-30T15:14:51.600Z"
   },
   {
    "duration": 9,
    "start_time": "2023-10-30T15:15:02.350Z"
   },
   {
    "duration": 11,
    "start_time": "2023-10-30T15:21:33.497Z"
   },
   {
    "duration": 8,
    "start_time": "2023-10-30T15:22:02.103Z"
   },
   {
    "duration": 11,
    "start_time": "2023-10-30T15:22:10.323Z"
   },
   {
    "duration": 31,
    "start_time": "2023-10-30T15:26:51.963Z"
   },
   {
    "duration": 13,
    "start_time": "2023-10-30T15:27:07.496Z"
   },
   {
    "duration": 39,
    "start_time": "2023-10-30T15:27:10.841Z"
   },
   {
    "duration": 12,
    "start_time": "2023-10-30T15:27:23.312Z"
   },
   {
    "duration": 10,
    "start_time": "2023-10-30T15:27:41.613Z"
   },
   {
    "duration": 12,
    "start_time": "2023-10-30T15:27:46.056Z"
   },
   {
    "duration": 11,
    "start_time": "2023-10-30T15:28:07.292Z"
   },
   {
    "duration": 16,
    "start_time": "2023-10-30T15:28:51.081Z"
   },
   {
    "duration": 10,
    "start_time": "2023-10-30T15:29:22.575Z"
   },
   {
    "duration": 17,
    "start_time": "2023-10-30T15:30:41.113Z"
   },
   {
    "duration": 567,
    "start_time": "2023-10-30T15:31:38.101Z"
   },
   {
    "duration": 730,
    "start_time": "2023-10-30T15:31:48.444Z"
   },
   {
    "duration": 654,
    "start_time": "2023-10-30T15:31:53.827Z"
   },
   {
    "duration": 637,
    "start_time": "2023-10-30T15:31:58.491Z"
   },
   {
    "duration": 816,
    "start_time": "2023-10-30T15:32:04.122Z"
   },
   {
    "duration": 24,
    "start_time": "2023-10-30T15:33:27.047Z"
   },
   {
    "duration": 7,
    "start_time": "2023-10-30T15:34:41.072Z"
   },
   {
    "duration": 17,
    "start_time": "2023-10-30T15:34:59.494Z"
   },
   {
    "duration": 20,
    "start_time": "2023-10-30T15:35:31.056Z"
   },
   {
    "duration": 12,
    "start_time": "2023-10-30T15:35:40.818Z"
   },
   {
    "duration": 18,
    "start_time": "2023-10-30T15:36:01.506Z"
   },
   {
    "duration": 275,
    "start_time": "2023-10-30T15:36:52.030Z"
   },
   {
    "duration": 22,
    "start_time": "2023-10-30T15:37:13.971Z"
   },
   {
    "duration": 285,
    "start_time": "2023-10-30T15:37:50.105Z"
   },
   {
    "duration": 261,
    "start_time": "2023-10-30T15:39:01.924Z"
   },
   {
    "duration": 270,
    "start_time": "2023-10-30T15:40:30.525Z"
   },
   {
    "duration": 272,
    "start_time": "2023-10-30T15:41:50.458Z"
   },
   {
    "duration": 232,
    "start_time": "2023-10-30T15:43:52.198Z"
   },
   {
    "duration": 463,
    "start_time": "2023-10-30T15:44:07.366Z"
   },
   {
    "duration": 428,
    "start_time": "2023-10-30T15:44:20.420Z"
   },
   {
    "duration": 567,
    "start_time": "2023-10-30T15:44:26.315Z"
   },
   {
    "duration": 729,
    "start_time": "2023-10-30T15:44:46.409Z"
   },
   {
    "duration": 1020,
    "start_time": "2023-10-30T15:45:11.537Z"
   },
   {
    "duration": 1365,
    "start_time": "2023-10-30T15:45:31.959Z"
   },
   {
    "duration": 1576,
    "start_time": "2023-10-30T15:46:09.670Z"
   },
   {
    "duration": 6,
    "start_time": "2023-10-30T15:51:23.748Z"
   },
   {
    "duration": 34,
    "start_time": "2023-10-30T15:51:32.036Z"
   },
   {
    "duration": 7,
    "start_time": "2023-10-30T15:51:40.063Z"
   },
   {
    "duration": 30,
    "start_time": "2023-10-30T18:45:23.946Z"
   },
   {
    "duration": 17,
    "start_time": "2023-10-30T18:46:04.166Z"
   },
   {
    "duration": 17,
    "start_time": "2023-10-30T18:46:19.038Z"
   },
   {
    "duration": 16,
    "start_time": "2023-10-30T18:52:55.245Z"
   },
   {
    "duration": 695,
    "start_time": "2023-10-30T18:53:30.390Z"
   },
   {
    "duration": 76,
    "start_time": "2023-10-30T18:53:31.087Z"
   },
   {
    "duration": 4,
    "start_time": "2023-10-30T18:53:31.165Z"
   },
   {
    "duration": 50,
    "start_time": "2023-10-30T18:53:31.172Z"
   },
   {
    "duration": 31,
    "start_time": "2023-10-30T18:53:31.224Z"
   },
   {
    "duration": 47,
    "start_time": "2023-10-30T18:53:31.257Z"
   },
   {
    "duration": 101,
    "start_time": "2023-10-30T18:53:31.306Z"
   },
   {
    "duration": 7,
    "start_time": "2023-10-30T18:53:31.409Z"
   },
   {
    "duration": 47,
    "start_time": "2023-10-30T18:53:31.417Z"
   },
   {
    "duration": 40,
    "start_time": "2023-10-30T18:53:31.467Z"
   },
   {
    "duration": 30,
    "start_time": "2023-10-30T18:53:31.509Z"
   },
   {
    "duration": 199,
    "start_time": "2023-10-30T18:53:31.540Z"
   },
   {
    "duration": 13,
    "start_time": "2023-10-30T18:53:31.743Z"
   },
   {
    "duration": 1551,
    "start_time": "2023-10-30T18:53:31.757Z"
   },
   {
    "duration": 13,
    "start_time": "2023-10-30T18:53:33.310Z"
   },
   {
    "duration": 12,
    "start_time": "2023-10-30T18:56:05.552Z"
   },
   {
    "duration": 15,
    "start_time": "2023-10-30T18:56:34.694Z"
   },
   {
    "duration": 12,
    "start_time": "2023-10-30T18:56:44.021Z"
   },
   {
    "duration": 45,
    "start_time": "2023-10-31T13:29:26.166Z"
   },
   {
    "duration": 762,
    "start_time": "2023-10-31T13:29:32.952Z"
   },
   {
    "duration": 112,
    "start_time": "2023-10-31T13:29:33.716Z"
   },
   {
    "duration": 4,
    "start_time": "2023-10-31T13:29:33.830Z"
   },
   {
    "duration": 28,
    "start_time": "2023-10-31T13:29:33.837Z"
   },
   {
    "duration": 32,
    "start_time": "2023-10-31T13:29:33.866Z"
   },
   {
    "duration": 15,
    "start_time": "2023-10-31T13:29:33.900Z"
   },
   {
    "duration": 50,
    "start_time": "2023-10-31T13:29:33.917Z"
   },
   {
    "duration": 7,
    "start_time": "2023-10-31T13:29:33.968Z"
   },
   {
    "duration": 3,
    "start_time": "2023-10-31T13:29:33.977Z"
   },
   {
    "duration": 7,
    "start_time": "2023-10-31T13:29:33.983Z"
   },
   {
    "duration": 9,
    "start_time": "2023-10-31T13:29:33.992Z"
   },
   {
    "duration": 154,
    "start_time": "2023-10-31T13:29:34.002Z"
   },
   {
    "duration": 8,
    "start_time": "2023-10-31T13:29:34.157Z"
   },
   {
    "duration": 1156,
    "start_time": "2023-10-31T13:29:34.166Z"
   },
   {
    "duration": 23,
    "start_time": "2023-10-31T13:29:35.323Z"
   },
   {
    "duration": 8,
    "start_time": "2023-10-31T13:29:35.347Z"
   },
   {
    "duration": 69,
    "start_time": "2023-10-31T13:30:02.659Z"
   },
   {
    "duration": 5,
    "start_time": "2023-10-31T13:31:15.262Z"
   },
   {
    "duration": 4,
    "start_time": "2023-10-31T13:31:32.093Z"
   },
   {
    "duration": 4,
    "start_time": "2023-10-31T13:31:47.660Z"
   },
   {
    "duration": 5,
    "start_time": "2023-10-31T13:31:48.228Z"
   },
   {
    "duration": 19,
    "start_time": "2023-10-31T13:52:56.813Z"
   },
   {
    "duration": 168,
    "start_time": "2023-10-31T13:54:37.304Z"
   },
   {
    "duration": 11,
    "start_time": "2023-10-31T13:58:35.380Z"
   },
   {
    "duration": 9,
    "start_time": "2023-10-31T13:59:43.947Z"
   },
   {
    "duration": 4,
    "start_time": "2023-10-31T14:08:41.602Z"
   },
   {
    "duration": 7,
    "start_time": "2023-10-31T14:08:42.362Z"
   },
   {
    "duration": 8,
    "start_time": "2023-10-31T14:09:01.402Z"
   },
   {
    "duration": 6,
    "start_time": "2023-10-31T14:12:43.210Z"
   },
   {
    "duration": 13,
    "start_time": "2023-10-31T14:12:43.876Z"
   },
   {
    "duration": 2203,
    "start_time": "2023-10-31T14:13:02.059Z"
   },
   {
    "duration": 2406,
    "start_time": "2023-10-31T14:17:27.550Z"
   },
   {
    "duration": 1338,
    "start_time": "2023-10-31T14:17:54.740Z"
   },
   {
    "duration": 4,
    "start_time": "2023-10-31T14:18:16.307Z"
   },
   {
    "duration": 4,
    "start_time": "2023-10-31T14:19:53.188Z"
   },
   {
    "duration": 19,
    "start_time": "2023-10-31T14:20:04.155Z"
   },
   {
    "duration": 152,
    "start_time": "2023-10-31T14:20:13.108Z"
   },
   {
    "duration": 728,
    "start_time": "2023-10-31T14:22:33.383Z"
   },
   {
    "duration": 200,
    "start_time": "2023-10-31T14:23:54.835Z"
   },
   {
    "duration": 170,
    "start_time": "2023-10-31T14:24:44.933Z"
   },
   {
    "duration": 21,
    "start_time": "2023-10-31T14:25:13.366Z"
   },
   {
    "duration": 1636,
    "start_time": "2023-10-31T14:32:28.989Z"
   },
   {
    "duration": 166,
    "start_time": "2023-10-31T14:46:31.453Z"
   },
   {
    "duration": 71,
    "start_time": "2023-10-31T14:47:23.058Z"
   },
   {
    "duration": 81,
    "start_time": "2023-10-31T14:50:55.189Z"
   },
   {
    "duration": 89,
    "start_time": "2023-10-31T14:50:56.651Z"
   },
   {
    "duration": 9,
    "start_time": "2023-10-31T14:56:12.812Z"
   },
   {
    "duration": 9,
    "start_time": "2023-10-31T14:58:46.641Z"
   },
   {
    "duration": 12,
    "start_time": "2023-10-31T15:00:06.029Z"
   },
   {
    "duration": 10,
    "start_time": "2023-10-31T15:00:11.115Z"
   },
   {
    "duration": 11,
    "start_time": "2023-10-31T15:05:09.551Z"
   },
   {
    "duration": 177,
    "start_time": "2023-10-31T15:05:22.791Z"
   },
   {
    "duration": 83,
    "start_time": "2023-10-31T15:05:37.126Z"
   },
   {
    "duration": 80,
    "start_time": "2023-10-31T15:05:43.804Z"
   },
   {
    "duration": 8,
    "start_time": "2023-10-31T15:05:59.587Z"
   },
   {
    "duration": 175,
    "start_time": "2023-10-31T15:13:20.139Z"
   },
   {
    "duration": 19,
    "start_time": "2023-10-31T15:15:05.378Z"
   },
   {
    "duration": 7,
    "start_time": "2023-10-31T15:18:44.216Z"
   },
   {
    "duration": 109,
    "start_time": "2023-10-31T15:18:47.011Z"
   },
   {
    "duration": 428,
    "start_time": "2023-10-31T15:21:33.583Z"
   },
   {
    "duration": 430,
    "start_time": "2023-10-31T15:21:39.350Z"
   },
   {
    "duration": 485,
    "start_time": "2023-10-31T15:22:18.244Z"
   },
   {
    "duration": 440,
    "start_time": "2023-10-31T15:22:26.056Z"
   },
   {
    "duration": 419,
    "start_time": "2023-10-31T15:22:49.409Z"
   },
   {
    "duration": 525,
    "start_time": "2023-10-31T15:22:56.433Z"
   },
   {
    "duration": 419,
    "start_time": "2023-10-31T15:23:01.936Z"
   },
   {
    "duration": 480,
    "start_time": "2023-10-31T15:23:06.320Z"
   },
   {
    "duration": 430,
    "start_time": "2023-10-31T15:23:18.336Z"
   },
   {
    "duration": 419,
    "start_time": "2023-10-31T15:23:36.142Z"
   },
   {
    "duration": 471,
    "start_time": "2023-10-31T15:23:52.589Z"
   },
   {
    "duration": 423,
    "start_time": "2023-10-31T15:24:27.075Z"
   },
   {
    "duration": 480,
    "start_time": "2023-10-31T15:24:47.929Z"
   },
   {
    "duration": 485,
    "start_time": "2023-10-31T15:24:55.625Z"
   },
   {
    "duration": 413,
    "start_time": "2023-10-31T15:25:10.935Z"
   },
   {
    "duration": 414,
    "start_time": "2023-10-31T15:25:19.942Z"
   },
   {
    "duration": 266,
    "start_time": "2023-10-31T15:25:48.589Z"
   },
   {
    "duration": 214,
    "start_time": "2023-10-31T15:26:23.410Z"
   },
   {
    "duration": 212,
    "start_time": "2023-10-31T15:28:19.562Z"
   },
   {
    "duration": 228,
    "start_time": "2023-10-31T15:29:16.701Z"
   },
   {
    "duration": 238,
    "start_time": "2023-10-31T15:29:25.629Z"
   },
   {
    "duration": 292,
    "start_time": "2023-10-31T15:29:38.867Z"
   },
   {
    "duration": 221,
    "start_time": "2023-10-31T15:30:14.537Z"
   },
   {
    "duration": 208,
    "start_time": "2023-10-31T15:33:33.019Z"
   },
   {
    "duration": 19,
    "start_time": "2023-10-31T15:34:36.902Z"
   },
   {
    "duration": 18,
    "start_time": "2023-10-31T15:41:19.698Z"
   },
   {
    "duration": 10,
    "start_time": "2023-10-31T15:43:55.934Z"
   },
   {
    "duration": 11,
    "start_time": "2023-10-31T15:44:36.259Z"
   },
   {
    "duration": 4,
    "start_time": "2023-10-31T15:45:32.447Z"
   },
   {
    "duration": 11,
    "start_time": "2023-10-31T15:45:39.534Z"
   },
   {
    "duration": 3,
    "start_time": "2023-10-31T15:45:45.415Z"
   },
   {
    "duration": 9,
    "start_time": "2023-10-31T15:45:53.662Z"
   },
   {
    "duration": 5,
    "start_time": "2023-10-31T15:46:07.948Z"
   },
   {
    "duration": 4,
    "start_time": "2023-10-31T15:46:27.955Z"
   },
   {
    "duration": 8,
    "start_time": "2023-10-31T15:47:23.047Z"
   },
   {
    "duration": 6,
    "start_time": "2023-10-31T15:47:42.957Z"
   },
   {
    "duration": 269,
    "start_time": "2023-10-31T15:48:04.692Z"
   },
   {
    "duration": 4,
    "start_time": "2023-10-31T15:48:36.906Z"
   },
   {
    "duration": 6,
    "start_time": "2023-10-31T15:48:45.383Z"
   },
   {
    "duration": 5,
    "start_time": "2023-10-31T15:48:54.017Z"
   },
   {
    "duration": 331,
    "start_time": "2023-10-31T15:50:33.370Z"
   },
   {
    "duration": 7,
    "start_time": "2023-10-31T15:56:32.978Z"
   },
   {
    "duration": 5,
    "start_time": "2023-10-31T15:56:36.129Z"
   },
   {
    "duration": 127,
    "start_time": "2023-10-31T15:59:11.670Z"
   },
   {
    "duration": 956,
    "start_time": "2023-10-31T16:00:44.045Z"
   },
   {
    "duration": 159,
    "start_time": "2023-10-31T16:00:51.861Z"
   },
   {
    "duration": 155,
    "start_time": "2023-10-31T16:01:07.932Z"
   },
   {
    "duration": 13,
    "start_time": "2023-10-31T16:05:12.308Z"
   },
   {
    "duration": 9,
    "start_time": "2023-10-31T16:06:01.993Z"
   },
   {
    "duration": 214,
    "start_time": "2023-10-31T17:36:17.516Z"
   },
   {
    "duration": 331,
    "start_time": "2023-10-31T17:36:56.813Z"
   },
   {
    "duration": 1063,
    "start_time": "2023-10-31T17:37:04.716Z"
   },
   {
    "duration": 410,
    "start_time": "2023-10-31T17:37:21.859Z"
   },
   {
    "duration": 218,
    "start_time": "2023-10-31T17:37:37.074Z"
   },
   {
    "duration": 234,
    "start_time": "2023-10-31T17:37:51.216Z"
   },
   {
    "duration": 6,
    "start_time": "2023-10-31T17:40:45.525Z"
   },
   {
    "duration": 5,
    "start_time": "2023-10-31T17:41:05.178Z"
   },
   {
    "duration": 606,
    "start_time": "2023-10-31T17:41:49.605Z"
   },
   {
    "duration": 65,
    "start_time": "2023-10-31T17:41:50.213Z"
   },
   {
    "duration": 3,
    "start_time": "2023-10-31T17:41:50.282Z"
   },
   {
    "duration": 16,
    "start_time": "2023-10-31T17:41:50.286Z"
   },
   {
    "duration": 9,
    "start_time": "2023-10-31T17:41:50.305Z"
   },
   {
    "duration": 31,
    "start_time": "2023-10-31T17:41:50.316Z"
   },
   {
    "duration": 50,
    "start_time": "2023-10-31T17:41:50.348Z"
   },
   {
    "duration": 6,
    "start_time": "2023-10-31T17:41:50.399Z"
   },
   {
    "duration": 4,
    "start_time": "2023-10-31T17:41:50.407Z"
   },
   {
    "duration": 27,
    "start_time": "2023-10-31T17:41:50.413Z"
   },
   {
    "duration": 8,
    "start_time": "2023-10-31T17:41:50.442Z"
   },
   {
    "duration": 8,
    "start_time": "2023-10-31T17:41:50.451Z"
   },
   {
    "duration": 150,
    "start_time": "2023-10-31T17:41:50.461Z"
   },
   {
    "duration": 7,
    "start_time": "2023-10-31T17:41:50.613Z"
   },
   {
    "duration": 1241,
    "start_time": "2023-10-31T17:41:50.622Z"
   },
   {
    "duration": 9,
    "start_time": "2023-10-31T17:41:51.865Z"
   },
   {
    "duration": 26,
    "start_time": "2023-10-31T17:41:51.875Z"
   },
   {
    "duration": 1746,
    "start_time": "2023-10-31T17:41:51.903Z"
   },
   {
    "duration": 225,
    "start_time": "2023-10-31T17:41:53.650Z"
   },
   {
    "duration": 22,
    "start_time": "2023-10-31T17:41:53.877Z"
   },
   {
    "duration": 7,
    "start_time": "2023-10-31T17:41:53.900Z"
   },
   {
    "duration": 301,
    "start_time": "2023-10-31T17:41:53.908Z"
   },
   {
    "duration": 0,
    "start_time": "2023-10-31T17:41:54.211Z"
   },
   {
    "duration": 0,
    "start_time": "2023-10-31T17:41:54.212Z"
   },
   {
    "duration": 0,
    "start_time": "2023-10-31T17:41:54.213Z"
   },
   {
    "duration": 0,
    "start_time": "2023-10-31T17:41:54.214Z"
   },
   {
    "duration": 20,
    "start_time": "2023-10-31T17:43:11.298Z"
   },
   {
    "duration": 5,
    "start_time": "2023-10-31T18:03:03.505Z"
   },
   {
    "duration": 15,
    "start_time": "2023-10-31T18:03:05.584Z"
   },
   {
    "duration": 10,
    "start_time": "2023-10-31T18:03:05.912Z"
   },
   {
    "duration": 149,
    "start_time": "2023-10-31T18:03:06.472Z"
   },
   {
    "duration": 19,
    "start_time": "2023-10-31T18:04:45.707Z"
   },
   {
    "duration": 402,
    "start_time": "2023-10-31T18:04:57.674Z"
   },
   {
    "duration": 5,
    "start_time": "2023-10-31T18:18:28.388Z"
   },
   {
    "duration": 7,
    "start_time": "2023-10-31T18:18:42.482Z"
   },
   {
    "duration": 4,
    "start_time": "2023-10-31T18:18:43.750Z"
   },
   {
    "duration": 5,
    "start_time": "2023-10-31T18:18:53.035Z"
   },
   {
    "duration": 4,
    "start_time": "2023-10-31T18:18:55.289Z"
   },
   {
    "duration": 8,
    "start_time": "2023-10-31T18:19:58.429Z"
   },
   {
    "duration": 22,
    "start_time": "2023-10-31T18:23:21.832Z"
   },
   {
    "duration": 4,
    "start_time": "2023-10-31T18:23:25.927Z"
   },
   {
    "duration": 7,
    "start_time": "2023-10-31T18:24:14.073Z"
   },
   {
    "duration": 630,
    "start_time": "2023-10-31T18:26:30.429Z"
   },
   {
    "duration": 79,
    "start_time": "2023-10-31T18:26:31.062Z"
   },
   {
    "duration": 3,
    "start_time": "2023-10-31T18:26:31.143Z"
   },
   {
    "duration": 62,
    "start_time": "2023-10-31T18:26:31.150Z"
   },
   {
    "duration": 40,
    "start_time": "2023-10-31T18:26:31.214Z"
   },
   {
    "duration": 77,
    "start_time": "2023-10-31T18:26:31.256Z"
   },
   {
    "duration": 72,
    "start_time": "2023-10-31T18:26:31.335Z"
   },
   {
    "duration": 6,
    "start_time": "2023-10-31T18:26:31.409Z"
   },
   {
    "duration": 31,
    "start_time": "2023-10-31T18:26:31.417Z"
   },
   {
    "duration": 76,
    "start_time": "2023-10-31T18:26:31.452Z"
   },
   {
    "duration": 20,
    "start_time": "2023-10-31T18:26:31.530Z"
   },
   {
    "duration": 30,
    "start_time": "2023-10-31T18:26:31.552Z"
   },
   {
    "duration": 27,
    "start_time": "2023-10-31T18:26:31.584Z"
   },
   {
    "duration": 164,
    "start_time": "2023-10-31T18:26:31.612Z"
   },
   {
    "duration": 7,
    "start_time": "2023-10-31T18:26:31.777Z"
   },
   {
    "duration": 1267,
    "start_time": "2023-10-31T18:26:31.786Z"
   },
   {
    "duration": 7,
    "start_time": "2023-10-31T18:26:33.054Z"
   },
   {
    "duration": 4,
    "start_time": "2023-10-31T18:26:33.063Z"
   },
   {
    "duration": 1692,
    "start_time": "2023-10-31T18:26:33.068Z"
   },
   {
    "duration": 241,
    "start_time": "2023-10-31T18:26:34.762Z"
   },
   {
    "duration": 22,
    "start_time": "2023-10-31T18:26:35.004Z"
   },
   {
    "duration": 48,
    "start_time": "2023-10-31T18:26:35.027Z"
   },
   {
    "duration": 370,
    "start_time": "2023-10-31T18:26:35.076Z"
   },
   {
    "duration": 0,
    "start_time": "2023-10-31T18:26:35.448Z"
   },
   {
    "duration": 0,
    "start_time": "2023-10-31T18:26:35.449Z"
   },
   {
    "duration": 0,
    "start_time": "2023-10-31T18:26:35.450Z"
   },
   {
    "duration": 0,
    "start_time": "2023-10-31T18:26:35.451Z"
   },
   {
    "duration": 0,
    "start_time": "2023-10-31T18:26:35.451Z"
   },
   {
    "duration": 6,
    "start_time": "2023-10-31T18:26:43.579Z"
   },
   {
    "duration": 9,
    "start_time": "2023-10-31T18:27:55.620Z"
   },
   {
    "duration": 10,
    "start_time": "2023-10-31T18:28:09.851Z"
   },
   {
    "duration": 6,
    "start_time": "2023-10-31T18:28:23.491Z"
   },
   {
    "duration": 6,
    "start_time": "2023-10-31T18:29:55.287Z"
   },
   {
    "duration": 574,
    "start_time": "2023-10-31T18:30:29.897Z"
   },
   {
    "duration": 68,
    "start_time": "2023-10-31T18:30:30.473Z"
   },
   {
    "duration": 2,
    "start_time": "2023-10-31T18:30:30.543Z"
   },
   {
    "duration": 72,
    "start_time": "2023-10-31T18:30:30.547Z"
   },
   {
    "duration": 61,
    "start_time": "2023-10-31T18:30:30.620Z"
   },
   {
    "duration": 51,
    "start_time": "2023-10-31T18:30:30.682Z"
   },
   {
    "duration": 91,
    "start_time": "2023-10-31T18:30:30.735Z"
   },
   {
    "duration": 7,
    "start_time": "2023-10-31T18:30:30.828Z"
   },
   {
    "duration": 28,
    "start_time": "2023-10-31T18:30:30.837Z"
   },
   {
    "duration": 98,
    "start_time": "2023-10-31T18:30:30.868Z"
   },
   {
    "duration": 25,
    "start_time": "2023-10-31T18:30:30.968Z"
   },
   {
    "duration": 24,
    "start_time": "2023-10-31T18:30:30.994Z"
   },
   {
    "duration": 24,
    "start_time": "2023-10-31T18:30:31.020Z"
   },
   {
    "duration": 177,
    "start_time": "2023-10-31T18:30:31.046Z"
   },
   {
    "duration": 16,
    "start_time": "2023-10-31T18:30:31.225Z"
   },
   {
    "duration": 1279,
    "start_time": "2023-10-31T18:30:31.242Z"
   },
   {
    "duration": 18,
    "start_time": "2023-10-31T18:30:32.523Z"
   },
   {
    "duration": 5,
    "start_time": "2023-10-31T18:30:32.543Z"
   },
   {
    "duration": 1707,
    "start_time": "2023-10-31T18:30:32.550Z"
   },
   {
    "duration": 228,
    "start_time": "2023-10-31T18:30:34.258Z"
   },
   {
    "duration": 22,
    "start_time": "2023-10-31T18:30:34.487Z"
   },
   {
    "duration": 8,
    "start_time": "2023-10-31T18:30:34.510Z"
   },
   {
    "duration": 315,
    "start_time": "2023-10-31T18:30:34.519Z"
   },
   {
    "duration": 0,
    "start_time": "2023-10-31T18:30:34.836Z"
   },
   {
    "duration": 0,
    "start_time": "2023-10-31T18:30:34.838Z"
   },
   {
    "duration": 0,
    "start_time": "2023-10-31T18:30:34.839Z"
   },
   {
    "duration": 0,
    "start_time": "2023-10-31T18:30:34.841Z"
   },
   {
    "duration": 0,
    "start_time": "2023-10-31T18:30:34.842Z"
   },
   {
    "duration": 0,
    "start_time": "2023-10-31T18:30:34.843Z"
   },
   {
    "duration": 5,
    "start_time": "2023-10-31T18:30:40.928Z"
   },
   {
    "duration": 6,
    "start_time": "2023-10-31T18:30:43.019Z"
   },
   {
    "duration": 6,
    "start_time": "2023-10-31T18:30:50.976Z"
   },
   {
    "duration": 249,
    "start_time": "2023-10-31T18:31:04.936Z"
   },
   {
    "duration": 624,
    "start_time": "2023-10-31T18:31:39.249Z"
   },
   {
    "duration": 65,
    "start_time": "2023-10-31T18:31:39.874Z"
   },
   {
    "duration": 4,
    "start_time": "2023-10-31T18:31:39.940Z"
   },
   {
    "duration": 12,
    "start_time": "2023-10-31T18:31:39.946Z"
   },
   {
    "duration": 8,
    "start_time": "2023-10-31T18:31:39.959Z"
   },
   {
    "duration": 15,
    "start_time": "2023-10-31T18:31:39.969Z"
   },
   {
    "duration": 84,
    "start_time": "2023-10-31T18:31:39.986Z"
   },
   {
    "duration": 6,
    "start_time": "2023-10-31T18:31:40.072Z"
   },
   {
    "duration": 5,
    "start_time": "2023-10-31T18:31:40.080Z"
   },
   {
    "duration": 25,
    "start_time": "2023-10-31T18:31:40.087Z"
   },
   {
    "duration": 11,
    "start_time": "2023-10-31T18:31:40.113Z"
   },
   {
    "duration": 19,
    "start_time": "2023-10-31T18:31:40.125Z"
   },
   {
    "duration": 5,
    "start_time": "2023-10-31T18:31:40.146Z"
   },
   {
    "duration": 148,
    "start_time": "2023-10-31T18:31:40.152Z"
   },
   {
    "duration": 8,
    "start_time": "2023-10-31T18:31:40.302Z"
   },
   {
    "duration": 1208,
    "start_time": "2023-10-31T18:31:40.311Z"
   },
   {
    "duration": 9,
    "start_time": "2023-10-31T18:31:41.520Z"
   },
   {
    "duration": 5,
    "start_time": "2023-10-31T18:31:41.541Z"
   },
   {
    "duration": 1785,
    "start_time": "2023-10-31T18:31:41.548Z"
   },
   {
    "duration": 227,
    "start_time": "2023-10-31T18:31:43.335Z"
   },
   {
    "duration": 22,
    "start_time": "2023-10-31T18:31:43.564Z"
   },
   {
    "duration": 6,
    "start_time": "2023-10-31T18:31:43.587Z"
   },
   {
    "duration": 9,
    "start_time": "2023-10-31T18:31:43.595Z"
   },
   {
    "duration": 34,
    "start_time": "2023-10-31T18:31:43.606Z"
   },
   {
    "duration": 284,
    "start_time": "2023-10-31T18:31:43.641Z"
   },
   {
    "duration": 0,
    "start_time": "2023-10-31T18:31:43.926Z"
   },
   {
    "duration": 0,
    "start_time": "2023-10-31T18:31:43.927Z"
   },
   {
    "duration": 0,
    "start_time": "2023-10-31T18:31:43.928Z"
   },
   {
    "duration": 0,
    "start_time": "2023-10-31T18:31:43.929Z"
   },
   {
    "duration": 5,
    "start_time": "2023-10-31T18:35:24.686Z"
   },
   {
    "duration": 4,
    "start_time": "2023-10-31T18:35:27.702Z"
   },
   {
    "duration": 9,
    "start_time": "2023-10-31T18:36:08.970Z"
   },
   {
    "duration": 4,
    "start_time": "2023-10-31T18:36:51.640Z"
   },
   {
    "duration": 13,
    "start_time": "2023-10-31T18:37:04.822Z"
   },
   {
    "duration": 604,
    "start_time": "2023-10-31T18:37:15.556Z"
   },
   {
    "duration": 66,
    "start_time": "2023-10-31T18:37:16.162Z"
   },
   {
    "duration": 3,
    "start_time": "2023-10-31T18:37:16.230Z"
   },
   {
    "duration": 14,
    "start_time": "2023-10-31T18:37:16.236Z"
   },
   {
    "duration": 10,
    "start_time": "2023-10-31T18:37:16.251Z"
   },
   {
    "duration": 18,
    "start_time": "2023-10-31T18:37:16.263Z"
   },
   {
    "duration": 80,
    "start_time": "2023-10-31T18:37:16.283Z"
   },
   {
    "duration": 7,
    "start_time": "2023-10-31T18:37:16.364Z"
   },
   {
    "duration": 6,
    "start_time": "2023-10-31T18:37:16.373Z"
   },
   {
    "duration": 12,
    "start_time": "2023-10-31T18:37:16.381Z"
   },
   {
    "duration": 5,
    "start_time": "2023-10-31T18:37:16.394Z"
   },
   {
    "duration": 39,
    "start_time": "2023-10-31T18:37:16.400Z"
   },
   {
    "duration": 5,
    "start_time": "2023-10-31T18:37:16.441Z"
   },
   {
    "duration": 20,
    "start_time": "2023-10-31T18:37:16.448Z"
   },
   {
    "duration": 4,
    "start_time": "2023-10-31T18:37:16.469Z"
   },
   {
    "duration": 7,
    "start_time": "2023-10-31T18:37:16.474Z"
   },
   {
    "duration": 5,
    "start_time": "2023-10-31T18:37:16.483Z"
   },
   {
    "duration": 167,
    "start_time": "2023-10-31T18:37:16.489Z"
   },
   {
    "duration": 7,
    "start_time": "2023-10-31T18:37:16.658Z"
   },
   {
    "duration": 1228,
    "start_time": "2023-10-31T18:37:16.667Z"
   },
   {
    "duration": 8,
    "start_time": "2023-10-31T18:37:17.897Z"
   },
   {
    "duration": 11,
    "start_time": "2023-10-31T18:37:17.906Z"
   },
   {
    "duration": 1678,
    "start_time": "2023-10-31T18:37:17.919Z"
   },
   {
    "duration": 242,
    "start_time": "2023-10-31T18:37:19.599Z"
   },
   {
    "duration": 33,
    "start_time": "2023-10-31T18:37:19.842Z"
   },
   {
    "duration": 7,
    "start_time": "2023-10-31T18:37:19.877Z"
   },
   {
    "duration": 14,
    "start_time": "2023-10-31T18:37:19.886Z"
   },
   {
    "duration": 5,
    "start_time": "2023-10-31T18:37:19.902Z"
   },
   {
    "duration": 32,
    "start_time": "2023-10-31T18:37:19.908Z"
   },
   {
    "duration": 12,
    "start_time": "2023-10-31T18:37:19.941Z"
   },
   {
    "duration": 11,
    "start_time": "2023-10-31T18:37:19.954Z"
   },
   {
    "duration": 177,
    "start_time": "2023-10-31T18:37:19.967Z"
   },
   {
    "duration": 6,
    "start_time": "2023-10-31T18:37:20.146Z"
   },
   {
    "duration": 6,
    "start_time": "2023-10-31T18:38:13.282Z"
   },
   {
    "duration": 160,
    "start_time": "2023-10-31T18:39:31.939Z"
   },
   {
    "duration": 73,
    "start_time": "2023-10-31T18:40:13.929Z"
   },
   {
    "duration": 178,
    "start_time": "2023-10-31T18:41:35.650Z"
   },
   {
    "duration": 120,
    "start_time": "2023-10-31T18:41:58.330Z"
   },
   {
    "duration": 119,
    "start_time": "2023-10-31T18:42:04.274Z"
   },
   {
    "duration": 169,
    "start_time": "2023-10-31T18:42:10.651Z"
   },
   {
    "duration": 150,
    "start_time": "2023-10-31T18:42:14.107Z"
   },
   {
    "duration": 169,
    "start_time": "2023-10-31T18:42:17.983Z"
   },
   {
    "duration": 148,
    "start_time": "2023-10-31T18:43:13.878Z"
   },
   {
    "duration": 150,
    "start_time": "2023-10-31T18:43:19.979Z"
   },
   {
    "duration": 6,
    "start_time": "2023-10-31T18:44:00.665Z"
   },
   {
    "duration": 5,
    "start_time": "2023-10-31T18:44:18.423Z"
   },
   {
    "duration": 601,
    "start_time": "2023-10-31T18:45:42.076Z"
   },
   {
    "duration": 64,
    "start_time": "2023-10-31T18:45:42.678Z"
   },
   {
    "duration": 3,
    "start_time": "2023-10-31T18:45:42.743Z"
   },
   {
    "duration": 34,
    "start_time": "2023-10-31T18:45:42.747Z"
   },
   {
    "duration": 10,
    "start_time": "2023-10-31T18:45:42.782Z"
   },
   {
    "duration": 13,
    "start_time": "2023-10-31T18:45:42.793Z"
   },
   {
    "duration": 48,
    "start_time": "2023-10-31T18:45:42.807Z"
   },
   {
    "duration": 5,
    "start_time": "2023-10-31T18:45:42.856Z"
   },
   {
    "duration": 14,
    "start_time": "2023-10-31T18:45:42.862Z"
   },
   {
    "duration": 4,
    "start_time": "2023-10-31T18:45:42.878Z"
   },
   {
    "duration": 4,
    "start_time": "2023-10-31T18:45:42.883Z"
   },
   {
    "duration": 4,
    "start_time": "2023-10-31T18:45:42.888Z"
   },
   {
    "duration": 142,
    "start_time": "2023-10-31T18:45:42.893Z"
   },
   {
    "duration": 7,
    "start_time": "2023-10-31T18:45:43.039Z"
   },
   {
    "duration": 1171,
    "start_time": "2023-10-31T18:45:43.047Z"
   },
   {
    "duration": 8,
    "start_time": "2023-10-31T18:45:44.219Z"
   },
   {
    "duration": 4,
    "start_time": "2023-10-31T18:45:44.239Z"
   },
   {
    "duration": 1636,
    "start_time": "2023-10-31T18:45:44.245Z"
   },
   {
    "duration": 219,
    "start_time": "2023-10-31T18:45:45.882Z"
   },
   {
    "duration": 19,
    "start_time": "2023-10-31T18:45:46.103Z"
   },
   {
    "duration": 79,
    "start_time": "2023-10-31T18:45:46.124Z"
   },
   {
    "duration": 0,
    "start_time": "2023-10-31T18:45:46.205Z"
   },
   {
    "duration": 0,
    "start_time": "2023-10-31T18:45:46.206Z"
   },
   {
    "duration": 0,
    "start_time": "2023-10-31T18:45:46.208Z"
   },
   {
    "duration": 4,
    "start_time": "2023-10-31T18:47:20.403Z"
   },
   {
    "duration": 141,
    "start_time": "2023-10-31T18:47:21.987Z"
   },
   {
    "duration": 5,
    "start_time": "2023-10-31T18:47:24.138Z"
   },
   {
    "duration": 136,
    "start_time": "2023-10-31T18:47:24.514Z"
   },
   {
    "duration": 4,
    "start_time": "2023-10-31T18:47:26.242Z"
   },
   {
    "duration": 117,
    "start_time": "2023-10-31T18:48:32.886Z"
   },
   {
    "duration": 364,
    "start_time": "2023-10-31T18:50:24.294Z"
   },
   {
    "duration": 275,
    "start_time": "2023-10-31T18:50:42.501Z"
   },
   {
    "duration": 280,
    "start_time": "2023-10-31T18:50:52.245Z"
   },
   {
    "duration": 132,
    "start_time": "2023-10-31T18:51:42.730Z"
   },
   {
    "duration": 147,
    "start_time": "2023-10-31T18:51:53.001Z"
   },
   {
    "duration": 134,
    "start_time": "2023-10-31T18:52:02.175Z"
   },
   {
    "duration": 143,
    "start_time": "2023-10-31T18:52:06.407Z"
   },
   {
    "duration": 160,
    "start_time": "2023-10-31T18:52:22.078Z"
   },
   {
    "duration": 177,
    "start_time": "2023-10-31T18:53:06.282Z"
   },
   {
    "duration": 158,
    "start_time": "2023-10-31T18:53:15.498Z"
   },
   {
    "duration": 208,
    "start_time": "2023-10-31T18:53:20.953Z"
   },
   {
    "duration": 150,
    "start_time": "2023-10-31T18:53:27.681Z"
   },
   {
    "duration": 46,
    "start_time": "2023-11-01T06:41:29.904Z"
   },
   {
    "duration": 739,
    "start_time": "2023-11-01T06:41:37.457Z"
   },
   {
    "duration": 115,
    "start_time": "2023-11-01T06:41:38.198Z"
   },
   {
    "duration": 3,
    "start_time": "2023-11-01T06:41:38.315Z"
   },
   {
    "duration": 17,
    "start_time": "2023-11-01T06:41:38.319Z"
   },
   {
    "duration": 10,
    "start_time": "2023-11-01T06:41:38.338Z"
   },
   {
    "duration": 22,
    "start_time": "2023-11-01T06:41:38.349Z"
   },
   {
    "duration": 74,
    "start_time": "2023-11-01T06:41:38.373Z"
   },
   {
    "duration": 6,
    "start_time": "2023-11-01T06:41:38.448Z"
   },
   {
    "duration": 13,
    "start_time": "2023-11-01T06:41:38.455Z"
   },
   {
    "duration": 7,
    "start_time": "2023-11-01T06:41:38.470Z"
   },
   {
    "duration": 7,
    "start_time": "2023-11-01T06:41:38.478Z"
   },
   {
    "duration": 164,
    "start_time": "2023-11-01T06:41:38.486Z"
   },
   {
    "duration": 8,
    "start_time": "2023-11-01T06:41:38.652Z"
   },
   {
    "duration": 1230,
    "start_time": "2023-11-01T06:41:38.662Z"
   },
   {
    "duration": 14,
    "start_time": "2023-11-01T06:41:39.893Z"
   },
   {
    "duration": 4,
    "start_time": "2023-11-01T06:41:39.909Z"
   },
   {
    "duration": 1736,
    "start_time": "2023-11-01T06:41:39.914Z"
   },
   {
    "duration": 262,
    "start_time": "2023-11-01T06:41:41.652Z"
   },
   {
    "duration": 4,
    "start_time": "2023-11-01T06:41:41.915Z"
   },
   {
    "duration": 166,
    "start_time": "2023-11-01T06:41:41.920Z"
   },
   {
    "duration": 6,
    "start_time": "2023-11-01T06:41:42.087Z"
   },
   {
    "duration": 167,
    "start_time": "2023-11-01T06:41:42.094Z"
   },
   {
    "duration": 6,
    "start_time": "2023-11-01T06:41:42.262Z"
   },
   {
    "duration": 187,
    "start_time": "2023-11-01T06:41:42.269Z"
   },
   {
    "duration": 655,
    "start_time": "2023-11-01T06:42:19.910Z"
   },
   {
    "duration": 67,
    "start_time": "2023-11-01T06:42:20.567Z"
   },
   {
    "duration": 3,
    "start_time": "2023-11-01T06:42:20.636Z"
   },
   {
    "duration": 39,
    "start_time": "2023-11-01T06:42:20.641Z"
   },
   {
    "duration": 13,
    "start_time": "2023-11-01T06:42:20.681Z"
   },
   {
    "duration": 67,
    "start_time": "2023-11-01T06:42:20.696Z"
   },
   {
    "duration": 64,
    "start_time": "2023-11-01T06:42:20.765Z"
   },
   {
    "duration": 59,
    "start_time": "2023-11-01T06:42:20.831Z"
   },
   {
    "duration": 31,
    "start_time": "2023-11-01T06:42:20.892Z"
   },
   {
    "duration": 30,
    "start_time": "2023-11-01T06:42:20.926Z"
   },
   {
    "duration": 18,
    "start_time": "2023-11-01T06:42:20.958Z"
   },
   {
    "duration": 165,
    "start_time": "2023-11-01T06:42:20.978Z"
   },
   {
    "duration": 9,
    "start_time": "2023-11-01T06:42:21.144Z"
   },
   {
    "duration": 1317,
    "start_time": "2023-11-01T06:42:21.154Z"
   },
   {
    "duration": 9,
    "start_time": "2023-11-01T06:42:22.473Z"
   },
   {
    "duration": 5,
    "start_time": "2023-11-01T06:42:22.484Z"
   },
   {
    "duration": 1809,
    "start_time": "2023-11-01T06:42:22.491Z"
   },
   {
    "duration": 262,
    "start_time": "2023-11-01T06:42:24.301Z"
   },
   {
    "duration": 4,
    "start_time": "2023-11-01T06:42:24.565Z"
   },
   {
    "duration": 166,
    "start_time": "2023-11-01T06:42:24.571Z"
   },
   {
    "duration": 6,
    "start_time": "2023-11-01T06:42:24.739Z"
   },
   {
    "duration": 175,
    "start_time": "2023-11-01T06:42:24.747Z"
   },
   {
    "duration": 167,
    "start_time": "2023-11-01T06:42:40.332Z"
   },
   {
    "duration": 4,
    "start_time": "2023-11-01T06:44:11.534Z"
   },
   {
    "duration": 149,
    "start_time": "2023-11-01T06:44:37.508Z"
   },
   {
    "duration": 145,
    "start_time": "2023-11-01T06:45:13.291Z"
   },
   {
    "duration": 211,
    "start_time": "2023-11-01T06:45:48.311Z"
   },
   {
    "duration": 150,
    "start_time": "2023-11-01T06:46:01.992Z"
   },
   {
    "duration": 622,
    "start_time": "2023-11-01T06:46:33.816Z"
   },
   {
    "duration": 67,
    "start_time": "2023-11-01T06:46:34.440Z"
   },
   {
    "duration": 3,
    "start_time": "2023-11-01T06:46:34.508Z"
   },
   {
    "duration": 45,
    "start_time": "2023-11-01T06:46:34.513Z"
   },
   {
    "duration": 22,
    "start_time": "2023-11-01T06:46:34.559Z"
   },
   {
    "duration": 23,
    "start_time": "2023-11-01T06:46:34.583Z"
   },
   {
    "duration": 53,
    "start_time": "2023-11-01T06:46:34.607Z"
   },
   {
    "duration": 6,
    "start_time": "2023-11-01T06:46:34.662Z"
   },
   {
    "duration": 27,
    "start_time": "2023-11-01T06:46:34.669Z"
   },
   {
    "duration": 32,
    "start_time": "2023-11-01T06:46:34.698Z"
   },
   {
    "duration": 22,
    "start_time": "2023-11-01T06:46:34.732Z"
   },
   {
    "duration": 181,
    "start_time": "2023-11-01T06:46:34.756Z"
   },
   {
    "duration": 8,
    "start_time": "2023-11-01T06:46:34.938Z"
   },
   {
    "duration": 1321,
    "start_time": "2023-11-01T06:46:34.948Z"
   },
   {
    "duration": 9,
    "start_time": "2023-11-01T06:46:36.271Z"
   },
   {
    "duration": 13,
    "start_time": "2023-11-01T06:46:36.282Z"
   },
   {
    "duration": 1787,
    "start_time": "2023-11-01T06:46:36.296Z"
   },
   {
    "duration": 258,
    "start_time": "2023-11-01T06:46:38.085Z"
   },
   {
    "duration": 4,
    "start_time": "2023-11-01T06:46:38.345Z"
   },
   {
    "duration": 167,
    "start_time": "2023-11-01T06:46:38.350Z"
   },
   {
    "duration": 166,
    "start_time": "2023-11-01T06:46:38.518Z"
   },
   {
    "duration": 4,
    "start_time": "2023-11-01T06:46:38.685Z"
   },
   {
    "duration": 167,
    "start_time": "2023-11-01T06:46:38.690Z"
   },
   {
    "duration": 151,
    "start_time": "2023-11-01T06:46:38.858Z"
   },
   {
    "duration": 363,
    "start_time": "2023-11-01T06:49:22.321Z"
   },
   {
    "duration": 297,
    "start_time": "2023-11-01T06:49:38.864Z"
   },
   {
    "duration": 609,
    "start_time": "2023-11-01T06:50:11.850Z"
   },
   {
    "duration": 67,
    "start_time": "2023-11-01T06:50:12.461Z"
   },
   {
    "duration": 3,
    "start_time": "2023-11-01T06:50:12.529Z"
   },
   {
    "duration": 64,
    "start_time": "2023-11-01T06:50:12.534Z"
   },
   {
    "duration": 33,
    "start_time": "2023-11-01T06:50:12.600Z"
   },
   {
    "duration": 27,
    "start_time": "2023-11-01T06:50:12.634Z"
   },
   {
    "duration": 69,
    "start_time": "2023-11-01T06:50:12.662Z"
   },
   {
    "duration": 5,
    "start_time": "2023-11-01T06:50:12.733Z"
   },
   {
    "duration": 24,
    "start_time": "2023-11-01T06:50:12.740Z"
   },
   {
    "duration": 37,
    "start_time": "2023-11-01T06:50:12.767Z"
   },
   {
    "duration": 17,
    "start_time": "2023-11-01T06:50:12.806Z"
   },
   {
    "duration": 166,
    "start_time": "2023-11-01T06:50:12.824Z"
   },
   {
    "duration": 8,
    "start_time": "2023-11-01T06:50:12.992Z"
   },
   {
    "duration": 1315,
    "start_time": "2023-11-01T06:50:13.006Z"
   },
   {
    "duration": 9,
    "start_time": "2023-11-01T06:50:14.323Z"
   },
   {
    "duration": 49,
    "start_time": "2023-11-01T06:50:14.334Z"
   },
   {
    "duration": 1809,
    "start_time": "2023-11-01T06:50:14.385Z"
   },
   {
    "duration": 315,
    "start_time": "2023-11-01T06:50:16.195Z"
   },
   {
    "duration": 353,
    "start_time": "2023-11-01T06:50:16.512Z"
   },
   {
    "duration": 315,
    "start_time": "2023-11-01T06:50:16.867Z"
   },
   {
    "duration": 378,
    "start_time": "2023-11-01T06:51:47.998Z"
   },
   {
    "duration": 290,
    "start_time": "2023-11-01T06:53:04.242Z"
   },
   {
    "duration": 317,
    "start_time": "2023-11-01T06:54:24.068Z"
   },
   {
    "duration": 167,
    "start_time": "2023-11-01T07:09:43.029Z"
   },
   {
    "duration": 29,
    "start_time": "2023-11-01T07:10:16.067Z"
   },
   {
    "duration": 212,
    "start_time": "2023-11-01T07:10:33.193Z"
   },
   {
    "duration": 278,
    "start_time": "2023-11-01T07:11:16.071Z"
   },
   {
    "duration": 263,
    "start_time": "2023-11-01T07:11:42.949Z"
   },
   {
    "duration": 219,
    "start_time": "2023-11-01T07:15:37.381Z"
   },
   {
    "duration": 213,
    "start_time": "2023-11-01T07:16:14.410Z"
   },
   {
    "duration": 22,
    "start_time": "2023-11-01T07:20:19.930Z"
   },
   {
    "duration": 3,
    "start_time": "2023-11-01T07:25:50.106Z"
   },
   {
    "duration": 5,
    "start_time": "2023-11-01T07:25:53.786Z"
   },
   {
    "duration": 14,
    "start_time": "2023-11-01T07:27:30.572Z"
   },
   {
    "duration": 643,
    "start_time": "2023-11-01T07:27:48.705Z"
   },
   {
    "duration": 76,
    "start_time": "2023-11-01T07:27:49.350Z"
   },
   {
    "duration": 3,
    "start_time": "2023-11-01T07:27:49.428Z"
   },
   {
    "duration": 44,
    "start_time": "2023-11-01T07:27:49.433Z"
   },
   {
    "duration": 47,
    "start_time": "2023-11-01T07:27:49.479Z"
   },
   {
    "duration": 77,
    "start_time": "2023-11-01T07:27:49.528Z"
   },
   {
    "duration": 94,
    "start_time": "2023-11-01T07:27:49.606Z"
   },
   {
    "duration": 7,
    "start_time": "2023-11-01T07:27:49.702Z"
   },
   {
    "duration": 46,
    "start_time": "2023-11-01T07:27:49.710Z"
   },
   {
    "duration": 29,
    "start_time": "2023-11-01T07:27:49.759Z"
   },
   {
    "duration": 30,
    "start_time": "2023-11-01T07:27:49.790Z"
   },
   {
    "duration": 165,
    "start_time": "2023-11-01T07:27:49.822Z"
   },
   {
    "duration": 9,
    "start_time": "2023-11-01T07:27:49.988Z"
   },
   {
    "duration": 1319,
    "start_time": "2023-11-01T07:27:50.006Z"
   },
   {
    "duration": 10,
    "start_time": "2023-11-01T07:27:51.327Z"
   },
   {
    "duration": 34,
    "start_time": "2023-11-01T07:27:51.338Z"
   },
   {
    "duration": 1869,
    "start_time": "2023-11-01T07:27:51.374Z"
   },
   {
    "duration": 302,
    "start_time": "2023-11-01T07:27:53.245Z"
   },
   {
    "duration": 343,
    "start_time": "2023-11-01T07:27:53.549Z"
   },
   {
    "duration": 317,
    "start_time": "2023-11-01T07:27:53.894Z"
   },
   {
    "duration": 414,
    "start_time": "2023-11-01T07:27:54.213Z"
   },
   {
    "duration": 324,
    "start_time": "2023-11-01T07:27:54.628Z"
   },
   {
    "duration": 356,
    "start_time": "2023-11-01T07:27:54.953Z"
   },
   {
    "duration": 226,
    "start_time": "2023-11-01T07:27:55.310Z"
   },
   {
    "duration": 22,
    "start_time": "2023-11-01T07:27:55.538Z"
   },
   {
    "duration": 30,
    "start_time": "2023-11-01T07:27:55.561Z"
   },
   {
    "duration": 216,
    "start_time": "2023-11-01T07:29:38.916Z"
   },
   {
    "duration": 82,
    "start_time": "2023-11-01T07:30:25.265Z"
   },
   {
    "duration": 15,
    "start_time": "2023-11-01T07:31:04.598Z"
   },
   {
    "duration": 209,
    "start_time": "2023-11-01T07:31:49.842Z"
   },
   {
    "duration": 10,
    "start_time": "2023-11-01T07:48:32.022Z"
   },
   {
    "duration": 4,
    "start_time": "2023-11-01T07:55:00.979Z"
   },
   {
    "duration": 21,
    "start_time": "2023-11-01T07:55:07.665Z"
   },
   {
    "duration": 4,
    "start_time": "2023-11-01T07:55:39.223Z"
   },
   {
    "duration": 17,
    "start_time": "2023-11-01T07:55:39.688Z"
   },
   {
    "duration": 195,
    "start_time": "2023-11-01T07:56:53.163Z"
   },
   {
    "duration": 192,
    "start_time": "2023-11-01T07:58:22.196Z"
   },
   {
    "duration": 518,
    "start_time": "2023-11-01T07:59:15.897Z"
   },
   {
    "duration": 596,
    "start_time": "2023-11-01T08:00:16.717Z"
   },
   {
    "duration": 670,
    "start_time": "2023-11-01T08:01:35.431Z"
   },
   {
    "duration": 600,
    "start_time": "2023-11-01T08:02:38.578Z"
   },
   {
    "duration": 398,
    "start_time": "2023-11-01T08:04:42.794Z"
   },
   {
    "duration": 162,
    "start_time": "2023-11-01T08:04:53.849Z"
   },
   {
    "duration": 16,
    "start_time": "2023-11-01T08:16:20.771Z"
   },
   {
    "duration": 371,
    "start_time": "2023-11-01T08:22:10.169Z"
   },
   {
    "duration": 341,
    "start_time": "2023-11-01T08:22:35.480Z"
   },
   {
    "duration": 138,
    "start_time": "2023-11-01T08:23:10.958Z"
   },
   {
    "duration": 18,
    "start_time": "2023-11-01T08:23:42.771Z"
   },
   {
    "duration": 6,
    "start_time": "2023-11-01T08:24:29.918Z"
   },
   {
    "duration": 13,
    "start_time": "2023-11-01T08:24:45.557Z"
   },
   {
    "duration": 13,
    "start_time": "2023-11-01T08:26:16.969Z"
   },
   {
    "duration": 278,
    "start_time": "2023-11-01T08:27:01.089Z"
   },
   {
    "duration": 173,
    "start_time": "2023-11-01T08:29:43.395Z"
   },
   {
    "duration": 160,
    "start_time": "2023-11-01T08:31:09.050Z"
   },
   {
    "duration": 572,
    "start_time": "2023-11-01T08:32:03.864Z"
   },
   {
    "duration": 293,
    "start_time": "2023-11-01T11:10:38.867Z"
   },
   {
    "duration": 269,
    "start_time": "2023-11-01T11:11:03.983Z"
   },
   {
    "duration": 23,
    "start_time": "2023-11-01T11:18:21.968Z"
   },
   {
    "duration": 17,
    "start_time": "2023-11-01T11:20:10.257Z"
   },
   {
    "duration": 496,
    "start_time": "2023-11-01T11:20:37.334Z"
   },
   {
    "duration": 10,
    "start_time": "2023-11-01T11:20:41.646Z"
   },
   {
    "duration": 7,
    "start_time": "2023-11-01T11:45:49.070Z"
   },
   {
    "duration": 7,
    "start_time": "2023-11-01T11:47:02.921Z"
   },
   {
    "duration": 12,
    "start_time": "2023-11-01T12:05:24.622Z"
   },
   {
    "duration": 7,
    "start_time": "2023-11-01T12:06:11.627Z"
   },
   {
    "duration": 6,
    "start_time": "2023-11-01T12:06:18.033Z"
   },
   {
    "duration": 8,
    "start_time": "2023-11-01T12:07:18.237Z"
   },
   {
    "duration": 4,
    "start_time": "2023-11-01T12:12:49.871Z"
   },
   {
    "duration": 11,
    "start_time": "2023-11-01T12:23:28.140Z"
   },
   {
    "duration": 7,
    "start_time": "2023-11-01T12:24:34.191Z"
   },
   {
    "duration": 7,
    "start_time": "2023-11-01T12:24:50.174Z"
   },
   {
    "duration": 44,
    "start_time": "2023-11-01T12:25:34.938Z"
   },
   {
    "duration": 6,
    "start_time": "2023-11-01T12:26:10.752Z"
   },
   {
    "duration": 20,
    "start_time": "2023-11-01T12:26:38.716Z"
   },
   {
    "duration": 7,
    "start_time": "2023-11-01T12:26:51.429Z"
   },
   {
    "duration": 10,
    "start_time": "2023-11-01T12:27:27.682Z"
   },
   {
    "duration": 10,
    "start_time": "2023-11-01T12:27:39.265Z"
   },
   {
    "duration": 12,
    "start_time": "2023-11-01T12:31:23.466Z"
   },
   {
    "duration": 10,
    "start_time": "2023-11-01T12:31:31.882Z"
   },
   {
    "duration": 4,
    "start_time": "2023-11-01T12:31:45.312Z"
   },
   {
    "duration": 4,
    "start_time": "2023-11-01T12:33:36.545Z"
   },
   {
    "duration": 6,
    "start_time": "2023-11-01T12:33:39.777Z"
   },
   {
    "duration": 6,
    "start_time": "2023-11-01T12:33:55.280Z"
   },
   {
    "duration": 9,
    "start_time": "2023-11-01T12:34:02.935Z"
   },
   {
    "duration": 5,
    "start_time": "2023-11-01T12:36:31.549Z"
   },
   {
    "duration": 9,
    "start_time": "2023-11-01T12:37:35.930Z"
   },
   {
    "duration": 3,
    "start_time": "2023-11-01T12:37:53.768Z"
   },
   {
    "duration": 8,
    "start_time": "2023-11-01T12:44:59.538Z"
   },
   {
    "duration": 10,
    "start_time": "2023-11-01T12:45:09.690Z"
   },
   {
    "duration": 7,
    "start_time": "2023-11-01T12:45:18.344Z"
   },
   {
    "duration": 8,
    "start_time": "2023-11-01T12:45:26.623Z"
   },
   {
    "duration": 5,
    "start_time": "2023-11-01T12:45:56.102Z"
   },
   {
    "duration": 4,
    "start_time": "2023-11-01T12:46:04.541Z"
   },
   {
    "duration": 7,
    "start_time": "2023-11-01T12:46:16.079Z"
   },
   {
    "duration": 9,
    "start_time": "2023-11-01T12:46:52.849Z"
   },
   {
    "duration": 6,
    "start_time": "2023-11-01T12:47:07.713Z"
   },
   {
    "duration": 1164,
    "start_time": "2023-11-01T12:49:17.912Z"
   },
   {
    "duration": 70,
    "start_time": "2023-11-01T12:49:19.078Z"
   },
   {
    "duration": 3,
    "start_time": "2023-11-01T12:49:19.149Z"
   },
   {
    "duration": 54,
    "start_time": "2023-11-01T12:49:19.154Z"
   },
   {
    "duration": 42,
    "start_time": "2023-11-01T12:49:19.209Z"
   },
   {
    "duration": 49,
    "start_time": "2023-11-01T12:49:19.253Z"
   },
   {
    "duration": 68,
    "start_time": "2023-11-01T12:49:19.304Z"
   },
   {
    "duration": 5,
    "start_time": "2023-11-01T12:49:19.374Z"
   },
   {
    "duration": 36,
    "start_time": "2023-11-01T12:49:19.381Z"
   },
   {
    "duration": 38,
    "start_time": "2023-11-01T12:49:19.421Z"
   },
   {
    "duration": 48,
    "start_time": "2023-11-01T12:49:19.461Z"
   },
   {
    "duration": 183,
    "start_time": "2023-11-01T12:49:19.511Z"
   },
   {
    "duration": 16,
    "start_time": "2023-11-01T12:49:19.696Z"
   },
   {
    "duration": 1279,
    "start_time": "2023-11-01T12:49:19.714Z"
   },
   {
    "duration": 13,
    "start_time": "2023-11-01T12:49:20.994Z"
   },
   {
    "duration": 8,
    "start_time": "2023-11-01T12:49:21.009Z"
   },
   {
    "duration": 1844,
    "start_time": "2023-11-01T12:49:21.019Z"
   },
   {
    "duration": 350,
    "start_time": "2023-11-01T12:49:22.865Z"
   },
   {
    "duration": 323,
    "start_time": "2023-11-01T12:49:23.217Z"
   },
   {
    "duration": 305,
    "start_time": "2023-11-01T12:49:23.542Z"
   },
   {
    "duration": 329,
    "start_time": "2023-11-01T12:49:23.848Z"
   },
   {
    "duration": 312,
    "start_time": "2023-11-01T12:49:24.179Z"
   },
   {
    "duration": 331,
    "start_time": "2023-11-01T12:49:24.493Z"
   },
   {
    "duration": 224,
    "start_time": "2023-11-01T12:49:24.826Z"
   },
   {
    "duration": 696,
    "start_time": "2023-11-01T12:49:25.052Z"
   },
   {
    "duration": 721,
    "start_time": "2023-11-01T12:49:25.750Z"
   },
   {
    "duration": 498,
    "start_time": "2023-11-01T12:49:26.472Z"
   },
   {
    "duration": 7,
    "start_time": "2023-11-01T12:49:26.974Z"
   },
   {
    "duration": 24,
    "start_time": "2023-11-01T12:49:26.983Z"
   },
   {
    "duration": 15,
    "start_time": "2023-11-01T12:49:27.009Z"
   },
   {
    "duration": 11,
    "start_time": "2023-11-01T12:49:27.026Z"
   },
   {
    "duration": 16,
    "start_time": "2023-11-01T12:49:27.039Z"
   },
   {
    "duration": 8,
    "start_time": "2023-11-01T12:49:27.056Z"
   },
   {
    "duration": 7,
    "start_time": "2023-11-01T12:49:27.065Z"
   },
   {
    "duration": 5,
    "start_time": "2023-11-01T12:50:15.699Z"
   },
   {
    "duration": 4,
    "start_time": "2023-11-01T12:50:24.677Z"
   },
   {
    "duration": 5,
    "start_time": "2023-11-01T12:50:25.660Z"
   },
   {
    "duration": 8,
    "start_time": "2023-11-01T12:50:32.084Z"
   },
   {
    "duration": 7,
    "start_time": "2023-11-01T12:52:52.266Z"
   },
   {
    "duration": 4,
    "start_time": "2023-11-01T12:52:58.865Z"
   },
   {
    "duration": 92,
    "start_time": "2023-11-01T12:53:06.760Z"
   },
   {
    "duration": 7,
    "start_time": "2023-11-01T12:54:12.837Z"
   },
   {
    "duration": 24,
    "start_time": "2023-11-01T12:54:16.884Z"
   },
   {
    "duration": 6,
    "start_time": "2023-11-01T12:54:28.371Z"
   },
   {
    "duration": 8,
    "start_time": "2023-11-01T12:54:51.442Z"
   },
   {
    "duration": 75,
    "start_time": "2023-11-01T12:55:17.183Z"
   },
   {
    "duration": 5,
    "start_time": "2023-11-01T12:55:23.071Z"
   },
   {
    "duration": 6,
    "start_time": "2023-11-01T12:56:30.907Z"
   },
   {
    "duration": 1122,
    "start_time": "2023-11-01T12:57:04.333Z"
   },
   {
    "duration": 71,
    "start_time": "2023-11-01T12:57:05.457Z"
   },
   {
    "duration": 4,
    "start_time": "2023-11-01T12:57:05.529Z"
   },
   {
    "duration": 34,
    "start_time": "2023-11-01T12:57:05.535Z"
   },
   {
    "duration": 22,
    "start_time": "2023-11-01T12:57:05.571Z"
   },
   {
    "duration": 43,
    "start_time": "2023-11-01T12:57:05.594Z"
   },
   {
    "duration": 64,
    "start_time": "2023-11-01T12:57:05.639Z"
   },
   {
    "duration": 7,
    "start_time": "2023-11-01T12:57:05.705Z"
   },
   {
    "duration": 43,
    "start_time": "2023-11-01T12:57:05.713Z"
   },
   {
    "duration": 20,
    "start_time": "2023-11-01T12:57:05.760Z"
   },
   {
    "duration": 26,
    "start_time": "2023-11-01T12:57:05.782Z"
   },
   {
    "duration": 236,
    "start_time": "2023-11-01T12:57:05.810Z"
   },
   {
    "duration": 11,
    "start_time": "2023-11-01T12:57:06.048Z"
   },
   {
    "duration": 1278,
    "start_time": "2023-11-01T12:57:06.061Z"
   },
   {
    "duration": 8,
    "start_time": "2023-11-01T12:57:07.341Z"
   },
   {
    "duration": 48,
    "start_time": "2023-11-01T12:57:07.351Z"
   },
   {
    "duration": 1828,
    "start_time": "2023-11-01T12:57:07.401Z"
   },
   {
    "duration": 353,
    "start_time": "2023-11-01T12:57:09.231Z"
   },
   {
    "duration": 333,
    "start_time": "2023-11-01T12:57:09.586Z"
   },
   {
    "duration": 331,
    "start_time": "2023-11-01T12:57:09.921Z"
   },
   {
    "duration": 349,
    "start_time": "2023-11-01T12:57:10.255Z"
   },
   {
    "duration": 324,
    "start_time": "2023-11-01T12:57:10.608Z"
   },
   {
    "duration": 340,
    "start_time": "2023-11-01T12:57:10.934Z"
   },
   {
    "duration": 229,
    "start_time": "2023-11-01T12:57:11.275Z"
   },
   {
    "duration": 681,
    "start_time": "2023-11-01T12:57:11.506Z"
   },
   {
    "duration": 620,
    "start_time": "2023-11-01T12:57:12.189Z"
   },
   {
    "duration": 520,
    "start_time": "2023-11-01T12:57:12.811Z"
   },
   {
    "duration": 6,
    "start_time": "2023-11-01T12:57:13.334Z"
   },
   {
    "duration": 10,
    "start_time": "2023-11-01T12:57:13.341Z"
   },
   {
    "duration": 34,
    "start_time": "2023-11-01T12:57:13.353Z"
   },
   {
    "duration": 11,
    "start_time": "2023-11-01T12:57:13.388Z"
   },
   {
    "duration": 6,
    "start_time": "2023-11-01T12:57:13.400Z"
   },
   {
    "duration": 4,
    "start_time": "2023-11-01T13:16:06.322Z"
   },
   {
    "duration": 10,
    "start_time": "2023-11-01T13:17:00.452Z"
   },
   {
    "duration": 9,
    "start_time": "2023-11-01T13:33:58.279Z"
   },
   {
    "duration": 54,
    "start_time": "2023-11-02T06:23:08.987Z"
   },
   {
    "duration": 1419,
    "start_time": "2023-11-02T06:23:21.132Z"
   },
   {
    "duration": 235,
    "start_time": "2023-11-02T06:23:22.553Z"
   },
   {
    "duration": 15,
    "start_time": "2023-11-02T06:23:22.790Z"
   },
   {
    "duration": 9,
    "start_time": "2023-11-02T06:23:22.808Z"
   },
   {
    "duration": 23,
    "start_time": "2023-11-02T06:23:22.819Z"
   },
   {
    "duration": 61,
    "start_time": "2023-11-02T06:23:22.844Z"
   },
   {
    "duration": 17,
    "start_time": "2023-11-02T06:23:22.907Z"
   },
   {
    "duration": 34,
    "start_time": "2023-11-02T06:23:22.926Z"
   },
   {
    "duration": 14,
    "start_time": "2023-11-02T06:23:22.964Z"
   },
   {
    "duration": 26,
    "start_time": "2023-11-02T06:23:22.982Z"
   },
   {
    "duration": 45,
    "start_time": "2023-11-02T06:23:23.010Z"
   },
   {
    "duration": 206,
    "start_time": "2023-11-02T06:23:23.057Z"
   },
   {
    "duration": 9,
    "start_time": "2023-11-02T06:23:23.266Z"
   },
   {
    "duration": 1587,
    "start_time": "2023-11-02T06:23:23.277Z"
   },
   {
    "duration": 11,
    "start_time": "2023-11-02T06:23:24.866Z"
   },
   {
    "duration": 17,
    "start_time": "2023-11-02T06:23:24.879Z"
   },
   {
    "duration": 2175,
    "start_time": "2023-11-02T06:23:24.898Z"
   },
   {
    "duration": 389,
    "start_time": "2023-11-02T06:23:27.075Z"
   },
   {
    "duration": 418,
    "start_time": "2023-11-02T06:23:27.466Z"
   },
   {
    "duration": 364,
    "start_time": "2023-11-02T06:23:27.887Z"
   },
   {
    "duration": 381,
    "start_time": "2023-11-02T06:23:28.253Z"
   },
   {
    "duration": 368,
    "start_time": "2023-11-02T06:23:28.636Z"
   },
   {
    "duration": 392,
    "start_time": "2023-11-02T06:23:29.006Z"
   },
   {
    "duration": 278,
    "start_time": "2023-11-02T06:23:29.400Z"
   },
   {
    "duration": 771,
    "start_time": "2023-11-02T06:23:29.680Z"
   },
   {
    "duration": 725,
    "start_time": "2023-11-02T06:23:30.458Z"
   },
   {
    "duration": 627,
    "start_time": "2023-11-02T06:23:31.186Z"
   },
   {
    "duration": 8,
    "start_time": "2023-11-02T06:23:31.816Z"
   },
   {
    "duration": 44,
    "start_time": "2023-11-02T06:23:31.826Z"
   },
   {
    "duration": 37,
    "start_time": "2023-11-02T06:23:31.873Z"
   },
   {
    "duration": 43,
    "start_time": "2023-11-02T06:23:31.912Z"
   },
   {
    "duration": 13,
    "start_time": "2023-11-02T06:23:31.957Z"
   },
   {
    "duration": 369,
    "start_time": "2023-11-02T06:24:28.154Z"
   },
   {
    "duration": 476,
    "start_time": "2023-11-02T06:25:02.270Z"
   },
   {
    "duration": 419,
    "start_time": "2023-11-02T06:25:28.867Z"
   },
   {
    "duration": 364,
    "start_time": "2023-11-02T06:26:47.345Z"
   },
   {
    "duration": 462,
    "start_time": "2023-11-02T06:26:55.645Z"
   },
   {
    "duration": 460,
    "start_time": "2023-11-02T06:27:34.053Z"
   },
   {
    "duration": 448,
    "start_time": "2023-11-02T06:28:42.582Z"
   },
   {
    "duration": 401,
    "start_time": "2023-11-02T06:28:54.286Z"
   },
   {
    "duration": 443,
    "start_time": "2023-11-02T06:29:42.353Z"
   },
   {
    "duration": 601,
    "start_time": "2023-11-02T06:30:44.006Z"
   },
   {
    "duration": 2217,
    "start_time": "2023-11-02T06:30:51.986Z"
   },
   {
    "duration": 218,
    "start_time": "2023-11-02T06:30:54.206Z"
   },
   {
    "duration": 21,
    "start_time": "2023-11-02T06:30:54.427Z"
   },
   {
    "duration": 4,
    "start_time": "2023-11-02T06:30:54.450Z"
   },
   {
    "duration": 33,
    "start_time": "2023-11-02T06:30:54.457Z"
   },
   {
    "duration": 139,
    "start_time": "2023-11-02T06:30:54.493Z"
   },
   {
    "duration": 26,
    "start_time": "2023-11-02T06:30:54.635Z"
   },
   {
    "duration": 10,
    "start_time": "2023-11-02T06:30:54.666Z"
   },
   {
    "duration": 22,
    "start_time": "2023-11-02T06:30:54.678Z"
   },
   {
    "duration": 8,
    "start_time": "2023-11-02T06:30:54.703Z"
   },
   {
    "duration": 6,
    "start_time": "2023-11-02T06:30:54.713Z"
   },
   {
    "duration": 209,
    "start_time": "2023-11-02T06:30:54.721Z"
   },
   {
    "duration": 21,
    "start_time": "2023-11-02T06:30:54.931Z"
   },
   {
    "duration": 1851,
    "start_time": "2023-11-02T06:30:54.964Z"
   },
   {
    "duration": 14,
    "start_time": "2023-11-02T06:30:56.817Z"
   },
   {
    "duration": 24,
    "start_time": "2023-11-02T06:30:56.833Z"
   },
   {
    "duration": 2474,
    "start_time": "2023-11-02T06:30:56.867Z"
   },
   {
    "duration": 486,
    "start_time": "2023-11-02T06:30:59.343Z"
   },
   {
    "duration": 457,
    "start_time": "2023-11-02T06:30:59.831Z"
   },
   {
    "duration": 481,
    "start_time": "2023-11-02T06:31:00.290Z"
   },
   {
    "duration": 523,
    "start_time": "2023-11-02T06:31:00.773Z"
   },
   {
    "duration": 592,
    "start_time": "2023-11-02T06:31:01.303Z"
   },
   {
    "duration": 529,
    "start_time": "2023-11-02T06:31:01.897Z"
   },
   {
    "duration": 282,
    "start_time": "2023-11-02T06:31:02.428Z"
   },
   {
    "duration": 1089,
    "start_time": "2023-11-02T06:31:02.712Z"
   },
   {
    "duration": 1132,
    "start_time": "2023-11-02T06:31:03.804Z"
   },
   {
    "duration": 722,
    "start_time": "2023-11-02T06:31:04.946Z"
   },
   {
    "duration": 8,
    "start_time": "2023-11-02T06:31:05.672Z"
   },
   {
    "duration": 46,
    "start_time": "2023-11-02T06:31:05.682Z"
   },
   {
    "duration": 60,
    "start_time": "2023-11-02T06:31:05.731Z"
   },
   {
    "duration": 14,
    "start_time": "2023-11-02T06:31:05.794Z"
   },
   {
    "duration": 54,
    "start_time": "2023-11-02T06:31:05.810Z"
   },
   {
    "duration": 1240,
    "start_time": "2023-11-02T06:32:22.961Z"
   },
   {
    "duration": 2476,
    "start_time": "2023-11-02T06:32:41.213Z"
   },
   {
    "duration": 89,
    "start_time": "2023-11-02T06:32:43.691Z"
   },
   {
    "duration": 23,
    "start_time": "2023-11-02T06:32:43.782Z"
   },
   {
    "duration": 5,
    "start_time": "2023-11-02T06:32:43.808Z"
   },
   {
    "duration": 67,
    "start_time": "2023-11-02T06:32:43.815Z"
   },
   {
    "duration": 135,
    "start_time": "2023-11-02T06:32:43.884Z"
   },
   {
    "duration": 35,
    "start_time": "2023-11-02T06:32:44.021Z"
   },
   {
    "duration": 38,
    "start_time": "2023-11-02T06:32:44.058Z"
   },
   {
    "duration": 72,
    "start_time": "2023-11-02T06:32:44.100Z"
   },
   {
    "duration": 13,
    "start_time": "2023-11-02T06:32:44.178Z"
   },
   {
    "duration": 24,
    "start_time": "2023-11-02T06:32:44.193Z"
   },
   {
    "duration": 280,
    "start_time": "2023-11-02T06:32:44.222Z"
   },
   {
    "duration": 14,
    "start_time": "2023-11-02T06:32:44.505Z"
   },
   {
    "duration": 1667,
    "start_time": "2023-11-02T06:32:44.522Z"
   },
   {
    "duration": 12,
    "start_time": "2023-11-02T06:32:46.191Z"
   },
   {
    "duration": 17,
    "start_time": "2023-11-02T06:32:46.205Z"
   },
   {
    "duration": 2368,
    "start_time": "2023-11-02T06:32:46.225Z"
   },
   {
    "duration": 456,
    "start_time": "2023-11-02T06:32:48.596Z"
   },
   {
    "duration": 470,
    "start_time": "2023-11-02T06:32:49.054Z"
   },
   {
    "duration": 918,
    "start_time": "2023-11-02T06:32:49.526Z"
   },
   {
    "duration": 933,
    "start_time": "2023-11-02T06:32:50.446Z"
   },
   {
    "duration": 1107,
    "start_time": "2023-11-02T06:32:51.381Z"
   },
   {
    "duration": 699,
    "start_time": "2023-11-02T06:32:52.490Z"
   },
   {
    "duration": 1016,
    "start_time": "2023-11-02T06:32:53.191Z"
   },
   {
    "duration": 941,
    "start_time": "2023-11-02T06:32:54.210Z"
   },
   {
    "duration": 715,
    "start_time": "2023-11-02T06:32:55.153Z"
   },
   {
    "duration": 8,
    "start_time": "2023-11-02T06:32:55.870Z"
   },
   {
    "duration": 22,
    "start_time": "2023-11-02T06:32:55.882Z"
   },
   {
    "duration": 17,
    "start_time": "2023-11-02T06:32:55.906Z"
   },
   {
    "duration": 10,
    "start_time": "2023-11-02T06:32:55.925Z"
   },
   {
    "duration": 22,
    "start_time": "2023-11-02T06:32:55.937Z"
   },
   {
    "duration": 1646,
    "start_time": "2023-11-02T06:33:20.445Z"
   },
   {
    "duration": 2005,
    "start_time": "2023-11-02T06:33:58.818Z"
   },
   {
    "duration": 1258,
    "start_time": "2023-11-02T06:34:12.161Z"
   },
   {
    "duration": 95,
    "start_time": "2023-11-02T06:34:13.421Z"
   },
   {
    "duration": 15,
    "start_time": "2023-11-02T06:34:13.518Z"
   },
   {
    "duration": 3,
    "start_time": "2023-11-02T06:34:13.535Z"
   },
   {
    "duration": 28,
    "start_time": "2023-11-02T06:34:13.545Z"
   },
   {
    "duration": 61,
    "start_time": "2023-11-02T06:34:13.574Z"
   },
   {
    "duration": 28,
    "start_time": "2023-11-02T06:34:13.637Z"
   },
   {
    "duration": 12,
    "start_time": "2023-11-02T06:34:13.667Z"
   },
   {
    "duration": 6,
    "start_time": "2023-11-02T06:34:13.681Z"
   },
   {
    "duration": 7,
    "start_time": "2023-11-02T06:34:13.689Z"
   },
   {
    "duration": 6,
    "start_time": "2023-11-02T06:34:13.697Z"
   },
   {
    "duration": 194,
    "start_time": "2023-11-02T06:34:13.704Z"
   },
   {
    "duration": 9,
    "start_time": "2023-11-02T06:34:13.900Z"
   },
   {
    "duration": 1583,
    "start_time": "2023-11-02T06:34:13.912Z"
   },
   {
    "duration": 12,
    "start_time": "2023-11-02T06:34:15.497Z"
   },
   {
    "duration": 6,
    "start_time": "2023-11-02T06:34:15.511Z"
   },
   {
    "duration": 2270,
    "start_time": "2023-11-02T06:34:15.520Z"
   },
   {
    "duration": 439,
    "start_time": "2023-11-02T06:34:17.791Z"
   },
   {
    "duration": 395,
    "start_time": "2023-11-02T06:34:18.232Z"
   },
   {
    "duration": 1689,
    "start_time": "2023-11-02T06:34:18.629Z"
   },
   {
    "duration": 259,
    "start_time": "2023-11-02T06:34:20.320Z"
   },
   {
    "duration": 849,
    "start_time": "2023-11-02T06:34:20.581Z"
   },
   {
    "duration": 838,
    "start_time": "2023-11-02T06:34:21.432Z"
   },
   {
    "duration": 664,
    "start_time": "2023-11-02T06:34:22.273Z"
   },
   {
    "duration": 10,
    "start_time": "2023-11-02T06:34:22.944Z"
   },
   {
    "duration": 14,
    "start_time": "2023-11-02T06:34:22.958Z"
   },
   {
    "duration": 24,
    "start_time": "2023-11-02T06:34:22.974Z"
   },
   {
    "duration": 16,
    "start_time": "2023-11-02T06:34:23.000Z"
   },
   {
    "duration": 11,
    "start_time": "2023-11-02T06:34:23.018Z"
   },
   {
    "duration": 123,
    "start_time": "2023-11-02T06:51:00.471Z"
   },
   {
    "duration": 8,
    "start_time": "2023-11-02T07:14:04.772Z"
   },
   {
    "duration": 8,
    "start_time": "2023-11-02T07:14:11.689Z"
   },
   {
    "duration": 4,
    "start_time": "2023-11-02T07:16:30.772Z"
   },
   {
    "duration": 1282,
    "start_time": "2023-11-02T09:43:36.817Z"
   },
   {
    "duration": 215,
    "start_time": "2023-11-02T09:43:38.101Z"
   },
   {
    "duration": 13,
    "start_time": "2023-11-02T09:43:38.318Z"
   },
   {
    "duration": 16,
    "start_time": "2023-11-02T09:43:38.333Z"
   },
   {
    "duration": 16,
    "start_time": "2023-11-02T09:43:38.350Z"
   },
   {
    "duration": 55,
    "start_time": "2023-11-02T09:43:38.368Z"
   },
   {
    "duration": 15,
    "start_time": "2023-11-02T09:43:38.424Z"
   },
   {
    "duration": 6,
    "start_time": "2023-11-02T09:43:38.441Z"
   },
   {
    "duration": 11,
    "start_time": "2023-11-02T09:43:38.449Z"
   },
   {
    "duration": 55,
    "start_time": "2023-11-02T09:43:38.461Z"
   },
   {
    "duration": 22,
    "start_time": "2023-11-02T09:43:38.517Z"
   },
   {
    "duration": 150,
    "start_time": "2023-11-02T09:43:38.540Z"
   },
   {
    "duration": 9,
    "start_time": "2023-11-02T09:43:38.691Z"
   },
   {
    "duration": 1292,
    "start_time": "2023-11-02T09:43:38.703Z"
   },
   {
    "duration": 9,
    "start_time": "2023-11-02T09:43:39.997Z"
   },
   {
    "duration": 9,
    "start_time": "2023-11-02T09:43:40.007Z"
   },
   {
    "duration": 1717,
    "start_time": "2023-11-02T09:43:40.018Z"
   },
   {
    "duration": 328,
    "start_time": "2023-11-02T09:43:41.736Z"
   },
   {
    "duration": 334,
    "start_time": "2023-11-02T09:43:42.066Z"
   },
   {
    "duration": 1326,
    "start_time": "2023-11-02T09:43:42.402Z"
   },
   {
    "duration": 213,
    "start_time": "2023-11-02T09:43:43.730Z"
   },
   {
    "duration": 764,
    "start_time": "2023-11-02T09:43:43.944Z"
   },
   {
    "duration": 634,
    "start_time": "2023-11-02T09:43:44.710Z"
   },
   {
    "duration": 498,
    "start_time": "2023-11-02T09:43:45.346Z"
   },
   {
    "duration": 5,
    "start_time": "2023-11-02T09:43:45.846Z"
   },
   {
    "duration": 15,
    "start_time": "2023-11-02T09:43:45.853Z"
   },
   {
    "duration": 22,
    "start_time": "2023-11-02T09:43:45.870Z"
   },
   {
    "duration": 14,
    "start_time": "2023-11-02T09:43:45.894Z"
   },
   {
    "duration": 26,
    "start_time": "2023-11-02T09:43:45.909Z"
   },
   {
    "duration": 73,
    "start_time": "2023-11-02T09:58:06.153Z"
   },
   {
    "duration": 32,
    "start_time": "2023-11-02T10:04:14.957Z"
   },
   {
    "duration": 9,
    "start_time": "2023-11-02T10:14:20.575Z"
   },
   {
    "duration": 45,
    "start_time": "2023-11-02T11:35:27.881Z"
   },
   {
    "duration": 1271,
    "start_time": "2023-11-02T11:35:37.109Z"
   },
   {
    "duration": 108,
    "start_time": "2023-11-02T11:35:38.382Z"
   },
   {
    "duration": 13,
    "start_time": "2023-11-02T11:35:38.492Z"
   },
   {
    "duration": 73,
    "start_time": "2023-11-02T11:35:38.507Z"
   },
   {
    "duration": 36,
    "start_time": "2023-11-02T11:35:38.582Z"
   },
   {
    "duration": 69,
    "start_time": "2023-11-02T11:35:38.620Z"
   },
   {
    "duration": 17,
    "start_time": "2023-11-02T11:35:38.690Z"
   },
   {
    "duration": 70,
    "start_time": "2023-11-02T11:35:38.708Z"
   },
   {
    "duration": 92,
    "start_time": "2023-11-02T11:35:38.780Z"
   },
   {
    "duration": 135,
    "start_time": "2023-11-02T11:35:38.875Z"
   },
   {
    "duration": 108,
    "start_time": "2023-11-02T11:35:39.011Z"
   },
   {
    "duration": 5,
    "start_time": "2023-11-02T11:35:39.120Z"
   },
   {
    "duration": 70,
    "start_time": "2023-11-02T11:35:39.126Z"
   },
   {
    "duration": 148,
    "start_time": "2023-11-02T11:35:39.197Z"
   },
   {
    "duration": 7,
    "start_time": "2023-11-02T11:35:39.347Z"
   },
   {
    "duration": 1184,
    "start_time": "2023-11-02T11:35:39.355Z"
   },
   {
    "duration": 24,
    "start_time": "2023-11-02T11:35:40.541Z"
   },
   {
    "duration": 8,
    "start_time": "2023-11-02T11:35:40.566Z"
   },
   {
    "duration": 3,
    "start_time": "2023-11-02T11:35:40.575Z"
   },
   {
    "duration": 2613,
    "start_time": "2023-11-02T11:35:40.580Z"
   },
   {
    "duration": 305,
    "start_time": "2023-11-02T11:35:43.195Z"
   },
   {
    "duration": 346,
    "start_time": "2023-11-02T11:35:43.502Z"
   },
   {
    "duration": 1281,
    "start_time": "2023-11-02T11:35:43.849Z"
   },
   {
    "duration": 213,
    "start_time": "2023-11-02T11:35:45.132Z"
   },
   {
    "duration": 644,
    "start_time": "2023-11-02T11:35:45.346Z"
   },
   {
    "duration": 618,
    "start_time": "2023-11-02T11:35:45.992Z"
   },
   {
    "duration": 483,
    "start_time": "2023-11-02T11:35:46.612Z"
   },
   {
    "duration": 8,
    "start_time": "2023-11-02T11:35:47.098Z"
   },
   {
    "duration": 12,
    "start_time": "2023-11-02T11:35:47.108Z"
   },
   {
    "duration": 21,
    "start_time": "2023-11-02T11:35:47.122Z"
   },
   {
    "duration": 4,
    "start_time": "2023-11-02T11:35:47.144Z"
   },
   {
    "duration": 15,
    "start_time": "2023-11-02T11:35:47.149Z"
   },
   {
    "duration": 5,
    "start_time": "2023-11-02T11:35:47.166Z"
   },
   {
    "duration": 92,
    "start_time": "2023-11-02T11:36:13.476Z"
   },
   {
    "duration": 5,
    "start_time": "2023-11-02T11:36:23.220Z"
   },
   {
    "duration": 1519,
    "start_time": "2023-11-02T11:36:55.714Z"
   },
   {
    "duration": 1016,
    "start_time": "2023-11-02T11:37:12.353Z"
   },
   {
    "duration": 1155,
    "start_time": "2023-11-02T11:37:39.375Z"
   },
   {
    "duration": 914,
    "start_time": "2023-11-02T11:37:52.919Z"
   },
   {
    "duration": 1228,
    "start_time": "2023-11-02T11:39:35.520Z"
   },
   {
    "duration": 11,
    "start_time": "2023-11-02T11:43:01.971Z"
   },
   {
    "duration": 10,
    "start_time": "2023-11-02T11:43:17.433Z"
   },
   {
    "duration": 9,
    "start_time": "2023-11-02T11:44:25.436Z"
   },
   {
    "duration": 4,
    "start_time": "2023-11-02T11:44:53.306Z"
   },
   {
    "duration": 3,
    "start_time": "2023-11-02T11:45:03.698Z"
   },
   {
    "duration": 1030,
    "start_time": "2023-11-02T11:47:23.640Z"
   },
   {
    "duration": 65,
    "start_time": "2023-11-02T11:47:24.672Z"
   },
   {
    "duration": 12,
    "start_time": "2023-11-02T11:47:24.739Z"
   },
   {
    "duration": 2,
    "start_time": "2023-11-02T11:47:24.754Z"
   },
   {
    "duration": 29,
    "start_time": "2023-11-02T11:47:24.757Z"
   },
   {
    "duration": 72,
    "start_time": "2023-11-02T11:47:24.787Z"
   },
   {
    "duration": 15,
    "start_time": "2023-11-02T11:47:24.861Z"
   },
   {
    "duration": 4,
    "start_time": "2023-11-02T11:47:24.878Z"
   },
   {
    "duration": 17,
    "start_time": "2023-11-02T11:47:24.883Z"
   },
   {
    "duration": 32,
    "start_time": "2023-11-02T11:47:24.903Z"
   },
   {
    "duration": 3,
    "start_time": "2023-11-02T11:47:24.937Z"
   },
   {
    "duration": 8,
    "start_time": "2023-11-02T11:47:24.941Z"
   },
   {
    "duration": 6,
    "start_time": "2023-11-02T11:47:24.950Z"
   },
   {
    "duration": 11,
    "start_time": "2023-11-02T11:47:24.957Z"
   },
   {
    "duration": 21,
    "start_time": "2023-11-02T11:47:24.969Z"
   },
   {
    "duration": 88,
    "start_time": "2023-11-02T11:47:24.992Z"
   },
   {
    "duration": 158,
    "start_time": "2023-11-02T11:47:25.081Z"
   },
   {
    "duration": 8,
    "start_time": "2023-11-02T11:47:25.241Z"
   },
   {
    "duration": 1198,
    "start_time": "2023-11-02T11:47:25.251Z"
   },
   {
    "duration": 23,
    "start_time": "2023-11-02T11:47:26.450Z"
   },
   {
    "duration": 22,
    "start_time": "2023-11-02T11:47:26.474Z"
   },
   {
    "duration": 19,
    "start_time": "2023-11-02T11:47:26.498Z"
   },
   {
    "duration": 2502,
    "start_time": "2023-11-02T11:47:26.519Z"
   },
   {
    "duration": 308,
    "start_time": "2023-11-02T11:47:29.023Z"
   },
   {
    "duration": 331,
    "start_time": "2023-11-02T11:47:29.339Z"
   },
   {
    "duration": 1293,
    "start_time": "2023-11-02T11:47:29.672Z"
   },
   {
    "duration": 228,
    "start_time": "2023-11-02T11:47:30.966Z"
   },
   {
    "duration": 645,
    "start_time": "2023-11-02T11:47:31.197Z"
   },
   {
    "duration": 613,
    "start_time": "2023-11-02T11:47:31.843Z"
   },
   {
    "duration": 538,
    "start_time": "2023-11-02T11:47:32.458Z"
   },
   {
    "duration": 9,
    "start_time": "2023-11-02T11:47:32.997Z"
   },
   {
    "duration": 16,
    "start_time": "2023-11-02T11:47:33.007Z"
   },
   {
    "duration": 16,
    "start_time": "2023-11-02T11:47:33.024Z"
   },
   {
    "duration": 22,
    "start_time": "2023-11-02T11:47:33.042Z"
   },
   {
    "duration": 24,
    "start_time": "2023-11-02T11:47:33.066Z"
   },
   {
    "duration": 5,
    "start_time": "2023-11-02T11:47:33.091Z"
   },
   {
    "duration": 3,
    "start_time": "2023-11-02T11:47:41.266Z"
   },
   {
    "duration": 10,
    "start_time": "2023-11-02T11:52:41.860Z"
   },
   {
    "duration": 107,
    "start_time": "2023-11-02T11:53:03.562Z"
   },
   {
    "duration": 10,
    "start_time": "2023-11-02T11:53:07.385Z"
   },
   {
    "duration": 28,
    "start_time": "2023-11-02T11:53:53.447Z"
   },
   {
    "duration": 5,
    "start_time": "2023-11-02T11:54:55.565Z"
   },
   {
    "duration": 3,
    "start_time": "2023-11-02T11:55:07.490Z"
   },
   {
    "duration": 10,
    "start_time": "2023-11-02T11:55:28.769Z"
   },
   {
    "duration": 4,
    "start_time": "2023-11-02T11:55:50.769Z"
   },
   {
    "duration": 3,
    "start_time": "2023-11-02T11:55:59.956Z"
   },
   {
    "duration": 4,
    "start_time": "2023-11-02T11:56:08.814Z"
   },
   {
    "duration": 6,
    "start_time": "2023-11-02T11:56:19.621Z"
   },
   {
    "duration": 9,
    "start_time": "2023-11-02T11:56:27.429Z"
   },
   {
    "duration": 5,
    "start_time": "2023-11-02T11:57:04.371Z"
   },
   {
    "duration": 17,
    "start_time": "2023-11-02T11:57:13.834Z"
   },
   {
    "duration": 5,
    "start_time": "2023-11-02T11:57:19.760Z"
   },
   {
    "duration": 12,
    "start_time": "2023-11-02T11:57:54.302Z"
   },
   {
    "duration": 17,
    "start_time": "2023-11-02T11:58:25.684Z"
   },
   {
    "duration": 1017,
    "start_time": "2023-11-02T11:59:44.814Z"
   },
   {
    "duration": 71,
    "start_time": "2023-11-02T11:59:45.833Z"
   },
   {
    "duration": 13,
    "start_time": "2023-11-02T11:59:45.905Z"
   },
   {
    "duration": 4,
    "start_time": "2023-11-02T11:59:45.920Z"
   },
   {
    "duration": 10,
    "start_time": "2023-11-02T11:59:45.925Z"
   },
   {
    "duration": 65,
    "start_time": "2023-11-02T11:59:45.936Z"
   },
   {
    "duration": 18,
    "start_time": "2023-11-02T11:59:46.003Z"
   },
   {
    "duration": 2,
    "start_time": "2023-11-02T11:59:46.023Z"
   },
   {
    "duration": 10,
    "start_time": "2023-11-02T11:59:46.027Z"
   },
   {
    "duration": 18,
    "start_time": "2023-11-02T11:59:46.040Z"
   },
   {
    "duration": 13,
    "start_time": "2023-11-02T11:59:46.060Z"
   },
   {
    "duration": 18,
    "start_time": "2023-11-02T11:59:46.075Z"
   },
   {
    "duration": 8,
    "start_time": "2023-11-02T11:59:46.095Z"
   },
   {
    "duration": 5,
    "start_time": "2023-11-02T11:59:46.105Z"
   },
   {
    "duration": 16,
    "start_time": "2023-11-02T11:59:46.111Z"
   },
   {
    "duration": 29,
    "start_time": "2023-11-02T11:59:46.128Z"
   },
   {
    "duration": 80,
    "start_time": "2023-11-02T11:59:46.158Z"
   },
   {
    "duration": 161,
    "start_time": "2023-11-02T11:59:46.240Z"
   },
   {
    "duration": 7,
    "start_time": "2023-11-02T11:59:46.403Z"
   },
   {
    "duration": 1942,
    "start_time": "2023-11-02T11:59:46.412Z"
   },
   {
    "duration": 24,
    "start_time": "2023-11-02T11:59:48.356Z"
   },
   {
    "duration": 77,
    "start_time": "2023-11-02T11:59:48.381Z"
   },
   {
    "duration": 5,
    "start_time": "2023-11-02T11:59:48.459Z"
   },
   {
    "duration": 2938,
    "start_time": "2023-11-02T11:59:48.465Z"
   },
   {
    "duration": 329,
    "start_time": "2023-11-02T11:59:51.405Z"
   },
   {
    "duration": 337,
    "start_time": "2023-11-02T11:59:51.736Z"
   },
   {
    "duration": 1401,
    "start_time": "2023-11-02T11:59:52.074Z"
   },
   {
    "duration": 213,
    "start_time": "2023-11-02T11:59:53.477Z"
   },
   {
    "duration": 626,
    "start_time": "2023-11-02T11:59:53.692Z"
   },
   {
    "duration": 599,
    "start_time": "2023-11-02T11:59:54.320Z"
   },
   {
    "duration": 492,
    "start_time": "2023-11-02T11:59:54.920Z"
   },
   {
    "duration": 7,
    "start_time": "2023-11-02T11:59:55.414Z"
   },
   {
    "duration": 30,
    "start_time": "2023-11-02T11:59:55.422Z"
   },
   {
    "duration": 10,
    "start_time": "2023-11-02T11:59:55.454Z"
   },
   {
    "duration": 4,
    "start_time": "2023-11-02T11:59:55.465Z"
   },
   {
    "duration": 7,
    "start_time": "2023-11-02T11:59:55.471Z"
   },
   {
    "duration": 12,
    "start_time": "2023-11-02T11:59:55.479Z"
   },
   {
    "duration": 99,
    "start_time": "2023-11-02T12:00:07.125Z"
   },
   {
    "duration": 9,
    "start_time": "2023-11-02T12:03:05.809Z"
   },
   {
    "duration": 25,
    "start_time": "2023-11-02T12:03:07.577Z"
   },
   {
    "duration": 10,
    "start_time": "2023-11-02T12:04:03.453Z"
   },
   {
    "duration": 21,
    "start_time": "2023-11-02T12:07:08.937Z"
   },
   {
    "duration": 1000,
    "start_time": "2023-11-02T12:12:07.406Z"
   },
   {
    "duration": 70,
    "start_time": "2023-11-02T12:12:08.408Z"
   },
   {
    "duration": 13,
    "start_time": "2023-11-02T12:12:08.479Z"
   },
   {
    "duration": 2,
    "start_time": "2023-11-02T12:12:08.494Z"
   },
   {
    "duration": 12,
    "start_time": "2023-11-02T12:12:08.498Z"
   },
   {
    "duration": 70,
    "start_time": "2023-11-02T12:12:08.511Z"
   },
   {
    "duration": 15,
    "start_time": "2023-11-02T12:12:08.582Z"
   },
   {
    "duration": 19,
    "start_time": "2023-11-02T12:12:08.598Z"
   },
   {
    "duration": 44,
    "start_time": "2023-11-02T12:12:08.618Z"
   },
   {
    "duration": 6,
    "start_time": "2023-11-02T12:12:08.666Z"
   },
   {
    "duration": 9,
    "start_time": "2023-11-02T12:12:08.673Z"
   },
   {
    "duration": 7,
    "start_time": "2023-11-02T12:12:08.684Z"
   },
   {
    "duration": 6,
    "start_time": "2023-11-02T12:12:08.693Z"
   },
   {
    "duration": 86,
    "start_time": "2023-11-02T12:12:08.701Z"
   },
   {
    "duration": 145,
    "start_time": "2023-11-02T12:12:08.789Z"
   },
   {
    "duration": 23,
    "start_time": "2023-11-02T12:12:08.935Z"
   },
   {
    "duration": 1170,
    "start_time": "2023-11-02T12:12:08.960Z"
   },
   {
    "duration": 33,
    "start_time": "2023-11-02T12:12:10.132Z"
   },
   {
    "duration": 7,
    "start_time": "2023-11-02T12:12:10.166Z"
   },
   {
    "duration": 16,
    "start_time": "2023-11-02T12:12:10.175Z"
   },
   {
    "duration": 1712,
    "start_time": "2023-11-02T12:12:10.192Z"
   },
   {
    "duration": 309,
    "start_time": "2023-11-02T12:12:11.905Z"
   },
   {
    "duration": 393,
    "start_time": "2023-11-02T12:12:12.215Z"
   },
   {
    "duration": 1345,
    "start_time": "2023-11-02T12:12:12.610Z"
   },
   {
    "duration": 208,
    "start_time": "2023-11-02T12:12:13.956Z"
   },
   {
    "duration": 1201,
    "start_time": "2023-11-02T12:12:14.165Z"
   },
   {
    "duration": 1039,
    "start_time": "2023-11-02T12:12:15.367Z"
   },
   {
    "duration": 511,
    "start_time": "2023-11-02T12:12:16.408Z"
   },
   {
    "duration": 9,
    "start_time": "2023-11-02T12:12:16.920Z"
   },
   {
    "duration": 15,
    "start_time": "2023-11-02T12:12:16.941Z"
   },
   {
    "duration": 27,
    "start_time": "2023-11-02T12:12:16.958Z"
   },
   {
    "duration": 5,
    "start_time": "2023-11-02T12:12:16.986Z"
   },
   {
    "duration": 26,
    "start_time": "2023-11-02T12:12:16.993Z"
   },
   {
    "duration": 32,
    "start_time": "2023-11-02T12:12:17.020Z"
   },
   {
    "duration": 3,
    "start_time": "2023-11-02T12:14:04.786Z"
   },
   {
    "duration": 9,
    "start_time": "2023-11-02T12:14:23.402Z"
   },
   {
    "duration": 18,
    "start_time": "2023-11-02T12:14:31.089Z"
   },
   {
    "duration": 14,
    "start_time": "2023-11-02T12:14:34.720Z"
   },
   {
    "duration": 6,
    "start_time": "2023-11-02T12:27:58.461Z"
   },
   {
    "duration": 247,
    "start_time": "2023-11-02T12:49:39.385Z"
   },
   {
    "duration": 329,
    "start_time": "2023-11-02T12:49:48.222Z"
   },
   {
    "duration": 255,
    "start_time": "2023-11-02T12:50:21.940Z"
   },
   {
    "duration": 265,
    "start_time": "2023-11-02T12:50:27.789Z"
   },
   {
    "duration": 299,
    "start_time": "2023-11-02T12:50:32.316Z"
   },
   {
    "duration": 260,
    "start_time": "2023-11-02T12:50:34.907Z"
   },
   {
    "duration": 335,
    "start_time": "2023-11-02T12:50:41.027Z"
   },
   {
    "duration": 266,
    "start_time": "2023-11-02T12:50:47.834Z"
   },
   {
    "duration": 293,
    "start_time": "2023-11-02T12:51:15.489Z"
   },
   {
    "duration": 275,
    "start_time": "2023-11-02T12:51:18.496Z"
   },
   {
    "duration": 1014,
    "start_time": "2023-11-02T12:53:12.450Z"
   },
   {
    "duration": 63,
    "start_time": "2023-11-02T12:53:13.466Z"
   },
   {
    "duration": 20,
    "start_time": "2023-11-02T12:53:13.531Z"
   },
   {
    "duration": 3,
    "start_time": "2023-11-02T12:53:13.553Z"
   },
   {
    "duration": 25,
    "start_time": "2023-11-02T12:53:13.558Z"
   },
   {
    "duration": 67,
    "start_time": "2023-11-02T12:53:13.584Z"
   },
   {
    "duration": 15,
    "start_time": "2023-11-02T12:53:13.652Z"
   },
   {
    "duration": 12,
    "start_time": "2023-11-02T12:53:13.669Z"
   },
   {
    "duration": 31,
    "start_time": "2023-11-02T12:53:13.682Z"
   },
   {
    "duration": 8,
    "start_time": "2023-11-02T12:53:13.715Z"
   },
   {
    "duration": 13,
    "start_time": "2023-11-02T12:53:13.724Z"
   },
   {
    "duration": 18,
    "start_time": "2023-11-02T12:53:13.738Z"
   },
   {
    "duration": 8,
    "start_time": "2023-11-02T12:53:13.758Z"
   },
   {
    "duration": 86,
    "start_time": "2023-11-02T12:53:13.767Z"
   },
   {
    "duration": 136,
    "start_time": "2023-11-02T12:53:13.854Z"
   },
   {
    "duration": 1239,
    "start_time": "2023-11-02T12:53:40.132Z"
   },
   {
    "duration": 65,
    "start_time": "2023-11-02T12:53:41.373Z"
   },
   {
    "duration": 16,
    "start_time": "2023-11-02T12:53:41.439Z"
   },
   {
    "duration": 4,
    "start_time": "2023-11-02T12:53:41.457Z"
   },
   {
    "duration": 16,
    "start_time": "2023-11-02T12:53:41.462Z"
   },
   {
    "duration": 71,
    "start_time": "2023-11-02T12:53:41.480Z"
   },
   {
    "duration": 15,
    "start_time": "2023-11-02T12:53:41.553Z"
   },
   {
    "duration": 16,
    "start_time": "2023-11-02T12:53:41.569Z"
   },
   {
    "duration": 32,
    "start_time": "2023-11-02T12:53:41.586Z"
   },
   {
    "duration": 5,
    "start_time": "2023-11-02T12:53:41.621Z"
   },
   {
    "duration": 5,
    "start_time": "2023-11-02T12:53:41.628Z"
   },
   {
    "duration": 17,
    "start_time": "2023-11-02T12:53:41.634Z"
   },
   {
    "duration": 4,
    "start_time": "2023-11-02T12:53:41.653Z"
   },
   {
    "duration": 81,
    "start_time": "2023-11-02T12:53:41.658Z"
   },
   {
    "duration": 141,
    "start_time": "2023-11-02T12:53:41.749Z"
   },
   {
    "duration": 266,
    "start_time": "2023-11-02T12:53:41.892Z"
   },
   {
    "duration": 9,
    "start_time": "2023-11-02T12:53:42.159Z"
   },
   {
    "duration": 1775,
    "start_time": "2023-11-02T12:53:42.170Z"
   },
   {
    "duration": 25,
    "start_time": "2023-11-02T12:53:43.947Z"
   },
   {
    "duration": 8,
    "start_time": "2023-11-02T12:53:43.973Z"
   },
   {
    "duration": 68,
    "start_time": "2023-11-02T12:53:43.982Z"
   },
   {
    "duration": 2051,
    "start_time": "2023-11-02T12:53:44.051Z"
   },
   {
    "duration": 260,
    "start_time": "2023-11-02T12:53:46.103Z"
   },
   {
    "duration": 342,
    "start_time": "2023-11-02T12:53:46.364Z"
   },
   {
    "duration": 1367,
    "start_time": "2023-11-02T12:53:46.708Z"
   },
   {
    "duration": 206,
    "start_time": "2023-11-02T12:53:48.077Z"
   },
   {
    "duration": 557,
    "start_time": "2023-11-02T12:53:48.284Z"
   },
   {
    "duration": 588,
    "start_time": "2023-11-02T12:53:48.851Z"
   },
   {
    "duration": 548,
    "start_time": "2023-11-02T12:53:49.453Z"
   },
   {
    "duration": 7,
    "start_time": "2023-11-02T12:53:50.003Z"
   },
   {
    "duration": 42,
    "start_time": "2023-11-02T12:53:50.011Z"
   },
   {
    "duration": 13,
    "start_time": "2023-11-02T12:53:50.054Z"
   },
   {
    "duration": 4,
    "start_time": "2023-11-02T12:53:50.069Z"
   },
   {
    "duration": 12,
    "start_time": "2023-11-02T12:53:50.074Z"
   },
   {
    "duration": 17,
    "start_time": "2023-11-02T12:53:50.088Z"
   },
   {
    "duration": 265,
    "start_time": "2023-11-02T12:53:50.106Z"
   },
   {
    "duration": 107,
    "start_time": "2023-11-02T12:57:17.747Z"
   },
   {
    "duration": 9,
    "start_time": "2023-11-02T12:57:52.293Z"
   },
   {
    "duration": 335,
    "start_time": "2023-11-02T12:58:00.614Z"
   },
   {
    "duration": 279,
    "start_time": "2023-11-02T12:58:41.252Z"
   },
   {
    "duration": 1207,
    "start_time": "2023-11-02T13:04:40.074Z"
   },
   {
    "duration": 1135,
    "start_time": "2023-11-02T13:08:03.091Z"
   },
   {
    "duration": 189,
    "start_time": "2023-11-02T13:11:04.009Z"
   },
   {
    "duration": 19,
    "start_time": "2023-11-02T13:11:25.235Z"
   },
   {
    "duration": 13,
    "start_time": "2023-11-02T13:11:44.602Z"
   },
   {
    "duration": 21,
    "start_time": "2023-11-02T13:12:08.003Z"
   },
   {
    "duration": 7,
    "start_time": "2023-11-02T13:12:50.609Z"
   },
   {
    "duration": 1333,
    "start_time": "2023-11-02T13:13:42.389Z"
   },
   {
    "duration": 14,
    "start_time": "2023-11-02T13:15:03.936Z"
   },
   {
    "duration": 4,
    "start_time": "2023-11-02T13:26:45.504Z"
   },
   {
    "duration": 1326,
    "start_time": "2023-11-02T13:27:09.360Z"
   },
   {
    "duration": 5,
    "start_time": "2023-11-02T13:28:19.465Z"
   },
   {
    "duration": 1515,
    "start_time": "2023-11-02T13:28:20.282Z"
   },
   {
    "duration": 1788,
    "start_time": "2023-11-02T13:40:02.831Z"
   },
   {
    "duration": 1305,
    "start_time": "2023-11-02T18:20:20.178Z"
   },
   {
    "duration": 121,
    "start_time": "2023-11-02T18:20:21.485Z"
   },
   {
    "duration": 13,
    "start_time": "2023-11-02T18:20:21.607Z"
   },
   {
    "duration": 25,
    "start_time": "2023-11-02T18:20:21.622Z"
   },
   {
    "duration": 17,
    "start_time": "2023-11-02T18:20:21.649Z"
   },
   {
    "duration": 68,
    "start_time": "2023-11-02T18:20:21.668Z"
   },
   {
    "duration": 17,
    "start_time": "2023-11-02T18:20:21.738Z"
   },
   {
    "duration": 4,
    "start_time": "2023-11-02T18:20:21.756Z"
   },
   {
    "duration": 18,
    "start_time": "2023-11-02T18:20:21.761Z"
   },
   {
    "duration": 29,
    "start_time": "2023-11-02T18:20:21.782Z"
   },
   {
    "duration": 18,
    "start_time": "2023-11-02T18:20:21.813Z"
   },
   {
    "duration": 25,
    "start_time": "2023-11-02T18:20:21.833Z"
   },
   {
    "duration": 6,
    "start_time": "2023-11-02T18:20:21.860Z"
   },
   {
    "duration": 81,
    "start_time": "2023-11-02T18:20:21.867Z"
   },
   {
    "duration": 328,
    "start_time": "2023-11-02T18:20:21.951Z"
   },
   {
    "duration": 8,
    "start_time": "2023-11-02T18:20:22.280Z"
   },
   {
    "duration": 326,
    "start_time": "2023-11-02T18:20:22.290Z"
   },
   {
    "duration": 14,
    "start_time": "2023-11-02T18:20:22.618Z"
   },
   {
    "duration": 21,
    "start_time": "2023-11-02T18:20:22.634Z"
   },
   {
    "duration": 1266,
    "start_time": "2023-11-02T18:20:22.657Z"
   },
   {
    "duration": 24,
    "start_time": "2023-11-02T18:20:23.924Z"
   },
   {
    "duration": 7,
    "start_time": "2023-11-02T18:20:23.949Z"
   },
   {
    "duration": 15,
    "start_time": "2023-11-02T18:20:23.958Z"
   },
   {
    "duration": 1714,
    "start_time": "2023-11-02T18:20:23.975Z"
   },
   {
    "duration": 274,
    "start_time": "2023-11-02T18:20:25.690Z"
   },
   {
    "duration": 386,
    "start_time": "2023-11-02T18:20:25.968Z"
   },
   {
    "duration": 1419,
    "start_time": "2023-11-02T18:20:26.355Z"
   },
   {
    "duration": 215,
    "start_time": "2023-11-02T18:20:27.777Z"
   },
   {
    "duration": 930,
    "start_time": "2023-11-02T18:20:27.994Z"
   },
   {
    "duration": 1042,
    "start_time": "2023-11-02T18:20:28.926Z"
   },
   {
    "duration": 597,
    "start_time": "2023-11-02T18:20:29.969Z"
   },
   {
    "duration": 8,
    "start_time": "2023-11-02T18:20:30.567Z"
   },
   {
    "duration": 87,
    "start_time": "2023-11-02T18:20:30.577Z"
   },
   {
    "duration": 83,
    "start_time": "2023-11-02T18:20:30.666Z"
   },
   {
    "duration": 31,
    "start_time": "2023-11-02T18:20:30.751Z"
   },
   {
    "duration": 35,
    "start_time": "2023-11-02T18:20:30.784Z"
   },
   {
    "duration": 32,
    "start_time": "2023-11-02T18:20:30.821Z"
   },
   {
    "duration": 4,
    "start_time": "2023-11-02T18:20:44.505Z"
   },
   {
    "duration": 10,
    "start_time": "2023-11-02T18:21:26.849Z"
   },
   {
    "duration": 15,
    "start_time": "2023-11-02T18:23:12.625Z"
   },
   {
    "duration": 521,
    "start_time": "2023-11-02T18:26:43.017Z"
   },
   {
    "duration": 1070,
    "start_time": "2023-11-02T18:39:48.489Z"
   },
   {
    "duration": 71,
    "start_time": "2023-11-02T18:39:49.561Z"
   },
   {
    "duration": 17,
    "start_time": "2023-11-02T18:39:49.634Z"
   },
   {
    "duration": 48,
    "start_time": "2023-11-02T18:39:49.653Z"
   },
   {
    "duration": 27,
    "start_time": "2023-11-02T18:39:49.703Z"
   },
   {
    "duration": 96,
    "start_time": "2023-11-02T18:39:49.731Z"
   },
   {
    "duration": 16,
    "start_time": "2023-11-02T18:39:49.829Z"
   },
   {
    "duration": 12,
    "start_time": "2023-11-02T18:39:49.846Z"
   },
   {
    "duration": 33,
    "start_time": "2023-11-02T18:39:49.860Z"
   },
   {
    "duration": 13,
    "start_time": "2023-11-02T18:39:49.895Z"
   },
   {
    "duration": 24,
    "start_time": "2023-11-02T18:39:49.909Z"
   },
   {
    "duration": 19,
    "start_time": "2023-11-02T18:39:49.934Z"
   },
   {
    "duration": 5,
    "start_time": "2023-11-02T18:39:49.954Z"
   },
   {
    "duration": 105,
    "start_time": "2023-11-02T18:39:49.960Z"
   },
   {
    "duration": 304,
    "start_time": "2023-11-02T18:39:50.067Z"
   },
   {
    "duration": 7,
    "start_time": "2023-11-02T18:39:50.373Z"
   },
   {
    "duration": 311,
    "start_time": "2023-11-02T18:39:50.382Z"
   },
   {
    "duration": 17,
    "start_time": "2023-11-02T18:39:50.695Z"
   },
   {
    "duration": 17,
    "start_time": "2023-11-02T18:39:50.713Z"
   },
   {
    "duration": 1260,
    "start_time": "2023-11-02T18:39:50.731Z"
   },
   {
    "duration": 35,
    "start_time": "2023-11-02T18:39:51.993Z"
   },
   {
    "duration": 10,
    "start_time": "2023-11-02T18:39:52.030Z"
   },
   {
    "duration": 31,
    "start_time": "2023-11-02T18:39:52.042Z"
   },
   {
    "duration": 1823,
    "start_time": "2023-11-02T18:39:52.075Z"
   },
   {
    "duration": 513,
    "start_time": "2023-11-02T18:39:53.900Z"
   },
   {
    "duration": 339,
    "start_time": "2023-11-02T18:39:54.415Z"
   },
   {
    "duration": 1695,
    "start_time": "2023-11-02T18:39:54.756Z"
   },
   {
    "duration": 409,
    "start_time": "2023-11-02T18:39:56.508Z"
   },
   {
    "duration": 1027,
    "start_time": "2023-11-02T18:39:56.919Z"
   },
   {
    "duration": 610,
    "start_time": "2023-11-02T18:39:57.948Z"
   },
   {
    "duration": 566,
    "start_time": "2023-11-02T18:39:58.560Z"
   },
   {
    "duration": 8,
    "start_time": "2023-11-02T18:39:59.127Z"
   },
   {
    "duration": 15,
    "start_time": "2023-11-02T18:39:59.136Z"
   },
   {
    "duration": 8,
    "start_time": "2023-11-02T18:39:59.153Z"
   },
   {
    "duration": 14,
    "start_time": "2023-11-02T18:39:59.162Z"
   },
   {
    "duration": 7,
    "start_time": "2023-11-02T18:39:59.178Z"
   },
   {
    "duration": 22,
    "start_time": "2023-11-02T18:39:59.187Z"
   },
   {
    "duration": 1183,
    "start_time": "2023-11-02T18:40:46.399Z"
   },
   {
    "duration": 83,
    "start_time": "2023-11-02T18:40:47.584Z"
   },
   {
    "duration": 14,
    "start_time": "2023-11-02T18:40:47.669Z"
   },
   {
    "duration": 8,
    "start_time": "2023-11-02T18:40:47.685Z"
   },
   {
    "duration": 17,
    "start_time": "2023-11-02T18:40:47.694Z"
   },
   {
    "duration": 56,
    "start_time": "2023-11-02T18:40:47.712Z"
   },
   {
    "duration": 40,
    "start_time": "2023-11-02T18:40:47.770Z"
   },
   {
    "duration": 10,
    "start_time": "2023-11-02T18:40:47.811Z"
   },
   {
    "duration": 18,
    "start_time": "2023-11-02T18:40:47.823Z"
   },
   {
    "duration": 9,
    "start_time": "2023-11-02T18:40:47.844Z"
   },
   {
    "duration": 14,
    "start_time": "2023-11-02T18:40:47.856Z"
   },
   {
    "duration": 40,
    "start_time": "2023-11-02T18:40:47.871Z"
   },
   {
    "duration": 4,
    "start_time": "2023-11-02T18:40:47.912Z"
   },
   {
    "duration": 116,
    "start_time": "2023-11-02T18:40:47.918Z"
   },
   {
    "duration": 306,
    "start_time": "2023-11-02T18:40:48.035Z"
   },
   {
    "duration": 8,
    "start_time": "2023-11-02T18:40:48.342Z"
   },
   {
    "duration": 391,
    "start_time": "2023-11-02T18:40:48.351Z"
   },
   {
    "duration": 64,
    "start_time": "2023-11-02T18:40:48.744Z"
   },
   {
    "duration": 3,
    "start_time": "2023-11-02T18:40:48.810Z"
   },
   {
    "duration": 2720,
    "start_time": "2023-11-02T18:40:48.815Z"
   },
   {
    "duration": 82,
    "start_time": "2023-11-02T18:40:51.536Z"
   },
   {
    "duration": 8,
    "start_time": "2023-11-02T18:40:51.620Z"
   },
   {
    "duration": 26,
    "start_time": "2023-11-02T18:40:51.630Z"
   },
   {
    "duration": 3014,
    "start_time": "2023-11-02T18:40:51.658Z"
   },
   {
    "duration": 496,
    "start_time": "2023-11-02T18:40:54.673Z"
   },
   {
    "duration": 361,
    "start_time": "2023-11-02T18:40:55.171Z"
   },
   {
    "duration": 1560,
    "start_time": "2023-11-02T18:40:55.533Z"
   },
   {
    "duration": 245,
    "start_time": "2023-11-02T18:40:57.096Z"
   },
   {
    "duration": 690,
    "start_time": "2023-11-02T18:40:57.343Z"
   },
   {
    "duration": 633,
    "start_time": "2023-11-02T18:40:58.035Z"
   },
   {
    "duration": 600,
    "start_time": "2023-11-02T18:40:58.670Z"
   },
   {
    "duration": 9,
    "start_time": "2023-11-02T18:40:59.271Z"
   },
   {
    "duration": 42,
    "start_time": "2023-11-02T18:40:59.282Z"
   },
   {
    "duration": 30,
    "start_time": "2023-11-02T18:40:59.326Z"
   },
   {
    "duration": 21,
    "start_time": "2023-11-02T18:40:59.358Z"
   },
   {
    "duration": 15,
    "start_time": "2023-11-02T18:40:59.381Z"
   },
   {
    "duration": 12,
    "start_time": "2023-11-02T18:40:59.398Z"
   },
   {
    "duration": 1281,
    "start_time": "2023-11-02T18:44:40.918Z"
   },
   {
    "duration": 1385,
    "start_time": "2023-11-02T18:45:42.004Z"
   },
   {
    "duration": 294,
    "start_time": "2023-11-02T18:48:07.128Z"
   },
   {
    "duration": 335,
    "start_time": "2023-11-02T18:48:27.557Z"
   },
   {
    "duration": 255,
    "start_time": "2023-11-02T18:48:37.871Z"
   },
   {
    "duration": 252,
    "start_time": "2023-11-02T18:48:43.686Z"
   },
   {
    "duration": 255,
    "start_time": "2023-11-02T18:48:49.421Z"
   },
   {
    "duration": 319,
    "start_time": "2023-11-02T18:48:55.925Z"
   },
   {
    "duration": 328,
    "start_time": "2023-11-02T18:49:13.581Z"
   },
   {
    "duration": 411,
    "start_time": "2023-11-02T18:49:23.188Z"
   },
   {
    "duration": 258,
    "start_time": "2023-11-02T18:49:39.619Z"
   },
   {
    "duration": 259,
    "start_time": "2023-11-02T18:49:52.994Z"
   },
   {
    "duration": 23,
    "start_time": "2023-11-02T18:51:25.482Z"
   },
   {
    "duration": 14,
    "start_time": "2023-11-02T18:51:54.970Z"
   },
   {
    "duration": 225,
    "start_time": "2023-11-02T18:52:13.680Z"
   },
   {
    "duration": 241,
    "start_time": "2023-11-02T18:52:20.678Z"
   },
   {
    "duration": 413,
    "start_time": "2023-11-02T18:52:35.279Z"
   },
   {
    "duration": 1093,
    "start_time": "2023-11-02T18:53:21.757Z"
   },
   {
    "duration": 72,
    "start_time": "2023-11-02T18:53:22.852Z"
   },
   {
    "duration": 15,
    "start_time": "2023-11-02T18:53:22.926Z"
   },
   {
    "duration": 10,
    "start_time": "2023-11-02T18:53:22.943Z"
   },
   {
    "duration": 24,
    "start_time": "2023-11-02T18:53:22.954Z"
   },
   {
    "duration": 58,
    "start_time": "2023-11-02T18:53:22.980Z"
   },
   {
    "duration": 18,
    "start_time": "2023-11-02T18:53:23.041Z"
   },
   {
    "duration": 12,
    "start_time": "2023-11-02T18:53:23.061Z"
   },
   {
    "duration": 47,
    "start_time": "2023-11-02T18:53:23.075Z"
   },
   {
    "duration": 7,
    "start_time": "2023-11-02T18:53:23.125Z"
   },
   {
    "duration": 11,
    "start_time": "2023-11-02T18:53:23.134Z"
   },
   {
    "duration": 25,
    "start_time": "2023-11-02T18:53:23.146Z"
   },
   {
    "duration": 18,
    "start_time": "2023-11-02T18:53:23.173Z"
   },
   {
    "duration": 106,
    "start_time": "2023-11-02T18:53:23.193Z"
   },
   {
    "duration": 324,
    "start_time": "2023-11-02T18:53:23.301Z"
   },
   {
    "duration": 8,
    "start_time": "2023-11-02T18:53:23.627Z"
   },
   {
    "duration": 347,
    "start_time": "2023-11-02T18:53:23.636Z"
   },
   {
    "duration": 27,
    "start_time": "2023-11-02T18:53:23.985Z"
   },
   {
    "duration": 13,
    "start_time": "2023-11-02T18:53:24.014Z"
   },
   {
    "duration": 1321,
    "start_time": "2023-11-02T18:53:24.028Z"
   },
   {
    "duration": 24,
    "start_time": "2023-11-02T18:53:25.351Z"
   },
   {
    "duration": 36,
    "start_time": "2023-11-02T18:53:25.377Z"
   },
   {
    "duration": 15,
    "start_time": "2023-11-02T18:53:25.417Z"
   },
   {
    "duration": 1879,
    "start_time": "2023-11-02T18:53:25.433Z"
   },
   {
    "duration": 508,
    "start_time": "2023-11-02T18:53:27.313Z"
   },
   {
    "duration": 345,
    "start_time": "2023-11-02T18:53:27.823Z"
   },
   {
    "duration": 1459,
    "start_time": "2023-11-02T18:53:28.170Z"
   },
   {
    "duration": 219,
    "start_time": "2023-11-02T18:53:29.632Z"
   },
   {
    "duration": 615,
    "start_time": "2023-11-02T18:53:29.853Z"
   },
   {
    "duration": 656,
    "start_time": "2023-11-02T18:53:30.470Z"
   },
   {
    "duration": 619,
    "start_time": "2023-11-02T18:53:31.127Z"
   },
   {
    "duration": 9,
    "start_time": "2023-11-02T18:53:31.747Z"
   },
   {
    "duration": 34,
    "start_time": "2023-11-02T18:53:31.758Z"
   },
   {
    "duration": 22,
    "start_time": "2023-11-02T18:53:31.794Z"
   },
   {
    "duration": 27,
    "start_time": "2023-11-02T18:53:31.819Z"
   },
   {
    "duration": 51,
    "start_time": "2023-11-02T18:53:31.848Z"
   },
   {
    "duration": 36,
    "start_time": "2023-11-02T18:53:31.901Z"
   },
   {
    "duration": 46,
    "start_time": "2023-11-03T10:24:31.736Z"
   },
   {
    "duration": 1390,
    "start_time": "2023-11-03T10:24:38.515Z"
   },
   {
    "duration": 117,
    "start_time": "2023-11-03T10:24:39.907Z"
   },
   {
    "duration": 14,
    "start_time": "2023-11-03T10:24:40.026Z"
   },
   {
    "duration": 12,
    "start_time": "2023-11-03T10:24:40.043Z"
   },
   {
    "duration": 15,
    "start_time": "2023-11-03T10:24:40.056Z"
   },
   {
    "duration": 61,
    "start_time": "2023-11-03T10:24:40.073Z"
   },
   {
    "duration": 16,
    "start_time": "2023-11-03T10:24:40.136Z"
   },
   {
    "duration": 10,
    "start_time": "2023-11-03T10:24:40.154Z"
   },
   {
    "duration": 17,
    "start_time": "2023-11-03T10:24:40.165Z"
   },
   {
    "duration": 44,
    "start_time": "2023-11-03T10:24:40.184Z"
   },
   {
    "duration": 7,
    "start_time": "2023-11-03T10:24:40.229Z"
   },
   {
    "duration": 5,
    "start_time": "2023-11-03T10:24:40.238Z"
   },
   {
    "duration": 13,
    "start_time": "2023-11-03T10:24:40.245Z"
   },
   {
    "duration": 5,
    "start_time": "2023-11-03T10:24:40.260Z"
   },
   {
    "duration": 122,
    "start_time": "2023-11-03T10:24:40.267Z"
   },
   {
    "duration": 319,
    "start_time": "2023-11-03T10:24:40.391Z"
   },
   {
    "duration": 16,
    "start_time": "2023-11-03T10:24:40.712Z"
   },
   {
    "duration": 331,
    "start_time": "2023-11-03T10:24:40.730Z"
   },
   {
    "duration": 15,
    "start_time": "2023-11-03T10:24:41.063Z"
   },
   {
    "duration": 7,
    "start_time": "2023-11-03T10:24:41.079Z"
   },
   {
    "duration": 2217,
    "start_time": "2023-11-03T10:24:41.087Z"
   },
   {
    "duration": 32,
    "start_time": "2023-11-03T10:24:43.305Z"
   },
   {
    "duration": 16,
    "start_time": "2023-11-03T10:24:43.339Z"
   },
   {
    "duration": 9,
    "start_time": "2023-11-03T10:24:43.357Z"
   },
   {
    "duration": 1795,
    "start_time": "2023-11-03T10:24:43.367Z"
   },
   {
    "duration": 487,
    "start_time": "2023-11-03T10:24:45.163Z"
   },
   {
    "duration": 358,
    "start_time": "2023-11-03T10:24:45.652Z"
   },
   {
    "duration": 1477,
    "start_time": "2023-11-03T10:24:46.013Z"
   },
   {
    "duration": 215,
    "start_time": "2023-11-03T10:24:47.492Z"
   },
   {
    "duration": 603,
    "start_time": "2023-11-03T10:24:47.708Z"
   },
   {
    "duration": 628,
    "start_time": "2023-11-03T10:24:48.314Z"
   },
   {
    "duration": 612,
    "start_time": "2023-11-03T10:24:48.944Z"
   },
   {
    "duration": 9,
    "start_time": "2023-11-03T10:24:49.558Z"
   },
   {
    "duration": 9,
    "start_time": "2023-11-03T10:24:49.568Z"
   },
   {
    "duration": 7,
    "start_time": "2023-11-03T10:24:49.579Z"
   },
   {
    "duration": 4,
    "start_time": "2023-11-03T10:24:49.587Z"
   },
   {
    "duration": 32,
    "start_time": "2023-11-03T10:24:49.593Z"
   },
   {
    "duration": 4,
    "start_time": "2023-11-03T10:24:49.626Z"
   },
   {
    "duration": 17,
    "start_time": "2023-11-03T10:37:36.807Z"
   },
   {
    "duration": 17,
    "start_time": "2023-11-03T10:37:47.686Z"
   },
   {
    "duration": 388,
    "start_time": "2023-11-03T10:52:57.143Z"
   },
   {
    "duration": 268,
    "start_time": "2023-11-03T10:53:32.368Z"
   },
   {
    "duration": 304,
    "start_time": "2023-11-03T10:53:40.181Z"
   },
   {
    "duration": 274,
    "start_time": "2023-11-03T10:53:47.261Z"
   },
   {
    "duration": 351,
    "start_time": "2023-11-03T10:53:53.348Z"
   },
   {
    "duration": 116,
    "start_time": "2023-11-03T11:00:07.388Z"
   },
   {
    "duration": 135,
    "start_time": "2023-11-03T11:00:31.833Z"
   },
   {
    "duration": 48,
    "start_time": "2023-11-03T14:14:15.031Z"
   },
   {
    "duration": 1515,
    "start_time": "2023-11-03T14:14:23.874Z"
   },
   {
    "duration": 145,
    "start_time": "2023-11-03T14:14:25.392Z"
   },
   {
    "duration": 16,
    "start_time": "2023-11-03T14:14:25.539Z"
   },
   {
    "duration": 38,
    "start_time": "2023-11-03T14:14:25.557Z"
   },
   {
    "duration": 32,
    "start_time": "2023-11-03T14:14:25.596Z"
   },
   {
    "duration": 80,
    "start_time": "2023-11-03T14:14:25.630Z"
   },
   {
    "duration": 19,
    "start_time": "2023-11-03T14:14:25.712Z"
   },
   {
    "duration": 12,
    "start_time": "2023-11-03T14:14:25.733Z"
   },
   {
    "duration": 35,
    "start_time": "2023-11-03T14:14:25.747Z"
   },
   {
    "duration": 60,
    "start_time": "2023-11-03T14:14:25.784Z"
   },
   {
    "duration": 126,
    "start_time": "2023-11-03T14:14:25.846Z"
   },
   {
    "duration": 0,
    "start_time": "2023-11-03T14:14:25.974Z"
   },
   {
    "duration": 0,
    "start_time": "2023-11-03T14:14:25.975Z"
   },
   {
    "duration": 0,
    "start_time": "2023-11-03T14:14:25.976Z"
   },
   {
    "duration": 0,
    "start_time": "2023-11-03T14:14:25.977Z"
   },
   {
    "duration": 0,
    "start_time": "2023-11-03T14:14:25.978Z"
   },
   {
    "duration": 0,
    "start_time": "2023-11-03T14:14:25.980Z"
   },
   {
    "duration": 0,
    "start_time": "2023-11-03T14:14:25.981Z"
   },
   {
    "duration": 0,
    "start_time": "2023-11-03T14:14:25.981Z"
   },
   {
    "duration": 0,
    "start_time": "2023-11-03T14:14:25.982Z"
   },
   {
    "duration": 0,
    "start_time": "2023-11-03T14:14:25.983Z"
   },
   {
    "duration": 0,
    "start_time": "2023-11-03T14:14:25.984Z"
   },
   {
    "duration": 0,
    "start_time": "2023-11-03T14:14:25.985Z"
   },
   {
    "duration": 0,
    "start_time": "2023-11-03T14:14:25.986Z"
   },
   {
    "duration": 0,
    "start_time": "2023-11-03T14:14:25.987Z"
   },
   {
    "duration": 0,
    "start_time": "2023-11-03T14:14:25.988Z"
   },
   {
    "duration": 0,
    "start_time": "2023-11-03T14:14:25.989Z"
   },
   {
    "duration": 0,
    "start_time": "2023-11-03T14:14:25.990Z"
   },
   {
    "duration": 0,
    "start_time": "2023-11-03T14:14:26.005Z"
   },
   {
    "duration": 0,
    "start_time": "2023-11-03T14:14:26.006Z"
   },
   {
    "duration": 0,
    "start_time": "2023-11-03T14:14:26.007Z"
   },
   {
    "duration": 0,
    "start_time": "2023-11-03T14:14:26.009Z"
   },
   {
    "duration": 0,
    "start_time": "2023-11-03T14:14:26.010Z"
   },
   {
    "duration": 0,
    "start_time": "2023-11-03T14:14:26.012Z"
   },
   {
    "duration": 0,
    "start_time": "2023-11-03T14:14:26.014Z"
   },
   {
    "duration": 0,
    "start_time": "2023-11-03T14:14:26.014Z"
   },
   {
    "duration": 0,
    "start_time": "2023-11-03T14:14:26.015Z"
   },
   {
    "duration": 0,
    "start_time": "2023-11-03T14:14:26.016Z"
   },
   {
    "duration": 0,
    "start_time": "2023-11-03T14:14:26.017Z"
   },
   {
    "duration": 0,
    "start_time": "2023-11-03T14:14:26.019Z"
   },
   {
    "duration": 18,
    "start_time": "2023-11-03T14:14:41.860Z"
   },
   {
    "duration": 1110,
    "start_time": "2023-11-03T14:50:39.859Z"
   },
   {
    "duration": 73,
    "start_time": "2023-11-03T14:50:40.971Z"
   },
   {
    "duration": 15,
    "start_time": "2023-11-03T14:50:41.046Z"
   },
   {
    "duration": 59,
    "start_time": "2023-11-03T14:50:41.063Z"
   },
   {
    "duration": 34,
    "start_time": "2023-11-03T14:50:41.124Z"
   },
   {
    "duration": 74,
    "start_time": "2023-11-03T14:50:41.159Z"
   },
   {
    "duration": 17,
    "start_time": "2023-11-03T14:50:41.235Z"
   },
   {
    "duration": 31,
    "start_time": "2023-11-03T14:50:41.253Z"
   },
   {
    "duration": 35,
    "start_time": "2023-11-03T14:50:41.286Z"
   },
   {
    "duration": 22,
    "start_time": "2023-11-03T14:50:41.325Z"
   },
   {
    "duration": 37,
    "start_time": "2023-11-03T14:50:41.349Z"
   },
   {
    "duration": 14,
    "start_time": "2023-11-03T14:50:41.388Z"
   },
   {
    "duration": 29,
    "start_time": "2023-11-03T14:50:41.404Z"
   },
   {
    "duration": 36,
    "start_time": "2023-11-03T14:50:41.435Z"
   },
   {
    "duration": 115,
    "start_time": "2023-11-03T14:50:41.473Z"
   },
   {
    "duration": 431,
    "start_time": "2023-11-03T14:50:41.590Z"
   },
   {
    "duration": 9,
    "start_time": "2023-11-03T14:50:42.023Z"
   },
   {
    "duration": 715,
    "start_time": "2023-11-03T14:50:42.033Z"
   },
   {
    "duration": 17,
    "start_time": "2023-11-03T14:50:42.801Z"
   },
   {
    "duration": 53,
    "start_time": "2023-11-03T14:50:42.819Z"
   },
   {
    "duration": 1716,
    "start_time": "2023-11-03T14:50:42.902Z"
   },
   {
    "duration": 34,
    "start_time": "2023-11-03T14:50:44.621Z"
   },
   {
    "duration": 13,
    "start_time": "2023-11-03T14:50:44.657Z"
   },
   {
    "duration": 30,
    "start_time": "2023-11-03T14:50:44.672Z"
   },
   {
    "duration": 1869,
    "start_time": "2023-11-03T14:50:44.704Z"
   },
   {
    "duration": 531,
    "start_time": "2023-11-03T14:50:46.575Z"
   },
   {
    "duration": 359,
    "start_time": "2023-11-03T14:50:47.109Z"
   },
   {
    "duration": 1518,
    "start_time": "2023-11-03T14:50:47.471Z"
   },
   {
    "duration": 239,
    "start_time": "2023-11-03T14:50:48.990Z"
   },
   {
    "duration": 233,
    "start_time": "2023-11-03T14:50:49.231Z"
   },
   {
    "duration": 0,
    "start_time": "2023-11-03T14:50:49.466Z"
   },
   {
    "duration": 0,
    "start_time": "2023-11-03T14:50:49.467Z"
   },
   {
    "duration": 0,
    "start_time": "2023-11-03T14:50:49.468Z"
   },
   {
    "duration": 0,
    "start_time": "2023-11-03T14:50:49.469Z"
   },
   {
    "duration": 0,
    "start_time": "2023-11-03T14:50:49.470Z"
   },
   {
    "duration": 0,
    "start_time": "2023-11-03T14:50:49.472Z"
   },
   {
    "duration": 0,
    "start_time": "2023-11-03T14:50:49.473Z"
   },
   {
    "duration": 0,
    "start_time": "2023-11-03T14:50:49.474Z"
   },
   {
    "duration": 0,
    "start_time": "2023-11-03T14:50:49.475Z"
   },
   {
    "duration": 1130,
    "start_time": "2023-11-03T14:51:21.745Z"
   },
   {
    "duration": 75,
    "start_time": "2023-11-03T14:51:22.877Z"
   },
   {
    "duration": 16,
    "start_time": "2023-11-03T14:51:22.953Z"
   },
   {
    "duration": 5,
    "start_time": "2023-11-03T14:51:22.971Z"
   },
   {
    "duration": 33,
    "start_time": "2023-11-03T14:51:22.978Z"
   },
   {
    "duration": 75,
    "start_time": "2023-11-03T14:51:23.013Z"
   },
   {
    "duration": 19,
    "start_time": "2023-11-03T14:51:23.090Z"
   },
   {
    "duration": 12,
    "start_time": "2023-11-03T14:51:23.111Z"
   },
   {
    "duration": 20,
    "start_time": "2023-11-03T14:51:23.125Z"
   },
   {
    "duration": 21,
    "start_time": "2023-11-03T14:51:23.149Z"
   },
   {
    "duration": 30,
    "start_time": "2023-11-03T14:51:23.172Z"
   },
   {
    "duration": 25,
    "start_time": "2023-11-03T14:51:23.203Z"
   },
   {
    "duration": 12,
    "start_time": "2023-11-03T14:51:23.230Z"
   },
   {
    "duration": 22,
    "start_time": "2023-11-03T14:51:23.244Z"
   },
   {
    "duration": 79,
    "start_time": "2023-11-03T14:51:23.268Z"
   },
   {
    "duration": 329,
    "start_time": "2023-11-03T14:51:23.349Z"
   },
   {
    "duration": 25,
    "start_time": "2023-11-03T14:51:23.679Z"
   },
   {
    "duration": 640,
    "start_time": "2023-11-03T14:51:23.706Z"
   },
   {
    "duration": 24,
    "start_time": "2023-11-03T14:51:24.400Z"
   },
   {
    "duration": 18,
    "start_time": "2023-11-03T14:51:24.427Z"
   },
   {
    "duration": 1995,
    "start_time": "2023-11-03T14:51:24.447Z"
   },
   {
    "duration": 27,
    "start_time": "2023-11-03T14:51:26.443Z"
   },
   {
    "duration": 8,
    "start_time": "2023-11-03T14:51:26.471Z"
   },
   {
    "duration": 23,
    "start_time": "2023-11-03T14:51:26.481Z"
   },
   {
    "duration": 1868,
    "start_time": "2023-11-03T14:51:26.505Z"
   },
   {
    "duration": 603,
    "start_time": "2023-11-03T14:51:28.375Z"
   },
   {
    "duration": 381,
    "start_time": "2023-11-03T14:51:28.980Z"
   },
   {
    "duration": 1573,
    "start_time": "2023-11-03T14:51:29.365Z"
   },
   {
    "duration": 236,
    "start_time": "2023-11-03T14:51:30.940Z"
   },
   {
    "duration": 240,
    "start_time": "2023-11-03T14:51:31.178Z"
   },
   {
    "duration": 0,
    "start_time": "2023-11-03T14:51:31.420Z"
   },
   {
    "duration": 0,
    "start_time": "2023-11-03T14:51:31.422Z"
   },
   {
    "duration": 0,
    "start_time": "2023-11-03T14:51:31.423Z"
   },
   {
    "duration": 0,
    "start_time": "2023-11-03T14:51:31.425Z"
   },
   {
    "duration": 0,
    "start_time": "2023-11-03T14:51:31.427Z"
   },
   {
    "duration": 0,
    "start_time": "2023-11-03T14:51:31.428Z"
   },
   {
    "duration": 0,
    "start_time": "2023-11-03T14:51:31.430Z"
   },
   {
    "duration": 0,
    "start_time": "2023-11-03T14:51:31.431Z"
   },
   {
    "duration": 0,
    "start_time": "2023-11-03T14:51:31.431Z"
   },
   {
    "duration": 15,
    "start_time": "2023-11-03T14:53:33.782Z"
   },
   {
    "duration": 1210,
    "start_time": "2023-11-03T14:54:00.678Z"
   },
   {
    "duration": 75,
    "start_time": "2023-11-03T14:54:01.890Z"
   },
   {
    "duration": 91,
    "start_time": "2023-11-03T14:54:01.967Z"
   },
   {
    "duration": 461,
    "start_time": "2023-11-03T14:54:02.061Z"
   },
   {
    "duration": 385,
    "start_time": "2023-11-03T14:54:02.524Z"
   },
   {
    "duration": 240,
    "start_time": "2023-11-03T14:54:02.912Z"
   },
   {
    "duration": 59,
    "start_time": "2023-11-03T14:54:03.154Z"
   },
   {
    "duration": 25,
    "start_time": "2023-11-03T14:54:03.214Z"
   },
   {
    "duration": 73,
    "start_time": "2023-11-03T14:54:03.241Z"
   },
   {
    "duration": 34,
    "start_time": "2023-11-03T14:54:03.317Z"
   },
   {
    "duration": 31,
    "start_time": "2023-11-03T14:54:03.353Z"
   },
   {
    "duration": 25,
    "start_time": "2023-11-03T14:54:03.386Z"
   },
   {
    "duration": 35,
    "start_time": "2023-11-03T14:54:03.413Z"
   },
   {
    "duration": 47,
    "start_time": "2023-11-03T14:54:03.450Z"
   },
   {
    "duration": 28,
    "start_time": "2023-11-03T14:54:03.499Z"
   },
   {
    "duration": 22,
    "start_time": "2023-11-03T14:54:03.530Z"
   },
   {
    "duration": 114,
    "start_time": "2023-11-03T14:54:03.554Z"
   },
   {
    "duration": 355,
    "start_time": "2023-11-03T14:54:03.670Z"
   },
   {
    "duration": 9,
    "start_time": "2023-11-03T14:54:04.027Z"
   },
   {
    "duration": 387,
    "start_time": "2023-11-03T14:54:04.038Z"
   },
   {
    "duration": 16,
    "start_time": "2023-11-03T14:54:04.427Z"
   },
   {
    "duration": 33,
    "start_time": "2023-11-03T14:54:04.445Z"
   },
   {
    "duration": 2687,
    "start_time": "2023-11-03T14:54:04.480Z"
   },
   {
    "duration": 34,
    "start_time": "2023-11-03T14:54:07.169Z"
   },
   {
    "duration": 22,
    "start_time": "2023-11-03T14:54:07.205Z"
   },
   {
    "duration": 56,
    "start_time": "2023-11-03T14:54:07.229Z"
   },
   {
    "duration": 2019,
    "start_time": "2023-11-03T14:54:07.287Z"
   },
   {
    "duration": 536,
    "start_time": "2023-11-03T14:54:09.310Z"
   },
   {
    "duration": 375,
    "start_time": "2023-11-03T14:54:09.848Z"
   },
   {
    "duration": 1518,
    "start_time": "2023-11-03T14:54:10.224Z"
   },
   {
    "duration": 231,
    "start_time": "2023-11-03T14:54:11.744Z"
   },
   {
    "duration": 242,
    "start_time": "2023-11-03T14:54:11.977Z"
   },
   {
    "duration": 0,
    "start_time": "2023-11-03T14:54:12.220Z"
   },
   {
    "duration": 0,
    "start_time": "2023-11-03T14:54:12.221Z"
   },
   {
    "duration": 0,
    "start_time": "2023-11-03T14:54:12.222Z"
   },
   {
    "duration": 0,
    "start_time": "2023-11-03T14:54:12.223Z"
   },
   {
    "duration": 0,
    "start_time": "2023-11-03T14:54:12.225Z"
   },
   {
    "duration": 0,
    "start_time": "2023-11-03T14:54:12.225Z"
   },
   {
    "duration": 0,
    "start_time": "2023-11-03T14:54:12.227Z"
   },
   {
    "duration": 0,
    "start_time": "2023-11-03T14:54:12.227Z"
   },
   {
    "duration": 0,
    "start_time": "2023-11-03T14:54:12.228Z"
   },
   {
    "duration": 279,
    "start_time": "2023-11-03T14:55:55.952Z"
   },
   {
    "duration": 140,
    "start_time": "2023-11-03T14:56:01.383Z"
   },
   {
    "duration": 320,
    "start_time": "2023-11-03T14:57:29.001Z"
   },
   {
    "duration": 373,
    "start_time": "2023-11-03T15:04:25.675Z"
   },
   {
    "duration": 271,
    "start_time": "2023-11-03T15:04:39.907Z"
   },
   {
    "duration": 266,
    "start_time": "2023-11-03T15:04:47.843Z"
   },
   {
    "duration": 4,
    "start_time": "2023-11-03T15:05:50.255Z"
   },
   {
    "duration": 12,
    "start_time": "2023-11-03T15:06:15.990Z"
   },
   {
    "duration": 8,
    "start_time": "2023-11-03T15:06:27.396Z"
   },
   {
    "duration": 296,
    "start_time": "2023-11-03T15:06:46.971Z"
   },
   {
    "duration": 263,
    "start_time": "2023-11-03T15:07:04.844Z"
   },
   {
    "duration": 395,
    "start_time": "2023-11-03T15:07:29.921Z"
   },
   {
    "duration": 279,
    "start_time": "2023-11-03T15:07:41.416Z"
   },
   {
    "duration": 279,
    "start_time": "2023-11-03T15:08:02.135Z"
   },
   {
    "duration": 260,
    "start_time": "2023-11-03T15:08:07.310Z"
   },
   {
    "duration": 279,
    "start_time": "2023-11-03T15:08:13.454Z"
   },
   {
    "duration": 267,
    "start_time": "2023-11-03T15:08:25.212Z"
   },
   {
    "duration": 14,
    "start_time": "2023-11-03T15:13:56.271Z"
   },
   {
    "duration": 15,
    "start_time": "2023-11-03T15:14:02.911Z"
   },
   {
    "duration": 17,
    "start_time": "2023-11-03T15:14:24.031Z"
   },
   {
    "duration": 375,
    "start_time": "2023-11-03T15:14:52.547Z"
   },
   {
    "duration": 306,
    "start_time": "2023-11-03T15:15:14.201Z"
   },
   {
    "duration": 268,
    "start_time": "2023-11-03T15:15:19.448Z"
   },
   {
    "duration": 1117,
    "start_time": "2023-11-03T15:23:06.458Z"
   },
   {
    "duration": 70,
    "start_time": "2023-11-03T15:23:07.577Z"
   },
   {
    "duration": 15,
    "start_time": "2023-11-03T15:23:07.649Z"
   },
   {
    "duration": 41,
    "start_time": "2023-11-03T15:23:07.666Z"
   },
   {
    "duration": 31,
    "start_time": "2023-11-03T15:23:07.709Z"
   },
   {
    "duration": 77,
    "start_time": "2023-11-03T15:23:07.741Z"
   },
   {
    "duration": 17,
    "start_time": "2023-11-03T15:23:07.819Z"
   },
   {
    "duration": 24,
    "start_time": "2023-11-03T15:23:07.838Z"
   },
   {
    "duration": 20,
    "start_time": "2023-11-03T15:23:07.863Z"
   },
   {
    "duration": 23,
    "start_time": "2023-11-03T15:23:07.886Z"
   },
   {
    "duration": 10,
    "start_time": "2023-11-03T15:23:07.910Z"
   },
   {
    "duration": 12,
    "start_time": "2023-11-03T15:23:07.921Z"
   },
   {
    "duration": 12,
    "start_time": "2023-11-03T15:23:07.934Z"
   },
   {
    "duration": 18,
    "start_time": "2023-11-03T15:23:07.947Z"
   },
   {
    "duration": 30,
    "start_time": "2023-11-03T15:23:07.966Z"
   },
   {
    "duration": 93,
    "start_time": "2023-11-03T15:23:07.998Z"
   },
   {
    "duration": 415,
    "start_time": "2023-11-03T15:23:08.093Z"
   },
   {
    "duration": 9,
    "start_time": "2023-11-03T15:23:08.510Z"
   },
   {
    "duration": 418,
    "start_time": "2023-11-03T15:23:08.520Z"
   },
   {
    "duration": 15,
    "start_time": "2023-11-03T15:23:08.939Z"
   },
   {
    "duration": 12,
    "start_time": "2023-11-03T15:23:08.955Z"
   },
   {
    "duration": 1356,
    "start_time": "2023-11-03T15:23:08.969Z"
   },
   {
    "duration": 26,
    "start_time": "2023-11-03T15:23:10.327Z"
   },
   {
    "duration": 34,
    "start_time": "2023-11-03T15:23:10.354Z"
   },
   {
    "duration": 26,
    "start_time": "2023-11-03T15:23:10.390Z"
   },
   {
    "duration": 1880,
    "start_time": "2023-11-03T15:23:10.418Z"
   },
   {
    "duration": 516,
    "start_time": "2023-11-03T15:23:12.299Z"
   },
   {
    "duration": 384,
    "start_time": "2023-11-03T15:23:12.818Z"
   },
   {
    "duration": 1674,
    "start_time": "2023-11-03T15:23:13.204Z"
   },
   {
    "duration": 306,
    "start_time": "2023-11-03T15:23:14.879Z"
   },
   {
    "duration": 24,
    "start_time": "2023-11-03T15:23:15.189Z"
   },
   {
    "duration": 667,
    "start_time": "2023-11-03T15:23:15.215Z"
   },
   {
    "duration": 774,
    "start_time": "2023-11-03T15:23:15.884Z"
   },
   {
    "duration": 678,
    "start_time": "2023-11-03T15:23:16.660Z"
   },
   {
    "duration": 61,
    "start_time": "2023-11-03T15:23:17.340Z"
   },
   {
    "duration": 7,
    "start_time": "2023-11-03T15:23:17.403Z"
   },
   {
    "duration": 12,
    "start_time": "2023-11-03T15:23:17.412Z"
   },
   {
    "duration": 29,
    "start_time": "2023-11-03T15:23:17.426Z"
   },
   {
    "duration": 50,
    "start_time": "2023-11-03T15:23:17.457Z"
   },
   {
    "duration": 15,
    "start_time": "2023-11-03T15:23:17.509Z"
   },
   {
    "duration": 204,
    "start_time": "2023-11-03T15:46:41.816Z"
   },
   {
    "duration": 106,
    "start_time": "2023-11-03T15:47:09.965Z"
   },
   {
    "duration": 188,
    "start_time": "2023-11-03T15:47:13.813Z"
   },
   {
    "duration": 160,
    "start_time": "2023-11-03T15:49:48.907Z"
   },
   {
    "duration": 23,
    "start_time": "2023-11-03T15:55:00.101Z"
   },
   {
    "duration": 17,
    "start_time": "2023-11-03T15:56:06.313Z"
   },
   {
    "duration": 15,
    "start_time": "2023-11-03T15:56:30.981Z"
   },
   {
    "duration": 14,
    "start_time": "2023-11-03T15:58:04.720Z"
   },
   {
    "duration": 13,
    "start_time": "2023-11-03T15:58:17.654Z"
   },
   {
    "duration": 177,
    "start_time": "2023-11-03T15:58:23.998Z"
   },
   {
    "duration": 1156,
    "start_time": "2023-11-03T15:58:44.707Z"
   },
   {
    "duration": 75,
    "start_time": "2023-11-03T15:58:45.865Z"
   },
   {
    "duration": 16,
    "start_time": "2023-11-03T15:58:45.941Z"
   },
   {
    "duration": 14,
    "start_time": "2023-11-03T15:58:45.959Z"
   },
   {
    "duration": 35,
    "start_time": "2023-11-03T15:58:45.975Z"
   },
   {
    "duration": 109,
    "start_time": "2023-11-03T15:58:46.012Z"
   },
   {
    "duration": 17,
    "start_time": "2023-11-03T15:58:46.123Z"
   },
   {
    "duration": 64,
    "start_time": "2023-11-03T15:58:46.141Z"
   },
   {
    "duration": 17,
    "start_time": "2023-11-03T15:58:46.207Z"
   },
   {
    "duration": 17,
    "start_time": "2023-11-03T15:58:46.226Z"
   },
   {
    "duration": 10,
    "start_time": "2023-11-03T15:58:46.301Z"
   },
   {
    "duration": 20,
    "start_time": "2023-11-03T15:58:46.312Z"
   },
   {
    "duration": 12,
    "start_time": "2023-11-03T15:58:46.334Z"
   },
   {
    "duration": 53,
    "start_time": "2023-11-03T15:58:46.348Z"
   },
   {
    "duration": 5,
    "start_time": "2023-11-03T15:58:46.403Z"
   },
   {
    "duration": 192,
    "start_time": "2023-11-03T15:58:46.410Z"
   },
   {
    "duration": 615,
    "start_time": "2023-11-03T15:58:46.604Z"
   },
   {
    "duration": 8,
    "start_time": "2023-11-03T15:58:47.221Z"
   },
   {
    "duration": 653,
    "start_time": "2023-11-03T15:58:47.230Z"
   },
   {
    "duration": 23,
    "start_time": "2023-11-03T15:58:47.885Z"
   },
   {
    "duration": 27,
    "start_time": "2023-11-03T15:58:47.910Z"
   },
   {
    "duration": 1350,
    "start_time": "2023-11-03T15:58:47.939Z"
   },
   {
    "duration": 34,
    "start_time": "2023-11-03T15:58:49.291Z"
   },
   {
    "duration": 36,
    "start_time": "2023-11-03T15:58:49.326Z"
   },
   {
    "duration": 11,
    "start_time": "2023-11-03T15:58:49.364Z"
   },
   {
    "duration": 1916,
    "start_time": "2023-11-03T15:58:49.376Z"
   },
   {
    "duration": 533,
    "start_time": "2023-11-03T15:58:51.294Z"
   },
   {
    "duration": 375,
    "start_time": "2023-11-03T15:58:51.830Z"
   },
   {
    "duration": 1542,
    "start_time": "2023-11-03T15:58:52.207Z"
   },
   {
    "duration": 275,
    "start_time": "2023-11-03T15:58:53.751Z"
   },
   {
    "duration": 14,
    "start_time": "2023-11-03T15:58:54.028Z"
   },
   {
    "duration": 700,
    "start_time": "2023-11-03T15:58:54.044Z"
   },
   {
    "duration": 758,
    "start_time": "2023-11-03T15:58:54.747Z"
   },
   {
    "duration": 197,
    "start_time": "2023-11-03T15:58:55.507Z"
   },
   {
    "duration": 167,
    "start_time": "2023-11-03T15:58:55.705Z"
   },
   {
    "duration": 171,
    "start_time": "2023-11-03T15:58:55.873Z"
   },
   {
    "duration": 527,
    "start_time": "2023-11-03T15:58:56.046Z"
   },
   {
    "duration": 9,
    "start_time": "2023-11-03T15:58:56.575Z"
   },
   {
    "duration": 21,
    "start_time": "2023-11-03T15:58:56.586Z"
   },
   {
    "duration": 16,
    "start_time": "2023-11-03T15:58:56.609Z"
   },
   {
    "duration": 11,
    "start_time": "2023-11-03T15:58:56.627Z"
   },
   {
    "duration": 21,
    "start_time": "2023-11-03T15:58:56.640Z"
   },
   {
    "duration": 15,
    "start_time": "2023-11-03T15:58:56.663Z"
   },
   {
    "duration": 167,
    "start_time": "2023-11-03T15:59:53.127Z"
   },
   {
    "duration": 18,
    "start_time": "2023-11-03T16:00:12.350Z"
   },
   {
    "duration": 5,
    "start_time": "2023-11-03T18:30:33.001Z"
   },
   {
    "duration": 4,
    "start_time": "2023-11-03T18:30:41.441Z"
   },
   {
    "duration": 101,
    "start_time": "2023-11-03T18:32:12.690Z"
   },
   {
    "duration": 15,
    "start_time": "2023-11-03T18:32:20.243Z"
   },
   {
    "duration": 12,
    "start_time": "2023-11-03T18:32:40.761Z"
   },
   {
    "duration": 17,
    "start_time": "2023-11-03T18:32:57.016Z"
   },
   {
    "duration": 10,
    "start_time": "2023-11-03T18:43:20.006Z"
   },
   {
    "duration": 176,
    "start_time": "2023-11-03T18:44:12.201Z"
   },
   {
    "duration": 1308,
    "start_time": "2023-11-04T07:28:30.977Z"
   },
   {
    "duration": 119,
    "start_time": "2023-11-04T07:28:32.287Z"
   },
   {
    "duration": 16,
    "start_time": "2023-11-04T07:28:32.407Z"
   },
   {
    "duration": 45,
    "start_time": "2023-11-04T07:28:32.425Z"
   },
   {
    "duration": 38,
    "start_time": "2023-11-04T07:28:32.471Z"
   },
   {
    "duration": 61,
    "start_time": "2023-11-04T07:28:32.511Z"
   },
   {
    "duration": 16,
    "start_time": "2023-11-04T07:28:32.574Z"
   },
   {
    "duration": 16,
    "start_time": "2023-11-04T07:28:32.592Z"
   },
   {
    "duration": 36,
    "start_time": "2023-11-04T07:28:32.609Z"
   },
   {
    "duration": 15,
    "start_time": "2023-11-04T07:28:32.648Z"
   },
   {
    "duration": 23,
    "start_time": "2023-11-04T07:28:32.665Z"
   },
   {
    "duration": 32,
    "start_time": "2023-11-04T07:28:32.690Z"
   },
   {
    "duration": 10,
    "start_time": "2023-11-04T07:28:32.724Z"
   },
   {
    "duration": 40,
    "start_time": "2023-11-04T07:28:32.735Z"
   },
   {
    "duration": 30,
    "start_time": "2023-11-04T07:28:32.777Z"
   },
   {
    "duration": 86,
    "start_time": "2023-11-04T07:28:32.808Z"
   },
   {
    "duration": 298,
    "start_time": "2023-11-04T07:28:32.896Z"
   },
   {
    "duration": 15,
    "start_time": "2023-11-04T07:28:33.196Z"
   },
   {
    "duration": 306,
    "start_time": "2023-11-04T07:28:33.213Z"
   },
   {
    "duration": 15,
    "start_time": "2023-11-04T07:28:33.521Z"
   },
   {
    "duration": 4,
    "start_time": "2023-11-04T07:28:33.537Z"
   },
   {
    "duration": 1265,
    "start_time": "2023-11-04T07:28:33.542Z"
   },
   {
    "duration": 25,
    "start_time": "2023-11-04T07:28:34.808Z"
   },
   {
    "duration": 8,
    "start_time": "2023-11-04T07:28:34.835Z"
   },
   {
    "duration": 5,
    "start_time": "2023-11-04T07:28:34.845Z"
   },
   {
    "duration": 1860,
    "start_time": "2023-11-04T07:28:34.851Z"
   },
   {
    "duration": 516,
    "start_time": "2023-11-04T07:28:36.712Z"
   },
   {
    "duration": 376,
    "start_time": "2023-11-04T07:28:37.233Z"
   },
   {
    "duration": 1419,
    "start_time": "2023-11-04T07:28:37.611Z"
   },
   {
    "duration": 256,
    "start_time": "2023-11-04T07:28:39.032Z"
   },
   {
    "duration": 19,
    "start_time": "2023-11-04T07:28:39.289Z"
   },
   {
    "duration": 592,
    "start_time": "2023-11-04T07:28:39.310Z"
   },
   {
    "duration": 738,
    "start_time": "2023-11-04T07:28:39.906Z"
   },
   {
    "duration": 157,
    "start_time": "2023-11-04T07:28:40.645Z"
   },
   {
    "duration": 9,
    "start_time": "2023-11-04T07:28:40.803Z"
   },
   {
    "duration": 165,
    "start_time": "2023-11-04T07:28:40.813Z"
   },
   {
    "duration": 509,
    "start_time": "2023-11-04T07:28:40.980Z"
   },
   {
    "duration": 17,
    "start_time": "2023-11-04T07:28:41.490Z"
   },
   {
    "duration": 6,
    "start_time": "2023-11-04T07:28:41.509Z"
   },
   {
    "duration": 11,
    "start_time": "2023-11-04T07:28:41.516Z"
   },
   {
    "duration": 4,
    "start_time": "2023-11-04T07:28:41.529Z"
   },
   {
    "duration": 9,
    "start_time": "2023-11-04T07:28:41.534Z"
   },
   {
    "duration": 3,
    "start_time": "2023-11-04T07:28:41.545Z"
   },
   {
    "duration": 9,
    "start_time": "2023-11-04T07:42:09.016Z"
   },
   {
    "duration": 100,
    "start_time": "2023-11-04T07:42:29.831Z"
   },
   {
    "duration": 286,
    "start_time": "2023-11-04T07:43:43.498Z"
   },
   {
    "duration": 352,
    "start_time": "2023-11-04T07:45:13.075Z"
   },
   {
    "duration": 266,
    "start_time": "2023-11-04T07:45:27.569Z"
   },
   {
    "duration": 282,
    "start_time": "2023-11-04T07:45:36.592Z"
   },
   {
    "duration": 92,
    "start_time": "2023-11-04T07:48:30.462Z"
   },
   {
    "duration": 576,
    "start_time": "2023-11-04T07:49:33.134Z"
   },
   {
    "duration": 497,
    "start_time": "2023-11-04T07:49:50.015Z"
   },
   {
    "duration": 473,
    "start_time": "2023-11-04T07:52:34.844Z"
   },
   {
    "duration": 506,
    "start_time": "2023-11-04T07:53:03.002Z"
   },
   {
    "duration": 412,
    "start_time": "2023-11-04T07:53:14.730Z"
   },
   {
    "duration": 416,
    "start_time": "2023-11-04T07:53:38.424Z"
   },
   {
    "duration": 355,
    "start_time": "2023-11-04T07:53:56.302Z"
   },
   {
    "duration": 239,
    "start_time": "2023-11-04T07:55:00.419Z"
   },
   {
    "duration": 245,
    "start_time": "2023-11-04T07:59:21.673Z"
   },
   {
    "duration": 260,
    "start_time": "2023-11-04T08:00:08.286Z"
   },
   {
    "duration": 1147,
    "start_time": "2023-11-04T11:10:41.013Z"
   },
   {
    "duration": 73,
    "start_time": "2023-11-04T11:10:42.163Z"
   },
   {
    "duration": 14,
    "start_time": "2023-11-04T11:10:42.237Z"
   },
   {
    "duration": 8,
    "start_time": "2023-11-04T11:10:42.253Z"
   },
   {
    "duration": 21,
    "start_time": "2023-11-04T11:10:42.263Z"
   },
   {
    "duration": 52,
    "start_time": "2023-11-04T11:10:42.286Z"
   },
   {
    "duration": 16,
    "start_time": "2023-11-04T11:10:42.339Z"
   },
   {
    "duration": 10,
    "start_time": "2023-11-04T11:10:42.356Z"
   },
   {
    "duration": 18,
    "start_time": "2023-11-04T11:10:42.367Z"
   },
   {
    "duration": 35,
    "start_time": "2023-11-04T11:10:42.387Z"
   },
   {
    "duration": 8,
    "start_time": "2023-11-04T11:10:42.423Z"
   },
   {
    "duration": 11,
    "start_time": "2023-11-04T11:10:42.433Z"
   },
   {
    "duration": 6,
    "start_time": "2023-11-04T11:10:42.446Z"
   },
   {
    "duration": 11,
    "start_time": "2023-11-04T11:10:42.453Z"
   },
   {
    "duration": 4,
    "start_time": "2023-11-04T11:10:42.466Z"
   },
   {
    "duration": 92,
    "start_time": "2023-11-04T11:10:42.472Z"
   },
   {
    "duration": 300,
    "start_time": "2023-11-04T11:10:42.566Z"
   },
   {
    "duration": 8,
    "start_time": "2023-11-04T11:10:42.868Z"
   },
   {
    "duration": 328,
    "start_time": "2023-11-04T11:10:42.877Z"
   },
   {
    "duration": 15,
    "start_time": "2023-11-04T11:10:43.207Z"
   },
   {
    "duration": 11,
    "start_time": "2023-11-04T11:10:43.224Z"
   },
   {
    "duration": 1277,
    "start_time": "2023-11-04T11:10:43.237Z"
   },
   {
    "duration": 24,
    "start_time": "2023-11-04T11:10:44.516Z"
   },
   {
    "duration": 8,
    "start_time": "2023-11-04T11:10:44.542Z"
   },
   {
    "duration": 4,
    "start_time": "2023-11-04T11:10:44.552Z"
   },
   {
    "duration": 1871,
    "start_time": "2023-11-04T11:10:44.558Z"
   },
   {
    "duration": 632,
    "start_time": "2023-11-04T11:10:46.430Z"
   },
   {
    "duration": 371,
    "start_time": "2023-11-04T11:10:47.066Z"
   },
   {
    "duration": 1363,
    "start_time": "2023-11-04T11:10:47.439Z"
   },
   {
    "duration": 257,
    "start_time": "2023-11-04T11:10:48.807Z"
   },
   {
    "duration": 14,
    "start_time": "2023-11-04T11:10:49.065Z"
   },
   {
    "duration": 253,
    "start_time": "2023-11-04T11:10:49.081Z"
   },
   {
    "duration": 270,
    "start_time": "2023-11-04T11:10:49.336Z"
   },
   {
    "duration": 593,
    "start_time": "2023-11-04T11:10:49.609Z"
   },
   {
    "duration": 9,
    "start_time": "2023-11-04T11:10:50.206Z"
   },
   {
    "duration": 27,
    "start_time": "2023-11-04T11:10:50.216Z"
   },
   {
    "duration": 25,
    "start_time": "2023-11-04T11:10:50.244Z"
   },
   {
    "duration": 35,
    "start_time": "2023-11-04T11:10:50.271Z"
   },
   {
    "duration": 37,
    "start_time": "2023-11-04T11:10:50.307Z"
   },
   {
    "duration": 25,
    "start_time": "2023-11-04T11:10:50.345Z"
   },
   {
    "duration": 1197,
    "start_time": "2023-11-04T14:29:12.139Z"
   },
   {
    "duration": 80,
    "start_time": "2023-11-04T14:29:13.338Z"
   },
   {
    "duration": 15,
    "start_time": "2023-11-04T14:29:13.420Z"
   },
   {
    "duration": 3,
    "start_time": "2023-11-04T14:29:13.438Z"
   },
   {
    "duration": 25,
    "start_time": "2023-11-04T14:29:13.443Z"
   },
   {
    "duration": 54,
    "start_time": "2023-11-04T14:29:13.470Z"
   },
   {
    "duration": 27,
    "start_time": "2023-11-04T14:29:13.526Z"
   },
   {
    "duration": 20,
    "start_time": "2023-11-04T14:29:13.555Z"
   },
   {
    "duration": 18,
    "start_time": "2023-11-04T14:29:13.577Z"
   },
   {
    "duration": 18,
    "start_time": "2023-11-04T14:29:13.598Z"
   },
   {
    "duration": 31,
    "start_time": "2023-11-04T14:29:13.618Z"
   },
   {
    "duration": 7,
    "start_time": "2023-11-04T14:29:13.651Z"
   },
   {
    "duration": 6,
    "start_time": "2023-11-04T14:29:13.663Z"
   },
   {
    "duration": 8,
    "start_time": "2023-11-04T14:29:13.671Z"
   },
   {
    "duration": 5,
    "start_time": "2023-11-04T14:29:13.681Z"
   },
   {
    "duration": 136,
    "start_time": "2023-11-04T14:29:13.688Z"
   },
   {
    "duration": 348,
    "start_time": "2023-11-04T14:29:13.827Z"
   },
   {
    "duration": 8,
    "start_time": "2023-11-04T14:29:14.177Z"
   },
   {
    "duration": 389,
    "start_time": "2023-11-04T14:29:14.187Z"
   },
   {
    "duration": 18,
    "start_time": "2023-11-04T14:29:14.578Z"
   },
   {
    "duration": 7,
    "start_time": "2023-11-04T14:29:14.599Z"
   },
   {
    "duration": 1561,
    "start_time": "2023-11-04T14:29:14.609Z"
   },
   {
    "duration": 34,
    "start_time": "2023-11-04T14:29:16.173Z"
   },
   {
    "duration": 52,
    "start_time": "2023-11-04T14:29:16.209Z"
   },
   {
    "duration": 312,
    "start_time": "2023-11-04T14:29:16.263Z"
   },
   {
    "duration": 1887,
    "start_time": "2023-11-04T14:29:16.576Z"
   },
   {
    "duration": 532,
    "start_time": "2023-11-04T14:29:18.465Z"
   },
   {
    "duration": 375,
    "start_time": "2023-11-04T14:29:19.000Z"
   },
   {
    "duration": 1525,
    "start_time": "2023-11-04T14:29:19.376Z"
   },
   {
    "duration": 291,
    "start_time": "2023-11-04T14:29:20.903Z"
   },
   {
    "duration": 14,
    "start_time": "2023-11-04T14:29:21.196Z"
   },
   {
    "duration": 280,
    "start_time": "2023-11-04T14:29:21.211Z"
   },
   {
    "duration": 287,
    "start_time": "2023-11-04T14:29:21.493Z"
   },
   {
    "duration": 628,
    "start_time": "2023-11-04T14:29:21.781Z"
   },
   {
    "duration": 9,
    "start_time": "2023-11-04T14:29:22.411Z"
   },
   {
    "duration": 11,
    "start_time": "2023-11-04T14:29:22.421Z"
   },
   {
    "duration": 17,
    "start_time": "2023-11-04T14:29:22.433Z"
   },
   {
    "duration": 9,
    "start_time": "2023-11-04T14:29:22.456Z"
   },
   {
    "duration": 25,
    "start_time": "2023-11-04T14:29:22.467Z"
   },
   {
    "duration": 11,
    "start_time": "2023-11-04T14:29:22.493Z"
   },
   {
    "duration": 5,
    "start_time": "2023-11-04T15:18:45.494Z"
   },
   {
    "duration": 5,
    "start_time": "2023-11-04T15:18:59.969Z"
   },
   {
    "duration": 49,
    "start_time": "2024-05-15T06:57:20.495Z"
   },
   {
    "duration": 1128,
    "start_time": "2024-05-15T11:22:07.472Z"
   },
   {
    "duration": 201,
    "start_time": "2024-05-15T11:22:08.602Z"
   },
   {
    "duration": 11,
    "start_time": "2024-05-15T11:22:08.804Z"
   },
   {
    "duration": 4,
    "start_time": "2024-05-15T11:22:08.817Z"
   },
   {
    "duration": 13,
    "start_time": "2024-05-15T11:22:08.822Z"
   },
   {
    "duration": 49,
    "start_time": "2024-05-15T11:22:08.836Z"
   },
   {
    "duration": 14,
    "start_time": "2024-05-15T11:22:08.886Z"
   },
   {
    "duration": 7,
    "start_time": "2024-05-15T11:22:08.901Z"
   },
   {
    "duration": 15,
    "start_time": "2024-05-15T11:22:08.909Z"
   },
   {
    "duration": 13,
    "start_time": "2024-05-15T11:22:08.926Z"
   },
   {
    "duration": 6,
    "start_time": "2024-05-15T11:22:08.940Z"
   },
   {
    "duration": 4,
    "start_time": "2024-05-15T11:22:08.948Z"
   },
   {
    "duration": 34,
    "start_time": "2024-05-15T11:22:08.953Z"
   },
   {
    "duration": 4,
    "start_time": "2024-05-15T11:22:08.988Z"
   },
   {
    "duration": 19,
    "start_time": "2024-05-15T11:22:08.993Z"
   },
   {
    "duration": 78,
    "start_time": "2024-05-15T11:22:09.013Z"
   },
   {
    "duration": 266,
    "start_time": "2024-05-15T11:22:09.092Z"
   },
   {
    "duration": 7,
    "start_time": "2024-05-15T11:22:09.359Z"
   },
   {
    "duration": 286,
    "start_time": "2024-05-15T11:22:09.368Z"
   },
   {
    "duration": 12,
    "start_time": "2024-05-15T11:22:09.655Z"
   },
   {
    "duration": 6,
    "start_time": "2024-05-15T11:22:09.668Z"
   },
   {
    "duration": 1074,
    "start_time": "2024-05-15T11:22:09.675Z"
   },
   {
    "duration": 20,
    "start_time": "2024-05-15T11:22:10.750Z"
   },
   {
    "duration": 17,
    "start_time": "2024-05-15T11:22:10.771Z"
   },
   {
    "duration": 11,
    "start_time": "2024-05-15T11:22:10.789Z"
   },
   {
    "duration": 1501,
    "start_time": "2024-05-15T11:22:10.801Z"
   },
   {
    "duration": 413,
    "start_time": "2024-05-15T11:22:12.303Z"
   },
   {
    "duration": 318,
    "start_time": "2024-05-15T11:22:12.719Z"
   },
   {
    "duration": 1171,
    "start_time": "2024-05-15T11:22:13.039Z"
   },
   {
    "duration": 219,
    "start_time": "2024-05-15T11:22:14.211Z"
   },
   {
    "duration": 11,
    "start_time": "2024-05-15T11:22:14.431Z"
   },
   {
    "duration": 211,
    "start_time": "2024-05-15T11:22:14.443Z"
   },
   {
    "duration": 212,
    "start_time": "2024-05-15T11:22:14.656Z"
   },
   {
    "duration": 475,
    "start_time": "2024-05-15T11:22:14.870Z"
   },
   {
    "duration": 9,
    "start_time": "2024-05-15T11:22:15.347Z"
   },
   {
    "duration": 17,
    "start_time": "2024-05-15T11:22:15.357Z"
   },
   {
    "duration": 22,
    "start_time": "2024-05-15T11:22:15.375Z"
   },
   {
    "duration": 14,
    "start_time": "2024-05-15T11:22:15.398Z"
   },
   {
    "duration": 6,
    "start_time": "2024-05-15T11:22:15.414Z"
   },
   {
    "duration": 27,
    "start_time": "2024-05-15T11:22:15.421Z"
   },
   {
    "duration": 12,
    "start_time": "2024-05-15T11:22:15.449Z"
   },
   {
    "duration": 60,
    "start_time": "2024-05-15T13:55:41.441Z"
   },
   {
    "duration": 2008,
    "start_time": "2024-05-15T13:55:47.314Z"
   },
   {
    "duration": 217,
    "start_time": "2024-05-15T13:55:49.324Z"
   },
   {
    "duration": 60,
    "start_time": "2024-05-15T13:55:49.543Z"
   },
   {
    "duration": 34,
    "start_time": "2024-05-15T13:55:49.605Z"
   },
   {
    "duration": 66,
    "start_time": "2024-05-15T13:55:49.641Z"
   },
   {
    "duration": 120,
    "start_time": "2024-05-15T13:55:49.709Z"
   },
   {
    "duration": 21,
    "start_time": "2024-05-15T13:55:49.831Z"
   },
   {
    "duration": 45,
    "start_time": "2024-05-15T13:55:49.854Z"
   },
   {
    "duration": 47,
    "start_time": "2024-05-15T13:55:49.901Z"
   },
   {
    "duration": 46,
    "start_time": "2024-05-15T13:55:49.951Z"
   },
   {
    "duration": 14,
    "start_time": "2024-05-15T13:55:49.999Z"
   },
   {
    "duration": 43,
    "start_time": "2024-05-15T13:55:50.015Z"
   },
   {
    "duration": 37,
    "start_time": "2024-05-15T13:55:50.060Z"
   },
   {
    "duration": 46,
    "start_time": "2024-05-15T13:55:50.099Z"
   },
   {
    "duration": 67,
    "start_time": "2024-05-15T13:55:50.146Z"
   },
   {
    "duration": 103,
    "start_time": "2024-05-15T13:55:50.215Z"
   },
   {
    "duration": 378,
    "start_time": "2024-05-15T13:55:50.319Z"
   },
   {
    "duration": 9,
    "start_time": "2024-05-15T13:55:50.699Z"
   },
   {
    "duration": 381,
    "start_time": "2024-05-15T13:55:50.710Z"
   },
   {
    "duration": 15,
    "start_time": "2024-05-15T13:55:51.093Z"
   },
   {
    "duration": 18,
    "start_time": "2024-05-15T13:55:51.110Z"
   },
   {
    "duration": 1486,
    "start_time": "2024-05-15T13:55:51.129Z"
   },
   {
    "duration": 27,
    "start_time": "2024-05-15T13:55:52.617Z"
   },
   {
    "duration": 9,
    "start_time": "2024-05-15T13:55:52.646Z"
   },
   {
    "duration": 10,
    "start_time": "2024-05-15T13:55:52.657Z"
   },
   {
    "duration": 1932,
    "start_time": "2024-05-15T13:55:52.668Z"
   },
   {
    "duration": 616,
    "start_time": "2024-05-15T13:55:54.602Z"
   },
   {
    "duration": 414,
    "start_time": "2024-05-15T13:55:55.223Z"
   },
   {
    "duration": 1655,
    "start_time": "2024-05-15T13:55:55.640Z"
   },
   {
    "duration": 290,
    "start_time": "2024-05-15T13:55:57.297Z"
   },
   {
    "duration": 20,
    "start_time": "2024-05-15T13:55:57.591Z"
   },
   {
    "duration": 318,
    "start_time": "2024-05-15T13:55:57.613Z"
   },
   {
    "duration": 335,
    "start_time": "2024-05-15T13:55:57.933Z"
   },
   {
    "duration": 652,
    "start_time": "2024-05-15T13:55:58.269Z"
   },
   {
    "duration": 9,
    "start_time": "2024-05-15T13:55:58.923Z"
   },
   {
    "duration": 23,
    "start_time": "2024-05-15T13:55:58.934Z"
   },
   {
    "duration": 11,
    "start_time": "2024-05-15T13:55:58.958Z"
   },
   {
    "duration": 10,
    "start_time": "2024-05-15T13:55:58.971Z"
   },
   {
    "duration": 4,
    "start_time": "2024-05-15T13:55:58.992Z"
   },
   {
    "duration": 24,
    "start_time": "2024-05-15T13:55:58.997Z"
   },
   {
    "duration": 49,
    "start_time": "2024-05-15T13:55:59.023Z"
   },
   {
    "duration": 380,
    "start_time": "2024-05-15T13:58:22.220Z"
   },
   {
    "duration": 270,
    "start_time": "2024-05-15T13:58:26.513Z"
   },
   {
    "duration": 1323,
    "start_time": "2024-06-01T15:55:29.791Z"
   },
   {
    "duration": 203,
    "start_time": "2024-06-01T15:55:31.166Z"
   },
   {
    "duration": 18,
    "start_time": "2024-06-01T15:55:31.370Z"
   },
   {
    "duration": 77,
    "start_time": "2024-06-01T15:55:31.391Z"
   },
   {
    "duration": 40,
    "start_time": "2024-06-01T15:55:31.470Z"
   },
   {
    "duration": 167,
    "start_time": "2024-06-01T15:55:31.512Z"
   },
   {
    "duration": 22,
    "start_time": "2024-06-01T15:55:31.680Z"
   },
   {
    "duration": 71,
    "start_time": "2024-06-01T15:55:31.704Z"
   },
   {
    "duration": 34,
    "start_time": "2024-06-01T15:55:31.777Z"
   },
   {
    "duration": 62,
    "start_time": "2024-06-01T15:55:31.815Z"
   },
   {
    "duration": 95,
    "start_time": "2024-06-01T15:55:31.878Z"
   },
   {
    "duration": 22,
    "start_time": "2024-06-01T15:55:31.976Z"
   },
   {
    "duration": 69,
    "start_time": "2024-06-01T15:55:32.000Z"
   },
   {
    "duration": 21,
    "start_time": "2024-06-01T15:55:32.071Z"
   },
   {
    "duration": 13,
    "start_time": "2024-06-01T15:55:32.094Z"
   },
   {
    "duration": 111,
    "start_time": "2024-06-01T15:55:32.109Z"
   },
   {
    "duration": 326,
    "start_time": "2024-06-01T15:55:32.221Z"
   },
   {
    "duration": 15,
    "start_time": "2024-06-01T15:55:32.550Z"
   },
   {
    "duration": 366,
    "start_time": "2024-06-01T15:55:32.567Z"
   },
   {
    "duration": 17,
    "start_time": "2024-06-01T15:55:32.934Z"
   },
   {
    "duration": 14,
    "start_time": "2024-06-01T15:55:32.952Z"
   },
   {
    "duration": 1269,
    "start_time": "2024-06-01T15:55:32.967Z"
   },
   {
    "duration": 34,
    "start_time": "2024-06-01T15:55:34.238Z"
   },
   {
    "duration": 8,
    "start_time": "2024-06-01T15:55:34.273Z"
   },
   {
    "duration": 5,
    "start_time": "2024-06-01T15:55:34.283Z"
   },
   {
    "duration": 1919,
    "start_time": "2024-06-01T15:55:34.290Z"
   },
   {
    "duration": 556,
    "start_time": "2024-06-01T15:55:36.211Z"
   },
   {
    "duration": 341,
    "start_time": "2024-06-01T15:55:36.771Z"
   },
   {
    "duration": 1420,
    "start_time": "2024-06-01T15:55:37.114Z"
   },
   {
    "duration": 250,
    "start_time": "2024-06-01T15:55:38.536Z"
   },
   {
    "duration": 13,
    "start_time": "2024-06-01T15:55:38.787Z"
   },
   {
    "duration": 286,
    "start_time": "2024-06-01T15:55:38.802Z"
   },
   {
    "duration": 271,
    "start_time": "2024-06-01T15:55:39.089Z"
   },
   {
    "duration": 658,
    "start_time": "2024-06-01T15:55:39.362Z"
   },
   {
    "duration": 9,
    "start_time": "2024-06-01T15:55:40.022Z"
   },
   {
    "duration": 11,
    "start_time": "2024-06-01T15:55:40.033Z"
   },
   {
    "duration": 22,
    "start_time": "2024-06-01T15:55:40.046Z"
   },
   {
    "duration": 9,
    "start_time": "2024-06-01T15:55:40.069Z"
   },
   {
    "duration": 6,
    "start_time": "2024-06-01T15:55:40.079Z"
   },
   {
    "duration": 11,
    "start_time": "2024-06-01T15:55:40.087Z"
   },
   {
    "duration": 8,
    "start_time": "2024-06-01T15:55:40.099Z"
   },
   {
    "duration": 262,
    "start_time": "2024-06-01T15:56:08.592Z"
   },
   {
    "duration": 253,
    "start_time": "2024-06-01T15:56:33.558Z"
   },
   {
    "duration": 8,
    "start_time": "2024-06-01T15:58:46.709Z"
   },
   {
    "duration": 6,
    "start_time": "2024-06-01T15:59:06.466Z"
   },
   {
    "duration": 7,
    "start_time": "2024-06-01T15:59:07.083Z"
   },
   {
    "duration": 1155,
    "start_time": "2024-06-01T16:01:05.089Z"
   },
   {
    "duration": 71,
    "start_time": "2024-06-01T16:01:06.246Z"
   },
   {
    "duration": 14,
    "start_time": "2024-06-01T16:01:06.319Z"
   },
   {
    "duration": 15,
    "start_time": "2024-06-01T16:01:06.335Z"
   },
   {
    "duration": 44,
    "start_time": "2024-06-01T16:01:06.352Z"
   },
   {
    "duration": 68,
    "start_time": "2024-06-01T16:01:06.398Z"
   },
   {
    "duration": 17,
    "start_time": "2024-06-01T16:01:06.468Z"
   },
   {
    "duration": 13,
    "start_time": "2024-06-01T16:01:06.486Z"
   },
   {
    "duration": 18,
    "start_time": "2024-06-01T16:01:06.500Z"
   },
   {
    "duration": 16,
    "start_time": "2024-06-01T16:01:06.521Z"
   },
   {
    "duration": 10,
    "start_time": "2024-06-01T16:01:06.564Z"
   },
   {
    "duration": 9,
    "start_time": "2024-06-01T16:01:06.575Z"
   },
   {
    "duration": 7,
    "start_time": "2024-06-01T16:01:06.586Z"
   },
   {
    "duration": 7,
    "start_time": "2024-06-01T16:01:06.595Z"
   },
   {
    "duration": 13,
    "start_time": "2024-06-01T16:01:06.604Z"
   },
   {
    "duration": 115,
    "start_time": "2024-06-01T16:01:06.619Z"
   },
   {
    "duration": 323,
    "start_time": "2024-06-01T16:01:06.737Z"
   },
   {
    "duration": 8,
    "start_time": "2024-06-01T16:01:07.063Z"
   },
   {
    "duration": 317,
    "start_time": "2024-06-01T16:01:07.073Z"
   },
   {
    "duration": 14,
    "start_time": "2024-06-01T16:01:07.391Z"
   },
   {
    "duration": 35,
    "start_time": "2024-06-01T16:01:07.407Z"
   },
   {
    "duration": 1324,
    "start_time": "2024-06-01T16:01:07.444Z"
   },
   {
    "duration": 24,
    "start_time": "2024-06-01T16:01:08.769Z"
   },
   {
    "duration": 8,
    "start_time": "2024-06-01T16:01:08.795Z"
   },
   {
    "duration": 4,
    "start_time": "2024-06-01T16:01:08.804Z"
   },
   {
    "duration": 2091,
    "start_time": "2024-06-01T16:01:08.810Z"
   },
   {
    "duration": 509,
    "start_time": "2024-06-01T16:01:10.902Z"
   },
   {
    "duration": 362,
    "start_time": "2024-06-01T16:01:11.415Z"
   },
   {
    "duration": 1498,
    "start_time": "2024-06-01T16:01:11.779Z"
   },
   {
    "duration": 279,
    "start_time": "2024-06-01T16:01:13.279Z"
   },
   {
    "duration": 21,
    "start_time": "2024-06-01T16:01:13.567Z"
   },
   {
    "duration": 288,
    "start_time": "2024-06-01T16:01:13.590Z"
   },
   {
    "duration": 265,
    "start_time": "2024-06-01T16:01:13.880Z"
   },
   {
    "duration": 562,
    "start_time": "2024-06-01T16:01:14.146Z"
   },
   {
    "duration": 8,
    "start_time": "2024-06-01T16:01:14.710Z"
   },
   {
    "duration": 6,
    "start_time": "2024-06-01T16:01:14.720Z"
   },
   {
    "duration": 5,
    "start_time": "2024-06-01T16:01:14.727Z"
   },
   {
    "duration": 37,
    "start_time": "2024-06-01T16:01:14.734Z"
   },
   {
    "duration": 6,
    "start_time": "2024-06-01T16:01:14.773Z"
   },
   {
    "duration": 9,
    "start_time": "2024-06-01T16:01:14.781Z"
   },
   {
    "duration": 4,
    "start_time": "2024-06-01T16:01:14.792Z"
   }
  ],
  "kernelspec": {
   "display_name": "Python 3 (ipykernel)",
   "language": "python",
   "name": "python3"
  },
  "language_info": {
   "codemirror_mode": {
    "name": "ipython",
    "version": 3
   },
   "file_extension": ".py",
   "mimetype": "text/x-python",
   "name": "python",
   "nbconvert_exporter": "python",
   "pygments_lexer": "ipython3",
   "version": "3.11.4"
  },
  "toc": {
   "base_numbering": 1,
   "nav_menu": {},
   "number_sections": true,
   "sideBar": true,
   "skip_h1_title": true,
   "title_cell": "Table of Contents",
   "title_sidebar": "Contents",
   "toc_cell": false,
   "toc_position": {
    "height": "706px",
    "left": "32px",
    "top": "111.125px",
    "width": "474.016px"
   },
   "toc_section_display": true,
   "toc_window_display": true
  }
 },
 "nbformat": 4,
 "nbformat_minor": 2
}
