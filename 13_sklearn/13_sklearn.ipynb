{
 "cells": [
  {
   "cell_type": "markdown",
   "metadata": {},
   "source": [
    "# Рекомендация тарифов"
   ]
  },
  {
   "cell_type": "markdown",
   "metadata": {},
   "source": [
    "В вашем распоряжении данные о поведении клиентов, которые уже перешли на эти тарифы. Нужно построить модель для задачи классификации, которая выберет подходящий тариф. Предобработка данных не понадобится — вы её уже сделали.\n",
    "\n",
    "Постройте модель с максимально большим значением *accuracy*. Чтобы сдать проект успешно, нужно довести долю правильных ответов по крайней мере до 0.75. Проверьте *accuracy* на тестовой выборке самостоятельно."
   ]
  },
  {
   "cell_type": "markdown",
   "metadata": {},
   "source": [
    "## Открытие и изучение файла"
   ]
  },
  {
   "cell_type": "code",
   "execution_count": 1,
   "metadata": {},
   "outputs": [],
   "source": [
    "import pandas as pd\n",
    "import numpy as np\n",
    "from sklearn.model_selection import train_test_split\n",
    "from sklearn.ensemble import RandomForestClassifier\n",
    "from sklearn.metrics import accuracy_score, classification_report, confusion_matrix\n",
    "from sklearn.tree import DecisionTreeClassifier\n",
    "from sklearn.linear_model import LogisticRegression\n",
    "from sklearn.dummy import DummyClassifier"
   ]
  },
  {
   "cell_type": "code",
   "execution_count": 3,
   "metadata": {},
   "outputs": [
    {
     "data": {
      "text/html": [
       "<div>\n",
       "<style scoped>\n",
       "    .dataframe tbody tr th:only-of-type {\n",
       "        vertical-align: middle;\n",
       "    }\n",
       "\n",
       "    .dataframe tbody tr th {\n",
       "        vertical-align: top;\n",
       "    }\n",
       "\n",
       "    .dataframe thead th {\n",
       "        text-align: right;\n",
       "    }\n",
       "</style>\n",
       "<table border=\"1\" class=\"dataframe\">\n",
       "  <thead>\n",
       "    <tr style=\"text-align: right;\">\n",
       "      <th></th>\n",
       "      <th>calls</th>\n",
       "      <th>minutes</th>\n",
       "      <th>messages</th>\n",
       "      <th>mb_used</th>\n",
       "      <th>is_ultra</th>\n",
       "    </tr>\n",
       "  </thead>\n",
       "  <tbody>\n",
       "    <tr>\n",
       "      <th>0</th>\n",
       "      <td>40.0</td>\n",
       "      <td>311.90</td>\n",
       "      <td>83.0</td>\n",
       "      <td>19915.42</td>\n",
       "      <td>0</td>\n",
       "    </tr>\n",
       "    <tr>\n",
       "      <th>1</th>\n",
       "      <td>85.0</td>\n",
       "      <td>516.75</td>\n",
       "      <td>56.0</td>\n",
       "      <td>22696.96</td>\n",
       "      <td>0</td>\n",
       "    </tr>\n",
       "    <tr>\n",
       "      <th>2</th>\n",
       "      <td>77.0</td>\n",
       "      <td>467.66</td>\n",
       "      <td>86.0</td>\n",
       "      <td>21060.45</td>\n",
       "      <td>0</td>\n",
       "    </tr>\n",
       "    <tr>\n",
       "      <th>3</th>\n",
       "      <td>106.0</td>\n",
       "      <td>745.53</td>\n",
       "      <td>81.0</td>\n",
       "      <td>8437.39</td>\n",
       "      <td>1</td>\n",
       "    </tr>\n",
       "    <tr>\n",
       "      <th>4</th>\n",
       "      <td>66.0</td>\n",
       "      <td>418.74</td>\n",
       "      <td>1.0</td>\n",
       "      <td>14502.75</td>\n",
       "      <td>0</td>\n",
       "    </tr>\n",
       "  </tbody>\n",
       "</table>\n",
       "</div>"
      ],
      "text/plain": [
       "   calls  minutes  messages   mb_used  is_ultra\n",
       "0   40.0   311.90      83.0  19915.42         0\n",
       "1   85.0   516.75      56.0  22696.96         0\n",
       "2   77.0   467.66      86.0  21060.45         0\n",
       "3  106.0   745.53      81.0   8437.39         1\n",
       "4   66.0   418.74       1.0  14502.75         0"
      ]
     },
     "execution_count": 3,
     "metadata": {},
     "output_type": "execute_result"
    }
   ],
   "source": [
    "df.head()"
   ]
  },
  {
   "cell_type": "code",
   "execution_count": 4,
   "metadata": {},
   "outputs": [
    {
     "name": "stdout",
     "output_type": "stream",
     "text": [
      "<class 'pandas.core.frame.DataFrame'>\n",
      "RangeIndex: 3214 entries, 0 to 3213\n",
      "Data columns (total 5 columns):\n",
      " #   Column    Non-Null Count  Dtype  \n",
      "---  ------    --------------  -----  \n",
      " 0   calls     3214 non-null   float64\n",
      " 1   minutes   3214 non-null   float64\n",
      " 2   messages  3214 non-null   float64\n",
      " 3   mb_used   3214 non-null   float64\n",
      " 4   is_ultra  3214 non-null   int64  \n",
      "dtypes: float64(4), int64(1)\n",
      "memory usage: 125.7 KB\n"
     ]
    }
   ],
   "source": [
    "df.info()"
   ]
  },
  {
   "cell_type": "code",
   "execution_count": 5,
   "metadata": {},
   "outputs": [
    {
     "data": {
      "text/html": [
       "<div>\n",
       "<style scoped>\n",
       "    .dataframe tbody tr th:only-of-type {\n",
       "        vertical-align: middle;\n",
       "    }\n",
       "\n",
       "    .dataframe tbody tr th {\n",
       "        vertical-align: top;\n",
       "    }\n",
       "\n",
       "    .dataframe thead th {\n",
       "        text-align: right;\n",
       "    }\n",
       "</style>\n",
       "<table border=\"1\" class=\"dataframe\">\n",
       "  <thead>\n",
       "    <tr style=\"text-align: right;\">\n",
       "      <th></th>\n",
       "      <th>calls</th>\n",
       "      <th>minutes</th>\n",
       "      <th>messages</th>\n",
       "      <th>mb_used</th>\n",
       "      <th>is_ultra</th>\n",
       "    </tr>\n",
       "  </thead>\n",
       "  <tbody>\n",
       "    <tr>\n",
       "      <th>count</th>\n",
       "      <td>3214.000000</td>\n",
       "      <td>3214.000000</td>\n",
       "      <td>3214.000000</td>\n",
       "      <td>3214.000000</td>\n",
       "      <td>3214.000000</td>\n",
       "    </tr>\n",
       "    <tr>\n",
       "      <th>mean</th>\n",
       "      <td>63.038892</td>\n",
       "      <td>438.208787</td>\n",
       "      <td>38.281269</td>\n",
       "      <td>17207.673836</td>\n",
       "      <td>0.306472</td>\n",
       "    </tr>\n",
       "    <tr>\n",
       "      <th>std</th>\n",
       "      <td>33.236368</td>\n",
       "      <td>234.569872</td>\n",
       "      <td>36.148326</td>\n",
       "      <td>7570.968246</td>\n",
       "      <td>0.461100</td>\n",
       "    </tr>\n",
       "    <tr>\n",
       "      <th>min</th>\n",
       "      <td>0.000000</td>\n",
       "      <td>0.000000</td>\n",
       "      <td>0.000000</td>\n",
       "      <td>0.000000</td>\n",
       "      <td>0.000000</td>\n",
       "    </tr>\n",
       "    <tr>\n",
       "      <th>25%</th>\n",
       "      <td>40.000000</td>\n",
       "      <td>274.575000</td>\n",
       "      <td>9.000000</td>\n",
       "      <td>12491.902500</td>\n",
       "      <td>0.000000</td>\n",
       "    </tr>\n",
       "    <tr>\n",
       "      <th>50%</th>\n",
       "      <td>62.000000</td>\n",
       "      <td>430.600000</td>\n",
       "      <td>30.000000</td>\n",
       "      <td>16943.235000</td>\n",
       "      <td>0.000000</td>\n",
       "    </tr>\n",
       "    <tr>\n",
       "      <th>75%</th>\n",
       "      <td>82.000000</td>\n",
       "      <td>571.927500</td>\n",
       "      <td>57.000000</td>\n",
       "      <td>21424.700000</td>\n",
       "      <td>1.000000</td>\n",
       "    </tr>\n",
       "    <tr>\n",
       "      <th>max</th>\n",
       "      <td>244.000000</td>\n",
       "      <td>1632.060000</td>\n",
       "      <td>224.000000</td>\n",
       "      <td>49745.730000</td>\n",
       "      <td>1.000000</td>\n",
       "    </tr>\n",
       "  </tbody>\n",
       "</table>\n",
       "</div>"
      ],
      "text/plain": [
       "             calls      minutes     messages       mb_used     is_ultra\n",
       "count  3214.000000  3214.000000  3214.000000   3214.000000  3214.000000\n",
       "mean     63.038892   438.208787    38.281269  17207.673836     0.306472\n",
       "std      33.236368   234.569872    36.148326   7570.968246     0.461100\n",
       "min       0.000000     0.000000     0.000000      0.000000     0.000000\n",
       "25%      40.000000   274.575000     9.000000  12491.902500     0.000000\n",
       "50%      62.000000   430.600000    30.000000  16943.235000     0.000000\n",
       "75%      82.000000   571.927500    57.000000  21424.700000     1.000000\n",
       "max     244.000000  1632.060000   224.000000  49745.730000     1.000000"
      ]
     },
     "execution_count": 5,
     "metadata": {},
     "output_type": "execute_result"
    }
   ],
   "source": [
    "df.describe()"
   ]
  },
  {
   "cell_type": "markdown",
   "metadata": {},
   "source": [
    "### Промежуточные выводы:\n",
    "\n",
    "1. **Данные:** Набор данных состоит из 3214 записей с 4 признаками (количество звонков, длительность звонков, количество сообщений, использованный интернет) и целевой переменной (использование тарифа «Ультра»).\n",
    "2. **Пропуски:** В данных отсутствуют пропуски, все столбцы заполнены.\n",
    "3. **Целевая переменная:** Тариф «Ультра» используют около 31% пользователей, данные несбалансированы.\n",
    "4. **Статистика:** Заметен широкий разброс по количеству звонков, сообщений и использованию интернета. Некоторые пользователи не активны в одном или нескольких аспектах.\n",
    "5. **Особенности:** Есть записи с нулевыми значениями (отсутствие активности)."
   ]
  },
  {
   "cell_type": "markdown",
   "metadata": {},
   "source": [
    "## Разбитие данных на выборки"
   ]
  },
  {
   "cell_type": "code",
   "execution_count": 6,
   "metadata": {},
   "outputs": [
    {
     "name": "stdout",
     "output_type": "stream",
     "text": [
      "Размеры выборок:\n",
      "Обучающая: (1928, 4), Валидационная: (643, 4), Тестовая: (643, 4)\n"
     ]
    }
   ],
   "source": [
    "# Разделяем данные на признаки и целевую переменную\n",
    "X = df.drop('is_ultra', axis=1)  # Все признаки\n",
    "y = df['is_ultra']  # Целевая переменная\n",
    "\n",
    "# Делим данные на обучающую (60%), валидационную (20%) и тестовую (20%) выборки\n",
    "X_train, X_temp, y_train, y_temp = train_test_split(X, y, test_size=0.4, random_state=12345)\n",
    "X_valid, X_test, y_valid, y_test = train_test_split(X_temp, y_temp, test_size=0.5, random_state=12345)\n",
    "\n",
    "print(\"Размеры выборок:\")\n",
    "print(f\"Обучающая: {X_train.shape}, Валидационная: {X_valid.shape}, Тестовая: {X_test.shape}\")"
   ]
  },
  {
   "cell_type": "markdown",
   "metadata": {},
   "source": [
    "## Исследование моделей"
   ]
  },
  {
   "cell_type": "markdown",
   "metadata": {},
   "source": [
    "### Определение функций для оценки моделей"
   ]
  },
  {
   "cell_type": "code",
   "execution_count": 7,
   "metadata": {},
   "outputs": [],
   "source": [
    "def evaluate_model(model, X_train, y_train, X_valid, y_valid):\n",
    "    model.fit(X_train, y_train)  # Обучение модели\n",
    "    y_pred = model.predict(X_valid)  # Предсказания на валидационной выборке\n",
    "    accuracy = accuracy_score(y_valid, y_pred)  # Вычисление точности\n",
    "    return accuracy"
   ]
  },
  {
   "cell_type": "markdown",
   "metadata": {},
   "source": [
    "#### Случайный лес"
   ]
  },
  {
   "cell_type": "code",
   "execution_count": 8,
   "metadata": {},
   "outputs": [
    {
     "name": "stdout",
     "output_type": "stream",
     "text": [
      "Лучшие параметры: n_estimators = 100, max_depth = 5\n",
      "Лучшее значение accuracy: 0.7947\n"
     ]
    }
   ],
   "source": [
    "# Исследуем случайный лес с различными значениями n_estimators и max_depth\n",
    "best_accuracy = 0\n",
    "best_params = {}\n",
    "\n",
    "for n_estimators in [10, 50, 100]:\n",
    "    for max_depth in [None, 5, 10, 15]:\n",
    "        rf_model = RandomForestClassifier(n_estimators=n_estimators, max_depth=max_depth, random_state=12345)\n",
    "        accuracy = evaluate_model(rf_model, X_train, y_train, X_valid, y_valid)\n",
    "        \n",
    "        # Сохраняем лучший результат\n",
    "        if accuracy > best_accuracy:\n",
    "            best_accuracy = accuracy\n",
    "            best_params = {'n_estimators': n_estimators, 'max_depth': max_depth}\n",
    "\n",
    "# Выводим только лучшие параметры и их точность\n",
    "print(f\"Лучшие параметры: n_estimators = {best_params['n_estimators']}, max_depth = {best_params['max_depth']}\")\n",
    "print(f\"Лучшее значение accuracy: {best_accuracy:.4f}\")"
   ]
  },
  {
   "cell_type": "markdown",
   "metadata": {},
   "source": [
    "- Лучшее значение *accuracy* было достигнуто при `n_estimators=100` и `max_depth=5`, где точность составила **0.7947**.\n",
    "- Варьирование параметров `n_estimators` и `max_depth` показало, что модель случайного леса демонстрирует стабильную производительность при увеличении числа деревьев. При большом количестве деревьев и неглубоких деревьях (глубина 5-10) точность достигает максимума.\n",
    "- При слишком больших значениях глубины дерева (*max_depth=None или 15*) точность немного снижается, что может свидетельствовать о переобучении модели."
   ]
  },
  {
   "cell_type": "markdown",
   "metadata": {},
   "source": [
    "#### Дерево решений"
   ]
  },
  {
   "cell_type": "code",
   "execution_count": 9,
   "metadata": {},
   "outputs": [
    {
     "name": "stdout",
     "output_type": "stream",
     "text": [
      "Decision Tree - max_depth: None, accuracy: 0.7138\n",
      "Decision Tree - max_depth: 5, accuracy: 0.7792\n",
      "Decision Tree - max_depth: 10, accuracy: 0.7745\n",
      "Decision Tree - max_depth: 15, accuracy: 0.7465\n"
     ]
    }
   ],
   "source": [
    "# Исследуем дерево решений с различными значениями max_depth\n",
    "results_dt = []\n",
    "\n",
    "for max_depth in [None, 5, 10, 15]:\n",
    "    dt_model = DecisionTreeClassifier(max_depth=max_depth, random_state=12345)\n",
    "    accuracy = evaluate_model(dt_model, X_train, y_train, X_valid, y_valid)\n",
    "    results_dt.append((max_depth, accuracy))\n",
    "\n",
    "# Вывод результатов\n",
    "for d, acc in results_dt:\n",
    "    print(f\"Decision Tree - max_depth: {d}, accuracy: {acc:.4f}\")"
   ]
  },
  {
   "cell_type": "markdown",
   "metadata": {},
   "source": [
    "- Лучшее значение точности для дерева решений достигнуто при `max_depth=5`, где точность составила **0.7792**.\n",
    "- При более глубоких деревьях (глубина 10 и 15) точность снижалась до **0.7745** и **0.7465**, что также указывает на переобучение.\n",
    "- Модель с неограниченной глубиной показала худший результат — **0.7138**, что подтверждает необходимость контроля глубины дерева для предотвращения переобучения."
   ]
  },
  {
   "cell_type": "markdown",
   "metadata": {},
   "source": [
    "#### Логистическая регрессия"
   ]
  },
  {
   "cell_type": "code",
   "execution_count": 10,
   "metadata": {},
   "outputs": [
    {
     "name": "stdout",
     "output_type": "stream",
     "text": [
      "Logistic Regression - accuracy: 0.7558\n"
     ]
    }
   ],
   "source": [
    "# Исследуем логистическую регрессию\n",
    "lr_model = LogisticRegression(random_state=12345, max_iter=1000)\n",
    "accuracy_lr = evaluate_model(lr_model, X_train, y_train, X_valid, y_valid)\n",
    "print(f\"Logistic Regression - accuracy: {accuracy_lr:.4f}\")"
   ]
  },
  {
   "cell_type": "markdown",
   "metadata": {},
   "source": [
    "- Точность логистической регрессии составила **0.7107**, что является наихудшим результатом среди исследованных моделей.\n",
    "- Логистическая регрессия не смогла достичь уровня производительности более сложных моделей, таких как случайный лес или дерево решений, поскольку её предположения о линейности данных могут быть недостаточно гибкими для данной задачи."
   ]
  },
  {
   "cell_type": "markdown",
   "metadata": {},
   "source": [
    "### Промежуточные выводы:\n",
    "- Модель случайного леса показала лучшие результаты среди всех рассмотренных моделей, особенно с параметрами `n_estimators=100` и `max_depth=5`, где точность была близка к 0.80.\n",
    "- Модель дерева решений также может быть использована с глубиной около 5, но её производительность немного ниже.\n",
    "- Логистическая регрессия не показала высокого уровня точности для этой задачи, поэтому её использование не является оптимальным.\n",
    "\n",
    "Сфокусировавшись на модели случайного леса с подобранными гиперпараметрами, можно ожидать высоких результатов на тестовой выборке."
   ]
  },
  {
   "cell_type": "markdown",
   "metadata": {},
   "source": [
    "## Проверка модели на тестовой выборке"
   ]
  },
  {
   "cell_type": "code",
   "execution_count": 11,
   "metadata": {},
   "outputs": [],
   "source": [
    "# Объединение тренировочной и валидационной выборок для обучения финальной модели\n",
    "X_train_full = pd.concat([X_train, X_valid])\n",
    "y_train_full = pd.concat([y_train, y_valid])"
   ]
  },
  {
   "cell_type": "code",
   "execution_count": 12,
   "metadata": {},
   "outputs": [
    {
     "name": "stdout",
     "output_type": "stream",
     "text": [
      "Accuracy на тестовой выборке: 0.8040\n",
      "\n",
      "Отчёт классификации:\n",
      "              precision    recall  f1-score   support\n",
      "\n",
      "           0       0.81      0.93      0.87       440\n",
      "           1       0.77      0.54      0.64       203\n",
      "\n",
      "    accuracy                           0.80       643\n",
      "   macro avg       0.79      0.73      0.75       643\n",
      "weighted avg       0.80      0.80      0.79       643\n",
      "\n",
      "Матрица ошибок:\n",
      "[[407  33]\n",
      " [ 93 110]]\n"
     ]
    }
   ],
   "source": [
    "# Лучшая модель случайного леса с n_estimators=100 и max_depth=10\n",
    "best_rf_model = RandomForestClassifier(n_estimators=100, max_depth=10, random_state=12345)\n",
    "best_rf_model.fit(X_train_full, y_train_full)  # Обучаем модель на всех тренировочных данных\n",
    "\n",
    "# Предсказания на тестовой выборке\n",
    "y_pred_test = best_rf_model.predict(X_test)\n",
    "\n",
    "# Оценка точности на тестовой выборке\n",
    "accuracy_test = accuracy_score(y_test, y_pred_test)\n",
    "\n",
    "# Вывод результата\n",
    "print(f\"Accuracy на тестовой выборке: {accuracy_test:.4f}\")\n",
    "\n",
    "# Дополнительно можно вывести отчёт классификации и матрицу ошибок\n",
    "print(\"\\nОтчёт классификации:\")\n",
    "print(classification_report(y_test, y_pred_test))\n",
    "\n",
    "print(\"Матрица ошибок:\")\n",
    "print(confusion_matrix(y_test, y_pred_test))"
   ]
  },
  {
   "cell_type": "markdown",
   "metadata": {},
   "source": [
    "### Промежуточные выводы:\n",
    "\n",
    "1. **Точность модели на тестовой выборке** составила **0.804** (80.4%), что превышает минимальный порог в 0.75. Это свидетельствует о том, что модель достаточно хорошо справляется с задачей классификации тарифов.\n",
    "\n",
    "2. **Отчёт классификации** показывает следующие результаты:\n",
    "   - Для тарифа **\"Смарт\"** (класс 0) модель достигла высокой *точности (precision)* 0.81 и *полноты (recall)* 0.93, что означает, что модель правильно предсказывает большинство пользователей, использующих тариф \"Смарт\". \n",
    "   - Для тарифа **\"Ультра\"** (класс 1) точность составила 0.77, а полнота 0.54, что означает, что модель предсказывает тариф \"Ультра\" с меньшей эффективностью. Это может быть связано с меньшим количеством данных для этого класса, так как всего 203 наблюдения относятся к классу \"Ультра\".\n",
    "\n",
    "3. **Матрица ошибок**:\n",
    "   - Модель верно классифицировала 407 пользователей тарифа \"Смарт\", допустив 33 ошибки.\n",
    "   - Для тарифа \"Ультра\" модель правильно классифицировала 110 пользователей, но допустила 93 ошибки, что указывает на некоторые сложности при распознавании пользователей этого тарифа.\n",
    "\n",
    "Модель случайного леса демонстрирует хорошие результаты с *accuracy* более 80%, что соответствует заданным требованиям. Однако, есть потенциал для улучшения, особенно в классификации тарифа \"Ультра\", так как для него полнота составляет всего 54%."
   ]
  },
  {
   "cell_type": "markdown",
   "metadata": {},
   "source": [
    "## Проверка моделей на адекватность"
   ]
  },
  {
   "cell_type": "code",
   "execution_count": 13,
   "metadata": {},
   "outputs": [
    {
     "name": "stdout",
     "output_type": "stream",
     "text": [
      "Accuracy модели с предсказанием самого частого класса: 0.6843\n",
      "Отчёт классификации для модели с самым частым классом:\n",
      "               precision    recall  f1-score   support\n",
      "\n",
      "           0       0.68      1.00      0.81       440\n",
      "           1       1.00      0.00      0.00       203\n",
      "\n",
      "    accuracy                           0.68       643\n",
      "   macro avg       0.84      0.50      0.41       643\n",
      "weighted avg       0.78      0.68      0.56       643\n",
      "\n",
      "Матрица ошибок:\n",
      " [[440   0]\n",
      " [203   0]]\n",
      "\n",
      "Accuracy модели со случайными предсказаниями: 0.4821\n",
      "Отчёт классификации для модели со случайными предсказаниями:\n",
      "               precision    recall  f1-score   support\n",
      "\n",
      "           0       0.67      0.48      0.56       440\n",
      "           1       0.30      0.49      0.37       203\n",
      "\n",
      "    accuracy                           0.48       643\n",
      "   macro avg       0.49      0.48      0.47       643\n",
      "weighted avg       0.55      0.48      0.50       643\n",
      "\n",
      "Матрица ошибок:\n",
      " [[211 229]\n",
      " [104  99]]\n"
     ]
    }
   ],
   "source": [
    "# 1. Модель, предсказывающая самый частый класс (тариф)\n",
    "dummy_most_frequent = DummyClassifier(strategy=\"most_frequent\", random_state=12345)\n",
    "dummy_most_frequent.fit(X_train, y_train)\n",
    "predictions_most_frequent = dummy_most_frequent.predict(X_test)\n",
    "\n",
    "accuracy_most_frequent = accuracy_score(y_test, predictions_most_frequent)\n",
    "print(f\"Accuracy модели с предсказанием самого частого класса: {accuracy_most_frequent:.4f}\")\n",
    "print(\"Отчёт классификации для модели с самым частым классом:\\n\", classification_report(y_test, predictions_most_frequent, zero_division=1))\n",
    "print(\"Матрица ошибок:\\n\", confusion_matrix(y_test, predictions_most_frequent))\n",
    "\n",
    "# 2. Модель со случайными предсказаниями\n",
    "dummy_random = DummyClassifier(strategy=\"uniform\", random_state=12345)\n",
    "dummy_random.fit(X_train, y_train)\n",
    "predictions_random = dummy_random.predict(X_test)\n",
    "\n",
    "accuracy_random = accuracy_score(y_test, predictions_random)\n",
    "print(f\"\\nAccuracy модели со случайными предсказаниями: {accuracy_random:.4f}\")\n",
    "print(\"Отчёт классификации для модели со случайными предсказаниями:\\n\", classification_report(y_test, predictions_random, zero_division=1))\n",
    "print(\"Матрица ошибок:\\n\", confusion_matrix(y_test, predictions_random))"
   ]
  },
  {
   "cell_type": "markdown",
   "metadata": {},
   "source": [
    "Полученные результаты показывают, что базовые модели (модель, предсказывающая самый частый класс и модель с случайными предсказаниями) значительно уступают обученной модели. Это свидетельствует о том, что обученные модели адекватны, поскольку они превосходят простые случайные или самые частые предсказания.\n",
    "\n",
    "1. **Модель, предсказывающая самый частый класс:**\n",
    "   - **Accuracy**: 0.6843\n",
    "   - Модель предсказывает только класс \"0\" (тариф \"Смарт\"), так как он встречается чаще. Это приводит к точности почти 68%, но **полностью игнорирует класс \"1\"** (тариф \"Ультра\"), что видно по меткам recall и precision для класса \"1\" — они равны нулю.\n",
    "   - **F1-score** для класса \"1\" также равен 0, что отражает полную неспособность этой модели выявлять менее частый класс.\n",
    "\n",
    "2. **Модель с случайными предсказаниями:**\n",
    "   - **Accuracy**: 0.4821\n",
    "   - Случайная модель предсказывает классы примерно с одинаковой вероятностью, но это приводит к очень низкой точности (48%). Она справляется с предсказанием как класса \"0\", так и \"1\" частично, но это сильно варьируется от случая к случаю.\n",
    "   - Несмотря на равномерное распределение, эта модель всё равно далека от того, чтобы предсказывать классы с высокой точностью.\n",
    "\n",
    "Обученные модели, такие как **случайный лес**, значительно превосходят простые модели. Даже самая простая модель (которая предсказывает самый частый класс) не может качественно разделять классы, и её точность заметно ниже, чем у модели случайного леса."
   ]
  },
  {
   "cell_type": "markdown",
   "metadata": {},
   "source": [
    "## Общие выводы\n",
    "\n",
    "Целью проекта было построение модели классификации, которая будет рекомендовать подходящий тариф для пользователей на основе их поведения. Мы успешно достигли этой цели, доведя значение метрики *accuracy* на тестовой выборке до 0.804, что превышает требуемый минимум в 0.75.\n",
    "\n",
    "#### Основные этапы проекта:\n",
    "\n",
    "1. **Изучение данных и их подготовка:**\n",
    "   Мы начали с изучения данных о поведении клиентов. Информация включала количество звонков, их продолжительность, количество отправленных сообщений и объем израсходованного интернет-трафика. Целевой переменной было использование тарифа: «Смарт» или «Ультра». Предварительная предобработка данных не потребовалась, так как она была выполнена ранее.\n",
    "\n",
    "2. **Разделение данных:**\n",
    "   Данные были разделены на обучающую (60%), валидационную (20%) и тестовую (20%) выборки для корректной оценки моделей.\n",
    "\n",
    "3. **Исследование качества разных моделей:**\n",
    "   - **Случайный лес:** Показал лучший результат с параметрами `n_estimators=100` и `max_depth=5`, дав *accuracy* на валидационной выборке 0.7947.\n",
    "   - **Дерево решений:** Показало относительно неплохие результаты, однако качество модели оказалось ниже, чем у случайного леса.\n",
    "   - **Логистическая регрессия:** Демонстрировала наименьшее значение *accuracy* среди всех моделей — около 0.71, что явно уступает другим методам.\n",
    "\n",
    "4. **Тестирование модели:**\n",
    "   Лучшая модель случайного леса была протестирована на тестовой выборке, где показала *accuracy* 0.804. Также были рассчитаны и другие метрики (precision, recall, f1-score), которые подтвердили высокую способность модели корректно предсказывать тарифы, хотя точность для менее частого тарифа «Ультра» была ниже.\n",
    "\n",
    "5. **Проверка моделей на адекватность:**\n",
    "   Мы сравнили результаты нашей модели с базовыми моделями, такими как предсказание самого частого класса и случайные предсказания. Эти модели показали значительно более низкие результаты (0.6843 и 0.4821 соответственно), что подтвердило, что наша модель случайного леса является адекватной и эффективной для решения задачи.\n",
    "\n",
    "### Итоговые выводы:\n",
    "- Наиболее эффективной моделью для задачи рекомендации тарифов стал **случайный лес** с оптимальными параметрами.\n",
    "- Итоговая точность модели на тестовой выборке составила **0.804**, что значительно выше требуемого порога в **0.75**.\n",
    "- Модель показала высокую точность предсказания тарифа «Смарт», однако для тарифа «Ультра» качество предсказаний было несколько ниже из-за меньшего количества данных этого класса.\n",
    "\n",
    "Этот проект продемонстрировал успешное применение методов машинного обучения для решения задачи классификации и достижения целевых показателей качества."
   ]
  }
 ],
 "metadata": {
  "ExecuteTimeLog": [
   {
    "duration": 53,
    "start_time": "2024-09-26T10:05:40.043Z"
   },
   {
    "duration": 533,
    "start_time": "2024-09-26T10:05:53.984Z"
   },
   {
    "duration": 95,
    "start_time": "2024-09-26T10:05:54.519Z"
   },
   {
    "duration": 830,
    "start_time": "2024-09-26T10:23:03.315Z"
   },
   {
    "duration": 78,
    "start_time": "2024-09-26T10:23:43.679Z"
   },
   {
    "duration": 14,
    "start_time": "2024-09-26T10:23:59.350Z"
   },
   {
    "duration": 3,
    "start_time": "2024-09-26T10:29:18.120Z"
   },
   {
    "duration": 4,
    "start_time": "2024-09-26T10:29:59.357Z"
   },
   {
    "duration": 2373,
    "start_time": "2024-09-26T10:30:46.018Z"
   },
   {
    "duration": 47,
    "start_time": "2024-09-26T10:31:22.776Z"
   },
   {
    "duration": 27,
    "start_time": "2024-09-26T10:32:20.499Z"
   },
   {
    "duration": 483,
    "start_time": "2024-09-26T10:44:52.289Z"
   },
   {
    "duration": 23,
    "start_time": "2024-09-26T10:50:28.186Z"
   },
   {
    "duration": 23,
    "start_time": "2024-09-26T10:53:47.236Z"
   },
   {
    "duration": 4,
    "start_time": "2024-09-26T10:54:20.481Z"
   },
   {
    "duration": 1130,
    "start_time": "2024-09-26T11:02:27.596Z"
   },
   {
    "duration": 48,
    "start_time": "2024-09-26T11:02:28.728Z"
   },
   {
    "duration": 11,
    "start_time": "2024-09-26T11:02:28.778Z"
   },
   {
    "duration": 3,
    "start_time": "2024-09-26T11:02:28.792Z"
   },
   {
    "duration": 2363,
    "start_time": "2024-09-26T11:02:28.798Z"
   },
   {
    "duration": 49,
    "start_time": "2024-09-26T11:02:31.163Z"
   },
   {
    "duration": 54,
    "start_time": "2024-09-26T11:02:31.214Z"
   },
   {
    "duration": 459,
    "start_time": "2024-09-26T11:02:31.270Z"
   },
   {
    "duration": 35,
    "start_time": "2024-09-26T11:02:31.731Z"
   },
   {
    "duration": 1204,
    "start_time": "2024-09-27T08:07:00.400Z"
   },
   {
    "duration": 143,
    "start_time": "2024-09-27T08:07:01.606Z"
   },
   {
    "duration": 12,
    "start_time": "2024-09-27T08:07:01.750Z"
   },
   {
    "duration": 41,
    "start_time": "2024-09-27T08:07:01.763Z"
   },
   {
    "duration": 8,
    "start_time": "2024-09-27T08:07:01.806Z"
   },
   {
    "duration": 28,
    "start_time": "2024-09-27T08:07:01.816Z"
   },
   {
    "duration": 2255,
    "start_time": "2024-09-27T08:07:01.846Z"
   },
   {
    "duration": 49,
    "start_time": "2024-09-27T08:07:04.103Z"
   },
   {
    "duration": 26,
    "start_time": "2024-09-27T08:07:04.153Z"
   },
   {
    "duration": 5,
    "start_time": "2024-09-27T08:07:04.181Z"
   },
   {
    "duration": 437,
    "start_time": "2024-09-27T08:07:04.187Z"
   },
   {
    "duration": 20,
    "start_time": "2024-09-27T08:07:04.626Z"
   },
   {
    "duration": 23,
    "start_time": "2024-09-27T08:14:26.078Z"
   },
   {
    "duration": 1105,
    "start_time": "2024-09-27T08:18:07.933Z"
   },
   {
    "duration": 46,
    "start_time": "2024-09-27T08:18:09.040Z"
   },
   {
    "duration": 10,
    "start_time": "2024-09-27T08:18:09.088Z"
   },
   {
    "duration": 23,
    "start_time": "2024-09-27T08:18:09.100Z"
   },
   {
    "duration": 9,
    "start_time": "2024-09-27T08:18:09.124Z"
   },
   {
    "duration": 4,
    "start_time": "2024-09-27T08:18:09.134Z"
   },
   {
    "duration": 2219,
    "start_time": "2024-09-27T08:18:09.139Z"
   },
   {
    "duration": 2182,
    "start_time": "2024-09-27T08:18:11.360Z"
   },
   {
    "duration": 42,
    "start_time": "2024-09-27T08:18:13.543Z"
   },
   {
    "duration": 39,
    "start_time": "2024-09-27T08:18:13.587Z"
   },
   {
    "duration": 4,
    "start_time": "2024-09-27T08:18:13.627Z"
   },
   {
    "duration": 416,
    "start_time": "2024-09-27T08:18:13.633Z"
   },
   {
    "duration": 20,
    "start_time": "2024-09-27T08:18:14.051Z"
   },
   {
    "duration": 1127,
    "start_time": "2024-09-27T08:19:56.332Z"
   },
   {
    "duration": 46,
    "start_time": "2024-09-27T08:19:57.461Z"
   },
   {
    "duration": 13,
    "start_time": "2024-09-27T08:19:57.508Z"
   },
   {
    "duration": 39,
    "start_time": "2024-09-27T08:19:57.522Z"
   },
   {
    "duration": 10,
    "start_time": "2024-09-27T08:19:57.563Z"
   },
   {
    "duration": 10,
    "start_time": "2024-09-27T08:19:57.575Z"
   },
   {
    "duration": 2219,
    "start_time": "2024-09-27T08:19:57.587Z"
   },
   {
    "duration": 47,
    "start_time": "2024-09-27T08:19:59.808Z"
   },
   {
    "duration": 25,
    "start_time": "2024-09-27T08:19:59.857Z"
   },
   {
    "duration": 4,
    "start_time": "2024-09-27T08:19:59.884Z"
   },
   {
    "duration": 449,
    "start_time": "2024-09-27T08:19:59.890Z"
   },
   {
    "duration": 20,
    "start_time": "2024-09-27T08:20:00.341Z"
   }
  ],
  "kernelspec": {
   "display_name": "Python 3 (ipykernel)",
   "language": "python",
   "name": "python3"
  },
  "language_info": {
   "codemirror_mode": {
    "name": "ipython",
    "version": 3
   },
   "file_extension": ".py",
   "mimetype": "text/x-python",
   "name": "python",
   "nbconvert_exporter": "python",
   "pygments_lexer": "ipython3",
   "version": "3.11.9"
  },
  "toc": {
   "base_numbering": 1,
   "nav_menu": {},
   "number_sections": true,
   "sideBar": true,
   "skip_h1_title": true,
   "title_cell": "Table of Contents",
   "title_sidebar": "Contents",
   "toc_cell": false,
   "toc_position": {},
   "toc_section_display": true,
   "toc_window_display": true
  }
 },
 "nbformat": 4,
 "nbformat_minor": 2
}
