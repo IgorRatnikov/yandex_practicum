{
 "cells": [
  {
   "cell_type": "markdown",
   "metadata": {},
   "source": [
    "# Исследование данных крупного интернет-магазина\n",
    "\n",
    "Вы — аналитик крупного интернет-магазина. Вместе с отделом маркетинга вы подготовили список гипотез для увеличения выручки.\n",
    "Приоритизируйте гипотезы, запустите A/B-тест и проанализируйте результаты. \n",
    "\n",
    "## Описание данных\n",
    "\n",
    "### Данные для первой части\n",
    "\n",
    "Файл `/datasets/hypothesis.csv.` Скачать датасет\n",
    " - `Hypothesis` — краткое описание гипотезы;\n",
    " - `Reach` — охват пользователей по 10-балльной шкале;\n",
    " - `Impact` — влияние на пользователей по 10-балльной шкале;\n",
    " - `Confidence` — уверенность в гипотезе по 10-балльной шкале;\n",
    " - `Efforts` — затраты ресурсов на проверку гипотезы по 10-балльной шкале. Чем больше значение Efforts, тем дороже проверка гипотезы.\n",
    " \n",
    "### Данные для второй части\n",
    "\n",
    "Файл `/datasets/orders.csv.` Скачать датасет\n",
    "\n",
    " - `transactionId` — идентификатор заказа;\n",
    " - `visitorId` — идентификатор пользователя, совершившего заказ;\n",
    " - `date` — дата, когда был совершён заказ;\n",
    " - `revenue` — выручка заказа;\n",
    " - `group` — группа A/B-теста, в которую попал заказ.\n",
    " \n",
    "Файл `/datasets/visitors.csv.` Скачать датасет\n",
    " - `date` — дата;\n",
    " - `group` — группа A/B-теста;\n",
    " - `visitors` — количество пользователей в указанную дату в указанной группе A/B-теста\n",
    " \n",
    "## Часть 1. Приоритизация гипотез.\n",
    "\n",
    "В файле `/datasets/hypothesis.csv` 9 гипотез по увеличению выручки интернет-магазина с указанными параметрами `Reach`, `Impact`, `Confidence`, `Effort`.\n",
    "\n",
    "### Задача\n",
    "\n",
    " - Примените фреймворк `ICE` для приоритизации гипотез. Отсортируйте их по убыванию приоритета.\n",
    " - Примените фреймворк `RICE` для приоритизации гипотез. Отсортируйте их по убыванию приоритета.\n",
    " - Укажите, как изменилась приоритизация гипотез при применении `RICE` вместо `ICE`. Объясните, почему так произошло.\n",
    "\n",
    "## Часть 2. Анализ A/B-теста\n",
    "\n",
    "Вы провели A/B-тест и получили результаты, которые описаны в файлах `/datasets/orders.csv` и `/datasets/visitors.csv`.\n",
    "\n",
    "### Задача\n",
    "\n",
    "Проанализируйте A/B-тест:\n",
    "\n",
    " - Постройте график кумулятивной выручки по группам. Сделайте выводы и предположения.\n",
    " - Постройте график кумулятивного среднего чека по группам. Сделайте выводы и предположения.\n",
    " - Постройте график относительного изменения кумулятивного среднего чека группы B к группе A. Сделайте выводы и предположения.\n",
    " - Постройте график кумулятивного среднего количества заказов на посетителя по группам. Сделайте выводы и предположения.\n",
    " - Постройте график относительного изменения кумулятивного среднего количества заказов на посетителя группы B к группе A. Сделайте выводы и предположения.\n",
    " - Постройте точечный график количества заказов по пользователям. Сделайте выводы и предположения.\n",
    " - Посчитайте 95-й и 99-й перцентили количества заказов на пользователя. Выберите границу для определения аномальных пользователей.\n",
    " - Постройте точечный график стоимостей заказов. Сделайте выводы и предположения.\n",
    " - Посчитайте 95-й и 99-й перцентили стоимости заказов. Выберите границу для определения аномальных заказов.\n",
    " - Посчитайте статистическую значимость различий в среднем количестве заказов на посетителя между группами по «сырым» данным. Сделайте выводы и предположения.\n",
    " - Посчитайте статистическую значимость различий в среднем чеке заказа между группами по «сырым» данным. Сделайте выводы и предположения.\n",
    " - Посчитайте статистическую значимость различий в среднем количестве заказов на посетителя между группами по «очищенным» данным. Сделайте выводы и предположения.\n",
    " - Посчитайте статистическую значимость различий в среднем чеке заказа между группами по «очищенным» данным. Сделайте выводы и предположения.\n",
    " - Примите решение по результатам теста и объясните его. Варианты решений:\n",
    "1. Остановить тест, зафиксировать победу одной из групп.\n",
    "2. Остановить тест, зафиксировать отсутствие различий между группами.\n",
    "3. Продолжить тест."
   ]
  },
  {
   "cell_type": "markdown",
   "metadata": {},
   "source": [
    "#### Шаг 1. Загрузка данных"
   ]
  },
  {
   "cell_type": "code",
   "execution_count": 1,
   "metadata": {},
   "outputs": [],
   "source": [
    "import pandas as pd\n",
    "import datetime as dt\n",
    "import scipy.stats as stats\n",
    "import numpy as np\n",
    "import matplotlib.pyplot as plt\n",
    "from pandas.plotting import register_matplotlib_converters\n",
    "import warnings\n",
    "# конвертеры, которые позволяют использовать типы pandas в matplotlib  \n",
    "register_matplotlib_converters()"
   ]
  },
  {
   "cell_type": "code",
   "execution_count": 2,
   "metadata": {},
   "outputs": [
    {
     "data": {
      "text/html": [
       "<div>\n",
       "<style scoped>\n",
       "    .dataframe tbody tr th:only-of-type {\n",
       "        vertical-align: middle;\n",
       "    }\n",
       "\n",
       "    .dataframe tbody tr th {\n",
       "        vertical-align: top;\n",
       "    }\n",
       "\n",
       "    .dataframe thead th {\n",
       "        text-align: right;\n",
       "    }\n",
       "</style>\n",
       "<table border=\"1\" class=\"dataframe\">\n",
       "  <thead>\n",
       "    <tr style=\"text-align: right;\">\n",
       "      <th></th>\n",
       "      <th>Hypothesis</th>\n",
       "      <th>Reach</th>\n",
       "      <th>Impact</th>\n",
       "      <th>Confidence</th>\n",
       "      <th>Efforts</th>\n",
       "    </tr>\n",
       "  </thead>\n",
       "  <tbody>\n",
       "    <tr>\n",
       "      <th>0</th>\n",
       "      <td>Добавить два новых канала привлечения трафика,...</td>\n",
       "      <td>3</td>\n",
       "      <td>10</td>\n",
       "      <td>8</td>\n",
       "      <td>6</td>\n",
       "    </tr>\n",
       "    <tr>\n",
       "      <th>1</th>\n",
       "      <td>Запустить собственную службу доставки, что сок...</td>\n",
       "      <td>2</td>\n",
       "      <td>5</td>\n",
       "      <td>4</td>\n",
       "      <td>10</td>\n",
       "    </tr>\n",
       "    <tr>\n",
       "      <th>2</th>\n",
       "      <td>Добавить блоки рекомендаций товаров на сайт ин...</td>\n",
       "      <td>8</td>\n",
       "      <td>3</td>\n",
       "      <td>7</td>\n",
       "      <td>3</td>\n",
       "    </tr>\n",
       "    <tr>\n",
       "      <th>3</th>\n",
       "      <td>Изменить структура категорий, что увеличит кон...</td>\n",
       "      <td>8</td>\n",
       "      <td>3</td>\n",
       "      <td>3</td>\n",
       "      <td>8</td>\n",
       "    </tr>\n",
       "    <tr>\n",
       "      <th>4</th>\n",
       "      <td>Изменить цвет фона главной страницы, чтобы уве...</td>\n",
       "      <td>3</td>\n",
       "      <td>1</td>\n",
       "      <td>1</td>\n",
       "      <td>1</td>\n",
       "    </tr>\n",
       "    <tr>\n",
       "      <th>5</th>\n",
       "      <td>Добавить страницу отзывов клиентов о магазине,...</td>\n",
       "      <td>3</td>\n",
       "      <td>2</td>\n",
       "      <td>2</td>\n",
       "      <td>3</td>\n",
       "    </tr>\n",
       "    <tr>\n",
       "      <th>6</th>\n",
       "      <td>Показать на главной странице баннеры с актуаль...</td>\n",
       "      <td>5</td>\n",
       "      <td>3</td>\n",
       "      <td>8</td>\n",
       "      <td>3</td>\n",
       "    </tr>\n",
       "    <tr>\n",
       "      <th>7</th>\n",
       "      <td>Добавить форму подписки на все основные страни...</td>\n",
       "      <td>10</td>\n",
       "      <td>7</td>\n",
       "      <td>8</td>\n",
       "      <td>5</td>\n",
       "    </tr>\n",
       "    <tr>\n",
       "      <th>8</th>\n",
       "      <td>Запустить акцию, дающую скидку на товар в день...</td>\n",
       "      <td>1</td>\n",
       "      <td>9</td>\n",
       "      <td>9</td>\n",
       "      <td>5</td>\n",
       "    </tr>\n",
       "  </tbody>\n",
       "</table>\n",
       "</div>"
      ],
      "text/plain": [
       "                                          Hypothesis  Reach  Impact  \\\n",
       "0  Добавить два новых канала привлечения трафика,...      3      10   \n",
       "1  Запустить собственную службу доставки, что сок...      2       5   \n",
       "2  Добавить блоки рекомендаций товаров на сайт ин...      8       3   \n",
       "3  Изменить структура категорий, что увеличит кон...      8       3   \n",
       "4  Изменить цвет фона главной страницы, чтобы уве...      3       1   \n",
       "5  Добавить страницу отзывов клиентов о магазине,...      3       2   \n",
       "6  Показать на главной странице баннеры с актуаль...      5       3   \n",
       "7  Добавить форму подписки на все основные страни...     10       7   \n",
       "8  Запустить акцию, дающую скидку на товар в день...      1       9   \n",
       "\n",
       "   Confidence  Efforts  \n",
       "0           8        6  \n",
       "1           4       10  \n",
       "2           7        3  \n",
       "3           3        8  \n",
       "4           1        1  \n",
       "5           2        3  \n",
       "6           8        3  \n",
       "7           8        5  \n",
       "8           9        5  "
      ]
     },
     "metadata": {},
     "output_type": "display_data"
    },
    {
     "data": {
      "text/html": [
       "<div>\n",
       "<style scoped>\n",
       "    .dataframe tbody tr th:only-of-type {\n",
       "        vertical-align: middle;\n",
       "    }\n",
       "\n",
       "    .dataframe tbody tr th {\n",
       "        vertical-align: top;\n",
       "    }\n",
       "\n",
       "    .dataframe thead th {\n",
       "        text-align: right;\n",
       "    }\n",
       "</style>\n",
       "<table border=\"1\" class=\"dataframe\">\n",
       "  <thead>\n",
       "    <tr style=\"text-align: right;\">\n",
       "      <th></th>\n",
       "      <th>transactionId</th>\n",
       "      <th>visitorId</th>\n",
       "      <th>date</th>\n",
       "      <th>revenue</th>\n",
       "      <th>group</th>\n",
       "    </tr>\n",
       "  </thead>\n",
       "  <tbody>\n",
       "    <tr>\n",
       "      <th>0</th>\n",
       "      <td>3667963787</td>\n",
       "      <td>3312258926</td>\n",
       "      <td>2019-08-15</td>\n",
       "      <td>1650</td>\n",
       "      <td>B</td>\n",
       "    </tr>\n",
       "    <tr>\n",
       "      <th>1</th>\n",
       "      <td>2804400009</td>\n",
       "      <td>3642806036</td>\n",
       "      <td>2019-08-15</td>\n",
       "      <td>730</td>\n",
       "      <td>B</td>\n",
       "    </tr>\n",
       "    <tr>\n",
       "      <th>2</th>\n",
       "      <td>2961555356</td>\n",
       "      <td>4069496402</td>\n",
       "      <td>2019-08-15</td>\n",
       "      <td>400</td>\n",
       "      <td>A</td>\n",
       "    </tr>\n",
       "    <tr>\n",
       "      <th>3</th>\n",
       "      <td>3797467345</td>\n",
       "      <td>1196621759</td>\n",
       "      <td>2019-08-15</td>\n",
       "      <td>9759</td>\n",
       "      <td>B</td>\n",
       "    </tr>\n",
       "    <tr>\n",
       "      <th>4</th>\n",
       "      <td>2282983706</td>\n",
       "      <td>2322279887</td>\n",
       "      <td>2019-08-15</td>\n",
       "      <td>2308</td>\n",
       "      <td>B</td>\n",
       "    </tr>\n",
       "  </tbody>\n",
       "</table>\n",
       "</div>"
      ],
      "text/plain": [
       "   transactionId   visitorId        date  revenue group\n",
       "0     3667963787  3312258926  2019-08-15     1650     B\n",
       "1     2804400009  3642806036  2019-08-15      730     B\n",
       "2     2961555356  4069496402  2019-08-15      400     A\n",
       "3     3797467345  1196621759  2019-08-15     9759     B\n",
       "4     2282983706  2322279887  2019-08-15     2308     B"
      ]
     },
     "metadata": {},
     "output_type": "display_data"
    },
    {
     "data": {
      "text/html": [
       "<div>\n",
       "<style scoped>\n",
       "    .dataframe tbody tr th:only-of-type {\n",
       "        vertical-align: middle;\n",
       "    }\n",
       "\n",
       "    .dataframe tbody tr th {\n",
       "        vertical-align: top;\n",
       "    }\n",
       "\n",
       "    .dataframe thead th {\n",
       "        text-align: right;\n",
       "    }\n",
       "</style>\n",
       "<table border=\"1\" class=\"dataframe\">\n",
       "  <thead>\n",
       "    <tr style=\"text-align: right;\">\n",
       "      <th></th>\n",
       "      <th>date</th>\n",
       "      <th>group</th>\n",
       "      <th>visitors</th>\n",
       "    </tr>\n",
       "  </thead>\n",
       "  <tbody>\n",
       "    <tr>\n",
       "      <th>0</th>\n",
       "      <td>2019-08-01</td>\n",
       "      <td>A</td>\n",
       "      <td>719</td>\n",
       "    </tr>\n",
       "    <tr>\n",
       "      <th>1</th>\n",
       "      <td>2019-08-02</td>\n",
       "      <td>A</td>\n",
       "      <td>619</td>\n",
       "    </tr>\n",
       "    <tr>\n",
       "      <th>2</th>\n",
       "      <td>2019-08-03</td>\n",
       "      <td>A</td>\n",
       "      <td>507</td>\n",
       "    </tr>\n",
       "    <tr>\n",
       "      <th>3</th>\n",
       "      <td>2019-08-04</td>\n",
       "      <td>A</td>\n",
       "      <td>717</td>\n",
       "    </tr>\n",
       "    <tr>\n",
       "      <th>4</th>\n",
       "      <td>2019-08-05</td>\n",
       "      <td>A</td>\n",
       "      <td>756</td>\n",
       "    </tr>\n",
       "  </tbody>\n",
       "</table>\n",
       "</div>"
      ],
      "text/plain": [
       "         date group  visitors\n",
       "0  2019-08-01     A       719\n",
       "1  2019-08-02     A       619\n",
       "2  2019-08-03     A       507\n",
       "3  2019-08-04     A       717\n",
       "4  2019-08-05     A       756"
      ]
     },
     "metadata": {},
     "output_type": "display_data"
    }
   ],
   "source": [
    "hypothesis = pd.read_csv('/datasets/hypothesis.csv')\n",
    "display(hypothesis.head(10))\n",
    "orders = pd.read_csv('/datasets/orders.csv')\n",
    "display(orders.head())\n",
    "visitors = pd.read_csv('/datasets/visitors.csv')\n",
    "display(visitors.head())"
   ]
  },
  {
   "cell_type": "code",
   "execution_count": 3,
   "metadata": {},
   "outputs": [
    {
     "name": "stdout",
     "output_type": "stream",
     "text": [
      "<class 'pandas.core.frame.DataFrame'>\n",
      "RangeIndex: 9 entries, 0 to 8\n",
      "Data columns (total 5 columns):\n",
      " #   Column      Non-Null Count  Dtype \n",
      "---  ------      --------------  ----- \n",
      " 0   Hypothesis  9 non-null      object\n",
      " 1   Reach       9 non-null      int64 \n",
      " 2   Impact      9 non-null      int64 \n",
      " 3   Confidence  9 non-null      int64 \n",
      " 4   Efforts     9 non-null      int64 \n",
      "dtypes: int64(4), object(1)\n",
      "memory usage: 488.0+ bytes\n",
      "\n",
      "<class 'pandas.core.frame.DataFrame'>\n",
      "RangeIndex: 1197 entries, 0 to 1196\n",
      "Data columns (total 5 columns):\n",
      " #   Column         Non-Null Count  Dtype \n",
      "---  ------         --------------  ----- \n",
      " 0   transactionId  1197 non-null   int64 \n",
      " 1   visitorId      1197 non-null   int64 \n",
      " 2   date           1197 non-null   object\n",
      " 3   revenue        1197 non-null   int64 \n",
      " 4   group          1197 non-null   object\n",
      "dtypes: int64(3), object(2)\n",
      "memory usage: 46.9+ KB\n",
      "\n",
      "<class 'pandas.core.frame.DataFrame'>\n",
      "RangeIndex: 62 entries, 0 to 61\n",
      "Data columns (total 3 columns):\n",
      " #   Column    Non-Null Count  Dtype \n",
      "---  ------    --------------  ----- \n",
      " 0   date      62 non-null     object\n",
      " 1   group     62 non-null     object\n",
      " 2   visitors  62 non-null     int64 \n",
      "dtypes: int64(1), object(2)\n",
      "memory usage: 1.6+ KB\n"
     ]
    }
   ],
   "source": [
    "hypothesis.info() # Проверяем тип данных\n",
    "print()\n",
    "orders.info()\n",
    "print()\n",
    "visitors.info()"
   ]
  },
  {
   "cell_type": "code",
   "execution_count": 4,
   "metadata": {},
   "outputs": [
    {
     "data": {
      "text/plain": [
       "Hypothesis    0\n",
       "Reach         0\n",
       "Impact        0\n",
       "Confidence    0\n",
       "Efforts       0\n",
       "dtype: int64"
      ]
     },
     "metadata": {},
     "output_type": "display_data"
    },
    {
     "data": {
      "text/plain": [
       "transactionId    0\n",
       "visitorId        0\n",
       "date             0\n",
       "revenue          0\n",
       "group            0\n",
       "dtype: int64"
      ]
     },
     "metadata": {},
     "output_type": "display_data"
    },
    {
     "data": {
      "text/plain": [
       "date        0\n",
       "group       0\n",
       "visitors    0\n",
       "dtype: int64"
      ]
     },
     "metadata": {},
     "output_type": "display_data"
    }
   ],
   "source": [
    "display(hypothesis.isna().sum()) # Проверяем наличие пропусков\n",
    "display(orders.isna().sum())\n",
    "display(visitors.isna().sum())"
   ]
  },
  {
   "cell_type": "code",
   "execution_count": 5,
   "metadata": {},
   "outputs": [
    {
     "data": {
      "text/plain": [
       "0"
      ]
     },
     "metadata": {},
     "output_type": "display_data"
    },
    {
     "data": {
      "text/plain": [
       "0"
      ]
     },
     "metadata": {},
     "output_type": "display_data"
    },
    {
     "data": {
      "text/plain": [
       "0"
      ]
     },
     "metadata": {},
     "output_type": "display_data"
    }
   ],
   "source": [
    "display(hypothesis.duplicated().sum()) # Проверяем наличие явных дубликатов\n",
    "display(orders.duplicated().sum())\n",
    "display(visitors.duplicated().sum())"
   ]
  },
  {
   "cell_type": "markdown",
   "metadata": {},
   "source": [
    "**Проверяем корректность разбиения пользователей на группы, т.к. могут быть пользователи, попавшие в обе группы. Если таковые пользователи есть, нужно их выявить и выработать стратегию работы с такими данными. Пересечение групп сильно влияет на результаты теста, если процент достаточно большой. Если есть возможность их можно удалить.**"
   ]
  },
  {
   "cell_type": "code",
   "execution_count": 6,
   "metadata": {},
   "outputs": [
    {
     "name": "stdout",
     "output_type": "stream",
     "text": [
      "Количество пользователей, оказавшихся в двух группах: 58\n"
     ]
    }
   ],
   "source": [
    "# Сгруппируем данные по пользователям и посчитаем количество уникальных групп у каждого\n",
    "user_groups = orders.groupby('visitorId')['group'].nunique()\n",
    "\n",
    "# Отфильтруем тех пользователей, у которых количество уникальных групп больше одной\n",
    "users_in_multiple_groups = user_groups[user_groups > 1].index\n",
    "\n",
    "# Выведем пользователей, оказавшихся одновременно в двух группах\n",
    "print(\"Количество пользователей, оказавшихся в двух группах:\", len(users_in_multiple_groups))"
   ]
  },
  {
   "cell_type": "code",
   "execution_count": 7,
   "metadata": {},
   "outputs": [
    {
     "name": "stdout",
     "output_type": "stream",
     "text": [
      "Количество оставшихся заказов после удаления пользователей, оказавшихся в двух группах: 1016\n"
     ]
    }
   ],
   "source": [
    "# Исключаем заказы пользователей, которые оказались в двух группах\n",
    "orders_filtered = orders[~orders['visitorId'].isin(users_in_multiple_groups)]\n",
    "\n",
    "# Проверим количество оставшихся строк\n",
    "print(\"Количество оставшихся заказов после удаления пользователей, оказавшихся в двух группах:\", len(orders_filtered))"
   ]
  },
  {
   "cell_type": "markdown",
   "metadata": {},
   "source": [
    "#### Часть 1. Приоритизация гипотез."
   ]
  },
  {
   "cell_type": "markdown",
   "metadata": {},
   "source": [
    "**Примените фреймворк ICE для приоритизации гипотез. Отсортируйте их по убыванию приоритета.**"
   ]
  },
  {
   "cell_type": "code",
   "execution_count": 8,
   "metadata": {},
   "outputs": [
    {
     "data": {
      "text/html": [
       "<div>\n",
       "<style scoped>\n",
       "    .dataframe tbody tr th:only-of-type {\n",
       "        vertical-align: middle;\n",
       "    }\n",
       "\n",
       "    .dataframe tbody tr th {\n",
       "        vertical-align: top;\n",
       "    }\n",
       "\n",
       "    .dataframe thead th {\n",
       "        text-align: right;\n",
       "    }\n",
       "</style>\n",
       "<table border=\"1\" class=\"dataframe\">\n",
       "  <thead>\n",
       "    <tr style=\"text-align: right;\">\n",
       "      <th></th>\n",
       "      <th>Hypothesis</th>\n",
       "      <th>ICE</th>\n",
       "    </tr>\n",
       "  </thead>\n",
       "  <tbody>\n",
       "    <tr>\n",
       "      <th>8</th>\n",
       "      <td>Запустить акцию, дающую скидку на товар в день рождения</td>\n",
       "      <td>16.20</td>\n",
       "    </tr>\n",
       "    <tr>\n",
       "      <th>0</th>\n",
       "      <td>Добавить два новых канала привлечения трафика, что позволит привлекать на 30% больше пользователей</td>\n",
       "      <td>13.33</td>\n",
       "    </tr>\n",
       "    <tr>\n",
       "      <th>7</th>\n",
       "      <td>Добавить форму подписки на все основные страницы, чтобы собрать базу клиентов для email-рассылок</td>\n",
       "      <td>11.20</td>\n",
       "    </tr>\n",
       "    <tr>\n",
       "      <th>6</th>\n",
       "      <td>Показать на главной странице баннеры с актуальными акциями и распродажами, чтобы увеличить конверсию</td>\n",
       "      <td>8.00</td>\n",
       "    </tr>\n",
       "    <tr>\n",
       "      <th>2</th>\n",
       "      <td>Добавить блоки рекомендаций товаров на сайт интернет магазина, чтобы повысить конверсию и средний чек заказа</td>\n",
       "      <td>7.00</td>\n",
       "    </tr>\n",
       "    <tr>\n",
       "      <th>1</th>\n",
       "      <td>Запустить собственную службу доставки, что сократит срок доставки заказов</td>\n",
       "      <td>2.00</td>\n",
       "    </tr>\n",
       "    <tr>\n",
       "      <th>5</th>\n",
       "      <td>Добавить страницу отзывов клиентов о магазине, что позволит увеличить количество заказов</td>\n",
       "      <td>1.33</td>\n",
       "    </tr>\n",
       "    <tr>\n",
       "      <th>3</th>\n",
       "      <td>Изменить структура категорий, что увеличит конверсию, т.к. пользователи быстрее найдут нужный товар</td>\n",
       "      <td>1.12</td>\n",
       "    </tr>\n",
       "    <tr>\n",
       "      <th>4</th>\n",
       "      <td>Изменить цвет фона главной страницы, чтобы увеличить вовлеченность пользователей</td>\n",
       "      <td>1.00</td>\n",
       "    </tr>\n",
       "  </tbody>\n",
       "</table>\n",
       "</div>"
      ],
      "text/plain": [
       "                                                                                                     Hypothesis  \\\n",
       "8                                                       Запустить акцию, дающую скидку на товар в день рождения   \n",
       "0            Добавить два новых канала привлечения трафика, что позволит привлекать на 30% больше пользователей   \n",
       "7              Добавить форму подписки на все основные страницы, чтобы собрать базу клиентов для email-рассылок   \n",
       "6          Показать на главной странице баннеры с актуальными акциями и распродажами, чтобы увеличить конверсию   \n",
       "2  Добавить блоки рекомендаций товаров на сайт интернет магазина, чтобы повысить конверсию и средний чек заказа   \n",
       "1                                     Запустить собственную службу доставки, что сократит срок доставки заказов   \n",
       "5                      Добавить страницу отзывов клиентов о магазине, что позволит увеличить количество заказов   \n",
       "3           Изменить структура категорий, что увеличит конверсию, т.к. пользователи быстрее найдут нужный товар   \n",
       "4                              Изменить цвет фона главной страницы, чтобы увеличить вовлеченность пользователей   \n",
       "\n",
       "     ICE  \n",
       "8  16.20  \n",
       "0  13.33  \n",
       "7  11.20  \n",
       "6   8.00  \n",
       "2   7.00  \n",
       "1   2.00  \n",
       "5   1.33  \n",
       "3   1.12  \n",
       "4   1.00  "
      ]
     },
     "execution_count": 8,
     "metadata": {},
     "output_type": "execute_result"
    }
   ],
   "source": [
    "pd.set_option('max_colwidth', 200)\n",
    "hypothesis['ICE'] = hypothesis['Impact'] * hypothesis['Confidence'] / hypothesis['Efforts']\n",
    "hypothesis[['Hypothesis', 'ICE']].sort_values(by='ICE', ascending=False).round(2)"
   ]
  },
  {
   "cell_type": "markdown",
   "metadata": {},
   "source": [
    "**Примените фреймворк RICE для приоритизации гипотез. Отсортируйте их по убыванию приоритета.**"
   ]
  },
  {
   "cell_type": "code",
   "execution_count": 9,
   "metadata": {},
   "outputs": [
    {
     "data": {
      "text/html": [
       "<div>\n",
       "<style scoped>\n",
       "    .dataframe tbody tr th:only-of-type {\n",
       "        vertical-align: middle;\n",
       "    }\n",
       "\n",
       "    .dataframe tbody tr th {\n",
       "        vertical-align: top;\n",
       "    }\n",
       "\n",
       "    .dataframe thead th {\n",
       "        text-align: right;\n",
       "    }\n",
       "</style>\n",
       "<table border=\"1\" class=\"dataframe\">\n",
       "  <thead>\n",
       "    <tr style=\"text-align: right;\">\n",
       "      <th></th>\n",
       "      <th>Hypothesis</th>\n",
       "      <th>RICE</th>\n",
       "    </tr>\n",
       "  </thead>\n",
       "  <tbody>\n",
       "    <tr>\n",
       "      <th>7</th>\n",
       "      <td>Добавить форму подписки на все основные страницы, чтобы собрать базу клиентов для email-рассылок</td>\n",
       "      <td>112.0</td>\n",
       "    </tr>\n",
       "    <tr>\n",
       "      <th>2</th>\n",
       "      <td>Добавить блоки рекомендаций товаров на сайт интернет магазина, чтобы повысить конверсию и средний чек заказа</td>\n",
       "      <td>56.0</td>\n",
       "    </tr>\n",
       "    <tr>\n",
       "      <th>0</th>\n",
       "      <td>Добавить два новых канала привлечения трафика, что позволит привлекать на 30% больше пользователей</td>\n",
       "      <td>40.0</td>\n",
       "    </tr>\n",
       "    <tr>\n",
       "      <th>6</th>\n",
       "      <td>Показать на главной странице баннеры с актуальными акциями и распродажами, чтобы увеличить конверсию</td>\n",
       "      <td>40.0</td>\n",
       "    </tr>\n",
       "    <tr>\n",
       "      <th>8</th>\n",
       "      <td>Запустить акцию, дающую скидку на товар в день рождения</td>\n",
       "      <td>16.2</td>\n",
       "    </tr>\n",
       "    <tr>\n",
       "      <th>3</th>\n",
       "      <td>Изменить структура категорий, что увеличит конверсию, т.к. пользователи быстрее найдут нужный товар</td>\n",
       "      <td>9.0</td>\n",
       "    </tr>\n",
       "    <tr>\n",
       "      <th>1</th>\n",
       "      <td>Запустить собственную службу доставки, что сократит срок доставки заказов</td>\n",
       "      <td>4.0</td>\n",
       "    </tr>\n",
       "    <tr>\n",
       "      <th>5</th>\n",
       "      <td>Добавить страницу отзывов клиентов о магазине, что позволит увеличить количество заказов</td>\n",
       "      <td>4.0</td>\n",
       "    </tr>\n",
       "    <tr>\n",
       "      <th>4</th>\n",
       "      <td>Изменить цвет фона главной страницы, чтобы увеличить вовлеченность пользователей</td>\n",
       "      <td>3.0</td>\n",
       "    </tr>\n",
       "  </tbody>\n",
       "</table>\n",
       "</div>"
      ],
      "text/plain": [
       "                                                                                                     Hypothesis  \\\n",
       "7              Добавить форму подписки на все основные страницы, чтобы собрать базу клиентов для email-рассылок   \n",
       "2  Добавить блоки рекомендаций товаров на сайт интернет магазина, чтобы повысить конверсию и средний чек заказа   \n",
       "0            Добавить два новых канала привлечения трафика, что позволит привлекать на 30% больше пользователей   \n",
       "6          Показать на главной странице баннеры с актуальными акциями и распродажами, чтобы увеличить конверсию   \n",
       "8                                                       Запустить акцию, дающую скидку на товар в день рождения   \n",
       "3           Изменить структура категорий, что увеличит конверсию, т.к. пользователи быстрее найдут нужный товар   \n",
       "1                                     Запустить собственную службу доставки, что сократит срок доставки заказов   \n",
       "5                      Добавить страницу отзывов клиентов о магазине, что позволит увеличить количество заказов   \n",
       "4                              Изменить цвет фона главной страницы, чтобы увеличить вовлеченность пользователей   \n",
       "\n",
       "    RICE  \n",
       "7  112.0  \n",
       "2   56.0  \n",
       "0   40.0  \n",
       "6   40.0  \n",
       "8   16.2  \n",
       "3    9.0  \n",
       "1    4.0  \n",
       "5    4.0  \n",
       "4    3.0  "
      ]
     },
     "execution_count": 9,
     "metadata": {},
     "output_type": "execute_result"
    }
   ],
   "source": [
    "pd.set_option('max_colwidth', 200)\n",
    "hypothesis['RICE'] = hypothesis['Reach'] * hypothesis['Impact'] * hypothesis['Confidence'] / hypothesis['Efforts']\n",
    "hypothesis[['Hypothesis', 'RICE']].sort_values(by='RICE', ascending=False)"
   ]
  },
  {
   "cell_type": "markdown",
   "metadata": {},
   "source": [
    "Укажите, как изменилась приоритизация гипотез при применении RICE вместо ICE. Объясните, почему так произошло."
   ]
  },
  {
   "cell_type": "markdown",
   "metadata": {},
   "source": [
    " - В случае ICE, наиболее перспективными гипотезами оказались 8, 0, 7, 6.\n",
    " - В случае RICE, наиболее перспективными гипотезами оказались 7, 2, 0, 6.\n",
    "\n",
    "В случае RICE, помимо Impact, Confidence и Efforts, также учитывается параметр Reach, который отражает охват изменений, предполагаемых гипотезой. Reach учитывает, скольких пользователей затронет изменение в случае его успешной реализации.\n",
    "\n",
    "При переходе от ICE к RICE наиболее перспективной гипотезой оказалась гипотеза 7. Это произошло из-за высокого показателя Reach у гипотезы 7, который составил 10 (максимальный возможный показатель). Гипотеза 0 также осталась в топе из-за высокого Reach и Impact. Гипотезы 6 и 8, хотя и имели высокие показатели ICE, сместились вниз из-за более низкого значения Reach.\n",
    "\n",
    "Таким образом, рекомендуется в первую очередь тестировать гипотезу 7, так как она имеет высокий охват и высокий потенциал воздействия на пользователей."
   ]
  },
  {
   "cell_type": "markdown",
   "metadata": {},
   "source": [
    "#### Часть 2. Анализ A/B-теста."
   ]
  },
  {
   "cell_type": "markdown",
   "metadata": {},
   "source": [
    "**Постройте график кумулятивной выручки по группам. Сделайте выводы и предположения.**"
   ]
  },
  {
   "cell_type": "code",
   "execution_count": 10,
   "metadata": {},
   "outputs": [
    {
     "name": "stderr",
     "output_type": "stream",
     "text": [
      "/tmp/ipykernel_145/1849716337.py:1: SettingWithCopyWarning: \n",
      "A value is trying to be set on a copy of a slice from a DataFrame.\n",
      "Try using .loc[row_indexer,col_indexer] = value instead\n",
      "\n",
      "See the caveats in the documentation: https://pandas.pydata.org/pandas-docs/stable/user_guide/indexing.html#returning-a-view-versus-a-copy\n",
      "  orders_filtered['date'] = pd.to_datetime(orders_filtered['date'], format='%Y-%m-%d')\n"
     ]
    },
    {
     "data": {
      "image/png": "[encoded data removed]",
      "text/plain": [
       "<Figure size 1224x288 with 1 Axes>"
      ]
     },
     "metadata": {
      "needs_background": "light"
     },
     "output_type": "display_data"
    }
   ],
   "source": [
    "orders_filtered['date'] = pd.to_datetime(orders_filtered['date'], format='%Y-%m-%d')\n",
    "visitors['date'] = pd.to_datetime(visitors['date'], format='%Y-%m-%d')\n",
    "\n",
    "datesGroups = orders_filtered[['date', 'group']].drop_duplicates()\n",
    "\n",
    "ordersAggregated = datesGroups.apply(\n",
    "    lambda x: orders_filtered[\n",
    "        np.logical_and(\n",
    "            orders_filtered['date'] <= x['date'], orders_filtered['group'] == x['group']\n",
    "        )\n",
    "    ].agg(\n",
    "        {\n",
    "            'date': 'max',\n",
    "            'group': 'max',\n",
    "            'transactionId': 'nunique',\n",
    "            'visitorId': 'nunique',\n",
    "            'revenue': 'sum',\n",
    "        }\n",
    "    ),\n",
    "    axis=1,\n",
    ").sort_values(by=['date', 'group'])\n",
    "\n",
    "visitorsAggregated = datesGroups.apply(\n",
    "    lambda x: visitors[\n",
    "        np.logical_and(\n",
    "            visitors['date'] <= x['date'], visitors['group'] == x['group']\n",
    "        )\n",
    "    ].agg({'date': 'max', 'group': 'max', 'visitors': 'sum'}),\n",
    "    axis=1,\n",
    ").sort_values(by=['date', 'group'])\n",
    "\n",
    "cumulativeData = ordersAggregated.merge(\n",
    "    visitorsAggregated, left_on=['date', 'group'], right_on=['date', 'group']\n",
    ")\n",
    "cumulativeData.columns = [\n",
    "    'date',\n",
    "    'group',\n",
    "    'orders',\n",
    "    'buyers',\n",
    "    'revenue',\n",
    "    'visitors',\n",
    "]\n",
    "\n",
    "plt.figure(figsize=(17, 4))\n",
    "\n",
    "# датафрейм с кумулятивным количеством заказов и кумулятивной выручкой по дням в группе А\n",
    "cumulativeRevenueA = cumulativeData[cumulativeData['group']=='A'][['date','revenue', 'orders']]\n",
    "\n",
    "# датафрейм с кумулятивным количеством заказов и кумулятивной выручкой по дням в группе B\n",
    "cumulativeRevenueB = cumulativeData[cumulativeData['group']=='B'][['date','revenue', 'orders']]\n",
    "\n",
    "# Строим график выручки группы А\n",
    "plt.plot(cumulativeRevenueA['date'], cumulativeRevenueA['revenue'], label='A')\n",
    "\n",
    "# Строим график выручки группы B\n",
    "plt.plot(cumulativeRevenueB['date'], cumulativeRevenueB['revenue'], label='B')\n",
    "plt.title('Кумулятивная выручка по группам A и B')\n",
    "plt.xlabel('Дата')\n",
    "plt.ylabel('Кумулятивная выручка')\n",
    "plt.grid()\n",
    "plt.legend()\n",
    "plt.show()"
   ]
  },
  {
   "cell_type": "markdown",
   "metadata": {},
   "source": [
    "Почти весь тест, на графике кумулятивной выручки по группам, группа B в основном лидировала. А также произошёл значительный отрыв во второй части теста."
   ]
  },
  {
   "cell_type": "markdown",
   "metadata": {},
   "source": [
    "**Постройте график кумулятивного среднего чека по группам. Сделайте выводы и предположения.**"
   ]
  },
  {
   "cell_type": "code",
   "execution_count": 11,
   "metadata": {},
   "outputs": [
    {
     "data": {
      "image/png": "[encoded data removed]",
      "text/plain": [
       "<Figure size 1224x288 with 1 Axes>"
      ]
     },
     "metadata": {
      "needs_background": "light"
     },
     "output_type": "display_data"
    }
   ],
   "source": [
    "plt.figure(figsize=(17, 4))\n",
    "\n",
    "plt.plot(cumulativeRevenueA['date'], cumulativeRevenueA['revenue']/cumulativeRevenueA['orders'], label='A')\n",
    "plt.plot(cumulativeRevenueB['date'], cumulativeRevenueB['revenue']/cumulativeRevenueB['orders'], label='B')\n",
    "plt.title('Кумулятивный средний чек по группам A и B')\n",
    "plt.xlabel('Дата')\n",
    "plt.ylabel('Кумулятивный средний чек')\n",
    "plt.grid()\n",
    "plt.legend()\n",
    "plt.show()"
   ]
  },
  {
   "cell_type": "markdown",
   "metadata": {},
   "source": [
    "Кумулятивное значение среднего чека по сегментам первую половину теста колебалось, но в дальнейшем произошёл значительный рывок группы В, которая лидировала оставшуюся часть теста. Вероятно, тогда были совершены крупные покупки у данной группы."
   ]
  },
  {
   "cell_type": "markdown",
   "metadata": {},
   "source": [
    "**Постройте график относительного изменения кумулятивного среднего чека группы B к группе A. Сделайте выводы и предположения.**"
   ]
  },
  {
   "cell_type": "code",
   "execution_count": 12,
   "metadata": {},
   "outputs": [
    {
     "data": {
      "image/png": "[encoded data removed]",
      "text/plain": [
       "<Figure size 1224x288 with 1 Axes>"
      ]
     },
     "metadata": {
      "needs_background": "light"
     },
     "output_type": "display_data"
    }
   ],
   "source": [
    "plt.figure(figsize=(17, 4))\n",
    "\n",
    "# собираем данные в одном датафрейме\n",
    "mergedCumulativeRevenue = cumulativeRevenueA.merge(cumulativeRevenueB, left_on='date', right_on='date', how='left', suffixes=['A', 'B'])\n",
    "\n",
    "# cтроим отношение средних чеков\n",
    "plt.plot(mergedCumulativeRevenue['date'], (mergedCumulativeRevenue['revenueB']/mergedCumulativeRevenue['ordersB'])/(mergedCumulativeRevenue['revenueA']/mergedCumulativeRevenue['ordersA'])-1)\n",
    "\n",
    "# добавляем ось X\n",
    "plt.axhline(y=0, color='black', linestyle='--')\n",
    "plt.title('Относительное изменение кумулятивного среднего чека группы B к группе A')\n",
    "plt.xlabel('Дата')\n",
    "plt.ylabel('Относительное изменение')\n",
    "plt.grid()\n",
    "plt.show()"
   ]
  },
  {
   "cell_type": "markdown",
   "metadata": {},
   "source": [
    "На графике относительного изменения кумулятивного среднего чека группы B к группе A, результаты теста менялись в несколько дат. Но самое значительное относительное изменение было во второй половине теста. Видимо, именно тогда были совершены аномальные заказы."
   ]
  },
  {
   "cell_type": "markdown",
   "metadata": {},
   "source": [
    "**Постройте график кумулятивного среднего количества заказов на посетителя по группам. Сделайте выводы и предположения.**"
   ]
  },
  {
   "cell_type": "code",
   "execution_count": 13,
   "metadata": {},
   "outputs": [
    {
     "data": {
      "image/png": "[encoded data removed]",
      "text/plain": [
       "<Figure size 1224x288 with 1 Axes>"
      ]
     },
     "metadata": {
      "needs_background": "light"
     },
     "output_type": "display_data"
    }
   ],
   "source": [
    "plt.figure(figsize=(17, 4))\n",
    "\n",
    "# считаем среднее количество заказов на посетителя\n",
    "cumulativeData['conversion'] = cumulativeData['orders']/cumulativeData['visitors']\n",
    "\n",
    "# отделяем данные по группе A\n",
    "cumulativeDataA = cumulativeData[cumulativeData['group']=='A']\n",
    "\n",
    "# отделяем данные по группе B\n",
    "cumulativeDataB = cumulativeData[cumulativeData['group']=='B']\n",
    "\n",
    "# строим графики\n",
    "plt.plot(cumulativeDataA['date'], cumulativeDataA['conversion'], label='A')\n",
    "plt.plot(cumulativeDataB['date'], cumulativeDataB['conversion'], label='B')\n",
    "plt.title('Кумулятивное среднего количества заказов на посетителя по группам')\n",
    "plt.xlabel('Дата')\n",
    "plt.ylabel('Кумулятивное среднего количества заказов')\n",
    "plt.legend()\n",
    "plt.grid()\n",
    "plt.show()"
   ]
  },
  {
   "cell_type": "markdown",
   "metadata": {},
   "source": [
    "В начале теста сегмент A в основном имел большее кумулятивное среднее количество заказов, но постепенно сегмент B выровнялся и зафиксировался примерно около одного значения, больше значения сегмента A."
   ]
  },
  {
   "cell_type": "markdown",
   "metadata": {},
   "source": [
    "**Постройте график относительного изменения кумулятивного среднего количества заказов на посетителя группы B к группе A. Сделайте выводы и предположения.**"
   ]
  },
  {
   "cell_type": "code",
   "execution_count": 14,
   "metadata": {},
   "outputs": [
    {
     "data": {
      "image/png": "[encoded data removed]",
      "text/plain": [
       "<Figure size 1224x288 with 1 Axes>"
      ]
     },
     "metadata": {
      "needs_background": "light"
     },
     "output_type": "display_data"
    }
   ],
   "source": [
    "plt.figure(figsize=(17, 4))\n",
    "\n",
    "mergedCumulativeConversions = cumulativeDataA[['date','conversion']].merge(cumulativeDataB[['date','conversion']], left_on='date', right_on='date', how='left', suffixes=['A', 'B'])\n",
    "\n",
    "plt.plot(mergedCumulativeConversions['date'], mergedCumulativeConversions['conversionB']/mergedCumulativeConversions['conversionA']-1, label=\"Относительный прирост кумулятивного среднего количества заказов на посетителя группы B относительно группы A\")\n",
    "plt.legend()\n",
    "\n",
    "plt.axhline(y=0, color='black', linestyle='--')\n",
    "plt.axhline(y=0.15, color='grey', linestyle='--')\n",
    "plt.title('Относительное изменение кумулятивного среднего количества заказов на посетителя группы B к группе A')\n",
    "plt.xlabel('Дата')\n",
    "plt.ylabel('Относительное изменение')\n",
    "plt.grid()\n",
    "plt.show()"
   ]
  },
  {
   "cell_type": "markdown",
   "metadata": {},
   "source": [
    "На графике относительного изменения кумулятивного среднего количества заказов на посетителя группы B к группе A, почти с самого начала теста группа B лидирует по метрике: становясь лучше и лучше, и зафиксировавшись в пределах примерно 10-20% относительно группы A."
   ]
  },
  {
   "cell_type": "markdown",
   "metadata": {},
   "source": [
    "**Постройте точечный график количества заказов по пользователям. Сделайте выводы и предположения.**"
   ]
  },
  {
   "cell_type": "code",
   "execution_count": 15,
   "metadata": {},
   "outputs": [
    {
     "data": {
      "image/png": "[encoded data removed]",
      "text/plain": [
       "<Figure size 1224x288 with 1 Axes>"
      ]
     },
     "metadata": {
      "needs_background": "light"
     },
     "output_type": "display_data"
    }
   ],
   "source": [
    "plt.figure(figsize=(17, 4))\n",
    "\n",
    "ordersByUsers = (\n",
    "    orders_filtered.groupby('visitorId', as_index=False)\n",
    "    .agg({'transactionId': 'nunique'})\n",
    ")\n",
    "ordersByUsers.columns = ['userId', 'orders']\n",
    "\n",
    "# серия из чисел от 0 до количества наблюдений в ordersByUsers\n",
    "x_values = pd.Series(range(0, len(ordersByUsers)))\n",
    "\n",
    "plt.scatter(x_values, ordersByUsers['orders'])\n",
    "plt.title('Количество заказов по пользователям')\n",
    "plt.xlabel('Пользователи')\n",
    "plt.ylabel('Количество заказов')\n",
    "plt.grid()\n",
    "plt.show()"
   ]
  },
  {
   "cell_type": "markdown",
   "metadata": {},
   "source": [
    "Пользователей, заказавших более 2 раз, совсем мало. Они вполне могут быть аномальными."
   ]
  },
  {
   "cell_type": "markdown",
   "metadata": {},
   "source": [
    "**Посчитайте 95-й и 99-й перцентили количества заказов на пользователя. Выберите границу для определения аномальных пользователей.**"
   ]
  },
  {
   "cell_type": "code",
   "execution_count": 16,
   "metadata": {},
   "outputs": [
    {
     "data": {
      "text/plain": [
       "array([1., 2.])"
      ]
     },
     "execution_count": 16,
     "metadata": {},
     "output_type": "execute_result"
    }
   ],
   "source": [
    "# Метод np.percentile('column', [percentile1, percentile2]) находит перцентили.\n",
    "orders_percentile = np.percentile(ordersByUsers['orders'], [95, 99])\n",
    "np.percentile(ordersByUsers['orders'], [95, 99])"
   ]
  },
  {
   "cell_type": "markdown",
   "metadata": {},
   "source": [
    "Исходя из расчёта перцентилей, границей можно считать 2 заказа."
   ]
  },
  {
   "cell_type": "markdown",
   "metadata": {},
   "source": [
    "**Постройте точечный график стоимостей заказов. Сделайте выводы и предположения.**"
   ]
  },
  {
   "cell_type": "code",
   "execution_count": 17,
   "metadata": {},
   "outputs": [
    {
     "data": {
      "image/png": "[encoded data removed]",
      "text/plain": [
       "<Figure size 1224x288 with 1 Axes>"
      ]
     },
     "metadata": {
      "needs_background": "light"
     },
     "output_type": "display_data"
    }
   ],
   "source": [
    "x_values = pd.Series(range(0, len(orders_filtered['revenue'])))\n",
    "plt.figure(figsize=(17, 4))\n",
    "plt.scatter(x_values, orders_filtered['revenue']) \n",
    "plt.title('Стоимости заказов')\n",
    "plt.xlabel('Заказы')\n",
    "plt.ylabel('Стоимость')\n",
    "plt.grid()\n",
    "plt.show()"
   ]
  },
  {
   "cell_type": "code",
   "execution_count": 18,
   "metadata": {},
   "outputs": [
    {
     "data": {
      "image/png": "[encoded data removed]",
      "text/plain": [
       "<Figure size 1224x288 with 1 Axes>"
      ]
     },
     "metadata": {
      "needs_background": "light"
     },
     "output_type": "display_data"
    }
   ],
   "source": [
    "filtered_orders = orders_filtered[orders_filtered['revenue'] <= 100000]\n",
    "x_values = pd.Series(range(0, len(filtered_orders)))\n",
    "plt.figure(figsize=(17, 4))\n",
    "plt.scatter(x_values, filtered_orders['revenue']) \n",
    "plt.title('Стоимости заказов')\n",
    "plt.xlabel('Заказы')\n",
    "plt.ylabel('Стоимость')\n",
    "plt.grid()\n",
    "plt.show()"
   ]
  },
  {
   "cell_type": "markdown",
   "metadata": {},
   "source": [
    "Все заказы находятся в пределах 100 000 руб. 1 выброс за пределами 1 200 000 руб. Определённо это аномалия."
   ]
  },
  {
   "cell_type": "markdown",
   "metadata": {},
   "source": [
    "**Посчитайте 95-й и 99-й перцентили стоимости заказов. Выберите границу для определения аномальных заказов.**"
   ]
  },
  {
   "cell_type": "code",
   "execution_count": 19,
   "metadata": {},
   "outputs": [
    {
     "data": {
      "text/plain": [
       "array([26785., 53904.])"
      ]
     },
     "execution_count": 19,
     "metadata": {},
     "output_type": "execute_result"
    }
   ],
   "source": [
    "revenue_percentile = np.percentile(orders_filtered['revenue'], [95, 99])\n",
    "np.percentile(orders_filtered['revenue'], [95, 99])"
   ]
  },
  {
   "cell_type": "markdown",
   "metadata": {},
   "source": [
    "Исходя из расчёта перцентилей, границей можно считать 53904 руб."
   ]
  },
  {
   "cell_type": "markdown",
   "metadata": {},
   "source": [
    "**Посчитайте статистическую значимость различий в среднем количестве заказов на посетителя между группами по «сырым» данным. Сделайте выводы и предположения.**\n",
    "\n",
    "**Среднее количество заказов на посетителя («сырые» данные)**:\n",
    "\n",
    " - **Нулевая гипотеза (H0)**: Среднее количество заказов на посетителя в группе A равно среднему количеству заказов на посетителя в группе B.\n",
    " - **Альтернативная гипотеза (H1)**: Среднее количество заказов на посетителя в группе A отличается от среднего количества заказов на посетителя в группе B.\n",
    " - **Уровень значимости (alpha)**: 0.05.\n",
    " - **Метод проверки гипотез**: тест Манна-Уитни."
   ]
  },
  {
   "cell_type": "code",
   "execution_count": 20,
   "metadata": {},
   "outputs": [
    {
     "name": "stdout",
     "output_type": "stream",
     "text": [
      "p-value для сравнения среднего между группами: 0.011\n",
      "Относительное различие в среднем между группами: 0.160\n"
     ]
    }
   ],
   "source": [
    "visitorsADaily = visitors[visitors['group'] == 'A'][['date', 'visitors']]\n",
    "visitorsADaily.columns = ['date', 'visitorsPerDateA']\n",
    "\n",
    "visitorsACummulative = visitorsADaily.apply(\n",
    "    lambda x: visitorsADaily[visitorsADaily['date'] <= x['date']].agg(\n",
    "        {'date': 'max', 'visitorsPerDateA': 'sum'}\n",
    "    ),\n",
    "    axis=1,\n",
    ")\n",
    "visitorsACummulative.columns = ['date', 'visitorsCummulativeA']\n",
    "\n",
    "visitorsBDaily = visitors[visitors['group'] == 'B'][['date', 'visitors']]\n",
    "visitorsBDaily.columns = ['date', 'visitorsPerDateB']\n",
    "\n",
    "visitorsBCummulative = visitorsBDaily.apply(\n",
    "    lambda x: visitorsBDaily[visitorsBDaily['date'] <= x['date']].agg(\n",
    "        {'date': 'max', 'visitorsPerDateB': 'sum'}\n",
    "    ),\n",
    "    axis=1,\n",
    ")\n",
    "visitorsBCummulative.columns = ['date', 'visitorsCummulativeB']\n",
    "\n",
    "ordersADaily = (\n",
    "    orders_filtered[orders_filtered['group'] == 'A'][['date', 'transactionId', 'visitorId', 'revenue']]\n",
    "    .groupby('date', as_index=False)\n",
    "    .agg({'transactionId': pd.Series.nunique, 'revenue': 'sum'})\n",
    ")\n",
    "ordersADaily.columns = ['date', 'ordersPerDateA', 'revenuePerDateA']\n",
    "\n",
    "ordersACummulative = ordersADaily.apply(\n",
    "    lambda x: ordersADaily[ordersADaily['date'] <= x['date']].agg(\n",
    "        {'date': 'max', 'ordersPerDateA': 'sum', 'revenuePerDateA': 'sum'}\n",
    "    ),\n",
    "    axis=1,\n",
    ").sort_values(by=['date'])\n",
    "ordersACummulative.columns = [\n",
    "    'date',\n",
    "    'ordersCummulativeA',\n",
    "    'revenueCummulativeA',\n",
    "]\n",
    "\n",
    "ordersBDaily = (\n",
    "    orders_filtered[orders_filtered['group'] == 'B'][['date', 'transactionId', 'visitorId', 'revenue']]\n",
    "    .groupby('date', as_index=False)\n",
    "    .agg({'transactionId': pd.Series.nunique, 'revenue': 'sum'})\n",
    ")\n",
    "ordersBDaily.columns = ['date', 'ordersPerDateB', 'revenuePerDateB']\n",
    "\n",
    "ordersBCummulative = ordersBDaily.apply(\n",
    "    lambda x: ordersBDaily[ordersBDaily['date'] <= x['date']].agg(\n",
    "        {'date': 'max', 'ordersPerDateB': 'sum', 'revenuePerDateB': 'sum'}\n",
    "    ),\n",
    "    axis=1,\n",
    ").sort_values(by=['date'])\n",
    "ordersBCummulative.columns = [\n",
    "    'date',\n",
    "    'ordersCummulativeB',\n",
    "    'revenueCummulativeB',\n",
    "]\n",
    "\n",
    "data = (\n",
    "    ordersADaily.merge(\n",
    "        ordersBDaily, left_on='date', right_on='date', how='left'\n",
    "    )\n",
    "    .merge(ordersACummulative, left_on='date', right_on='date', how='left')\n",
    "    .merge(ordersBCummulative, left_on='date', right_on='date', how='left')\n",
    "    .merge(visitorsADaily, left_on='date', right_on='date', how='left')\n",
    "    .merge(visitorsBDaily, left_on='date', right_on='date', how='left')\n",
    "    .merge(visitorsACummulative, left_on='date', right_on='date', how='left')\n",
    "    .merge(visitorsBCummulative, left_on='date', right_on='date', how='left')\n",
    ")\n",
    "\n",
    "ordersByUsersA = (\n",
    "    orders_filtered[orders_filtered['group'] == 'A']\n",
    "    .groupby('visitorId', as_index=False)\n",
    "    .agg({'transactionId': pd.Series.nunique})\n",
    ")\n",
    "ordersByUsersA.columns = ['userId', 'orders']\n",
    "\n",
    "ordersByUsersB = (\n",
    "    orders_filtered[orders_filtered['group'] == 'B']\n",
    "    .groupby('visitorId', as_index=False)\n",
    "    .agg({'transactionId': pd.Series.nunique})\n",
    ")\n",
    "ordersByUsersB.columns = ['userId', 'orders'] \n",
    "\n",
    "sampleA = pd.concat([ordersByUsersA['orders'],pd.Series(0, index=np.arange(data['visitorsPerDateA'].sum() - len(ordersByUsersA['orders'])), name='orders')],axis=0)\n",
    "\n",
    "sampleB = pd.concat([ordersByUsersB['orders'],pd.Series(0, index=np.arange(data['visitorsPerDateB'].sum() - len(ordersByUsersB['orders'])), name='orders')],axis=0)\n",
    "\n",
    "print('p-value для сравнения среднего между группами:', \"{0:.3f}\".format(stats.mannwhitneyu(sampleA, sampleB)[1]))\n",
    "print('Относительное различие в среднем между группами:', \"{0:.3f}\".format(sampleB.mean() / sampleA.mean() - 1))"
   ]
  },
  {
   "cell_type": "markdown",
   "metadata": {},
   "source": [
    "P-value меньше 0.05, потому нулевую гипотезу отвергаем. Анализ «сырых данных» сообщает, что в среднем количестве заказов между группами есть статистически значимые различия."
   ]
  },
  {
   "cell_type": "markdown",
   "metadata": {},
   "source": [
    "**Посчитайте статистическую значимость различий в среднем чеке заказа между группами по «сырым» данным. Сделайте выводы и предположения.**\n",
    "\n",
    "**Средний чек заказа («сырые» данные)**:\n",
    "\n",
    " - **Нулевая гипотеза (H0)**: Средний чек заказа в группе A равен среднему чеку заказа в группе B.\n",
    " - **Альтернативная гипотеза (H1)**: Средний чек заказа в группе A отличается от среднего чека заказа в группе B.\n",
    " - **Уровень значимости (alpha)**: 0.05.\n",
    " - **Метод проверки гипотез**: тест Манна-Уитни."
   ]
  },
  {
   "cell_type": "code",
   "execution_count": 21,
   "metadata": {},
   "outputs": [
    {
     "name": "stdout",
     "output_type": "stream",
     "text": [
      "p-value для сравнения средних чеков между группами: 0.829\n",
      "Относительный прирост среднего чека группы B: 0.287\n"
     ]
    }
   ],
   "source": [
    "print('p-value для сравнения средних чеков между группами:', '{0:.3f}'.format(stats.mannwhitneyu(orders_filtered[orders_filtered['group']=='A']['revenue'], orders_filtered[orders_filtered['group']=='B']['revenue'])[1]))\n",
    "print('Относительный прирост среднего чека группы B:', '{0:.3f}'.format(orders_filtered[orders_filtered['group']=='B']['revenue'].mean()/orders_filtered[orders_filtered['group']=='A']['revenue'].mean()-1))"
   ]
  },
  {
   "cell_type": "markdown",
   "metadata": {},
   "source": [
    "P-value больше 0.05 — статистически значимых отличий в среднем чеке между группами нет. Нулевую гипотезу не отвергаем."
   ]
  },
  {
   "cell_type": "markdown",
   "metadata": {},
   "source": [
    "**Посчитайте статистическую значимость различий в среднем количестве заказов на посетителя между группами по «очищенным» данным. Сделайте выводы и предположения.**\n",
    "\n",
    "**Среднее количество заказов на посетителя («очищенные» данные)**:\n",
    "\n",
    " - **Нулевая гипотеза (H0)**: Среднее количество заказов на посетителя в группе A (очищенные данные) равно среднему количеству заказов на посетителя в группе B (очищенные данные).\n",
    " - **Альтернативная гипотеза (H1)**: Среднее количество заказов на посетителя в группе A (очищенные данные) отличается от среднего количества заказов на посетителя в группе B (очищенные данные).\n",
    " - **Уровень значимости (alpha)**: 0.05.\n",
    " - **Метод проверки гипотез**: тест Манна-Уитни."
   ]
  },
  {
   "cell_type": "code",
   "execution_count": 22,
   "metadata": {
    "scrolled": true
   },
   "outputs": [
    {
     "name": "stdout",
     "output_type": "stream",
     "text": [
      "p-value для сравнения среднего между очищенными группами: 0.007\n",
      "Относительный прирост среднего очищенной группы B: 0.189\n"
     ]
    }
   ],
   "source": [
    "usersWithManyOrders = pd.concat(\n",
    "    [\n",
    "        ordersByUsersA[ordersByUsersA['orders'] > orders_percentile[1]]['userId'],\n",
    "        ordersByUsersB[ordersByUsersB['orders'] > orders_percentile[1]]['userId'],\n",
    "    ],\n",
    "    axis=0,\n",
    ")\n",
    "usersWithExpensiveOrders = orders[orders['revenue'] > revenue_percentile[1]]['visitorId']\n",
    "abnormalUsers = (\n",
    "    pd.concat([usersWithManyOrders, usersWithExpensiveOrders], axis=0)\n",
    "    .drop_duplicates()\n",
    "    .sort_values()\n",
    ")\n",
    "\n",
    "sampleAFiltered = pd.concat(\n",
    "    [\n",
    "        ordersByUsersA[\n",
    "            np.logical_not(ordersByUsersA['userId'].isin(abnormalUsers))\n",
    "        ]['orders'],\n",
    "        pd.Series(\n",
    "            0,\n",
    "            index=np.arange(\n",
    "                data['visitorsPerDateA'].sum() - len(ordersByUsersA['orders'])\n",
    "            ),\n",
    "            name='orders',\n",
    "        ),\n",
    "    ],\n",
    "    axis=0,\n",
    ")\n",
    "\n",
    "sampleBFiltered = pd.concat(\n",
    "    [\n",
    "        ordersByUsersB[\n",
    "            np.logical_not(ordersByUsersB['userId'].isin(abnormalUsers))\n",
    "        ]['orders'],\n",
    "        pd.Series(\n",
    "            0,\n",
    "            index=np.arange(\n",
    "                data['visitorsPerDateB'].sum() - len(ordersByUsersB['orders'])\n",
    "            ),\n",
    "            name='orders',\n",
    "        ),\n",
    "    ],\n",
    "    axis=0,\n",
    ") \n",
    "\n",
    "print('p-value для сравнения среднего между очищенными группами:', '{0:.3f}'.format(stats.mannwhitneyu(sampleAFiltered, sampleBFiltered)[1]))\n",
    "print('Относительный прирост среднего очищенной группы B:', '{0:.3f}'.format(sampleBFiltered.mean()/sampleAFiltered.mean()-1))"
   ]
  },
  {
   "cell_type": "markdown",
   "metadata": {},
   "source": [
    "При расчёте статистически значимых различий в среднем количестве заказов на посетителя между группами по «очищенным» данным, как и в случае с сырыми данными, статистическая значимость достигнута. Сегмент B значительно лучше сегмента A. Отвергаем нулевую гипотезу."
   ]
  },
  {
   "cell_type": "markdown",
   "metadata": {},
   "source": [
    "**Посчитайте статистическую значимость различий в среднем чеке заказа между группами по «очищенным» данным. Сделайте выводы и предположения.**\n",
    "\n",
    "**Средний чек заказа («очищенные» данные)**:\n",
    "\n",
    " - **Нулевая гипотеза (H0)**: Средний чек заказа в группе A (очищенные данные) равен среднему чеку заказа в группе B (очищенные данные).\n",
    " - **Альтернативная гипотеза (H1)**: Средний чек заказа в группе A (очищенные данные) отличается от среднего чека заказа в группе B (очищенные данные).\n",
    " - **Уровень значимости (alpha)**: 0.05.\n",
    " - **Метод проверки гипотез**: тест Манна-Уитни."
   ]
  },
  {
   "cell_type": "code",
   "execution_count": 23,
   "metadata": {},
   "outputs": [
    {
     "name": "stdout",
     "output_type": "stream",
     "text": [
      "p-value для сравнения средних чеков между очищенными группами: 0.788\n",
      "Относительный прирост среднего чека очищенной группы B: -0.032\n"
     ]
    }
   ],
   "source": [
    "print('p-value для сравнения средних чеков между очищенными группами:',\n",
    "    '{0:.3f}'.format(\n",
    "        stats.mannwhitneyu(\n",
    "            orders_filtered[\n",
    "                np.logical_and(\n",
    "                    orders_filtered['group'] == 'A',\n",
    "                    np.logical_not(orders_filtered['visitorId'].isin(abnormalUsers)),\n",
    "                )\n",
    "            ]['revenue'],\n",
    "            orders_filtered[\n",
    "                np.logical_and(\n",
    "                    orders_filtered['group'] == 'B',\n",
    "                    np.logical_not(orders_filtered['visitorId'].isin(abnormalUsers)),\n",
    "                )\n",
    "            ]['revenue'],\n",
    "        )[1]\n",
    "    )\n",
    ")\n",
    "\n",
    "print('Относительный прирост среднего чека очищенной группы B:',\n",
    "    \"{0:.3f}\".format(\n",
    "        orders_filtered[\n",
    "            np.logical_and(\n",
    "                orders_filtered['group'] == 'B',\n",
    "                np.logical_not(orders_filtered['visitorId'].isin(abnormalUsers)),\n",
    "            )\n",
    "        ]['revenue'].mean()\n",
    "        / orders_filtered[\n",
    "            np.logical_and(\n",
    "                orders_filtered['group'] == 'A',\n",
    "                np.logical_not(orders_filtered['visitorId'].isin(abnormalUsers)),\n",
    "            )\n",
    "        ]['revenue'].mean()\n",
    "        - 1\n",
    "    )\n",
    ")"
   ]
  },
  {
   "cell_type": "markdown",
   "metadata": {},
   "source": [
    "Нет статистически значимых различий в среднем чеке заказа между группами по «очищенным» данным. Нулевую гипотезу не отвергаем."
   ]
  },
  {
   "cell_type": "markdown",
   "metadata": {},
   "source": [
    "**Примите решение по результатам теста и объясните его. Варианты решений:**\n",
    "\n",
    "1. Остановить тест, зафиксировать победу одной из групп.\n",
    "2. Остановить тест, зафиксировать отсутствие различий между группами.\n",
    "3. Продолжить тест."
   ]
  },
  {
   "cell_type": "markdown",
   "metadata": {},
   "source": [
    "По результатам теста было принято решение остановить тест и зафиксировать победу группы В.\n",
    "\n",
    "Вот причины этого:\n",
    "\n",
    "1. Почти весь тест, на графике кумулятивной выручки по группам, группа B в основном лидировала.\n",
    "2. Кумулятивное значение среднего чека по сегментам первую половину теста колебалось, но в дальнейшем произошёл значительный рывок группы В, которая лидировала оставшуюся часть теста.\n",
    "3. На графике относительного изменения кумулятивного среднего чека группы B к группе A, группа В победила во второй половине теста.\n",
    "4. В начале теста сегмент A в основном имел большее кумулятивное среднее количество заказов, но постепенно сегмент B выровнялся и зафиксировался примерно около одного значения, больше значения сегмента A.\n",
    "5. На графике относительного изменения кумулятивного среднего количества заказов на посетителя группы B к группе A, почти с самого начала теста группа B лидирует по метрике: становясь лучше и лучше, и зафиксировавшись в пределах примерно 10-20% относительно группы A.\n",
    "6. При расчёте статистически значимых различий в среднем количестве заказов на посетителя между группами по «очищенным» данным, как и в случае с сырыми данными, статистическая значимость достигнута. Сегмент B значительно лучше сегмента A.\n",
    "\n",
    "Единственный довод против, это то, что нет статистически значимых различий в среднем чеке заказа между группами как по сырым, так и по «очищенным» данным."
   ]
  },
  {
   "cell_type": "markdown",
   "metadata": {},
   "source": [
    "## Общий вывод\n",
    "\n",
    "В начале исследования дано 3 датафрейма с гипотезами, заказами и количеством пользователей.\n",
    "\n",
    "При проверке типов данных, неверно указан тип только у дат. В последствии этот тип был изменён. Пропусков и дубликатов нет.\n",
    "\n",
    "На этапе приоритизации гипотез, были сделаны 2 расчёта с помощью фреймворков ICE и RICE.\n",
    "\n",
    " - В случае ICE, наиболее перспективными гипотезами оказались 8, 0, 7, 6.\n",
    " - В случае RICE, наиболее перспективными гипотезами оказались 7, 2, 0, 6.\n",
    "\n",
    "При применении RICE вместо ICE, 0, 6, и 7 гипотезы также остались наиболее перспективными. Однако теперь, 8 гипотеза не является одной из 4-х самых приоритетных гипотез. Её место заняла 2 гипотеза. Так произошло, потому что в расчёт был добавлен параметр Reach.\n",
    "\n",
    "**Анализ A/B-теста**\n",
    "\n",
    "Пользователей, заказавших более 2 раз, совсем мало. Они вполне могут быть аномальными. Исходя из расчёта перцентилей, границей можно считать 2 заказа.\n",
    "\n",
    "Все заказы находятся в пределах 100 000 руб. 1 выброс за пределами 1 200 000 руб. Определённо это аномалия. Исходя из расчёта перцентилей, границей можно считать 53904 руб.\n",
    "\n",
    "По результатам теста было принято решение остановить тест и зафиксировать победу группы В.\n",
    "\n",
    "Вот причины этого:\n",
    "\n",
    "1. Почти весь тест, на графике кумулятивной выручки по группам, группа B в основном лидировала.\n",
    "2. Кумулятивное значение среднего чека по сегментам первую половину теста колебалось, но в дальнейшем произошёл значительный рывок группы В, которая лидировала оставшуюся часть теста.\n",
    "3. На графике относительного изменения кумулятивного среднего чека группы B к группе A, группа В победила во второй половине теста.\n",
    "4. В начале теста сегмент A в основном имел большее кумулятивное среднее количество заказов, но постепенно сегмент B выровнялся и зафиксировался примерно около одного значения, больше значения сегмента A.\n",
    "5. На графике относительного изменения кумулятивного среднего количества заказов на посетителя группы B к группе A, почти с самого начала теста группа B лидирует по метрике: становясь лучше и лучше, и зафиксировавшись в пределах примерно 10-20% относительно группы A.\n",
    "6. При расчёте статистически значимых различий в среднем количестве заказов на посетителя между группами по «очищенным» данным, как и в случае с сырыми данными, статистическая значимость достигнута. Сегмент B значительно лучше сегмента A.\n",
    "\n",
    "Единственный довод против, это то, что нет статистически значимых различий в среднем чеке заказа между группами как по сырым, так и по «очищенным» данным."
   ]
  }
 ],
 "metadata": {
  "ExecuteTimeLog": [
   {
    "duration": 412,
    "start_time": "2024-01-10T15:49:30.955Z"
   },
   {
    "duration": 79,
    "start_time": "2024-01-10T15:50:21.609Z"
   },
   {
    "duration": 36,
    "start_time": "2024-01-10T15:51:00.354Z"
   },
   {
    "duration": 208,
    "start_time": "2024-01-10T15:51:50.577Z"
   },
   {
    "duration": 88,
    "start_time": "2024-01-10T15:51:59.392Z"
   },
   {
    "duration": 86,
    "start_time": "2024-01-10T15:52:08.926Z"
   },
   {
    "duration": 84,
    "start_time": "2024-01-10T15:53:26.545Z"
   },
   {
    "duration": 3,
    "start_time": "2024-01-10T18:34:19.515Z"
   },
   {
    "duration": 10,
    "start_time": "2024-01-10T18:36:50.486Z"
   },
   {
    "duration": 9,
    "start_time": "2024-01-10T18:37:04.415Z"
   },
   {
    "duration": 9,
    "start_time": "2024-01-10T18:37:11.175Z"
   },
   {
    "duration": 13,
    "start_time": "2024-01-10T18:42:20.530Z"
   },
   {
    "duration": 10,
    "start_time": "2024-01-10T18:42:31.950Z"
   },
   {
    "duration": 811,
    "start_time": "2024-01-12T17:31:57.497Z"
   },
   {
    "duration": 219,
    "start_time": "2024-01-12T17:31:58.310Z"
   },
   {
    "duration": 12,
    "start_time": "2024-01-12T17:31:58.530Z"
   },
   {
    "duration": 10,
    "start_time": "2024-01-12T17:31:58.544Z"
   },
   {
    "duration": 406,
    "start_time": "2024-01-12T17:33:49.372Z"
   },
   {
    "duration": 375,
    "start_time": "2024-01-12T17:34:29.637Z"
   },
   {
    "duration": 40,
    "start_time": "2024-01-12T17:46:11.315Z"
   },
   {
    "duration": 354,
    "start_time": "2024-01-12T17:47:28.550Z"
   },
   {
    "duration": 586,
    "start_time": "2024-01-12T17:49:21.022Z"
   },
   {
    "duration": 461,
    "start_time": "2024-01-12T17:49:57.322Z"
   },
   {
    "duration": 681,
    "start_time": "2024-01-12T17:50:04.357Z"
   },
   {
    "duration": 94,
    "start_time": "2024-01-12T17:50:05.040Z"
   },
   {
    "duration": 11,
    "start_time": "2024-01-12T17:50:05.136Z"
   },
   {
    "duration": 10,
    "start_time": "2024-01-12T17:50:05.149Z"
   },
   {
    "duration": 82,
    "start_time": "2024-01-12T17:50:05.160Z"
   },
   {
    "duration": 612,
    "start_time": "2024-01-12T17:50:22.624Z"
   },
   {
    "duration": 95,
    "start_time": "2024-01-12T17:50:23.238Z"
   },
   {
    "duration": 11,
    "start_time": "2024-01-12T17:50:23.335Z"
   },
   {
    "duration": 10,
    "start_time": "2024-01-12T17:50:23.348Z"
   },
   {
    "duration": 96,
    "start_time": "2024-01-12T17:50:23.360Z"
   },
   {
    "duration": 14,
    "start_time": "2024-01-12T17:50:47.672Z"
   },
   {
    "duration": 693,
    "start_time": "2024-01-12T17:50:54.765Z"
   },
   {
    "duration": 96,
    "start_time": "2024-01-12T17:50:55.460Z"
   },
   {
    "duration": 11,
    "start_time": "2024-01-12T17:50:55.558Z"
   },
   {
    "duration": 10,
    "start_time": "2024-01-12T17:50:55.571Z"
   },
   {
    "duration": 82,
    "start_time": "2024-01-12T17:50:55.583Z"
   },
   {
    "duration": 14,
    "start_time": "2024-01-12T17:51:08.369Z"
   },
   {
    "duration": 541,
    "start_time": "2024-01-12T17:52:51.088Z"
   },
   {
    "duration": 662,
    "start_time": "2024-01-12T17:53:03.592Z"
   },
   {
    "duration": 94,
    "start_time": "2024-01-12T17:53:04.256Z"
   },
   {
    "duration": 11,
    "start_time": "2024-01-12T17:53:04.352Z"
   },
   {
    "duration": 11,
    "start_time": "2024-01-12T17:53:04.365Z"
   },
   {
    "duration": 564,
    "start_time": "2024-01-12T17:53:04.377Z"
   },
   {
    "duration": 472,
    "start_time": "2024-01-12T17:54:56.889Z"
   },
   {
    "duration": 564,
    "start_time": "2024-01-12T17:55:34.876Z"
   },
   {
    "duration": 447,
    "start_time": "2024-01-12T17:55:40.621Z"
   },
   {
    "duration": 469,
    "start_time": "2024-01-12T17:55:45.475Z"
   },
   {
    "duration": 559,
    "start_time": "2024-01-12T17:57:04.662Z"
   },
   {
    "duration": 461,
    "start_time": "2024-01-12T17:57:09.142Z"
   },
   {
    "duration": 469,
    "start_time": "2024-01-12T17:59:16.422Z"
   },
   {
    "duration": 467,
    "start_time": "2024-01-12T17:59:25.436Z"
   },
   {
    "duration": 451,
    "start_time": "2024-01-12T17:59:31.267Z"
   },
   {
    "duration": 473,
    "start_time": "2024-01-12T17:59:39.714Z"
   },
   {
    "duration": 461,
    "start_time": "2024-01-12T17:59:55.082Z"
   },
   {
    "duration": 9,
    "start_time": "2024-01-12T18:05:40.227Z"
   },
   {
    "duration": 12,
    "start_time": "2024-01-12T18:06:27.128Z"
   },
   {
    "duration": 531,
    "start_time": "2024-01-12T18:18:18.304Z"
   },
   {
    "duration": 466,
    "start_time": "2024-01-12T18:18:28.275Z"
   },
   {
    "duration": 470,
    "start_time": "2024-01-12T18:18:36.595Z"
   },
   {
    "duration": 208,
    "start_time": "2024-01-12T18:24:19.434Z"
   },
   {
    "duration": 244,
    "start_time": "2024-01-12T18:33:25.216Z"
   },
   {
    "duration": 307,
    "start_time": "2024-01-12T18:33:39.942Z"
   },
   {
    "duration": 304,
    "start_time": "2024-01-12T18:33:50.653Z"
   },
   {
    "duration": 300,
    "start_time": "2024-01-12T18:33:57.693Z"
   },
   {
    "duration": 296,
    "start_time": "2024-01-12T18:34:02.684Z"
   },
   {
    "duration": 8,
    "start_time": "2024-01-12T18:47:21.962Z"
   },
   {
    "duration": 192,
    "start_time": "2024-01-12T18:48:19.397Z"
   },
   {
    "duration": 276,
    "start_time": "2024-01-12T18:48:31.725Z"
   },
   {
    "duration": 214,
    "start_time": "2024-01-12T18:48:41.916Z"
   },
   {
    "duration": 754,
    "start_time": "2024-01-13T12:23:40.688Z"
   },
   {
    "duration": 203,
    "start_time": "2024-01-13T12:23:41.444Z"
   },
   {
    "duration": 10,
    "start_time": "2024-01-13T12:23:41.649Z"
   },
   {
    "duration": 16,
    "start_time": "2024-01-13T12:23:41.660Z"
   },
   {
    "duration": 557,
    "start_time": "2024-01-13T12:23:41.677Z"
   },
   {
    "duration": 191,
    "start_time": "2024-01-13T12:23:42.236Z"
   },
   {
    "duration": 346,
    "start_time": "2024-01-13T12:23:42.428Z"
   },
   {
    "duration": 244,
    "start_time": "2024-01-13T12:23:42.776Z"
   },
   {
    "duration": 337,
    "start_time": "2024-01-13T12:23:43.022Z"
   },
   {
    "duration": 281,
    "start_time": "2024-01-13T12:23:56.771Z"
   },
   {
    "duration": 306,
    "start_time": "2024-01-13T12:24:06.358Z"
   },
   {
    "duration": 67,
    "start_time": "2024-01-13T12:31:46.087Z"
   },
   {
    "duration": 115,
    "start_time": "2024-01-13T12:32:37.532Z"
   },
   {
    "duration": 119,
    "start_time": "2024-01-13T12:32:49.251Z"
   },
   {
    "duration": 100,
    "start_time": "2024-01-13T12:33:00.481Z"
   },
   {
    "duration": 111,
    "start_time": "2024-01-13T12:33:08.433Z"
   },
   {
    "duration": 3,
    "start_time": "2024-01-13T12:34:46.378Z"
   },
   {
    "duration": 7,
    "start_time": "2024-01-13T12:36:46.441Z"
   },
   {
    "duration": 116,
    "start_time": "2024-01-13T12:37:12.765Z"
   },
   {
    "duration": 121,
    "start_time": "2024-01-13T12:37:28.190Z"
   },
   {
    "duration": 12,
    "start_time": "2024-01-13T12:38:29.978Z"
   },
   {
    "duration": 10,
    "start_time": "2024-01-13T12:38:40.464Z"
   },
   {
    "duration": 136,
    "start_time": "2024-01-13T12:38:44.560Z"
   },
   {
    "duration": 4,
    "start_time": "2024-01-13T13:49:23.462Z"
   },
   {
    "duration": 5,
    "start_time": "2024-01-13T13:49:27.780Z"
   },
   {
    "duration": 8,
    "start_time": "2024-01-13T13:49:33.619Z"
   },
   {
    "duration": 4,
    "start_time": "2024-01-13T13:49:49.187Z"
   },
   {
    "duration": 167,
    "start_time": "2024-01-13T17:49:36.628Z"
   },
   {
    "duration": 140,
    "start_time": "2024-01-13T17:51:41.272Z"
   },
   {
    "duration": 145,
    "start_time": "2024-01-13T17:52:36.751Z"
   },
   {
    "duration": 331,
    "start_time": "2024-01-13T17:53:11.229Z"
   },
   {
    "duration": 436,
    "start_time": "2024-01-13T17:54:01.017Z"
   },
   {
    "duration": 325,
    "start_time": "2024-01-13T17:54:05.520Z"
   },
   {
    "duration": 317,
    "start_time": "2024-01-13T17:54:26.326Z"
   },
   {
    "duration": 330,
    "start_time": "2024-01-13T17:56:42.622Z"
   },
   {
    "duration": 11,
    "start_time": "2024-01-13T18:12:14.189Z"
   },
   {
    "duration": 1197,
    "start_time": "2024-01-13T18:32:08.513Z"
   },
   {
    "duration": 1173,
    "start_time": "2024-01-13T18:34:00.319Z"
   },
   {
    "duration": 1522,
    "start_time": "2024-01-13T18:34:29.639Z"
   },
   {
    "duration": 30,
    "start_time": "2024-01-13T18:35:53.537Z"
   },
   {
    "duration": 36,
    "start_time": "2024-01-13T18:37:00.715Z"
   },
   {
    "duration": 1231,
    "start_time": "2024-01-13T18:39:55.631Z"
   },
   {
    "duration": 14,
    "start_time": "2024-01-13T18:40:24.099Z"
   },
   {
    "duration": 8,
    "start_time": "2024-01-13T18:50:44.330Z"
   },
   {
    "duration": 1046,
    "start_time": "2024-01-13T18:50:59.259Z"
   },
   {
    "duration": 89,
    "start_time": "2024-01-13T18:51:00.307Z"
   },
   {
    "duration": 83,
    "start_time": "2024-01-13T18:51:00.398Z"
   },
   {
    "duration": 0,
    "start_time": "2024-01-13T18:51:00.482Z"
   },
   {
    "duration": 0,
    "start_time": "2024-01-13T18:51:00.484Z"
   },
   {
    "duration": 0,
    "start_time": "2024-01-13T18:51:00.485Z"
   },
   {
    "duration": 0,
    "start_time": "2024-01-13T18:51:00.486Z"
   },
   {
    "duration": 0,
    "start_time": "2024-01-13T18:51:00.487Z"
   },
   {
    "duration": 0,
    "start_time": "2024-01-13T18:51:00.488Z"
   },
   {
    "duration": 0,
    "start_time": "2024-01-13T18:51:00.489Z"
   },
   {
    "duration": 0,
    "start_time": "2024-01-13T18:51:00.490Z"
   },
   {
    "duration": 0,
    "start_time": "2024-01-13T18:51:00.491Z"
   },
   {
    "duration": 0,
    "start_time": "2024-01-13T18:51:00.492Z"
   },
   {
    "duration": 0,
    "start_time": "2024-01-13T18:51:00.493Z"
   },
   {
    "duration": 0,
    "start_time": "2024-01-13T18:51:00.494Z"
   },
   {
    "duration": 0,
    "start_time": "2024-01-13T18:51:00.495Z"
   },
   {
    "duration": 0,
    "start_time": "2024-01-13T18:51:00.496Z"
   },
   {
    "duration": 0,
    "start_time": "2024-01-13T18:51:00.496Z"
   },
   {
    "duration": 10,
    "start_time": "2024-01-13T18:51:12.152Z"
   },
   {
    "duration": 20,
    "start_time": "2024-01-13T18:51:53.702Z"
   },
   {
    "duration": 10,
    "start_time": "2024-01-13T18:52:50.002Z"
   },
   {
    "duration": 8,
    "start_time": "2024-01-13T18:53:14.337Z"
   },
   {
    "duration": 1193,
    "start_time": "2024-01-14T06:16:57.186Z"
   },
   {
    "duration": 212,
    "start_time": "2024-01-14T06:16:58.381Z"
   },
   {
    "duration": 25,
    "start_time": "2024-01-14T06:16:58.595Z"
   },
   {
    "duration": 22,
    "start_time": "2024-01-14T06:16:58.622Z"
   },
   {
    "duration": 10,
    "start_time": "2024-01-14T06:16:58.646Z"
   },
   {
    "duration": 26,
    "start_time": "2024-01-14T06:16:58.658Z"
   },
   {
    "duration": 10,
    "start_time": "2024-01-14T06:16:58.686Z"
   },
   {
    "duration": 521,
    "start_time": "2024-01-14T06:16:58.697Z"
   },
   {
    "duration": 191,
    "start_time": "2024-01-14T06:16:59.220Z"
   },
   {
    "duration": 370,
    "start_time": "2024-01-14T06:16:59.415Z"
   },
   {
    "duration": 214,
    "start_time": "2024-01-14T06:16:59.787Z"
   },
   {
    "duration": 303,
    "start_time": "2024-01-14T06:17:00.002Z"
   },
   {
    "duration": 122,
    "start_time": "2024-01-14T06:17:00.307Z"
   },
   {
    "duration": 14,
    "start_time": "2024-01-14T06:17:00.431Z"
   },
   {
    "duration": 163,
    "start_time": "2024-01-14T06:17:00.446Z"
   },
   {
    "duration": 4,
    "start_time": "2024-01-14T06:17:00.611Z"
   },
   {
    "duration": 358,
    "start_time": "2024-01-14T06:17:00.617Z"
   },
   {
    "duration": 9,
    "start_time": "2024-01-14T06:17:00.977Z"
   },
   {
    "duration": 62,
    "start_time": "2024-01-14T06:17:00.987Z"
   },
   {
    "duration": 23,
    "start_time": "2024-01-14T06:17:01.051Z"
   },
   {
    "duration": 1015,
    "start_time": "2024-01-14T06:20:48.078Z"
   },
   {
    "duration": 91,
    "start_time": "2024-01-14T06:20:49.094Z"
   },
   {
    "duration": 21,
    "start_time": "2024-01-14T06:20:49.188Z"
   },
   {
    "duration": 11,
    "start_time": "2024-01-14T06:20:49.210Z"
   },
   {
    "duration": 9,
    "start_time": "2024-01-14T06:20:49.222Z"
   },
   {
    "duration": 14,
    "start_time": "2024-01-14T06:20:49.232Z"
   },
   {
    "duration": 10,
    "start_time": "2024-01-14T06:20:49.248Z"
   },
   {
    "duration": 506,
    "start_time": "2024-01-14T06:20:49.259Z"
   },
   {
    "duration": 166,
    "start_time": "2024-01-14T06:20:49.767Z"
   },
   {
    "duration": 282,
    "start_time": "2024-01-14T06:20:49.935Z"
   },
   {
    "duration": 187,
    "start_time": "2024-01-14T06:20:50.219Z"
   },
   {
    "duration": 295,
    "start_time": "2024-01-14T06:20:50.407Z"
   },
   {
    "duration": 120,
    "start_time": "2024-01-14T06:20:50.703Z"
   },
   {
    "duration": 4,
    "start_time": "2024-01-14T06:20:50.824Z"
   },
   {
    "duration": 132,
    "start_time": "2024-01-14T06:20:50.829Z"
   },
   {
    "duration": 4,
    "start_time": "2024-01-14T06:20:50.963Z"
   },
   {
    "duration": 345,
    "start_time": "2024-01-14T06:20:50.969Z"
   },
   {
    "duration": 10,
    "start_time": "2024-01-14T06:20:51.316Z"
   },
   {
    "duration": 44,
    "start_time": "2024-01-14T06:20:51.328Z"
   },
   {
    "duration": 12,
    "start_time": "2024-01-14T06:20:51.373Z"
   },
   {
    "duration": 89,
    "start_time": "2024-01-14T06:48:27.120Z"
   },
   {
    "duration": 169,
    "start_time": "2024-01-14T06:52:26.799Z"
   },
   {
    "duration": 472,
    "start_time": "2024-01-14T06:52:35.119Z"
   },
   {
    "duration": 297,
    "start_time": "2024-01-14T06:52:42.054Z"
   },
   {
    "duration": 189,
    "start_time": "2024-01-14T06:52:46.614Z"
   },
   {
    "duration": 261,
    "start_time": "2024-01-14T06:52:52.277Z"
   },
   {
    "duration": 118,
    "start_time": "2024-01-14T06:53:07.412Z"
   },
   {
    "duration": 121,
    "start_time": "2024-01-14T06:53:26.931Z"
   },
   {
    "duration": 5,
    "start_time": "2024-01-14T07:14:28.382Z"
   },
   {
    "duration": 130,
    "start_time": "2024-01-14T07:18:39.102Z"
   },
   {
    "duration": 121,
    "start_time": "2024-01-14T07:18:50.365Z"
   },
   {
    "duration": 119,
    "start_time": "2024-01-14T07:19:06.140Z"
   },
   {
    "duration": 115,
    "start_time": "2024-01-14T07:19:09.843Z"
   },
   {
    "duration": 123,
    "start_time": "2024-01-14T07:19:30.930Z"
   },
   {
    "duration": 187,
    "start_time": "2024-01-14T07:20:49.765Z"
   },
   {
    "duration": 187,
    "start_time": "2024-01-14T07:21:16.860Z"
   },
   {
    "duration": 107,
    "start_time": "2024-01-14T07:22:05.769Z"
   },
   {
    "duration": 115,
    "start_time": "2024-01-14T07:22:44.382Z"
   },
   {
    "duration": 137,
    "start_time": "2024-01-14T07:24:20.113Z"
   },
   {
    "duration": 129,
    "start_time": "2024-01-14T07:24:42.422Z"
   },
   {
    "duration": 118,
    "start_time": "2024-01-14T07:24:49.718Z"
   },
   {
    "duration": 134,
    "start_time": "2024-01-14T07:24:56.317Z"
   },
   {
    "duration": 1011,
    "start_time": "2024-01-14T08:02:00.785Z"
   },
   {
    "duration": 89,
    "start_time": "2024-01-14T08:02:01.798Z"
   },
   {
    "duration": 21,
    "start_time": "2024-01-14T08:02:01.889Z"
   },
   {
    "duration": 37,
    "start_time": "2024-01-14T08:02:01.912Z"
   },
   {
    "duration": 38,
    "start_time": "2024-01-14T08:02:01.950Z"
   },
   {
    "duration": 39,
    "start_time": "2024-01-14T08:02:01.989Z"
   },
   {
    "duration": 25,
    "start_time": "2024-01-14T08:02:02.029Z"
   },
   {
    "duration": 548,
    "start_time": "2024-01-14T08:02:02.056Z"
   },
   {
    "duration": 180,
    "start_time": "2024-01-14T08:02:02.606Z"
   },
   {
    "duration": 265,
    "start_time": "2024-01-14T08:02:02.789Z"
   },
   {
    "duration": 194,
    "start_time": "2024-01-14T08:02:03.055Z"
   },
   {
    "duration": 314,
    "start_time": "2024-01-14T08:02:03.250Z"
   },
   {
    "duration": 202,
    "start_time": "2024-01-14T08:02:03.566Z"
   },
   {
    "duration": 5,
    "start_time": "2024-01-14T08:02:03.769Z"
   },
   {
    "duration": 161,
    "start_time": "2024-01-14T08:02:03.775Z"
   },
   {
    "duration": 9,
    "start_time": "2024-01-14T08:02:03.937Z"
   },
   {
    "duration": 328,
    "start_time": "2024-01-14T08:02:03.947Z"
   },
   {
    "duration": 9,
    "start_time": "2024-01-14T08:02:04.277Z"
   },
   {
    "duration": 89,
    "start_time": "2024-01-14T08:02:04.288Z"
   },
   {
    "duration": 30,
    "start_time": "2024-01-14T08:02:04.379Z"
   },
   {
    "duration": 1422,
    "start_time": "2024-01-14T08:34:11.147Z"
   },
   {
    "duration": 215,
    "start_time": "2024-01-14T08:34:12.571Z"
   },
   {
    "duration": 28,
    "start_time": "2024-01-14T08:34:12.787Z"
   },
   {
    "duration": 20,
    "start_time": "2024-01-14T08:34:12.816Z"
   },
   {
    "duration": 12,
    "start_time": "2024-01-14T08:34:12.839Z"
   },
   {
    "duration": 16,
    "start_time": "2024-01-14T08:34:12.853Z"
   },
   {
    "duration": 16,
    "start_time": "2024-01-14T08:34:12.872Z"
   },
   {
    "duration": 618,
    "start_time": "2024-01-14T08:34:12.922Z"
   },
   {
    "duration": 217,
    "start_time": "2024-01-14T08:34:13.542Z"
   },
   {
    "duration": 361,
    "start_time": "2024-01-14T08:34:13.760Z"
   },
   {
    "duration": 241,
    "start_time": "2024-01-14T08:34:14.123Z"
   },
   {
    "duration": 321,
    "start_time": "2024-01-14T08:34:14.365Z"
   },
   {
    "duration": 179,
    "start_time": "2024-01-14T08:34:14.688Z"
   },
   {
    "duration": 5,
    "start_time": "2024-01-14T08:34:14.871Z"
   },
   {
    "duration": 168,
    "start_time": "2024-01-14T08:34:14.879Z"
   },
   {
    "duration": 5,
    "start_time": "2024-01-14T08:34:15.049Z"
   },
   {
    "duration": 425,
    "start_time": "2024-01-14T08:34:15.055Z"
   },
   {
    "duration": 14,
    "start_time": "2024-01-14T08:34:15.483Z"
   },
   {
    "duration": 55,
    "start_time": "2024-01-14T08:34:15.500Z"
   },
   {
    "duration": 15,
    "start_time": "2024-01-14T08:34:15.557Z"
   },
   {
    "duration": 8,
    "start_time": "2024-01-14T08:48:18.679Z"
   },
   {
    "duration": 11,
    "start_time": "2024-01-14T08:56:52.300Z"
   },
   {
    "duration": 12,
    "start_time": "2024-01-14T08:57:51.040Z"
   },
   {
    "duration": 10,
    "start_time": "2024-01-14T08:59:04.430Z"
   },
   {
    "duration": 90,
    "start_time": "2024-01-14T09:04:25.971Z"
   },
   {
    "duration": 78,
    "start_time": "2024-01-14T09:09:43.443Z"
   },
   {
    "duration": 1079,
    "start_time": "2024-01-14T09:10:21.174Z"
   },
   {
    "duration": 94,
    "start_time": "2024-01-14T09:10:22.255Z"
   },
   {
    "duration": 30,
    "start_time": "2024-01-14T09:10:22.350Z"
   },
   {
    "duration": 22,
    "start_time": "2024-01-14T09:10:22.382Z"
   },
   {
    "duration": 11,
    "start_time": "2024-01-14T09:10:22.406Z"
   },
   {
    "duration": 27,
    "start_time": "2024-01-14T09:10:22.419Z"
   },
   {
    "duration": 10,
    "start_time": "2024-01-14T09:10:22.448Z"
   },
   {
    "duration": 541,
    "start_time": "2024-01-14T09:10:22.459Z"
   },
   {
    "duration": 188,
    "start_time": "2024-01-14T09:10:23.001Z"
   },
   {
    "duration": 257,
    "start_time": "2024-01-14T09:10:23.191Z"
   },
   {
    "duration": 226,
    "start_time": "2024-01-14T09:10:23.450Z"
   },
   {
    "duration": 307,
    "start_time": "2024-01-14T09:10:23.678Z"
   },
   {
    "duration": 126,
    "start_time": "2024-01-14T09:10:23.986Z"
   },
   {
    "duration": 4,
    "start_time": "2024-01-14T09:10:24.113Z"
   },
   {
    "duration": 161,
    "start_time": "2024-01-14T09:10:24.119Z"
   },
   {
    "duration": 4,
    "start_time": "2024-01-14T09:10:24.282Z"
   },
   {
    "duration": 361,
    "start_time": "2024-01-14T09:10:24.288Z"
   },
   {
    "duration": 10,
    "start_time": "2024-01-14T09:10:24.651Z"
   },
   {
    "duration": 32,
    "start_time": "2024-01-14T09:10:24.663Z"
   },
   {
    "duration": 13,
    "start_time": "2024-01-14T09:10:24.696Z"
   },
   {
    "duration": 471,
    "start_time": "2024-01-14T10:13:40.041Z"
   },
   {
    "duration": 564,
    "start_time": "2024-01-14T10:14:09.716Z"
   },
   {
    "duration": 201,
    "start_time": "2024-01-14T10:14:48.362Z"
   },
   {
    "duration": 331,
    "start_time": "2024-01-14T10:15:41.742Z"
   },
   {
    "duration": 254,
    "start_time": "2024-01-14T10:16:40.834Z"
   },
   {
    "duration": 338,
    "start_time": "2024-01-14T10:17:29.046Z"
   },
   {
    "duration": 143,
    "start_time": "2024-01-14T10:19:06.200Z"
   },
   {
    "duration": 142,
    "start_time": "2024-01-14T10:19:30.998Z"
   },
   {
    "duration": 148,
    "start_time": "2024-01-14T10:20:20.379Z"
   },
   {
    "duration": 305,
    "start_time": "2024-01-14T10:21:49.293Z"
   },
   {
    "duration": 206,
    "start_time": "2024-01-14T10:24:05.028Z"
   },
   {
    "duration": 150,
    "start_time": "2024-01-14T10:24:42.939Z"
   },
   {
    "duration": 224,
    "start_time": "2024-01-14T10:25:36.317Z"
   },
   {
    "duration": 138,
    "start_time": "2024-01-14T10:26:50.385Z"
   },
   {
    "duration": 157,
    "start_time": "2024-01-14T10:27:00.199Z"
   },
   {
    "duration": 72,
    "start_time": "2024-01-14T10:28:38.193Z"
   },
   {
    "duration": 1119,
    "start_time": "2024-01-14T10:33:37.408Z"
   },
   {
    "duration": 92,
    "start_time": "2024-01-14T10:33:38.529Z"
   },
   {
    "duration": 23,
    "start_time": "2024-01-14T10:33:38.623Z"
   },
   {
    "duration": 44,
    "start_time": "2024-01-14T10:33:38.648Z"
   },
   {
    "duration": 27,
    "start_time": "2024-01-14T10:33:38.694Z"
   },
   {
    "duration": 28,
    "start_time": "2024-01-14T10:33:38.722Z"
   },
   {
    "duration": 20,
    "start_time": "2024-01-14T10:33:38.751Z"
   },
   {
    "duration": 594,
    "start_time": "2024-01-14T10:33:38.773Z"
   },
   {
    "duration": 213,
    "start_time": "2024-01-14T10:33:39.369Z"
   },
   {
    "duration": 297,
    "start_time": "2024-01-14T10:33:39.584Z"
   },
   {
    "duration": 222,
    "start_time": "2024-01-14T10:33:39.883Z"
   },
   {
    "duration": 368,
    "start_time": "2024-01-14T10:33:40.107Z"
   },
   {
    "duration": 149,
    "start_time": "2024-01-14T10:33:40.476Z"
   },
   {
    "duration": 5,
    "start_time": "2024-01-14T10:33:40.626Z"
   },
   {
    "duration": 164,
    "start_time": "2024-01-14T10:33:40.632Z"
   },
   {
    "duration": 154,
    "start_time": "2024-01-14T10:33:40.798Z"
   },
   {
    "duration": 5,
    "start_time": "2024-01-14T10:33:40.953Z"
   },
   {
    "duration": 352,
    "start_time": "2024-01-14T10:33:40.959Z"
   },
   {
    "duration": 10,
    "start_time": "2024-01-14T10:33:41.313Z"
   },
   {
    "duration": 45,
    "start_time": "2024-01-14T10:33:41.325Z"
   },
   {
    "duration": 13,
    "start_time": "2024-01-14T10:33:41.371Z"
   },
   {
    "duration": 367,
    "start_time": "2024-01-14T10:59:16.951Z"
   },
   {
    "duration": 422,
    "start_time": "2024-01-14T10:59:36.269Z"
   },
   {
    "duration": 339,
    "start_time": "2024-01-14T11:00:11.267Z"
   },
   {
    "duration": 11,
    "start_time": "2024-01-14T11:04:06.378Z"
   },
   {
    "duration": 11,
    "start_time": "2024-01-14T11:04:48.958Z"
   },
   {
    "duration": 10,
    "start_time": "2024-01-14T11:04:55.791Z"
   },
   {
    "duration": 358,
    "start_time": "2024-01-14T11:05:10.294Z"
   },
   {
    "duration": 33,
    "start_time": "2024-01-14T11:06:14.577Z"
   },
   {
    "duration": 32,
    "start_time": "2024-01-14T11:06:25.768Z"
   },
   {
    "duration": 352,
    "start_time": "2024-01-14T11:06:34.376Z"
   },
   {
    "duration": 14,
    "start_time": "2024-01-14T11:09:36.499Z"
   },
   {
    "duration": 102,
    "start_time": "2024-01-14T11:15:12.415Z"
   },
   {
    "duration": 35,
    "start_time": "2024-01-14T11:15:24.014Z"
   },
   {
    "duration": 3,
    "start_time": "2024-01-14T11:16:04.114Z"
   },
   {
    "duration": 4,
    "start_time": "2024-01-14T11:16:12.402Z"
   },
   {
    "duration": 4,
    "start_time": "2024-01-14T11:19:55.568Z"
   },
   {
    "duration": 5,
    "start_time": "2024-01-14T11:20:12.558Z"
   },
   {
    "duration": 6,
    "start_time": "2024-01-14T11:21:04.972Z"
   },
   {
    "duration": 16,
    "start_time": "2024-01-14T11:21:33.946Z"
   },
   {
    "duration": 11,
    "start_time": "2024-01-14T11:24:17.806Z"
   },
   {
    "duration": 1092,
    "start_time": "2024-01-14T11:24:25.915Z"
   },
   {
    "duration": 91,
    "start_time": "2024-01-14T11:24:27.008Z"
   },
   {
    "duration": 20,
    "start_time": "2024-01-14T11:24:27.100Z"
   },
   {
    "duration": 28,
    "start_time": "2024-01-14T11:24:27.122Z"
   },
   {
    "duration": 10,
    "start_time": "2024-01-14T11:24:27.152Z"
   },
   {
    "duration": 12,
    "start_time": "2024-01-14T11:24:27.163Z"
   },
   {
    "duration": 10,
    "start_time": "2024-01-14T11:24:27.176Z"
   },
   {
    "duration": 608,
    "start_time": "2024-01-14T11:24:27.188Z"
   },
   {
    "duration": 204,
    "start_time": "2024-01-14T11:24:27.798Z"
   },
   {
    "duration": 305,
    "start_time": "2024-01-14T11:24:28.004Z"
   },
   {
    "duration": 225,
    "start_time": "2024-01-14T11:24:28.311Z"
   },
   {
    "duration": 343,
    "start_time": "2024-01-14T11:24:28.537Z"
   },
   {
    "duration": 140,
    "start_time": "2024-01-14T11:24:28.881Z"
   },
   {
    "duration": 7,
    "start_time": "2024-01-14T11:24:29.022Z"
   },
   {
    "duration": 160,
    "start_time": "2024-01-14T11:24:29.030Z"
   },
   {
    "duration": 144,
    "start_time": "2024-01-14T11:24:29.192Z"
   },
   {
    "duration": 9,
    "start_time": "2024-01-14T11:24:29.338Z"
   },
   {
    "duration": 356,
    "start_time": "2024-01-14T11:24:29.349Z"
   },
   {
    "duration": 9,
    "start_time": "2024-01-14T11:24:29.706Z"
   },
   {
    "duration": 39,
    "start_time": "2024-01-14T11:24:29.717Z"
   },
   {
    "duration": 23,
    "start_time": "2024-01-14T11:24:29.758Z"
   },
   {
    "duration": 11,
    "start_time": "2024-01-14T11:25:37.300Z"
   },
   {
    "duration": 504,
    "start_time": "2024-01-14T11:25:44.733Z"
   },
   {
    "duration": 183,
    "start_time": "2024-01-14T11:25:50.405Z"
   },
   {
    "duration": 293,
    "start_time": "2024-01-14T11:25:57.965Z"
   },
   {
    "duration": 204,
    "start_time": "2024-01-14T11:26:01.516Z"
   },
   {
    "duration": 139,
    "start_time": "2024-01-14T11:26:06.172Z"
   },
   {
    "duration": 4,
    "start_time": "2024-01-14T11:26:14.467Z"
   },
   {
    "duration": 1099,
    "start_time": "2024-01-14T11:26:34.968Z"
   },
   {
    "duration": 95,
    "start_time": "2024-01-14T11:26:36.069Z"
   },
   {
    "duration": 23,
    "start_time": "2024-01-14T11:26:36.168Z"
   },
   {
    "duration": 18,
    "start_time": "2024-01-14T11:26:36.193Z"
   },
   {
    "duration": 11,
    "start_time": "2024-01-14T11:26:36.212Z"
   },
   {
    "duration": 29,
    "start_time": "2024-01-14T11:26:36.224Z"
   },
   {
    "duration": 11,
    "start_time": "2024-01-14T11:26:36.255Z"
   },
   {
    "duration": 587,
    "start_time": "2024-01-14T11:26:36.267Z"
   },
   {
    "duration": 215,
    "start_time": "2024-01-14T11:26:36.856Z"
   },
   {
    "duration": 319,
    "start_time": "2024-01-14T11:26:37.072Z"
   },
   {
    "duration": 255,
    "start_time": "2024-01-14T11:26:37.392Z"
   },
   {
    "duration": 369,
    "start_time": "2024-01-14T11:26:37.649Z"
   },
   {
    "duration": 149,
    "start_time": "2024-01-14T11:26:38.020Z"
   },
   {
    "duration": 7,
    "start_time": "2024-01-14T11:26:38.170Z"
   },
   {
    "duration": 187,
    "start_time": "2024-01-14T11:26:38.179Z"
   },
   {
    "duration": 154,
    "start_time": "2024-01-14T11:26:38.368Z"
   },
   {
    "duration": 6,
    "start_time": "2024-01-14T11:26:38.524Z"
   },
   {
    "duration": 402,
    "start_time": "2024-01-14T11:26:38.532Z"
   },
   {
    "duration": 17,
    "start_time": "2024-01-14T11:26:38.936Z"
   },
   {
    "duration": 32,
    "start_time": "2024-01-14T11:26:38.954Z"
   },
   {
    "duration": 14,
    "start_time": "2024-01-14T11:26:38.987Z"
   },
   {
    "duration": 1162,
    "start_time": "2024-01-14T14:43:47.565Z"
   },
   {
    "duration": 108,
    "start_time": "2024-01-14T14:43:48.729Z"
   },
   {
    "duration": 24,
    "start_time": "2024-01-14T14:43:48.839Z"
   },
   {
    "duration": 12,
    "start_time": "2024-01-14T14:43:48.865Z"
   },
   {
    "duration": 10,
    "start_time": "2024-01-14T14:43:48.878Z"
   },
   {
    "duration": 13,
    "start_time": "2024-01-14T14:43:48.890Z"
   },
   {
    "duration": 11,
    "start_time": "2024-01-14T14:43:48.904Z"
   },
   {
    "duration": 635,
    "start_time": "2024-01-14T14:43:48.917Z"
   },
   {
    "duration": 231,
    "start_time": "2024-01-14T14:43:49.553Z"
   },
   {
    "duration": 367,
    "start_time": "2024-01-14T14:43:49.787Z"
   },
   {
    "duration": 256,
    "start_time": "2024-01-14T14:43:50.156Z"
   },
   {
    "duration": 339,
    "start_time": "2024-01-14T14:43:50.414Z"
   },
   {
    "duration": 161,
    "start_time": "2024-01-14T14:43:50.755Z"
   },
   {
    "duration": 6,
    "start_time": "2024-01-14T14:43:50.918Z"
   },
   {
    "duration": 185,
    "start_time": "2024-01-14T14:43:50.926Z"
   },
   {
    "duration": 189,
    "start_time": "2024-01-14T14:43:51.113Z"
   },
   {
    "duration": 7,
    "start_time": "2024-01-14T14:43:51.303Z"
   },
   {
    "duration": 397,
    "start_time": "2024-01-14T14:43:51.311Z"
   },
   {
    "duration": 11,
    "start_time": "2024-01-14T14:43:51.709Z"
   },
   {
    "duration": 60,
    "start_time": "2024-01-14T14:43:51.722Z"
   },
   {
    "duration": 14,
    "start_time": "2024-01-14T14:43:51.784Z"
   },
   {
    "duration": 1095,
    "start_time": "2024-03-05T11:33:36.366Z"
   },
   {
    "duration": 213,
    "start_time": "2024-03-05T11:33:37.463Z"
   },
   {
    "duration": 21,
    "start_time": "2024-03-05T11:33:37.678Z"
   },
   {
    "duration": 35,
    "start_time": "2024-03-05T11:33:37.701Z"
   },
   {
    "duration": 16,
    "start_time": "2024-03-05T11:33:37.738Z"
   },
   {
    "duration": 27,
    "start_time": "2024-03-05T11:33:37.755Z"
   },
   {
    "duration": 18,
    "start_time": "2024-03-05T11:33:37.783Z"
   },
   {
    "duration": 581,
    "start_time": "2024-03-05T11:33:37.803Z"
   },
   {
    "duration": 219,
    "start_time": "2024-03-05T11:33:38.386Z"
   },
   {
    "duration": 300,
    "start_time": "2024-03-05T11:33:38.608Z"
   },
   {
    "duration": 243,
    "start_time": "2024-03-05T11:33:38.910Z"
   },
   {
    "duration": 362,
    "start_time": "2024-03-05T11:33:39.155Z"
   },
   {
    "duration": 152,
    "start_time": "2024-03-05T11:33:39.519Z"
   },
   {
    "duration": 5,
    "start_time": "2024-03-05T11:33:39.673Z"
   },
   {
    "duration": 164,
    "start_time": "2024-03-05T11:33:39.680Z"
   },
   {
    "duration": 163,
    "start_time": "2024-03-05T11:33:39.846Z"
   },
   {
    "duration": 5,
    "start_time": "2024-03-05T11:33:40.011Z"
   },
   {
    "duration": 349,
    "start_time": "2024-03-05T11:33:40.018Z"
   },
   {
    "duration": 10,
    "start_time": "2024-03-05T11:33:40.368Z"
   },
   {
    "duration": 32,
    "start_time": "2024-03-05T11:33:40.380Z"
   },
   {
    "duration": 13,
    "start_time": "2024-03-05T11:33:40.413Z"
   },
   {
    "duration": 1251,
    "start_time": "2024-07-18T10:10:33.096Z"
   },
   {
    "duration": 246,
    "start_time": "2024-07-18T10:10:34.348Z"
   },
   {
    "duration": 20,
    "start_time": "2024-07-18T10:10:34.595Z"
   },
   {
    "duration": 9,
    "start_time": "2024-07-18T10:10:34.617Z"
   },
   {
    "duration": 8,
    "start_time": "2024-07-18T10:10:34.627Z"
   },
   {
    "duration": 17,
    "start_time": "2024-07-18T10:10:34.637Z"
   },
   {
    "duration": 4,
    "start_time": "2024-07-18T10:10:34.655Z"
   },
   {
    "duration": 15,
    "start_time": "2024-07-18T10:10:34.660Z"
   },
   {
    "duration": 15,
    "start_time": "2024-07-18T10:10:34.677Z"
   },
   {
    "duration": 536,
    "start_time": "2024-07-18T10:10:34.695Z"
   },
   {
    "duration": 197,
    "start_time": "2024-07-18T10:10:35.233Z"
   },
   {
    "duration": 340,
    "start_time": "2024-07-18T10:10:35.431Z"
   },
   {
    "duration": 221,
    "start_time": "2024-07-18T10:10:35.773Z"
   },
   {
    "duration": 346,
    "start_time": "2024-07-18T10:10:35.995Z"
   },
   {
    "duration": 140,
    "start_time": "2024-07-18T10:10:36.342Z"
   },
   {
    "duration": 4,
    "start_time": "2024-07-18T10:10:36.483Z"
   },
   {
    "duration": 155,
    "start_time": "2024-07-18T10:10:36.489Z"
   },
   {
    "duration": 136,
    "start_time": "2024-07-18T10:10:36.645Z"
   },
   {
    "duration": 4,
    "start_time": "2024-07-18T10:10:36.782Z"
   },
   {
    "duration": 364,
    "start_time": "2024-07-18T10:10:36.788Z"
   },
   {
    "duration": 10,
    "start_time": "2024-07-18T10:10:37.153Z"
   },
   {
    "duration": 42,
    "start_time": "2024-07-18T10:10:37.165Z"
   },
   {
    "duration": 16,
    "start_time": "2024-07-18T10:10:37.208Z"
   },
   {
    "duration": 1005,
    "start_time": "2024-07-18T10:18:02.549Z"
   },
   {
    "duration": 89,
    "start_time": "2024-07-18T10:18:03.556Z"
   },
   {
    "duration": 22,
    "start_time": "2024-07-18T10:18:03.646Z"
   },
   {
    "duration": 10,
    "start_time": "2024-07-18T10:18:03.671Z"
   },
   {
    "duration": 9,
    "start_time": "2024-07-18T10:18:03.682Z"
   },
   {
    "duration": 6,
    "start_time": "2024-07-18T10:18:03.692Z"
   },
   {
    "duration": 16,
    "start_time": "2024-07-18T10:18:03.699Z"
   },
   {
    "duration": 12,
    "start_time": "2024-07-18T10:18:03.716Z"
   },
   {
    "duration": 11,
    "start_time": "2024-07-18T10:18:03.730Z"
   },
   {
    "duration": 558,
    "start_time": "2024-07-18T10:18:03.744Z"
   },
   {
    "duration": 206,
    "start_time": "2024-07-18T10:18:04.303Z"
   },
   {
    "duration": 295,
    "start_time": "2024-07-18T10:18:04.511Z"
   },
   {
    "duration": 214,
    "start_time": "2024-07-18T10:18:04.812Z"
   },
   {
    "duration": 318,
    "start_time": "2024-07-18T10:18:05.027Z"
   },
   {
    "duration": 161,
    "start_time": "2024-07-18T10:18:05.347Z"
   },
   {
    "duration": 5,
    "start_time": "2024-07-18T10:18:05.512Z"
   },
   {
    "duration": 146,
    "start_time": "2024-07-18T10:18:05.518Z"
   },
   {
    "duration": 141,
    "start_time": "2024-07-18T10:18:05.665Z"
   },
   {
    "duration": 7,
    "start_time": "2024-07-18T10:18:05.808Z"
   },
   {
    "duration": 313,
    "start_time": "2024-07-18T10:18:05.816Z"
   },
   {
    "duration": 8,
    "start_time": "2024-07-18T10:18:06.131Z"
   },
   {
    "duration": 97,
    "start_time": "2024-07-18T10:18:06.140Z"
   },
   {
    "duration": 16,
    "start_time": "2024-07-18T10:18:06.238Z"
   },
   {
    "duration": 1016,
    "start_time": "2024-07-18T10:20:48.627Z"
   },
   {
    "duration": 91,
    "start_time": "2024-07-18T10:20:49.645Z"
   },
   {
    "duration": 21,
    "start_time": "2024-07-18T10:20:49.737Z"
   },
   {
    "duration": 10,
    "start_time": "2024-07-18T10:20:49.760Z"
   },
   {
    "duration": 9,
    "start_time": "2024-07-18T10:20:49.771Z"
   },
   {
    "duration": 5,
    "start_time": "2024-07-18T10:20:49.781Z"
   },
   {
    "duration": 26,
    "start_time": "2024-07-18T10:20:49.787Z"
   },
   {
    "duration": 12,
    "start_time": "2024-07-18T10:20:49.814Z"
   },
   {
    "duration": 13,
    "start_time": "2024-07-18T10:20:49.827Z"
   },
   {
    "duration": 555,
    "start_time": "2024-07-18T10:20:49.842Z"
   },
   {
    "duration": 204,
    "start_time": "2024-07-18T10:20:50.399Z"
   },
   {
    "duration": 339,
    "start_time": "2024-07-18T10:20:50.605Z"
   },
   {
    "duration": 220,
    "start_time": "2024-07-18T10:20:50.946Z"
   },
   {
    "duration": 323,
    "start_time": "2024-07-18T10:20:51.167Z"
   },
   {
    "duration": 153,
    "start_time": "2024-07-18T10:20:51.491Z"
   },
   {
    "duration": 5,
    "start_time": "2024-07-18T10:20:51.646Z"
   },
   {
    "duration": 155,
    "start_time": "2024-07-18T10:20:51.653Z"
   },
   {
    "duration": 146,
    "start_time": "2024-07-18T10:20:51.812Z"
   },
   {
    "duration": 5,
    "start_time": "2024-07-18T10:20:51.959Z"
   },
   {
    "duration": 348,
    "start_time": "2024-07-18T10:20:51.965Z"
   },
   {
    "duration": 9,
    "start_time": "2024-07-18T10:20:52.315Z"
   },
   {
    "duration": 45,
    "start_time": "2024-07-18T10:20:52.326Z"
   },
   {
    "duration": 12,
    "start_time": "2024-07-18T10:20:52.373Z"
   }
  ],
  "kernelspec": {
   "display_name": "Python 3 (ipykernel)",
   "language": "python",
   "name": "python3"
  },
  "language_info": {
   "codemirror_mode": {
    "name": "ipython",
    "version": 3
   },
   "file_extension": ".py",
   "mimetype": "text/x-python",
   "name": "python",
   "nbconvert_exporter": "python",
   "pygments_lexer": "ipython3",
   "version": "3.11.4"
  },
  "toc": {
   "base_numbering": 1,
   "nav_menu": {},
   "number_sections": true,
   "sideBar": true,
   "skip_h1_title": true,
   "title_cell": "Table of Contents",
   "title_sidebar": "Contents",
   "toc_cell": false,
   "toc_position": {
    "height": "calc(100% - 180px)",
    "left": "10px",
    "top": "150px",
    "width": "384px"
   },
   "toc_section_display": true,
   "toc_window_display": false
  }
 },
 "nbformat": 4,
 "nbformat_minor": 2
}
